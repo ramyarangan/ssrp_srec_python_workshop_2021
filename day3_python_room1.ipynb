{
  "nbformat": 4,
  "nbformat_minor": 0,
  "metadata": {
    "colab": {
      "name": "day3_python_room1.ipynb",
      "provenance": [],
      "include_colab_link": true
    },
    "kernelspec": {
      "name": "python3",
      "display_name": "Python 3"
    },
    "language_info": {
      "name": "python"
    }
  },
  "cells": [
    {
      "cell_type": "markdown",
      "metadata": {
        "id": "view-in-github",
        "colab_type": "text"
      },
      "source": [
        "<a href=\"https://colab.research.google.com/github/ramyarangan/ssrp_srec_python_workshop_2021/blob/master/day3_python_room1.ipynb\" target=\"_parent\"><img src=\"https://colab.research.google.com/assets/colab-badge.svg\" alt=\"Open In Colab\"/></a>"
      ]
    },
    {
      "cell_type": "markdown",
      "metadata": {
        "id": "GiHYAfBH6uaJ"
      },
      "source": [
        "# Day 3: Python Basics\n",
        "Date: June 16, 2021\n",
        "\n",
        "Room 1\n",
        "\n",
        "Schedule\n",
        "\n",
        "|Session #| Time | Instructor | Helper 1 | Helper 2|\n",
        "|-|-|-|-|-|\n",
        "|1| 10:30-11:30 | Alex | Charles| |\n",
        "|2| 11:45-12:45 | Ramya | Charles | Alex |\n",
        "|3| 1:30 - 2:30| Ramya | Charles | Alex |\n",
        "\n",
        "## Learning objectives\n",
        "*   Define program variables and access/edit their values\n",
        "*   Name the different data types available in python and perform conversions between them\n",
        "* Import Python Modules and Libraries as needed\n",
        "* Use loops to repeatedly run a piece of code\n",
        "* Use conditionals to control program flow and logic\n"
      ]
    },
    {
      "cell_type": "markdown",
      "metadata": {
        "id": "PGBtb9Mp8-gc"
      },
      "source": [
        "## Session 1:\n",
        "1. Welcome to Colab!! \n",
        "2. Variables \n",
        "3. Data types"
      ]
    },
    {
      "cell_type": "code",
      "metadata": {
        "id": "CuTrtvTT9jQH"
      },
      "source": [
        "age = 34\n",
        "first_name = 'Alex'"
      ],
      "execution_count": 12,
      "outputs": []
    },
    {
      "cell_type": "code",
      "metadata": {
        "id": "abSgyJFE62U_",
        "outputId": "1a3b8407-48c4-4535-db15-4f2804a2dc67",
        "colab": {
          "base_uri": "https://localhost:8080/"
        }
      },
      "source": [
        "print(\"Mya age is \", age,\".\" , \"My name is \", first_name, \".\")"
      ],
      "execution_count": 13,
      "outputs": [
        {
          "output_type": "stream",
          "text": [
            "Mya age is  34 . My name is  Alex .\n"
          ],
          "name": "stdout"
        }
      ]
    },
    {
      "cell_type": "code",
      "metadata": {
        "id": "7uo7yJc0628G",
        "outputId": "b1393960-aec8-420c-8257-f0104224cc5d",
        "colab": {
          "base_uri": "https://localhost:8080/",
          "height": 172
        }
      },
      "source": [
        "print(last_name)"
      ],
      "execution_count": 14,
      "outputs": [
        {
          "output_type": "error",
          "ename": "NameError",
          "evalue": "ignored",
          "traceback": [
            "\u001b[0;31m---------------------------------------------------------------------------\u001b[0m",
            "\u001b[0;31mNameError\u001b[0m                                 Traceback (most recent call last)",
            "\u001b[0;32m<ipython-input-14-a637c5453549>\u001b[0m in \u001b[0;36m<module>\u001b[0;34m()\u001b[0m\n\u001b[0;32m----> 1\u001b[0;31m \u001b[0mprint\u001b[0m\u001b[0;34m(\u001b[0m\u001b[0mlast_name\u001b[0m\u001b[0;34m)\u001b[0m\u001b[0;34m\u001b[0m\u001b[0;34m\u001b[0m\u001b[0m\n\u001b[0m",
            "\u001b[0;31mNameError\u001b[0m: name 'last_name' is not defined"
          ]
        }
      ]
    },
    {
      "cell_type": "code",
      "metadata": {
        "id": "WvVKWmxi8uTI",
        "outputId": "14281f5c-f0dd-404a-953c-4f7d1aa012b1",
        "colab": {
          "base_uri": "https://localhost:8080/",
          "height": 36
        }
      },
      "source": [
        "first_name"
      ],
      "execution_count": 17,
      "outputs": [
        {
          "output_type": "execute_result",
          "data": {
            "application/vnd.google.colaboratory.intrinsic+json": {
              "type": "string"
            },
            "text/plain": [
              "'Alex'"
            ]
          },
          "metadata": {
            "tags": []
          },
          "execution_count": 17
        }
      ]
    },
    {
      "cell_type": "markdown",
      "metadata": {
        "id": "tlVsnUx-99MX"
      },
      "source": [
        "### Variables in calculations"
      ]
    },
    {
      "cell_type": "code",
      "metadata": {
        "id": "6lSG57zq-JXC",
        "outputId": "81408f45-3541-4240-f929-f09db9007e65",
        "colab": {
          "base_uri": "https://localhost:8080/"
        }
      },
      "source": [
        "print(age+3)"
      ],
      "execution_count": 18,
      "outputs": [
        {
          "output_type": "stream",
          "text": [
            "37\n"
          ],
          "name": "stdout"
        }
      ]
    },
    {
      "cell_type": "code",
      "metadata": {
        "id": "jKEhqaZD-ZWU",
        "outputId": "f55e0129-20b3-4c29-ee57-fb322b82037e",
        "colab": {
          "base_uri": "https://localhost:8080/"
        }
      },
      "source": [
        "# redefined varible: this is a comment and wont do anything age = age +100\n",
        "age = age - 3\n",
        "print(age)"
      ],
      "execution_count": 20,
      "outputs": [
        {
          "output_type": "stream",
          "text": [
            "28\n"
          ],
          "name": "stdout"
        }
      ]
    },
    {
      "cell_type": "code",
      "metadata": {
        "id": "BuP83XAG-Zdv",
        "outputId": "73777f8d-9194-48c9-e8f8-790e83197b1c",
        "colab": {
          "base_uri": "https://localhost:8080/"
        }
      },
      "source": [
        "# indexing\n",
        "print(first_name[0])"
      ],
      "execution_count": 21,
      "outputs": [
        {
          "output_type": "stream",
          "text": [
            "A\n"
          ],
          "name": "stdout"
        }
      ]
    },
    {
      "cell_type": "code",
      "metadata": {
        "id": "hFx7O3Ob-Zkp",
        "outputId": "9247faaf-8d3a-4b65-e754-0f6264b0ca87",
        "colab": {
          "base_uri": "https://localhost:8080/"
        }
      },
      "source": [
        "print(first_name[1])"
      ],
      "execution_count": 22,
      "outputs": [
        {
          "output_type": "stream",
          "text": [
            "l\n"
          ],
          "name": "stdout"
        }
      ]
    },
    {
      "cell_type": "code",
      "metadata": {
        "id": "-PHQfRpC-ZsK",
        "outputId": "6ea3ebab-ae25-4d48-9782-ca3b761280fc",
        "colab": {
          "base_uri": "https://localhost:8080/",
          "height": 190
        }
      },
      "source": [
        "age = 34\n",
        "print(age[0])"
      ],
      "execution_count": 26,
      "outputs": [
        {
          "output_type": "error",
          "ename": "TypeError",
          "evalue": "ignored",
          "traceback": [
            "\u001b[0;31m---------------------------------------------------------------------------\u001b[0m",
            "\u001b[0;31mTypeError\u001b[0m                                 Traceback (most recent call last)",
            "\u001b[0;32m<ipython-input-26-8e8ea1147cbe>\u001b[0m in \u001b[0;36m<module>\u001b[0;34m()\u001b[0m\n\u001b[1;32m      1\u001b[0m \u001b[0mage\u001b[0m \u001b[0;34m=\u001b[0m \u001b[0;36m34\u001b[0m\u001b[0;34m\u001b[0m\u001b[0;34m\u001b[0m\u001b[0m\n\u001b[0;32m----> 2\u001b[0;31m \u001b[0mprint\u001b[0m\u001b[0;34m(\u001b[0m\u001b[0mage\u001b[0m\u001b[0;34m[\u001b[0m\u001b[0;36m0\u001b[0m\u001b[0;34m]\u001b[0m\u001b[0;34m)\u001b[0m\u001b[0;34m\u001b[0m\u001b[0;34m\u001b[0m\u001b[0m\n\u001b[0m",
            "\u001b[0;31mTypeError\u001b[0m: 'int' object is not subscriptable"
          ]
        }
      ]
    },
    {
      "cell_type": "code",
      "metadata": {
        "id": "PKNegrHj_pIq",
        "outputId": "d7fb7680-aa4f-4655-e2b5-e345fdc1bc0c",
        "colab": {
          "base_uri": "https://localhost:8080/"
        }
      },
      "source": [
        "print(\"The length of \", first_name, \"is\", len(first_name))"
      ],
      "execution_count": 28,
      "outputs": [
        {
          "output_type": "stream",
          "text": [
            "The length of  Alex is 4\n"
          ],
          "name": "stdout"
        }
      ]
    },
    {
      "cell_type": "code",
      "metadata": {
        "id": "UlFv7Wbj_87e",
        "outputId": "0a8fd001-ede4-4f74-b3b7-53cd71b541ad",
        "colab": {
          "base_uri": "https://localhost:8080/",
          "height": 172
        }
      },
      "source": [
        "print(len(age))"
      ],
      "execution_count": 30,
      "outputs": [
        {
          "output_type": "error",
          "ename": "TypeError",
          "evalue": "ignored",
          "traceback": [
            "\u001b[0;31m---------------------------------------------------------------------------\u001b[0m",
            "\u001b[0;31mTypeError\u001b[0m                                 Traceback (most recent call last)",
            "\u001b[0;32m<ipython-input-30-8051ad298bc4>\u001b[0m in \u001b[0;36m<module>\u001b[0;34m()\u001b[0m\n\u001b[0;32m----> 1\u001b[0;31m \u001b[0mprint\u001b[0m\u001b[0;34m(\u001b[0m\u001b[0mlen\u001b[0m\u001b[0;34m(\u001b[0m\u001b[0mage\u001b[0m\u001b[0;34m)\u001b[0m\u001b[0;34m)\u001b[0m\u001b[0;34m\u001b[0m\u001b[0;34m\u001b[0m\u001b[0m\n\u001b[0m",
            "\u001b[0;31mTypeError\u001b[0m: object of type 'int' has no len()"
          ]
        }
      ]
    },
    {
      "cell_type": "code",
      "metadata": {
        "id": "5Sv_SAUrATmy",
        "outputId": "33b088b8-f149-45cf-aaf6-922b635653a3",
        "colab": {
          "base_uri": "https://localhost:8080/"
        }
      },
      "source": [
        "# python is case SenSetive\n",
        "First_Name = \"Charles\"\n",
        "print(First_Name)"
      ],
      "execution_count": 32,
      "outputs": [
        {
          "output_type": "stream",
          "text": [
            "Charles\n"
          ],
          "name": "stdout"
        }
      ]
    },
    {
      "cell_type": "markdown",
      "metadata": {
        "id": "TG2xw-IrAqs8"
      },
      "source": [
        "## Exercise:"
      ]
    },
    {
      "cell_type": "code",
      "metadata": {
        "id": "elSSWgxXA0Lf"
      },
      "source": [
        "x = 1.0\n",
        "y = 3.0"
      ],
      "execution_count": 33,
      "outputs": []
    },
    {
      "cell_type": "code",
      "metadata": {
        "id": "rA-8n6GGA0qo"
      },
      "source": [
        "swap = x"
      ],
      "execution_count": 34,
      "outputs": []
    },
    {
      "cell_type": "code",
      "metadata": {
        "id": "A0w_qwmiBBJa"
      },
      "source": [
        "x = y"
      ],
      "execution_count": 35,
      "outputs": []
    },
    {
      "cell_type": "code",
      "metadata": {
        "id": "TMGNulMoBEco",
        "outputId": "7f3f1188-b135-4cb5-b3d6-ddb98ecd4fd5",
        "colab": {
          "base_uri": "https://localhost:8080/"
        }
      },
      "source": [
        "print(swap)\n",
        "print(x)"
      ],
      "execution_count": 38,
      "outputs": [
        {
          "output_type": "stream",
          "text": [
            "1.0\n",
            "3.0\n"
          ],
          "name": "stdout"
        }
      ]
    },
    {
      "cell_type": "code",
      "metadata": {
        "id": "WZtx-W_ZBmrA",
        "outputId": "55f10602-eb7b-4a5e-8774-b50e93db35ac",
        "colab": {
          "base_uri": "https://localhost:8080/"
        }
      },
      "source": [
        "y = swap\n",
        "print(y)"
      ],
      "execution_count": 39,
      "outputs": [
        {
          "output_type": "stream",
          "text": [
            "1.0\n"
          ],
          "name": "stdout"
        }
      ]
    },
    {
      "cell_type": "code",
      "metadata": {
        "id": "cIs-rSIiB5Nh"
      },
      "source": [
        ""
      ],
      "execution_count": null,
      "outputs": []
    },
    {
      "cell_type": "markdown",
      "metadata": {
        "id": "q-QN464JB9Aq"
      },
      "source": [
        "### Predicting Values"
      ]
    },
    {
      "cell_type": "code",
      "metadata": {
        "id": "VRWd4ZwSCDbZ"
      },
      "source": [
        "initial = \"left\"\n",
        "position = initial\n",
        "initial = \"right\""
      ],
      "execution_count": 41,
      "outputs": []
    },
    {
      "cell_type": "code",
      "metadata": {
        "id": "OdTSOk5GCDm7",
        "outputId": "37ceb448-b666-43b2-b59a-f85a134d6a3d",
        "colab": {
          "base_uri": "https://localhost:8080/"
        }
      },
      "source": [
        "print(position)"
      ],
      "execution_count": 42,
      "outputs": [
        {
          "output_type": "stream",
          "text": [
            "left\n"
          ],
          "name": "stdout"
        }
      ]
    },
    {
      "cell_type": "markdown",
      "metadata": {
        "id": "n7ML3yMOCoTH"
      },
      "source": [
        "Naming:"
      ]
    },
    {
      "cell_type": "code",
      "metadata": {
        "id": "LU1uy_UjCDxU"
      },
      "source": [
        "ts = m * 60 + s\n",
        "tot_sec = min*60+sec\n",
        "total_seconds = minutes*60 + seconds"
      ],
      "execution_count": null,
      "outputs": []
    },
    {
      "cell_type": "code",
      "metadata": {
        "id": "qMII3pt0CD87"
      },
      "source": [
        "?min"
      ],
      "execution_count": 44,
      "outputs": []
    },
    {
      "cell_type": "code",
      "metadata": {
        "id": "dx-5-NVXCEFx"
      },
      "source": [
        ""
      ],
      "execution_count": null,
      "outputs": []
    },
    {
      "cell_type": "markdown",
      "metadata": {
        "id": "aiPVud2pDj09"
      },
      "source": [
        "Slicing"
      ]
    },
    {
      "cell_type": "code",
      "metadata": {
        "id": "hH4dGW5RDrNY",
        "outputId": "2843a827-389e-4f96-c509-c701ffca35d1",
        "colab": {
          "base_uri": "https://localhost:8080/"
        }
      },
      "source": [
        "atom_name = 'carbon'\n",
        "print(atom_name[0:3])"
      ],
      "execution_count": 45,
      "outputs": [
        {
          "output_type": "stream",
          "text": [
            "car\n"
          ],
          "name": "stdout"
        }
      ]
    },
    {
      "cell_type": "code",
      "metadata": {
        "id": "gLZ0GNRfDra5",
        "outputId": "9db4b1d1-e773-4232-f5e6-fa995818c95f",
        "colab": {
          "base_uri": "https://localhost:8080/"
        }
      },
      "source": [
        "print(atom_name[3])"
      ],
      "execution_count": 46,
      "outputs": [
        {
          "output_type": "stream",
          "text": [
            "b\n"
          ],
          "name": "stdout"
        }
      ]
    },
    {
      "cell_type": "code",
      "metadata": {
        "id": "pGO3zZ04DriZ",
        "outputId": "41571ed8-c0d7-4532-9afa-df0a011acb1f",
        "colab": {
          "base_uri": "https://localhost:8080/"
        }
      },
      "source": [
        "print(atom_name[1:4])"
      ],
      "execution_count": 47,
      "outputs": [
        {
          "output_type": "stream",
          "text": [
            "arb\n"
          ],
          "name": "stdout"
        }
      ]
    },
    {
      "cell_type": "code",
      "metadata": {
        "id": "GI09dVNJEOli",
        "outputId": "15384b10-8d48-497c-a2f1-a5e2bf0a836e",
        "colab": {
          "base_uri": "https://localhost:8080/"
        }
      },
      "source": [
        "print(atom_name[-1::-1])"
      ],
      "execution_count": 49,
      "outputs": [
        {
          "output_type": "stream",
          "text": [
            "nobrac\n"
          ],
          "name": "stdout"
        }
      ]
    },
    {
      "cell_type": "code",
      "metadata": {
        "id": "95uzDSMLEyMk",
        "outputId": "2a5bfeb8-6c8c-4b32-d899-a3864588b4f6",
        "colab": {
          "base_uri": "https://localhost:8080/"
        }
      },
      "source": [
        "print(atom_name[0::2])"
      ],
      "execution_count": 50,
      "outputs": [
        {
          "output_type": "stream",
          "text": [
            "cro\n"
          ],
          "name": "stdout"
        }
      ]
    },
    {
      "cell_type": "code",
      "metadata": {
        "id": "hwfMfgV0E_tC",
        "outputId": "1845013a-2852-4b04-f0a5-8355cf82a1ea",
        "colab": {
          "base_uri": "https://localhost:8080/"
        }
      },
      "source": [
        "print(atom_name[0:4:2])"
      ],
      "execution_count": 51,
      "outputs": [
        {
          "output_type": "stream",
          "text": [
            "cr\n"
          ],
          "name": "stdout"
        }
      ]
    },
    {
      "cell_type": "markdown",
      "metadata": {
        "id": "CmlM0F2zFO8o"
      },
      "source": [
        "### Data Types"
      ]
    },
    {
      "cell_type": "code",
      "metadata": {
        "id": "4GfYx4eaFZ2_",
        "outputId": "acc26cd0-7d32-425a-c6d9-9701914f7faa",
        "colab": {
          "base_uri": "https://localhost:8080/"
        }
      },
      "source": [
        "age = 30\n",
        "print(type(age))"
      ],
      "execution_count": 52,
      "outputs": [
        {
          "output_type": "stream",
          "text": [
            "<class 'int'>\n"
          ],
          "name": "stdout"
        }
      ]
    },
    {
      "cell_type": "code",
      "metadata": {
        "id": "VGS9pKxEFaB5",
        "outputId": "4fc3f8e7-a674-42e3-ee7d-979ed4d4be26",
        "colab": {
          "base_uri": "https://localhost:8080/"
        }
      },
      "source": [
        "first_name = \"Alex\"\n",
        "print(type(first_name))"
      ],
      "execution_count": 53,
      "outputs": [
        {
          "output_type": "stream",
          "text": [
            "<class 'str'>\n"
          ],
          "name": "stdout"
        }
      ]
    },
    {
      "cell_type": "code",
      "metadata": {
        "id": "6C3pZZZwFaIH",
        "outputId": "340128a2-59d2-4939-e1d2-2107790bfb21",
        "colab": {
          "base_uri": "https://localhost:8080/"
        }
      },
      "source": [
        "age = 30.0\n",
        "print(type(age))"
      ],
      "execution_count": 54,
      "outputs": [
        {
          "output_type": "stream",
          "text": [
            "<class 'float'>\n"
          ],
          "name": "stdout"
        }
      ]
    },
    {
      "cell_type": "markdown",
      "metadata": {
        "id": "TiMj1cG79SPK"
      },
      "source": [
        "## Session 2:\n",
        "1. python functions\n",
        "2. help\n",
        "3. libraries"
      ]
    },
    {
      "cell_type": "markdown",
      "metadata": {
        "id": "D213xRz29i-e"
      },
      "source": [
        "## Session 3:\n",
        "1. Lists\n",
        "2. Loops\n",
        "3. Conditionals"
      ]
    },
    {
      "cell_type": "code",
      "metadata": {
        "id": "MgFP4Tb7-xmO"
      },
      "source": [
        ""
      ],
      "execution_count": null,
      "outputs": []
    }
  ]
}