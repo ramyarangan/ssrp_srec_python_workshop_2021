{
  "nbformat": 4,
  "nbformat_minor": 0,
  "cells": [
    {
      "cell_type": "markdown",
      "metadata": {
        "id": "view-in-github",
        "colab_type": "text"
      },
      "source": [
        "<a href=\"https://colab.research.google.com/github/ramyarangan/ssrp_srec_python_workshop_2021/blob/master/day3_python_room1.ipynb\" target=\"_parent\"><img src=\"https://colab.research.google.com/assets/colab-badge.svg\" alt=\"Open In Colab\"/></a>"
      ]
    },
    {
      "cell_type": "markdown",
      "metadata": {
        "id": "GiHYAfBH6uaJ"
      },
      "source": [
        "# Day 3: Python Basics\n",
        "Date: June 16, 2021\n",
        "\n",
        "Room 1\n",
        "\n",
        "Schedule\n",
        "\n",
        "|Session #| Time | Instructor | Helper 1 | Helper 2|\n",
        "|-|-|-|-|-|\n",
        "|1| 10:30-11:30 | Alex | Charles| |\n",
        "|2| 11:45-12:45 | Ramya | Charles | Alex |\n",
        "|3| 1:30 - 2:30| Ramya | Charles | Alex |\n",
        "\n",
        "## Learning objectives\n",
        "*   Define program variables and access/edit their values\n",
        "*   Name the different data types available in python and perform conversions between them\n",
        "* Import Python Modules and Libraries as needed\n",
        "* Use loops to repeatedly run a piece of code\n",
        "* Use conditionals to control program flow and logic\n"
      ]
    },
    {
      "cell_type": "markdown",
      "metadata": {
        "id": "PGBtb9Mp8-gc"
      },
      "source": [
        "## Session 1:\n",
        "1. Welcome to Colab!! \n",
        "2. Variables \n",
        "3. Data types"
      ]
    },
    {
      "cell_type": "markdown",
      "metadata": {
        "id": "TiMj1cG79SPK"
      },
      "source": [
        "## Session 2:\n",
        "1. python functions\n",
        "2. help\n",
        "3. libraries"
      ]
    },
    {
      "cell_type": "markdown",
      "metadata": {
        "id": "D213xRz29i-e"
      },
      "source": [
        "## Session 3:\n",
        "1. Lists\n",
        "2. Loops\n",
        "3. Conditionals"
      ]
    },
    {
      "cell_type": "code",
      "metadata": {
        "id": "MgFP4Tb7-xmO"
      },
      "source": [
        ""
      ],
      "execution_count": null,
      "outputs": []
    }
  ]
}
