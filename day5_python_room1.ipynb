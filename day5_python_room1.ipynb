{
  "nbformat": 4,
  "nbformat_minor": 0,
  "metadata": {
    "colab": {
      "name": "day5_python_room1.ipynb",
      "provenance": [],
      "include_colab_link": true
    },
    "kernelspec": {
      "name": "python3",
      "display_name": "Python 3"
    },
    "language_info": {
      "name": "python"
    }
  },
  "cells": [
    {
      "cell_type": "markdown",
      "metadata": {
        "id": "view-in-github",
        "colab_type": "text"
      },
      "source": [
        "<a href=\"https://colab.research.google.com/github/ramyarangan/ssrp_srec_python_workshop_2021/blob/master/day5_python_room1.ipynb\" target=\"_parent\"><img src=\"https://colab.research.google.com/assets/colab-badge.svg\" alt=\"Open In Colab\"/></a>"
      ]
    },
    {
      "cell_type": "code",
      "metadata": {
        "id": "wXg5N336SB-9"
      },
      "source": [
        ""
      ],
      "execution_count": null,
      "outputs": []
    },
    {
      "cell_type": "markdown",
      "metadata": {
        "id": "qcD1xhWoBYIx"
      },
      "source": [
        "# Day 5: Scope, Numpy, Command Line Python, and \n",
        "Date: June 18, 2021\n",
        "\n",
        "Room 1\n",
        "\n",
        "Schedule\n",
        "\n",
        "|Session #| Time | Instructor | Helper 1 | Helper 2|\n",
        "|-|-|-|-|-|\n",
        "|1| 10:30-11:30 | Roshni| Rachael | Alex |\n",
        "| Break 1 | 11:30-11:45 |\n",
        "|2| 11:45-12:45 | Alex | Roshni | Rachael |\n",
        "|Lunch Break| 12:45 - 1:30|\n",
        "|3| 1:30 - 2:30| Roshni |\n",
        "|Break| 2:30 - 2:45|\n",
        "| Next Steps| 2:45-3:30|Ramya |\n",
        "\n",
        "## Learning objectives\n",
        "1. Learn about variable scoping\n",
        "2. Explain why the numpy library is useful to work with tabular data and perform statistical analysis\n",
        "3. Use the PEP-8 convention for programming style and best practices\n",
        "4. Test their own code and libraries for fidelity\n",
        "5. Run a python script directly from the command line\n",
        "6. Know resources where they can look for the future\n"
      ]
    },
    {
      "cell_type": "markdown",
      "metadata": {
        "id": "kLUELGPnI8VJ"
      },
      "source": [
        "## Session 1"
      ]
    },
    {
      "cell_type": "code",
      "metadata": {
        "id": "rEIAsTnLPqCZ"
      },
      "source": [
        "eggs_per_carton = 15\n",
        "\n",
        "def egg_counter(num_cartons): total_eggs = num_cartons * eggs_per_carton return(total_eggs)\n",
        "\n",
        "egg_counter(3)\n",
        "\n",
        "print(num_cartons) #you never assigned num_cartons to anything --> num_cartons undefined\n",
        "print(total_eggs) #total_eggs not defined outside the function"
      ],
      "execution_count": null,
      "outputs": []
    },
    {
      "cell_type": "code",
      "metadata": {
        "id": "-ctnOo-zPriT",
        "outputId": "ebe028a0-b8e5-423b-de75-83caae8d4b7b",
        "colab": {
          "base_uri": "https://localhost:8080/"
        }
      },
      "source": [
        "eggs_per_carton = 15\n",
        "\n",
        "def egg_counter(num_cartons, eggs_per_carton): \n",
        "  total_eggs = num_cartons * eggs_per_carton\n",
        "  return(total_eggs)\n",
        "\n",
        "egg_counter(3, 10) # 30 --> priority to what is defined inside the function\n",
        "print(eggs_per_carton)"
      ],
      "execution_count": 4,
      "outputs": [
        {
          "output_type": "stream",
          "text": [
            "15\n"
          ],
          "name": "stdout"
        }
      ]
    },
    {
      "cell_type": "code",
      "metadata": {
        "id": "iAutVRm3Qn0o",
        "outputId": "500b3ca6-7222-4a7d-824a-0b37e862b946",
        "colab": {
          "base_uri": "https://localhost:8080/"
        }
      },
      "source": [
        "eggs_per_carton = 15\n",
        "\n",
        "def egg_counter(num_cartons, eggs_per_cartons): \n",
        "  total_eggs = num_cartons * eggs_per_carton\n",
        "  return(total_eggs)\n",
        "\n",
        "egg_counter(3, 10) # 30 --> priority to what is defined inside the function\n",
        "# general coding good practice : keep as few variables defined outisde of fucntions, use dedicated variable names inside functions"
      ],
      "execution_count": 5,
      "outputs": [
        {
          "output_type": "execute_result",
          "data": {
            "text/plain": [
              "45"
            ]
          },
          "metadata": {
            "tags": []
          },
          "execution_count": 5
        }
      ]
    },
    {
      "cell_type": "markdown",
      "metadata": {
        "id": "51eNWla-I_in"
      },
      "source": [
        "## Session 2"
      ]
    },
    {
      "cell_type": "markdown",
      "metadata": {
        "id": "MF9g89pfI_y4"
      },
      "source": [
        "Numpy\n",
        "numpy is a library to do maths with collections of numbers (vectors or arrays, matrices)"
      ]
    },
    {
      "cell_type": "code",
      "metadata": {
        "id": "TWuM7llESEZf",
        "outputId": "4f21e0d5-e8ed-4bc3-e312-6e78715494e5",
        "colab": {
          "base_uri": "https://localhost:8080/"
        }
      },
      "source": [
        "alist = [1,5,10,12,3]\n",
        "alist"
      ],
      "execution_count": 7,
      "outputs": [
        {
          "output_type": "execute_result",
          "data": {
            "text/plain": [
              "[1, 5, 10, 12, 3]"
            ]
          },
          "metadata": {
            "tags": []
          },
          "execution_count": 7
        }
      ]
    },
    {
      "cell_type": "code",
      "metadata": {
        "id": "ZVmiNKwqSPQG",
        "outputId": "0abf4fd1-66b2-419c-c271-d47b5cdb610d",
        "colab": {
          "base_uri": "https://localhost:8080/",
          "height": 164
        }
      },
      "source": [
        "alist_new = alist + 1"
      ],
      "execution_count": 8,
      "outputs": [
        {
          "output_type": "error",
          "ename": "TypeError",
          "evalue": "ignored",
          "traceback": [
            "\u001b[0;31m---------------------------------------------------------------------------\u001b[0m",
            "\u001b[0;31mTypeError\u001b[0m                                 Traceback (most recent call last)",
            "\u001b[0;32m<ipython-input-8-41a91e40b7dc>\u001b[0m in \u001b[0;36m<module>\u001b[0;34m()\u001b[0m\n\u001b[0;32m----> 1\u001b[0;31m \u001b[0malist_new\u001b[0m \u001b[0;34m=\u001b[0m \u001b[0malist\u001b[0m \u001b[0;34m+\u001b[0m \u001b[0;36m1\u001b[0m\u001b[0;34m\u001b[0m\u001b[0;34m\u001b[0m\u001b[0m\n\u001b[0m",
            "\u001b[0;31mTypeError\u001b[0m: can only concatenate list (not \"int\") to list"
          ]
        }
      ]
    },
    {
      "cell_type": "code",
      "metadata": {
        "id": "uPUhGjfzSfIv"
      },
      "source": [
        "alist_new = alist.append(1) # inplace operation , modifies the list you use"
      ],
      "execution_count": 9,
      "outputs": []
    },
    {
      "cell_type": "code",
      "metadata": {
        "id": "5Bw-JsJRSjkB",
        "outputId": "cac71d9a-ce60-4b6c-e34d-40153ccde440",
        "colab": {
          "base_uri": "https://localhost:8080/"
        }
      },
      "source": [
        "alist"
      ],
      "execution_count": 11,
      "outputs": [
        {
          "output_type": "execute_result",
          "data": {
            "text/plain": [
              "[1, 5, 10, 12, 3, 1]"
            ]
          },
          "metadata": {
            "tags": []
          },
          "execution_count": 11
        }
      ]
    },
    {
      "cell_type": "code",
      "metadata": {
        "id": "LiZ34UR4StHv",
        "outputId": "3f5163f4-472a-49b8-8572-f48623446426",
        "colab": {
          "base_uri": "https://localhost:8080/"
        }
      },
      "source": [
        "# no direct way to do + 1 in a list\n",
        "# we could write a for loop\n",
        "alist_new = []\n",
        "for value in alist:\n",
        "  alist_new.append(value + 1)\n",
        "print(alist_new)\n"
      ],
      "execution_count": 12,
      "outputs": [
        {
          "output_type": "stream",
          "text": [
            "[2, 6, 11, 13, 4, 2]\n"
          ],
          "name": "stdout"
        }
      ]
    },
    {
      "cell_type": "code",
      "metadata": {
        "id": "FfTEiFPATDI3"
      },
      "source": [
        "alist**2+(alist-1)+cos(alist)"
      ],
      "execution_count": null,
      "outputs": []
    },
    {
      "cell_type": "code",
      "metadata": {
        "id": "9IlGIG3mTJ2m"
      },
      "source": [
        "import numpy as np"
      ],
      "execution_count": 13,
      "outputs": []
    },
    {
      "cell_type": "code",
      "metadata": {
        "id": "hqugerJrTcbP",
        "outputId": "be49f46b-4e71-4218-cab2-06cb093f74c8",
        "colab": {
          "base_uri": "https://localhost:8080/"
        }
      },
      "source": [
        "\n",
        "alist"
      ],
      "execution_count": 16,
      "outputs": [
        {
          "output_type": "execute_result",
          "data": {
            "text/plain": [
              "[1, 5, 10, 12, 3, 1]"
            ]
          },
          "metadata": {
            "tags": []
          },
          "execution_count": 16
        }
      ]
    },
    {
      "cell_type": "code",
      "metadata": {
        "id": "ivSOynXqTPrW",
        "outputId": "79436b28-2763-4def-f064-f365c8df73cf",
        "colab": {
          "base_uri": "https://localhost:8080/"
        }
      },
      "source": [
        "# create numpy array\n",
        "x = np.array(alist)\n",
        "print(x)"
      ],
      "execution_count": 15,
      "outputs": [
        {
          "output_type": "stream",
          "text": [
            "[ 1  5 10 12  3  1]\n"
          ],
          "name": "stdout"
        }
      ]
    },
    {
      "cell_type": "code",
      "metadata": {
        "id": "sPzzzTAhTem5",
        "outputId": "2425d61f-4eb9-41fc-8b2b-98dcb37c1605",
        "colab": {
          "base_uri": "https://localhost:8080/"
        }
      },
      "source": [
        "x + 1 # math friendly"
      ],
      "execution_count": 17,
      "outputs": [
        {
          "output_type": "execute_result",
          "data": {
            "text/plain": [
              "array([ 2,  6, 11, 13,  4,  2])"
            ]
          },
          "metadata": {
            "tags": []
          },
          "execution_count": 17
        }
      ]
    },
    {
      "cell_type": "code",
      "metadata": {
        "id": "qIexl77oTnbD",
        "outputId": "9ae56b7d-9e76-4613-ffb3-9ea52639496a",
        "colab": {
          "base_uri": "https://localhost:8080/"
        }
      },
      "source": [
        "# y=x^2 + 2x\n",
        "y=x**2 + 2*x\n",
        "y"
      ],
      "execution_count": 19,
      "outputs": [
        {
          "output_type": "execute_result",
          "data": {
            "text/plain": [
              "array([  3,  35, 120, 168,  15,   3])"
            ]
          },
          "metadata": {
            "tags": []
          },
          "execution_count": 19
        }
      ]
    },
    {
      "cell_type": "code",
      "metadata": {
        "id": "dGra4ZKkT88s",
        "outputId": "5c399ff0-fa4f-41ec-ae28-d5921b4db5e8",
        "colab": {
          "base_uri": "https://localhost:8080/"
        }
      },
      "source": [
        "type(alist)"
      ],
      "execution_count": 20,
      "outputs": [
        {
          "output_type": "execute_result",
          "data": {
            "text/plain": [
              "list"
            ]
          },
          "metadata": {
            "tags": []
          },
          "execution_count": 20
        }
      ]
    },
    {
      "cell_type": "code",
      "metadata": {
        "id": "W-UydEXmUAdd",
        "outputId": "e3580aa2-ef33-437e-a24d-f003348b3602",
        "colab": {
          "base_uri": "https://localhost:8080/"
        }
      },
      "source": [
        "type(x) #numpy.ndarray is the core data structure in numpy"
      ],
      "execution_count": 21,
      "outputs": [
        {
          "output_type": "execute_result",
          "data": {
            "text/plain": [
              "numpy.ndarray"
            ]
          },
          "metadata": {
            "tags": []
          },
          "execution_count": 21
        }
      ]
    },
    {
      "cell_type": "code",
      "metadata": {
        "id": "GzUz4XvpUHtv",
        "outputId": "ca5052ac-e4a1-4d6c-95be-50ff2888f8a3",
        "colab": {
          "base_uri": "https://localhost:8080/"
        }
      },
      "source": [
        "x.shape"
      ],
      "execution_count": 22,
      "outputs": [
        {
          "output_type": "execute_result",
          "data": {
            "text/plain": [
              "(6,)"
            ]
          },
          "metadata": {
            "tags": []
          },
          "execution_count": 22
        }
      ]
    },
    {
      "cell_type": "code",
      "metadata": {
        "id": "j-jWP613UOYJ"
      },
      "source": [
        "# make a two dimensional array\n",
        "M = [[1, 3, 5],[-1, 10, 6]]\n"
      ],
      "execution_count": 23,
      "outputs": []
    },
    {
      "cell_type": "code",
      "metadata": {
        "id": "4WDpSfKDUeYf",
        "outputId": "db5fd27f-6983-4dcc-d337-dff69efdac47",
        "colab": {
          "base_uri": "https://localhost:8080/"
        }
      },
      "source": [
        "type(M)"
      ],
      "execution_count": 24,
      "outputs": [
        {
          "output_type": "execute_result",
          "data": {
            "text/plain": [
              "list"
            ]
          },
          "metadata": {
            "tags": []
          },
          "execution_count": 24
        }
      ]
    },
    {
      "cell_type": "code",
      "metadata": {
        "id": "6elPLNkdUjFR",
        "outputId": "93a43330-81d3-4207-d0a7-7b4bf0582b88",
        "colab": {
          "base_uri": "https://localhost:8080/"
        }
      },
      "source": [
        "# convert M to a numpy 2d array\n",
        "M_array=np.array(M)\n",
        "M_array"
      ],
      "execution_count": 26,
      "outputs": [
        {
          "output_type": "execute_result",
          "data": {
            "text/plain": [
              "array([[ 1,  3,  5],\n",
              "       [-1, 10,  6]])"
            ]
          },
          "metadata": {
            "tags": []
          },
          "execution_count": 26
        }
      ]
    },
    {
      "cell_type": "code",
      "metadata": {
        "id": "CSQT94lwUtZD",
        "outputId": "ede06231-5fc5-4e52-dec3-2c41ce98de54",
        "colab": {
          "base_uri": "https://localhost:8080/"
        }
      },
      "source": [
        "type(M_array)"
      ],
      "execution_count": 27,
      "outputs": [
        {
          "output_type": "execute_result",
          "data": {
            "text/plain": [
              "numpy.ndarray"
            ]
          },
          "metadata": {
            "tags": []
          },
          "execution_count": 27
        }
      ]
    },
    {
      "cell_type": "code",
      "metadata": {
        "id": "PBSpMilzUvxD",
        "outputId": "ec8a08e0-0908-4030-9e57-6d202b172c27",
        "colab": {
          "base_uri": "https://localhost:8080/"
        }
      },
      "source": [
        "M_array.shape"
      ],
      "execution_count": 28,
      "outputs": [
        {
          "output_type": "execute_result",
          "data": {
            "text/plain": [
              "(2, 3)"
            ]
          },
          "metadata": {
            "tags": []
          },
          "execution_count": 28
        }
      ]
    },
    {
      "cell_type": "code",
      "metadata": {
        "id": "WTWPc775U_db",
        "outputId": "a4ace2d7-d1fe-454b-bab3-ffb7236f382c",
        "colab": {
          "base_uri": "https://localhost:8080/"
        }
      },
      "source": [
        "M2=np.array([[1,2,3],[4,5,8],[0,0,0]])\n",
        "M2"
      ],
      "execution_count": 30,
      "outputs": [
        {
          "output_type": "execute_result",
          "data": {
            "text/plain": [
              "array([[1, 2, 3],\n",
              "       [4, 5, 8],\n",
              "       [0, 0, 0]])"
            ]
          },
          "metadata": {
            "tags": []
          },
          "execution_count": 30
        }
      ]
    },
    {
      "cell_type": "markdown",
      "metadata": {
        "id": "9dColcR1VMAd"
      },
      "source": [
        "Slicing"
      ]
    },
    {
      "cell_type": "code",
      "metadata": {
        "id": "x4kWNb_9VXUe",
        "outputId": "14659bd8-18db-486e-dd0c-b24a0f0ba3d8",
        "colab": {
          "base_uri": "https://localhost:8080/"
        }
      },
      "source": [
        "# get the 2 row of this matrix M2\n",
        "M2[1, :] # M[row_pos, col_pos]"
      ],
      "execution_count": 32,
      "outputs": [
        {
          "output_type": "execute_result",
          "data": {
            "text/plain": [
              "array([4, 5, 8])"
            ]
          },
          "metadata": {
            "tags": []
          },
          "execution_count": 32
        }
      ]
    },
    {
      "cell_type": "code",
      "metadata": {
        "id": "tHVygYRpVxtk",
        "outputId": "a76fb3f5-7f74-4f91-8879-34f4637c2ed0",
        "colab": {
          "base_uri": "https://localhost:8080/"
        }
      },
      "source": [
        "# first 2 rows, columns 2 and 3\n",
        "M2[0:2,[1,2]]\n",
        "M2[0:2, 1:3]"
      ],
      "execution_count": 35,
      "outputs": [
        {
          "output_type": "execute_result",
          "data": {
            "text/plain": [
              "array([[2, 3],\n",
              "       [5, 8]])"
            ]
          },
          "metadata": {
            "tags": []
          },
          "execution_count": 35
        }
      ]
    },
    {
      "cell_type": "code",
      "metadata": {
        "id": "2Ym5_-jEWXX3",
        "outputId": "a87e825c-5571-495e-a3a0-0279993fc491",
        "colab": {
          "base_uri": "https://localhost:8080/",
          "height": 143
        }
      },
      "source": [
        "# numpy array to pandas dataframe\n",
        "import pandas as pd\n",
        "# rcall earlier we loaded data from external file : pd.read_csv(filename)\n",
        "# here we make the df from scratch\n",
        "df=pd.DataFrame(M2)\n",
        "df"
      ],
      "execution_count": 36,
      "outputs": [
        {
          "output_type": "execute_result",
          "data": {
            "text/html": [
              "<div>\n",
              "<style scoped>\n",
              "    .dataframe tbody tr th:only-of-type {\n",
              "        vertical-align: middle;\n",
              "    }\n",
              "\n",
              "    .dataframe tbody tr th {\n",
              "        vertical-align: top;\n",
              "    }\n",
              "\n",
              "    .dataframe thead th {\n",
              "        text-align: right;\n",
              "    }\n",
              "</style>\n",
              "<table border=\"1\" class=\"dataframe\">\n",
              "  <thead>\n",
              "    <tr style=\"text-align: right;\">\n",
              "      <th></th>\n",
              "      <th>0</th>\n",
              "      <th>1</th>\n",
              "      <th>2</th>\n",
              "    </tr>\n",
              "  </thead>\n",
              "  <tbody>\n",
              "    <tr>\n",
              "      <th>0</th>\n",
              "      <td>1</td>\n",
              "      <td>2</td>\n",
              "      <td>3</td>\n",
              "    </tr>\n",
              "    <tr>\n",
              "      <th>1</th>\n",
              "      <td>4</td>\n",
              "      <td>5</td>\n",
              "      <td>8</td>\n",
              "    </tr>\n",
              "    <tr>\n",
              "      <th>2</th>\n",
              "      <td>0</td>\n",
              "      <td>0</td>\n",
              "      <td>0</td>\n",
              "    </tr>\n",
              "  </tbody>\n",
              "</table>\n",
              "</div>"
            ],
            "text/plain": [
              "   0  1  2\n",
              "0  1  2  3\n",
              "1  4  5  8\n",
              "2  0  0  0"
            ]
          },
          "metadata": {
            "tags": []
          },
          "execution_count": 36
        }
      ]
    },
    {
      "cell_type": "code",
      "metadata": {
        "id": "f8U63LQhWxVL",
        "outputId": "846189a9-3ac9-410e-854b-861f6e236b45",
        "colab": {
          "base_uri": "https://localhost:8080/",
          "height": 143
        }
      },
      "source": [
        "\n",
        "# we want to give names to the rows and columns\n",
        "# rows are days : day0, day1, day2\n",
        "# columns are cities : seattle, denver, ny\n",
        "df=pd.DataFrame(M2,index=['day0','day1','day2'], columns=['seattle','denver','ny'])\n",
        "df"
      ],
      "execution_count": 37,
      "outputs": [
        {
          "output_type": "execute_result",
          "data": {
            "text/html": [
              "<div>\n",
              "<style scoped>\n",
              "    .dataframe tbody tr th:only-of-type {\n",
              "        vertical-align: middle;\n",
              "    }\n",
              "\n",
              "    .dataframe tbody tr th {\n",
              "        vertical-align: top;\n",
              "    }\n",
              "\n",
              "    .dataframe thead th {\n",
              "        text-align: right;\n",
              "    }\n",
              "</style>\n",
              "<table border=\"1\" class=\"dataframe\">\n",
              "  <thead>\n",
              "    <tr style=\"text-align: right;\">\n",
              "      <th></th>\n",
              "      <th>seattle</th>\n",
              "      <th>denver</th>\n",
              "      <th>ny</th>\n",
              "    </tr>\n",
              "  </thead>\n",
              "  <tbody>\n",
              "    <tr>\n",
              "      <th>day0</th>\n",
              "      <td>1</td>\n",
              "      <td>2</td>\n",
              "      <td>3</td>\n",
              "    </tr>\n",
              "    <tr>\n",
              "      <th>day1</th>\n",
              "      <td>4</td>\n",
              "      <td>5</td>\n",
              "      <td>8</td>\n",
              "    </tr>\n",
              "    <tr>\n",
              "      <th>day2</th>\n",
              "      <td>0</td>\n",
              "      <td>0</td>\n",
              "      <td>0</td>\n",
              "    </tr>\n",
              "  </tbody>\n",
              "</table>\n",
              "</div>"
            ],
            "text/plain": [
              "      seattle  denver  ny\n",
              "day0        1       2   3\n",
              "day1        4       5   8\n",
              "day2        0       0   0"
            ]
          },
          "metadata": {
            "tags": []
          },
          "execution_count": 37
        }
      ]
    },
    {
      "cell_type": "code",
      "metadata": {
        "id": "yCz4bGzhXQFx",
        "outputId": "3e2692fe-3d07-4e48-92e1-4f9c43943052",
        "colab": {
          "base_uri": "https://localhost:8080/",
          "height": 143
        }
      },
      "source": [
        "#make the same dataframe but multiply all elements by 10\n",
        "df=pd.DataFrame(M2**2+np.cos(M2),index=['day0','day1','day2'], columns=['seattle','denver','ny'])\n",
        "df"
      ],
      "execution_count": 40,
      "outputs": [
        {
          "output_type": "execute_result",
          "data": {
            "text/html": [
              "<div>\n",
              "<style scoped>\n",
              "    .dataframe tbody tr th:only-of-type {\n",
              "        vertical-align: middle;\n",
              "    }\n",
              "\n",
              "    .dataframe tbody tr th {\n",
              "        vertical-align: top;\n",
              "    }\n",
              "\n",
              "    .dataframe thead th {\n",
              "        text-align: right;\n",
              "    }\n",
              "</style>\n",
              "<table border=\"1\" class=\"dataframe\">\n",
              "  <thead>\n",
              "    <tr style=\"text-align: right;\">\n",
              "      <th></th>\n",
              "      <th>seattle</th>\n",
              "      <th>denver</th>\n",
              "      <th>ny</th>\n",
              "    </tr>\n",
              "  </thead>\n",
              "  <tbody>\n",
              "    <tr>\n",
              "      <th>day0</th>\n",
              "      <td>1.540302</td>\n",
              "      <td>3.583853</td>\n",
              "      <td>8.010008</td>\n",
              "    </tr>\n",
              "    <tr>\n",
              "      <th>day1</th>\n",
              "      <td>15.346356</td>\n",
              "      <td>25.283662</td>\n",
              "      <td>63.854500</td>\n",
              "    </tr>\n",
              "    <tr>\n",
              "      <th>day2</th>\n",
              "      <td>1.000000</td>\n",
              "      <td>1.000000</td>\n",
              "      <td>1.000000</td>\n",
              "    </tr>\n",
              "  </tbody>\n",
              "</table>\n",
              "</div>"
            ],
            "text/plain": [
              "        seattle     denver         ny\n",
              "day0   1.540302   3.583853   8.010008\n",
              "day1  15.346356  25.283662  63.854500\n",
              "day2   1.000000   1.000000   1.000000"
            ]
          },
          "metadata": {
            "tags": []
          },
          "execution_count": 40
        }
      ]
    },
    {
      "cell_type": "code",
      "metadata": {
        "id": "zVybaQoXXyaa",
        "outputId": "e5d94f21-b841-4007-ded2-e63a660a7bb2",
        "colab": {
          "base_uri": "https://localhost:8080/"
        }
      },
      "source": [
        "# math function with numpy us the math functions in the numpy library, rather than in the math library\n",
        "import math\n",
        "math.cos(1)\n",
        "#math.cos(M2) # cosine of all entries in the matrix --> math library NO GOOD for arrays\n",
        "np.cos(M2)\n"
      ],
      "execution_count": 43,
      "outputs": [
        {
          "output_type": "execute_result",
          "data": {
            "text/plain": [
              "array([[ 0.54030231, -0.41614684, -0.9899925 ],\n",
              "       [-0.65364362,  0.28366219, -0.14550003],\n",
              "       [ 1.        ,  1.        ,  1.        ]])"
            ]
          },
          "metadata": {
            "tags": []
          },
          "execution_count": 43
        }
      ]
    },
    {
      "cell_type": "markdown",
      "metadata": {
        "id": "0ietphbQYZd5"
      },
      "source": [
        "GO from pandas to numpy"
      ]
    },
    {
      "cell_type": "code",
      "metadata": {
        "id": "Oa46BNllYduZ",
        "outputId": "35fd6b2b-84d2-498e-d917-632b7f8ea423",
        "colab": {
          "base_uri": "https://localhost:8080/",
          "height": 143
        }
      },
      "source": [
        "df"
      ],
      "execution_count": 44,
      "outputs": [
        {
          "output_type": "execute_result",
          "data": {
            "text/html": [
              "<div>\n",
              "<style scoped>\n",
              "    .dataframe tbody tr th:only-of-type {\n",
              "        vertical-align: middle;\n",
              "    }\n",
              "\n",
              "    .dataframe tbody tr th {\n",
              "        vertical-align: top;\n",
              "    }\n",
              "\n",
              "    .dataframe thead th {\n",
              "        text-align: right;\n",
              "    }\n",
              "</style>\n",
              "<table border=\"1\" class=\"dataframe\">\n",
              "  <thead>\n",
              "    <tr style=\"text-align: right;\">\n",
              "      <th></th>\n",
              "      <th>seattle</th>\n",
              "      <th>denver</th>\n",
              "      <th>ny</th>\n",
              "    </tr>\n",
              "  </thead>\n",
              "  <tbody>\n",
              "    <tr>\n",
              "      <th>day0</th>\n",
              "      <td>1.540302</td>\n",
              "      <td>3.583853</td>\n",
              "      <td>8.010008</td>\n",
              "    </tr>\n",
              "    <tr>\n",
              "      <th>day1</th>\n",
              "      <td>15.346356</td>\n",
              "      <td>25.283662</td>\n",
              "      <td>63.854500</td>\n",
              "    </tr>\n",
              "    <tr>\n",
              "      <th>day2</th>\n",
              "      <td>1.000000</td>\n",
              "      <td>1.000000</td>\n",
              "      <td>1.000000</td>\n",
              "    </tr>\n",
              "  </tbody>\n",
              "</table>\n",
              "</div>"
            ],
            "text/plain": [
              "        seattle     denver         ny\n",
              "day0   1.540302   3.583853   8.010008\n",
              "day1  15.346356  25.283662  63.854500\n",
              "day2   1.000000   1.000000   1.000000"
            ]
          },
          "metadata": {
            "tags": []
          },
          "execution_count": 44
        }
      ]
    },
    {
      "cell_type": "code",
      "metadata": {
        "id": "92p6XEgfYkwN",
        "outputId": "add25b7d-5960-4bee-c534-8ef37b75be07",
        "colab": {
          "base_uri": "https://localhost:8080/"
        }
      },
      "source": [
        "# get all the numbers squared\n",
        "# pull these numbers into a numpy array\n",
        "M3 = df.values #pandas INTERNALLY uses numpy arrays to store the data\n",
        "M3"
      ],
      "execution_count": 45,
      "outputs": [
        {
          "output_type": "execute_result",
          "data": {
            "text/plain": [
              "array([[ 1.54030231,  3.58385316,  8.0100075 ],\n",
              "       [15.34635638, 25.28366219, 63.85449997],\n",
              "       [ 1.        ,  1.        ,  1.        ]])"
            ]
          },
          "metadata": {
            "tags": []
          },
          "execution_count": 45
        }
      ]
    },
    {
      "cell_type": "code",
      "metadata": {
        "id": "GowLiStKY2SV",
        "outputId": "7462e2c3-2a3c-421d-ad43-b10174c4894b",
        "colab": {
          "base_uri": "https://localhost:8080/"
        }
      },
      "source": [
        "# modify an entry in the array\n",
        "# say I want row1, column1 = 0\n",
        "M3[0, 0]=0\n",
        "M3"
      ],
      "execution_count": 48,
      "outputs": [
        {
          "output_type": "execute_result",
          "data": {
            "text/plain": [
              "array([[ 0.        ,  3.58385316,  8.0100075 ],\n",
              "       [15.34635638, 25.28366219, 63.85449997],\n",
              "       [ 1.        ,  1.        ,  1.        ]])"
            ]
          },
          "metadata": {
            "tags": []
          },
          "execution_count": 48
        }
      ]
    },
    {
      "cell_type": "code",
      "metadata": {
        "id": "QKiA6NCDZR_v",
        "outputId": "2fd80e8e-2d51-4b3d-f0db-8d1734fa526b",
        "colab": {
          "base_uri": "https://localhost:8080/",
          "height": 143
        }
      },
      "source": [
        "df  # df.values delves into the datset underlying the df \n",
        "#--> if we modify this dataset, we're implicitely modifying the dataframe"
      ],
      "execution_count": 49,
      "outputs": [
        {
          "output_type": "execute_result",
          "data": {
            "text/html": [
              "<div>\n",
              "<style scoped>\n",
              "    .dataframe tbody tr th:only-of-type {\n",
              "        vertical-align: middle;\n",
              "    }\n",
              "\n",
              "    .dataframe tbody tr th {\n",
              "        vertical-align: top;\n",
              "    }\n",
              "\n",
              "    .dataframe thead th {\n",
              "        text-align: right;\n",
              "    }\n",
              "</style>\n",
              "<table border=\"1\" class=\"dataframe\">\n",
              "  <thead>\n",
              "    <tr style=\"text-align: right;\">\n",
              "      <th></th>\n",
              "      <th>seattle</th>\n",
              "      <th>denver</th>\n",
              "      <th>ny</th>\n",
              "    </tr>\n",
              "  </thead>\n",
              "  <tbody>\n",
              "    <tr>\n",
              "      <th>day0</th>\n",
              "      <td>0.000000</td>\n",
              "      <td>3.583853</td>\n",
              "      <td>8.010008</td>\n",
              "    </tr>\n",
              "    <tr>\n",
              "      <th>day1</th>\n",
              "      <td>15.346356</td>\n",
              "      <td>25.283662</td>\n",
              "      <td>63.854500</td>\n",
              "    </tr>\n",
              "    <tr>\n",
              "      <th>day2</th>\n",
              "      <td>1.000000</td>\n",
              "      <td>1.000000</td>\n",
              "      <td>1.000000</td>\n",
              "    </tr>\n",
              "  </tbody>\n",
              "</table>\n",
              "</div>"
            ],
            "text/plain": [
              "        seattle     denver         ny\n",
              "day0   0.000000   3.583853   8.010008\n",
              "day1  15.346356  25.283662  63.854500\n",
              "day2   1.000000   1.000000   1.000000"
            ]
          },
          "metadata": {
            "tags": []
          },
          "execution_count": 49
        }
      ]
    },
    {
      "cell_type": "code",
      "metadata": {
        "id": "4wI17dqVZizU",
        "outputId": "9e0b3ee7-eaf0-411f-f770-a5d8db26fdd2",
        "colab": {
          "base_uri": "https://localhost:8080/"
        }
      },
      "source": [
        "#create a new aray that has a copy of the pandas dataframe values\n",
        "M3_copy=df.values.copy()\n",
        "M3_copy"
      ],
      "execution_count": 51,
      "outputs": [
        {
          "output_type": "execute_result",
          "data": {
            "text/plain": [
              "array([[ 0.        ,  3.58385316,  8.0100075 ],\n",
              "       [15.34635638, 25.28366219, 63.85449997],\n",
              "       [ 1.        ,  1.        ,  1.        ]])"
            ]
          },
          "metadata": {
            "tags": []
          },
          "execution_count": 51
        }
      ]
    },
    {
      "cell_type": "code",
      "metadata": {
        "id": "iYBLCnKdZufH",
        "outputId": "9b9a9aa8-bfc0-4219-c54b-639c0328ba9e",
        "colab": {
          "base_uri": "https://localhost:8080/"
        }
      },
      "source": [
        "M3_copy[0,0]=100\n",
        "M3_copy"
      ],
      "execution_count": 53,
      "outputs": [
        {
          "output_type": "execute_result",
          "data": {
            "text/plain": [
              "array([[100.        ,   3.58385316,   8.0100075 ],\n",
              "       [ 15.34635638,  25.28366219,  63.85449997],\n",
              "       [  1.        ,   1.        ,   1.        ]])"
            ]
          },
          "metadata": {
            "tags": []
          },
          "execution_count": 53
        }
      ]
    },
    {
      "cell_type": "code",
      "metadata": {
        "id": "WVWlg_HwZy5d",
        "outputId": "4fdd8694-8910-431c-9ffc-fba27809d779",
        "colab": {
          "base_uri": "https://localhost:8080/",
          "height": 143
        }
      },
      "source": [
        "df"
      ],
      "execution_count": 54,
      "outputs": [
        {
          "output_type": "execute_result",
          "data": {
            "text/html": [
              "<div>\n",
              "<style scoped>\n",
              "    .dataframe tbody tr th:only-of-type {\n",
              "        vertical-align: middle;\n",
              "    }\n",
              "\n",
              "    .dataframe tbody tr th {\n",
              "        vertical-align: top;\n",
              "    }\n",
              "\n",
              "    .dataframe thead th {\n",
              "        text-align: right;\n",
              "    }\n",
              "</style>\n",
              "<table border=\"1\" class=\"dataframe\">\n",
              "  <thead>\n",
              "    <tr style=\"text-align: right;\">\n",
              "      <th></th>\n",
              "      <th>seattle</th>\n",
              "      <th>denver</th>\n",
              "      <th>ny</th>\n",
              "    </tr>\n",
              "  </thead>\n",
              "  <tbody>\n",
              "    <tr>\n",
              "      <th>day0</th>\n",
              "      <td>0.000000</td>\n",
              "      <td>3.583853</td>\n",
              "      <td>8.010008</td>\n",
              "    </tr>\n",
              "    <tr>\n",
              "      <th>day1</th>\n",
              "      <td>15.346356</td>\n",
              "      <td>25.283662</td>\n",
              "      <td>63.854500</td>\n",
              "    </tr>\n",
              "    <tr>\n",
              "      <th>day2</th>\n",
              "      <td>1.000000</td>\n",
              "      <td>1.000000</td>\n",
              "      <td>1.000000</td>\n",
              "    </tr>\n",
              "  </tbody>\n",
              "</table>\n",
              "</div>"
            ],
            "text/plain": [
              "        seattle     denver         ny\n",
              "day0   0.000000   3.583853   8.010008\n",
              "day1  15.346356  25.283662  63.854500\n",
              "day2   1.000000   1.000000   1.000000"
            ]
          },
          "metadata": {
            "tags": []
          },
          "execution_count": 54
        }
      ]
    },
    {
      "cell_type": "markdown",
      "metadata": {
        "id": "m52DEplmJFPc"
      },
      "source": [
        "## Session 3"
      ]
    },
    {
      "cell_type": "code",
      "metadata": {
        "id": "3XLMJvWxJHpk"
      },
      "source": [
        ""
      ],
      "execution_count": null,
      "outputs": []
    }
  ]
}