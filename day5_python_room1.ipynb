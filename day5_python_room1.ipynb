{
  "nbformat": 4,
  "nbformat_minor": 0,
  "metadata": {
    "colab": {
      "name": "day5_python_room1.ipynb",
      "provenance": [],
      "authorship_tag": "ABX9TyOPEovODOZcXtRQbyO1YnRz",
      "include_colab_link": true
    },
    "kernelspec": {
      "name": "python3",
      "display_name": "Python 3"
    },
    "language_info": {
      "name": "python"
    }
  },
  "cells": [
    {
      "cell_type": "markdown",
      "metadata": {
        "id": "view-in-github",
        "colab_type": "text"
      },
      "source": [
        "<a href=\"https://colab.research.google.com/github/ramyarangan/ssrp_srec_python_workshop_2021/blob/master/day5_python_room1.ipynb\" target=\"_parent\"><img src=\"https://colab.research.google.com/assets/colab-badge.svg\" alt=\"Open In Colab\"/></a>"
      ]
    },
    {
      "cell_type": "markdown",
      "metadata": {
        "id": "qcD1xhWoBYIx"
      },
      "source": [
        "# Day 5: Scope, Numpy, Command Line Python, and \n",
        "Date: June 18, 2021\n",
        "\n",
        "Room 1\n",
        "\n",
        "Schedule\n",
        "\n",
        "|Session #| Time | Instructor | Helper 1 | Helper 2|\n",
        "|-|-|-|-|-|\n",
        "|1| 10:30-11:30 | Roshni| Rachael | Alex |\n",
        "| Break 1 | 11:30-11:45 |\n",
        "|2| 11:45-12:45 | Alex | Roshni | Rachael |\n",
        "|Lunch Break| 12:45 - 1:30|\n",
        "|3| 1:30 - 2:30| Roshni |  |  |\n",
        "|Break| 2:30 - 2:45|\n",
        "| Next Steps| Ramya\n",
        "\n",
        "## Learning objectives\n",
        "1. Learn about variable scoping\n",
        "2. Explain why the numpy library is useful to work with tabular data and perform statistical analysis\n",
        "3. Use the PEP-8 convention for programming style and best practices\n",
        "4. Test their own code and libraries for fidelity\n",
        "5. Run a python script directly from the command line\n",
        "6. Know resources where they can look for the future\n"
      ]
    },
    {
      "cell_type": "markdown",
      "metadata": {
        "id": "kLUELGPnI8VJ"
      },
      "source": [
        "## Session 1"
      ]
    },
    {
      "cell_type": "code",
      "metadata": {
        "id": "LXnryTzNI_V1"
      },
      "source": [
        ""
      ],
      "execution_count": null,
      "outputs": []
    },
    {
      "cell_type": "markdown",
      "metadata": {
        "id": "51eNWla-I_in"
      },
      "source": [
        "## Session 2"
      ]
    },
    {
      "cell_type": "code",
      "metadata": {
        "id": "MF9g89pfI_y4"
      },
      "source": [
        ""
      ],
      "execution_count": null,
      "outputs": []
    },
    {
      "cell_type": "markdown",
      "metadata": {
        "id": "m52DEplmJFPc"
      },
      "source": [
        "## Session 3"
      ]
    },
    {
      "cell_type": "code",
      "metadata": {
        "id": "3XLMJvWxJHpk"
      },
      "source": [
        ""
      ],
      "execution_count": null,
      "outputs": []
    }
  ]
}