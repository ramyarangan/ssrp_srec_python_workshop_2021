{
  "nbformat": 4,
  "nbformat_minor": 0,
  "metadata": {
    "colab": {
      "name": "day5_python_room1.ipynb",
      "provenance": [],
      "include_colab_link": true
    },
    "kernelspec": {
      "name": "python3",
      "display_name": "Python 3"
    },
    "language_info": {
      "name": "python"
    },
    "widgets": {
      "application/vnd.jupyter.widget-state+json": {
        "cbfd23cbfee545ad8e6fad5529952fa6": {
          "model_module": "@jupyter-widgets/controls",
          "model_name": "VBoxModel",
          "state": {
            "_view_name": "VBoxView",
            "_dom_classes": [
              "widget-interact"
            ],
            "_model_name": "VBoxModel",
            "_view_module": "@jupyter-widgets/controls",
            "_model_module_version": "1.5.0",
            "_view_count": null,
            "_view_module_version": "1.5.0",
            "box_style": "",
            "layout": "IPY_MODEL_e74f4865915940a9ac66295cd016ddfb",
            "_model_module": "@jupyter-widgets/controls",
            "children": [
              "IPY_MODEL_e845eaa65b0243cb82c2b64d56cf784c",
              "IPY_MODEL_a17be10a26b84ec7990ebe0902dd8d2b"
            ]
          }
        },
        "e74f4865915940a9ac66295cd016ddfb": {
          "model_module": "@jupyter-widgets/base",
          "model_name": "LayoutModel",
          "state": {
            "_view_name": "LayoutView",
            "grid_template_rows": null,
            "right": null,
            "justify_content": null,
            "_view_module": "@jupyter-widgets/base",
            "overflow": null,
            "_model_module_version": "1.2.0",
            "_view_count": null,
            "flex_flow": null,
            "width": null,
            "min_width": null,
            "border": null,
            "align_items": null,
            "bottom": null,
            "_model_module": "@jupyter-widgets/base",
            "top": null,
            "grid_column": null,
            "overflow_y": null,
            "overflow_x": null,
            "grid_auto_flow": null,
            "grid_area": null,
            "grid_template_columns": null,
            "flex": null,
            "_model_name": "LayoutModel",
            "justify_items": null,
            "grid_row": null,
            "max_height": null,
            "align_content": null,
            "visibility": null,
            "align_self": null,
            "height": null,
            "min_height": null,
            "padding": null,
            "grid_auto_rows": null,
            "grid_gap": null,
            "max_width": null,
            "order": null,
            "_view_module_version": "1.2.0",
            "grid_template_areas": null,
            "object_position": null,
            "object_fit": null,
            "grid_auto_columns": null,
            "margin": null,
            "display": null,
            "left": null
          }
        },
        "e845eaa65b0243cb82c2b64d56cf784c": {
          "model_module": "@jupyter-widgets/controls",
          "model_name": "IntSliderModel",
          "state": {
            "_view_name": "IntSliderView",
            "style": "IPY_MODEL_74cc3d8bc63743c0851fa77ab5bf0f33",
            "_dom_classes": [],
            "description": "x",
            "step": 1,
            "_model_name": "IntSliderModel",
            "orientation": "horizontal",
            "max": 30,
            "_view_module": "@jupyter-widgets/controls",
            "_model_module_version": "1.5.0",
            "value": 17,
            "_view_count": null,
            "disabled": false,
            "_view_module_version": "1.5.0",
            "min": -10,
            "continuous_update": true,
            "readout_format": "d",
            "description_tooltip": null,
            "readout": true,
            "_model_module": "@jupyter-widgets/controls",
            "layout": "IPY_MODEL_16dfe0adba6a430f909a807379ee5a6d"
          }
        },
        "a17be10a26b84ec7990ebe0902dd8d2b": {
          "model_module": "@jupyter-widgets/output",
          "model_name": "OutputModel",
          "state": {
            "_view_name": "OutputView",
            "msg_id": "",
            "_dom_classes": [],
            "_model_name": "OutputModel",
            "outputs": [
              {
                "output_type": "stream",
                "metadata": {
                  "tags": []
                },
                "text": "The square of 17 is 289\n",
                "stream": "stdout"
              }
            ],
            "_view_module": "@jupyter-widgets/output",
            "_model_module_version": "1.0.0",
            "_view_count": null,
            "_view_module_version": "1.0.0",
            "layout": "IPY_MODEL_67acd7ea99cb47f09b415b05ec29f6c6",
            "_model_module": "@jupyter-widgets/output"
          }
        },
        "74cc3d8bc63743c0851fa77ab5bf0f33": {
          "model_module": "@jupyter-widgets/controls",
          "model_name": "SliderStyleModel",
          "state": {
            "_view_name": "StyleView",
            "handle_color": null,
            "_model_name": "SliderStyleModel",
            "description_width": "",
            "_view_module": "@jupyter-widgets/base",
            "_model_module_version": "1.5.0",
            "_view_count": null,
            "_view_module_version": "1.2.0",
            "_model_module": "@jupyter-widgets/controls"
          }
        },
        "16dfe0adba6a430f909a807379ee5a6d": {
          "model_module": "@jupyter-widgets/base",
          "model_name": "LayoutModel",
          "state": {
            "_view_name": "LayoutView",
            "grid_template_rows": null,
            "right": null,
            "justify_content": null,
            "_view_module": "@jupyter-widgets/base",
            "overflow": null,
            "_model_module_version": "1.2.0",
            "_view_count": null,
            "flex_flow": null,
            "width": null,
            "min_width": null,
            "border": null,
            "align_items": null,
            "bottom": null,
            "_model_module": "@jupyter-widgets/base",
            "top": null,
            "grid_column": null,
            "overflow_y": null,
            "overflow_x": null,
            "grid_auto_flow": null,
            "grid_area": null,
            "grid_template_columns": null,
            "flex": null,
            "_model_name": "LayoutModel",
            "justify_items": null,
            "grid_row": null,
            "max_height": null,
            "align_content": null,
            "visibility": null,
            "align_self": null,
            "height": null,
            "min_height": null,
            "padding": null,
            "grid_auto_rows": null,
            "grid_gap": null,
            "max_width": null,
            "order": null,
            "_view_module_version": "1.2.0",
            "grid_template_areas": null,
            "object_position": null,
            "object_fit": null,
            "grid_auto_columns": null,
            "margin": null,
            "display": null,
            "left": null
          }
        },
        "67acd7ea99cb47f09b415b05ec29f6c6": {
          "model_module": "@jupyter-widgets/base",
          "model_name": "LayoutModel",
          "state": {
            "_view_name": "LayoutView",
            "grid_template_rows": null,
            "right": null,
            "justify_content": null,
            "_view_module": "@jupyter-widgets/base",
            "overflow": null,
            "_model_module_version": "1.2.0",
            "_view_count": null,
            "flex_flow": null,
            "width": null,
            "min_width": null,
            "border": null,
            "align_items": null,
            "bottom": null,
            "_model_module": "@jupyter-widgets/base",
            "top": null,
            "grid_column": null,
            "overflow_y": null,
            "overflow_x": null,
            "grid_auto_flow": null,
            "grid_area": null,
            "grid_template_columns": null,
            "flex": null,
            "_model_name": "LayoutModel",
            "justify_items": null,
            "grid_row": null,
            "max_height": null,
            "align_content": null,
            "visibility": null,
            "align_self": null,
            "height": null,
            "min_height": null,
            "padding": null,
            "grid_auto_rows": null,
            "grid_gap": null,
            "max_width": null,
            "order": null,
            "_view_module_version": "1.2.0",
            "grid_template_areas": null,
            "object_position": null,
            "object_fit": null,
            "grid_auto_columns": null,
            "margin": null,
            "display": null,
            "left": null
          }
        },
        "158de3a4c8b0471fa44e4ecf43c47a22": {
          "model_module": "@jupyter-widgets/controls",
          "model_name": "VBoxModel",
          "state": {
            "_view_name": "VBoxView",
            "_dom_classes": [
              "widget-interact"
            ],
            "_model_name": "VBoxModel",
            "_view_module": "@jupyter-widgets/controls",
            "_model_module_version": "1.5.0",
            "_view_count": null,
            "_view_module_version": "1.5.0",
            "box_style": "",
            "layout": "IPY_MODEL_cc100c46ebc3421984be9dd3c041272e",
            "_model_module": "@jupyter-widgets/controls",
            "children": [
              "IPY_MODEL_9059c94578664af99fe7729a985acf38",
              "IPY_MODEL_b15c229c4ad14381bd86bdb2200005d0"
            ]
          }
        },
        "cc100c46ebc3421984be9dd3c041272e": {
          "model_module": "@jupyter-widgets/base",
          "model_name": "LayoutModel",
          "state": {
            "_view_name": "LayoutView",
            "grid_template_rows": null,
            "right": null,
            "justify_content": null,
            "_view_module": "@jupyter-widgets/base",
            "overflow": null,
            "_model_module_version": "1.2.0",
            "_view_count": null,
            "flex_flow": null,
            "width": null,
            "min_width": null,
            "border": null,
            "align_items": null,
            "bottom": null,
            "_model_module": "@jupyter-widgets/base",
            "top": null,
            "grid_column": null,
            "overflow_y": null,
            "overflow_x": null,
            "grid_auto_flow": null,
            "grid_area": null,
            "grid_template_columns": null,
            "flex": null,
            "_model_name": "LayoutModel",
            "justify_items": null,
            "grid_row": null,
            "max_height": null,
            "align_content": null,
            "visibility": null,
            "align_self": null,
            "height": null,
            "min_height": null,
            "padding": null,
            "grid_auto_rows": null,
            "grid_gap": null,
            "max_width": null,
            "order": null,
            "_view_module_version": "1.2.0",
            "grid_template_areas": null,
            "object_position": null,
            "object_fit": null,
            "grid_auto_columns": null,
            "margin": null,
            "display": null,
            "left": null
          }
        },
        "9059c94578664af99fe7729a985acf38": {
          "model_module": "@jupyter-widgets/controls",
          "model_name": "DropdownModel",
          "state": {
            "_options_labels": [
              "<ufunc 'cos'>",
              "<ufunc 'sin'>",
              "<ufunc 'log10'>",
              "<function my_func at 0x7f37492e13b0>"
            ],
            "_view_name": "DropdownView",
            "style": "IPY_MODEL_5d7f0296e12f4ca59a58a4fe7869fb3e",
            "_dom_classes": [],
            "description": "function_type",
            "_model_name": "DropdownModel",
            "index": 1,
            "_view_module": "@jupyter-widgets/controls",
            "_model_module_version": "1.5.0",
            "_view_count": null,
            "disabled": false,
            "_view_module_version": "1.5.0",
            "description_tooltip": null,
            "_model_module": "@jupyter-widgets/controls",
            "layout": "IPY_MODEL_bfe54f89eab84ea8bc979c884b5e645b"
          }
        },
        "b15c229c4ad14381bd86bdb2200005d0": {
          "model_module": "@jupyter-widgets/output",
          "model_name": "OutputModel",
          "state": {
            "_view_name": "OutputView",
            "msg_id": "",
            "_dom_classes": [],
            "_model_name": "OutputModel",
            "outputs": [
              {
                "output_type": "display_data",
                "metadata": {
                  "tags": [],
                  "needs_background": "light"
                },
                "image/png": "iVBORw0KGgoAAAANSUhEUgAAAYIAAAD4CAYAAADhNOGaAAAABHNCSVQICAgIfAhkiAAAAAlwSFlzAAALEgAACxIB0t1+/AAAADh0RVh0U29mdHdhcmUAbWF0cGxvdGxpYiB2ZXJzaW9uMy4yLjIsIGh0dHA6Ly9tYXRwbG90bGliLm9yZy+WH4yJAAAgAElEQVR4nO29eXhkV3nn/3mrpNJWpb20ttStrfe2u225bTYbsDE2i23CMnaSiZPAzwmBJ8nkl0zM8BvCQMgDSWYIyRASD5CQhAETAsHBBmMbG7N4a9u9qru19Ca11FJpV2mX6vz+qHvVZbXUWqrqLnXP53nqUdVd6r46de/5nnPe97xHlFJoNBqNxrv47DZAo9FoNPaihUCj0Wg8jhYCjUaj8ThaCDQajcbjaCHQaDQaj5NltwGboby8XG3bts1uMzQajcZVvPzyy4NKqfDy7a4Ugm3btnHo0CG7zdBoNBpXISLnV9quh4Y0Go3G42gh0Gg0Go+jhUCj0Wg8jhYCjUaj8ThaCDQajcbjpEQIROSrIjIgIsdX2S8i8tci0ikiR0XkuoR994tIh/G6PxX2aDQajWb9pKpH8I/AHVfZfyfQYrweAL4EICKlwJ8ANwIHgT8RkZIU2aTRaDSadZCSeQRKqWdFZNtVDrkb+CcVz3n9vIgUi0g18GbgCaXUMICIPEFcUL6RCrs0qaV7eIrnuoZQKN6xr5pQbrbdJnmKnpEpXj4/wtj0PO/cV01ZMMdukzzF8OQcT58aYHYhxuubythWXmC3SSnDqglltUB3wuceY9tq269ARB4g3pugvr4+PVZqVuUrPzvLnz7ahrl8xf/4jzb+/H3X8K5rauw1zCN899UePvadY8zMxwD47A9O8Ye37+A339hgs2Xe4IfHL/HfvnuM4ck5AAJ+Hx95SzO/e2szImKzdcnjmpnFSqmHgIcAWltb9Wo6FvKFJzv4/JPt3LGnij98+3ais4t8+vtt/N43DxPw+7h9T5XdJmY0D790gT/+t2McbCjlk+/egwj8+Q9P8anvt1GYl837rt9it4kZzU87Inz46y+zt6aIr9zfSlFeNp83noksv/CRtzTbbWLSWBU1dBGoS/i8xdi22naNQ3jlwghfeKqd9xyo5Yu/ch3NFSH21xXzj79xA3tri/j9hw/TNzZtt5kZy5lIlE8+0sYbmsv4+oduZHdNIbuqC/n7/9zKG5rLePDfjnK0Z9RuMzOWvrFpfu+bh9leEeLh37qJA/UlNIaD/PW9+3n3tTX85Y9O85P2iN1mJo1VQvAI8GtG9NBNwJhSqg94HLhdREoMJ/HtxjaNA5hdWOS/fvsoVYW5fOruPfh9l7vAodxs/vd9B1iMKT7z6EkbrcxclFL84b8eISfbx/98/36y/Zcf10CWj7/9lespzs/m099vQy85mx7+9PsnmZlf5G9/9TryA5cHUESEz713H03hIP/9348ztxCz0crkSVX46DeA54AdItIjIh8Ukd8Wkd82DnkMOAN0Av8H+B0Aw0n8aeAl4/Up03GssZ9vHeqhcyDKZ96zb0XHcF1pPh9+cxPfP9rHc11DNliY2TxzOsIrF0Z58I6dVBXlXrG/KC+bP3jbDl46N8IPj1+ywcLM5vjFMR491seH3tRIUzh4xf78QBYff8cuLgxP8fCh7hW+wT2kRAiUUvcppaqVUtlKqS1Kqa8opf5OKfV3xn6llPqIUqpJKbVPKXUo4dyvKqWajdc/pMIeTfIsLMZ46Nku9tcV8+YdV2StXeK3b2miIpTDl37SZaF1mY9Sii881UFtcR7vvYoP4AOtW9heGeQvf3Ra9wpSzOefaKcoL5sPXsUh/+YdYQ5uK+Wvn+pgem7RQutSi55ZrFmRx45font4mg+/uemqURG52X5+7XVbebY9Qkf/hIUWZjY/7xzicPcoH3lL82uGhJaT5ffxWzc30RWZ5Be6V5YyOvoneOrUAP/Pmxooyls9TFpE+C9v205kYpbvH+210MLUooVAsyJf+dlZmsIFvG1X5ZrH3newnkCWj3/4xbn0G+YRvv7CeUoLArz3+hWjqV/DO6+pprQgwD89dy7tdnmFb7zYTbZfuO/g2qHqNzWW0lwR5P++eMECy9KDFgLNFXQORDnSPcp9B+vx+daOkS4L5nDP/hq+80oP0dkFCyzMbEYm53jyZD/37K8lJ8u/5vG52X4+0FrHE2399I7qCK5kmV1Y5Duv9nD77qp1TdoTiQvGqxdGOdk3boGFqUcLgeYKvvtqDz6Bu/avf7LY+1vrmJmP8WRbfxot8wbfO3yR+UXF+1vXPz/gV26sJ6bg3w/r6OtkefxEP6NT89x7sG7tgw3ee10tgSwf33Bpr0ALgeY1xGKKf3+1l5u3h6kIXRmpshrX15dQU5TLI0fcO07qFL79Sg97a+PzBdZLXWk+B+qLefRoXxot8wbfe/UitcV5vKGpfN3nFOcHeNuuSh471sdizH1Oey0Emtfw0rlhLo5O854Da49NJ+LzCe++toZn2yOMGNPwNRvnwtAUxy+Oc8/+jZU/wDv3VXOid5yzg5NpsMwbRGcX+GnHIHfsrVrXsGgid+6rYjA6x6Fz7ouA10KgeQ0/ausn4Pdx2zqcxMt597U1LMQUP9Ax7ZvmR23xsnv7JtJ2vGNfNQCPHdO9gs3y9KkB5hZj3LF34+X/lh0V5GT5XHn/ayHQLKGU4qmT/by+uYyCnI2nodpTU0h9aT5PndR+gs3yo7Z+dlaFqCvN3/C5NcV5XKeHh5LihycuUR7M4br6jWfDL8jJ4ubtYX54/BIxlw0PaSHQLNEVmeTc0BS3bqI3APHoibfsCPPzrkFm5t07ucYuhqKzHDo3nFQSv7ftrqKtb5z+8ZkUWuYNZuYXefrUALfvqXxNOpWNcOfeKi6Nz3D04liKrUsvWgg0SzxptORv21Wx6e94884KZuZjvHDWfeOkdvPjUwPEFNy+e3NCDCzNAs+ERGhW89K5YabmFtc1d2Y13ryjAhF41mXlr4VAs8SPTw6wp6aQ6qK8TX/H6xrLyM328fSpgRRa5g2e7RikIpTDnpr1RwstZ2dViMrCHH5y2l0VkRP4accgAb+PGxtLN/0dpQUB9tUW8dMOd5W/FgINAJOzC7xyYYRbtq+eV2g95Gb7eX1TOc+c1kKwEWIxxS86B3ljc3lSC52ICLdsD/PTjggLi+7OiGk1z7ZHuH5ryWuyjG6GN7WU88qFUcZn5lNkWfrRQqAB4MVzwyzEFG9oXn/s9Grcsj3MuaEpuoenUmCZNzh1aYKhybkUlX8F4zMLHO7W6xSsl4HxGU5dmuBN25Mv/5tbwizGlKsy8moh0ADwi85BAlk+rt+68WiJ5by+qQyA586450Gwm593DgKkRAjivYp44jrN+viZUf43tyTXIwa4bmsJBQG/q/wEWgg0APyia4jr60vIzV47t81aNFcEKSsI8LyLWkR287POQZorgiuuO7BRivKz2VVVyAtndfmvl591DlKSn83uDczmXo1sv4+bGst0j0DjLkYm52jrG19qySeLiHBTYxnPnxnSOfLXwdxCjBfPDvOGFJU/wI2NpbxyYYTZBR3Gux5ePDvMjQ1lG55NvBo3NpZyZnCSgQl3hPGmaoWyO0TktIh0isiDK+z/vIgcNl7tIjKasG8xYd8jqbBHszHiFTa8vjl1FdFNTWX0js1wQfsJ1uRE7xjT84vc2JhCIWgoY2Y+xtEed8Wz20Hv6DQ9I9Pc0LD5aKHlHGyI/5aHzo2k7DvTSdJCICJ+4IvAncBu4D4R2Z14jFLqvyil9iul9gN/A3wnYfe0uU8pdVey9mg2zkvnRsjJ8rGvtjhl3/k6IwTvee0nWBOzsmjdlrx/xuSgUam9oMt/TV4ycgPdmEIh2FNTSF62nxddMp8mFT2Cg0CnUuqMUmoO+CZw91WOvw/4Rgquq0kRL58f5tq6YgJZqRspbAoHKQ8G9MSydfDSuWG2leVvKNvrWpQWBNhRGdLlvw5ePDtMMCdrQ9le1yLbHw+8cEv5p+LJrwUSV27uMbZdgYhsBRqAHydszhWRQyLyvIjcs9pFROQB47hDkYh7vPFOZ3pukRO947SmIFooERHhQH0Jr17QIYxXQynFofMjtG5LXWvU5MbGUl4+P6LnE6zBS+eGuW5ryabTSqzGwYZSTl0aZ2zK+fMJrHYW3wt8WymV6MHaqpRqBX4Z+CsRaVrpRKXUQ0qpVqVUazicfIiXJs7h7lEWYiqlwxIm128t4ezgJEPR2ZR/d6bQFZlkeHKOG9JQ/tfVlzA1t0h7fzTl350pjE7N0d4fTemwkMkN20pRCl6+4PxeQSqE4CKQuJTPFmPbStzLsmEhpdRF4+8Z4BngQAps0qyTl8/Hb9LNZFtcC/M7da9gdczc9enoESyVf7c7HJZ2YN6bqZg/s5xr64rw+4TDLrj/UyEELwEtItIgIgHilf0V0T8ishMoAZ5L2FYiIjnG+3LgDUBbCmzSrJND50doqQhSnB9I+Xdfs6WILJ/wygVdEa3GKxdGKMnPprG8IOXfXVeaR1lBgFfOO78isotXu0fxCeyrLUr5d+cHsthRGeJVF8zwTloIlFILwEeBx4GTwLeUUidE5FMikhgFdC/wTfXawPJdwCEROQI8DXxWKaWFwCKUUrx6YTQtrSGI5x3aU1PIy+e1EKzGke4xrq0rTiq/0Gos+Wl0j2BVDnePsr0ytKn1N9bD/vpiDnePOn59gpT890qpx4DHlm37xLLPn1zhvF8A+1Jhg2bjnB+aYmx6nmvrUhc2upwD9SU8/FI384sxsv16/mIi0dkF2gcmuHPf5tcfWIsD9cU8ebKf0am5tPT63Ewspjh8YYR3XlOdtmscqCvm/75wgTODUZorQmm7TrLoJ9PDHOmJd1mv3ZJOIShmen6R9v6JtF3DrRy/OIZSpFWITT+BTkB3JWeHJhmfWWB/WhtC8e92up9MC4GHOdI9Rm62j+2VwbRd4xpDZI7pGa5XcKQ7/UJ8zZYifOL8isgOTCfu/rr0DI0CNJYHCeVmOd5PoIXAwxztGWVvTRFZaRyy2VaWTyg3y3VL91nBkZ5R6kvzKS1I35BNQU4WTeEgx3X5X8Hh7lEKAn6aK9LXEPL5hP11xY6PHNJC4FEWFmMc7x1barGnCxHhmi1FukewAocvjKZ1WMhkX20Rx7QQXMHRi2PsrS1K+USy5eyrLaK9f8LR63hrIfAo7f1RZuZjXFuX+rC55eyrLebUpXGdCTOBwegsvWMzXLvFgvLfUsTAxKxe0D6BhcUYp/rG2VOT/vLfW1vEQkw52k+mhcCjHLsY76qmu0cQv0YR84uK05ec+yBYTVvvOIAlFZEZI697ZZc5OzjJ7EIsqfWh18tS+Tu4V6aFwKO09Y4TzMlia2l+2q91jdHq1SmRL9PWFxeCVCyEsha7awrxCdpPk8AJQ4h3WyAEW0ryKMrLdrSfRguBR2nrG2dXdShlC3FcjdriPEoLArpFmkBb7zi1xXkU5Wen/Vr5gSyaK7TDOJG2vnECWb60OopNRIS9tYW6R6BxFrGY4mTfRErT7l4NEWF3deFSK1gTX4zGitaoyd7aIt0jS+BE7xg7KkOWTXLcW1vE6UsTzC04MxOsFgIP0jMyTXR2wZJhCZOdVSHa+yd0SmRgam6BM4OTlpb/npoiBqOzrlk6MZ0opWjrHbfEP2CytybuJ3Oqw1gLgQdp64u3DK3qEZjXml2IcW5o0rJrOpXTlyZQyprxaZNd1fH0Bqf6nFkRWUnf2AwjU/OW98gAxw7PaSHwIG19E/gEdlRZl/vEFJ02XRFZ6ig22VkVv9apS3p47sRSxJZ15b+1NJ+8bD+nHBo5p4XAg7T1jtMYDpKb7bfsms0VQbL9wkntJ6Ctd5zC3Cy2lORZds3SggCVhTmc1EJMW+84IpfF0Qp8PmFHVcixIdSeEoIn2vr57qs9dpthOyf7xi1tjQIEsnw0hYNaCIj3CHbXFKYl9fTV2FVdqMufuKO4oawgbamnV2NXdYhTl8Z5bSZ+Z+ApIfjWoW6++HSX3WbYytjUPBdHpy31D5jsqi70/Bj1Ykxxqm+C3dXpn0i2nJ1VhXRFoo6NXLGKE73jlvoHTHZUhhiZmmdgwnlLt6ZECETkDhE5LSKdIvLgCvt/XUQiInLYeH0oYd/9ItJhvO5PhT2rsbMqZMwo9G6qg5OXrJtIs5xd1SEujc8wMjln+bWdwrmhSabnF20r//lFxZlB765hbDaErJjRvZydRuPLib2ypIVARPzAF4E7gd3AfSKye4VDH1ZK7TdeXzbOLQX+BLgROAj8iYikLSfs9soQizFF54B3HwQztYEZRWIluxz8IFiFWf5WD82BLn+AE0bEnB1CvNMIznCiwzgVPYKDQKdS6oxSag74JnD3Os99O/CEUmpYKTUCPAHckQKbVsT8IZway2sFJ/vGKQ/mUBHKtfzalyOHvFsRtfWNk+0XS2a0LqehvICA3+fp4bk2GyKGTIrzA1QX5XLKgfd/KoSgFuhO+NxjbFvOe0XkqIh8W0TqNnhuSthmPggOVGSrMFNL2EF5MIdwyNuRKyd6x2mpCBHIst49l+2Pp1Q46eX7v3ecysIcyoM5tlx/Z1XIkfWPVXfjfwDblFLXEG/1f22jXyAiD4jIIRE5FIlENmVEtt9HY7jAsSFc6WZ+MUZHf9SWbrFJ/EFwXovIKtpsclSaxB32Hi7/vnFbAiVMdlYX0jngPId9KoTgIlCX8HmLsW0JpdSQUsp0lX8ZuH695yZ8x0NKqValVGs4HN60sTurQrR7VAi6IlHmFmO2jE+b7K4upKM/yrwHU00MTMwwGJ21tSLaVR1iYGKWoajzIlfSzcJijDORSXZU2reI/M6qEAsx5znsUyEELwEtItIgIgHgXuCRxANEpDrh413ASeP948DtIlJiOIlvN7alje1VIXrHZhibnk/nZRyJnY5Kk13VhcwZD6TXaL8Uf/h3WjijezmXZxh7rzF0bmiKucUYLbYKgVH+DhseTVoIlFILwEeJV+AngW8ppU6IyKdE5C7jsN8VkRMicgT4XeDXjXOHgU8TF5OXgE8Z29KGlx3Gpy9NEPD7aCgvsM0GL0eumPdcS6X1jmIT0z/kxfLvMMrfzh5BY7ggPsPeYcOjKZlap5R6DHhs2bZPJLz/GPCxVc79KvDVVNixHnYYinz60gQ3bCu16rKOoL1/gsZwQVoXq1+LxnDcYX+yb5x7DqQtLsCRdAxMUJyfTdgmRyVAmYcd9u39UUSwJWLLJO6wD2Vej8Bt1BTlEsrJ8qTDuL0/ynYbW0NwOXLFi0MT7f1RtleELE8tsRyvOuzb+yeoL80nL2Bdjq2V2OXA8vecEIgI2x2c/CldTM4ucHF0mu02DkuYbK8Mem5Sn1LxXPR2DguZmA57r60N0d4/QUuFvQ0hgJ3VIfrHZxl20Ax7zwkBxNMvn+6fcGTyp3RhVrzNDngQWipDXByNL47jFfrHZ5mYWbC9RwbxGfZzizHOD0/ZbYplzC3EODs46YiGkBNTgntTCCpDjE3P0z/unRA601HphAehxRij9VKvwAmOYhPTho5+75T/2cFJFmLK0jU4VsMMWHHSqIQ3hWAp54dzFDnddAxECWT52FpmX8SQiRm+1+GhyK3LQmx/RdQUNoXYe+XvhKGhcCiHwtwsRzWEvCkEld4LIW3vn6ApHMTvs9dRCVBfmk8gy0eHgx6EdNPRH6WsIGBbaoNECnKyqC3O81T5t/fHV+VrDNvfEBIRWipDjip/TwpBSUGAilCOpyJXOvqjjhgWAvD7hKZw0Fs9ggFnOIpNWiqDtHtoaKi9f4Jt5QWWrsp3NVoqnBUw4UkhABy9bFyqiRoRQy02xk8vp6Ui6KgWUTpRShlCbP+whMn2yhBdkSiLMW8ETHQYobtOobkiyPDknGNSfXhWCMwHIeaBB8Fsedg5tX45LRVBekammfRA5FDv2AzR2QVHlX9zRZC5hRjdHogcmplf5NyQMyKGTJb8ZA5pDHlWCJorgszMx7g4Om23KWnHSY5KE/NB6Io440FIJ0vl77AeGTinIkonXZEoMRXPM+YUnBY552khAOf8EOmko3+CnCwf9aX5dpuyhJdCGDscKMTNS0KQ+cOj5j3mpPKvLsqlIOB3TP3jXSEIe0cI2vujjokYMtlamk/A76PdAxVRe3+U8mAOJQUBu01ZIpSbTXVRLp0eEOLT/RNk+4VtDgidNhERmitDjhFizwpBSUGA8mDAE0LQ4ZDUBolkGYsEeaEi6uifcNT4tEmzRxz2Hf0T8WU6bVgV7mq0VAQd0yN2VslYTFM46BhFThcTM/P0js04qlts4oWKKBZTdAw4K2LIpKUiROdA5gdMdAxEHTGRbDnNFUEGJmYZm7J/bRRPC0GzEcubyTmHliKGHOSoNGmpCNE9MsX03KLdpqSNi6PTTM0tOq5HBvF0I9PzixkdMDEzv0j38JStqadXY8lhHLG/Mep5IRifWSDikFjedOBER5nJ9sogSmV25FBnxBRi55X/ksM+g3vFZwcniSlocqQQmKlW7L//UyIEInKHiJwWkU4ReXCF/X8gIm0iclREnhKRrQn7FkXksPF6ZPm56cT8ITLZT9AxMEEgy0edgyKGTLxQEXUZ91aTA1IbLKc57JyKKF0sZd0NO08IakvyyM32OaL+SVoIRMQPfBG4E9gN3Cciu5cd9irQqpS6Bvg28OcJ+6aVUvuN111YiBdCSLsikzSWFzgqYshka1l82b5MTnXQFZmkOD+bUgdFDJkU5WdTEcrJaD9NVyS+KpkTcgwtZynVigPKPxU9goNAp1LqjFJqDvgmcHfiAUqpp5VS5hTG54EtKbhu0lQW5hDMcVYWwFTTFYk6slsM8dXKGsoLMjrnUFckSnM4aPuqZKvRUumMiihddA5E2VKS55gcQ8txSs6hVAhBLdCd8LnH2LYaHwR+kPA5V0QOicjzInLPaieJyAPGcYcikUhyFl/+Tpoc8kOkA9NR1uTAbrFJc0WQrsik3WakjTORqKPLv6UiRGcGL9LUORB15LCQiVMWabLUWSwivwq0An+RsHmrUqoV+GXgr0SkaaVzlVIPKaValVKt4XA4ZTY1hzNXCM4PTRFT9i7WvRZN4SDnhyaZXci8yKHRqTkGo3M0VThvWMKkuSLI5NwivWMzdpuSchZjirODk44WYvPZ7LK5DkqFEFwE6hI+bzG2vQYRuQ34OHCXUmopTEcpddH4ewZ4BjiQApvWTUulEcs7bX8sb6rpdLCj0qS5IkhMxUUr0zCjoXRFZA8XR6aZXYg5uiHU7JCcT6kQgpeAFhFpEJEAcC/wmugfETkA/D1xERhI2F4iIjnG+3LgDUBbCmxaN5mcasKsiBrLnfsgNGVy+Q/Eh7ycXBFlcvmb8flOLv+tpflk+8X28k9aCJRSC8BHgceBk8C3lFInRORTImJGAf0FEAT+dVmY6C7gkIgcAZ4GPquUslYIMrhF1BWJUlucR17AmY4yuBzNYfeDkA66IlECfh9bSpwXumtSHgxQlJedkXM5TCF2co8sy+9jW1mB7eWflYovUUo9Bjy2bNsnEt7ftsp5vwD2pcKGzVJnLJvYmYkPgoMjhkzyA/FlE+1+ENJBVyRKg0NDd01EZGmGfabRORBfHtRJyf5WoikctD35oqdnFkM8lrexvCDjHoRYTNE1MOlo/4BJpkZudQ5EHe0oNmkK298iTQedLmgIQXxU4vzQFHMLMdts8LwQgJn8LLNi2S+NzzA9v+jobrFJczjImchkRiU/m11Y5MLwlKNDF02aK4IMRucYnZqz25SUoZSKC7ELyr+pooDFmOLCsH1h1FoIiD8IPSPTzMxnTgijGyJWTJor4snPescyJ/mZGbrrlhYpZFbOp6HJOcam5x3tKDa57LDXQmArTeF48rOzg5kzsWkpx41LhiYgsxzGl3MMuakiypzyX8ox5CIhsFOItRDgjB8i1XRGooRyswgHc+w2ZU0ut0gzSIiNe6mh3PlCvKUkHjCRieXvBh9ZQU4W1UW5tkYuaiEg/rCKXA43ywS6BiZprnBujptEyoI5lORnZ1yLtKYol4KclATmpZVMDJjoHIiSl+2npijPblPWRVM4qHsEdpMX8GdcCGOXw3PcLMfuByHVdEUmXeEfMMm0yK3OgSiN4QJ8Dg7dTcTMuWVXzictBAbxHyIzHoTxmXkGJmZdJQTNFcGMmdSnlHKdEDeHg3SPTGVMwMSZiLNzDC2nKVxAdHaB/nF7FsnSQmDQlEEhjGci5oxK54+PmjSFgwxNzjEy6f4QxkvjM0zNLbqqR9BckTkBE1NzC1wcnXaFo9jEbj+lFgKDpnA8hLFv3P1ZGC9HDLnnQcikEMbLqQ3cJcSQGZFDlxtC7rv/7Sp/LQQG5kObCcMTXZEoWT6h3oHLU66G3Q9CKjHFzE0t0sawETCRCUIccU/otEk4lEMoJ0v3COymKcMqoq1l+WT73fPz1hTnkZPljPVbk6VzwD2huya52X7qSvIzovy7IpP4BLaVuUcIRIRGG/2U7qkp0kxZQeZkYXTL1PpE/D6hMUMih0xHsRtCdxPJlORzXZEodaX5jl2ecjXsXCRLC4GBiGRE8q35xRjnh6Zc5R8waQoXZEQWWLdFDJk0hQs4OzjJossDJrpc2BCC+FBW//gsEzPWL5KlhSCBeCy7u6MmLgxPsRBTrnwQMiHn08TMPP3js64anzZprggyuxDj4oh7cz5dXp7SfeVvPrNnbKiDtBAk0FQRJOLyZSu7XJRjZTlmCKMdD0KqMG13Q9bR5Sw57CPuzcTbOxpfntKtDSGwx2GfEiEQkTtE5LSIdIrIgyvszxGRh439L4jItoR9HzO2nxaRt6fCns3SvKTI7h2eMHs0jS5uEbl5eKjThaG7Jkux7C5OtdIZcW/515fmk+WzZ9nKpIVARPzAF4E7gd3AfSKye9lhHwRGlFLNwOeBzxnn7ia+xvEe4A7gb43vs4WmDEh+1hWJUhHKoTA3225TNszlnE/uFQI3hu6aFOcHKA8GXO0wdlPW1+Vk+31sLct3bY/gINCplDqjlJoDvgncveyYu4GvGe+/Ddwq8ZCKu4FvKnMCDlAAACAASURBVKVmlVJngU7j+2yhriSPbL+42mHsVkclJIQwurz83Ra6m0hTOOjy8p+kJD+bUocvT7kadvkpU3G31gLdCZ97jG0rHmMsdj8GlK3zXABE5AEROSQihyKRSArMvhJzIWm3toiUUvGICRc6Kk3cnnOoy2U5bpZjJp+zK/lZsri5IQTx+//c4CTzi9YuW+maZotS6iGlVKtSqjUcDqftOm7OghmJzjI+s0BjubsfhDMuDWGMh+5OutJRb9IcDjI2Pc+QS3M+nXG5EDSFgyzEFBeGpyy9biqE4CJQl/B5i7FtxWNEJAsoAobWea6lNFUUcGFoynJFTgWmk8/NFVFTuIC5hRg9I9Y+CKngwvAU84vuDN01cXOqj9GpOQajc67uES/5KS0u/1QIwUtAi4g0iEiAuPP3kWXHPALcb7x/H/BjFe97PgLca0QVNQAtwIspsGnTmIp8fsh9FVGXiyMmTNycfM6Nyf6W0+Tm8ndhsrnlLC3banH5Jy0Expj/R4HHgZPAt5RSJ0TkUyJyl3HYV4AyEekE/gB40Dj3BPAtoA34IfARpZSts4nsTgebDJ0DUfIDfqoLc+02ZdO4OQtmlwvTfy+npiiX/IDfpeXv3oghk1BuNpWFOZaH8KZkHT2l1GPAY8u2fSLh/Qzw/lXO/QzwmVTYkQrc3SJy16pMK2GGMLoxlr0rEqWyMIeQC0N3TeKpVtyZc6grEiXg97GlxB3LU66GHX5K1ziLrSKYk0VVYa4rKyK3rcq0Gm4NYXRjsr+VaAoXuHJ2d9fAJNvK88lyaeiuiRk5Z2XklrtLLE00Vbgv+dnSqkyZUBG5MITRjctTrkZzRZCLo9NMzi7YbcqGcHvEkElTOMjE7AKRCeuWrdRCsAJN4SBnXFYRLa3K5GJHpYkbQxgj0VkmZhZc7R8wMR32buoVzC3EOD88lTFCANY6jLUQrIAdipwsmeAoM3HjIkGXQ3dDNluSPG4MmLgwHJ974ubQUZNmG0JItRCsgBuTn3UNROOrMpW7L8fNctwYy+7G5RFXY2tZAX6bkp9tls4B94eOmlQW5lAQ8FuaakILwQqYD7Obks91RqLUl+aTk+WuVZlWorowHsLophapGbpb5eLQXZNAVjz5mZuEwLxXGjNACESEJouXrdRCsAJVhblxRXbTgzCQGRFDAD6f0Bh2V84nty5PuRpuS7XSFYlSVZhLMCclEfG2Y/WylVoIVsAORU4Gc1UmN6eWWE5zOOgqZ2U8dNf9w0ImzRVBzg1NsuCSVCtdkcmMGJYzaaoI0jc2Q9SiyC0tBKvQ5KKKqHt4irlFd67KtBpNYfeEMC6F7maYEM8vKs5bnPxsMyilOJMhczhMzEbFWYvqIC0Eq9AULnBNRZRJjkoTN4UwnsmAHDfLsSv52WaITMwyMbuQUeVv9bKhWghWwbypzg46vyLKpNBREzcln8uEZH/LsSv52WbozMD7v740HrllVYYDLQSr4KacQ10Dk5QHAxTnu3NVppVwUwijGbq7tcz9obsmodxsqgpz3VH+S5MpM6dHHMjysbXUumUrtRCswtayfHwuWT+3MxLNiLC5RKx+EJKhKzLJ1rKCjAjdTaSposAVIdRdGRS6m4iZasUKtBCsQk6Wn/rSfMc/CEopOgeiGeWoNGl0SRbMeLK5zGmNmjSHrU9+thkyLXTXpClsXeSWFoKr4IZY6uHJOcam5zNqfNTEDSGMZuhuppZ/dHaB/nFnp1rJtNBdk6ZwAfOLiu6R6bRfSwvBVXDD+rlmizkTH4TmingIo9Xrt26EnpHMC901cUPOITN0NxPL38pUK0kJgYiUisgTItJh/C1Z4Zj9IvKciJwQkaMi8p8S9v2jiJwVkcPGa38y9qSapnCQuYUYFy1Q5M1iDl1l4tDQUuSKg4eHMjF018QNOZ8yKevuchotFOJkewQPAk8ppVqAp4zPy5kCfk0ptQe4A/grESlO2P9HSqn9xutwkvakFPPhtiqWdzN0RaLkZvuoKXL3qkwrcTlyy7l+mq4MSna2nHAoh1BulqOFIBNDp02K8rIJh3IsCVhJVgjuBr5mvP8acM/yA5RS7UqpDuN9LzAAhJO8riU0lpuTapxbEXUORGksD7p6ecrVKMzNpiKU4+iKqHMgmnGhuybmspVOHhrqikxmXOhuIk1haxbJSlYIKpVSfcb7S0Dl1Q4WkYNAAOhK2PwZY8jo8yKSc5VzHxCRQyJyKBKJJGn2+igpCFBWEHD4g5CZEUMmzRXOXrayKwNDdxNptjCEcTN0RaLUleaTm51ZobsmVi1buaYQiMiTInJ8hdfdicepuKWrWisi1cA/A7+hlDLDQD4G7ARuAEqBP17tfKXUQ0qpVqVUazhsXYfCyS2i6bnFjHWUmTRXOHu1uExZnnI1miuCDEzMMj4zb7cpK9KVYTmGltMUDjI+s8BgNL2r9a0pBEqp25RSe1d4fQ/oNyp4s6IfWOk7RKQQeBT4uFLq+YTv7lNxZoF/AA6m4p9KJU6eVHNmMIpSmemoNDFXixtw4Gpxw5NzjEzNZ3SPbClyyIG9AjN0t7E8s+9/SL/DPtmhoUeA+4339wPfW36AiASA7wL/pJT69rJ9pogIcf/C8STtSTlN4SDDk3MMO3D93EyOGDKxY9m+9ZLJobsmTo4c6h6eYnYhRkulB+7/NI9KJCsEnwXeJiIdwG3GZ0SkVUS+bBzzAeBm4NdXCBP9uogcA44B5cCfJmlPyjEV+YwDh4e6BqKIwLayzK2InLxs6GUhyNyKqK4kj4Df58jyb++PR/O1VLp/nejVqLJotb6klvNRSg0Bt66w/RDwIeP9vwD/ssr5b03m+laQqMit20pttua1dEai1JVkrqMM4uu3BnOcGcLY3j9BfsBPbXHmhe6aZPl9bCvPd2TkXIdxT7RkcI/YXK0v3cPTembxGtQU55GT5XNkRdTZH83ohwCcvVpcx8AELRWZGbqbSLNDy7+9f4KaolxCudl2m5JWzJxP6UQLwRr4ffFY6vZ+Zz0I84sxzgxGM7pbbNLk0PWL2/u9Uf7N4SDnhyaZXVi025TX0OGR8jdX65uaS98iWVoI1sGOqtDSeKRTODc4yfyiYkdVZvcIIN4i7R93Vgjj6NQckYlZtmewo9KkqSJITMH5IefkfFqMKboimd8jhssz7NO5Wp8WgnXQUhlfSNpJFZHZQ2mp8EaLCJy1bOVS+XukRQrOihy6YEQMbfdA+VsROaSFYB3sMG62Dgf1Ck73T+CTzA4dNXFiCKPZQ/RCReREIbgcMZT5978Vi2RpIVgH5sN++pJzHoSO/gm2lhVkdMSQSX1pPtl+cZTDsqN/gmBOFjVFmbUq1krkGZFRTip/U5S80CPLyfKztaxgKUoqHWghWAe1xXnkB/yO8hOc7p/wxPg0QLbfx9YyZzmMT/dP0FyReatirYbTcg61909QW5xHMCepCHjX0FIRTGv9o4VgHfh8QkulcxzGM/OLnB+a8sSwhIkVIXQboaM/6hkhhsshpDGHLNLU3p/ZyRaXs6MqxLmhqbRFbmkhWCfbK5wTQnomEl81zQvdYpOmigLOD08xt2D/spVD0VmGJuc8JcRN4SAz8zF6x+xfpMmMGPKSELdUhliMqbQFTGghWCc7qkIMRmcdkXOoYyDeM9nhoYqouSLIYkxxfsj+yCEvRQyZOMlhf8FoEHip/M1nPV2jEloI1klLmn+IjdDeP0GWT2jI4KyLy2kOx8vfCQ5LU4i91CJ1khB4KWLLpKG8gCyfaCGwm3Qr8kY4fSlKQ3kBgSzv/HyNRoZPJwzPtfdPEMrJoqow8yOGTEoLApTkZzsiJbsZxu0lH0Egy0dDeUHaIhe9U5MkSWVhDoW5WZy+ZL8QdAxMeKo1BFCQk8XWsnxOXRq32xQjtYR3IoZM4pFD9t//7f1RT0UMmWyvDC31RlONFoJ1IiLxH8LmFun03CIXhqc8MZFmOTurQpzqs7ciUkrR0T/BjipvCTHEK6JTlyZsXy2uYyDqyft/e2WIC8NTack5pIVgA2yvCnG6394HoXMgviqZlxzFJruqCzk7NMn0nH3Jzwaj8VXJvJDaYzm7qguZmFmgd2zGNhsuRwx5r/y3VwZRCs4Opn54LikhEJFSEXlCRDqMvyWrHLeYsCjNIwnbG0TkBRHpFJGHjdXMHMv2iiBj0/NEbFw20QuLcazGzqpClIpP5rKLDg86Kk12VRcCcLLXvuG5s4NR5jySY2g5b9lZwbFP3s6emqKUf3eyPYIHgaeUUi3AU8bnlZhWSu03XnclbP8c8HmlVDMwAnwwSXvSynZjOMDOiqi9f4KA38e2snzbbLCLXdXx8j/VZ19FdLrfexFDJuZw2Ekby7/NGBrcbYiSl8jN9qdt7YVkheBu4GvG+68RX3d4XRjrFL8VMNcx3tD5dnA5csg+P0F7/wSN4QKy/N4b1asryacg4OeUjQ77tt5xyoMBwqEc22ywi6DhsD9po8O+rXecbL94KmLICpKtTSqVUn3G+0tA5SrH5YrIIRF5XkTMyr4MGFVKmZ6PHqA2SXvSSlkwh7KCAKdtfBBO9k2w04OOSoin+thRFaLN1hbpOLuqCz0XMWSyq6qQkzY67E/2jdNcEfJU6LQVrFmaIvKkiBxf4XV34nEq7kFdzYu6VSnVCvwy8Fci0rRRQ0XkAUNMDkUikY2enjJ2VRfaVhENRWe5ND6TljFCt7CzupBTfeO2OOznFmJ09EfZXeO9YQmTndUhzg1NpnW1rKvR1jfuyWGhdLOmECilblNK7V3h9T2gX0SqAYy/A6t8x0Xj7xngGeAAMAQUi4gZDLwFuHgVOx5SSrUqpVrD4fAG/sXUsqemkPZLUeYXrc95c8Jw0u3xcEW0q7qQ8ZkF+myIXOmKRJlbjHm6ItpVbTjsbRiei0zMEpmYXfIVaVJHsv2rR4D7jff3A99bfoCIlIhIjvG+HHgD0Gb0IJ4G3ne1853G7ppC5hZjtswnMHsiXm6R7jKGxeyYWNamhXhJBO0YHjqp7/+0kawQfBZ4m4h0ALcZnxGRVhH5snHMLuCQiBwhXvF/VinVZuz7Y+APRKSTuM/gK0nak3bMYZkTvWOWX/tE7zi1xXkU5zs6yjatXI5csb4iausbJzfbR0O5dx2VW0riM3rtiBxaagh5uEeWLpKao62UGgJuXWH7IeBDxvtfAPtWOf8McDAZG6ymobyAvGw/J3rHeb/F1z7RO+b51lAoN5u60jx7KqLecXZUFeL3edNRDPEZ9jurQraU/8m+cWqKcj3dEEoX2vW+Qfw+YVd1aGmYwCqm5hY4OzipW0PEJ5ZZHUKqlNKOSoNd1fHyt3qRmrbecc83hNKFFoJNsKemiLa+cUsfhJN9Eyjl7fFpk11VIc5EoszMW5dqondshrHpeV0REReC6OwCF0etW6RmZn6RM4OTS7ObNalFC8Em2FMTfxAuDE9Zdk1zfHRPrXdDR012VhcSU1jqsD9xMe4T0kJ8eYa3lWHU7f0TLMaU7pGlCS0Em+Cyw9i6B6Gtd4yivGxqiryTA381lnLeWBg51NY3jgiencyXyI6qECLWppowr6V7BOlBC8Em2F4VJMsntPVZFzl0onecPTXendGaSH1pPvkBv6V+mrbecRrKC8gPeCsH/krkB7LYVlZgqRC09Y5TEPBTX+q9HFtWoIVgE+Rk+WmuCFrWI1hYjHHq0oTuFhv4fcKemkKOXbROiLWj+LXsqrY21Udb3zg7qwvxeThiK51oIdgke2qKLBOCrsgkcwsx9tTqishkb20RJ3rHWLBghvfY9Dw9I9PaUZzA3toiuoenGZ2aS/u1YjHFyT7dEEonWgg2ye6aQiITswxMpD/VgTl5zcs5hpZzzZYiZuZjlqyhe1JPZLqCa2qLASzplXWPTBGdXdD+gTSihWCTmNEjVvQK2nrHycny0VhekPZruYV9RvTU0Z7RtF/L/I21EFzmcvmnXwiOGNe4ZotuCKULLQSbxBwmsMJheaJ3nJ1VIU+uQbAaDeVBCgJ+jlvQIj3aM0pVYS4VhTpiy6QoP5ttZfkcs0AIjnaPkpPl8+Q60Vaha5ZNUpibzday/LRXRLGY4vjFMT1/YBlxh3GRJUMTR7pHubZOl/9y9m0ptqb8e0bZXVNItm4IpQ1dsklwzZZijnSnd2jizGCUidkF9tcVp/U6bmTflrjDPp0pwUen5jg3NMW1uvyv4NotRVwcnWYwmr41vBcWYxy/OM61W3T5pxMtBEmwv66Y3rEZ+sfT5zB+9UJcaK6r1w/Ccq6tK2Z2IZbW3Pjm+LQW4isx/QTpHB7qjESZnl/UPbI0o4UgCQ4YlbNZWaeDw92jhHKzaPRw6uPVOFBnlv9I2q5xpHsUkcuVnuYye2uL8Am8msZe8dFu01GshTidaCFIgt3VhWT7hVe701cRHe4e5dotxXoizQpsKcmjPJiTViE+0j1KczhIKDc7bddwKwU5WeysKkyrEB/uGSWUk0VDmY6YSydaCJIgN9vP7poiDqepIpqeW+TUpQk9LLEKIsJ19cW8kqaKSCnFkZ5R7R+4CtdtLebVC6MspikT7yvnR9hfrxtC6SYpIRCRUhF5QkQ6jL8lKxzzFhE5nPCaEZF7jH3/KCJnE/btT8YeOzhQV8zRnvTMcD3eO8ZiTGkhuAoH6ks4NzTF8GTqZ7heGJ5iMDq3NASouZLr6kuIzi7QMZB6P83Y9Dyn+ydo3Vqa8u/WvJZkewQPAk8ppVqAp4zPr0Ep9bRSar9Saj/wVmAK+FHCIX9k7ldKHU7SHsvZX1fM9PxiWhZKefl8vKW7X1dEq3Jdffr8BC+di3/nDdt0RbQa12+Nt/3MezWVvHphBKWgddsV7UtNiklWCO4Gvma8/xpwzxrHvw/4gVLKukT+aca8SQ+dG075d794dpimcAHlwZyUf3emsG9LEX6fpGV46KWzwxTlZdMc1o761agvzaesIMAr51M/PPry+RH8PtE9YgtIVggqlVJ9xvtLQOUax98LfGPZts+IyFER+byIrFrjicgDInJIRA5FIpEkTE4tW0ryqS3O48UUC0Espjh0bpiDDbo1ejXyA1nsrSnkxbOpF+KXzg/TurVEj09fBRHhQH0JL59PffkfOjfCruoQBTk69Xe6WVMIRORJETm+wuvuxOOUUgpY1WMkItXEF7F/PGHzx4CdwA1AKfDHq52vlHpIKdWqlGoNh8NrmW0pBxtKefHsMPEiSA2n+ycYn1nQwxLr4MbGMo50j6V06cqh6CxnIpO06vJfk4MNcT9NKufTzC/GONw9qv0DFrGmECilblNK7V3h9T2g36jgzYp+4Cpf9QHgu0qp+YTv7lNxZoF/AA4m9+/Yw8GGUgajc5wdTF0mTLOFq4VgbW5sKGVuMZbS4aFD503/gB6fXoubGssAeP7MUMq+s613nOn5xSUfhCa9JDs09Ahwv/H+fuB7Vzn2PpYNCyWIiBD3LxxP0h5bMIdvUjk88eK5YWqKctlSkpey78xUWreV4hN44UwKy//sMIEsH3v1RLI12VNTRCgni+dTWP4/7xoELouMJr0kKwSfBd4mIh3AbcZnRKRVRL5sHiQi24A64CfLzv+6iBwDjgHlwJ8maY8tNJYXUB4M8EKKhEApxYtnh7mhoVQvTbkOivKy2V1TyAtnU9ci/XnnIDdsKyE325+y78xU/D7hYENpSnsEz3UNsaMyRDikAyWsICkhUEoNKaVuVUq1GENIw8b2Q0qpDyUcd04pVauUii07/61KqX3GUNOvKqWiydhjFyLCjY1l/KJrMCV+gtP9E0QmZnlDc3kKrPMGNzaU8eqFUWYXkvcTDEzMcOrShC7/DfC6pjLODk5yaSx5P8HswiIvnRvmdU26N2AVemZxiri5pZz+8VlO9yc/n+Cn7fFu8ZtadEW0Xl7fVMbsQoxD55L3EzzXFW/ZvlELwbpJpZ/glfOjzMzHtBBbiBaCFHHz9ngkk1mJJ8OzHRGaK4JUF2n/wHp5XVMZAb+Pn7QnH1r8s45BivOz9dKgG2BXdSEl+dk8m4Lyf65rEJ/AjY06UMIqtBCkiOqiPFoqgjzbkdyDMDO/yItnh3VvYIPkB7I42FDKM6evFri2Nkopft45yOubyvDr+QPrxu8Tbtke5pn2CLEk8w79pGOQa7YUU6gT/VmGFoIU8qaWMC+cHWZ6bvPj1IfOjTC7EOPmFmfNlXADt2wP094fpXd0etPf0d4fpXdshjc26/LfKG/ZWcHw5BxHklhHemBihiPdo9y6syKFlmnWQgtBCrllR5i5hRjPndn88NCTJ/sJZPl0t3gT3LIjXnknMzzxRNslAG7bpSuijXJzSxifwNOnN1/+T5+K9+hu3bVWkgJNKtFCkEJuaiwllJPFD49f2tT5SikeP3GJm1vC5Af0tPqN0lIRpKYolydP9m/6O37U1s/+umK9UP0mKCkIcKC+JKnhuSfaBqgtzmNXtV6o3kq0EKSQnCw/b91VwRNt/ZtKS320Z4y+sRnu3FuVBusyHxHhzn3VPNs+yPjM/NonLKNvbJqjPWPcvke3RjfLrbsqONozRs/IxvNKzswv8rPOCLfuqtDzZyxGC0GKuXNvNSNT85uaXPbDE5fI8gm36mGJTfPOa6qZW4zxZNvGewXmObfv1kK8Wd61rwaA7x/tW+PIK3nmdISZ+Ri36WEhy9FCkGJu2R4mL9vPD45v7EFQSvHD45d4XVMZxfmBNFmX+RyoK6a2OI9HN1ERfe9wL80VQZordNrpzVJfls/+umIeOdy74XO/+2oP5cEcXq8nklmOFoIUkxfwc+uuCh492rehbJgvnx/h7OAk776mJo3WZT4iwjv2VfFsR4SxqfUPD52JRDl0foT3XrcljdZ5g7uuraGtb5zOgfUnChidmuPHpwa4e38NWX5dLVmNLvE0cO8N9YxMzfP4ifU7jb/xYjfBnCzedW11Gi3zBvccqGV+UfHtV3rWfc63X+7B7xPee11tGi3zBu+6phqfwHc2UP7/cbSP+UXFew7o8rcDLQRp4PVNZWwty+frL1xY1/Fj0/M8eqyXu/bX6GihFLCnpojrt5bwL8+fX9fkpsWY4juvXOSW7WEdLZQCKgpzuXVXJd948cK6esVKKb71UjfbK4PsqSm0wELNcrQQpAGfT7j3hnpePDtMxzpyD33nlR5m5mPcd0O9BdZ5g1973VbODk7y086153Q8eqyPS+Mz/Kcb6iywzBv85hsaGJma53uHL6557C+6hjh2cYzfeEODjhayCS0EaeIDrVvIy/bz1z/uvOpxM/OLfOmZLm7YVsLeWt0aShV37K2iPBjgoWe7rpoRNhZT/M1THWyvDPI2Ha2SMm5qLGVnVYiv/uzcmr2yLz3TRUUoh1/Sw3K2oYUgTZQFc/jgGxv4jyO9HL84tupx//zceQYmZvnD23fo1lAKycny8+E3N/PzziGeucpM4x+euETHQJSPvrVFr02cQkSE37qlkdP9E/zbVXwFL58f5medg3zwjQ3kZOm1H+xCC0EaeeCWRorzs/mzx06u2CoaGJ/hb5/p5E0t5dyoV2JKOf/5pq1sK8vnzx49ueIEv7Hpef70+200VwR55z7tpE81d19by4H6Yj77g1OMTV8ZwTW7sMiD/3aM6qJcfuWmrTZYqDFJSghE5P0ickJEYiLSepXj7hCR0yLSKSIPJmxvEJEXjO0Pi0hGBdAX5mbzR2/fwS+6hvjCUx2v2bewGOOj33iVmfkYn3jXbpsszGwCWT4+/s7ddAxE+ZNHTrxmiEgpxX//9+P0T8zyl++/VmcaTQM+n/Dpu/cyPDXHf/vOMRaXNYb+1xPtdAxE+bNf2kcwRwdJ2EmyPYLjwC8Bz652gIj4gS8CdwK7gftExKz5Pgd8XinVDIwAH0zSHsfxywfree91W/jCUx387x93MLcQYzA6y+98/RVePDvMn/3SXloqdV6VdPG23ZV8+M1NfP2FC3zm0ZNEZxeYmlvg//3XIzxypJffv7WF/XXFdpuZseytLeLBO3by6LE+/ujbRxienGN6bpHPPNrG3//kDPcdrOMtO/RMertJSoaVUieBtca2DwKdSqkzxrHfBO4WkZPAW4FfNo77GvBJ4EvJ2OQ0RITPvGcvM/OL/OWP2vmbH3eyEFP4Rfj4O3bxngN6AlO6+aPbdzAyOceXf3aWf3nhPHMLMRTw+7e18JG3NNttXsbzW7c0MTW3yBee6uD7R/pQKOYXFfe/biufePceu83TkKQQrJNaoDvhcw9wI1AGjCqlFhK2rxo2ICIPAA8A1Ne7K8wyN9vPF3/lOt53eoCftg+Sm+3jngO1bNc9AUvw+YTPvvca7j1Yz3de6aE4P8CbWsq5YZtO9W0V/+Vt23nHvmr+9VA3fr/wxuZy3thcrgMkHMKaQiAiTwIrZeH6uFLqe6k3aWWUUg8BDwG0trYmv0K8DbxlR4XuBtvI/rpiPQxkIzuqQvx/2h/mSNYUAqXUbUle4yKQOFNni7FtCCgWkSyjV2Bu12g0Go2FWBE++hLQYkQIBYB7gUdUPITjaeB9xnH3A5b1MDQajUYTJ9nw0feISA/wOuBREXnc2F4jIo8BGK39jwKPAyeBbymlThhf8cfAH4hIJ3GfwVeSsUej0Wg0G0euNv3eqbS2tqpDhw7ZbYZGo9G4ChF5WSl1xZwvPbNYo9FoPI4WAo1Go/E4Wgg0Go3G42gh0Gg0Go/jSmexiESA85s8vRxYe7US63GqXeBc27RdG0PbtXGcattm7dqqlAov3+hKIUgGETm0ktfcbpxqFzjXNm3XxtB2bRyn2pZqu/TQkEaj0XgcLQQajUbjcbwoBA/ZbcAqONUucK5t2q6Noe3aOE61LaV2ec5HoNFoNJrX4sUegUaj0WgS0EKg0Wg0HicjhUBE3i8iJ0QkJiKty/Z9TEQ6ReS0iLx9lfMbROQF47iHjfTZqbbx+k3NZwAABVhJREFUYRE5bLzOicjhVY47JyLHjOMsybQnIp8UkYsJ9r1jlePuMMqxU0QetMCuvxCRUyJyVES+KyIrrjJjVZmt9f+LSI7xO3ca99O2dNmScM06EXlaRNqMZ+D3VjjmzSIylvD7fiLddhnXvervInH+2iivoyJynUV27Ugoi8MiMi4iv7/sGEvKTES+KiIDInI8YVupiDwhIh3G35JVzr3fOKZDRO7f0IWVUhn3AnYBO4BngNaE7buBI0AO0AB0Af4Vzv8WcK/x/u+AD6fZ3v8JfGKVfeeAcovL75PAH65xjN8ov0YgYJTr7jTbdTuQZbz/HPA5u8psPf8/8DvA3xnv7wUetuC3qwauM96HgPYV7Hoz8H0r76n1/C7AO4AfAALcBLxgg41+4BLxiVeWlxlwM3AdcDxh258DDxrvH1zpvgdKgTPG3xLjfcl6r5uRPQKl1Eml1OkVdt0NfFMpNauUOgt0AgcTD5D4IqpvBb5tbPoacE+6bDWu9wHgG+m6Rpo4CHQqpc4opeaAbxIv37ShlPqRurzG9fPEV7Wzi/X8/3cTv38gfj/dKmlepFcp1aeUesV4P0F8DZBV1wJ3GHcD/6TiPE98BcNqi224FehSSm02c0FSKKWeBYaXbU68j1arj94OPKGUGlZKjQBPAHes97oZKQRXoRboTvjcw5UPSRkwmlDhrHRMKnkT0K+U6lhlvwJ+JCIvi8gDabRjOR81uudfXaUrup6yTCe/Sbz1uBJWlNl6/v+lY4z7aYz4/WUJxlDUAeCFFXa/TkSOiMgPRGSPRSat9bvYfU9BvOe2WqPMjjIDqFRK9RnvLwGVKxyTVNmtuWaxUxGRJ4GqFXZ9XCnliCUv12njfVy9N/BGpdRFEakAnhCRU0arIW22AV8CPk38wf008aGr30z2msnaZZaZiHwcWAC+vsrXpKXM3ISIBIF/A35fKTW+bPcrxIc+oob/59+BFgvMcvTvYvgC7wI+tsJuu8rsNSillIikPObftUKglLptE6ddBOoSPm8xtiUyRLxLmmW04lY6JiU2ikgW8EvA9Vf5jovG3wER+S7xIYmkH571lp+I/B/g+yvsWk9ZptwuEfl14F3ArcoYHF3hO9JSZstYz/9vHtNj/NZFxO+vtCIi2cRF4OtKqe8s358oDEqpx0Tkb0WkXCmV1uRq6/hd0nJPbYA7gVeUUv3Ld9hVZgb9IlKtlOozhsoGVjjmInE/hskW4j7SdeG1oaFHgHuNaI4G4or+YuIBRuXyNPA+Y9P9QLp6GLcBp5RSPSvtFJECEQmZ74k7S4+vdGwqWTYu+55VrvkS0CLxCKsA8S71I2m26w7gvwJ3KaWmVjnGqjJbz///CPH7B+L3049XE69UYfggvgKcVEr9r1WOqTJ9FSJykHg9kFaBWufv8gjwa0b00E3AWMKQiBWs2ju3o8wSSLyPVquPHgduF5ESYyj3dmPb+ki3F9yOF/HKqweYBfqBxxP2fZx4tMdp4M6E7Y8BNcb7RuIC0Qn8K5CTJjv/EfjtZdtqgMcS7DhivE4QHx6xovz+GTgGHDVuwurlthmf30E8KqXLCtuM36MbOGy8/m65XVaW2Ur/P/Ap4kIFkGvcP53G/dRoQRm9kfiQ3tGEcnoH8NvmvQZ81CibI8Sd7q+3wK4Vf5dldgnwRaM8j5EQ8WeBfQXEK/aihG2WlxlxIeoD5o067IPE/UpPAR3Ak0CpcWwr8OWEc3/TuNc6gd/YyHV1igmNRqPxOF4bGtJoNBrNMrQQaDQajcfRQqDRaDQeRwuBRqPReBwtBBqNRuNxtBBoNBqNx9FCoNFoNB7n/wf+DfUHN6UZ+gAAAABJRU5ErkJggg==\n",
                "text/plain": "<Figure size 432x288 with 1 Axes>"
              }
            ],
            "_view_module": "@jupyter-widgets/output",
            "_model_module_version": "1.0.0",
            "_view_count": null,
            "_view_module_version": "1.0.0",
            "layout": "IPY_MODEL_86e5ac3a9285479da5da353a35065e54",
            "_model_module": "@jupyter-widgets/output"
          }
        },
        "5d7f0296e12f4ca59a58a4fe7869fb3e": {
          "model_module": "@jupyter-widgets/controls",
          "model_name": "DescriptionStyleModel",
          "state": {
            "_view_name": "StyleView",
            "_model_name": "DescriptionStyleModel",
            "description_width": "",
            "_view_module": "@jupyter-widgets/base",
            "_model_module_version": "1.5.0",
            "_view_count": null,
            "_view_module_version": "1.2.0",
            "_model_module": "@jupyter-widgets/controls"
          }
        },
        "bfe54f89eab84ea8bc979c884b5e645b": {
          "model_module": "@jupyter-widgets/base",
          "model_name": "LayoutModel",
          "state": {
            "_view_name": "LayoutView",
            "grid_template_rows": null,
            "right": null,
            "justify_content": null,
            "_view_module": "@jupyter-widgets/base",
            "overflow": null,
            "_model_module_version": "1.2.0",
            "_view_count": null,
            "flex_flow": null,
            "width": null,
            "min_width": null,
            "border": null,
            "align_items": null,
            "bottom": null,
            "_model_module": "@jupyter-widgets/base",
            "top": null,
            "grid_column": null,
            "overflow_y": null,
            "overflow_x": null,
            "grid_auto_flow": null,
            "grid_area": null,
            "grid_template_columns": null,
            "flex": null,
            "_model_name": "LayoutModel",
            "justify_items": null,
            "grid_row": null,
            "max_height": null,
            "align_content": null,
            "visibility": null,
            "align_self": null,
            "height": null,
            "min_height": null,
            "padding": null,
            "grid_auto_rows": null,
            "grid_gap": null,
            "max_width": null,
            "order": null,
            "_view_module_version": "1.2.0",
            "grid_template_areas": null,
            "object_position": null,
            "object_fit": null,
            "grid_auto_columns": null,
            "margin": null,
            "display": null,
            "left": null
          }
        },
        "86e5ac3a9285479da5da353a35065e54": {
          "model_module": "@jupyter-widgets/base",
          "model_name": "LayoutModel",
          "state": {
            "_view_name": "LayoutView",
            "grid_template_rows": null,
            "right": null,
            "justify_content": null,
            "_view_module": "@jupyter-widgets/base",
            "overflow": null,
            "_model_module_version": "1.2.0",
            "_view_count": null,
            "flex_flow": null,
            "width": null,
            "min_width": null,
            "border": null,
            "align_items": null,
            "bottom": null,
            "_model_module": "@jupyter-widgets/base",
            "top": null,
            "grid_column": null,
            "overflow_y": null,
            "overflow_x": null,
            "grid_auto_flow": null,
            "grid_area": null,
            "grid_template_columns": null,
            "flex": null,
            "_model_name": "LayoutModel",
            "justify_items": null,
            "grid_row": null,
            "max_height": null,
            "align_content": null,
            "visibility": null,
            "align_self": null,
            "height": null,
            "min_height": null,
            "padding": null,
            "grid_auto_rows": null,
            "grid_gap": null,
            "max_width": null,
            "order": null,
            "_view_module_version": "1.2.0",
            "grid_template_areas": null,
            "object_position": null,
            "object_fit": null,
            "grid_auto_columns": null,
            "margin": null,
            "display": null,
            "left": null
          }
        }
      }
    }
  },
  "cells": [
    {
      "cell_type": "markdown",
      "metadata": {
        "id": "view-in-github",
        "colab_type": "text"
      },
      "source": [
        "<a href=\"https://colab.research.google.com/github/ramyarangan/ssrp_srec_python_workshop_2021/blob/master/day5_python_room1.ipynb\" target=\"_parent\"><img src=\"https://colab.research.google.com/assets/colab-badge.svg\" alt=\"Open In Colab\"/></a>"
      ]
    },
    {
      "cell_type": "code",
      "metadata": {
        "id": "wXg5N336SB-9"
      },
      "source": [
        ""
      ],
      "execution_count": null,
      "outputs": []
    },
    {
      "cell_type": "markdown",
      "metadata": {
        "id": "qcD1xhWoBYIx"
      },
      "source": [
        "# Day 5: Scope, Numpy, Command Line Python, and \n",
        "Date: June 18, 2021\n",
        "\n",
        "Room 1\n",
        "\n",
        "Schedule\n",
        "\n",
        "|Session #| Time | Instructor | Helper 1 | Helper 2|\n",
        "|-|-|-|-|-|\n",
        "|1| 10:30-11:30 | Roshni| Rachael | Alex |\n",
        "| Break 1 | 11:30-11:45 |\n",
        "|2| 11:45-12:45 | Alex | Roshni | Rachael |\n",
        "|Lunch Break| 12:45 - 1:30|\n",
        "|3| 1:30 - 2:30| Roshni |\n",
        "|Break| 2:30 - 2:45|\n",
        "| Next Steps| 2:45-3:30|Ramya |\n",
        "\n",
        "## Learning objectives\n",
        "1. Learn about variable scoping\n",
        "2. Explain why the numpy library is useful to work with tabular data and perform statistical analysis\n",
        "3. Use the PEP-8 convention for programming style and best practices\n",
        "4. Test their own code and libraries for fidelity\n",
        "5. Run a python script directly from the command line\n",
        "6. Know resources where they can look for the future\n"
      ]
    },
    {
      "cell_type": "markdown",
      "metadata": {
        "id": "kLUELGPnI8VJ"
      },
      "source": [
        "## Session 1"
      ]
    },
    {
      "cell_type": "code",
      "metadata": {
        "id": "rEIAsTnLPqCZ"
      },
      "source": [
        "eggs_per_carton = 15\n",
        "\n",
        "def egg_counter(num_cartons): total_eggs = num_cartons * eggs_per_carton return(total_eggs)\n",
        "\n",
        "egg_counter(3)\n",
        "\n",
        "print(num_cartons) #you never assigned num_cartons to anything --> num_cartons undefined\n",
        "print(total_eggs) #total_eggs not defined outside the function"
      ],
      "execution_count": null,
      "outputs": []
    },
    {
      "cell_type": "code",
      "metadata": {
        "id": "-ctnOo-zPriT",
        "colab": {
          "base_uri": "https://localhost:8080/"
        },
        "outputId": "ebe028a0-b8e5-423b-de75-83caae8d4b7b"
      },
      "source": [
        "eggs_per_carton = 15\n",
        "\n",
        "def egg_counter(num_cartons, eggs_per_carton): \n",
        "  total_eggs = num_cartons * eggs_per_carton\n",
        "  return(total_eggs)\n",
        "\n",
        "egg_counter(3, 10) # 30 --> priority to what is defined inside the function\n",
        "print(eggs_per_carton)"
      ],
      "execution_count": null,
      "outputs": [
        {
          "output_type": "stream",
          "text": [
            "15\n"
          ],
          "name": "stdout"
        }
      ]
    },
    {
      "cell_type": "code",
      "metadata": {
        "id": "iAutVRm3Qn0o",
        "colab": {
          "base_uri": "https://localhost:8080/"
        },
        "outputId": "500b3ca6-7222-4a7d-824a-0b37e862b946"
      },
      "source": [
        "eggs_per_carton = 15\n",
        "\n",
        "def egg_counter(num_cartons, eggs_per_cartons): \n",
        "  total_eggs = num_cartons * eggs_per_carton\n",
        "  return(total_eggs)\n",
        "\n",
        "egg_counter(3, 10) # 30 --> priority to what is defined inside the function\n",
        "# general coding good practice : keep as few variables defined outisde of fucntions, use dedicated variable names inside functions"
      ],
      "execution_count": null,
      "outputs": [
        {
          "output_type": "execute_result",
          "data": {
            "text/plain": [
              "45"
            ]
          },
          "metadata": {
            "tags": []
          },
          "execution_count": 5
        }
      ]
    },
    {
      "cell_type": "markdown",
      "metadata": {
        "id": "51eNWla-I_in"
      },
      "source": [
        "## Session 2"
      ]
    },
    {
      "cell_type": "markdown",
      "metadata": {
        "id": "MF9g89pfI_y4"
      },
      "source": [
        "Numpy\n",
        "numpy is a library to do maths with collections of numbers (vectors or arrays, matrices)"
      ]
    },
    {
      "cell_type": "code",
      "metadata": {
        "id": "TWuM7llESEZf",
        "colab": {
          "base_uri": "https://localhost:8080/"
        },
        "outputId": "4f21e0d5-e8ed-4bc3-e312-6e78715494e5"
      },
      "source": [
        "alist = [1,5,10,12,3]\n",
        "alist"
      ],
      "execution_count": null,
      "outputs": [
        {
          "output_type": "execute_result",
          "data": {
            "text/plain": [
              "[1, 5, 10, 12, 3]"
            ]
          },
          "metadata": {
            "tags": []
          },
          "execution_count": 7
        }
      ]
    },
    {
      "cell_type": "code",
      "metadata": {
        "id": "ZVmiNKwqSPQG",
        "colab": {
          "base_uri": "https://localhost:8080/",
          "height": 164
        },
        "outputId": "0abf4fd1-66b2-419c-c271-d47b5cdb610d"
      },
      "source": [
        "alist_new = alist + 1"
      ],
      "execution_count": null,
      "outputs": [
        {
          "output_type": "error",
          "ename": "TypeError",
          "evalue": "ignored",
          "traceback": [
            "\u001b[0;31m---------------------------------------------------------------------------\u001b[0m",
            "\u001b[0;31mTypeError\u001b[0m                                 Traceback (most recent call last)",
            "\u001b[0;32m<ipython-input-8-41a91e40b7dc>\u001b[0m in \u001b[0;36m<module>\u001b[0;34m()\u001b[0m\n\u001b[0;32m----> 1\u001b[0;31m \u001b[0malist_new\u001b[0m \u001b[0;34m=\u001b[0m \u001b[0malist\u001b[0m \u001b[0;34m+\u001b[0m \u001b[0;36m1\u001b[0m\u001b[0;34m\u001b[0m\u001b[0;34m\u001b[0m\u001b[0m\n\u001b[0m",
            "\u001b[0;31mTypeError\u001b[0m: can only concatenate list (not \"int\") to list"
          ]
        }
      ]
    },
    {
      "cell_type": "code",
      "metadata": {
        "id": "uPUhGjfzSfIv"
      },
      "source": [
        "alist_new = alist.append(1) # inplace operation , modifies the list you use"
      ],
      "execution_count": null,
      "outputs": []
    },
    {
      "cell_type": "code",
      "metadata": {
        "id": "5Bw-JsJRSjkB",
        "colab": {
          "base_uri": "https://localhost:8080/"
        },
        "outputId": "cac71d9a-ce60-4b6c-e34d-40153ccde440"
      },
      "source": [
        "alist"
      ],
      "execution_count": null,
      "outputs": [
        {
          "output_type": "execute_result",
          "data": {
            "text/plain": [
              "[1, 5, 10, 12, 3, 1]"
            ]
          },
          "metadata": {
            "tags": []
          },
          "execution_count": 11
        }
      ]
    },
    {
      "cell_type": "code",
      "metadata": {
        "id": "LiZ34UR4StHv",
        "colab": {
          "base_uri": "https://localhost:8080/"
        },
        "outputId": "3f5163f4-472a-49b8-8572-f48623446426"
      },
      "source": [
        "# no direct way to do + 1 in a list\n",
        "# we could write a for loop\n",
        "alist_new = []\n",
        "for value in alist:\n",
        "  alist_new.append(value + 1)\n",
        "print(alist_new)\n"
      ],
      "execution_count": null,
      "outputs": [
        {
          "output_type": "stream",
          "text": [
            "[2, 6, 11, 13, 4, 2]\n"
          ],
          "name": "stdout"
        }
      ]
    },
    {
      "cell_type": "code",
      "metadata": {
        "id": "FfTEiFPATDI3"
      },
      "source": [
        "alist**2+(alist-1)+cos(alist)"
      ],
      "execution_count": null,
      "outputs": []
    },
    {
      "cell_type": "code",
      "metadata": {
        "id": "9IlGIG3mTJ2m"
      },
      "source": [
        "import numpy as np"
      ],
      "execution_count": null,
      "outputs": []
    },
    {
      "cell_type": "code",
      "metadata": {
        "id": "hqugerJrTcbP",
        "colab": {
          "base_uri": "https://localhost:8080/"
        },
        "outputId": "be49f46b-4e71-4218-cab2-06cb093f74c8"
      },
      "source": [
        "\n",
        "alist"
      ],
      "execution_count": null,
      "outputs": [
        {
          "output_type": "execute_result",
          "data": {
            "text/plain": [
              "[1, 5, 10, 12, 3, 1]"
            ]
          },
          "metadata": {
            "tags": []
          },
          "execution_count": 16
        }
      ]
    },
    {
      "cell_type": "code",
      "metadata": {
        "id": "ivSOynXqTPrW",
        "colab": {
          "base_uri": "https://localhost:8080/"
        },
        "outputId": "79436b28-2763-4def-f064-f365c8df73cf"
      },
      "source": [
        "# create numpy array\n",
        "x = np.array(alist)\n",
        "print(x)"
      ],
      "execution_count": null,
      "outputs": [
        {
          "output_type": "stream",
          "text": [
            "[ 1  5 10 12  3  1]\n"
          ],
          "name": "stdout"
        }
      ]
    },
    {
      "cell_type": "code",
      "metadata": {
        "id": "sPzzzTAhTem5",
        "colab": {
          "base_uri": "https://localhost:8080/"
        },
        "outputId": "2425d61f-4eb9-41fc-8b2b-98dcb37c1605"
      },
      "source": [
        "x + 1 # math friendly"
      ],
      "execution_count": null,
      "outputs": [
        {
          "output_type": "execute_result",
          "data": {
            "text/plain": [
              "array([ 2,  6, 11, 13,  4,  2])"
            ]
          },
          "metadata": {
            "tags": []
          },
          "execution_count": 17
        }
      ]
    },
    {
      "cell_type": "code",
      "metadata": {
        "id": "qIexl77oTnbD",
        "colab": {
          "base_uri": "https://localhost:8080/"
        },
        "outputId": "9ae56b7d-9e76-4613-ffb3-9ea52639496a"
      },
      "source": [
        "# y=x^2 + 2x\n",
        "y=x**2 + 2*x\n",
        "y"
      ],
      "execution_count": null,
      "outputs": [
        {
          "output_type": "execute_result",
          "data": {
            "text/plain": [
              "array([  3,  35, 120, 168,  15,   3])"
            ]
          },
          "metadata": {
            "tags": []
          },
          "execution_count": 19
        }
      ]
    },
    {
      "cell_type": "code",
      "metadata": {
        "id": "dGra4ZKkT88s",
        "colab": {
          "base_uri": "https://localhost:8080/"
        },
        "outputId": "5c399ff0-fa4f-41ec-ae28-d5921b4db5e8"
      },
      "source": [
        "type(alist)"
      ],
      "execution_count": null,
      "outputs": [
        {
          "output_type": "execute_result",
          "data": {
            "text/plain": [
              "list"
            ]
          },
          "metadata": {
            "tags": []
          },
          "execution_count": 20
        }
      ]
    },
    {
      "cell_type": "code",
      "metadata": {
        "id": "W-UydEXmUAdd",
        "colab": {
          "base_uri": "https://localhost:8080/"
        },
        "outputId": "e3580aa2-ef33-437e-a24d-f003348b3602"
      },
      "source": [
        "type(x) #numpy.ndarray is the core data structure in numpy"
      ],
      "execution_count": null,
      "outputs": [
        {
          "output_type": "execute_result",
          "data": {
            "text/plain": [
              "numpy.ndarray"
            ]
          },
          "metadata": {
            "tags": []
          },
          "execution_count": 21
        }
      ]
    },
    {
      "cell_type": "code",
      "metadata": {
        "id": "GzUz4XvpUHtv",
        "colab": {
          "base_uri": "https://localhost:8080/"
        },
        "outputId": "ca5052ac-e4a1-4d6c-95be-50ff2888f8a3"
      },
      "source": [
        "x.shape"
      ],
      "execution_count": null,
      "outputs": [
        {
          "output_type": "execute_result",
          "data": {
            "text/plain": [
              "(6,)"
            ]
          },
          "metadata": {
            "tags": []
          },
          "execution_count": 22
        }
      ]
    },
    {
      "cell_type": "code",
      "metadata": {
        "id": "j-jWP613UOYJ"
      },
      "source": [
        "# make a two dimensional array\n",
        "M = [[1, 3, 5],[-1, 10, 6]]\n"
      ],
      "execution_count": null,
      "outputs": []
    },
    {
      "cell_type": "code",
      "metadata": {
        "id": "4WDpSfKDUeYf",
        "colab": {
          "base_uri": "https://localhost:8080/"
        },
        "outputId": "db5fd27f-6983-4dcc-d337-dff69efdac47"
      },
      "source": [
        "type(M)"
      ],
      "execution_count": null,
      "outputs": [
        {
          "output_type": "execute_result",
          "data": {
            "text/plain": [
              "list"
            ]
          },
          "metadata": {
            "tags": []
          },
          "execution_count": 24
        }
      ]
    },
    {
      "cell_type": "code",
      "metadata": {
        "id": "6elPLNkdUjFR",
        "colab": {
          "base_uri": "https://localhost:8080/"
        },
        "outputId": "93a43330-81d3-4207-d0a7-7b4bf0582b88"
      },
      "source": [
        "# convert M to a numpy 2d array\n",
        "M_array=np.array(M)\n",
        "M_array"
      ],
      "execution_count": null,
      "outputs": [
        {
          "output_type": "execute_result",
          "data": {
            "text/plain": [
              "array([[ 1,  3,  5],\n",
              "       [-1, 10,  6]])"
            ]
          },
          "metadata": {
            "tags": []
          },
          "execution_count": 26
        }
      ]
    },
    {
      "cell_type": "code",
      "metadata": {
        "id": "CSQT94lwUtZD",
        "colab": {
          "base_uri": "https://localhost:8080/"
        },
        "outputId": "ede06231-5fc5-4e52-dec3-2c41ce98de54"
      },
      "source": [
        "type(M_array)"
      ],
      "execution_count": null,
      "outputs": [
        {
          "output_type": "execute_result",
          "data": {
            "text/plain": [
              "numpy.ndarray"
            ]
          },
          "metadata": {
            "tags": []
          },
          "execution_count": 27
        }
      ]
    },
    {
      "cell_type": "code",
      "metadata": {
        "id": "PBSpMilzUvxD",
        "colab": {
          "base_uri": "https://localhost:8080/"
        },
        "outputId": "ec8a08e0-0908-4030-9e57-6d202b172c27"
      },
      "source": [
        "M_array.shape"
      ],
      "execution_count": null,
      "outputs": [
        {
          "output_type": "execute_result",
          "data": {
            "text/plain": [
              "(2, 3)"
            ]
          },
          "metadata": {
            "tags": []
          },
          "execution_count": 28
        }
      ]
    },
    {
      "cell_type": "code",
      "metadata": {
        "id": "WTWPc775U_db",
        "colab": {
          "base_uri": "https://localhost:8080/"
        },
        "outputId": "a4ace2d7-d1fe-454b-bab3-ffb7236f382c"
      },
      "source": [
        "M2=np.array([[1,2,3],[4,5,8],[0,0,0]])\n",
        "M2"
      ],
      "execution_count": null,
      "outputs": [
        {
          "output_type": "execute_result",
          "data": {
            "text/plain": [
              "array([[1, 2, 3],\n",
              "       [4, 5, 8],\n",
              "       [0, 0, 0]])"
            ]
          },
          "metadata": {
            "tags": []
          },
          "execution_count": 30
        }
      ]
    },
    {
      "cell_type": "markdown",
      "metadata": {
        "id": "9dColcR1VMAd"
      },
      "source": [
        "Slicing"
      ]
    },
    {
      "cell_type": "code",
      "metadata": {
        "id": "x4kWNb_9VXUe",
        "colab": {
          "base_uri": "https://localhost:8080/"
        },
        "outputId": "14659bd8-18db-486e-dd0c-b24a0f0ba3d8"
      },
      "source": [
        "# get the 2 row of this matrix M2\n",
        "M2[1, :] # M[row_pos, col_pos]"
      ],
      "execution_count": null,
      "outputs": [
        {
          "output_type": "execute_result",
          "data": {
            "text/plain": [
              "array([4, 5, 8])"
            ]
          },
          "metadata": {
            "tags": []
          },
          "execution_count": 32
        }
      ]
    },
    {
      "cell_type": "code",
      "metadata": {
        "id": "tHVygYRpVxtk",
        "colab": {
          "base_uri": "https://localhost:8080/"
        },
        "outputId": "a76fb3f5-7f74-4f91-8879-34f4637c2ed0"
      },
      "source": [
        "# first 2 rows, columns 2 and 3\n",
        "M2[0:2,[1,2]]\n",
        "M2[0:2, 1:3]"
      ],
      "execution_count": null,
      "outputs": [
        {
          "output_type": "execute_result",
          "data": {
            "text/plain": [
              "array([[2, 3],\n",
              "       [5, 8]])"
            ]
          },
          "metadata": {
            "tags": []
          },
          "execution_count": 35
        }
      ]
    },
    {
      "cell_type": "code",
      "metadata": {
        "id": "2Ym5_-jEWXX3",
        "colab": {
          "base_uri": "https://localhost:8080/",
          "height": 143
        },
        "outputId": "a87e825c-5571-495e-a3a0-0279993fc491"
      },
      "source": [
        "# numpy array to pandas dataframe\n",
        "import pandas as pd\n",
        "# rcall earlier we loaded data from external file : pd.read_csv(filename)\n",
        "# here we make the df from scratch\n",
        "df=pd.DataFrame(M2)\n",
        "df"
      ],
      "execution_count": null,
      "outputs": [
        {
          "output_type": "execute_result",
          "data": {
            "text/html": [
              "<div>\n",
              "<style scoped>\n",
              "    .dataframe tbody tr th:only-of-type {\n",
              "        vertical-align: middle;\n",
              "    }\n",
              "\n",
              "    .dataframe tbody tr th {\n",
              "        vertical-align: top;\n",
              "    }\n",
              "\n",
              "    .dataframe thead th {\n",
              "        text-align: right;\n",
              "    }\n",
              "</style>\n",
              "<table border=\"1\" class=\"dataframe\">\n",
              "  <thead>\n",
              "    <tr style=\"text-align: right;\">\n",
              "      <th></th>\n",
              "      <th>0</th>\n",
              "      <th>1</th>\n",
              "      <th>2</th>\n",
              "    </tr>\n",
              "  </thead>\n",
              "  <tbody>\n",
              "    <tr>\n",
              "      <th>0</th>\n",
              "      <td>1</td>\n",
              "      <td>2</td>\n",
              "      <td>3</td>\n",
              "    </tr>\n",
              "    <tr>\n",
              "      <th>1</th>\n",
              "      <td>4</td>\n",
              "      <td>5</td>\n",
              "      <td>8</td>\n",
              "    </tr>\n",
              "    <tr>\n",
              "      <th>2</th>\n",
              "      <td>0</td>\n",
              "      <td>0</td>\n",
              "      <td>0</td>\n",
              "    </tr>\n",
              "  </tbody>\n",
              "</table>\n",
              "</div>"
            ],
            "text/plain": [
              "   0  1  2\n",
              "0  1  2  3\n",
              "1  4  5  8\n",
              "2  0  0  0"
            ]
          },
          "metadata": {
            "tags": []
          },
          "execution_count": 36
        }
      ]
    },
    {
      "cell_type": "code",
      "metadata": {
        "id": "f8U63LQhWxVL",
        "colab": {
          "base_uri": "https://localhost:8080/",
          "height": 143
        },
        "outputId": "846189a9-3ac9-410e-854b-861f6e236b45"
      },
      "source": [
        "\n",
        "# we want to give names to the rows and columns\n",
        "# rows are days : day0, day1, day2\n",
        "# columns are cities : seattle, denver, ny\n",
        "df=pd.DataFrame(M2,index=['day0','day1','day2'], columns=['seattle','denver','ny'])\n",
        "df"
      ],
      "execution_count": null,
      "outputs": [
        {
          "output_type": "execute_result",
          "data": {
            "text/html": [
              "<div>\n",
              "<style scoped>\n",
              "    .dataframe tbody tr th:only-of-type {\n",
              "        vertical-align: middle;\n",
              "    }\n",
              "\n",
              "    .dataframe tbody tr th {\n",
              "        vertical-align: top;\n",
              "    }\n",
              "\n",
              "    .dataframe thead th {\n",
              "        text-align: right;\n",
              "    }\n",
              "</style>\n",
              "<table border=\"1\" class=\"dataframe\">\n",
              "  <thead>\n",
              "    <tr style=\"text-align: right;\">\n",
              "      <th></th>\n",
              "      <th>seattle</th>\n",
              "      <th>denver</th>\n",
              "      <th>ny</th>\n",
              "    </tr>\n",
              "  </thead>\n",
              "  <tbody>\n",
              "    <tr>\n",
              "      <th>day0</th>\n",
              "      <td>1</td>\n",
              "      <td>2</td>\n",
              "      <td>3</td>\n",
              "    </tr>\n",
              "    <tr>\n",
              "      <th>day1</th>\n",
              "      <td>4</td>\n",
              "      <td>5</td>\n",
              "      <td>8</td>\n",
              "    </tr>\n",
              "    <tr>\n",
              "      <th>day2</th>\n",
              "      <td>0</td>\n",
              "      <td>0</td>\n",
              "      <td>0</td>\n",
              "    </tr>\n",
              "  </tbody>\n",
              "</table>\n",
              "</div>"
            ],
            "text/plain": [
              "      seattle  denver  ny\n",
              "day0        1       2   3\n",
              "day1        4       5   8\n",
              "day2        0       0   0"
            ]
          },
          "metadata": {
            "tags": []
          },
          "execution_count": 37
        }
      ]
    },
    {
      "cell_type": "code",
      "metadata": {
        "id": "yCz4bGzhXQFx",
        "colab": {
          "base_uri": "https://localhost:8080/",
          "height": 143
        },
        "outputId": "3e2692fe-3d07-4e48-92e1-4f9c43943052"
      },
      "source": [
        "#make the same dataframe but multiply all elements by 10\n",
        "df=pd.DataFrame(M2**2+np.cos(M2),index=['day0','day1','day2'], columns=['seattle','denver','ny'])\n",
        "df"
      ],
      "execution_count": null,
      "outputs": [
        {
          "output_type": "execute_result",
          "data": {
            "text/html": [
              "<div>\n",
              "<style scoped>\n",
              "    .dataframe tbody tr th:only-of-type {\n",
              "        vertical-align: middle;\n",
              "    }\n",
              "\n",
              "    .dataframe tbody tr th {\n",
              "        vertical-align: top;\n",
              "    }\n",
              "\n",
              "    .dataframe thead th {\n",
              "        text-align: right;\n",
              "    }\n",
              "</style>\n",
              "<table border=\"1\" class=\"dataframe\">\n",
              "  <thead>\n",
              "    <tr style=\"text-align: right;\">\n",
              "      <th></th>\n",
              "      <th>seattle</th>\n",
              "      <th>denver</th>\n",
              "      <th>ny</th>\n",
              "    </tr>\n",
              "  </thead>\n",
              "  <tbody>\n",
              "    <tr>\n",
              "      <th>day0</th>\n",
              "      <td>1.540302</td>\n",
              "      <td>3.583853</td>\n",
              "      <td>8.010008</td>\n",
              "    </tr>\n",
              "    <tr>\n",
              "      <th>day1</th>\n",
              "      <td>15.346356</td>\n",
              "      <td>25.283662</td>\n",
              "      <td>63.854500</td>\n",
              "    </tr>\n",
              "    <tr>\n",
              "      <th>day2</th>\n",
              "      <td>1.000000</td>\n",
              "      <td>1.000000</td>\n",
              "      <td>1.000000</td>\n",
              "    </tr>\n",
              "  </tbody>\n",
              "</table>\n",
              "</div>"
            ],
            "text/plain": [
              "        seattle     denver         ny\n",
              "day0   1.540302   3.583853   8.010008\n",
              "day1  15.346356  25.283662  63.854500\n",
              "day2   1.000000   1.000000   1.000000"
            ]
          },
          "metadata": {
            "tags": []
          },
          "execution_count": 40
        }
      ]
    },
    {
      "cell_type": "code",
      "metadata": {
        "id": "zVybaQoXXyaa",
        "colab": {
          "base_uri": "https://localhost:8080/"
        },
        "outputId": "e5d94f21-b841-4007-ded2-e63a660a7bb2"
      },
      "source": [
        "# math function with numpy us the math functions in the numpy library, rather than in the math library\n",
        "import math\n",
        "math.cos(1)\n",
        "#math.cos(M2) # cosine of all entries in the matrix --> math library NO GOOD for arrays\n",
        "np.cos(M2)\n"
      ],
      "execution_count": null,
      "outputs": [
        {
          "output_type": "execute_result",
          "data": {
            "text/plain": [
              "array([[ 0.54030231, -0.41614684, -0.9899925 ],\n",
              "       [-0.65364362,  0.28366219, -0.14550003],\n",
              "       [ 1.        ,  1.        ,  1.        ]])"
            ]
          },
          "metadata": {
            "tags": []
          },
          "execution_count": 43
        }
      ]
    },
    {
      "cell_type": "markdown",
      "metadata": {
        "id": "0ietphbQYZd5"
      },
      "source": [
        "GO from pandas to numpy"
      ]
    },
    {
      "cell_type": "code",
      "metadata": {
        "id": "Oa46BNllYduZ",
        "colab": {
          "base_uri": "https://localhost:8080/",
          "height": 143
        },
        "outputId": "35fd6b2b-84d2-498e-d917-632b7f8ea423"
      },
      "source": [
        "df"
      ],
      "execution_count": null,
      "outputs": [
        {
          "output_type": "execute_result",
          "data": {
            "text/html": [
              "<div>\n",
              "<style scoped>\n",
              "    .dataframe tbody tr th:only-of-type {\n",
              "        vertical-align: middle;\n",
              "    }\n",
              "\n",
              "    .dataframe tbody tr th {\n",
              "        vertical-align: top;\n",
              "    }\n",
              "\n",
              "    .dataframe thead th {\n",
              "        text-align: right;\n",
              "    }\n",
              "</style>\n",
              "<table border=\"1\" class=\"dataframe\">\n",
              "  <thead>\n",
              "    <tr style=\"text-align: right;\">\n",
              "      <th></th>\n",
              "      <th>seattle</th>\n",
              "      <th>denver</th>\n",
              "      <th>ny</th>\n",
              "    </tr>\n",
              "  </thead>\n",
              "  <tbody>\n",
              "    <tr>\n",
              "      <th>day0</th>\n",
              "      <td>1.540302</td>\n",
              "      <td>3.583853</td>\n",
              "      <td>8.010008</td>\n",
              "    </tr>\n",
              "    <tr>\n",
              "      <th>day1</th>\n",
              "      <td>15.346356</td>\n",
              "      <td>25.283662</td>\n",
              "      <td>63.854500</td>\n",
              "    </tr>\n",
              "    <tr>\n",
              "      <th>day2</th>\n",
              "      <td>1.000000</td>\n",
              "      <td>1.000000</td>\n",
              "      <td>1.000000</td>\n",
              "    </tr>\n",
              "  </tbody>\n",
              "</table>\n",
              "</div>"
            ],
            "text/plain": [
              "        seattle     denver         ny\n",
              "day0   1.540302   3.583853   8.010008\n",
              "day1  15.346356  25.283662  63.854500\n",
              "day2   1.000000   1.000000   1.000000"
            ]
          },
          "metadata": {
            "tags": []
          },
          "execution_count": 44
        }
      ]
    },
    {
      "cell_type": "code",
      "metadata": {
        "id": "92p6XEgfYkwN",
        "colab": {
          "base_uri": "https://localhost:8080/"
        },
        "outputId": "add25b7d-5960-4bee-c534-8ef37b75be07"
      },
      "source": [
        "# get all the numbers squared\n",
        "# pull these numbers into a numpy array\n",
        "M3 = df.values #pandas INTERNALLY uses numpy arrays to store the data\n",
        "M3"
      ],
      "execution_count": null,
      "outputs": [
        {
          "output_type": "execute_result",
          "data": {
            "text/plain": [
              "array([[ 1.54030231,  3.58385316,  8.0100075 ],\n",
              "       [15.34635638, 25.28366219, 63.85449997],\n",
              "       [ 1.        ,  1.        ,  1.        ]])"
            ]
          },
          "metadata": {
            "tags": []
          },
          "execution_count": 45
        }
      ]
    },
    {
      "cell_type": "code",
      "metadata": {
        "id": "GowLiStKY2SV",
        "colab": {
          "base_uri": "https://localhost:8080/"
        },
        "outputId": "7462e2c3-2a3c-421d-ad43-b10174c4894b"
      },
      "source": [
        "# modify an entry in the array\n",
        "# say I want row1, column1 = 0\n",
        "M3[0, 0]=0\n",
        "M3"
      ],
      "execution_count": null,
      "outputs": [
        {
          "output_type": "execute_result",
          "data": {
            "text/plain": [
              "array([[ 0.        ,  3.58385316,  8.0100075 ],\n",
              "       [15.34635638, 25.28366219, 63.85449997],\n",
              "       [ 1.        ,  1.        ,  1.        ]])"
            ]
          },
          "metadata": {
            "tags": []
          },
          "execution_count": 48
        }
      ]
    },
    {
      "cell_type": "code",
      "metadata": {
        "id": "QKiA6NCDZR_v",
        "colab": {
          "base_uri": "https://localhost:8080/",
          "height": 143
        },
        "outputId": "2fd80e8e-2d51-4b3d-f0db-8d1734fa526b"
      },
      "source": [
        "df  # df.values delves into the datset underlying the df \n",
        "#--> if we modify this dataset, we're implicitely modifying the dataframe"
      ],
      "execution_count": null,
      "outputs": [
        {
          "output_type": "execute_result",
          "data": {
            "text/html": [
              "<div>\n",
              "<style scoped>\n",
              "    .dataframe tbody tr th:only-of-type {\n",
              "        vertical-align: middle;\n",
              "    }\n",
              "\n",
              "    .dataframe tbody tr th {\n",
              "        vertical-align: top;\n",
              "    }\n",
              "\n",
              "    .dataframe thead th {\n",
              "        text-align: right;\n",
              "    }\n",
              "</style>\n",
              "<table border=\"1\" class=\"dataframe\">\n",
              "  <thead>\n",
              "    <tr style=\"text-align: right;\">\n",
              "      <th></th>\n",
              "      <th>seattle</th>\n",
              "      <th>denver</th>\n",
              "      <th>ny</th>\n",
              "    </tr>\n",
              "  </thead>\n",
              "  <tbody>\n",
              "    <tr>\n",
              "      <th>day0</th>\n",
              "      <td>0.000000</td>\n",
              "      <td>3.583853</td>\n",
              "      <td>8.010008</td>\n",
              "    </tr>\n",
              "    <tr>\n",
              "      <th>day1</th>\n",
              "      <td>15.346356</td>\n",
              "      <td>25.283662</td>\n",
              "      <td>63.854500</td>\n",
              "    </tr>\n",
              "    <tr>\n",
              "      <th>day2</th>\n",
              "      <td>1.000000</td>\n",
              "      <td>1.000000</td>\n",
              "      <td>1.000000</td>\n",
              "    </tr>\n",
              "  </tbody>\n",
              "</table>\n",
              "</div>"
            ],
            "text/plain": [
              "        seattle     denver         ny\n",
              "day0   0.000000   3.583853   8.010008\n",
              "day1  15.346356  25.283662  63.854500\n",
              "day2   1.000000   1.000000   1.000000"
            ]
          },
          "metadata": {
            "tags": []
          },
          "execution_count": 49
        }
      ]
    },
    {
      "cell_type": "code",
      "metadata": {
        "id": "4wI17dqVZizU",
        "colab": {
          "base_uri": "https://localhost:8080/"
        },
        "outputId": "9e0b3ee7-eaf0-411f-f770-a5d8db26fdd2"
      },
      "source": [
        "#create a new aray that has a copy of the pandas dataframe values\n",
        "M3_copy=df.values.copy()\n",
        "M3_copy"
      ],
      "execution_count": null,
      "outputs": [
        {
          "output_type": "execute_result",
          "data": {
            "text/plain": [
              "array([[ 0.        ,  3.58385316,  8.0100075 ],\n",
              "       [15.34635638, 25.28366219, 63.85449997],\n",
              "       [ 1.        ,  1.        ,  1.        ]])"
            ]
          },
          "metadata": {
            "tags": []
          },
          "execution_count": 51
        }
      ]
    },
    {
      "cell_type": "code",
      "metadata": {
        "id": "iYBLCnKdZufH",
        "colab": {
          "base_uri": "https://localhost:8080/"
        },
        "outputId": "9b9a9aa8-bfc0-4219-c54b-639c0328ba9e"
      },
      "source": [
        "M3_copy[0,0]=100\n",
        "M3_copy"
      ],
      "execution_count": null,
      "outputs": [
        {
          "output_type": "execute_result",
          "data": {
            "text/plain": [
              "array([[100.        ,   3.58385316,   8.0100075 ],\n",
              "       [ 15.34635638,  25.28366219,  63.85449997],\n",
              "       [  1.        ,   1.        ,   1.        ]])"
            ]
          },
          "metadata": {
            "tags": []
          },
          "execution_count": 53
        }
      ]
    },
    {
      "cell_type": "code",
      "metadata": {
        "id": "WVWlg_HwZy5d",
        "colab": {
          "base_uri": "https://localhost:8080/",
          "height": 143
        },
        "outputId": "4fdd8694-8910-431c-9ffc-fba27809d779"
      },
      "source": [
        "df"
      ],
      "execution_count": null,
      "outputs": [
        {
          "output_type": "execute_result",
          "data": {
            "text/html": [
              "<div>\n",
              "<style scoped>\n",
              "    .dataframe tbody tr th:only-of-type {\n",
              "        vertical-align: middle;\n",
              "    }\n",
              "\n",
              "    .dataframe tbody tr th {\n",
              "        vertical-align: top;\n",
              "    }\n",
              "\n",
              "    .dataframe thead th {\n",
              "        text-align: right;\n",
              "    }\n",
              "</style>\n",
              "<table border=\"1\" class=\"dataframe\">\n",
              "  <thead>\n",
              "    <tr style=\"text-align: right;\">\n",
              "      <th></th>\n",
              "      <th>seattle</th>\n",
              "      <th>denver</th>\n",
              "      <th>ny</th>\n",
              "    </tr>\n",
              "  </thead>\n",
              "  <tbody>\n",
              "    <tr>\n",
              "      <th>day0</th>\n",
              "      <td>0.000000</td>\n",
              "      <td>3.583853</td>\n",
              "      <td>8.010008</td>\n",
              "    </tr>\n",
              "    <tr>\n",
              "      <th>day1</th>\n",
              "      <td>15.346356</td>\n",
              "      <td>25.283662</td>\n",
              "      <td>63.854500</td>\n",
              "    </tr>\n",
              "    <tr>\n",
              "      <th>day2</th>\n",
              "      <td>1.000000</td>\n",
              "      <td>1.000000</td>\n",
              "      <td>1.000000</td>\n",
              "    </tr>\n",
              "  </tbody>\n",
              "</table>\n",
              "</div>"
            ],
            "text/plain": [
              "        seattle     denver         ny\n",
              "day0   0.000000   3.583853   8.010008\n",
              "day1  15.346356  25.283662  63.854500\n",
              "day2   1.000000   1.000000   1.000000"
            ]
          },
          "metadata": {
            "tags": []
          },
          "execution_count": 54
        }
      ]
    },
    {
      "cell_type": "markdown",
      "metadata": {
        "id": "m52DEplmJFPc"
      },
      "source": [
        "## Session 3"
      ]
    },
    {
      "cell_type": "markdown",
      "metadata": {
        "id": "aeTcCi1eDe2V"
      },
      "source": [
        "## Widgets!!"
      ]
    },
    {
      "cell_type": "code",
      "metadata": {
        "id": "3XLMJvWxJHpk"
      },
      "source": [
        "from ipywidgets import interact\n",
        "import ipywidgets as widgets"
      ],
      "execution_count": 11,
      "outputs": []
    },
    {
      "cell_type": "code",
      "metadata": {
        "id": "JomdrILqBe-X"
      },
      "source": [
        "def my_func(x):\n",
        "  print(f\"The square of {x} is {x**2}\")"
      ],
      "execution_count": 14,
      "outputs": []
    },
    {
      "cell_type": "code",
      "metadata": {
        "id": "O6reYLE6Bx1T",
        "outputId": "832a4acb-2c51-4781-e115-f162793b2be3",
        "colab": {
          "base_uri": "https://localhost:8080/",
          "height": 67,
          "referenced_widgets": [
            "cbfd23cbfee545ad8e6fad5529952fa6",
            "e74f4865915940a9ac66295cd016ddfb",
            "e845eaa65b0243cb82c2b64d56cf784c",
            "a17be10a26b84ec7990ebe0902dd8d2b",
            "74cc3d8bc63743c0851fa77ab5bf0f33",
            "16dfe0adba6a430f909a807379ee5a6d",
            "67acd7ea99cb47f09b415b05ec29f6c6"
          ]
        }
      },
      "source": [
        "_=interact(my_func, x=10)"
      ],
      "execution_count": 15,
      "outputs": [
        {
          "output_type": "display_data",
          "data": {
            "application/vnd.jupyter.widget-view+json": {
              "model_id": "cbfd23cbfee545ad8e6fad5529952fa6",
              "version_minor": 0,
              "version_major": 2
            },
            "text/plain": [
              "interactive(children=(IntSlider(value=10, description='x', max=30, min=-10), Output()), _dom_classes=('widget-…"
            ]
          },
          "metadata": {
            "tags": []
          }
        }
      ]
    },
    {
      "cell_type": "code",
      "metadata": {
        "id": "Mj0ddCxCCC6Z"
      },
      "source": [
        "import numpy as np\n",
        "import matplotlib.pyplot as plt"
      ],
      "execution_count": 16,
      "outputs": []
    },
    {
      "cell_type": "code",
      "metadata": {
        "id": "K7hXKBuTCwei"
      },
      "source": [
        "def my_func(x):\n",
        "  return x**2\n",
        "\n",
        "def my_plot_func(function_type):\n",
        "  x = np.arange(-10, 10, 0.1)\n",
        "  plt.plot(x, function_type(x))"
      ],
      "execution_count": 20,
      "outputs": []
    },
    {
      "cell_type": "code",
      "metadata": {
        "id": "fkLZj6KFCxw3",
        "outputId": "1196d295-7433-4e4c-99b7-fdaee4deaded",
        "colab": {
          "base_uri": "https://localhost:8080/",
          "height": 297,
          "referenced_widgets": [
            "158de3a4c8b0471fa44e4ecf43c47a22",
            "cc100c46ebc3421984be9dd3c041272e",
            "9059c94578664af99fe7729a985acf38",
            "b15c229c4ad14381bd86bdb2200005d0",
            "5d7f0296e12f4ca59a58a4fe7869fb3e",
            "bfe54f89eab84ea8bc979c884b5e645b",
            "86e5ac3a9285479da5da353a35065e54"
          ]
        }
      },
      "source": [
        "_=interact(my_plot_func, function_type=[np.cos, np.sin, np.log10, my_func])"
      ],
      "execution_count": 22,
      "outputs": [
        {
          "output_type": "display_data",
          "data": {
            "application/vnd.jupyter.widget-view+json": {
              "model_id": "158de3a4c8b0471fa44e4ecf43c47a22",
              "version_minor": 0,
              "version_major": 2
            },
            "text/plain": [
              "interactive(children=(Dropdown(description='function_type', options=(<ufunc 'cos'>, <ufunc 'sin'>, <ufunc 'log…"
            ]
          },
          "metadata": {
            "tags": []
          }
        }
      ]
    },
    {
      "cell_type": "code",
      "metadata": {
        "id": "DXP4pTUVC83M",
        "outputId": "43c70e1e-021a-42f7-b429-e9e7dd0f8b55",
        "colab": {
          "base_uri": "https://localhost:8080/"
        }
      },
      "source": [
        "x = \"hello world\"\n",
        "print(f\"This is the content of x {x}\")"
      ],
      "execution_count": 23,
      "outputs": [
        {
          "output_type": "stream",
          "text": [
            "This is the content of x hello world\n"
          ],
          "name": "stdout"
        }
      ]
    },
    {
      "cell_type": "code",
      "metadata": {
        "id": "jvP3s-9_GG1M",
        "outputId": "96d62878-1f8c-4081-afe4-f9d7838a23cf",
        "colab": {
          "base_uri": "https://localhost:8080/",
          "height": 36
        }
      },
      "source": [
        "\"this \" + \" that\" + \"the other\" + x"
      ],
      "execution_count": 25,
      "outputs": [
        {
          "output_type": "execute_result",
          "data": {
            "application/vnd.google.colaboratory.intrinsic+json": {
              "type": "string"
            },
            "text/plain": [
              "'this  thatthe otherhello world'"
            ]
          },
          "metadata": {
            "tags": []
          },
          "execution_count": 25
        }
      ]
    },
    {
      "cell_type": "code",
      "metadata": {
        "id": "M4SsAV5vGPox"
      },
      "source": [
        ""
      ],
      "execution_count": null,
      "outputs": []
    }
  ]
}