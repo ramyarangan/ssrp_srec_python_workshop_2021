{
  "nbformat": 4,
  "nbformat_minor": 0,
  "metadata": {
    "colab": {
      "name": "day4_python_room1.ipynb",
      "provenance": [],
      "include_colab_link": true
    },
    "kernelspec": {
      "name": "python3",
      "display_name": "Python 3"
    },
    "language_info": {
      "name": "python"
    }
  },
  "cells": [
    {
      "cell_type": "markdown",
      "metadata": {
        "id": "view-in-github",
        "colab_type": "text"
      },
      "source": [
        "<a href=\"https://colab.research.google.com/github/ramyarangan/ssrp_srec_python_workshop_2021/blob/master/day4_python_room1.ipynb\" target=\"_parent\"><img src=\"https://colab.research.google.com/assets/colab-badge.svg\" alt=\"Open In Colab\"/></a>"
      ]
    },
    {
      "cell_type": "markdown",
      "metadata": {
        "id": "DQTwy18R5eWZ"
      },
      "source": [
        "# Day 4: Pandas\n",
        "Date: June 17, 2021\n",
        "\n",
        "Room 1\n",
        "\n",
        "Schedule\n",
        "\n",
        "|Session #| Time | Instructor | Helper 1 | Helper 2|\n",
        "|-|-|-|-|-|\n",
        "|1| 10:30-11:30 | Charles| | Ramya |\n",
        "| Break 1 | 11:30-11:45 |\n",
        "|2| 11:45-12:45 | Charles | Ramya | Alex |\n",
        "|Lunch Break| 12:45 - 1:30|\n",
        "|3| 1:30 - 2:30| Alex | Charles | Ramya |\n",
        "|Break| 2:30 - 2:45|\n",
        "|Office Hours| 2:45 - 3:30 \n",
        "\n",
        "## Learning objectives\n",
        "* Read tabular data into data frames using the pandas Library\n",
        "* Plot data a number of ways including line plots, box plots, and histograms\n",
        "* Loop over multiple datasets and write functions\n",
        "* Understand variable scoping and appropriate usage of scope\n"
      ]
    },
    {
      "cell_type": "markdown",
      "metadata": {
        "id": "hNDBllZz0EhD"
      },
      "source": [
        "## Our dataset"
      ]
    },
    {
      "cell_type": "markdown",
      "metadata": {
        "id": "FuKGFmpU0B7X"
      },
      "source": [
        "\n",
        "In this workshop, we'll be learning Pandas by doing some simple analysis on Covid incidence data. We'll use data published and updated daily by the New York Times in a github repository : https://github.com/nytimes/covid-19-data"
      ]
    },
    {
      "cell_type": "code",
      "metadata": {
        "id": "BATiF5jf0WFB"
      },
      "source": [
        "#the url to the raw csv data with live covid numbers by US county\n",
        "nytimes_covid_live_url='https://raw.githubusercontent.com/nytimes/covid-19-data/master/live/us-counties.csv'\n",
        "nytimes_covid_history_url='https://raw.githubusercontent.com/nytimes/covid-19-data/master/us-states.csv'"
      ],
      "execution_count": 4,
      "outputs": []
    },
    {
      "cell_type": "markdown",
      "metadata": {
        "id": "2TRlmpEU69gJ"
      },
      "source": [
        "## Session 1:  Reading tabular data into data-frames, Pandas dataframes, plotting\n"
      ]
    },
    {
      "cell_type": "code",
      "metadata": {
        "id": "5W4EWH2I7y2m",
        "colab": {
          "base_uri": "https://localhost:8080/",
          "height": 36
        },
        "outputId": "83e018b0-9be7-4941-99ca-ff41540c5378"
      },
      "source": [
        "nytimes_covid_live_url"
      ],
      "execution_count": 5,
      "outputs": [
        {
          "output_type": "execute_result",
          "data": {
            "application/vnd.google.colaboratory.intrinsic+json": {
              "type": "string"
            },
            "text/plain": [
              "'https://raw.githubusercontent.com/nytimes/covid-19-data/master/live/us-counties.csv'"
            ]
          },
          "metadata": {
            "tags": []
          },
          "execution_count": 5
        }
      ]
    },
    {
      "cell_type": "code",
      "metadata": {
        "id": "cJ4DERCeEb7r"
      },
      "source": [
        "import math"
      ],
      "execution_count": 6,
      "outputs": []
    },
    {
      "cell_type": "code",
      "metadata": {
        "id": "hpMqiPz4EiBF",
        "colab": {
          "base_uri": "https://localhost:8080/"
        },
        "outputId": "345b552c-9375-484b-fe8f-a019d3b5e19c"
      },
      "source": [
        "math.cos(math.pi)"
      ],
      "execution_count": 7,
      "outputs": [
        {
          "output_type": "execute_result",
          "data": {
            "text/plain": [
              "-1.0"
            ]
          },
          "metadata": {
            "tags": []
          },
          "execution_count": 7
        }
      ]
    },
    {
      "cell_type": "code",
      "metadata": {
        "id": "fZympkUaElJS"
      },
      "source": [
        "import math as m #m is now an alias for math"
      ],
      "execution_count": 8,
      "outputs": []
    },
    {
      "cell_type": "code",
      "metadata": {
        "id": "SMYPMUAZEseT",
        "colab": {
          "base_uri": "https://localhost:8080/"
        },
        "outputId": "a7894a45-38d8-4879-af1d-73d385774bff"
      },
      "source": [
        "m.cos(m.pi)"
      ],
      "execution_count": 9,
      "outputs": [
        {
          "output_type": "execute_result",
          "data": {
            "text/plain": [
              "-1.0"
            ]
          },
          "metadata": {
            "tags": []
          },
          "execution_count": 9
        }
      ]
    },
    {
      "cell_type": "code",
      "metadata": {
        "id": "OqaTKpCxExgL"
      },
      "source": [
        "import pandas as pd"
      ],
      "execution_count": 10,
      "outputs": []
    },
    {
      "cell_type": "code",
      "metadata": {
        "id": "gILQQBxZE1Fp",
        "colab": {
          "base_uri": "https://localhost:8080/"
        },
        "outputId": "dd47b939-7167-4736-bf39-1fdf1dfb9989"
      },
      "source": [
        "help(pd)"
      ],
      "execution_count": 11,
      "outputs": [
        {
          "output_type": "stream",
          "text": [
            "Help on package pandas:\n",
            "\n",
            "NAME\n",
            "    pandas\n",
            "\n",
            "DESCRIPTION\n",
            "    pandas - a powerful data analysis and manipulation library for Python\n",
            "    =====================================================================\n",
            "    \n",
            "    **pandas** is a Python package providing fast, flexible, and expressive data\n",
            "    structures designed to make working with \"relational\" or \"labeled\" data both\n",
            "    easy and intuitive. It aims to be the fundamental high-level building block for\n",
            "    doing practical, **real world** data analysis in Python. Additionally, it has\n",
            "    the broader goal of becoming **the most powerful and flexible open source data\n",
            "    analysis / manipulation tool available in any language**. It is already well on\n",
            "    its way toward this goal.\n",
            "    \n",
            "    Main Features\n",
            "    -------------\n",
            "    Here are just a few of the things that pandas does well:\n",
            "    \n",
            "      - Easy handling of missing data in floating point as well as non-floating\n",
            "        point data.\n",
            "      - Size mutability: columns can be inserted and deleted from DataFrame and\n",
            "        higher dimensional objects\n",
            "      - Automatic and explicit data alignment: objects can be explicitly aligned\n",
            "        to a set of labels, or the user can simply ignore the labels and let\n",
            "        `Series`, `DataFrame`, etc. automatically align the data for you in\n",
            "        computations.\n",
            "      - Powerful, flexible group by functionality to perform split-apply-combine\n",
            "        operations on data sets, for both aggregating and transforming data.\n",
            "      - Make it easy to convert ragged, differently-indexed data in other Python\n",
            "        and NumPy data structures into DataFrame objects.\n",
            "      - Intelligent label-based slicing, fancy indexing, and subsetting of large\n",
            "        data sets.\n",
            "      - Intuitive merging and joining data sets.\n",
            "      - Flexible reshaping and pivoting of data sets.\n",
            "      - Hierarchical labeling of axes (possible to have multiple labels per tick).\n",
            "      - Robust IO tools for loading data from flat files (CSV and delimited),\n",
            "        Excel files, databases, and saving/loading data from the ultrafast HDF5\n",
            "        format.\n",
            "      - Time series-specific functionality: date range generation and frequency\n",
            "        conversion, moving window statistics, date shifting and lagging.\n",
            "\n",
            "PACKAGE CONTENTS\n",
            "    _config (package)\n",
            "    _libs (package)\n",
            "    _testing\n",
            "    _typing\n",
            "    _version\n",
            "    api (package)\n",
            "    arrays (package)\n",
            "    compat (package)\n",
            "    conftest\n",
            "    core (package)\n",
            "    errors (package)\n",
            "    io (package)\n",
            "    plotting (package)\n",
            "    testing\n",
            "    tests (package)\n",
            "    tseries (package)\n",
            "    util (package)\n",
            "\n",
            "SUBMODULES\n",
            "    _hashtable\n",
            "    _lib\n",
            "    _tslib\n",
            "    offsets\n",
            "\n",
            "FUNCTIONS\n",
            "    __getattr__(name)\n",
            "\n",
            "DATA\n",
            "    IndexSlice = <pandas.core.indexing._IndexSlice object>\n",
            "    NA = <NA>\n",
            "    NaT = NaT\n",
            "    __docformat__ = 'restructuredtext'\n",
            "    __git_version__ = 'b5958ee1999e9aead1938c0bba2b674378807b3d'\n",
            "    describe_option = <pandas._config.config.CallableDynamicDoc object>\n",
            "    get_option = <pandas._config.config.CallableDynamicDoc object>\n",
            "    options = <pandas._config.config.DictWrapper object>\n",
            "    reset_option = <pandas._config.config.CallableDynamicDoc object>\n",
            "    set_option = <pandas._config.config.CallableDynamicDoc object>\n",
            "\n",
            "VERSION\n",
            "    1.1.5\n",
            "\n",
            "FILE\n",
            "    /usr/local/lib/python3.7/dist-packages/pandas/__init__.py\n",
            "\n",
            "\n"
          ],
          "name": "stdout"
        }
      ]
    },
    {
      "cell_type": "code",
      "metadata": {
        "id": "uvoe-kr0E-rx",
        "colab": {
          "base_uri": "https://localhost:8080/",
          "height": 444
        },
        "outputId": "b201aac0-9c5d-4a08-8a0d-56628fbf563a"
      },
      "source": [
        "\n",
        "pd.read_csv(nytimes_covid_live_url)"
      ],
      "execution_count": 12,
      "outputs": [
        {
          "output_type": "execute_result",
          "data": {
            "text/html": [
              "<div>\n",
              "<style scoped>\n",
              "    .dataframe tbody tr th:only-of-type {\n",
              "        vertical-align: middle;\n",
              "    }\n",
              "\n",
              "    .dataframe tbody tr th {\n",
              "        vertical-align: top;\n",
              "    }\n",
              "\n",
              "    .dataframe thead th {\n",
              "        text-align: right;\n",
              "    }\n",
              "</style>\n",
              "<table border=\"1\" class=\"dataframe\">\n",
              "  <thead>\n",
              "    <tr style=\"text-align: right;\">\n",
              "      <th></th>\n",
              "      <th>date</th>\n",
              "      <th>county</th>\n",
              "      <th>state</th>\n",
              "      <th>fips</th>\n",
              "      <th>cases</th>\n",
              "      <th>deaths</th>\n",
              "      <th>confirmed_cases</th>\n",
              "      <th>confirmed_deaths</th>\n",
              "      <th>probable_cases</th>\n",
              "      <th>probable_deaths</th>\n",
              "    </tr>\n",
              "  </thead>\n",
              "  <tbody>\n",
              "    <tr>\n",
              "      <th>0</th>\n",
              "      <td>2021-06-17</td>\n",
              "      <td>Autauga</td>\n",
              "      <td>Alabama</td>\n",
              "      <td>1001.0</td>\n",
              "      <td>7230</td>\n",
              "      <td>113.0</td>\n",
              "      <td>6057.0</td>\n",
              "      <td>101.0</td>\n",
              "      <td>1173.0</td>\n",
              "      <td>12.0</td>\n",
              "    </tr>\n",
              "    <tr>\n",
              "      <th>1</th>\n",
              "      <td>2021-06-17</td>\n",
              "      <td>Baldwin</td>\n",
              "      <td>Alabama</td>\n",
              "      <td>1003.0</td>\n",
              "      <td>21839</td>\n",
              "      <td>313.0</td>\n",
              "      <td>15370.0</td>\n",
              "      <td>237.0</td>\n",
              "      <td>6469.0</td>\n",
              "      <td>76.0</td>\n",
              "    </tr>\n",
              "    <tr>\n",
              "      <th>2</th>\n",
              "      <td>2021-06-17</td>\n",
              "      <td>Barbour</td>\n",
              "      <td>Alabama</td>\n",
              "      <td>1005.0</td>\n",
              "      <td>2346</td>\n",
              "      <td>59.0</td>\n",
              "      <td>1315.0</td>\n",
              "      <td>41.0</td>\n",
              "      <td>1031.0</td>\n",
              "      <td>18.0</td>\n",
              "    </tr>\n",
              "    <tr>\n",
              "      <th>3</th>\n",
              "      <td>2021-06-17</td>\n",
              "      <td>Bibb</td>\n",
              "      <td>Alabama</td>\n",
              "      <td>1007.0</td>\n",
              "      <td>2684</td>\n",
              "      <td>64.0</td>\n",
              "      <td>2149.0</td>\n",
              "      <td>40.0</td>\n",
              "      <td>535.0</td>\n",
              "      <td>24.0</td>\n",
              "    </tr>\n",
              "    <tr>\n",
              "      <th>4</th>\n",
              "      <td>2021-06-17</td>\n",
              "      <td>Blount</td>\n",
              "      <td>Alabama</td>\n",
              "      <td>1009.0</td>\n",
              "      <td>6944</td>\n",
              "      <td>139.0</td>\n",
              "      <td>5305.0</td>\n",
              "      <td>115.0</td>\n",
              "      <td>1639.0</td>\n",
              "      <td>24.0</td>\n",
              "    </tr>\n",
              "    <tr>\n",
              "      <th>...</th>\n",
              "      <td>...</td>\n",
              "      <td>...</td>\n",
              "      <td>...</td>\n",
              "      <td>...</td>\n",
              "      <td>...</td>\n",
              "      <td>...</td>\n",
              "      <td>...</td>\n",
              "      <td>...</td>\n",
              "      <td>...</td>\n",
              "      <td>...</td>\n",
              "    </tr>\n",
              "    <tr>\n",
              "      <th>3242</th>\n",
              "      <td>2021-06-17</td>\n",
              "      <td>Sweetwater</td>\n",
              "      <td>Wyoming</td>\n",
              "      <td>56037.0</td>\n",
              "      <td>4664</td>\n",
              "      <td>40.0</td>\n",
              "      <td>4441.0</td>\n",
              "      <td>NaN</td>\n",
              "      <td>223.0</td>\n",
              "      <td>NaN</td>\n",
              "    </tr>\n",
              "    <tr>\n",
              "      <th>3243</th>\n",
              "      <td>2021-06-17</td>\n",
              "      <td>Teton</td>\n",
              "      <td>Wyoming</td>\n",
              "      <td>56039.0</td>\n",
              "      <td>3797</td>\n",
              "      <td>11.0</td>\n",
              "      <td>3708.0</td>\n",
              "      <td>NaN</td>\n",
              "      <td>89.0</td>\n",
              "      <td>NaN</td>\n",
              "    </tr>\n",
              "    <tr>\n",
              "      <th>3244</th>\n",
              "      <td>2021-06-17</td>\n",
              "      <td>Uinta</td>\n",
              "      <td>Wyoming</td>\n",
              "      <td>56041.0</td>\n",
              "      <td>2302</td>\n",
              "      <td>13.0</td>\n",
              "      <td>1969.0</td>\n",
              "      <td>NaN</td>\n",
              "      <td>333.0</td>\n",
              "      <td>NaN</td>\n",
              "    </tr>\n",
              "    <tr>\n",
              "      <th>3245</th>\n",
              "      <td>2021-06-17</td>\n",
              "      <td>Washakie</td>\n",
              "      <td>Wyoming</td>\n",
              "      <td>56043.0</td>\n",
              "      <td>924</td>\n",
              "      <td>26.0</td>\n",
              "      <td>724.0</td>\n",
              "      <td>NaN</td>\n",
              "      <td>200.0</td>\n",
              "      <td>NaN</td>\n",
              "    </tr>\n",
              "    <tr>\n",
              "      <th>3246</th>\n",
              "      <td>2021-06-17</td>\n",
              "      <td>Weston</td>\n",
              "      <td>Wyoming</td>\n",
              "      <td>56045.0</td>\n",
              "      <td>656</td>\n",
              "      <td>6.0</td>\n",
              "      <td>551.0</td>\n",
              "      <td>NaN</td>\n",
              "      <td>105.0</td>\n",
              "      <td>NaN</td>\n",
              "    </tr>\n",
              "  </tbody>\n",
              "</table>\n",
              "<p>3247 rows × 10 columns</p>\n",
              "</div>"
            ],
            "text/plain": [
              "            date      county  ... probable_cases  probable_deaths\n",
              "0     2021-06-17     Autauga  ...         1173.0             12.0\n",
              "1     2021-06-17     Baldwin  ...         6469.0             76.0\n",
              "2     2021-06-17     Barbour  ...         1031.0             18.0\n",
              "3     2021-06-17        Bibb  ...          535.0             24.0\n",
              "4     2021-06-17      Blount  ...         1639.0             24.0\n",
              "...          ...         ...  ...            ...              ...\n",
              "3242  2021-06-17  Sweetwater  ...          223.0              NaN\n",
              "3243  2021-06-17       Teton  ...           89.0              NaN\n",
              "3244  2021-06-17       Uinta  ...          333.0              NaN\n",
              "3245  2021-06-17    Washakie  ...          200.0              NaN\n",
              "3246  2021-06-17      Weston  ...          105.0              NaN\n",
              "\n",
              "[3247 rows x 10 columns]"
            ]
          },
          "metadata": {
            "tags": []
          },
          "execution_count": 12
        }
      ]
    },
    {
      "cell_type": "code",
      "metadata": {
        "id": "-RI0WLAKFNhl"
      },
      "source": [
        "\n",
        "covid_data=pd.read_csv(nytimes_covid_live_url)"
      ],
      "execution_count": 13,
      "outputs": []
    },
    {
      "cell_type": "code",
      "metadata": {
        "id": "YneQVqJiFVHk",
        "colab": {
          "base_uri": "https://localhost:8080/"
        },
        "outputId": "58ef339a-68c1-47aa-c9a4-c0a66a2352cd"
      },
      "source": [
        "print(covid_data)"
      ],
      "execution_count": 14,
      "outputs": [
        {
          "output_type": "stream",
          "text": [
            "            date      county  ... probable_cases  probable_deaths\n",
            "0     2021-06-17     Autauga  ...         1173.0             12.0\n",
            "1     2021-06-17     Baldwin  ...         6469.0             76.0\n",
            "2     2021-06-17     Barbour  ...         1031.0             18.0\n",
            "3     2021-06-17        Bibb  ...          535.0             24.0\n",
            "4     2021-06-17      Blount  ...         1639.0             24.0\n",
            "...          ...         ...  ...            ...              ...\n",
            "3242  2021-06-17  Sweetwater  ...          223.0              NaN\n",
            "3243  2021-06-17       Teton  ...           89.0              NaN\n",
            "3244  2021-06-17       Uinta  ...          333.0              NaN\n",
            "3245  2021-06-17    Washakie  ...          200.0              NaN\n",
            "3246  2021-06-17      Weston  ...          105.0              NaN\n",
            "\n",
            "[3247 rows x 10 columns]\n"
          ],
          "name": "stdout"
        }
      ]
    },
    {
      "cell_type": "code",
      "metadata": {
        "id": "KudsgJ3AFk0p",
        "colab": {
          "base_uri": "https://localhost:8080/",
          "height": 444
        },
        "outputId": "3fe77dac-6a46-49b2-fbaf-9df06c7e47d6"
      },
      "source": [
        "display(covid_data)"
      ],
      "execution_count": 15,
      "outputs": [
        {
          "output_type": "display_data",
          "data": {
            "text/html": [
              "<div>\n",
              "<style scoped>\n",
              "    .dataframe tbody tr th:only-of-type {\n",
              "        vertical-align: middle;\n",
              "    }\n",
              "\n",
              "    .dataframe tbody tr th {\n",
              "        vertical-align: top;\n",
              "    }\n",
              "\n",
              "    .dataframe thead th {\n",
              "        text-align: right;\n",
              "    }\n",
              "</style>\n",
              "<table border=\"1\" class=\"dataframe\">\n",
              "  <thead>\n",
              "    <tr style=\"text-align: right;\">\n",
              "      <th></th>\n",
              "      <th>date</th>\n",
              "      <th>county</th>\n",
              "      <th>state</th>\n",
              "      <th>fips</th>\n",
              "      <th>cases</th>\n",
              "      <th>deaths</th>\n",
              "      <th>confirmed_cases</th>\n",
              "      <th>confirmed_deaths</th>\n",
              "      <th>probable_cases</th>\n",
              "      <th>probable_deaths</th>\n",
              "    </tr>\n",
              "  </thead>\n",
              "  <tbody>\n",
              "    <tr>\n",
              "      <th>0</th>\n",
              "      <td>2021-06-17</td>\n",
              "      <td>Autauga</td>\n",
              "      <td>Alabama</td>\n",
              "      <td>1001.0</td>\n",
              "      <td>7230</td>\n",
              "      <td>113.0</td>\n",
              "      <td>6057.0</td>\n",
              "      <td>101.0</td>\n",
              "      <td>1173.0</td>\n",
              "      <td>12.0</td>\n",
              "    </tr>\n",
              "    <tr>\n",
              "      <th>1</th>\n",
              "      <td>2021-06-17</td>\n",
              "      <td>Baldwin</td>\n",
              "      <td>Alabama</td>\n",
              "      <td>1003.0</td>\n",
              "      <td>21839</td>\n",
              "      <td>313.0</td>\n",
              "      <td>15370.0</td>\n",
              "      <td>237.0</td>\n",
              "      <td>6469.0</td>\n",
              "      <td>76.0</td>\n",
              "    </tr>\n",
              "    <tr>\n",
              "      <th>2</th>\n",
              "      <td>2021-06-17</td>\n",
              "      <td>Barbour</td>\n",
              "      <td>Alabama</td>\n",
              "      <td>1005.0</td>\n",
              "      <td>2346</td>\n",
              "      <td>59.0</td>\n",
              "      <td>1315.0</td>\n",
              "      <td>41.0</td>\n",
              "      <td>1031.0</td>\n",
              "      <td>18.0</td>\n",
              "    </tr>\n",
              "    <tr>\n",
              "      <th>3</th>\n",
              "      <td>2021-06-17</td>\n",
              "      <td>Bibb</td>\n",
              "      <td>Alabama</td>\n",
              "      <td>1007.0</td>\n",
              "      <td>2684</td>\n",
              "      <td>64.0</td>\n",
              "      <td>2149.0</td>\n",
              "      <td>40.0</td>\n",
              "      <td>535.0</td>\n",
              "      <td>24.0</td>\n",
              "    </tr>\n",
              "    <tr>\n",
              "      <th>4</th>\n",
              "      <td>2021-06-17</td>\n",
              "      <td>Blount</td>\n",
              "      <td>Alabama</td>\n",
              "      <td>1009.0</td>\n",
              "      <td>6944</td>\n",
              "      <td>139.0</td>\n",
              "      <td>5305.0</td>\n",
              "      <td>115.0</td>\n",
              "      <td>1639.0</td>\n",
              "      <td>24.0</td>\n",
              "    </tr>\n",
              "    <tr>\n",
              "      <th>...</th>\n",
              "      <td>...</td>\n",
              "      <td>...</td>\n",
              "      <td>...</td>\n",
              "      <td>...</td>\n",
              "      <td>...</td>\n",
              "      <td>...</td>\n",
              "      <td>...</td>\n",
              "      <td>...</td>\n",
              "      <td>...</td>\n",
              "      <td>...</td>\n",
              "    </tr>\n",
              "    <tr>\n",
              "      <th>3242</th>\n",
              "      <td>2021-06-17</td>\n",
              "      <td>Sweetwater</td>\n",
              "      <td>Wyoming</td>\n",
              "      <td>56037.0</td>\n",
              "      <td>4664</td>\n",
              "      <td>40.0</td>\n",
              "      <td>4441.0</td>\n",
              "      <td>NaN</td>\n",
              "      <td>223.0</td>\n",
              "      <td>NaN</td>\n",
              "    </tr>\n",
              "    <tr>\n",
              "      <th>3243</th>\n",
              "      <td>2021-06-17</td>\n",
              "      <td>Teton</td>\n",
              "      <td>Wyoming</td>\n",
              "      <td>56039.0</td>\n",
              "      <td>3797</td>\n",
              "      <td>11.0</td>\n",
              "      <td>3708.0</td>\n",
              "      <td>NaN</td>\n",
              "      <td>89.0</td>\n",
              "      <td>NaN</td>\n",
              "    </tr>\n",
              "    <tr>\n",
              "      <th>3244</th>\n",
              "      <td>2021-06-17</td>\n",
              "      <td>Uinta</td>\n",
              "      <td>Wyoming</td>\n",
              "      <td>56041.0</td>\n",
              "      <td>2302</td>\n",
              "      <td>13.0</td>\n",
              "      <td>1969.0</td>\n",
              "      <td>NaN</td>\n",
              "      <td>333.0</td>\n",
              "      <td>NaN</td>\n",
              "    </tr>\n",
              "    <tr>\n",
              "      <th>3245</th>\n",
              "      <td>2021-06-17</td>\n",
              "      <td>Washakie</td>\n",
              "      <td>Wyoming</td>\n",
              "      <td>56043.0</td>\n",
              "      <td>924</td>\n",
              "      <td>26.0</td>\n",
              "      <td>724.0</td>\n",
              "      <td>NaN</td>\n",
              "      <td>200.0</td>\n",
              "      <td>NaN</td>\n",
              "    </tr>\n",
              "    <tr>\n",
              "      <th>3246</th>\n",
              "      <td>2021-06-17</td>\n",
              "      <td>Weston</td>\n",
              "      <td>Wyoming</td>\n",
              "      <td>56045.0</td>\n",
              "      <td>656</td>\n",
              "      <td>6.0</td>\n",
              "      <td>551.0</td>\n",
              "      <td>NaN</td>\n",
              "      <td>105.0</td>\n",
              "      <td>NaN</td>\n",
              "    </tr>\n",
              "  </tbody>\n",
              "</table>\n",
              "<p>3247 rows × 10 columns</p>\n",
              "</div>"
            ],
            "text/plain": [
              "            date      county  ... probable_cases  probable_deaths\n",
              "0     2021-06-17     Autauga  ...         1173.0             12.0\n",
              "1     2021-06-17     Baldwin  ...         6469.0             76.0\n",
              "2     2021-06-17     Barbour  ...         1031.0             18.0\n",
              "3     2021-06-17        Bibb  ...          535.0             24.0\n",
              "4     2021-06-17      Blount  ...         1639.0             24.0\n",
              "...          ...         ...  ...            ...              ...\n",
              "3242  2021-06-17  Sweetwater  ...          223.0              NaN\n",
              "3243  2021-06-17       Teton  ...           89.0              NaN\n",
              "3244  2021-06-17       Uinta  ...          333.0              NaN\n",
              "3245  2021-06-17    Washakie  ...          200.0              NaN\n",
              "3246  2021-06-17      Weston  ...          105.0              NaN\n",
              "\n",
              "[3247 rows x 10 columns]"
            ]
          },
          "metadata": {
            "tags": []
          }
        }
      ]
    },
    {
      "cell_type": "code",
      "metadata": {
        "id": "iwDwpjs6Fo6X",
        "colab": {
          "base_uri": "https://localhost:8080/",
          "height": 444
        },
        "outputId": "c7c556ff-60de-44e4-d626-2205ad5081bc"
      },
      "source": [
        "covid_data #same aas display --> the last line in a cell goes throught the display function"
      ],
      "execution_count": 16,
      "outputs": [
        {
          "output_type": "execute_result",
          "data": {
            "text/html": [
              "<div>\n",
              "<style scoped>\n",
              "    .dataframe tbody tr th:only-of-type {\n",
              "        vertical-align: middle;\n",
              "    }\n",
              "\n",
              "    .dataframe tbody tr th {\n",
              "        vertical-align: top;\n",
              "    }\n",
              "\n",
              "    .dataframe thead th {\n",
              "        text-align: right;\n",
              "    }\n",
              "</style>\n",
              "<table border=\"1\" class=\"dataframe\">\n",
              "  <thead>\n",
              "    <tr style=\"text-align: right;\">\n",
              "      <th></th>\n",
              "      <th>date</th>\n",
              "      <th>county</th>\n",
              "      <th>state</th>\n",
              "      <th>fips</th>\n",
              "      <th>cases</th>\n",
              "      <th>deaths</th>\n",
              "      <th>confirmed_cases</th>\n",
              "      <th>confirmed_deaths</th>\n",
              "      <th>probable_cases</th>\n",
              "      <th>probable_deaths</th>\n",
              "    </tr>\n",
              "  </thead>\n",
              "  <tbody>\n",
              "    <tr>\n",
              "      <th>0</th>\n",
              "      <td>2021-06-17</td>\n",
              "      <td>Autauga</td>\n",
              "      <td>Alabama</td>\n",
              "      <td>1001.0</td>\n",
              "      <td>7230</td>\n",
              "      <td>113.0</td>\n",
              "      <td>6057.0</td>\n",
              "      <td>101.0</td>\n",
              "      <td>1173.0</td>\n",
              "      <td>12.0</td>\n",
              "    </tr>\n",
              "    <tr>\n",
              "      <th>1</th>\n",
              "      <td>2021-06-17</td>\n",
              "      <td>Baldwin</td>\n",
              "      <td>Alabama</td>\n",
              "      <td>1003.0</td>\n",
              "      <td>21839</td>\n",
              "      <td>313.0</td>\n",
              "      <td>15370.0</td>\n",
              "      <td>237.0</td>\n",
              "      <td>6469.0</td>\n",
              "      <td>76.0</td>\n",
              "    </tr>\n",
              "    <tr>\n",
              "      <th>2</th>\n",
              "      <td>2021-06-17</td>\n",
              "      <td>Barbour</td>\n",
              "      <td>Alabama</td>\n",
              "      <td>1005.0</td>\n",
              "      <td>2346</td>\n",
              "      <td>59.0</td>\n",
              "      <td>1315.0</td>\n",
              "      <td>41.0</td>\n",
              "      <td>1031.0</td>\n",
              "      <td>18.0</td>\n",
              "    </tr>\n",
              "    <tr>\n",
              "      <th>3</th>\n",
              "      <td>2021-06-17</td>\n",
              "      <td>Bibb</td>\n",
              "      <td>Alabama</td>\n",
              "      <td>1007.0</td>\n",
              "      <td>2684</td>\n",
              "      <td>64.0</td>\n",
              "      <td>2149.0</td>\n",
              "      <td>40.0</td>\n",
              "      <td>535.0</td>\n",
              "      <td>24.0</td>\n",
              "    </tr>\n",
              "    <tr>\n",
              "      <th>4</th>\n",
              "      <td>2021-06-17</td>\n",
              "      <td>Blount</td>\n",
              "      <td>Alabama</td>\n",
              "      <td>1009.0</td>\n",
              "      <td>6944</td>\n",
              "      <td>139.0</td>\n",
              "      <td>5305.0</td>\n",
              "      <td>115.0</td>\n",
              "      <td>1639.0</td>\n",
              "      <td>24.0</td>\n",
              "    </tr>\n",
              "    <tr>\n",
              "      <th>...</th>\n",
              "      <td>...</td>\n",
              "      <td>...</td>\n",
              "      <td>...</td>\n",
              "      <td>...</td>\n",
              "      <td>...</td>\n",
              "      <td>...</td>\n",
              "      <td>...</td>\n",
              "      <td>...</td>\n",
              "      <td>...</td>\n",
              "      <td>...</td>\n",
              "    </tr>\n",
              "    <tr>\n",
              "      <th>3242</th>\n",
              "      <td>2021-06-17</td>\n",
              "      <td>Sweetwater</td>\n",
              "      <td>Wyoming</td>\n",
              "      <td>56037.0</td>\n",
              "      <td>4664</td>\n",
              "      <td>40.0</td>\n",
              "      <td>4441.0</td>\n",
              "      <td>NaN</td>\n",
              "      <td>223.0</td>\n",
              "      <td>NaN</td>\n",
              "    </tr>\n",
              "    <tr>\n",
              "      <th>3243</th>\n",
              "      <td>2021-06-17</td>\n",
              "      <td>Teton</td>\n",
              "      <td>Wyoming</td>\n",
              "      <td>56039.0</td>\n",
              "      <td>3797</td>\n",
              "      <td>11.0</td>\n",
              "      <td>3708.0</td>\n",
              "      <td>NaN</td>\n",
              "      <td>89.0</td>\n",
              "      <td>NaN</td>\n",
              "    </tr>\n",
              "    <tr>\n",
              "      <th>3244</th>\n",
              "      <td>2021-06-17</td>\n",
              "      <td>Uinta</td>\n",
              "      <td>Wyoming</td>\n",
              "      <td>56041.0</td>\n",
              "      <td>2302</td>\n",
              "      <td>13.0</td>\n",
              "      <td>1969.0</td>\n",
              "      <td>NaN</td>\n",
              "      <td>333.0</td>\n",
              "      <td>NaN</td>\n",
              "    </tr>\n",
              "    <tr>\n",
              "      <th>3245</th>\n",
              "      <td>2021-06-17</td>\n",
              "      <td>Washakie</td>\n",
              "      <td>Wyoming</td>\n",
              "      <td>56043.0</td>\n",
              "      <td>924</td>\n",
              "      <td>26.0</td>\n",
              "      <td>724.0</td>\n",
              "      <td>NaN</td>\n",
              "      <td>200.0</td>\n",
              "      <td>NaN</td>\n",
              "    </tr>\n",
              "    <tr>\n",
              "      <th>3246</th>\n",
              "      <td>2021-06-17</td>\n",
              "      <td>Weston</td>\n",
              "      <td>Wyoming</td>\n",
              "      <td>56045.0</td>\n",
              "      <td>656</td>\n",
              "      <td>6.0</td>\n",
              "      <td>551.0</td>\n",
              "      <td>NaN</td>\n",
              "      <td>105.0</td>\n",
              "      <td>NaN</td>\n",
              "    </tr>\n",
              "  </tbody>\n",
              "</table>\n",
              "<p>3247 rows × 10 columns</p>\n",
              "</div>"
            ],
            "text/plain": [
              "            date      county  ... probable_cases  probable_deaths\n",
              "0     2021-06-17     Autauga  ...         1173.0             12.0\n",
              "1     2021-06-17     Baldwin  ...         6469.0             76.0\n",
              "2     2021-06-17     Barbour  ...         1031.0             18.0\n",
              "3     2021-06-17        Bibb  ...          535.0             24.0\n",
              "4     2021-06-17      Blount  ...         1639.0             24.0\n",
              "...          ...         ...  ...            ...              ...\n",
              "3242  2021-06-17  Sweetwater  ...          223.0              NaN\n",
              "3243  2021-06-17       Teton  ...           89.0              NaN\n",
              "3244  2021-06-17       Uinta  ...          333.0              NaN\n",
              "3245  2021-06-17    Washakie  ...          200.0              NaN\n",
              "3246  2021-06-17      Weston  ...          105.0              NaN\n",
              "\n",
              "[3247 rows x 10 columns]"
            ]
          },
          "metadata": {
            "tags": []
          },
          "execution_count": 16
        }
      ]
    },
    {
      "cell_type": "code",
      "metadata": {
        "id": "Zh5p8uP5F9O7"
      },
      "source": [
        "covid_data=covid_data.drop(['date','fips','confirmed_cases','confirmed_deaths','probable_cases','probable_deaths'], axis=1) #1 is column"
      ],
      "execution_count": 17,
      "outputs": []
    },
    {
      "cell_type": "markdown",
      "metadata": {
        "id": "S_Yl0UGBGm7U"
      },
      "source": [
        ""
      ]
    },
    {
      "cell_type": "code",
      "metadata": {
        "id": "3xAZ6qC2Gh9h",
        "colab": {
          "base_uri": "https://localhost:8080/",
          "height": 424
        },
        "outputId": "7c4bd303-5ff0-478d-aae6-e27c3d2c70ee"
      },
      "source": [
        "covid_data"
      ],
      "execution_count": 18,
      "outputs": [
        {
          "output_type": "execute_result",
          "data": {
            "text/html": [
              "<div>\n",
              "<style scoped>\n",
              "    .dataframe tbody tr th:only-of-type {\n",
              "        vertical-align: middle;\n",
              "    }\n",
              "\n",
              "    .dataframe tbody tr th {\n",
              "        vertical-align: top;\n",
              "    }\n",
              "\n",
              "    .dataframe thead th {\n",
              "        text-align: right;\n",
              "    }\n",
              "</style>\n",
              "<table border=\"1\" class=\"dataframe\">\n",
              "  <thead>\n",
              "    <tr style=\"text-align: right;\">\n",
              "      <th></th>\n",
              "      <th>county</th>\n",
              "      <th>state</th>\n",
              "      <th>cases</th>\n",
              "      <th>deaths</th>\n",
              "    </tr>\n",
              "  </thead>\n",
              "  <tbody>\n",
              "    <tr>\n",
              "      <th>0</th>\n",
              "      <td>Autauga</td>\n",
              "      <td>Alabama</td>\n",
              "      <td>7230</td>\n",
              "      <td>113.0</td>\n",
              "    </tr>\n",
              "    <tr>\n",
              "      <th>1</th>\n",
              "      <td>Baldwin</td>\n",
              "      <td>Alabama</td>\n",
              "      <td>21839</td>\n",
              "      <td>313.0</td>\n",
              "    </tr>\n",
              "    <tr>\n",
              "      <th>2</th>\n",
              "      <td>Barbour</td>\n",
              "      <td>Alabama</td>\n",
              "      <td>2346</td>\n",
              "      <td>59.0</td>\n",
              "    </tr>\n",
              "    <tr>\n",
              "      <th>3</th>\n",
              "      <td>Bibb</td>\n",
              "      <td>Alabama</td>\n",
              "      <td>2684</td>\n",
              "      <td>64.0</td>\n",
              "    </tr>\n",
              "    <tr>\n",
              "      <th>4</th>\n",
              "      <td>Blount</td>\n",
              "      <td>Alabama</td>\n",
              "      <td>6944</td>\n",
              "      <td>139.0</td>\n",
              "    </tr>\n",
              "    <tr>\n",
              "      <th>...</th>\n",
              "      <td>...</td>\n",
              "      <td>...</td>\n",
              "      <td>...</td>\n",
              "      <td>...</td>\n",
              "    </tr>\n",
              "    <tr>\n",
              "      <th>3242</th>\n",
              "      <td>Sweetwater</td>\n",
              "      <td>Wyoming</td>\n",
              "      <td>4664</td>\n",
              "      <td>40.0</td>\n",
              "    </tr>\n",
              "    <tr>\n",
              "      <th>3243</th>\n",
              "      <td>Teton</td>\n",
              "      <td>Wyoming</td>\n",
              "      <td>3797</td>\n",
              "      <td>11.0</td>\n",
              "    </tr>\n",
              "    <tr>\n",
              "      <th>3244</th>\n",
              "      <td>Uinta</td>\n",
              "      <td>Wyoming</td>\n",
              "      <td>2302</td>\n",
              "      <td>13.0</td>\n",
              "    </tr>\n",
              "    <tr>\n",
              "      <th>3245</th>\n",
              "      <td>Washakie</td>\n",
              "      <td>Wyoming</td>\n",
              "      <td>924</td>\n",
              "      <td>26.0</td>\n",
              "    </tr>\n",
              "    <tr>\n",
              "      <th>3246</th>\n",
              "      <td>Weston</td>\n",
              "      <td>Wyoming</td>\n",
              "      <td>656</td>\n",
              "      <td>6.0</td>\n",
              "    </tr>\n",
              "  </tbody>\n",
              "</table>\n",
              "<p>3247 rows × 4 columns</p>\n",
              "</div>"
            ],
            "text/plain": [
              "          county    state  cases  deaths\n",
              "0        Autauga  Alabama   7230   113.0\n",
              "1        Baldwin  Alabama  21839   313.0\n",
              "2        Barbour  Alabama   2346    59.0\n",
              "3           Bibb  Alabama   2684    64.0\n",
              "4         Blount  Alabama   6944   139.0\n",
              "...          ...      ...    ...     ...\n",
              "3242  Sweetwater  Wyoming   4664    40.0\n",
              "3243       Teton  Wyoming   3797    11.0\n",
              "3244       Uinta  Wyoming   2302    13.0\n",
              "3245    Washakie  Wyoming    924    26.0\n",
              "3246      Weston  Wyoming    656     6.0\n",
              "\n",
              "[3247 rows x 4 columns]"
            ]
          },
          "metadata": {
            "tags": []
          },
          "execution_count": 18
        }
      ]
    },
    {
      "cell_type": "code",
      "metadata": {
        "id": "ivBP5lGcHRRL",
        "colab": {
          "base_uri": "https://localhost:8080/"
        },
        "outputId": "0498a51a-339b-487f-a876-c316c96d4a7f"
      },
      "source": [
        "\n",
        "grades=[95,100,85,89]\n",
        "grades[1]"
      ],
      "execution_count": 19,
      "outputs": [
        {
          "output_type": "execute_result",
          "data": {
            "text/plain": [
              "100"
            ]
          },
          "metadata": {
            "tags": []
          },
          "execution_count": 19
        }
      ]
    },
    {
      "cell_type": "markdown",
      "metadata": {
        "id": "K08BVolrHhww"
      },
      "source": [
        "3 ways to slice dataframe\n",
        "- by position\n",
        "- by label\n",
        "- by condition\n"
      ]
    },
    {
      "cell_type": "code",
      "metadata": {
        "id": "pdY4AhMsHXTC",
        "colab": {
          "base_uri": "https://localhost:8080/"
        },
        "outputId": "5d2316dd-cebf-4c48-f9db-4309f69bbb2f"
      },
      "source": [
        "covid_data.iloc[1] #.iloc --> by position"
      ],
      "execution_count": 20,
      "outputs": [
        {
          "output_type": "execute_result",
          "data": {
            "text/plain": [
              "county    Baldwin\n",
              "state     Alabama\n",
              "cases       21839\n",
              "deaths        313\n",
              "Name: 1, dtype: object"
            ]
          },
          "metadata": {
            "tags": []
          },
          "execution_count": 20
        }
      ]
    },
    {
      "cell_type": "code",
      "metadata": {
        "id": "mib2-_RwH35l",
        "colab": {
          "base_uri": "https://localhost:8080/"
        },
        "outputId": "c8e2ea48-0cf5-49c7-906a-62b5858845c6"
      },
      "source": [
        "covid_data.iloc[1,2]"
      ],
      "execution_count": 21,
      "outputs": [
        {
          "output_type": "execute_result",
          "data": {
            "text/plain": [
              "21839"
            ]
          },
          "metadata": {
            "tags": []
          },
          "execution_count": 21
        }
      ]
    },
    {
      "cell_type": "code",
      "metadata": {
        "id": "Q4gOQeuiIGqt"
      },
      "source": [
        "# all the rows for the cases column"
      ],
      "execution_count": 22,
      "outputs": []
    },
    {
      "cell_type": "code",
      "metadata": {
        "id": "9YNCui0AILwG",
        "colab": {
          "base_uri": "https://localhost:8080/"
        },
        "outputId": "40ba6a7a-cd8c-496e-8d8b-6d22cbb01dc2"
      },
      "source": [
        "covid_data.iloc[:,2]"
      ],
      "execution_count": 23,
      "outputs": [
        {
          "output_type": "execute_result",
          "data": {
            "text/plain": [
              "0        7230\n",
              "1       21839\n",
              "2        2346\n",
              "3        2684\n",
              "4        6944\n",
              "        ...  \n",
              "3242     4664\n",
              "3243     3797\n",
              "3244     2302\n",
              "3245      924\n",
              "3246      656\n",
              "Name: cases, Length: 3247, dtype: int64"
            ]
          },
          "metadata": {
            "tags": []
          },
          "execution_count": 23
        }
      ]
    },
    {
      "cell_type": "code",
      "metadata": {
        "id": "hQkVohqzIU_A",
        "colab": {
          "base_uri": "https://localhost:8080/",
          "height": 206
        },
        "outputId": "8b21987b-5e1b-4da4-c7b3-60ba19da1d82"
      },
      "source": [
        "# county and deaths column, rows 1 to 5\n",
        "covid_data.iloc[0:5,[0,3]]"
      ],
      "execution_count": 24,
      "outputs": [
        {
          "output_type": "execute_result",
          "data": {
            "text/html": [
              "<div>\n",
              "<style scoped>\n",
              "    .dataframe tbody tr th:only-of-type {\n",
              "        vertical-align: middle;\n",
              "    }\n",
              "\n",
              "    .dataframe tbody tr th {\n",
              "        vertical-align: top;\n",
              "    }\n",
              "\n",
              "    .dataframe thead th {\n",
              "        text-align: right;\n",
              "    }\n",
              "</style>\n",
              "<table border=\"1\" class=\"dataframe\">\n",
              "  <thead>\n",
              "    <tr style=\"text-align: right;\">\n",
              "      <th></th>\n",
              "      <th>county</th>\n",
              "      <th>deaths</th>\n",
              "    </tr>\n",
              "  </thead>\n",
              "  <tbody>\n",
              "    <tr>\n",
              "      <th>0</th>\n",
              "      <td>Autauga</td>\n",
              "      <td>113.0</td>\n",
              "    </tr>\n",
              "    <tr>\n",
              "      <th>1</th>\n",
              "      <td>Baldwin</td>\n",
              "      <td>313.0</td>\n",
              "    </tr>\n",
              "    <tr>\n",
              "      <th>2</th>\n",
              "      <td>Barbour</td>\n",
              "      <td>59.0</td>\n",
              "    </tr>\n",
              "    <tr>\n",
              "      <th>3</th>\n",
              "      <td>Bibb</td>\n",
              "      <td>64.0</td>\n",
              "    </tr>\n",
              "    <tr>\n",
              "      <th>4</th>\n",
              "      <td>Blount</td>\n",
              "      <td>139.0</td>\n",
              "    </tr>\n",
              "  </tbody>\n",
              "</table>\n",
              "</div>"
            ],
            "text/plain": [
              "    county  deaths\n",
              "0  Autauga   113.0\n",
              "1  Baldwin   313.0\n",
              "2  Barbour    59.0\n",
              "3     Bibb    64.0\n",
              "4   Blount   139.0"
            ]
          },
          "metadata": {
            "tags": []
          },
          "execution_count": 24
        }
      ]
    },
    {
      "cell_type": "markdown",
      "metadata": {
        "id": "1m_8ls6kI2Vq"
      },
      "source": [
        "Indexing by label"
      ]
    },
    {
      "cell_type": "code",
      "metadata": {
        "id": "JGxOmPdtJjYP",
        "colab": {
          "base_uri": "https://localhost:8080/"
        },
        "outputId": "f90b1758-a65c-43bf-86d4-5809659ccfa2"
      },
      "source": [
        "covid_data.loc[1, 'cases']"
      ],
      "execution_count": 25,
      "outputs": [
        {
          "output_type": "execute_result",
          "data": {
            "text/plain": [
              "21839"
            ]
          },
          "metadata": {
            "tags": []
          },
          "execution_count": 25
        }
      ]
    },
    {
      "cell_type": "code",
      "metadata": {
        "id": "uMJnzLhnJtxH",
        "colab": {
          "base_uri": "https://localhost:8080/"
        },
        "outputId": "91bf00f9-03f4-42aa-ab37-2248b9aaa012"
      },
      "source": [
        "covid_data.loc[0:5, 'cases'] #special about loc : last value is always included"
      ],
      "execution_count": 26,
      "outputs": [
        {
          "output_type": "execute_result",
          "data": {
            "text/plain": [
              "0     7230\n",
              "1    21839\n",
              "2     2346\n",
              "3     2684\n",
              "4     6944\n",
              "5     1242\n",
              "Name: cases, dtype: int64"
            ]
          },
          "metadata": {
            "tags": []
          },
          "execution_count": 26
        }
      ]
    },
    {
      "cell_type": "code",
      "metadata": {
        "id": "YHsrE1NKKD_N",
        "colab": {
          "base_uri": "https://localhost:8080/",
          "height": 237
        },
        "outputId": "31152669-92bf-42f9-9b21-b865a109dc5a"
      },
      "source": [
        "# columns county and cases rows 1 to 5\n",
        "covid_data.loc[0:5, ['county','cases','county']]"
      ],
      "execution_count": 27,
      "outputs": [
        {
          "output_type": "execute_result",
          "data": {
            "text/html": [
              "<div>\n",
              "<style scoped>\n",
              "    .dataframe tbody tr th:only-of-type {\n",
              "        vertical-align: middle;\n",
              "    }\n",
              "\n",
              "    .dataframe tbody tr th {\n",
              "        vertical-align: top;\n",
              "    }\n",
              "\n",
              "    .dataframe thead th {\n",
              "        text-align: right;\n",
              "    }\n",
              "</style>\n",
              "<table border=\"1\" class=\"dataframe\">\n",
              "  <thead>\n",
              "    <tr style=\"text-align: right;\">\n",
              "      <th></th>\n",
              "      <th>county</th>\n",
              "      <th>cases</th>\n",
              "      <th>county</th>\n",
              "    </tr>\n",
              "  </thead>\n",
              "  <tbody>\n",
              "    <tr>\n",
              "      <th>0</th>\n",
              "      <td>Autauga</td>\n",
              "      <td>7230</td>\n",
              "      <td>Autauga</td>\n",
              "    </tr>\n",
              "    <tr>\n",
              "      <th>1</th>\n",
              "      <td>Baldwin</td>\n",
              "      <td>21839</td>\n",
              "      <td>Baldwin</td>\n",
              "    </tr>\n",
              "    <tr>\n",
              "      <th>2</th>\n",
              "      <td>Barbour</td>\n",
              "      <td>2346</td>\n",
              "      <td>Barbour</td>\n",
              "    </tr>\n",
              "    <tr>\n",
              "      <th>3</th>\n",
              "      <td>Bibb</td>\n",
              "      <td>2684</td>\n",
              "      <td>Bibb</td>\n",
              "    </tr>\n",
              "    <tr>\n",
              "      <th>4</th>\n",
              "      <td>Blount</td>\n",
              "      <td>6944</td>\n",
              "      <td>Blount</td>\n",
              "    </tr>\n",
              "    <tr>\n",
              "      <th>5</th>\n",
              "      <td>Bullock</td>\n",
              "      <td>1242</td>\n",
              "      <td>Bullock</td>\n",
              "    </tr>\n",
              "  </tbody>\n",
              "</table>\n",
              "</div>"
            ],
            "text/plain": [
              "    county  cases   county\n",
              "0  Autauga   7230  Autauga\n",
              "1  Baldwin  21839  Baldwin\n",
              "2  Barbour   2346  Barbour\n",
              "3     Bibb   2684     Bibb\n",
              "4   Blount   6944   Blount\n",
              "5  Bullock   1242  Bullock"
            ]
          },
          "metadata": {
            "tags": []
          },
          "execution_count": 27
        }
      ]
    },
    {
      "cell_type": "code",
      "metadata": {
        "id": "MW66rN78K50P"
      },
      "source": [
        "\n",
        "# reindexing\n",
        "covid_data2=covid_data.set_index('county')"
      ],
      "execution_count": 28,
      "outputs": []
    },
    {
      "cell_type": "code",
      "metadata": {
        "id": "eLX0pY0-LKdp",
        "colab": {
          "base_uri": "https://localhost:8080/"
        },
        "outputId": "e14a66ca-a860-4152-c433-64e85a54c54e"
      },
      "source": [
        "covid_data2.loc['Weston','cases']"
      ],
      "execution_count": 29,
      "outputs": [
        {
          "output_type": "execute_result",
          "data": {
            "text/plain": [
              "656"
            ]
          },
          "metadata": {
            "tags": []
          },
          "execution_count": 29
        }
      ]
    },
    {
      "cell_type": "code",
      "metadata": {
        "id": "-j0mBwXRLgsO"
      },
      "source": [
        "# bibb and weston. cases and deaths"
      ],
      "execution_count": 30,
      "outputs": []
    },
    {
      "cell_type": "code",
      "metadata": {
        "id": "atu-Mtk2Ll90",
        "colab": {
          "base_uri": "https://localhost:8080/",
          "height": 175
        },
        "outputId": "8ab99594-6df2-4477-b52f-05d9f27dc7b2"
      },
      "source": [
        "covid_data2.loc[['Bibb','Weston'],['cases', 'deaths','state']]"
      ],
      "execution_count": 31,
      "outputs": [
        {
          "output_type": "execute_result",
          "data": {
            "text/html": [
              "<div>\n",
              "<style scoped>\n",
              "    .dataframe tbody tr th:only-of-type {\n",
              "        vertical-align: middle;\n",
              "    }\n",
              "\n",
              "    .dataframe tbody tr th {\n",
              "        vertical-align: top;\n",
              "    }\n",
              "\n",
              "    .dataframe thead th {\n",
              "        text-align: right;\n",
              "    }\n",
              "</style>\n",
              "<table border=\"1\" class=\"dataframe\">\n",
              "  <thead>\n",
              "    <tr style=\"text-align: right;\">\n",
              "      <th></th>\n",
              "      <th>cases</th>\n",
              "      <th>deaths</th>\n",
              "      <th>state</th>\n",
              "    </tr>\n",
              "    <tr>\n",
              "      <th>county</th>\n",
              "      <th></th>\n",
              "      <th></th>\n",
              "      <th></th>\n",
              "    </tr>\n",
              "  </thead>\n",
              "  <tbody>\n",
              "    <tr>\n",
              "      <th>Bibb</th>\n",
              "      <td>2684</td>\n",
              "      <td>64.0</td>\n",
              "      <td>Alabama</td>\n",
              "    </tr>\n",
              "    <tr>\n",
              "      <th>Bibb</th>\n",
              "      <td>16162</td>\n",
              "      <td>460.0</td>\n",
              "      <td>Georgia</td>\n",
              "    </tr>\n",
              "    <tr>\n",
              "      <th>Weston</th>\n",
              "      <td>656</td>\n",
              "      <td>6.0</td>\n",
              "      <td>Wyoming</td>\n",
              "    </tr>\n",
              "  </tbody>\n",
              "</table>\n",
              "</div>"
            ],
            "text/plain": [
              "        cases  deaths    state\n",
              "county                        \n",
              "Bibb     2684    64.0  Alabama\n",
              "Bibb    16162   460.0  Georgia\n",
              "Weston    656     6.0  Wyoming"
            ]
          },
          "metadata": {
            "tags": []
          },
          "execution_count": 31
        }
      ]
    },
    {
      "cell_type": "code",
      "metadata": {
        "id": "49Etg3C8MADt"
      },
      "source": [
        "#clicing by condition"
      ],
      "execution_count": 32,
      "outputs": []
    },
    {
      "cell_type": "code",
      "metadata": {
        "id": "aIIENymcMCMw",
        "colab": {
          "base_uri": "https://localhost:8080/"
        },
        "outputId": "195e88e5-005a-4c7f-8e01-a6cc76da1dd8"
      },
      "source": [
        "covid_data['state']=='California'"
      ],
      "execution_count": 33,
      "outputs": [
        {
          "output_type": "execute_result",
          "data": {
            "text/plain": [
              "0       False\n",
              "1       False\n",
              "2       False\n",
              "3       False\n",
              "4       False\n",
              "        ...  \n",
              "3242    False\n",
              "3243    False\n",
              "3244    False\n",
              "3245    False\n",
              "3246    False\n",
              "Name: state, Length: 3247, dtype: bool"
            ]
          },
          "metadata": {
            "tags": []
          },
          "execution_count": 33
        }
      ]
    },
    {
      "cell_type": "code",
      "metadata": {
        "id": "2faiXmnqPcGD",
        "colab": {
          "base_uri": "https://localhost:8080/",
          "height": 206
        },
        "outputId": "8cd6c9bd-5c40-4284-d929-cb336b14710d"
      },
      "source": [
        "covid_data.head()"
      ],
      "execution_count": 34,
      "outputs": [
        {
          "output_type": "execute_result",
          "data": {
            "text/html": [
              "<div>\n",
              "<style scoped>\n",
              "    .dataframe tbody tr th:only-of-type {\n",
              "        vertical-align: middle;\n",
              "    }\n",
              "\n",
              "    .dataframe tbody tr th {\n",
              "        vertical-align: top;\n",
              "    }\n",
              "\n",
              "    .dataframe thead th {\n",
              "        text-align: right;\n",
              "    }\n",
              "</style>\n",
              "<table border=\"1\" class=\"dataframe\">\n",
              "  <thead>\n",
              "    <tr style=\"text-align: right;\">\n",
              "      <th></th>\n",
              "      <th>county</th>\n",
              "      <th>state</th>\n",
              "      <th>cases</th>\n",
              "      <th>deaths</th>\n",
              "    </tr>\n",
              "  </thead>\n",
              "  <tbody>\n",
              "    <tr>\n",
              "      <th>0</th>\n",
              "      <td>Autauga</td>\n",
              "      <td>Alabama</td>\n",
              "      <td>7230</td>\n",
              "      <td>113.0</td>\n",
              "    </tr>\n",
              "    <tr>\n",
              "      <th>1</th>\n",
              "      <td>Baldwin</td>\n",
              "      <td>Alabama</td>\n",
              "      <td>21839</td>\n",
              "      <td>313.0</td>\n",
              "    </tr>\n",
              "    <tr>\n",
              "      <th>2</th>\n",
              "      <td>Barbour</td>\n",
              "      <td>Alabama</td>\n",
              "      <td>2346</td>\n",
              "      <td>59.0</td>\n",
              "    </tr>\n",
              "    <tr>\n",
              "      <th>3</th>\n",
              "      <td>Bibb</td>\n",
              "      <td>Alabama</td>\n",
              "      <td>2684</td>\n",
              "      <td>64.0</td>\n",
              "    </tr>\n",
              "    <tr>\n",
              "      <th>4</th>\n",
              "      <td>Blount</td>\n",
              "      <td>Alabama</td>\n",
              "      <td>6944</td>\n",
              "      <td>139.0</td>\n",
              "    </tr>\n",
              "  </tbody>\n",
              "</table>\n",
              "</div>"
            ],
            "text/plain": [
              "    county    state  cases  deaths\n",
              "0  Autauga  Alabama   7230   113.0\n",
              "1  Baldwin  Alabama  21839   313.0\n",
              "2  Barbour  Alabama   2346    59.0\n",
              "3     Bibb  Alabama   2684    64.0\n",
              "4   Blount  Alabama   6944   139.0"
            ]
          },
          "metadata": {
            "tags": []
          },
          "execution_count": 34
        }
      ]
    },
    {
      "cell_type": "code",
      "metadata": {
        "id": "DCR7nvcXPgQw",
        "colab": {
          "base_uri": "https://localhost:8080/",
          "height": 206
        },
        "outputId": "4a9b6499-4ef0-44f2-90ec-0e462ba942ce"
      },
      "source": [
        "\n",
        "covid_data.head().drop(['deaths'], axis=1)"
      ],
      "execution_count": 35,
      "outputs": [
        {
          "output_type": "execute_result",
          "data": {
            "text/html": [
              "<div>\n",
              "<style scoped>\n",
              "    .dataframe tbody tr th:only-of-type {\n",
              "        vertical-align: middle;\n",
              "    }\n",
              "\n",
              "    .dataframe tbody tr th {\n",
              "        vertical-align: top;\n",
              "    }\n",
              "\n",
              "    .dataframe thead th {\n",
              "        text-align: right;\n",
              "    }\n",
              "</style>\n",
              "<table border=\"1\" class=\"dataframe\">\n",
              "  <thead>\n",
              "    <tr style=\"text-align: right;\">\n",
              "      <th></th>\n",
              "      <th>county</th>\n",
              "      <th>state</th>\n",
              "      <th>cases</th>\n",
              "    </tr>\n",
              "  </thead>\n",
              "  <tbody>\n",
              "    <tr>\n",
              "      <th>0</th>\n",
              "      <td>Autauga</td>\n",
              "      <td>Alabama</td>\n",
              "      <td>7230</td>\n",
              "    </tr>\n",
              "    <tr>\n",
              "      <th>1</th>\n",
              "      <td>Baldwin</td>\n",
              "      <td>Alabama</td>\n",
              "      <td>21839</td>\n",
              "    </tr>\n",
              "    <tr>\n",
              "      <th>2</th>\n",
              "      <td>Barbour</td>\n",
              "      <td>Alabama</td>\n",
              "      <td>2346</td>\n",
              "    </tr>\n",
              "    <tr>\n",
              "      <th>3</th>\n",
              "      <td>Bibb</td>\n",
              "      <td>Alabama</td>\n",
              "      <td>2684</td>\n",
              "    </tr>\n",
              "    <tr>\n",
              "      <th>4</th>\n",
              "      <td>Blount</td>\n",
              "      <td>Alabama</td>\n",
              "      <td>6944</td>\n",
              "    </tr>\n",
              "  </tbody>\n",
              "</table>\n",
              "</div>"
            ],
            "text/plain": [
              "    county    state  cases\n",
              "0  Autauga  Alabama   7230\n",
              "1  Baldwin  Alabama  21839\n",
              "2  Barbour  Alabama   2346\n",
              "3     Bibb  Alabama   2684\n",
              "4   Blount  Alabama   6944"
            ]
          },
          "metadata": {
            "tags": []
          },
          "execution_count": 35
        }
      ]
    },
    {
      "cell_type": "code",
      "metadata": {
        "id": "dxvn0qAKMbB8",
        "colab": {
          "base_uri": "https://localhost:8080/",
          "height": 1000
        },
        "outputId": "97bc539d-fd86-4e77-d7a7-6c53e1d188f7"
      },
      "source": [
        "covid_data.loc[covid_data['state']=='California']"
      ],
      "execution_count": 36,
      "outputs": [
        {
          "output_type": "execute_result",
          "data": {
            "text/html": [
              "<div>\n",
              "<style scoped>\n",
              "    .dataframe tbody tr th:only-of-type {\n",
              "        vertical-align: middle;\n",
              "    }\n",
              "\n",
              "    .dataframe tbody tr th {\n",
              "        vertical-align: top;\n",
              "    }\n",
              "\n",
              "    .dataframe thead th {\n",
              "        text-align: right;\n",
              "    }\n",
              "</style>\n",
              "<table border=\"1\" class=\"dataframe\">\n",
              "  <thead>\n",
              "    <tr style=\"text-align: right;\">\n",
              "      <th></th>\n",
              "      <th>county</th>\n",
              "      <th>state</th>\n",
              "      <th>cases</th>\n",
              "      <th>deaths</th>\n",
              "    </tr>\n",
              "  </thead>\n",
              "  <tbody>\n",
              "    <tr>\n",
              "      <th>187</th>\n",
              "      <td>Alameda</td>\n",
              "      <td>California</td>\n",
              "      <td>89557</td>\n",
              "      <td>1275.0</td>\n",
              "    </tr>\n",
              "    <tr>\n",
              "      <th>188</th>\n",
              "      <td>Alpine</td>\n",
              "      <td>California</td>\n",
              "      <td>89</td>\n",
              "      <td>0.0</td>\n",
              "    </tr>\n",
              "    <tr>\n",
              "      <th>189</th>\n",
              "      <td>Amador</td>\n",
              "      <td>California</td>\n",
              "      <td>3722</td>\n",
              "      <td>47.0</td>\n",
              "    </tr>\n",
              "    <tr>\n",
              "      <th>190</th>\n",
              "      <td>Butte</td>\n",
              "      <td>California</td>\n",
              "      <td>12620</td>\n",
              "      <td>194.0</td>\n",
              "    </tr>\n",
              "    <tr>\n",
              "      <th>191</th>\n",
              "      <td>Calaveras</td>\n",
              "      <td>California</td>\n",
              "      <td>2201</td>\n",
              "      <td>56.0</td>\n",
              "    </tr>\n",
              "    <tr>\n",
              "      <th>192</th>\n",
              "      <td>Colusa</td>\n",
              "      <td>California</td>\n",
              "      <td>2279</td>\n",
              "      <td>18.0</td>\n",
              "    </tr>\n",
              "    <tr>\n",
              "      <th>193</th>\n",
              "      <td>Contra Costa</td>\n",
              "      <td>California</td>\n",
              "      <td>70428</td>\n",
              "      <td>810.0</td>\n",
              "    </tr>\n",
              "    <tr>\n",
              "      <th>194</th>\n",
              "      <td>Del Norte</td>\n",
              "      <td>California</td>\n",
              "      <td>1454</td>\n",
              "      <td>8.0</td>\n",
              "    </tr>\n",
              "    <tr>\n",
              "      <th>195</th>\n",
              "      <td>El Dorado</td>\n",
              "      <td>California</td>\n",
              "      <td>10351</td>\n",
              "      <td>116.0</td>\n",
              "    </tr>\n",
              "    <tr>\n",
              "      <th>196</th>\n",
              "      <td>Fresno</td>\n",
              "      <td>California</td>\n",
              "      <td>102828</td>\n",
              "      <td>1722.0</td>\n",
              "    </tr>\n",
              "    <tr>\n",
              "      <th>197</th>\n",
              "      <td>Glenn</td>\n",
              "      <td>California</td>\n",
              "      <td>2952</td>\n",
              "      <td>27.0</td>\n",
              "    </tr>\n",
              "    <tr>\n",
              "      <th>198</th>\n",
              "      <td>Humboldt</td>\n",
              "      <td>California</td>\n",
              "      <td>4451</td>\n",
              "      <td>48.0</td>\n",
              "    </tr>\n",
              "    <tr>\n",
              "      <th>199</th>\n",
              "      <td>Imperial</td>\n",
              "      <td>California</td>\n",
              "      <td>28789</td>\n",
              "      <td>740.0</td>\n",
              "    </tr>\n",
              "    <tr>\n",
              "      <th>200</th>\n",
              "      <td>Inyo</td>\n",
              "      <td>California</td>\n",
              "      <td>1434</td>\n",
              "      <td>38.0</td>\n",
              "    </tr>\n",
              "    <tr>\n",
              "      <th>201</th>\n",
              "      <td>Kern</td>\n",
              "      <td>California</td>\n",
              "      <td>110687</td>\n",
              "      <td>1401.0</td>\n",
              "    </tr>\n",
              "    <tr>\n",
              "      <th>202</th>\n",
              "      <td>Kings</td>\n",
              "      <td>California</td>\n",
              "      <td>23178</td>\n",
              "      <td>247.0</td>\n",
              "    </tr>\n",
              "    <tr>\n",
              "      <th>203</th>\n",
              "      <td>Lake</td>\n",
              "      <td>California</td>\n",
              "      <td>3559</td>\n",
              "      <td>45.0</td>\n",
              "    </tr>\n",
              "    <tr>\n",
              "      <th>204</th>\n",
              "      <td>Lassen</td>\n",
              "      <td>California</td>\n",
              "      <td>5782</td>\n",
              "      <td>24.0</td>\n",
              "    </tr>\n",
              "    <tr>\n",
              "      <th>205</th>\n",
              "      <td>Los Angeles</td>\n",
              "      <td>California</td>\n",
              "      <td>1247488</td>\n",
              "      <td>24435.0</td>\n",
              "    </tr>\n",
              "    <tr>\n",
              "      <th>206</th>\n",
              "      <td>Madera</td>\n",
              "      <td>California</td>\n",
              "      <td>16600</td>\n",
              "      <td>245.0</td>\n",
              "    </tr>\n",
              "    <tr>\n",
              "      <th>207</th>\n",
              "      <td>Marin</td>\n",
              "      <td>California</td>\n",
              "      <td>14135</td>\n",
              "      <td>229.0</td>\n",
              "    </tr>\n",
              "    <tr>\n",
              "      <th>208</th>\n",
              "      <td>Mariposa</td>\n",
              "      <td>California</td>\n",
              "      <td>464</td>\n",
              "      <td>7.0</td>\n",
              "    </tr>\n",
              "    <tr>\n",
              "      <th>209</th>\n",
              "      <td>Mendocino</td>\n",
              "      <td>California</td>\n",
              "      <td>4289</td>\n",
              "      <td>50.0</td>\n",
              "    </tr>\n",
              "    <tr>\n",
              "      <th>210</th>\n",
              "      <td>Merced</td>\n",
              "      <td>California</td>\n",
              "      <td>32278</td>\n",
              "      <td>477.0</td>\n",
              "    </tr>\n",
              "    <tr>\n",
              "      <th>211</th>\n",
              "      <td>Modoc</td>\n",
              "      <td>California</td>\n",
              "      <td>383</td>\n",
              "      <td>3.0</td>\n",
              "    </tr>\n",
              "    <tr>\n",
              "      <th>212</th>\n",
              "      <td>Mono</td>\n",
              "      <td>California</td>\n",
              "      <td>1295</td>\n",
              "      <td>4.0</td>\n",
              "    </tr>\n",
              "    <tr>\n",
              "      <th>213</th>\n",
              "      <td>Monterey</td>\n",
              "      <td>California</td>\n",
              "      <td>43821</td>\n",
              "      <td>421.0</td>\n",
              "    </tr>\n",
              "    <tr>\n",
              "      <th>214</th>\n",
              "      <td>Napa</td>\n",
              "      <td>California</td>\n",
              "      <td>10011</td>\n",
              "      <td>80.0</td>\n",
              "    </tr>\n",
              "    <tr>\n",
              "      <th>215</th>\n",
              "      <td>Nevada</td>\n",
              "      <td>California</td>\n",
              "      <td>4888</td>\n",
              "      <td>75.0</td>\n",
              "    </tr>\n",
              "    <tr>\n",
              "      <th>216</th>\n",
              "      <td>Orange</td>\n",
              "      <td>California</td>\n",
              "      <td>272827</td>\n",
              "      <td>5105.0</td>\n",
              "    </tr>\n",
              "    <tr>\n",
              "      <th>217</th>\n",
              "      <td>Placer</td>\n",
              "      <td>California</td>\n",
              "      <td>23438</td>\n",
              "      <td>299.0</td>\n",
              "    </tr>\n",
              "    <tr>\n",
              "      <th>218</th>\n",
              "      <td>Plumas</td>\n",
              "      <td>California</td>\n",
              "      <td>735</td>\n",
              "      <td>6.0</td>\n",
              "    </tr>\n",
              "    <tr>\n",
              "      <th>219</th>\n",
              "      <td>Riverside</td>\n",
              "      <td>California</td>\n",
              "      <td>301482</td>\n",
              "      <td>4624.0</td>\n",
              "    </tr>\n",
              "    <tr>\n",
              "      <th>220</th>\n",
              "      <td>Sacramento</td>\n",
              "      <td>California</td>\n",
              "      <td>107493</td>\n",
              "      <td>1726.0</td>\n",
              "    </tr>\n",
              "    <tr>\n",
              "      <th>221</th>\n",
              "      <td>San Benito</td>\n",
              "      <td>California</td>\n",
              "      <td>6089</td>\n",
              "      <td>63.0</td>\n",
              "    </tr>\n",
              "    <tr>\n",
              "      <th>222</th>\n",
              "      <td>San Bernardino</td>\n",
              "      <td>California</td>\n",
              "      <td>299096</td>\n",
              "      <td>4790.0</td>\n",
              "    </tr>\n",
              "    <tr>\n",
              "      <th>223</th>\n",
              "      <td>San Diego</td>\n",
              "      <td>California</td>\n",
              "      <td>281438</td>\n",
              "      <td>3770.0</td>\n",
              "    </tr>\n",
              "    <tr>\n",
              "      <th>224</th>\n",
              "      <td>San Francisco</td>\n",
              "      <td>California</td>\n",
              "      <td>37213</td>\n",
              "      <td>555.0</td>\n",
              "    </tr>\n",
              "    <tr>\n",
              "      <th>225</th>\n",
              "      <td>San Joaquin</td>\n",
              "      <td>California</td>\n",
              "      <td>74596</td>\n",
              "      <td>1435.0</td>\n",
              "    </tr>\n",
              "    <tr>\n",
              "      <th>226</th>\n",
              "      <td>San Luis Obispo</td>\n",
              "      <td>California</td>\n",
              "      <td>21421</td>\n",
              "      <td>261.0</td>\n",
              "    </tr>\n",
              "    <tr>\n",
              "      <th>227</th>\n",
              "      <td>San Mateo</td>\n",
              "      <td>California</td>\n",
              "      <td>42593</td>\n",
              "      <td>581.0</td>\n",
              "    </tr>\n",
              "    <tr>\n",
              "      <th>228</th>\n",
              "      <td>Santa Barbara</td>\n",
              "      <td>California</td>\n",
              "      <td>34587</td>\n",
              "      <td>460.0</td>\n",
              "    </tr>\n",
              "    <tr>\n",
              "      <th>229</th>\n",
              "      <td>Santa Clara</td>\n",
              "      <td>California</td>\n",
              "      <td>119963</td>\n",
              "      <td>2180.0</td>\n",
              "    </tr>\n",
              "    <tr>\n",
              "      <th>230</th>\n",
              "      <td>Santa Cruz</td>\n",
              "      <td>California</td>\n",
              "      <td>16222</td>\n",
              "      <td>208.0</td>\n",
              "    </tr>\n",
              "    <tr>\n",
              "      <th>231</th>\n",
              "      <td>Shasta</td>\n",
              "      <td>California</td>\n",
              "      <td>12630</td>\n",
              "      <td>233.0</td>\n",
              "    </tr>\n",
              "    <tr>\n",
              "      <th>232</th>\n",
              "      <td>Sierra</td>\n",
              "      <td>California</td>\n",
              "      <td>55</td>\n",
              "      <td>0.0</td>\n",
              "    </tr>\n",
              "    <tr>\n",
              "      <th>233</th>\n",
              "      <td>Siskiyou</td>\n",
              "      <td>California</td>\n",
              "      <td>2392</td>\n",
              "      <td>37.0</td>\n",
              "    </tr>\n",
              "    <tr>\n",
              "      <th>234</th>\n",
              "      <td>Solano</td>\n",
              "      <td>California</td>\n",
              "      <td>33656</td>\n",
              "      <td>266.0</td>\n",
              "    </tr>\n",
              "    <tr>\n",
              "      <th>235</th>\n",
              "      <td>Sonoma</td>\n",
              "      <td>California</td>\n",
              "      <td>30752</td>\n",
              "      <td>323.0</td>\n",
              "    </tr>\n",
              "    <tr>\n",
              "      <th>236</th>\n",
              "      <td>Stanislaus</td>\n",
              "      <td>California</td>\n",
              "      <td>63302</td>\n",
              "      <td>1068.0</td>\n",
              "    </tr>\n",
              "    <tr>\n",
              "      <th>237</th>\n",
              "      <td>Sutter</td>\n",
              "      <td>California</td>\n",
              "      <td>9638</td>\n",
              "      <td>113.0</td>\n",
              "    </tr>\n",
              "    <tr>\n",
              "      <th>238</th>\n",
              "      <td>Tehama</td>\n",
              "      <td>California</td>\n",
              "      <td>5102</td>\n",
              "      <td>63.0</td>\n",
              "    </tr>\n",
              "    <tr>\n",
              "      <th>239</th>\n",
              "      <td>Trinity</td>\n",
              "      <td>California</td>\n",
              "      <td>333</td>\n",
              "      <td>3.0</td>\n",
              "    </tr>\n",
              "    <tr>\n",
              "      <th>240</th>\n",
              "      <td>Tulare</td>\n",
              "      <td>California</td>\n",
              "      <td>49768</td>\n",
              "      <td>849.0</td>\n",
              "    </tr>\n",
              "    <tr>\n",
              "      <th>241</th>\n",
              "      <td>Tuolumne</td>\n",
              "      <td>California</td>\n",
              "      <td>4206</td>\n",
              "      <td>71.0</td>\n",
              "    </tr>\n",
              "    <tr>\n",
              "      <th>242</th>\n",
              "      <td>Ventura</td>\n",
              "      <td>California</td>\n",
              "      <td>81572</td>\n",
              "      <td>1029.0</td>\n",
              "    </tr>\n",
              "    <tr>\n",
              "      <th>243</th>\n",
              "      <td>Yolo</td>\n",
              "      <td>California</td>\n",
              "      <td>14127</td>\n",
              "      <td>212.0</td>\n",
              "    </tr>\n",
              "    <tr>\n",
              "      <th>244</th>\n",
              "      <td>Yuba</td>\n",
              "      <td>California</td>\n",
              "      <td>6464</td>\n",
              "      <td>51.0</td>\n",
              "    </tr>\n",
              "  </tbody>\n",
              "</table>\n",
              "</div>"
            ],
            "text/plain": [
              "              county       state    cases   deaths\n",
              "187          Alameda  California    89557   1275.0\n",
              "188           Alpine  California       89      0.0\n",
              "189           Amador  California     3722     47.0\n",
              "190            Butte  California    12620    194.0\n",
              "191        Calaveras  California     2201     56.0\n",
              "192           Colusa  California     2279     18.0\n",
              "193     Contra Costa  California    70428    810.0\n",
              "194        Del Norte  California     1454      8.0\n",
              "195        El Dorado  California    10351    116.0\n",
              "196           Fresno  California   102828   1722.0\n",
              "197            Glenn  California     2952     27.0\n",
              "198         Humboldt  California     4451     48.0\n",
              "199         Imperial  California    28789    740.0\n",
              "200             Inyo  California     1434     38.0\n",
              "201             Kern  California   110687   1401.0\n",
              "202            Kings  California    23178    247.0\n",
              "203             Lake  California     3559     45.0\n",
              "204           Lassen  California     5782     24.0\n",
              "205      Los Angeles  California  1247488  24435.0\n",
              "206           Madera  California    16600    245.0\n",
              "207            Marin  California    14135    229.0\n",
              "208         Mariposa  California      464      7.0\n",
              "209        Mendocino  California     4289     50.0\n",
              "210           Merced  California    32278    477.0\n",
              "211            Modoc  California      383      3.0\n",
              "212             Mono  California     1295      4.0\n",
              "213         Monterey  California    43821    421.0\n",
              "214             Napa  California    10011     80.0\n",
              "215           Nevada  California     4888     75.0\n",
              "216           Orange  California   272827   5105.0\n",
              "217           Placer  California    23438    299.0\n",
              "218           Plumas  California      735      6.0\n",
              "219        Riverside  California   301482   4624.0\n",
              "220       Sacramento  California   107493   1726.0\n",
              "221       San Benito  California     6089     63.0\n",
              "222   San Bernardino  California   299096   4790.0\n",
              "223        San Diego  California   281438   3770.0\n",
              "224    San Francisco  California    37213    555.0\n",
              "225      San Joaquin  California    74596   1435.0\n",
              "226  San Luis Obispo  California    21421    261.0\n",
              "227        San Mateo  California    42593    581.0\n",
              "228    Santa Barbara  California    34587    460.0\n",
              "229      Santa Clara  California   119963   2180.0\n",
              "230       Santa Cruz  California    16222    208.0\n",
              "231           Shasta  California    12630    233.0\n",
              "232           Sierra  California       55      0.0\n",
              "233         Siskiyou  California     2392     37.0\n",
              "234           Solano  California    33656    266.0\n",
              "235           Sonoma  California    30752    323.0\n",
              "236       Stanislaus  California    63302   1068.0\n",
              "237           Sutter  California     9638    113.0\n",
              "238           Tehama  California     5102     63.0\n",
              "239          Trinity  California      333      3.0\n",
              "240           Tulare  California    49768    849.0\n",
              "241         Tuolumne  California     4206     71.0\n",
              "242          Ventura  California    81572   1029.0\n",
              "243             Yolo  California    14127    212.0\n",
              "244             Yuba  California     6464     51.0"
            ]
          },
          "metadata": {
            "tags": []
          },
          "execution_count": 36
        }
      ]
    },
    {
      "cell_type": "code",
      "metadata": {
        "id": "PuR6v1ebMoDG",
        "colab": {
          "base_uri": "https://localhost:8080/"
        },
        "outputId": "22aa578e-8906-4c2c-a637-50350ceb7deb"
      },
      "source": [
        "covid_data.loc[covid_data['state']=='California','cases'] #slicing by condition usues .loc"
      ],
      "execution_count": 37,
      "outputs": [
        {
          "output_type": "execute_result",
          "data": {
            "text/plain": [
              "187      89557\n",
              "188         89\n",
              "189       3722\n",
              "190      12620\n",
              "191       2201\n",
              "192       2279\n",
              "193      70428\n",
              "194       1454\n",
              "195      10351\n",
              "196     102828\n",
              "197       2952\n",
              "198       4451\n",
              "199      28789\n",
              "200       1434\n",
              "201     110687\n",
              "202      23178\n",
              "203       3559\n",
              "204       5782\n",
              "205    1247488\n",
              "206      16600\n",
              "207      14135\n",
              "208        464\n",
              "209       4289\n",
              "210      32278\n",
              "211        383\n",
              "212       1295\n",
              "213      43821\n",
              "214      10011\n",
              "215       4888\n",
              "216     272827\n",
              "217      23438\n",
              "218        735\n",
              "219     301482\n",
              "220     107493\n",
              "221       6089\n",
              "222     299096\n",
              "223     281438\n",
              "224      37213\n",
              "225      74596\n",
              "226      21421\n",
              "227      42593\n",
              "228      34587\n",
              "229     119963\n",
              "230      16222\n",
              "231      12630\n",
              "232         55\n",
              "233       2392\n",
              "234      33656\n",
              "235      30752\n",
              "236      63302\n",
              "237       9638\n",
              "238       5102\n",
              "239        333\n",
              "240      49768\n",
              "241       4206\n",
              "242      81572\n",
              "243      14127\n",
              "244       6464\n",
              "Name: cases, dtype: int64"
            ]
          },
          "metadata": {
            "tags": []
          },
          "execution_count": 37
        }
      ]
    },
    {
      "cell_type": "code",
      "metadata": {
        "id": "eENqAzdiNLUn"
      },
      "source": [
        "\n",
        "# Applying functions\n",
        "grades=[100,90,86]\n",
        "grades.append(90)"
      ],
      "execution_count": 38,
      "outputs": []
    },
    {
      "cell_type": "code",
      "metadata": {
        "id": "UvA4A1VDNkDx",
        "colab": {
          "base_uri": "https://localhost:8080/",
          "height": 206
        },
        "outputId": "3ba49de2-4025-4c7d-f224-0af779ab68cb"
      },
      "source": [
        "covid_data.head()"
      ],
      "execution_count": 39,
      "outputs": [
        {
          "output_type": "execute_result",
          "data": {
            "text/html": [
              "<div>\n",
              "<style scoped>\n",
              "    .dataframe tbody tr th:only-of-type {\n",
              "        vertical-align: middle;\n",
              "    }\n",
              "\n",
              "    .dataframe tbody tr th {\n",
              "        vertical-align: top;\n",
              "    }\n",
              "\n",
              "    .dataframe thead th {\n",
              "        text-align: right;\n",
              "    }\n",
              "</style>\n",
              "<table border=\"1\" class=\"dataframe\">\n",
              "  <thead>\n",
              "    <tr style=\"text-align: right;\">\n",
              "      <th></th>\n",
              "      <th>county</th>\n",
              "      <th>state</th>\n",
              "      <th>cases</th>\n",
              "      <th>deaths</th>\n",
              "    </tr>\n",
              "  </thead>\n",
              "  <tbody>\n",
              "    <tr>\n",
              "      <th>0</th>\n",
              "      <td>Autauga</td>\n",
              "      <td>Alabama</td>\n",
              "      <td>7230</td>\n",
              "      <td>113.0</td>\n",
              "    </tr>\n",
              "    <tr>\n",
              "      <th>1</th>\n",
              "      <td>Baldwin</td>\n",
              "      <td>Alabama</td>\n",
              "      <td>21839</td>\n",
              "      <td>313.0</td>\n",
              "    </tr>\n",
              "    <tr>\n",
              "      <th>2</th>\n",
              "      <td>Barbour</td>\n",
              "      <td>Alabama</td>\n",
              "      <td>2346</td>\n",
              "      <td>59.0</td>\n",
              "    </tr>\n",
              "    <tr>\n",
              "      <th>3</th>\n",
              "      <td>Bibb</td>\n",
              "      <td>Alabama</td>\n",
              "      <td>2684</td>\n",
              "      <td>64.0</td>\n",
              "    </tr>\n",
              "    <tr>\n",
              "      <th>4</th>\n",
              "      <td>Blount</td>\n",
              "      <td>Alabama</td>\n",
              "      <td>6944</td>\n",
              "      <td>139.0</td>\n",
              "    </tr>\n",
              "  </tbody>\n",
              "</table>\n",
              "</div>"
            ],
            "text/plain": [
              "    county    state  cases  deaths\n",
              "0  Autauga  Alabama   7230   113.0\n",
              "1  Baldwin  Alabama  21839   313.0\n",
              "2  Barbour  Alabama   2346    59.0\n",
              "3     Bibb  Alabama   2684    64.0\n",
              "4   Blount  Alabama   6944   139.0"
            ]
          },
          "metadata": {
            "tags": []
          },
          "execution_count": 39
        }
      ]
    },
    {
      "cell_type": "code",
      "metadata": {
        "id": "-0RnkUl2OBKX"
      },
      "source": [
        ""
      ],
      "execution_count": 39,
      "outputs": []
    },
    {
      "cell_type": "code",
      "metadata": {
        "id": "Kgp1UAoyNwyE",
        "colab": {
          "base_uri": "https://localhost:8080/",
          "height": 300
        },
        "outputId": "ff91cf79-eb2c-4e85-bf79-e214b22c5efb"
      },
      "source": [
        "covid_data.describe()"
      ],
      "execution_count": 40,
      "outputs": [
        {
          "output_type": "execute_result",
          "data": {
            "text/html": [
              "<div>\n",
              "<style scoped>\n",
              "    .dataframe tbody tr th:only-of-type {\n",
              "        vertical-align: middle;\n",
              "    }\n",
              "\n",
              "    .dataframe tbody tr th {\n",
              "        vertical-align: top;\n",
              "    }\n",
              "\n",
              "    .dataframe thead th {\n",
              "        text-align: right;\n",
              "    }\n",
              "</style>\n",
              "<table border=\"1\" class=\"dataframe\">\n",
              "  <thead>\n",
              "    <tr style=\"text-align: right;\">\n",
              "      <th></th>\n",
              "      <th>cases</th>\n",
              "      <th>deaths</th>\n",
              "    </tr>\n",
              "  </thead>\n",
              "  <tbody>\n",
              "    <tr>\n",
              "      <th>count</th>\n",
              "      <td>3.247000e+03</td>\n",
              "      <td>3169.000000</td>\n",
              "    </tr>\n",
              "    <tr>\n",
              "      <th>mean</th>\n",
              "      <td>1.030661e+04</td>\n",
              "      <td>189.411171</td>\n",
              "    </tr>\n",
              "    <tr>\n",
              "      <th>std</th>\n",
              "      <td>3.953851e+04</td>\n",
              "      <td>888.111457</td>\n",
              "    </tr>\n",
              "    <tr>\n",
              "      <th>min</th>\n",
              "      <td>0.000000e+00</td>\n",
              "      <td>0.000000</td>\n",
              "    </tr>\n",
              "    <tr>\n",
              "      <th>25%</th>\n",
              "      <td>1.057000e+03</td>\n",
              "      <td>20.000000</td>\n",
              "    </tr>\n",
              "    <tr>\n",
              "      <th>50%</th>\n",
              "      <td>2.530000e+03</td>\n",
              "      <td>50.000000</td>\n",
              "    </tr>\n",
              "    <tr>\n",
              "      <th>75%</th>\n",
              "      <td>6.505500e+03</td>\n",
              "      <td>119.000000</td>\n",
              "    </tr>\n",
              "    <tr>\n",
              "      <th>max</th>\n",
              "      <td>1.247488e+06</td>\n",
              "      <td>33358.000000</td>\n",
              "    </tr>\n",
              "  </tbody>\n",
              "</table>\n",
              "</div>"
            ],
            "text/plain": [
              "              cases        deaths\n",
              "count  3.247000e+03   3169.000000\n",
              "mean   1.030661e+04    189.411171\n",
              "std    3.953851e+04    888.111457\n",
              "min    0.000000e+00      0.000000\n",
              "25%    1.057000e+03     20.000000\n",
              "50%    2.530000e+03     50.000000\n",
              "75%    6.505500e+03    119.000000\n",
              "max    1.247488e+06  33358.000000"
            ]
          },
          "metadata": {
            "tags": []
          },
          "execution_count": 40
        }
      ]
    },
    {
      "cell_type": "code",
      "metadata": {
        "id": "fDXtZaVCOU4U",
        "colab": {
          "base_uri": "https://localhost:8080/"
        },
        "outputId": "76fca985-8b3f-4bb3-c561-868260a58ae1"
      },
      "source": [
        "\n",
        "is_california=covid_data['state']=='California'\n",
        "is_california"
      ],
      "execution_count": 41,
      "outputs": [
        {
          "output_type": "execute_result",
          "data": {
            "text/plain": [
              "0       False\n",
              "1       False\n",
              "2       False\n",
              "3       False\n",
              "4       False\n",
              "        ...  \n",
              "3242    False\n",
              "3243    False\n",
              "3244    False\n",
              "3245    False\n",
              "3246    False\n",
              "Name: state, Length: 3247, dtype: bool"
            ]
          },
          "metadata": {
            "tags": []
          },
          "execution_count": 41
        }
      ]
    },
    {
      "cell_type": "code",
      "metadata": {
        "id": "IbDpEOpWODCL"
      },
      "source": [
        "covid_data_ca=covid_data.loc[is_california]"
      ],
      "execution_count": 42,
      "outputs": []
    },
    {
      "cell_type": "code",
      "metadata": {
        "id": "0ZD1lZqMOq3U"
      },
      "source": [
        "\n"
      ],
      "execution_count": 42,
      "outputs": []
    },
    {
      "cell_type": "code",
      "metadata": {
        "id": "yYMl-zLNOsJd",
        "colab": {
          "base_uri": "https://localhost:8080/"
        },
        "outputId": "4d84950c-e71f-4c0c-8de2-7c9021aa51fd"
      },
      "source": [
        "covid_data_ca.max()"
      ],
      "execution_count": 43,
      "outputs": [
        {
          "output_type": "execute_result",
          "data": {
            "text/plain": [
              "county          Yuba\n",
              "state     California\n",
              "cases        1247488\n",
              "deaths         24435\n",
              "dtype: object"
            ]
          },
          "metadata": {
            "tags": []
          },
          "execution_count": 43
        }
      ]
    },
    {
      "cell_type": "code",
      "metadata": {
        "id": "ktOmXKG8Ozwo",
        "colab": {
          "base_uri": "https://localhost:8080/",
          "height": 378
        },
        "outputId": "43bbd215-2dd2-45d5-96dc-da125e72f7ad"
      },
      "source": [
        "covid_data_ca.plot.bar(x='county', y='cases')"
      ],
      "execution_count": 44,
      "outputs": [
        {
          "output_type": "execute_result",
          "data": {
            "text/plain": [
              "<matplotlib.axes._subplots.AxesSubplot at 0x7f91e4d79550>"
            ]
          },
          "metadata": {
            "tags": []
          },
          "execution_count": 44
        },
        {
          "output_type": "display_data",
          "data": {
            "image/png": "[encoded data removed]",
            "text/plain": [
              "<Figure size 432x288 with 1 Axes>"
            ]
          },
          "metadata": {
            "tags": [],
            "needs_background": "light"
          }
        }
      ]
    },
    {
      "cell_type": "code",
      "metadata": {
        "id": "Ebj_XqtzUB8z",
        "colab": {
          "base_uri": "https://localhost:8080/",
          "height": 704
        },
        "outputId": "21447a5d-f611-4da6-b27b-519c55fa4b96"
      },
      "source": [
        "covid_data_ca.plot.bar(x='county', y='cases', figsize=(10,10))"
      ],
      "execution_count": 45,
      "outputs": [
        {
          "output_type": "execute_result",
          "data": {
            "text/plain": [
              "<matplotlib.axes._subplots.AxesSubplot at 0x7f91e4691890>"
            ]
          },
          "metadata": {
            "tags": []
          },
          "execution_count": 45
        },
        {
          "output_type": "display_data",
          "data": {
            "image/png": "[encoded data removed]",
            "text/plain": [
              "<Figure size 720x720 with 1 Axes>"
            ]
          },
          "metadata": {
            "tags": [],
            "needs_background": "light"
          }
        }
      ]
    },
    {
      "cell_type": "code",
      "metadata": {
        "id": "GDSAW9meUQuj",
        "colab": {
          "base_uri": "https://localhost:8080/",
          "height": 206
        },
        "outputId": "9b36d4e4-221a-4ce9-80dc-9790539bb2d0"
      },
      "source": [
        "covid_data_ca.sort_values('cases').head() # sorting in increasing order"
      ],
      "execution_count": 46,
      "outputs": [
        {
          "output_type": "execute_result",
          "data": {
            "text/html": [
              "<div>\n",
              "<style scoped>\n",
              "    .dataframe tbody tr th:only-of-type {\n",
              "        vertical-align: middle;\n",
              "    }\n",
              "\n",
              "    .dataframe tbody tr th {\n",
              "        vertical-align: top;\n",
              "    }\n",
              "\n",
              "    .dataframe thead th {\n",
              "        text-align: right;\n",
              "    }\n",
              "</style>\n",
              "<table border=\"1\" class=\"dataframe\">\n",
              "  <thead>\n",
              "    <tr style=\"text-align: right;\">\n",
              "      <th></th>\n",
              "      <th>county</th>\n",
              "      <th>state</th>\n",
              "      <th>cases</th>\n",
              "      <th>deaths</th>\n",
              "    </tr>\n",
              "  </thead>\n",
              "  <tbody>\n",
              "    <tr>\n",
              "      <th>232</th>\n",
              "      <td>Sierra</td>\n",
              "      <td>California</td>\n",
              "      <td>55</td>\n",
              "      <td>0.0</td>\n",
              "    </tr>\n",
              "    <tr>\n",
              "      <th>188</th>\n",
              "      <td>Alpine</td>\n",
              "      <td>California</td>\n",
              "      <td>89</td>\n",
              "      <td>0.0</td>\n",
              "    </tr>\n",
              "    <tr>\n",
              "      <th>239</th>\n",
              "      <td>Trinity</td>\n",
              "      <td>California</td>\n",
              "      <td>333</td>\n",
              "      <td>3.0</td>\n",
              "    </tr>\n",
              "    <tr>\n",
              "      <th>211</th>\n",
              "      <td>Modoc</td>\n",
              "      <td>California</td>\n",
              "      <td>383</td>\n",
              "      <td>3.0</td>\n",
              "    </tr>\n",
              "    <tr>\n",
              "      <th>208</th>\n",
              "      <td>Mariposa</td>\n",
              "      <td>California</td>\n",
              "      <td>464</td>\n",
              "      <td>7.0</td>\n",
              "    </tr>\n",
              "  </tbody>\n",
              "</table>\n",
              "</div>"
            ],
            "text/plain": [
              "       county       state  cases  deaths\n",
              "232    Sierra  California     55     0.0\n",
              "188    Alpine  California     89     0.0\n",
              "239   Trinity  California    333     3.0\n",
              "211     Modoc  California    383     3.0\n",
              "208  Mariposa  California    464     7.0"
            ]
          },
          "metadata": {
            "tags": []
          },
          "execution_count": 46
        }
      ]
    },
    {
      "cell_type": "code",
      "metadata": {
        "id": "AScLWuVqUf70",
        "colab": {
          "base_uri": "https://localhost:8080/",
          "height": 206
        },
        "outputId": "faf874f9-cb98-4e2b-9395-0d1c5350ee7b"
      },
      "source": [
        "covid_data_ca.sort_values('cases', ascending=False).head() # sorting in descreasing order"
      ],
      "execution_count": 47,
      "outputs": [
        {
          "output_type": "execute_result",
          "data": {
            "text/html": [
              "<div>\n",
              "<style scoped>\n",
              "    .dataframe tbody tr th:only-of-type {\n",
              "        vertical-align: middle;\n",
              "    }\n",
              "\n",
              "    .dataframe tbody tr th {\n",
              "        vertical-align: top;\n",
              "    }\n",
              "\n",
              "    .dataframe thead th {\n",
              "        text-align: right;\n",
              "    }\n",
              "</style>\n",
              "<table border=\"1\" class=\"dataframe\">\n",
              "  <thead>\n",
              "    <tr style=\"text-align: right;\">\n",
              "      <th></th>\n",
              "      <th>county</th>\n",
              "      <th>state</th>\n",
              "      <th>cases</th>\n",
              "      <th>deaths</th>\n",
              "    </tr>\n",
              "  </thead>\n",
              "  <tbody>\n",
              "    <tr>\n",
              "      <th>205</th>\n",
              "      <td>Los Angeles</td>\n",
              "      <td>California</td>\n",
              "      <td>1247488</td>\n",
              "      <td>24435.0</td>\n",
              "    </tr>\n",
              "    <tr>\n",
              "      <th>219</th>\n",
              "      <td>Riverside</td>\n",
              "      <td>California</td>\n",
              "      <td>301482</td>\n",
              "      <td>4624.0</td>\n",
              "    </tr>\n",
              "    <tr>\n",
              "      <th>222</th>\n",
              "      <td>San Bernardino</td>\n",
              "      <td>California</td>\n",
              "      <td>299096</td>\n",
              "      <td>4790.0</td>\n",
              "    </tr>\n",
              "    <tr>\n",
              "      <th>223</th>\n",
              "      <td>San Diego</td>\n",
              "      <td>California</td>\n",
              "      <td>281438</td>\n",
              "      <td>3770.0</td>\n",
              "    </tr>\n",
              "    <tr>\n",
              "      <th>216</th>\n",
              "      <td>Orange</td>\n",
              "      <td>California</td>\n",
              "      <td>272827</td>\n",
              "      <td>5105.0</td>\n",
              "    </tr>\n",
              "  </tbody>\n",
              "</table>\n",
              "</div>"
            ],
            "text/plain": [
              "             county       state    cases   deaths\n",
              "205     Los Angeles  California  1247488  24435.0\n",
              "219       Riverside  California   301482   4624.0\n",
              "222  San Bernardino  California   299096   4790.0\n",
              "223       San Diego  California   281438   3770.0\n",
              "216          Orange  California   272827   5105.0"
            ]
          },
          "metadata": {
            "tags": []
          },
          "execution_count": 47
        }
      ]
    },
    {
      "cell_type": "code",
      "metadata": {
        "id": "-_dY0YyaUo0T"
      },
      "source": [
        "## plot the cases for the top5 counties in ca sorted by death"
      ],
      "execution_count": 48,
      "outputs": []
    },
    {
      "cell_type": "code",
      "metadata": {
        "id": "dsNFlk4eUwMD",
        "colab": {
          "base_uri": "https://localhost:8080/",
          "height": 677
        },
        "outputId": "358192df-7e68-4ed5-db1d-3978182bccba"
      },
      "source": [
        "top20_bydeath=covid_data_ca.sort_values('deaths', ascending=False).head(20)\n",
        "top20_bydeath"
      ],
      "execution_count": 49,
      "outputs": [
        {
          "output_type": "execute_result",
          "data": {
            "text/html": [
              "<div>\n",
              "<style scoped>\n",
              "    .dataframe tbody tr th:only-of-type {\n",
              "        vertical-align: middle;\n",
              "    }\n",
              "\n",
              "    .dataframe tbody tr th {\n",
              "        vertical-align: top;\n",
              "    }\n",
              "\n",
              "    .dataframe thead th {\n",
              "        text-align: right;\n",
              "    }\n",
              "</style>\n",
              "<table border=\"1\" class=\"dataframe\">\n",
              "  <thead>\n",
              "    <tr style=\"text-align: right;\">\n",
              "      <th></th>\n",
              "      <th>county</th>\n",
              "      <th>state</th>\n",
              "      <th>cases</th>\n",
              "      <th>deaths</th>\n",
              "    </tr>\n",
              "  </thead>\n",
              "  <tbody>\n",
              "    <tr>\n",
              "      <th>205</th>\n",
              "      <td>Los Angeles</td>\n",
              "      <td>California</td>\n",
              "      <td>1247488</td>\n",
              "      <td>24435.0</td>\n",
              "    </tr>\n",
              "    <tr>\n",
              "      <th>216</th>\n",
              "      <td>Orange</td>\n",
              "      <td>California</td>\n",
              "      <td>272827</td>\n",
              "      <td>5105.0</td>\n",
              "    </tr>\n",
              "    <tr>\n",
              "      <th>222</th>\n",
              "      <td>San Bernardino</td>\n",
              "      <td>California</td>\n",
              "      <td>299096</td>\n",
              "      <td>4790.0</td>\n",
              "    </tr>\n",
              "    <tr>\n",
              "      <th>219</th>\n",
              "      <td>Riverside</td>\n",
              "      <td>California</td>\n",
              "      <td>301482</td>\n",
              "      <td>4624.0</td>\n",
              "    </tr>\n",
              "    <tr>\n",
              "      <th>223</th>\n",
              "      <td>San Diego</td>\n",
              "      <td>California</td>\n",
              "      <td>281438</td>\n",
              "      <td>3770.0</td>\n",
              "    </tr>\n",
              "    <tr>\n",
              "      <th>229</th>\n",
              "      <td>Santa Clara</td>\n",
              "      <td>California</td>\n",
              "      <td>119963</td>\n",
              "      <td>2180.0</td>\n",
              "    </tr>\n",
              "    <tr>\n",
              "      <th>220</th>\n",
              "      <td>Sacramento</td>\n",
              "      <td>California</td>\n",
              "      <td>107493</td>\n",
              "      <td>1726.0</td>\n",
              "    </tr>\n",
              "    <tr>\n",
              "      <th>196</th>\n",
              "      <td>Fresno</td>\n",
              "      <td>California</td>\n",
              "      <td>102828</td>\n",
              "      <td>1722.0</td>\n",
              "    </tr>\n",
              "    <tr>\n",
              "      <th>225</th>\n",
              "      <td>San Joaquin</td>\n",
              "      <td>California</td>\n",
              "      <td>74596</td>\n",
              "      <td>1435.0</td>\n",
              "    </tr>\n",
              "    <tr>\n",
              "      <th>201</th>\n",
              "      <td>Kern</td>\n",
              "      <td>California</td>\n",
              "      <td>110687</td>\n",
              "      <td>1401.0</td>\n",
              "    </tr>\n",
              "    <tr>\n",
              "      <th>187</th>\n",
              "      <td>Alameda</td>\n",
              "      <td>California</td>\n",
              "      <td>89557</td>\n",
              "      <td>1275.0</td>\n",
              "    </tr>\n",
              "    <tr>\n",
              "      <th>236</th>\n",
              "      <td>Stanislaus</td>\n",
              "      <td>California</td>\n",
              "      <td>63302</td>\n",
              "      <td>1068.0</td>\n",
              "    </tr>\n",
              "    <tr>\n",
              "      <th>242</th>\n",
              "      <td>Ventura</td>\n",
              "      <td>California</td>\n",
              "      <td>81572</td>\n",
              "      <td>1029.0</td>\n",
              "    </tr>\n",
              "    <tr>\n",
              "      <th>240</th>\n",
              "      <td>Tulare</td>\n",
              "      <td>California</td>\n",
              "      <td>49768</td>\n",
              "      <td>849.0</td>\n",
              "    </tr>\n",
              "    <tr>\n",
              "      <th>193</th>\n",
              "      <td>Contra Costa</td>\n",
              "      <td>California</td>\n",
              "      <td>70428</td>\n",
              "      <td>810.0</td>\n",
              "    </tr>\n",
              "    <tr>\n",
              "      <th>199</th>\n",
              "      <td>Imperial</td>\n",
              "      <td>California</td>\n",
              "      <td>28789</td>\n",
              "      <td>740.0</td>\n",
              "    </tr>\n",
              "    <tr>\n",
              "      <th>227</th>\n",
              "      <td>San Mateo</td>\n",
              "      <td>California</td>\n",
              "      <td>42593</td>\n",
              "      <td>581.0</td>\n",
              "    </tr>\n",
              "    <tr>\n",
              "      <th>224</th>\n",
              "      <td>San Francisco</td>\n",
              "      <td>California</td>\n",
              "      <td>37213</td>\n",
              "      <td>555.0</td>\n",
              "    </tr>\n",
              "    <tr>\n",
              "      <th>210</th>\n",
              "      <td>Merced</td>\n",
              "      <td>California</td>\n",
              "      <td>32278</td>\n",
              "      <td>477.0</td>\n",
              "    </tr>\n",
              "    <tr>\n",
              "      <th>228</th>\n",
              "      <td>Santa Barbara</td>\n",
              "      <td>California</td>\n",
              "      <td>34587</td>\n",
              "      <td>460.0</td>\n",
              "    </tr>\n",
              "  </tbody>\n",
              "</table>\n",
              "</div>"
            ],
            "text/plain": [
              "             county       state    cases   deaths\n",
              "205     Los Angeles  California  1247488  24435.0\n",
              "216          Orange  California   272827   5105.0\n",
              "222  San Bernardino  California   299096   4790.0\n",
              "219       Riverside  California   301482   4624.0\n",
              "223       San Diego  California   281438   3770.0\n",
              "229     Santa Clara  California   119963   2180.0\n",
              "220      Sacramento  California   107493   1726.0\n",
              "196          Fresno  California   102828   1722.0\n",
              "225     San Joaquin  California    74596   1435.0\n",
              "201            Kern  California   110687   1401.0\n",
              "187         Alameda  California    89557   1275.0\n",
              "236      Stanislaus  California    63302   1068.0\n",
              "242         Ventura  California    81572   1029.0\n",
              "240          Tulare  California    49768    849.0\n",
              "193    Contra Costa  California    70428    810.0\n",
              "199        Imperial  California    28789    740.0\n",
              "227       San Mateo  California    42593    581.0\n",
              "224   San Francisco  California    37213    555.0\n",
              "210          Merced  California    32278    477.0\n",
              "228   Santa Barbara  California    34587    460.0"
            ]
          },
          "metadata": {
            "tags": []
          },
          "execution_count": 49
        }
      ]
    },
    {
      "cell_type": "code",
      "metadata": {
        "id": "qkEaVHXsVgbQ",
        "colab": {
          "base_uri": "https://localhost:8080/",
          "height": 375
        },
        "outputId": "39707011-020a-43ae-965a-b97920b151a1"
      },
      "source": [
        "top20_bydeath.plot.bar(x='county', y='cases')"
      ],
      "execution_count": 50,
      "outputs": [
        {
          "output_type": "execute_result",
          "data": {
            "text/plain": [
              "<matplotlib.axes._subplots.AxesSubplot at 0x7f91e4549b90>"
            ]
          },
          "metadata": {
            "tags": []
          },
          "execution_count": 50
        },
        {
          "output_type": "display_data",
          "data": {
            "image/png": "[encoded data removed]",
            "text/plain": [
              "<Figure size 432x288 with 1 Axes>"
            ]
          },
          "metadata": {
            "tags": [],
            "needs_background": "light"
          }
        }
      ]
    },
    {
      "cell_type": "markdown",
      "metadata": {
        "id": "7GJ6-mND7zfm"
      },
      "source": [
        "## Session 2: Plotting in more details: histograms, box blots, and more!"
      ]
    },
    {
      "cell_type": "code",
      "metadata": {
        "id": "ZAS1LvnM7zs2",
        "colab": {
          "base_uri": "https://localhost:8080/"
        },
        "outputId": "b7a6c312-3ebf-4580-b401-d1af545872be"
      },
      "source": [
        "#grouby is implicitely splitting the data frame by teh values of a specific column\n",
        "covid_data.groupby('state')"
      ],
      "execution_count": 51,
      "outputs": [
        {
          "output_type": "execute_result",
          "data": {
            "text/plain": [
              "<pandas.core.groupby.generic.DataFrameGroupBy object at 0x7f91e4525490>"
            ]
          },
          "metadata": {
            "tags": []
          },
          "execution_count": 51
        }
      ]
    },
    {
      "cell_type": "code",
      "metadata": {
        "id": "7gOsP7n4XiOG"
      },
      "source": [
        "grouped_by_state=covid_data.groupby('state')"
      ],
      "execution_count": 52,
      "outputs": []
    },
    {
      "cell_type": "code",
      "metadata": {
        "id": "XsCKjNrtXofC",
        "colab": {
          "base_uri": "https://localhost:8080/",
          "height": 1000
        },
        "outputId": "67a4d256-7c44-4136-aed0-9a821cbb27af"
      },
      "source": [
        "grouped_by_state.get_group('Oregon')"
      ],
      "execution_count": 53,
      "outputs": [
        {
          "output_type": "execute_result",
          "data": {
            "text/html": [
              "<div>\n",
              "<style scoped>\n",
              "    .dataframe tbody tr th:only-of-type {\n",
              "        vertical-align: middle;\n",
              "    }\n",
              "\n",
              "    .dataframe tbody tr th {\n",
              "        vertical-align: top;\n",
              "    }\n",
              "\n",
              "    .dataframe thead th {\n",
              "        text-align: right;\n",
              "    }\n",
              "</style>\n",
              "<table border=\"1\" class=\"dataframe\">\n",
              "  <thead>\n",
              "    <tr style=\"text-align: right;\">\n",
              "      <th></th>\n",
              "      <th>county</th>\n",
              "      <th>state</th>\n",
              "      <th>cases</th>\n",
              "      <th>deaths</th>\n",
              "    </tr>\n",
              "  </thead>\n",
              "  <tbody>\n",
              "    <tr>\n",
              "      <th>2227</th>\n",
              "      <td>Baker</td>\n",
              "      <td>Oregon</td>\n",
              "      <td>1001</td>\n",
              "      <td>15.0</td>\n",
              "    </tr>\n",
              "    <tr>\n",
              "      <th>2228</th>\n",
              "      <td>Benton</td>\n",
              "      <td>Oregon</td>\n",
              "      <td>3247</td>\n",
              "      <td>22.0</td>\n",
              "    </tr>\n",
              "    <tr>\n",
              "      <th>2229</th>\n",
              "      <td>Clackamas</td>\n",
              "      <td>Oregon</td>\n",
              "      <td>18816</td>\n",
              "      <td>240.0</td>\n",
              "    </tr>\n",
              "    <tr>\n",
              "      <th>2230</th>\n",
              "      <td>Clatsop</td>\n",
              "      <td>Oregon</td>\n",
              "      <td>1036</td>\n",
              "      <td>8.0</td>\n",
              "    </tr>\n",
              "    <tr>\n",
              "      <th>2231</th>\n",
              "      <td>Columbia</td>\n",
              "      <td>Oregon</td>\n",
              "      <td>1895</td>\n",
              "      <td>29.0</td>\n",
              "    </tr>\n",
              "    <tr>\n",
              "      <th>2232</th>\n",
              "      <td>Coos</td>\n",
              "      <td>Oregon</td>\n",
              "      <td>2162</td>\n",
              "      <td>37.0</td>\n",
              "    </tr>\n",
              "    <tr>\n",
              "      <th>2233</th>\n",
              "      <td>Crook</td>\n",
              "      <td>Oregon</td>\n",
              "      <td>1283</td>\n",
              "      <td>23.0</td>\n",
              "    </tr>\n",
              "    <tr>\n",
              "      <th>2234</th>\n",
              "      <td>Curry</td>\n",
              "      <td>Oregon</td>\n",
              "      <td>689</td>\n",
              "      <td>11.0</td>\n",
              "    </tr>\n",
              "    <tr>\n",
              "      <th>2235</th>\n",
              "      <td>Deschutes</td>\n",
              "      <td>Oregon</td>\n",
              "      <td>9963</td>\n",
              "      <td>81.0</td>\n",
              "    </tr>\n",
              "    <tr>\n",
              "      <th>2236</th>\n",
              "      <td>Douglas</td>\n",
              "      <td>Oregon</td>\n",
              "      <td>3826</td>\n",
              "      <td>81.0</td>\n",
              "    </tr>\n",
              "    <tr>\n",
              "      <th>2237</th>\n",
              "      <td>Gilliam</td>\n",
              "      <td>Oregon</td>\n",
              "      <td>76</td>\n",
              "      <td>1.0</td>\n",
              "    </tr>\n",
              "    <tr>\n",
              "      <th>2238</th>\n",
              "      <td>Grant</td>\n",
              "      <td>Oregon</td>\n",
              "      <td>548</td>\n",
              "      <td>7.0</td>\n",
              "    </tr>\n",
              "    <tr>\n",
              "      <th>2239</th>\n",
              "      <td>Harney</td>\n",
              "      <td>Oregon</td>\n",
              "      <td>426</td>\n",
              "      <td>9.0</td>\n",
              "    </tr>\n",
              "    <tr>\n",
              "      <th>2240</th>\n",
              "      <td>Hood River</td>\n",
              "      <td>Oregon</td>\n",
              "      <td>1217</td>\n",
              "      <td>33.0</td>\n",
              "    </tr>\n",
              "    <tr>\n",
              "      <th>2241</th>\n",
              "      <td>Jackson</td>\n",
              "      <td>Oregon</td>\n",
              "      <td>11485</td>\n",
              "      <td>146.0</td>\n",
              "    </tr>\n",
              "    <tr>\n",
              "      <th>2242</th>\n",
              "      <td>Jefferson</td>\n",
              "      <td>Oregon</td>\n",
              "      <td>2359</td>\n",
              "      <td>38.0</td>\n",
              "    </tr>\n",
              "    <tr>\n",
              "      <th>2243</th>\n",
              "      <td>Josephine</td>\n",
              "      <td>Oregon</td>\n",
              "      <td>3553</td>\n",
              "      <td>72.0</td>\n",
              "    </tr>\n",
              "    <tr>\n",
              "      <th>2244</th>\n",
              "      <td>Klamath</td>\n",
              "      <td>Oregon</td>\n",
              "      <td>4763</td>\n",
              "      <td>78.0</td>\n",
              "    </tr>\n",
              "    <tr>\n",
              "      <th>2245</th>\n",
              "      <td>Lake</td>\n",
              "      <td>Oregon</td>\n",
              "      <td>467</td>\n",
              "      <td>8.0</td>\n",
              "    </tr>\n",
              "    <tr>\n",
              "      <th>2246</th>\n",
              "      <td>Lane</td>\n",
              "      <td>Oregon</td>\n",
              "      <td>13821</td>\n",
              "      <td>161.0</td>\n",
              "    </tr>\n",
              "    <tr>\n",
              "      <th>2247</th>\n",
              "      <td>Lincoln</td>\n",
              "      <td>Oregon</td>\n",
              "      <td>1418</td>\n",
              "      <td>21.0</td>\n",
              "    </tr>\n",
              "    <tr>\n",
              "      <th>2248</th>\n",
              "      <td>Linn</td>\n",
              "      <td>Oregon</td>\n",
              "      <td>5535</td>\n",
              "      <td>80.0</td>\n",
              "    </tr>\n",
              "    <tr>\n",
              "      <th>2249</th>\n",
              "      <td>Malheur</td>\n",
              "      <td>Oregon</td>\n",
              "      <td>3602</td>\n",
              "      <td>63.0</td>\n",
              "    </tr>\n",
              "    <tr>\n",
              "      <th>2250</th>\n",
              "      <td>Marion</td>\n",
              "      <td>Oregon</td>\n",
              "      <td>23320</td>\n",
              "      <td>322.0</td>\n",
              "    </tr>\n",
              "    <tr>\n",
              "      <th>2251</th>\n",
              "      <td>Morrow</td>\n",
              "      <td>Oregon</td>\n",
              "      <td>1151</td>\n",
              "      <td>16.0</td>\n",
              "    </tr>\n",
              "    <tr>\n",
              "      <th>2252</th>\n",
              "      <td>Multnomah</td>\n",
              "      <td>Oregon</td>\n",
              "      <td>40278</td>\n",
              "      <td>635.0</td>\n",
              "    </tr>\n",
              "    <tr>\n",
              "      <th>2253</th>\n",
              "      <td>Polk</td>\n",
              "      <td>Oregon</td>\n",
              "      <td>3955</td>\n",
              "      <td>55.0</td>\n",
              "    </tr>\n",
              "    <tr>\n",
              "      <th>2254</th>\n",
              "      <td>Sherman</td>\n",
              "      <td>Oregon</td>\n",
              "      <td>66</td>\n",
              "      <td>1.0</td>\n",
              "    </tr>\n",
              "    <tr>\n",
              "      <th>2255</th>\n",
              "      <td>Tillamook</td>\n",
              "      <td>Oregon</td>\n",
              "      <td>660</td>\n",
              "      <td>4.0</td>\n",
              "    </tr>\n",
              "    <tr>\n",
              "      <th>2256</th>\n",
              "      <td>Umatilla</td>\n",
              "      <td>Oregon</td>\n",
              "      <td>8544</td>\n",
              "      <td>87.0</td>\n",
              "    </tr>\n",
              "    <tr>\n",
              "      <th>2257</th>\n",
              "      <td>Union</td>\n",
              "      <td>Oregon</td>\n",
              "      <td>1490</td>\n",
              "      <td>24.0</td>\n",
              "    </tr>\n",
              "    <tr>\n",
              "      <th>2258</th>\n",
              "      <td>Wallowa</td>\n",
              "      <td>Oregon</td>\n",
              "      <td>194</td>\n",
              "      <td>5.0</td>\n",
              "    </tr>\n",
              "    <tr>\n",
              "      <th>2259</th>\n",
              "      <td>Wasco</td>\n",
              "      <td>Oregon</td>\n",
              "      <td>1435</td>\n",
              "      <td>30.0</td>\n",
              "    </tr>\n",
              "    <tr>\n",
              "      <th>2260</th>\n",
              "      <td>Washington</td>\n",
              "      <td>Oregon</td>\n",
              "      <td>26698</td>\n",
              "      <td>252.0</td>\n",
              "    </tr>\n",
              "    <tr>\n",
              "      <th>2261</th>\n",
              "      <td>Wheeler</td>\n",
              "      <td>Oregon</td>\n",
              "      <td>35</td>\n",
              "      <td>1.0</td>\n",
              "    </tr>\n",
              "    <tr>\n",
              "      <th>2262</th>\n",
              "      <td>Yamhill</td>\n",
              "      <td>Oregon</td>\n",
              "      <td>4766</td>\n",
              "      <td>79.0</td>\n",
              "    </tr>\n",
              "  </tbody>\n",
              "</table>\n",
              "</div>"
            ],
            "text/plain": [
              "          county   state  cases  deaths\n",
              "2227       Baker  Oregon   1001    15.0\n",
              "2228      Benton  Oregon   3247    22.0\n",
              "2229   Clackamas  Oregon  18816   240.0\n",
              "2230     Clatsop  Oregon   1036     8.0\n",
              "2231    Columbia  Oregon   1895    29.0\n",
              "2232        Coos  Oregon   2162    37.0\n",
              "2233       Crook  Oregon   1283    23.0\n",
              "2234       Curry  Oregon    689    11.0\n",
              "2235   Deschutes  Oregon   9963    81.0\n",
              "2236     Douglas  Oregon   3826    81.0\n",
              "2237     Gilliam  Oregon     76     1.0\n",
              "2238       Grant  Oregon    548     7.0\n",
              "2239      Harney  Oregon    426     9.0\n",
              "2240  Hood River  Oregon   1217    33.0\n",
              "2241     Jackson  Oregon  11485   146.0\n",
              "2242   Jefferson  Oregon   2359    38.0\n",
              "2243   Josephine  Oregon   3553    72.0\n",
              "2244     Klamath  Oregon   4763    78.0\n",
              "2245        Lake  Oregon    467     8.0\n",
              "2246        Lane  Oregon  13821   161.0\n",
              "2247     Lincoln  Oregon   1418    21.0\n",
              "2248        Linn  Oregon   5535    80.0\n",
              "2249     Malheur  Oregon   3602    63.0\n",
              "2250      Marion  Oregon  23320   322.0\n",
              "2251      Morrow  Oregon   1151    16.0\n",
              "2252   Multnomah  Oregon  40278   635.0\n",
              "2253        Polk  Oregon   3955    55.0\n",
              "2254     Sherman  Oregon     66     1.0\n",
              "2255   Tillamook  Oregon    660     4.0\n",
              "2256    Umatilla  Oregon   8544    87.0\n",
              "2257       Union  Oregon   1490    24.0\n",
              "2258     Wallowa  Oregon    194     5.0\n",
              "2259       Wasco  Oregon   1435    30.0\n",
              "2260  Washington  Oregon  26698   252.0\n",
              "2261     Wheeler  Oregon     35     1.0\n",
              "2262     Yamhill  Oregon   4766    79.0"
            ]
          },
          "metadata": {
            "tags": []
          },
          "execution_count": 53
        }
      ]
    },
    {
      "cell_type": "code",
      "metadata": {
        "id": "XyXImgAgXysu",
        "colab": {
          "base_uri": "https://localhost:8080/",
          "height": 424
        },
        "outputId": "4e877477-2d98-4d28-f5a3-909d1f30dd79"
      },
      "source": [
        "grouped_by_state.head(3)"
      ],
      "execution_count": 54,
      "outputs": [
        {
          "output_type": "execute_result",
          "data": {
            "text/html": [
              "<div>\n",
              "<style scoped>\n",
              "    .dataframe tbody tr th:only-of-type {\n",
              "        vertical-align: middle;\n",
              "    }\n",
              "\n",
              "    .dataframe tbody tr th {\n",
              "        vertical-align: top;\n",
              "    }\n",
              "\n",
              "    .dataframe thead th {\n",
              "        text-align: right;\n",
              "    }\n",
              "</style>\n",
              "<table border=\"1\" class=\"dataframe\">\n",
              "  <thead>\n",
              "    <tr style=\"text-align: right;\">\n",
              "      <th></th>\n",
              "      <th>county</th>\n",
              "      <th>state</th>\n",
              "      <th>cases</th>\n",
              "      <th>deaths</th>\n",
              "    </tr>\n",
              "  </thead>\n",
              "  <tbody>\n",
              "    <tr>\n",
              "      <th>0</th>\n",
              "      <td>Autauga</td>\n",
              "      <td>Alabama</td>\n",
              "      <td>7230</td>\n",
              "      <td>113.0</td>\n",
              "    </tr>\n",
              "    <tr>\n",
              "      <th>1</th>\n",
              "      <td>Baldwin</td>\n",
              "      <td>Alabama</td>\n",
              "      <td>21839</td>\n",
              "      <td>313.0</td>\n",
              "    </tr>\n",
              "    <tr>\n",
              "      <th>2</th>\n",
              "      <td>Barbour</td>\n",
              "      <td>Alabama</td>\n",
              "      <td>2346</td>\n",
              "      <td>59.0</td>\n",
              "    </tr>\n",
              "    <tr>\n",
              "      <th>67</th>\n",
              "      <td>Aleutians East Borough</td>\n",
              "      <td>Alaska</td>\n",
              "      <td>367</td>\n",
              "      <td>3.0</td>\n",
              "    </tr>\n",
              "    <tr>\n",
              "      <th>68</th>\n",
              "      <td>Aleutians West Census Area</td>\n",
              "      <td>Alaska</td>\n",
              "      <td>710</td>\n",
              "      <td>0.0</td>\n",
              "    </tr>\n",
              "    <tr>\n",
              "      <th>...</th>\n",
              "      <td>...</td>\n",
              "      <td>...</td>\n",
              "      <td>...</td>\n",
              "      <td>...</td>\n",
              "    </tr>\n",
              "    <tr>\n",
              "      <th>3153</th>\n",
              "      <td>Ashland</td>\n",
              "      <td>Wisconsin</td>\n",
              "      <td>1398</td>\n",
              "      <td>15.0</td>\n",
              "    </tr>\n",
              "    <tr>\n",
              "      <th>3154</th>\n",
              "      <td>Barron</td>\n",
              "      <td>Wisconsin</td>\n",
              "      <td>6045</td>\n",
              "      <td>86.0</td>\n",
              "    </tr>\n",
              "    <tr>\n",
              "      <th>3224</th>\n",
              "      <td>Albany</td>\n",
              "      <td>Wyoming</td>\n",
              "      <td>4576</td>\n",
              "      <td>15.0</td>\n",
              "    </tr>\n",
              "    <tr>\n",
              "      <th>3225</th>\n",
              "      <td>Big Horn</td>\n",
              "      <td>Wyoming</td>\n",
              "      <td>1198</td>\n",
              "      <td>34.0</td>\n",
              "    </tr>\n",
              "    <tr>\n",
              "      <th>3226</th>\n",
              "      <td>Campbell</td>\n",
              "      <td>Wyoming</td>\n",
              "      <td>5144</td>\n",
              "      <td>60.0</td>\n",
              "    </tr>\n",
              "  </tbody>\n",
              "</table>\n",
              "<p>160 rows × 4 columns</p>\n",
              "</div>"
            ],
            "text/plain": [
              "                          county      state  cases  deaths\n",
              "0                        Autauga    Alabama   7230   113.0\n",
              "1                        Baldwin    Alabama  21839   313.0\n",
              "2                        Barbour    Alabama   2346    59.0\n",
              "67        Aleutians East Borough     Alaska    367     3.0\n",
              "68    Aleutians West Census Area     Alaska    710     0.0\n",
              "...                          ...        ...    ...     ...\n",
              "3153                     Ashland  Wisconsin   1398    15.0\n",
              "3154                      Barron  Wisconsin   6045    86.0\n",
              "3224                      Albany    Wyoming   4576    15.0\n",
              "3225                    Big Horn    Wyoming   1198    34.0\n",
              "3226                    Campbell    Wyoming   5144    60.0\n",
              "\n",
              "[160 rows x 4 columns]"
            ]
          },
          "metadata": {
            "tags": []
          },
          "execution_count": 54
        }
      ]
    },
    {
      "cell_type": "code",
      "metadata": {
        "id": "ZbgQ0a0sYJ_u",
        "colab": {
          "base_uri": "https://localhost:8080/"
        },
        "outputId": "5196048e-dc89-4079-d9b2-c0bc1a6ceef2"
      },
      "source": [
        "covid_data.mean()"
      ],
      "execution_count": 55,
      "outputs": [
        {
          "output_type": "execute_result",
          "data": {
            "text/plain": [
              "cases     10306.612257\n",
              "deaths      189.411171\n",
              "dtype: float64"
            ]
          },
          "metadata": {
            "tags": []
          },
          "execution_count": 55
        }
      ]
    },
    {
      "cell_type": "code",
      "metadata": {
        "id": "hOonjWUAYSZa",
        "colab": {
          "base_uri": "https://localhost:8080/",
          "height": 1000
        },
        "outputId": "763e0790-431a-4805-eb13-85805d2c64f8"
      },
      "source": [
        "grouped_by_state.mean()"
      ],
      "execution_count": 56,
      "outputs": [
        {
          "output_type": "execute_result",
          "data": {
            "text/html": [
              "<div>\n",
              "<style scoped>\n",
              "    .dataframe tbody tr th:only-of-type {\n",
              "        vertical-align: middle;\n",
              "    }\n",
              "\n",
              "    .dataframe tbody tr th {\n",
              "        vertical-align: top;\n",
              "    }\n",
              "\n",
              "    .dataframe thead th {\n",
              "        text-align: right;\n",
              "    }\n",
              "</style>\n",
              "<table border=\"1\" class=\"dataframe\">\n",
              "  <thead>\n",
              "    <tr style=\"text-align: right;\">\n",
              "      <th></th>\n",
              "      <th>cases</th>\n",
              "      <th>deaths</th>\n",
              "    </tr>\n",
              "    <tr>\n",
              "      <th>state</th>\n",
              "      <th></th>\n",
              "      <th></th>\n",
              "    </tr>\n",
              "  </thead>\n",
              "  <tbody>\n",
              "    <tr>\n",
              "      <th>Alabama</th>\n",
              "      <td>8183.925373</td>\n",
              "      <td>168.477612</td>\n",
              "    </tr>\n",
              "    <tr>\n",
              "      <th>Alaska</th>\n",
              "      <td>2506.535714</td>\n",
              "      <td>12.714286</td>\n",
              "    </tr>\n",
              "    <tr>\n",
              "      <th>Arizona</th>\n",
              "      <td>55500.312500</td>\n",
              "      <td>1111.937500</td>\n",
              "    </tr>\n",
              "    <tr>\n",
              "      <th>Arkansas</th>\n",
              "      <td>4534.960526</td>\n",
              "      <td>77.197368</td>\n",
              "    </tr>\n",
              "    <tr>\n",
              "      <th>California</th>\n",
              "      <td>65606.948276</td>\n",
              "      <td>1090.051724</td>\n",
              "    </tr>\n",
              "    <tr>\n",
              "      <th>Colorado</th>\n",
              "      <td>8675.750000</td>\n",
              "      <td>107.062500</td>\n",
              "    </tr>\n",
              "    <tr>\n",
              "      <th>Connecticut</th>\n",
              "      <td>38728.888889</td>\n",
              "      <td>918.333333</td>\n",
              "    </tr>\n",
              "    <tr>\n",
              "      <th>Delaware</th>\n",
              "      <td>27354.500000</td>\n",
              "      <td>419.750000</td>\n",
              "    </tr>\n",
              "    <tr>\n",
              "      <th>District of Columbia</th>\n",
              "      <td>49223.000000</td>\n",
              "      <td>1139.000000</td>\n",
              "    </tr>\n",
              "    <tr>\n",
              "      <th>Florida</th>\n",
              "      <td>33835.088235</td>\n",
              "      <td>548.014706</td>\n",
              "    </tr>\n",
              "    <tr>\n",
              "      <th>Georgia</th>\n",
              "      <td>6907.712500</td>\n",
              "      <td>128.400000</td>\n",
              "    </tr>\n",
              "    <tr>\n",
              "      <th>Guam</th>\n",
              "      <td>9230.000000</td>\n",
              "      <td>140.000000</td>\n",
              "    </tr>\n",
              "    <tr>\n",
              "      <th>Hawaii</th>\n",
              "      <td>7166.200000</td>\n",
              "      <td>100.800000</td>\n",
              "    </tr>\n",
              "    <tr>\n",
              "      <th>Idaho</th>\n",
              "      <td>4409.022727</td>\n",
              "      <td>48.295455</td>\n",
              "    </tr>\n",
              "    <tr>\n",
              "      <th>Illinois</th>\n",
              "      <td>13518.349515</td>\n",
              "      <td>247.873786</td>\n",
              "    </tr>\n",
              "    <tr>\n",
              "      <th>Indiana</th>\n",
              "      <td>8190.336957</td>\n",
              "      <td>149.597826</td>\n",
              "    </tr>\n",
              "    <tr>\n",
              "      <th>Iowa</th>\n",
              "      <td>3728.370000</td>\n",
              "      <td>61.090000</td>\n",
              "    </tr>\n",
              "    <tr>\n",
              "      <th>Kansas</th>\n",
              "      <td>3027.980952</td>\n",
              "      <td>49.152381</td>\n",
              "    </tr>\n",
              "    <tr>\n",
              "      <th>Kentucky</th>\n",
              "      <td>3866.233333</td>\n",
              "      <td>60.183333</td>\n",
              "    </tr>\n",
              "    <tr>\n",
              "      <th>Louisiana</th>\n",
              "      <td>7335.261538</td>\n",
              "      <td>164.153846</td>\n",
              "    </tr>\n",
              "    <tr>\n",
              "      <th>Maine</th>\n",
              "      <td>4292.687500</td>\n",
              "      <td>53.312500</td>\n",
              "    </tr>\n",
              "    <tr>\n",
              "      <th>Maryland</th>\n",
              "      <td>18467.480000</td>\n",
              "      <td>387.800000</td>\n",
              "    </tr>\n",
              "    <tr>\n",
              "      <th>Massachusetts</th>\n",
              "      <td>47272.000000</td>\n",
              "      <td>1196.866667</td>\n",
              "    </tr>\n",
              "    <tr>\n",
              "      <th>Michigan</th>\n",
              "      <td>11860.416667</td>\n",
              "      <td>247.714286</td>\n",
              "    </tr>\n",
              "    <tr>\n",
              "      <th>Minnesota</th>\n",
              "      <td>6865.284091</td>\n",
              "      <td>86.545455</td>\n",
              "    </tr>\n",
              "    <tr>\n",
              "      <th>Mississippi</th>\n",
              "      <td>3896.475610</td>\n",
              "      <td>89.853659</td>\n",
              "    </tr>\n",
              "    <tr>\n",
              "      <th>Missouri</th>\n",
              "      <td>5330.948718</td>\n",
              "      <td>84.000000</td>\n",
              "    </tr>\n",
              "    <tr>\n",
              "      <th>Montana</th>\n",
              "      <td>2020.142857</td>\n",
              "      <td>29.446429</td>\n",
              "    </tr>\n",
              "    <tr>\n",
              "      <th>Nebraska</th>\n",
              "      <td>2382.244681</td>\n",
              "      <td>26.776596</td>\n",
              "    </tr>\n",
              "    <tr>\n",
              "      <th>Nevada</th>\n",
              "      <td>19305.529412</td>\n",
              "      <td>331.470588</td>\n",
              "    </tr>\n",
              "    <tr>\n",
              "      <th>New Hampshire</th>\n",
              "      <td>9017.818182</td>\n",
              "      <td>124.000000</td>\n",
              "    </tr>\n",
              "    <tr>\n",
              "      <th>New Jersey</th>\n",
              "      <td>46378.454545</td>\n",
              "      <td>1197.818182</td>\n",
              "    </tr>\n",
              "    <tr>\n",
              "      <th>New Mexico</th>\n",
              "      <td>6196.121212</td>\n",
              "      <td>130.515152</td>\n",
              "    </tr>\n",
              "    <tr>\n",
              "      <th>New York</th>\n",
              "      <td>36354.051724</td>\n",
              "      <td>913.706897</td>\n",
              "    </tr>\n",
              "    <tr>\n",
              "      <th>North Carolina</th>\n",
              "      <td>10103.140000</td>\n",
              "      <td>133.330000</td>\n",
              "    </tr>\n",
              "    <tr>\n",
              "      <th>North Dakota</th>\n",
              "      <td>2046.722222</td>\n",
              "      <td>28.759259</td>\n",
              "    </tr>\n",
              "    <tr>\n",
              "      <th>Northern Mariana Islands</th>\n",
              "      <td>91.500000</td>\n",
              "      <td>1.000000</td>\n",
              "    </tr>\n",
              "    <tr>\n",
              "      <th>Ohio</th>\n",
              "      <td>12448.337079</td>\n",
              "      <td>226.089888</td>\n",
              "    </tr>\n",
              "    <tr>\n",
              "      <th>Oklahoma</th>\n",
              "      <td>5835.192308</td>\n",
              "      <td>94.282051</td>\n",
              "    </tr>\n",
              "    <tr>\n",
              "      <th>Oregon</th>\n",
              "      <td>5716.111111</td>\n",
              "      <td>77.083333</td>\n",
              "    </tr>\n",
              "    <tr>\n",
              "      <th>Pennsylvania</th>\n",
              "      <td>18120.164179</td>\n",
              "      <td>411.671642</td>\n",
              "    </tr>\n",
              "    <tr>\n",
              "      <th>Puerto Rico</th>\n",
              "      <td>2190.822785</td>\n",
              "      <td>2538.000000</td>\n",
              "    </tr>\n",
              "    <tr>\n",
              "      <th>Rhode Island</th>\n",
              "      <td>25388.833333</td>\n",
              "      <td>453.833333</td>\n",
              "    </tr>\n",
              "    <tr>\n",
              "      <th>South Carolina</th>\n",
              "      <td>12941.521739</td>\n",
              "      <td>212.739130</td>\n",
              "    </tr>\n",
              "    <tr>\n",
              "      <th>South Dakota</th>\n",
              "      <td>1884.575758</td>\n",
              "      <td>30.696970</td>\n",
              "    </tr>\n",
              "    <tr>\n",
              "      <th>Tennessee</th>\n",
              "      <td>8883.989583</td>\n",
              "      <td>129.218750</td>\n",
              "    </tr>\n",
              "    <tr>\n",
              "      <th>Texas</th>\n",
              "      <td>11715.417323</td>\n",
              "      <td>205.452756</td>\n",
              "    </tr>\n",
              "    <tr>\n",
              "      <th>Utah</th>\n",
              "      <td>13681.566667</td>\n",
              "      <td>77.466667</td>\n",
              "    </tr>\n",
              "    <tr>\n",
              "      <th>Vermont</th>\n",
              "      <td>1623.200000</td>\n",
              "      <td>17.066667</td>\n",
              "    </tr>\n",
              "    <tr>\n",
              "      <th>Virgin Islands</th>\n",
              "      <td>1243.000000</td>\n",
              "      <td>10.000000</td>\n",
              "    </tr>\n",
              "    <tr>\n",
              "      <th>Virginia</th>\n",
              "      <td>5099.443609</td>\n",
              "      <td>85.187970</td>\n",
              "    </tr>\n",
              "    <tr>\n",
              "      <th>Washington</th>\n",
              "      <td>11480.000000</td>\n",
              "      <td>150.000000</td>\n",
              "    </tr>\n",
              "    <tr>\n",
              "      <th>West Virginia</th>\n",
              "      <td>2969.290909</td>\n",
              "      <td>52.018182</td>\n",
              "    </tr>\n",
              "    <tr>\n",
              "      <th>Wisconsin</th>\n",
              "      <td>9397.986111</td>\n",
              "      <td>111.680556</td>\n",
              "    </tr>\n",
              "    <tr>\n",
              "      <th>Wyoming</th>\n",
              "      <td>2667.782609</td>\n",
              "      <td>31.913043</td>\n",
              "    </tr>\n",
              "  </tbody>\n",
              "</table>\n",
              "</div>"
            ],
            "text/plain": [
              "                                 cases       deaths\n",
              "state                                              \n",
              "Alabama                    8183.925373   168.477612\n",
              "Alaska                     2506.535714    12.714286\n",
              "Arizona                   55500.312500  1111.937500\n",
              "Arkansas                   4534.960526    77.197368\n",
              "California                65606.948276  1090.051724\n",
              "Colorado                   8675.750000   107.062500\n",
              "Connecticut               38728.888889   918.333333\n",
              "Delaware                  27354.500000   419.750000\n",
              "District of Columbia      49223.000000  1139.000000\n",
              "Florida                   33835.088235   548.014706\n",
              "Georgia                    6907.712500   128.400000\n",
              "Guam                       9230.000000   140.000000\n",
              "Hawaii                     7166.200000   100.800000\n",
              "Idaho                      4409.022727    48.295455\n",
              "Illinois                  13518.349515   247.873786\n",
              "Indiana                    8190.336957   149.597826\n",
              "Iowa                       3728.370000    61.090000\n",
              "Kansas                     3027.980952    49.152381\n",
              "Kentucky                   3866.233333    60.183333\n",
              "Louisiana                  7335.261538   164.153846\n",
              "Maine                      4292.687500    53.312500\n",
              "Maryland                  18467.480000   387.800000\n",
              "Massachusetts             47272.000000  1196.866667\n",
              "Michigan                  11860.416667   247.714286\n",
              "Minnesota                  6865.284091    86.545455\n",
              "Mississippi                3896.475610    89.853659\n",
              "Missouri                   5330.948718    84.000000\n",
              "Montana                    2020.142857    29.446429\n",
              "Nebraska                   2382.244681    26.776596\n",
              "Nevada                    19305.529412   331.470588\n",
              "New Hampshire              9017.818182   124.000000\n",
              "New Jersey                46378.454545  1197.818182\n",
              "New Mexico                 6196.121212   130.515152\n",
              "New York                  36354.051724   913.706897\n",
              "North Carolina            10103.140000   133.330000\n",
              "North Dakota               2046.722222    28.759259\n",
              "Northern Mariana Islands     91.500000     1.000000\n",
              "Ohio                      12448.337079   226.089888\n",
              "Oklahoma                   5835.192308    94.282051\n",
              "Oregon                     5716.111111    77.083333\n",
              "Pennsylvania              18120.164179   411.671642\n",
              "Puerto Rico                2190.822785  2538.000000\n",
              "Rhode Island              25388.833333   453.833333\n",
              "South Carolina            12941.521739   212.739130\n",
              "South Dakota               1884.575758    30.696970\n",
              "Tennessee                  8883.989583   129.218750\n",
              "Texas                     11715.417323   205.452756\n",
              "Utah                      13681.566667    77.466667\n",
              "Vermont                    1623.200000    17.066667\n",
              "Virgin Islands             1243.000000    10.000000\n",
              "Virginia                   5099.443609    85.187970\n",
              "Washington                11480.000000   150.000000\n",
              "West Virginia              2969.290909    52.018182\n",
              "Wisconsin                  9397.986111   111.680556\n",
              "Wyoming                    2667.782609    31.913043"
            ]
          },
          "metadata": {
            "tags": []
          },
          "execution_count": 56
        }
      ]
    },
    {
      "cell_type": "code",
      "metadata": {
        "id": "0zyYbZtHYfk6",
        "colab": {
          "base_uri": "https://localhost:8080/",
          "height": 237
        },
        "outputId": "3d2a07b8-a148-4c29-c4f7-b5896c23f84c"
      },
      "source": [
        "# bar plot of the total number of cases by state\n",
        "mean_by_state=grouped_by_state.mean().head()\n",
        "mean_by_state\n",
        "#mean_by_state.plot.bar(x='state',y='case')\n",
        "\n",
        "\n",
        "\n",
        "\n"
      ],
      "execution_count": 57,
      "outputs": [
        {
          "output_type": "execute_result",
          "data": {
            "text/html": [
              "<div>\n",
              "<style scoped>\n",
              "    .dataframe tbody tr th:only-of-type {\n",
              "        vertical-align: middle;\n",
              "    }\n",
              "\n",
              "    .dataframe tbody tr th {\n",
              "        vertical-align: top;\n",
              "    }\n",
              "\n",
              "    .dataframe thead th {\n",
              "        text-align: right;\n",
              "    }\n",
              "</style>\n",
              "<table border=\"1\" class=\"dataframe\">\n",
              "  <thead>\n",
              "    <tr style=\"text-align: right;\">\n",
              "      <th></th>\n",
              "      <th>cases</th>\n",
              "      <th>deaths</th>\n",
              "    </tr>\n",
              "    <tr>\n",
              "      <th>state</th>\n",
              "      <th></th>\n",
              "      <th></th>\n",
              "    </tr>\n",
              "  </thead>\n",
              "  <tbody>\n",
              "    <tr>\n",
              "      <th>Alabama</th>\n",
              "      <td>8183.925373</td>\n",
              "      <td>168.477612</td>\n",
              "    </tr>\n",
              "    <tr>\n",
              "      <th>Alaska</th>\n",
              "      <td>2506.535714</td>\n",
              "      <td>12.714286</td>\n",
              "    </tr>\n",
              "    <tr>\n",
              "      <th>Arizona</th>\n",
              "      <td>55500.312500</td>\n",
              "      <td>1111.937500</td>\n",
              "    </tr>\n",
              "    <tr>\n",
              "      <th>Arkansas</th>\n",
              "      <td>4534.960526</td>\n",
              "      <td>77.197368</td>\n",
              "    </tr>\n",
              "    <tr>\n",
              "      <th>California</th>\n",
              "      <td>65606.948276</td>\n",
              "      <td>1090.051724</td>\n",
              "    </tr>\n",
              "  </tbody>\n",
              "</table>\n",
              "</div>"
            ],
            "text/plain": [
              "                   cases       deaths\n",
              "state                                \n",
              "Alabama      8183.925373   168.477612\n",
              "Alaska       2506.535714    12.714286\n",
              "Arizona     55500.312500  1111.937500\n",
              "Arkansas     4534.960526    77.197368\n",
              "California  65606.948276  1090.051724"
            ]
          },
          "metadata": {
            "tags": []
          },
          "execution_count": 57
        }
      ]
    },
    {
      "cell_type": "code",
      "metadata": {
        "id": "vhq7NTghZQdi",
        "colab": {
          "base_uri": "https://localhost:8080/",
          "height": 335
        },
        "outputId": "c2ebdd45-318e-4d72-ebb8-3d61eccb561d"
      },
      "source": [
        "mean_by_state.plot.bar(y='cases')"
      ],
      "execution_count": 58,
      "outputs": [
        {
          "output_type": "execute_result",
          "data": {
            "text/plain": [
              "<matplotlib.axes._subplots.AxesSubplot at 0x7f91e4de8550>"
            ]
          },
          "metadata": {
            "tags": []
          },
          "execution_count": 58
        },
        {
          "output_type": "display_data",
          "data": {
            "image/png": "[encoded data removed]",
            "text/plain": [
              "<Figure size 432x288 with 1 Axes>"
            ]
          },
          "metadata": {
            "tags": [],
            "needs_background": "light"
          }
        }
      ]
    },
    {
      "cell_type": "code",
      "metadata": {
        "id": "yCeE99_2ZrHm",
        "colab": {
          "base_uri": "https://localhost:8080/",
          "height": 297
        },
        "outputId": "6a4acd19-0afb-433a-c058-133c12ef17bf"
      },
      "source": [
        "\n",
        "# scatter plot\n",
        "mean_by_state.plot.scatter(x='cases',y='deaths')"
      ],
      "execution_count": 59,
      "outputs": [
        {
          "output_type": "execute_result",
          "data": {
            "text/plain": [
              "<matplotlib.axes._subplots.AxesSubplot at 0x7f91e43970d0>"
            ]
          },
          "metadata": {
            "tags": []
          },
          "execution_count": 59
        },
        {
          "output_type": "display_data",
          "data": {
            "image/png": "[encoded data removed]",
            "text/plain": [
              "<Figure size 432x288 with 1 Axes>"
            ]
          },
          "metadata": {
            "tags": [],
            "needs_background": "light"
          }
        }
      ]
    },
    {
      "cell_type": "code",
      "metadata": {
        "id": "Cqryi-A4Zbbj",
        "colab": {
          "base_uri": "https://localhost:8080/",
          "height": 297
        },
        "outputId": "9fabc89b-c538-4df9-f894-213169a5f2f2"
      },
      "source": [
        "# plot the total number of cases vs deaths for all the states\n",
        "covid_data.groupby('state').sum().plot.scatter(x='cases',y='deaths')"
      ],
      "execution_count": 60,
      "outputs": [
        {
          "output_type": "execute_result",
          "data": {
            "text/plain": [
              "<matplotlib.axes._subplots.AxesSubplot at 0x7f91e4415a50>"
            ]
          },
          "metadata": {
            "tags": []
          },
          "execution_count": 60
        },
        {
          "output_type": "display_data",
          "data": {
            "image/png": "[encoded data removed]",
            "text/plain": [
              "<Figure size 432x288 with 1 Axes>"
            ]
          },
          "metadata": {
            "tags": [],
            "needs_background": "light"
          }
        }
      ]
    },
    {
      "cell_type": "code",
      "metadata": {
        "id": "cOmJd5GEathV",
        "colab": {
          "base_uri": "https://localhost:8080/",
          "height": 330
        },
        "outputId": "45c76991-a0dc-4e2e-8a6f-919ea2b33db9"
      },
      "source": [
        "# HISTOGRAM PLOTS : distributiuon of the number cases per county\n",
        "#.hist\n",
        "covid_data.hist(column='cases')\n"
      ],
      "execution_count": 61,
      "outputs": [
        {
          "output_type": "execute_result",
          "data": {
            "text/plain": [
              "array([[<matplotlib.axes._subplots.AxesSubplot object at 0x7f91e4305510>]],\n",
              "      dtype=object)"
            ]
          },
          "metadata": {
            "tags": []
          },
          "execution_count": 61
        },
        {
          "output_type": "display_data",
          "data": {
            "image/png": "[encoded data removed]",
            "text/plain": [
              "<Figure size 432x288 with 1 Axes>"
            ]
          },
          "metadata": {
            "tags": [],
            "needs_background": "light"
          }
        }
      ]
    },
    {
      "cell_type": "code",
      "metadata": {
        "id": "iB1wyXJNbCCE",
        "colab": {
          "base_uri": "https://localhost:8080/",
          "height": 1000
        },
        "outputId": "04fba30c-311d-4ac2-acbc-c130b2449a71"
      },
      "source": [
        "# select top 50 counties (with highest cases) and do a histogram\n",
        "top50_counties=covid_data.sort_values('cases', ascending=False).head(50)\n",
        "top50_counties"
      ],
      "execution_count": 62,
      "outputs": [
        {
          "output_type": "execute_result",
          "data": {
            "text/html": [
              "<div>\n",
              "<style scoped>\n",
              "    .dataframe tbody tr th:only-of-type {\n",
              "        vertical-align: middle;\n",
              "    }\n",
              "\n",
              "    .dataframe tbody tr th {\n",
              "        vertical-align: top;\n",
              "    }\n",
              "\n",
              "    .dataframe thead th {\n",
              "        text-align: right;\n",
              "    }\n",
              "</style>\n",
              "<table border=\"1\" class=\"dataframe\">\n",
              "  <thead>\n",
              "    <tr style=\"text-align: right;\">\n",
              "      <th></th>\n",
              "      <th>county</th>\n",
              "      <th>state</th>\n",
              "      <th>cases</th>\n",
              "      <th>deaths</th>\n",
              "    </tr>\n",
              "  </thead>\n",
              "  <tbody>\n",
              "    <tr>\n",
              "      <th>205</th>\n",
              "      <td>Los Angeles</td>\n",
              "      <td>California</td>\n",
              "      <td>1247488</td>\n",
              "      <td>24435.0</td>\n",
              "    </tr>\n",
              "    <tr>\n",
              "      <th>1874</th>\n",
              "      <td>New York City</td>\n",
              "      <td>New York</td>\n",
              "      <td>953079</td>\n",
              "      <td>33358.0</td>\n",
              "    </tr>\n",
              "    <tr>\n",
              "      <th>616</th>\n",
              "      <td>Cook</td>\n",
              "      <td>Illinois</td>\n",
              "      <td>556107</td>\n",
              "      <td>11006.0</td>\n",
              "    </tr>\n",
              "    <tr>\n",
              "      <th>102</th>\n",
              "      <td>Maricopa</td>\n",
              "      <td>Arizona</td>\n",
              "      <td>555530</td>\n",
              "      <td>10172.0</td>\n",
              "    </tr>\n",
              "    <tr>\n",
              "      <th>365</th>\n",
              "      <td>Miami-Dade</td>\n",
              "      <td>Florida</td>\n",
              "      <td>497726</td>\n",
              "      <td>6472.0</td>\n",
              "    </tr>\n",
              "    <tr>\n",
              "      <th>2723</th>\n",
              "      <td>Harris</td>\n",
              "      <td>Texas</td>\n",
              "      <td>403496</td>\n",
              "      <td>6525.0</td>\n",
              "    </tr>\n",
              "    <tr>\n",
              "      <th>2679</th>\n",
              "      <td>Dallas</td>\n",
              "      <td>Texas</td>\n",
              "      <td>304903</td>\n",
              "      <td>4100.0</td>\n",
              "    </tr>\n",
              "    <tr>\n",
              "      <th>219</th>\n",
              "      <td>Riverside</td>\n",
              "      <td>California</td>\n",
              "      <td>301482</td>\n",
              "      <td>4624.0</td>\n",
              "    </tr>\n",
              "    <tr>\n",
              "      <th>222</th>\n",
              "      <td>San Bernardino</td>\n",
              "      <td>California</td>\n",
              "      <td>299096</td>\n",
              "      <td>4790.0</td>\n",
              "    </tr>\n",
              "    <tr>\n",
              "      <th>223</th>\n",
              "      <td>San Diego</td>\n",
              "      <td>California</td>\n",
              "      <td>281438</td>\n",
              "      <td>3770.0</td>\n",
              "    </tr>\n",
              "    <tr>\n",
              "      <th>216</th>\n",
              "      <td>Orange</td>\n",
              "      <td>California</td>\n",
              "      <td>272827</td>\n",
              "      <td>5105.0</td>\n",
              "    </tr>\n",
              "    <tr>\n",
              "      <th>2842</th>\n",
              "      <td>Tarrant</td>\n",
              "      <td>Texas</td>\n",
              "      <td>262098</td>\n",
              "      <td>3543.0</td>\n",
              "    </tr>\n",
              "    <tr>\n",
              "      <th>1765</th>\n",
              "      <td>Clark</td>\n",
              "      <td>Nevada</td>\n",
              "      <td>254912</td>\n",
              "      <td>4452.0</td>\n",
              "    </tr>\n",
              "    <tr>\n",
              "      <th>328</th>\n",
              "      <td>Broward</td>\n",
              "      <td>Florida</td>\n",
              "      <td>243765</td>\n",
              "      <td>3079.0</td>\n",
              "    </tr>\n",
              "    <tr>\n",
              "      <th>2637</th>\n",
              "      <td>Bexar</td>\n",
              "      <td>Texas</td>\n",
              "      <td>225559</td>\n",
              "      <td>3605.0</td>\n",
              "    </tr>\n",
              "    <tr>\n",
              "      <th>1893</th>\n",
              "      <td>Suffolk</td>\n",
              "      <td>New York</td>\n",
              "      <td>201070</td>\n",
              "      <td>3400.0</td>\n",
              "    </tr>\n",
              "    <tr>\n",
              "      <th>1873</th>\n",
              "      <td>Nassau</td>\n",
              "      <td>New York</td>\n",
              "      <td>183673</td>\n",
              "      <td>3175.0</td>\n",
              "    </tr>\n",
              "    <tr>\n",
              "      <th>1324</th>\n",
              "      <td>Wayne</td>\n",
              "      <td>Michigan</td>\n",
              "      <td>165446</td>\n",
              "      <td>5128.0</td>\n",
              "    </tr>\n",
              "    <tr>\n",
              "      <th>2313</th>\n",
              "      <td>Philadelphia</td>\n",
              "      <td>Pennsylvania</td>\n",
              "      <td>154094</td>\n",
              "      <td>3739.0</td>\n",
              "    </tr>\n",
              "    <tr>\n",
              "      <th>2894</th>\n",
              "      <td>Salt Lake</td>\n",
              "      <td>Utah</td>\n",
              "      <td>152259</td>\n",
              "      <td>896.0</td>\n",
              "    </tr>\n",
              "    <tr>\n",
              "      <th>372</th>\n",
              "      <td>Palm Beach</td>\n",
              "      <td>Florida</td>\n",
              "      <td>146960</td>\n",
              "      <td>2883.0</td>\n",
              "    </tr>\n",
              "    <tr>\n",
              "      <th>350</th>\n",
              "      <td>Hillsborough</td>\n",
              "      <td>Florida</td>\n",
              "      <td>143544</td>\n",
              "      <td>1832.0</td>\n",
              "    </tr>\n",
              "    <tr>\n",
              "      <th>370</th>\n",
              "      <td>Orange</td>\n",
              "      <td>Florida</td>\n",
              "      <td>141941</td>\n",
              "      <td>1310.0</td>\n",
              "    </tr>\n",
              "    <tr>\n",
              "      <th>2693</th>\n",
              "      <td>El Paso</td>\n",
              "      <td>Texas</td>\n",
              "      <td>136362</td>\n",
              "      <td>2727.0</td>\n",
              "    </tr>\n",
              "    <tr>\n",
              "      <th>1235</th>\n",
              "      <td>Middlesex</td>\n",
              "      <td>Massachusetts</td>\n",
              "      <td>135218</td>\n",
              "      <td>3770.0</td>\n",
              "    </tr>\n",
              "    <tr>\n",
              "      <th>1901</th>\n",
              "      <td>Westchester</td>\n",
              "      <td>New York</td>\n",
              "      <td>129679</td>\n",
              "      <td>2291.0</td>\n",
              "    </tr>\n",
              "    <tr>\n",
              "      <th>2084</th>\n",
              "      <td>Franklin</td>\n",
              "      <td>Ohio</td>\n",
              "      <td>128632</td>\n",
              "      <td>1460.0</td>\n",
              "    </tr>\n",
              "    <tr>\n",
              "      <th>1352</th>\n",
              "      <td>Hennepin</td>\n",
              "      <td>Minnesota</td>\n",
              "      <td>124816</td>\n",
              "      <td>1773.0</td>\n",
              "    </tr>\n",
              "    <tr>\n",
              "      <th>229</th>\n",
              "      <td>Santa Clara</td>\n",
              "      <td>California</td>\n",
              "      <td>119963</td>\n",
              "      <td>2180.0</td>\n",
              "    </tr>\n",
              "    <tr>\n",
              "      <th>1304</th>\n",
              "      <td>Oakland</td>\n",
              "      <td>Michigan</td>\n",
              "      <td>118484</td>\n",
              "      <td>2421.0</td>\n",
              "    </tr>\n",
              "    <tr>\n",
              "      <th>3192</th>\n",
              "      <td>Milwaukee</td>\n",
              "      <td>Wisconsin</td>\n",
              "      <td>117611</td>\n",
              "      <td>1414.0</td>\n",
              "    </tr>\n",
              "    <tr>\n",
              "      <th>105</th>\n",
              "      <td>Pima</td>\n",
              "      <td>Arizona</td>\n",
              "      <td>117080</td>\n",
              "      <td>2418.0</td>\n",
              "    </tr>\n",
              "    <tr>\n",
              "      <th>2077</th>\n",
              "      <td>Cuyahoga</td>\n",
              "      <td>Ohio</td>\n",
              "      <td>115713</td>\n",
              "      <td>2208.0</td>\n",
              "    </tr>\n",
              "    <tr>\n",
              "      <th>1963</th>\n",
              "      <td>Mecklenburg</td>\n",
              "      <td>North Carolina</td>\n",
              "      <td>114103</td>\n",
              "      <td>972.0</td>\n",
              "    </tr>\n",
              "    <tr>\n",
              "      <th>3074</th>\n",
              "      <td>King</td>\n",
              "      <td>Washington</td>\n",
              "      <td>111308</td>\n",
              "      <td>1618.0</td>\n",
              "    </tr>\n",
              "    <tr>\n",
              "      <th>201</th>\n",
              "      <td>Kern</td>\n",
              "      <td>California</td>\n",
              "      <td>110687</td>\n",
              "      <td>1401.0</td>\n",
              "    </tr>\n",
              "    <tr>\n",
              "      <th>220</th>\n",
              "      <td>Sacramento</td>\n",
              "      <td>California</td>\n",
              "      <td>107493</td>\n",
              "      <td>1726.0</td>\n",
              "    </tr>\n",
              "    <tr>\n",
              "      <th>1792</th>\n",
              "      <td>Bergen</td>\n",
              "      <td>New Jersey</td>\n",
              "      <td>104634</td>\n",
              "      <td>2879.0</td>\n",
              "    </tr>\n",
              "    <tr>\n",
              "      <th>752</th>\n",
              "      <td>Marion</td>\n",
              "      <td>Indiana</td>\n",
              "      <td>103369</td>\n",
              "      <td>1847.0</td>\n",
              "    </tr>\n",
              "    <tr>\n",
              "      <th>457</th>\n",
              "      <td>Gwinnett</td>\n",
              "      <td>Georgia</td>\n",
              "      <td>103089</td>\n",
              "      <td>1204.0</td>\n",
              "    </tr>\n",
              "    <tr>\n",
              "      <th>196</th>\n",
              "      <td>Fresno</td>\n",
              "      <td>California</td>\n",
              "      <td>102828</td>\n",
              "      <td>1722.0</td>\n",
              "    </tr>\n",
              "    <tr>\n",
              "      <th>2264</th>\n",
              "      <td>Allegheny</td>\n",
              "      <td>Pennsylvania</td>\n",
              "      <td>101715</td>\n",
              "      <td>2004.0</td>\n",
              "    </tr>\n",
              "    <tr>\n",
              "      <th>1599</th>\n",
              "      <td>St. Louis</td>\n",
              "      <td>Missouri</td>\n",
              "      <td>100773</td>\n",
              "      <td>2263.0</td>\n",
              "    </tr>\n",
              "    <tr>\n",
              "      <th>1291</th>\n",
              "      <td>Macomb</td>\n",
              "      <td>Michigan</td>\n",
              "      <td>100506</td>\n",
              "      <td>2479.0</td>\n",
              "    </tr>\n",
              "    <tr>\n",
              "      <th>309</th>\n",
              "      <td>Fairfield</td>\n",
              "      <td>Connecticut</td>\n",
              "      <td>100318</td>\n",
              "      <td>2202.0</td>\n",
              "    </tr>\n",
              "    <tr>\n",
              "      <th>337</th>\n",
              "      <td>Duval</td>\n",
              "      <td>Florida</td>\n",
              "      <td>100193</td>\n",
              "      <td>1483.0</td>\n",
              "    </tr>\n",
              "    <tr>\n",
              "      <th>2545</th>\n",
              "      <td>Davidson</td>\n",
              "      <td>Tennessee</td>\n",
              "      <td>99519</td>\n",
              "      <td>946.0</td>\n",
              "    </tr>\n",
              "    <tr>\n",
              "      <th>2605</th>\n",
              "      <td>Shelby</td>\n",
              "      <td>Tennessee</td>\n",
              "      <td>99388</td>\n",
              "      <td>1682.0</td>\n",
              "    </tr>\n",
              "    <tr>\n",
              "      <th>2412</th>\n",
              "      <td>Providence</td>\n",
              "      <td>Rhode Island</td>\n",
              "      <td>99307</td>\n",
              "      <td>1992.0</td>\n",
              "    </tr>\n",
              "    <tr>\n",
              "      <th>450</th>\n",
              "      <td>Fulton</td>\n",
              "      <td>Georgia</td>\n",
              "      <td>99172</td>\n",
              "      <td>1456.0</td>\n",
              "    </tr>\n",
              "  </tbody>\n",
              "</table>\n",
              "</div>"
            ],
            "text/plain": [
              "              county           state    cases   deaths\n",
              "205      Los Angeles      California  1247488  24435.0\n",
              "1874   New York City        New York   953079  33358.0\n",
              "616             Cook        Illinois   556107  11006.0\n",
              "102         Maricopa         Arizona   555530  10172.0\n",
              "365       Miami-Dade         Florida   497726   6472.0\n",
              "2723          Harris           Texas   403496   6525.0\n",
              "2679          Dallas           Texas   304903   4100.0\n",
              "219        Riverside      California   301482   4624.0\n",
              "222   San Bernardino      California   299096   4790.0\n",
              "223        San Diego      California   281438   3770.0\n",
              "216           Orange      California   272827   5105.0\n",
              "2842         Tarrant           Texas   262098   3543.0\n",
              "1765           Clark          Nevada   254912   4452.0\n",
              "328          Broward         Florida   243765   3079.0\n",
              "2637           Bexar           Texas   225559   3605.0\n",
              "1893         Suffolk        New York   201070   3400.0\n",
              "1873          Nassau        New York   183673   3175.0\n",
              "1324           Wayne        Michigan   165446   5128.0\n",
              "2313    Philadelphia    Pennsylvania   154094   3739.0\n",
              "2894       Salt Lake            Utah   152259    896.0\n",
              "372       Palm Beach         Florida   146960   2883.0\n",
              "350     Hillsborough         Florida   143544   1832.0\n",
              "370           Orange         Florida   141941   1310.0\n",
              "2693         El Paso           Texas   136362   2727.0\n",
              "1235       Middlesex   Massachusetts   135218   3770.0\n",
              "1901     Westchester        New York   129679   2291.0\n",
              "2084        Franklin            Ohio   128632   1460.0\n",
              "1352        Hennepin       Minnesota   124816   1773.0\n",
              "229      Santa Clara      California   119963   2180.0\n",
              "1304         Oakland        Michigan   118484   2421.0\n",
              "3192       Milwaukee       Wisconsin   117611   1414.0\n",
              "105             Pima         Arizona   117080   2418.0\n",
              "2077        Cuyahoga            Ohio   115713   2208.0\n",
              "1963     Mecklenburg  North Carolina   114103    972.0\n",
              "3074            King      Washington   111308   1618.0\n",
              "201             Kern      California   110687   1401.0\n",
              "220       Sacramento      California   107493   1726.0\n",
              "1792          Bergen      New Jersey   104634   2879.0\n",
              "752           Marion         Indiana   103369   1847.0\n",
              "457         Gwinnett         Georgia   103089   1204.0\n",
              "196           Fresno      California   102828   1722.0\n",
              "2264       Allegheny    Pennsylvania   101715   2004.0\n",
              "1599       St. Louis        Missouri   100773   2263.0\n",
              "1291          Macomb        Michigan   100506   2479.0\n",
              "309        Fairfield     Connecticut   100318   2202.0\n",
              "337            Duval         Florida   100193   1483.0\n",
              "2545        Davidson       Tennessee    99519    946.0\n",
              "2605          Shelby       Tennessee    99388   1682.0\n",
              "2412      Providence    Rhode Island    99307   1992.0\n",
              "450           Fulton         Georgia    99172   1456.0"
            ]
          },
          "metadata": {
            "tags": []
          },
          "execution_count": 62
        }
      ]
    },
    {
      "cell_type": "code",
      "metadata": {
        "id": "xUQX-8d-bo2e",
        "colab": {
          "base_uri": "https://localhost:8080/",
          "height": 330
        },
        "outputId": "8ed91a31-fd75-41cb-c88b-e9f41925eaa8"
      },
      "source": [
        "top50_counties.hist(column='cases')"
      ],
      "execution_count": 63,
      "outputs": [
        {
          "output_type": "execute_result",
          "data": {
            "text/plain": [
              "array([[<matplotlib.axes._subplots.AxesSubplot object at 0x7f91e428fb50>]],\n",
              "      dtype=object)"
            ]
          },
          "metadata": {
            "tags": []
          },
          "execution_count": 63
        },
        {
          "output_type": "display_data",
          "data": {
            "image/png": "[encoded data removed]",
            "text/plain": [
              "<Figure size 432x288 with 1 Axes>"
            ]
          },
          "metadata": {
            "tags": [],
            "needs_background": "light"
          }
        }
      ]
    },
    {
      "cell_type": "code",
      "metadata": {
        "id": "81TgtZepb1Ib",
        "colab": {
          "base_uri": "https://localhost:8080/",
          "height": 376
        },
        "outputId": "0f0bddb8-24b8-41d9-aef0-47e65bc379c1"
      },
      "source": [
        "top50_counties.boxplot(column='cases', by='state')"
      ],
      "execution_count": 64,
      "outputs": [
        {
          "output_type": "stream",
          "text": [
            "/usr/local/lib/python3.7/dist-packages/numpy/core/_asarray.py:83: VisibleDeprecationWarning: Creating an ndarray from ragged nested sequences (which is a list-or-tuple of lists-or-tuples-or ndarrays with different lengths or shapes) is deprecated. If you meant to do this, you must specify 'dtype=object' when creating the ndarray\n",
            "  return array(a, dtype, copy=False, order=order)\n"
          ],
          "name": "stderr"
        },
        {
          "output_type": "execute_result",
          "data": {
            "text/plain": [
              "<matplotlib.axes._subplots.AxesSubplot at 0x7f91e41d49d0>"
            ]
          },
          "metadata": {
            "tags": []
          },
          "execution_count": 64
        },
        {
          "output_type": "display_data",
          "data": {
            "image/png": "[encoded data removed]",
            "text/plain": [
              "<Figure size 432x288 with 1 Axes>"
            ]
          },
          "metadata": {
            "tags": [],
            "needs_background": "light"
          }
        }
      ]
    },
    {
      "cell_type": "code",
      "metadata": {
        "id": "wfbeBg89cqNL"
      },
      "source": [
        "from matplotlib import pyplot as plt"
      ],
      "execution_count": 65,
      "outputs": []
    },
    {
      "cell_type": "code",
      "metadata": {
        "id": "zVUEY70zcPjn",
        "colab": {
          "base_uri": "https://localhost:8080/",
          "height": 421
        },
        "outputId": "3c993ba5-3485-450d-d969-45dc2ea4b251"
      },
      "source": [
        "top50_counties.boxplot(column='cases', by='state')\n",
        "plt.xticks(rotation=90)\n",
        "plt.title('Cases distribution by state')\n",
        "plt.ylabel('Number of cases')\n",
        "\n",
        "plt.savefig('MyFirstPlot.pdf')"
      ],
      "execution_count": 66,
      "outputs": [
        {
          "output_type": "stream",
          "text": [
            "/usr/local/lib/python3.7/dist-packages/numpy/core/_asarray.py:83: VisibleDeprecationWarning: Creating an ndarray from ragged nested sequences (which is a list-or-tuple of lists-or-tuples-or ndarrays with different lengths or shapes) is deprecated. If you meant to do this, you must specify 'dtype=object' when creating the ndarray\n",
            "  return array(a, dtype, copy=False, order=order)\n"
          ],
          "name": "stderr"
        },
        {
          "output_type": "display_data",
          "data": {
            "image/png": "[encoded data removed]",
            "text/plain": [
              "<Figure size 432x288 with 1 Axes>"
            ]
          },
          "metadata": {
            "tags": [],
            "needs_background": "light"
          }
        }
      ]
    },
    {
      "cell_type": "code",
      "metadata": {
        "id": "2GC3z-NFdM7K",
        "colab": {
          "base_uri": "https://localhost:8080/",
          "height": 1000
        },
        "outputId": "26e2a5e1-e684-43c2-e340-c0a269d950a4"
      },
      "source": [
        "covid_data_ca\n"
      ],
      "execution_count": 67,
      "outputs": [
        {
          "output_type": "execute_result",
          "data": {
            "text/html": [
              "<div>\n",
              "<style scoped>\n",
              "    .dataframe tbody tr th:only-of-type {\n",
              "        vertical-align: middle;\n",
              "    }\n",
              "\n",
              "    .dataframe tbody tr th {\n",
              "        vertical-align: top;\n",
              "    }\n",
              "\n",
              "    .dataframe thead th {\n",
              "        text-align: right;\n",
              "    }\n",
              "</style>\n",
              "<table border=\"1\" class=\"dataframe\">\n",
              "  <thead>\n",
              "    <tr style=\"text-align: right;\">\n",
              "      <th></th>\n",
              "      <th>county</th>\n",
              "      <th>state</th>\n",
              "      <th>cases</th>\n",
              "      <th>deaths</th>\n",
              "    </tr>\n",
              "  </thead>\n",
              "  <tbody>\n",
              "    <tr>\n",
              "      <th>187</th>\n",
              "      <td>Alameda</td>\n",
              "      <td>California</td>\n",
              "      <td>89557</td>\n",
              "      <td>1275.0</td>\n",
              "    </tr>\n",
              "    <tr>\n",
              "      <th>188</th>\n",
              "      <td>Alpine</td>\n",
              "      <td>California</td>\n",
              "      <td>89</td>\n",
              "      <td>0.0</td>\n",
              "    </tr>\n",
              "    <tr>\n",
              "      <th>189</th>\n",
              "      <td>Amador</td>\n",
              "      <td>California</td>\n",
              "      <td>3722</td>\n",
              "      <td>47.0</td>\n",
              "    </tr>\n",
              "    <tr>\n",
              "      <th>190</th>\n",
              "      <td>Butte</td>\n",
              "      <td>California</td>\n",
              "      <td>12620</td>\n",
              "      <td>194.0</td>\n",
              "    </tr>\n",
              "    <tr>\n",
              "      <th>191</th>\n",
              "      <td>Calaveras</td>\n",
              "      <td>California</td>\n",
              "      <td>2201</td>\n",
              "      <td>56.0</td>\n",
              "    </tr>\n",
              "    <tr>\n",
              "      <th>192</th>\n",
              "      <td>Colusa</td>\n",
              "      <td>California</td>\n",
              "      <td>2279</td>\n",
              "      <td>18.0</td>\n",
              "    </tr>\n",
              "    <tr>\n",
              "      <th>193</th>\n",
              "      <td>Contra Costa</td>\n",
              "      <td>California</td>\n",
              "      <td>70428</td>\n",
              "      <td>810.0</td>\n",
              "    </tr>\n",
              "    <tr>\n",
              "      <th>194</th>\n",
              "      <td>Del Norte</td>\n",
              "      <td>California</td>\n",
              "      <td>1454</td>\n",
              "      <td>8.0</td>\n",
              "    </tr>\n",
              "    <tr>\n",
              "      <th>195</th>\n",
              "      <td>El Dorado</td>\n",
              "      <td>California</td>\n",
              "      <td>10351</td>\n",
              "      <td>116.0</td>\n",
              "    </tr>\n",
              "    <tr>\n",
              "      <th>196</th>\n",
              "      <td>Fresno</td>\n",
              "      <td>California</td>\n",
              "      <td>102828</td>\n",
              "      <td>1722.0</td>\n",
              "    </tr>\n",
              "    <tr>\n",
              "      <th>197</th>\n",
              "      <td>Glenn</td>\n",
              "      <td>California</td>\n",
              "      <td>2952</td>\n",
              "      <td>27.0</td>\n",
              "    </tr>\n",
              "    <tr>\n",
              "      <th>198</th>\n",
              "      <td>Humboldt</td>\n",
              "      <td>California</td>\n",
              "      <td>4451</td>\n",
              "      <td>48.0</td>\n",
              "    </tr>\n",
              "    <tr>\n",
              "      <th>199</th>\n",
              "      <td>Imperial</td>\n",
              "      <td>California</td>\n",
              "      <td>28789</td>\n",
              "      <td>740.0</td>\n",
              "    </tr>\n",
              "    <tr>\n",
              "      <th>200</th>\n",
              "      <td>Inyo</td>\n",
              "      <td>California</td>\n",
              "      <td>1434</td>\n",
              "      <td>38.0</td>\n",
              "    </tr>\n",
              "    <tr>\n",
              "      <th>201</th>\n",
              "      <td>Kern</td>\n",
              "      <td>California</td>\n",
              "      <td>110687</td>\n",
              "      <td>1401.0</td>\n",
              "    </tr>\n",
              "    <tr>\n",
              "      <th>202</th>\n",
              "      <td>Kings</td>\n",
              "      <td>California</td>\n",
              "      <td>23178</td>\n",
              "      <td>247.0</td>\n",
              "    </tr>\n",
              "    <tr>\n",
              "      <th>203</th>\n",
              "      <td>Lake</td>\n",
              "      <td>California</td>\n",
              "      <td>3559</td>\n",
              "      <td>45.0</td>\n",
              "    </tr>\n",
              "    <tr>\n",
              "      <th>204</th>\n",
              "      <td>Lassen</td>\n",
              "      <td>California</td>\n",
              "      <td>5782</td>\n",
              "      <td>24.0</td>\n",
              "    </tr>\n",
              "    <tr>\n",
              "      <th>205</th>\n",
              "      <td>Los Angeles</td>\n",
              "      <td>California</td>\n",
              "      <td>1247488</td>\n",
              "      <td>24435.0</td>\n",
              "    </tr>\n",
              "    <tr>\n",
              "      <th>206</th>\n",
              "      <td>Madera</td>\n",
              "      <td>California</td>\n",
              "      <td>16600</td>\n",
              "      <td>245.0</td>\n",
              "    </tr>\n",
              "    <tr>\n",
              "      <th>207</th>\n",
              "      <td>Marin</td>\n",
              "      <td>California</td>\n",
              "      <td>14135</td>\n",
              "      <td>229.0</td>\n",
              "    </tr>\n",
              "    <tr>\n",
              "      <th>208</th>\n",
              "      <td>Mariposa</td>\n",
              "      <td>California</td>\n",
              "      <td>464</td>\n",
              "      <td>7.0</td>\n",
              "    </tr>\n",
              "    <tr>\n",
              "      <th>209</th>\n",
              "      <td>Mendocino</td>\n",
              "      <td>California</td>\n",
              "      <td>4289</td>\n",
              "      <td>50.0</td>\n",
              "    </tr>\n",
              "    <tr>\n",
              "      <th>210</th>\n",
              "      <td>Merced</td>\n",
              "      <td>California</td>\n",
              "      <td>32278</td>\n",
              "      <td>477.0</td>\n",
              "    </tr>\n",
              "    <tr>\n",
              "      <th>211</th>\n",
              "      <td>Modoc</td>\n",
              "      <td>California</td>\n",
              "      <td>383</td>\n",
              "      <td>3.0</td>\n",
              "    </tr>\n",
              "    <tr>\n",
              "      <th>212</th>\n",
              "      <td>Mono</td>\n",
              "      <td>California</td>\n",
              "      <td>1295</td>\n",
              "      <td>4.0</td>\n",
              "    </tr>\n",
              "    <tr>\n",
              "      <th>213</th>\n",
              "      <td>Monterey</td>\n",
              "      <td>California</td>\n",
              "      <td>43821</td>\n",
              "      <td>421.0</td>\n",
              "    </tr>\n",
              "    <tr>\n",
              "      <th>214</th>\n",
              "      <td>Napa</td>\n",
              "      <td>California</td>\n",
              "      <td>10011</td>\n",
              "      <td>80.0</td>\n",
              "    </tr>\n",
              "    <tr>\n",
              "      <th>215</th>\n",
              "      <td>Nevada</td>\n",
              "      <td>California</td>\n",
              "      <td>4888</td>\n",
              "      <td>75.0</td>\n",
              "    </tr>\n",
              "    <tr>\n",
              "      <th>216</th>\n",
              "      <td>Orange</td>\n",
              "      <td>California</td>\n",
              "      <td>272827</td>\n",
              "      <td>5105.0</td>\n",
              "    </tr>\n",
              "    <tr>\n",
              "      <th>217</th>\n",
              "      <td>Placer</td>\n",
              "      <td>California</td>\n",
              "      <td>23438</td>\n",
              "      <td>299.0</td>\n",
              "    </tr>\n",
              "    <tr>\n",
              "      <th>218</th>\n",
              "      <td>Plumas</td>\n",
              "      <td>California</td>\n",
              "      <td>735</td>\n",
              "      <td>6.0</td>\n",
              "    </tr>\n",
              "    <tr>\n",
              "      <th>219</th>\n",
              "      <td>Riverside</td>\n",
              "      <td>California</td>\n",
              "      <td>301482</td>\n",
              "      <td>4624.0</td>\n",
              "    </tr>\n",
              "    <tr>\n",
              "      <th>220</th>\n",
              "      <td>Sacramento</td>\n",
              "      <td>California</td>\n",
              "      <td>107493</td>\n",
              "      <td>1726.0</td>\n",
              "    </tr>\n",
              "    <tr>\n",
              "      <th>221</th>\n",
              "      <td>San Benito</td>\n",
              "      <td>California</td>\n",
              "      <td>6089</td>\n",
              "      <td>63.0</td>\n",
              "    </tr>\n",
              "    <tr>\n",
              "      <th>222</th>\n",
              "      <td>San Bernardino</td>\n",
              "      <td>California</td>\n",
              "      <td>299096</td>\n",
              "      <td>4790.0</td>\n",
              "    </tr>\n",
              "    <tr>\n",
              "      <th>223</th>\n",
              "      <td>San Diego</td>\n",
              "      <td>California</td>\n",
              "      <td>281438</td>\n",
              "      <td>3770.0</td>\n",
              "    </tr>\n",
              "    <tr>\n",
              "      <th>224</th>\n",
              "      <td>San Francisco</td>\n",
              "      <td>California</td>\n",
              "      <td>37213</td>\n",
              "      <td>555.0</td>\n",
              "    </tr>\n",
              "    <tr>\n",
              "      <th>225</th>\n",
              "      <td>San Joaquin</td>\n",
              "      <td>California</td>\n",
              "      <td>74596</td>\n",
              "      <td>1435.0</td>\n",
              "    </tr>\n",
              "    <tr>\n",
              "      <th>226</th>\n",
              "      <td>San Luis Obispo</td>\n",
              "      <td>California</td>\n",
              "      <td>21421</td>\n",
              "      <td>261.0</td>\n",
              "    </tr>\n",
              "    <tr>\n",
              "      <th>227</th>\n",
              "      <td>San Mateo</td>\n",
              "      <td>California</td>\n",
              "      <td>42593</td>\n",
              "      <td>581.0</td>\n",
              "    </tr>\n",
              "    <tr>\n",
              "      <th>228</th>\n",
              "      <td>Santa Barbara</td>\n",
              "      <td>California</td>\n",
              "      <td>34587</td>\n",
              "      <td>460.0</td>\n",
              "    </tr>\n",
              "    <tr>\n",
              "      <th>229</th>\n",
              "      <td>Santa Clara</td>\n",
              "      <td>California</td>\n",
              "      <td>119963</td>\n",
              "      <td>2180.0</td>\n",
              "    </tr>\n",
              "    <tr>\n",
              "      <th>230</th>\n",
              "      <td>Santa Cruz</td>\n",
              "      <td>California</td>\n",
              "      <td>16222</td>\n",
              "      <td>208.0</td>\n",
              "    </tr>\n",
              "    <tr>\n",
              "      <th>231</th>\n",
              "      <td>Shasta</td>\n",
              "      <td>California</td>\n",
              "      <td>12630</td>\n",
              "      <td>233.0</td>\n",
              "    </tr>\n",
              "    <tr>\n",
              "      <th>232</th>\n",
              "      <td>Sierra</td>\n",
              "      <td>California</td>\n",
              "      <td>55</td>\n",
              "      <td>0.0</td>\n",
              "    </tr>\n",
              "    <tr>\n",
              "      <th>233</th>\n",
              "      <td>Siskiyou</td>\n",
              "      <td>California</td>\n",
              "      <td>2392</td>\n",
              "      <td>37.0</td>\n",
              "    </tr>\n",
              "    <tr>\n",
              "      <th>234</th>\n",
              "      <td>Solano</td>\n",
              "      <td>California</td>\n",
              "      <td>33656</td>\n",
              "      <td>266.0</td>\n",
              "    </tr>\n",
              "    <tr>\n",
              "      <th>235</th>\n",
              "      <td>Sonoma</td>\n",
              "      <td>California</td>\n",
              "      <td>30752</td>\n",
              "      <td>323.0</td>\n",
              "    </tr>\n",
              "    <tr>\n",
              "      <th>236</th>\n",
              "      <td>Stanislaus</td>\n",
              "      <td>California</td>\n",
              "      <td>63302</td>\n",
              "      <td>1068.0</td>\n",
              "    </tr>\n",
              "    <tr>\n",
              "      <th>237</th>\n",
              "      <td>Sutter</td>\n",
              "      <td>California</td>\n",
              "      <td>9638</td>\n",
              "      <td>113.0</td>\n",
              "    </tr>\n",
              "    <tr>\n",
              "      <th>238</th>\n",
              "      <td>Tehama</td>\n",
              "      <td>California</td>\n",
              "      <td>5102</td>\n",
              "      <td>63.0</td>\n",
              "    </tr>\n",
              "    <tr>\n",
              "      <th>239</th>\n",
              "      <td>Trinity</td>\n",
              "      <td>California</td>\n",
              "      <td>333</td>\n",
              "      <td>3.0</td>\n",
              "    </tr>\n",
              "    <tr>\n",
              "      <th>240</th>\n",
              "      <td>Tulare</td>\n",
              "      <td>California</td>\n",
              "      <td>49768</td>\n",
              "      <td>849.0</td>\n",
              "    </tr>\n",
              "    <tr>\n",
              "      <th>241</th>\n",
              "      <td>Tuolumne</td>\n",
              "      <td>California</td>\n",
              "      <td>4206</td>\n",
              "      <td>71.0</td>\n",
              "    </tr>\n",
              "    <tr>\n",
              "      <th>242</th>\n",
              "      <td>Ventura</td>\n",
              "      <td>California</td>\n",
              "      <td>81572</td>\n",
              "      <td>1029.0</td>\n",
              "    </tr>\n",
              "    <tr>\n",
              "      <th>243</th>\n",
              "      <td>Yolo</td>\n",
              "      <td>California</td>\n",
              "      <td>14127</td>\n",
              "      <td>212.0</td>\n",
              "    </tr>\n",
              "    <tr>\n",
              "      <th>244</th>\n",
              "      <td>Yuba</td>\n",
              "      <td>California</td>\n",
              "      <td>6464</td>\n",
              "      <td>51.0</td>\n",
              "    </tr>\n",
              "  </tbody>\n",
              "</table>\n",
              "</div>"
            ],
            "text/plain": [
              "              county       state    cases   deaths\n",
              "187          Alameda  California    89557   1275.0\n",
              "188           Alpine  California       89      0.0\n",
              "189           Amador  California     3722     47.0\n",
              "190            Butte  California    12620    194.0\n",
              "191        Calaveras  California     2201     56.0\n",
              "192           Colusa  California     2279     18.0\n",
              "193     Contra Costa  California    70428    810.0\n",
              "194        Del Norte  California     1454      8.0\n",
              "195        El Dorado  California    10351    116.0\n",
              "196           Fresno  California   102828   1722.0\n",
              "197            Glenn  California     2952     27.0\n",
              "198         Humboldt  California     4451     48.0\n",
              "199         Imperial  California    28789    740.0\n",
              "200             Inyo  California     1434     38.0\n",
              "201             Kern  California   110687   1401.0\n",
              "202            Kings  California    23178    247.0\n",
              "203             Lake  California     3559     45.0\n",
              "204           Lassen  California     5782     24.0\n",
              "205      Los Angeles  California  1247488  24435.0\n",
              "206           Madera  California    16600    245.0\n",
              "207            Marin  California    14135    229.0\n",
              "208         Mariposa  California      464      7.0\n",
              "209        Mendocino  California     4289     50.0\n",
              "210           Merced  California    32278    477.0\n",
              "211            Modoc  California      383      3.0\n",
              "212             Mono  California     1295      4.0\n",
              "213         Monterey  California    43821    421.0\n",
              "214             Napa  California    10011     80.0\n",
              "215           Nevada  California     4888     75.0\n",
              "216           Orange  California   272827   5105.0\n",
              "217           Placer  California    23438    299.0\n",
              "218           Plumas  California      735      6.0\n",
              "219        Riverside  California   301482   4624.0\n",
              "220       Sacramento  California   107493   1726.0\n",
              "221       San Benito  California     6089     63.0\n",
              "222   San Bernardino  California   299096   4790.0\n",
              "223        San Diego  California   281438   3770.0\n",
              "224    San Francisco  California    37213    555.0\n",
              "225      San Joaquin  California    74596   1435.0\n",
              "226  San Luis Obispo  California    21421    261.0\n",
              "227        San Mateo  California    42593    581.0\n",
              "228    Santa Barbara  California    34587    460.0\n",
              "229      Santa Clara  California   119963   2180.0\n",
              "230       Santa Cruz  California    16222    208.0\n",
              "231           Shasta  California    12630    233.0\n",
              "232           Sierra  California       55      0.0\n",
              "233         Siskiyou  California     2392     37.0\n",
              "234           Solano  California    33656    266.0\n",
              "235           Sonoma  California    30752    323.0\n",
              "236       Stanislaus  California    63302   1068.0\n",
              "237           Sutter  California     9638    113.0\n",
              "238           Tehama  California     5102     63.0\n",
              "239          Trinity  California      333      3.0\n",
              "240           Tulare  California    49768    849.0\n",
              "241         Tuolumne  California     4206     71.0\n",
              "242          Ventura  California    81572   1029.0\n",
              "243             Yolo  California    14127    212.0\n",
              "244             Yuba  California     6464     51.0"
            ]
          },
          "metadata": {
            "tags": []
          },
          "execution_count": 67
        }
      ]
    },
    {
      "cell_type": "code",
      "metadata": {
        "id": "pBHjanXYdVsJ",
        "colab": {
          "base_uri": "https://localhost:8080/",
          "height": 677
        },
        "outputId": "488351e7-c903-4772-b7d0-bbc5a20713bc"
      },
      "source": [
        "top20_ca=covid_data_ca.sort_values('cases', ascending=False).head(20)\n",
        "top20_ca"
      ],
      "execution_count": 68,
      "outputs": [
        {
          "output_type": "execute_result",
          "data": {
            "text/html": [
              "<div>\n",
              "<style scoped>\n",
              "    .dataframe tbody tr th:only-of-type {\n",
              "        vertical-align: middle;\n",
              "    }\n",
              "\n",
              "    .dataframe tbody tr th {\n",
              "        vertical-align: top;\n",
              "    }\n",
              "\n",
              "    .dataframe thead th {\n",
              "        text-align: right;\n",
              "    }\n",
              "</style>\n",
              "<table border=\"1\" class=\"dataframe\">\n",
              "  <thead>\n",
              "    <tr style=\"text-align: right;\">\n",
              "      <th></th>\n",
              "      <th>county</th>\n",
              "      <th>state</th>\n",
              "      <th>cases</th>\n",
              "      <th>deaths</th>\n",
              "    </tr>\n",
              "  </thead>\n",
              "  <tbody>\n",
              "    <tr>\n",
              "      <th>205</th>\n",
              "      <td>Los Angeles</td>\n",
              "      <td>California</td>\n",
              "      <td>1247488</td>\n",
              "      <td>24435.0</td>\n",
              "    </tr>\n",
              "    <tr>\n",
              "      <th>219</th>\n",
              "      <td>Riverside</td>\n",
              "      <td>California</td>\n",
              "      <td>301482</td>\n",
              "      <td>4624.0</td>\n",
              "    </tr>\n",
              "    <tr>\n",
              "      <th>222</th>\n",
              "      <td>San Bernardino</td>\n",
              "      <td>California</td>\n",
              "      <td>299096</td>\n",
              "      <td>4790.0</td>\n",
              "    </tr>\n",
              "    <tr>\n",
              "      <th>223</th>\n",
              "      <td>San Diego</td>\n",
              "      <td>California</td>\n",
              "      <td>281438</td>\n",
              "      <td>3770.0</td>\n",
              "    </tr>\n",
              "    <tr>\n",
              "      <th>216</th>\n",
              "      <td>Orange</td>\n",
              "      <td>California</td>\n",
              "      <td>272827</td>\n",
              "      <td>5105.0</td>\n",
              "    </tr>\n",
              "    <tr>\n",
              "      <th>229</th>\n",
              "      <td>Santa Clara</td>\n",
              "      <td>California</td>\n",
              "      <td>119963</td>\n",
              "      <td>2180.0</td>\n",
              "    </tr>\n",
              "    <tr>\n",
              "      <th>201</th>\n",
              "      <td>Kern</td>\n",
              "      <td>California</td>\n",
              "      <td>110687</td>\n",
              "      <td>1401.0</td>\n",
              "    </tr>\n",
              "    <tr>\n",
              "      <th>220</th>\n",
              "      <td>Sacramento</td>\n",
              "      <td>California</td>\n",
              "      <td>107493</td>\n",
              "      <td>1726.0</td>\n",
              "    </tr>\n",
              "    <tr>\n",
              "      <th>196</th>\n",
              "      <td>Fresno</td>\n",
              "      <td>California</td>\n",
              "      <td>102828</td>\n",
              "      <td>1722.0</td>\n",
              "    </tr>\n",
              "    <tr>\n",
              "      <th>187</th>\n",
              "      <td>Alameda</td>\n",
              "      <td>California</td>\n",
              "      <td>89557</td>\n",
              "      <td>1275.0</td>\n",
              "    </tr>\n",
              "    <tr>\n",
              "      <th>242</th>\n",
              "      <td>Ventura</td>\n",
              "      <td>California</td>\n",
              "      <td>81572</td>\n",
              "      <td>1029.0</td>\n",
              "    </tr>\n",
              "    <tr>\n",
              "      <th>225</th>\n",
              "      <td>San Joaquin</td>\n",
              "      <td>California</td>\n",
              "      <td>74596</td>\n",
              "      <td>1435.0</td>\n",
              "    </tr>\n",
              "    <tr>\n",
              "      <th>193</th>\n",
              "      <td>Contra Costa</td>\n",
              "      <td>California</td>\n",
              "      <td>70428</td>\n",
              "      <td>810.0</td>\n",
              "    </tr>\n",
              "    <tr>\n",
              "      <th>236</th>\n",
              "      <td>Stanislaus</td>\n",
              "      <td>California</td>\n",
              "      <td>63302</td>\n",
              "      <td>1068.0</td>\n",
              "    </tr>\n",
              "    <tr>\n",
              "      <th>240</th>\n",
              "      <td>Tulare</td>\n",
              "      <td>California</td>\n",
              "      <td>49768</td>\n",
              "      <td>849.0</td>\n",
              "    </tr>\n",
              "    <tr>\n",
              "      <th>213</th>\n",
              "      <td>Monterey</td>\n",
              "      <td>California</td>\n",
              "      <td>43821</td>\n",
              "      <td>421.0</td>\n",
              "    </tr>\n",
              "    <tr>\n",
              "      <th>227</th>\n",
              "      <td>San Mateo</td>\n",
              "      <td>California</td>\n",
              "      <td>42593</td>\n",
              "      <td>581.0</td>\n",
              "    </tr>\n",
              "    <tr>\n",
              "      <th>224</th>\n",
              "      <td>San Francisco</td>\n",
              "      <td>California</td>\n",
              "      <td>37213</td>\n",
              "      <td>555.0</td>\n",
              "    </tr>\n",
              "    <tr>\n",
              "      <th>228</th>\n",
              "      <td>Santa Barbara</td>\n",
              "      <td>California</td>\n",
              "      <td>34587</td>\n",
              "      <td>460.0</td>\n",
              "    </tr>\n",
              "    <tr>\n",
              "      <th>234</th>\n",
              "      <td>Solano</td>\n",
              "      <td>California</td>\n",
              "      <td>33656</td>\n",
              "      <td>266.0</td>\n",
              "    </tr>\n",
              "  </tbody>\n",
              "</table>\n",
              "</div>"
            ],
            "text/plain": [
              "             county       state    cases   deaths\n",
              "205     Los Angeles  California  1247488  24435.0\n",
              "219       Riverside  California   301482   4624.0\n",
              "222  San Bernardino  California   299096   4790.0\n",
              "223       San Diego  California   281438   3770.0\n",
              "216          Orange  California   272827   5105.0\n",
              "229     Santa Clara  California   119963   2180.0\n",
              "201            Kern  California   110687   1401.0\n",
              "220      Sacramento  California   107493   1726.0\n",
              "196          Fresno  California   102828   1722.0\n",
              "187         Alameda  California    89557   1275.0\n",
              "242         Ventura  California    81572   1029.0\n",
              "225     San Joaquin  California    74596   1435.0\n",
              "193    Contra Costa  California    70428    810.0\n",
              "236      Stanislaus  California    63302   1068.0\n",
              "240          Tulare  California    49768    849.0\n",
              "213        Monterey  California    43821    421.0\n",
              "227       San Mateo  California    42593    581.0\n",
              "224   San Francisco  California    37213    555.0\n",
              "228   Santa Barbara  California    34587    460.0\n",
              "234          Solano  California    33656    266.0"
            ]
          },
          "metadata": {
            "tags": []
          },
          "execution_count": 68
        }
      ]
    },
    {
      "cell_type": "code",
      "metadata": {
        "id": "hUtHcopqdwaR"
      },
      "source": [
        "top20_ca.to_csv('top20_ca.csv')"
      ],
      "execution_count": 69,
      "outputs": []
    },
    {
      "cell_type": "code",
      "metadata": {
        "id": "k-klND8td-tJ",
        "colab": {
          "base_uri": "https://localhost:8080/"
        },
        "outputId": "dcf57869-ac34-486a-de73-85eb26c4ed85"
      },
      "source": [
        "!head top20_ca.csv"
      ],
      "execution_count": 70,
      "outputs": [
        {
          "output_type": "stream",
          "text": [
            ",county,state,cases,deaths\n",
            "205,Los Angeles,California,1247488,24435.0\n",
            "219,Riverside,California,301482,4624.0\n",
            "222,San Bernardino,California,299096,4790.0\n",
            "223,San Diego,California,281438,3770.0\n",
            "216,Orange,California,272827,5105.0\n",
            "229,Santa Clara,California,119963,2180.0\n",
            "201,Kern,California,110687,1401.0\n",
            "220,Sacramento,California,107493,1726.0\n",
            "196,Fresno,California,102828,1722.0\n"
          ],
          "name": "stdout"
        }
      ]
    },
    {
      "cell_type": "code",
      "metadata": {
        "id": "3-dxZhjmeKVe"
      },
      "source": [
        "top20_ca.to_excel('top20_ca.xlsx')"
      ],
      "execution_count": 71,
      "outputs": []
    },
    {
      "cell_type": "markdown",
      "metadata": {
        "id": "dt7TKrQoe6Oe"
      },
      "source": [
        "indexing by position or label\n",
        "apply functions to all the columns (.mean, .max)\n",
        "group a dataframe by a column : ex: get values by state\n",
        "basic plotting --> generated bar plot, box plot, histogram\n",
        "save figures, save dataframes to csv or excel files"
      ]
    },
    {
      "cell_type": "markdown",
      "metadata": {
        "id": "SVWcLwDm76bU"
      },
      "source": [
        "## Session 3: Writing functions, variable scope"
      ]
    },
    {
      "cell_type": "markdown",
      "metadata": {
        "id": "fAmEd-0N7-EF"
      },
      "source": [
        "1. declarition statment -> defining the funciton name, telling python you are making a function\n",
        "2. arguments: what goes into the function\n",
        "3. body: what does the function do\n",
        "4. returns: what does the function return\n",
        "5. calling: using the function"
      ]
    },
    {
      "cell_type": "code",
      "metadata": {
        "id": "xmc8UY5x0Ut5"
      },
      "source": [
        "def print_greeting():\n",
        "  print(\"Hello\")"
      ],
      "execution_count": 72,
      "outputs": []
    },
    {
      "cell_type": "code",
      "metadata": {
        "id": "UUD5Ib35r9lH",
        "outputId": "f66a13f7-7e85-4f41-a364-3b6ab8974fd3",
        "colab": {
          "base_uri": "https://localhost:8080/"
        }
      },
      "source": [
        "print_greeting()"
      ],
      "execution_count": 74,
      "outputs": [
        {
          "output_type": "stream",
          "text": [
            "Hello\n"
          ],
          "name": "stdout"
        }
      ]
    },
    {
      "cell_type": "markdown",
      "metadata": {
        "id": "08nqZZmhsGAT"
      },
      "source": [
        "Arguments:"
      ]
    },
    {
      "cell_type": "code",
      "metadata": {
        "id": "eGun53OrsOal",
        "outputId": "a30607df-7845-4bbe-bcf6-4c983b24b5b2",
        "colab": {
          "base_uri": "https://localhost:8080/"
        }
      },
      "source": [
        "def print_greeting_to(name):\n",
        "  print(\"Hello to\", name)\n",
        "\n",
        "print_greeting_to(\"Charles\")"
      ],
      "execution_count": 75,
      "outputs": [
        {
          "output_type": "stream",
          "text": [
            "Hello to Charles\n"
          ],
          "name": "stdout"
        }
      ]
    },
    {
      "cell_type": "code",
      "metadata": {
        "id": "MfUQ02kbsgw2",
        "outputId": "16c97ec4-cd32-47be-af58-ce16431f5806",
        "colab": {
          "base_uri": "https://localhost:8080/"
        }
      },
      "source": [
        "print_greeting_to(130)"
      ],
      "execution_count": 76,
      "outputs": [
        {
          "output_type": "stream",
          "text": [
            "Hello to 130\n"
          ],
          "name": "stdout"
        }
      ]
    },
    {
      "cell_type": "code",
      "metadata": {
        "id": "4mThnnUzspw0",
        "outputId": "2e29a5c2-3ae9-45f6-d4d6-214af092ef52",
        "colab": {
          "base_uri": "https://localhost:8080/"
        }
      },
      "source": [
        "def print_greeting_to(name):\n",
        "  print(\"Hello to\", name.upper())\n",
        "\n",
        "print_greeting_to(\"Charles\")"
      ],
      "execution_count": 77,
      "outputs": [
        {
          "output_type": "stream",
          "text": [
            "Hello to CHARLES\n"
          ],
          "name": "stdout"
        }
      ]
    },
    {
      "cell_type": "code",
      "metadata": {
        "id": "1nsDEyA9s4xY",
        "outputId": "1930c578-8850-41cc-9954-e3da95d0a492",
        "colab": {
          "base_uri": "https://localhost:8080/"
        }
      },
      "source": [
        "def print_greeting_to_all(names):\n",
        "  for name in names:\n",
        "    print(\"Hello to\", name)\n",
        "\n",
        "\n",
        "print_greeting_to_all([\"Charles\", \"Rachael\", \"Lubna\"])"
      ],
      "execution_count": 79,
      "outputs": [
        {
          "output_type": "stream",
          "text": [
            "Hello to Charles\n",
            "Hello to Rachael\n",
            "Hello to Lubna\n"
          ],
          "name": "stdout"
        }
      ]
    },
    {
      "cell_type": "code",
      "metadata": {
        "id": "dUmyzCkntYFb",
        "outputId": "22404ae4-c20c-4f14-bfe8-bfa224a651e3",
        "colab": {
          "base_uri": "https://localhost:8080/"
        }
      },
      "source": [
        "out = print_greeting_to_all([\"Charles\", \"Rachael\", \"Lubna\"])"
      ],
      "execution_count": 80,
      "outputs": [
        {
          "output_type": "stream",
          "text": [
            "Hello to Charles\n",
            "Hello to Rachael\n",
            "Hello to Lubna\n"
          ],
          "name": "stdout"
        }
      ]
    },
    {
      "cell_type": "code",
      "metadata": {
        "id": "PdESJY_YtdiJ",
        "outputId": "7f607987-635f-4ff1-d43f-b7c884eb77d6",
        "colab": {
          "base_uri": "https://localhost:8080/"
        }
      },
      "source": [
        "def print_greeting_to_all(names):\n",
        "  for name in names:\n",
        "    print(\"Hello to\", name)\n",
        "\n",
        "  return None\n",
        "out = print_greeting_to_all([\"Charles\", \"Rachael\", \"Lubna\"])"
      ],
      "execution_count": 83,
      "outputs": [
        {
          "output_type": "stream",
          "text": [
            "Hello to Charles\n",
            "Hello to Rachael\n",
            "Hello to Lubna\n"
          ],
          "name": "stdout"
        }
      ]
    },
    {
      "cell_type": "code",
      "metadata": {
        "id": "1a0z-x_9uNko",
        "outputId": "8dd79f5f-e3c6-4f08-f182-d884f88d25d4",
        "colab": {
          "base_uri": "https://localhost:8080/",
          "height": 36
        }
      },
      "source": [
        "\"S\"+\"a\""
      ],
      "execution_count": 85,
      "outputs": [
        {
          "output_type": "execute_result",
          "data": {
            "application/vnd.google.colaboratory.intrinsic+json": {
              "type": "string"
            },
            "text/plain": [
              "'Sa'"
            ]
          },
          "metadata": {
            "tags": []
          },
          "execution_count": 85
        }
      ]
    },
    {
      "cell_type": "code",
      "metadata": {
        "id": "ASuw4NElt604",
        "outputId": "3169b6d1-c617-4585-9158-59767d7d4ea6",
        "colab": {
          "base_uri": "https://localhost:8080/"
        }
      },
      "source": [
        "def print_date(day, month, year):\n",
        "  date_str = str(day) + '/' + str(month) + '/' + str(year)\n",
        "  print(date_str)\n",
        "\n",
        "print_date(17, 6, 2021)"
      ],
      "execution_count": 87,
      "outputs": [
        {
          "output_type": "stream",
          "text": [
            "17/6/2021\n"
          ],
          "name": "stdout"
        }
      ]
    },
    {
      "cell_type": "code",
      "metadata": {
        "id": "FSTml81Suph0",
        "outputId": "ef0ef386-f8eb-4914-d5d6-72cecf1d502e",
        "colab": {
          "base_uri": "https://localhost:8080/"
        }
      },
      "source": [
        "print_date(17, 'six', 'twentytwentyone')"
      ],
      "execution_count": 89,
      "outputs": [
        {
          "output_type": "stream",
          "text": [
            "17/six/twentytwentyone\n"
          ],
          "name": "stdout"
        }
      ]
    },
    {
      "cell_type": "code",
      "metadata": {
        "id": "3G78divnvIv4",
        "outputId": "312592b5-7fdc-44d5-cbfa-7d0c4fe576b2",
        "colab": {
          "base_uri": "https://localhost:8080/"
        }
      },
      "source": [
        "print_date(2021, 6, 17)"
      ],
      "execution_count": 91,
      "outputs": [
        {
          "output_type": "stream",
          "text": [
            "2021/6/17\n"
          ],
          "name": "stdout"
        }
      ]
    },
    {
      "cell_type": "code",
      "metadata": {
        "id": "kON3kO0FvT3i",
        "outputId": "401dc4d3-9167-4ccc-e566-fbed31bd5808",
        "colab": {
          "base_uri": "https://localhost:8080/"
        }
      },
      "source": [
        "print_date(year=2021, month=6, day=17)"
      ],
      "execution_count": 92,
      "outputs": [
        {
          "output_type": "stream",
          "text": [
            "17/6/2021\n"
          ],
          "name": "stdout"
        }
      ]
    },
    {
      "cell_type": "markdown",
      "metadata": {
        "id": "tdSAA-GKv54E"
      },
      "source": [
        "Special argument types"
      ]
    },
    {
      "cell_type": "code",
      "metadata": {
        "id": "LGrCAgtcvhMr",
        "outputId": "1680c166-cd57-4815-9d85-e840d89ed8ef",
        "colab": {
          "base_uri": "https://localhost:8080/"
        }
      },
      "source": [
        "def print_date_args(*args):\n",
        "  day = args[0]\n",
        "  month = args[1]\n",
        "  year = args[2]\n",
        "\n",
        "  date_str = str(day) + '/' + str(month) + '/' + str(year)\n",
        "  print(date_str)\n",
        "\n",
        "print_date_args(17,6,2021)"
      ],
      "execution_count": 102,
      "outputs": [
        {
          "output_type": "stream",
          "text": [
            "17/6/2021\n"
          ],
          "name": "stdout"
        }
      ]
    },
    {
      "cell_type": "code",
      "metadata": {
        "id": "cR_4HeQAwYya",
        "outputId": "18a8449d-1878-4b21-eb0c-83c6385557d0",
        "colab": {
          "base_uri": "https://localhost:8080/"
        }
      },
      "source": [
        "def print_date_args(*args):\n",
        "  day = args[0]\n",
        "  month = args[1]\n",
        "  year = args[2]\n",
        "\n",
        "  date_str = str(day) + '/' + str(month) + '/' + str(year)\n",
        "  print(date_str)\n",
        "\n",
        "  print(args[4])\n",
        "\n",
        "print_date_args(17,2021,6, 1000, 'sdfer', len)  # wrong order!"
      ],
      "execution_count": 103,
      "outputs": [
        {
          "output_type": "stream",
          "text": [
            "17/2021/6\n",
            "sdfer\n"
          ],
          "name": "stdout"
        }
      ]
    },
    {
      "cell_type": "markdown",
      "metadata": {
        "id": "FDlIPnKHwpJK"
      },
      "source": [
        "Return!"
      ]
    },
    {
      "cell_type": "code",
      "metadata": {
        "colab": {
          "base_uri": "https://localhost:8080/"
        },
        "id": "_VJXCFxtxiHB",
        "outputId": "2e1e3f46-a3ad-46c3-a65c-449afd89203a"
      },
      "source": [
        "def average(values):\n",
        "  if len(values) == 0:\n",
        "    return None\n",
        "  else:\n",
        "    return sum(values)/len(values)\n",
        "\n",
        "grades = [80, 70, 50, 100, 90]\n",
        "\n",
        "average(grades)"
      ],
      "execution_count": 105,
      "outputs": [
        {
          "output_type": "execute_result",
          "data": {
            "text/plain": [
              "78.0"
            ]
          },
          "metadata": {
            "tags": []
          },
          "execution_count": 105
        }
      ]
    },
    {
      "cell_type": "code",
      "metadata": {
        "id": "Benb3my7yOQ4"
      },
      "source": [
        "grades = []\n",
        "out = average(grades)"
      ],
      "execution_count": 107,
      "outputs": []
    },
    {
      "cell_type": "code",
      "metadata": {
        "id": "XsM8CafRybD2",
        "outputId": "e93f8293-52e7-4d6a-f01b-5df874ad00ee",
        "colab": {
          "base_uri": "https://localhost:8080/"
        }
      },
      "source": [
        "print(out)"
      ],
      "execution_count": 108,
      "outputs": [
        {
          "output_type": "stream",
          "text": [
            "None\n"
          ],
          "name": "stdout"
        }
      ]
    },
    {
      "cell_type": "code",
      "metadata": {
        "id": "esEMr11-yfPw"
      },
      "source": [
        "def average(values):\n",
        "  return sum(values)/len(values)"
      ],
      "execution_count": 109,
      "outputs": []
    },
    {
      "cell_type": "code",
      "metadata": {
        "id": "jDAR_ZKGyi8O",
        "outputId": "3fd245d5-2b8a-4805-9ec6-ae0bcb602070",
        "colab": {
          "base_uri": "https://localhost:8080/",
          "height": 263
        }
      },
      "source": [
        "grades = []\n",
        "out = average(grades)"
      ],
      "execution_count": 110,
      "outputs": [
        {
          "output_type": "error",
          "ename": "ZeroDivisionError",
          "evalue": "ignored",
          "traceback": [
            "\u001b[0;31m---------------------------------------------------------------------------\u001b[0m",
            "\u001b[0;31mZeroDivisionError\u001b[0m                         Traceback (most recent call last)",
            "\u001b[0;32m<ipython-input-110-a65315cbca47>\u001b[0m in \u001b[0;36m<module>\u001b[0;34m()\u001b[0m\n\u001b[1;32m      1\u001b[0m \u001b[0mgrades\u001b[0m \u001b[0;34m=\u001b[0m \u001b[0;34m[\u001b[0m\u001b[0;34m]\u001b[0m\u001b[0;34m\u001b[0m\u001b[0;34m\u001b[0m\u001b[0m\n\u001b[0;32m----> 2\u001b[0;31m \u001b[0mout\u001b[0m \u001b[0;34m=\u001b[0m \u001b[0maverage\u001b[0m\u001b[0;34m(\u001b[0m\u001b[0mgrades\u001b[0m\u001b[0;34m)\u001b[0m\u001b[0;34m\u001b[0m\u001b[0;34m\u001b[0m\u001b[0m\n\u001b[0m",
            "\u001b[0;32m<ipython-input-109-78fe3c002c45>\u001b[0m in \u001b[0;36maverage\u001b[0;34m(values)\u001b[0m\n\u001b[1;32m      1\u001b[0m \u001b[0;32mdef\u001b[0m \u001b[0maverage\u001b[0m\u001b[0;34m(\u001b[0m\u001b[0mvalues\u001b[0m\u001b[0;34m)\u001b[0m\u001b[0;34m:\u001b[0m\u001b[0;34m\u001b[0m\u001b[0;34m\u001b[0m\u001b[0m\n\u001b[0;32m----> 2\u001b[0;31m   \u001b[0;32mreturn\u001b[0m \u001b[0msum\u001b[0m\u001b[0;34m(\u001b[0m\u001b[0mvalues\u001b[0m\u001b[0;34m)\u001b[0m\u001b[0;34m/\u001b[0m\u001b[0mlen\u001b[0m\u001b[0;34m(\u001b[0m\u001b[0mvalues\u001b[0m\u001b[0;34m)\u001b[0m\u001b[0;34m\u001b[0m\u001b[0;34m\u001b[0m\u001b[0m\n\u001b[0m",
            "\u001b[0;31mZeroDivisionError\u001b[0m: division by zero"
          ]
        }
      ]
    },
    {
      "cell_type": "code",
      "metadata": {
        "id": "CnAR4u6hylty"
      },
      "source": [
        "covid_data = pd.read_csv(nytimes_covid_live_url)"
      ],
      "execution_count": 112,
      "outputs": []
    },
    {
      "cell_type": "code",
      "metadata": {
        "id": "nZU3ISKLy8La",
        "outputId": "74e9bb69-2a93-44e8-ead4-c194be430dba",
        "colab": {
          "base_uri": "https://localhost:8080/",
          "height": 226
        }
      },
      "source": [
        "covid_data.head()"
      ],
      "execution_count": 113,
      "outputs": [
        {
          "output_type": "execute_result",
          "data": {
            "text/html": [
              "<div>\n",
              "<style scoped>\n",
              "    .dataframe tbody tr th:only-of-type {\n",
              "        vertical-align: middle;\n",
              "    }\n",
              "\n",
              "    .dataframe tbody tr th {\n",
              "        vertical-align: top;\n",
              "    }\n",
              "\n",
              "    .dataframe thead th {\n",
              "        text-align: right;\n",
              "    }\n",
              "</style>\n",
              "<table border=\"1\" class=\"dataframe\">\n",
              "  <thead>\n",
              "    <tr style=\"text-align: right;\">\n",
              "      <th></th>\n",
              "      <th>date</th>\n",
              "      <th>county</th>\n",
              "      <th>state</th>\n",
              "      <th>fips</th>\n",
              "      <th>cases</th>\n",
              "      <th>deaths</th>\n",
              "      <th>confirmed_cases</th>\n",
              "      <th>confirmed_deaths</th>\n",
              "      <th>probable_cases</th>\n",
              "      <th>probable_deaths</th>\n",
              "    </tr>\n",
              "  </thead>\n",
              "  <tbody>\n",
              "    <tr>\n",
              "      <th>0</th>\n",
              "      <td>2021-06-17</td>\n",
              "      <td>Autauga</td>\n",
              "      <td>Alabama</td>\n",
              "      <td>1001.0</td>\n",
              "      <td>7230</td>\n",
              "      <td>113.0</td>\n",
              "      <td>6057.0</td>\n",
              "      <td>101.0</td>\n",
              "      <td>1173.0</td>\n",
              "      <td>12.0</td>\n",
              "    </tr>\n",
              "    <tr>\n",
              "      <th>1</th>\n",
              "      <td>2021-06-17</td>\n",
              "      <td>Baldwin</td>\n",
              "      <td>Alabama</td>\n",
              "      <td>1003.0</td>\n",
              "      <td>21839</td>\n",
              "      <td>313.0</td>\n",
              "      <td>15370.0</td>\n",
              "      <td>237.0</td>\n",
              "      <td>6469.0</td>\n",
              "      <td>76.0</td>\n",
              "    </tr>\n",
              "    <tr>\n",
              "      <th>2</th>\n",
              "      <td>2021-06-17</td>\n",
              "      <td>Barbour</td>\n",
              "      <td>Alabama</td>\n",
              "      <td>1005.0</td>\n",
              "      <td>2346</td>\n",
              "      <td>59.0</td>\n",
              "      <td>1315.0</td>\n",
              "      <td>41.0</td>\n",
              "      <td>1031.0</td>\n",
              "      <td>18.0</td>\n",
              "    </tr>\n",
              "    <tr>\n",
              "      <th>3</th>\n",
              "      <td>2021-06-17</td>\n",
              "      <td>Bibb</td>\n",
              "      <td>Alabama</td>\n",
              "      <td>1007.0</td>\n",
              "      <td>2684</td>\n",
              "      <td>64.0</td>\n",
              "      <td>2149.0</td>\n",
              "      <td>40.0</td>\n",
              "      <td>535.0</td>\n",
              "      <td>24.0</td>\n",
              "    </tr>\n",
              "    <tr>\n",
              "      <th>4</th>\n",
              "      <td>2021-06-17</td>\n",
              "      <td>Blount</td>\n",
              "      <td>Alabama</td>\n",
              "      <td>1009.0</td>\n",
              "      <td>6944</td>\n",
              "      <td>139.0</td>\n",
              "      <td>5305.0</td>\n",
              "      <td>115.0</td>\n",
              "      <td>1639.0</td>\n",
              "      <td>24.0</td>\n",
              "    </tr>\n",
              "  </tbody>\n",
              "</table>\n",
              "</div>"
            ],
            "text/plain": [
              "         date   county  ... probable_cases  probable_deaths\n",
              "0  2021-06-17  Autauga  ...         1173.0             12.0\n",
              "1  2021-06-17  Baldwin  ...         6469.0             76.0\n",
              "2  2021-06-17  Barbour  ...         1031.0             18.0\n",
              "3  2021-06-17     Bibb  ...          535.0             24.0\n",
              "4  2021-06-17   Blount  ...         1639.0             24.0\n",
              "\n",
              "[5 rows x 10 columns]"
            ]
          },
          "metadata": {
            "tags": []
          },
          "execution_count": 113
        }
      ]
    },
    {
      "cell_type": "code",
      "metadata": {
        "id": "qWITFWH3zRVj"
      },
      "source": [
        "covid_data = pd.DataFrame(covid_data[['county', 'state', 'cases', 'deaths']])"
      ],
      "execution_count": 114,
      "outputs": []
    },
    {
      "cell_type": "code",
      "metadata": {
        "id": "jn3QtDS5zsaF",
        "outputId": "0c729038-9f93-4ba0-d87b-b591e040ca39",
        "colab": {
          "base_uri": "https://localhost:8080/",
          "height": 363
        }
      },
      "source": [
        "covid_data.head(10)"
      ],
      "execution_count": 116,
      "outputs": [
        {
          "output_type": "execute_result",
          "data": {
            "text/html": [
              "<div>\n",
              "<style scoped>\n",
              "    .dataframe tbody tr th:only-of-type {\n",
              "        vertical-align: middle;\n",
              "    }\n",
              "\n",
              "    .dataframe tbody tr th {\n",
              "        vertical-align: top;\n",
              "    }\n",
              "\n",
              "    .dataframe thead th {\n",
              "        text-align: right;\n",
              "    }\n",
              "</style>\n",
              "<table border=\"1\" class=\"dataframe\">\n",
              "  <thead>\n",
              "    <tr style=\"text-align: right;\">\n",
              "      <th></th>\n",
              "      <th>county</th>\n",
              "      <th>state</th>\n",
              "      <th>cases</th>\n",
              "      <th>deaths</th>\n",
              "    </tr>\n",
              "  </thead>\n",
              "  <tbody>\n",
              "    <tr>\n",
              "      <th>0</th>\n",
              "      <td>Autauga</td>\n",
              "      <td>Alabama</td>\n",
              "      <td>7230</td>\n",
              "      <td>113.0</td>\n",
              "    </tr>\n",
              "    <tr>\n",
              "      <th>1</th>\n",
              "      <td>Baldwin</td>\n",
              "      <td>Alabama</td>\n",
              "      <td>21839</td>\n",
              "      <td>313.0</td>\n",
              "    </tr>\n",
              "    <tr>\n",
              "      <th>2</th>\n",
              "      <td>Barbour</td>\n",
              "      <td>Alabama</td>\n",
              "      <td>2346</td>\n",
              "      <td>59.0</td>\n",
              "    </tr>\n",
              "    <tr>\n",
              "      <th>3</th>\n",
              "      <td>Bibb</td>\n",
              "      <td>Alabama</td>\n",
              "      <td>2684</td>\n",
              "      <td>64.0</td>\n",
              "    </tr>\n",
              "    <tr>\n",
              "      <th>4</th>\n",
              "      <td>Blount</td>\n",
              "      <td>Alabama</td>\n",
              "      <td>6944</td>\n",
              "      <td>139.0</td>\n",
              "    </tr>\n",
              "    <tr>\n",
              "      <th>5</th>\n",
              "      <td>Bullock</td>\n",
              "      <td>Alabama</td>\n",
              "      <td>1242</td>\n",
              "      <td>42.0</td>\n",
              "    </tr>\n",
              "    <tr>\n",
              "      <th>6</th>\n",
              "      <td>Butler</td>\n",
              "      <td>Alabama</td>\n",
              "      <td>2240</td>\n",
              "      <td>71.0</td>\n",
              "    </tr>\n",
              "    <tr>\n",
              "      <th>7</th>\n",
              "      <td>Calhoun</td>\n",
              "      <td>Alabama</td>\n",
              "      <td>14718</td>\n",
              "      <td>325.0</td>\n",
              "    </tr>\n",
              "    <tr>\n",
              "      <th>8</th>\n",
              "      <td>Chambers</td>\n",
              "      <td>Alabama</td>\n",
              "      <td>3726</td>\n",
              "      <td>124.0</td>\n",
              "    </tr>\n",
              "    <tr>\n",
              "      <th>9</th>\n",
              "      <td>Cherokee</td>\n",
              "      <td>Alabama</td>\n",
              "      <td>1872</td>\n",
              "      <td>45.0</td>\n",
              "    </tr>\n",
              "  </tbody>\n",
              "</table>\n",
              "</div>"
            ],
            "text/plain": [
              "     county    state  cases  deaths\n",
              "0   Autauga  Alabama   7230   113.0\n",
              "1   Baldwin  Alabama  21839   313.0\n",
              "2   Barbour  Alabama   2346    59.0\n",
              "3      Bibb  Alabama   2684    64.0\n",
              "4    Blount  Alabama   6944   139.0\n",
              "5   Bullock  Alabama   1242    42.0\n",
              "6    Butler  Alabama   2240    71.0\n",
              "7   Calhoun  Alabama  14718   325.0\n",
              "8  Chambers  Alabama   3726   124.0\n",
              "9  Cherokee  Alabama   1872    45.0"
            ]
          },
          "metadata": {
            "tags": []
          },
          "execution_count": 116
        }
      ]
    },
    {
      "cell_type": "code",
      "metadata": {
        "id": "VSEDliqQz-R6",
        "outputId": "464128da-e3aa-459e-e324-0963844021fc",
        "colab": {
          "base_uri": "https://localhost:8080/"
        }
      },
      "source": [
        "is_california = covid_data['state']=='California'\n",
        "covid_data[is_california].mean()"
      ],
      "execution_count": 119,
      "outputs": [
        {
          "output_type": "execute_result",
          "data": {
            "text/plain": [
              "cases     65606.948276\n",
              "deaths     1090.051724\n",
              "dtype: float64"
            ]
          },
          "metadata": {
            "tags": []
          },
          "execution_count": 119
        }
      ]
    },
    {
      "cell_type": "code",
      "metadata": {
        "id": "nLJeag8Gztvm"
      },
      "source": [
        "def cases_mean_by_state_func(dataframe, state):\n",
        "  is_state = covid_data['state']==state\n",
        "  return covid_data.loc[is_state, 'cases'].mean()"
      ],
      "execution_count": 122,
      "outputs": []
    },
    {
      "cell_type": "code",
      "metadata": {
        "id": "OA-c94V71YBb",
        "outputId": "d0b83fe5-5834-4128-92c9-21cf931c8015",
        "colab": {
          "base_uri": "https://localhost:8080/"
        }
      },
      "source": [
        "cases_mean_by_state_func([], 'Oregon')"
      ],
      "execution_count": 126,
      "outputs": [
        {
          "output_type": "execute_result",
          "data": {
            "text/plain": [
              "5716.111111111111"
            ]
          },
          "metadata": {
            "tags": []
          },
          "execution_count": 126
        }
      ]
    },
    {
      "cell_type": "code",
      "metadata": {
        "id": "OsW8MHAc11V5"
      },
      "source": [
        "def cases_mean_by_state_func(dataframe, state):\n",
        "  covid_data = dataframe\n",
        "  is_state = covid_data['state']==state\n",
        "  return covid_data.loc[is_state, 'cases'].mean()"
      ],
      "execution_count": 127,
      "outputs": []
    },
    {
      "cell_type": "code",
      "metadata": {
        "id": "oxZqv-wx1eDR",
        "outputId": "697bc360-f5ae-4a85-d85c-0faff80fccad",
        "colab": {
          "base_uri": "https://localhost:8080/",
          "height": 281
        }
      },
      "source": [
        "cases_mean_by_state_func([], 'Oregon')"
      ],
      "execution_count": 128,
      "outputs": [
        {
          "output_type": "error",
          "ename": "TypeError",
          "evalue": "ignored",
          "traceback": [
            "\u001b[0;31m---------------------------------------------------------------------------\u001b[0m",
            "\u001b[0;31mTypeError\u001b[0m                                 Traceback (most recent call last)",
            "\u001b[0;32m<ipython-input-128-65fbad3d5eec>\u001b[0m in \u001b[0;36m<module>\u001b[0;34m()\u001b[0m\n\u001b[0;32m----> 1\u001b[0;31m \u001b[0mcases_mean_by_state_func\u001b[0m\u001b[0;34m(\u001b[0m\u001b[0;34m[\u001b[0m\u001b[0;34m]\u001b[0m\u001b[0;34m,\u001b[0m \u001b[0;34m'Oregon'\u001b[0m\u001b[0;34m)\u001b[0m\u001b[0;34m\u001b[0m\u001b[0;34m\u001b[0m\u001b[0m\n\u001b[0m",
            "\u001b[0;32m<ipython-input-127-47cf598a6556>\u001b[0m in \u001b[0;36mcases_mean_by_state_func\u001b[0;34m(dataframe, state)\u001b[0m\n\u001b[1;32m      1\u001b[0m \u001b[0;32mdef\u001b[0m \u001b[0mcases_mean_by_state_func\u001b[0m\u001b[0;34m(\u001b[0m\u001b[0mdataframe\u001b[0m\u001b[0;34m,\u001b[0m \u001b[0mstate\u001b[0m\u001b[0;34m)\u001b[0m\u001b[0;34m:\u001b[0m\u001b[0;34m\u001b[0m\u001b[0;34m\u001b[0m\u001b[0m\n\u001b[1;32m      2\u001b[0m   \u001b[0mcovid_data\u001b[0m \u001b[0;34m=\u001b[0m \u001b[0mdataframe\u001b[0m\u001b[0;34m\u001b[0m\u001b[0;34m\u001b[0m\u001b[0m\n\u001b[0;32m----> 3\u001b[0;31m   \u001b[0mis_state\u001b[0m \u001b[0;34m=\u001b[0m \u001b[0mcovid_data\u001b[0m\u001b[0;34m[\u001b[0m\u001b[0;34m'state'\u001b[0m\u001b[0;34m]\u001b[0m\u001b[0;34m==\u001b[0m\u001b[0mstate\u001b[0m\u001b[0;34m\u001b[0m\u001b[0;34m\u001b[0m\u001b[0m\n\u001b[0m\u001b[1;32m      4\u001b[0m   \u001b[0;32mreturn\u001b[0m \u001b[0mcovid_data\u001b[0m\u001b[0;34m.\u001b[0m\u001b[0mloc\u001b[0m\u001b[0;34m[\u001b[0m\u001b[0mis_state\u001b[0m\u001b[0;34m,\u001b[0m \u001b[0;34m'cases'\u001b[0m\u001b[0;34m]\u001b[0m\u001b[0;34m.\u001b[0m\u001b[0mmean\u001b[0m\u001b[0;34m(\u001b[0m\u001b[0;34m)\u001b[0m\u001b[0;34m\u001b[0m\u001b[0;34m\u001b[0m\u001b[0m\n",
            "\u001b[0;31mTypeError\u001b[0m: list indices must be integers or slices, not str"
          ]
        }
      ]
    },
    {
      "cell_type": "code",
      "metadata": {
        "id": "92AQ-9wW2Q_J"
      },
      "source": [
        "def cases_mean_by_state_func(dataframe, state):\n",
        "  is_state = dataframe['state']==state\n",
        "  return dataframe.loc[is_state, 'cases'].mean()"
      ],
      "execution_count": 130,
      "outputs": []
    },
    {
      "cell_type": "code",
      "metadata": {
        "id": "pfxbxlbW2YMo",
        "outputId": "d98d1217-cf02-4405-824a-91cec9b360a3",
        "colab": {
          "base_uri": "https://localhost:8080/"
        }
      },
      "source": [
        "cases_mean_by_state_func(state='Oregon', dataframe=covid_data)"
      ],
      "execution_count": 132,
      "outputs": [
        {
          "output_type": "execute_result",
          "data": {
            "text/plain": [
              "5716.111111111111"
            ]
          },
          "metadata": {
            "tags": []
          },
          "execution_count": 132
        }
      ]
    },
    {
      "cell_type": "markdown",
      "metadata": {
        "id": "JBInCJd62ryF"
      },
      "source": [
        "Exercise:"
      ]
    },
    {
      "cell_type": "code",
      "metadata": {
        "id": "VpZgKLOA2_FR"
      },
      "source": [
        "def first_negative(values):\n",
        "  for value in values:\n",
        "    if value < 0:\n",
        "      return value"
      ],
      "execution_count": 133,
      "outputs": []
    },
    {
      "cell_type": "code",
      "metadata": {
        "id": "TLQmXNyD2_iN",
        "outputId": "fda57c61-e15a-43bb-cd69-c67e3aa15d84",
        "colab": {
          "base_uri": "https://localhost:8080/"
        }
      },
      "source": [
        "my_values = [10, 1, 3, -2, 5, -10, -200]\n",
        "\n",
        "first_negative(my_values)"
      ],
      "execution_count": 134,
      "outputs": [
        {
          "output_type": "execute_result",
          "data": {
            "text/plain": [
              "-2"
            ]
          },
          "metadata": {
            "tags": []
          },
          "execution_count": 134
        }
      ]
    },
    {
      "cell_type": "code",
      "metadata": {
        "id": "22vewTqz3pzr"
      },
      "source": [
        "def first_negative_index(values):\n",
        "  cnt = 0\n",
        "  for value in values:\n",
        "    if value < 0:\n",
        "      return cnt\n",
        "    else:\n",
        "      cnt = cnt+1\n",
        "        "
      ],
      "execution_count": 138,
      "outputs": []
    },
    {
      "cell_type": "code",
      "metadata": {
        "id": "iMPuDnFu4kUD",
        "outputId": "43d506cc-506b-464e-824a-b01832b1ac9a",
        "colab": {
          "base_uri": "https://localhost:8080/"
        }
      },
      "source": [
        "first_negative_index(my_values)"
      ],
      "execution_count": 139,
      "outputs": [
        {
          "output_type": "execute_result",
          "data": {
            "text/plain": [
              "3"
            ]
          },
          "metadata": {
            "tags": []
          },
          "execution_count": 139
        }
      ]
    },
    {
      "cell_type": "code",
      "metadata": {
        "id": "LTHYh1Re4sz8",
        "outputId": "36b7e149-8d37-4aae-d07c-81c9c5e042fe",
        "colab": {
          "base_uri": "https://localhost:8080/"
        }
      },
      "source": [
        "my_values = [10, 1, 3, 2, -5, -10, -200]\n",
        "first_negative_index(my_values)"
      ],
      "execution_count": 140,
      "outputs": [
        {
          "output_type": "execute_result",
          "data": {
            "text/plain": [
              "4"
            ]
          },
          "metadata": {
            "tags": []
          },
          "execution_count": 140
        }
      ]
    },
    {
      "cell_type": "markdown",
      "metadata": {
        "id": "j5PUaJX45E89"
      },
      "source": [
        "Scoping"
      ]
    },
    {
      "cell_type": "code",
      "metadata": {
        "id": "MZldgsXI5Ymx"
      },
      "source": [
        "a = 1.0\n",
        "b = 2.0\n",
        "\n",
        "def sum2(a,b):\n",
        "  return a+b\n"
      ],
      "execution_count": 147,
      "outputs": []
    },
    {
      "cell_type": "code",
      "metadata": {
        "id": "sizUbK4l5i8w",
        "outputId": "b5780f71-a2cf-4622-8fab-7e06ac5e8644",
        "colab": {
          "base_uri": "https://localhost:8080/"
        }
      },
      "source": [
        "sum2(10, 20)"
      ],
      "execution_count": 148,
      "outputs": [
        {
          "output_type": "execute_result",
          "data": {
            "text/plain": [
              "30"
            ]
          },
          "metadata": {
            "tags": []
          },
          "execution_count": 148
        }
      ]
    },
    {
      "cell_type": "code",
      "metadata": {
        "id": "WI-WunSI5sI-",
        "outputId": "f116f69a-61cb-48fe-f9e8-fb790d3e398f",
        "colab": {
          "base_uri": "https://localhost:8080/"
        }
      },
      "source": [
        "a, b"
      ],
      "execution_count": 143,
      "outputs": [
        {
          "output_type": "execute_result",
          "data": {
            "text/plain": [
              "(1.0, 2.0)"
            ]
          },
          "metadata": {
            "tags": []
          },
          "execution_count": 143
        }
      ]
    },
    {
      "cell_type": "markdown",
      "metadata": {
        "id": "fl6ObKu45wjF"
      },
      "source": [
        "## Python Pandas & plotting funsies"
      ]
    },
    {
      "cell_type": "code",
      "metadata": {
        "id": "w_yHlfJa9hNU"
      },
      "source": [
        "grouped_by_state = covid_data.groupby('state')"
      ],
      "execution_count": 151,
      "outputs": []
    },
    {
      "cell_type": "code",
      "metadata": {
        "id": "WnyBscex9kCK",
        "outputId": "94581f61-aeca-4b8c-9961-31b6d3ee5caf",
        "colab": {
          "base_uri": "https://localhost:8080/",
          "height": 424
        }
      },
      "source": [
        "grouped_by_state.get_group('Florida')"
      ],
      "execution_count": 152,
      "outputs": [
        {
          "output_type": "execute_result",
          "data": {
            "text/html": [
              "<div>\n",
              "<style scoped>\n",
              "    .dataframe tbody tr th:only-of-type {\n",
              "        vertical-align: middle;\n",
              "    }\n",
              "\n",
              "    .dataframe tbody tr th {\n",
              "        vertical-align: top;\n",
              "    }\n",
              "\n",
              "    .dataframe thead th {\n",
              "        text-align: right;\n",
              "    }\n",
              "</style>\n",
              "<table border=\"1\" class=\"dataframe\">\n",
              "  <thead>\n",
              "    <tr style=\"text-align: right;\">\n",
              "      <th></th>\n",
              "      <th>county</th>\n",
              "      <th>state</th>\n",
              "      <th>cases</th>\n",
              "      <th>deaths</th>\n",
              "    </tr>\n",
              "  </thead>\n",
              "  <tbody>\n",
              "    <tr>\n",
              "      <th>323</th>\n",
              "      <td>Alachua</td>\n",
              "      <td>Florida</td>\n",
              "      <td>25293</td>\n",
              "      <td>285.0</td>\n",
              "    </tr>\n",
              "    <tr>\n",
              "      <th>324</th>\n",
              "      <td>Baker</td>\n",
              "      <td>Florida</td>\n",
              "      <td>3557</td>\n",
              "      <td>62.0</td>\n",
              "    </tr>\n",
              "    <tr>\n",
              "      <th>325</th>\n",
              "      <td>Bay</td>\n",
              "      <td>Florida</td>\n",
              "      <td>19844</td>\n",
              "      <td>394.0</td>\n",
              "    </tr>\n",
              "    <tr>\n",
              "      <th>326</th>\n",
              "      <td>Bradford</td>\n",
              "      <td>Florida</td>\n",
              "      <td>3045</td>\n",
              "      <td>58.0</td>\n",
              "    </tr>\n",
              "    <tr>\n",
              "      <th>327</th>\n",
              "      <td>Brevard</td>\n",
              "      <td>Florida</td>\n",
              "      <td>42604</td>\n",
              "      <td>914.0</td>\n",
              "    </tr>\n",
              "    <tr>\n",
              "      <th>...</th>\n",
              "      <td>...</td>\n",
              "      <td>...</td>\n",
              "      <td>...</td>\n",
              "      <td>...</td>\n",
              "    </tr>\n",
              "    <tr>\n",
              "      <th>386</th>\n",
              "      <td>Unknown</td>\n",
              "      <td>Florida</td>\n",
              "      <td>59</td>\n",
              "      <td>292.0</td>\n",
              "    </tr>\n",
              "    <tr>\n",
              "      <th>387</th>\n",
              "      <td>Volusia</td>\n",
              "      <td>Florida</td>\n",
              "      <td>44491</td>\n",
              "      <td>846.0</td>\n",
              "    </tr>\n",
              "    <tr>\n",
              "      <th>388</th>\n",
              "      <td>Wakulla</td>\n",
              "      <td>Florida</td>\n",
              "      <td>3539</td>\n",
              "      <td>56.0</td>\n",
              "    </tr>\n",
              "    <tr>\n",
              "      <th>389</th>\n",
              "      <td>Walton</td>\n",
              "      <td>Florida</td>\n",
              "      <td>7067</td>\n",
              "      <td>89.0</td>\n",
              "    </tr>\n",
              "    <tr>\n",
              "      <th>390</th>\n",
              "      <td>Washington</td>\n",
              "      <td>Florida</td>\n",
              "      <td>2737</td>\n",
              "      <td>52.0</td>\n",
              "    </tr>\n",
              "  </tbody>\n",
              "</table>\n",
              "<p>68 rows × 4 columns</p>\n",
              "</div>"
            ],
            "text/plain": [
              "         county    state  cases  deaths\n",
              "323     Alachua  Florida  25293   285.0\n",
              "324       Baker  Florida   3557    62.0\n",
              "325         Bay  Florida  19844   394.0\n",
              "326    Bradford  Florida   3045    58.0\n",
              "327     Brevard  Florida  42604   914.0\n",
              "..          ...      ...    ...     ...\n",
              "386     Unknown  Florida     59   292.0\n",
              "387     Volusia  Florida  44491   846.0\n",
              "388     Wakulla  Florida   3539    56.0\n",
              "389      Walton  Florida   7067    89.0\n",
              "390  Washington  Florida   2737    52.0\n",
              "\n",
              "[68 rows x 4 columns]"
            ]
          },
          "metadata": {
            "tags": []
          },
          "execution_count": 152
        }
      ]
    },
    {
      "cell_type": "code",
      "metadata": {
        "id": "-rM7UJly9w8t",
        "outputId": "b6ba96d5-9cee-46b4-ac8a-3005bfdcdbb6",
        "colab": {
          "base_uri": "https://localhost:8080/",
          "height": 297
        }
      },
      "source": [
        "covid_data.loc[covid_data['state']=='Florida', ['cases', 'deaths']].plot.scatter(x='cases', y='deaths')"
      ],
      "execution_count": 157,
      "outputs": [
        {
          "output_type": "execute_result",
          "data": {
            "text/plain": [
              "<matplotlib.axes._subplots.AxesSubplot at 0x7f91de046610>"
            ]
          },
          "metadata": {
            "tags": []
          },
          "execution_count": 157
        },
        {
          "output_type": "display_data",
          "data": {
            "image/png": "[encoded data removed]",
            "text/plain": [
              "<Figure size 432x288 with 1 Axes>"
            ]
          },
          "metadata": {
            "tags": [],
            "needs_background": "light"
          }
        }
      ]
    },
    {
      "cell_type": "code",
      "metadata": {
        "id": "YnG5LXLT963v"
      },
      "source": [
        "def plot_cases_v_deaths_state(state):\n",
        "  covid_data.loc[covid_data['state']==state].plot.scatter(x='cases', y='deaths')"
      ],
      "execution_count": 163,
      "outputs": []
    },
    {
      "cell_type": "code",
      "metadata": {
        "id": "_qsZKYeh-tUH",
        "outputId": "b6292f70-707b-4801-a4b2-630acab4c08f",
        "colab": {
          "base_uri": "https://localhost:8080/",
          "height": 283
        }
      },
      "source": [
        "plot_cases_v_deaths_state('New York')"
      ],
      "execution_count": 164,
      "outputs": [
        {
          "output_type": "display_data",
          "data": {
            "image/png": "[encoded data removed]",
            "text/plain": [
              "<Figure size 432x288 with 1 Axes>"
            ]
          },
          "metadata": {
            "tags": [],
            "needs_background": "light"
          }
        }
      ]
    },
    {
      "cell_type": "code",
      "metadata": {
        "id": "jTa68D5I-vb3",
        "outputId": "cb48dc56-e77e-4587-a532-979210916128",
        "colab": {
          "base_uri": "https://localhost:8080/",
          "height": 1000
        }
      },
      "source": [
        "for state in ['Oregon', 'Illinois', 'Alabama', 'Texas']:\n",
        "    plot_cases_v_deaths_state(state)\n",
        "    plt.title(state)"
      ],
      "execution_count": 165,
      "outputs": [
        {
          "output_type": "display_data",
          "data": {
            "image/png": "[encoded data removed]",
            "text/plain": [
              "<Figure size 432x288 with 1 Axes>"
            ]
          },
          "metadata": {
            "tags": [],
            "needs_background": "light"
          }
        },
        {
          "output_type": "display_data",
          "data": {
            "image/png": "[encoded data removed]",
            "text/plain": [
              "<Figure size 432x288 with 1 Axes>"
            ]
          },
          "metadata": {
            "tags": [],
            "needs_background": "light"
          }
        },
        {
          "output_type": "display_data",
          "data": {
            "image/png": "[encoded data removed]",
            "text/plain": [
              "<Figure size 432x288 with 1 Axes>"
            ]
          },
          "metadata": {
            "tags": [],
            "needs_background": "light"
          }
        },
        {
          "output_type": "display_data",
          "data": {
            "image/png": "[encoded data removed]",
            "text/plain": [
              "<Figure size 432x288 with 1 Axes>"
            ]
          },
          "metadata": {
            "tags": [],
            "needs_background": "light"
          }
        }
      ]
    },
    {
      "cell_type": "code",
      "metadata": {
        "id": "oCUa7q4--98A"
      },
      "source": [
        "grouped_by_state"
      ],
      "execution_count": null,
      "outputs": []
    },
    {
      "cell_type": "code",
      "metadata": {
        "id": "E8aawZ6YAIee"
      },
      "source": [
        "import matplotlib.pyplot as plt"
      ],
      "execution_count": 166,
      "outputs": []
    },
    {
      "cell_type": "code",
      "metadata": {
        "id": "FGQBTbu2ATqZ",
        "outputId": "726ed24f-ab26-42c2-f044-3219c85d7199",
        "colab": {
          "base_uri": "https://localhost:8080/",
          "height": 313
        }
      },
      "source": [
        "\n",
        "states = ['Oregon', 'Illinois', 'Alabama', 'Texas']\n",
        "colors = ['blue', 'red', 'black', 'green']\n",
        "\n",
        "cnt = 0\n",
        "for state in states:\n",
        "  x = grouped_by_state.get_group(state)['cases']\n",
        "  y = grouped_by_state.get_group(state)['deaths']\n",
        "\n",
        "  plt.scatter(x,y, s=50, c=colors[cnt], label=state, alpha=0.2)\n",
        "  plt.xlabel('cases')\n",
        "  plt.ylabel('deaths', fontsize=20)\n",
        "  plt.title(state)\n",
        "  cnt = cnt+1\n",
        "\n",
        "plt.legend()\n",
        "plt.xlim([-10, 200000])\n",
        "plt.ylim([-10, 4000])"
      ],
      "execution_count": 181,
      "outputs": [
        {
          "output_type": "execute_result",
          "data": {
            "text/plain": [
              "(-10.0, 4000.0)"
            ]
          },
          "metadata": {
            "tags": []
          },
          "execution_count": 181
        },
        {
          "output_type": "display_data",
          "data": {
            "image/png": "[encoded data removed]",
            "text/plain": [
              "<Figure size 432x288 with 1 Axes>"
            ]
          },
          "metadata": {
            "tags": [],
            "needs_background": "light"
          }
        }
      ]
    },
    {
      "cell_type": "code",
      "metadata": {
        "id": "S7GtFzQOAlFu"
      },
      "source": [
        "import seaborn as sns"
      ],
      "execution_count": 182,
      "outputs": []
    },
    {
      "cell_type": "code",
      "metadata": {
        "id": "HsYx538XD5d7",
        "outputId": "854c30a4-14b2-48c2-e524-e91c24de1fcf",
        "colab": {
          "base_uri": "https://localhost:8080/",
          "height": 424
        }
      },
      "source": [
        "covid_data.loc[covid_data['state'].isin(['California', 'Alabama'])]"
      ],
      "execution_count": 187,
      "outputs": [
        {
          "output_type": "execute_result",
          "data": {
            "text/html": [
              "<div>\n",
              "<style scoped>\n",
              "    .dataframe tbody tr th:only-of-type {\n",
              "        vertical-align: middle;\n",
              "    }\n",
              "\n",
              "    .dataframe tbody tr th {\n",
              "        vertical-align: top;\n",
              "    }\n",
              "\n",
              "    .dataframe thead th {\n",
              "        text-align: right;\n",
              "    }\n",
              "</style>\n",
              "<table border=\"1\" class=\"dataframe\">\n",
              "  <thead>\n",
              "    <tr style=\"text-align: right;\">\n",
              "      <th></th>\n",
              "      <th>county</th>\n",
              "      <th>state</th>\n",
              "      <th>cases</th>\n",
              "      <th>deaths</th>\n",
              "    </tr>\n",
              "  </thead>\n",
              "  <tbody>\n",
              "    <tr>\n",
              "      <th>0</th>\n",
              "      <td>Autauga</td>\n",
              "      <td>Alabama</td>\n",
              "      <td>7230</td>\n",
              "      <td>113.0</td>\n",
              "    </tr>\n",
              "    <tr>\n",
              "      <th>1</th>\n",
              "      <td>Baldwin</td>\n",
              "      <td>Alabama</td>\n",
              "      <td>21839</td>\n",
              "      <td>313.0</td>\n",
              "    </tr>\n",
              "    <tr>\n",
              "      <th>2</th>\n",
              "      <td>Barbour</td>\n",
              "      <td>Alabama</td>\n",
              "      <td>2346</td>\n",
              "      <td>59.0</td>\n",
              "    </tr>\n",
              "    <tr>\n",
              "      <th>3</th>\n",
              "      <td>Bibb</td>\n",
              "      <td>Alabama</td>\n",
              "      <td>2684</td>\n",
              "      <td>64.0</td>\n",
              "    </tr>\n",
              "    <tr>\n",
              "      <th>4</th>\n",
              "      <td>Blount</td>\n",
              "      <td>Alabama</td>\n",
              "      <td>6944</td>\n",
              "      <td>139.0</td>\n",
              "    </tr>\n",
              "    <tr>\n",
              "      <th>...</th>\n",
              "      <td>...</td>\n",
              "      <td>...</td>\n",
              "      <td>...</td>\n",
              "      <td>...</td>\n",
              "    </tr>\n",
              "    <tr>\n",
              "      <th>240</th>\n",
              "      <td>Tulare</td>\n",
              "      <td>California</td>\n",
              "      <td>49768</td>\n",
              "      <td>849.0</td>\n",
              "    </tr>\n",
              "    <tr>\n",
              "      <th>241</th>\n",
              "      <td>Tuolumne</td>\n",
              "      <td>California</td>\n",
              "      <td>4206</td>\n",
              "      <td>71.0</td>\n",
              "    </tr>\n",
              "    <tr>\n",
              "      <th>242</th>\n",
              "      <td>Ventura</td>\n",
              "      <td>California</td>\n",
              "      <td>81572</td>\n",
              "      <td>1029.0</td>\n",
              "    </tr>\n",
              "    <tr>\n",
              "      <th>243</th>\n",
              "      <td>Yolo</td>\n",
              "      <td>California</td>\n",
              "      <td>14127</td>\n",
              "      <td>212.0</td>\n",
              "    </tr>\n",
              "    <tr>\n",
              "      <th>244</th>\n",
              "      <td>Yuba</td>\n",
              "      <td>California</td>\n",
              "      <td>6464</td>\n",
              "      <td>51.0</td>\n",
              "    </tr>\n",
              "  </tbody>\n",
              "</table>\n",
              "<p>125 rows × 4 columns</p>\n",
              "</div>"
            ],
            "text/plain": [
              "       county       state  cases  deaths\n",
              "0     Autauga     Alabama   7230   113.0\n",
              "1     Baldwin     Alabama  21839   313.0\n",
              "2     Barbour     Alabama   2346    59.0\n",
              "3        Bibb     Alabama   2684    64.0\n",
              "4      Blount     Alabama   6944   139.0\n",
              "..        ...         ...    ...     ...\n",
              "240    Tulare  California  49768   849.0\n",
              "241  Tuolumne  California   4206    71.0\n",
              "242   Ventura  California  81572  1029.0\n",
              "243      Yolo  California  14127   212.0\n",
              "244      Yuba  California   6464    51.0\n",
              "\n",
              "[125 rows x 4 columns]"
            ]
          },
          "metadata": {
            "tags": []
          },
          "execution_count": 187
        }
      ]
    },
    {
      "cell_type": "code",
      "metadata": {
        "id": "_MpcnYx-DmpX",
        "outputId": "9d98fd5d-4915-48ba-f70f-6ade3c64f92b",
        "colab": {
          "base_uri": "https://localhost:8080/",
          "height": 297
        }
      },
      "source": [
        "sub_data = covid_data.loc[covid_data['state'].isin(states)]\n",
        "sns.scatterplot(data=sub_data, x='cases', y='deaths', hue='state', alpha=0.2)"
      ],
      "execution_count": 192,
      "outputs": [
        {
          "output_type": "execute_result",
          "data": {
            "text/plain": [
              "<matplotlib.axes._subplots.AxesSubplot at 0x7f91ddb7e850>"
            ]
          },
          "metadata": {
            "tags": []
          },
          "execution_count": 192
        },
        {
          "output_type": "display_data",
          "data": {
            "image/png": "[encoded data removed]",
            "text/plain": [
              "<Figure size 432x288 with 1 Axes>"
            ]
          },
          "metadata": {
            "tags": [],
            "needs_background": "light"
          }
        }
      ]
    },
    {
      "cell_type": "code",
      "metadata": {
        "id": "a_IrFjLIDyba",
        "outputId": "aeb7ac83-11c3-4f5e-9684-c4343c9401bf",
        "colab": {
          "base_uri": "https://localhost:8080/",
          "height": 297
        }
      },
      "source": [
        "sns.countplot(data=sub_data, x='state')"
      ],
      "execution_count": 193,
      "outputs": [
        {
          "output_type": "execute_result",
          "data": {
            "text/plain": [
              "<matplotlib.axes._subplots.AxesSubplot at 0x7f91cc4b3f50>"
            ]
          },
          "metadata": {
            "tags": []
          },
          "execution_count": 193
        },
        {
          "output_type": "display_data",
          "data": {
            "image/png": "[encoded data removed]",
            "text/plain": [
              "<Figure size 432x288 with 1 Axes>"
            ]
          },
          "metadata": {
            "tags": [],
            "needs_background": "light"
          }
        }
      ]
    },
    {
      "cell_type": "code",
      "metadata": {
        "id": "cndGD8OQE3E7",
        "outputId": "76447972-5e90-4aa3-bd77-ed2aaf0a1113",
        "colab": {
          "base_uri": "https://localhost:8080/"
        }
      },
      "source": [
        "grouped_by_state.get_group(\"Texas\").shape"
      ],
      "execution_count": 197,
      "outputs": [
        {
          "output_type": "execute_result",
          "data": {
            "text/plain": [
              "(254, 4)"
            ]
          },
          "metadata": {
            "tags": []
          },
          "execution_count": 197
        }
      ]
    },
    {
      "cell_type": "code",
      "metadata": {
        "id": "AnY_1vFeFDGP"
      },
      "source": [
        ""
      ],
      "execution_count": null,
      "outputs": []
    }
  ]
}