{
 "cells": [
  {
   "cell_type": "markdown",
   "metadata": {
    "colab_type": "text",
    "id": "view-in-github"
   },
   "source": [
    "<a href=\"https://colab.research.google.com/github/alexgonzl/ssrp_srec_python_workshop_2021/blob/master/ssrp_pandas.ipynb\" target=\"_parent\"><img src=\"https://colab.research.google.com/assets/colab-badge.svg\" alt=\"Open In Colab\"/></a>"
   ]
  },
  {
   "cell_type": "markdown",
   "metadata": {
    "id": "nGcDhOjX_DPm"
   },
   "source": [
    "# SSRP Instructor notebook for pandas section \n",
    "\n",
    "* Date: D4-June 17,2021\n",
    "* pandas docs: https://pandas.pydata.org/docs/\n",
    "\n"
   ]
  },
  {
   "cell_type": "code",
   "execution_count": 35,
   "metadata": {
    "id": "rZ6SkIx__DPp"
   },
   "outputs": [],
   "source": [
    "import pandas as pd"
   ]
  },
  {
   "cell_type": "markdown",
   "metadata": {
    "id": "WGUgUPd6_DPq"
   },
   "source": [
    "Read Covid data into data frame"
   ]
  },
  {
   "cell_type": "code",
   "execution_count": 36,
   "metadata": {
    "id": "2amPRzSV_DPq"
   },
   "outputs": [],
   "source": [
    "covid_live_counties=pd.read_csv('https://raw.githubusercontent.com/nytimes/covid-19-data/master/live/us-counties.csv')"
   ]
  },
  {
   "cell_type": "code",
   "execution_count": null,
   "metadata": {
    "colab": {
     "base_uri": "https://localhost:8080/",
     "height": 423
    },
    "id": "RidhaKAT_DPr",
    "outputId": "3c35cee1-ffa3-4920-ddae-3e0f7136e13c"
   },
   "outputs": [
    {
     "data": {
      "text/html": [
       "<div>\n",
       "<style scoped>\n",
       "    .dataframe tbody tr th:only-of-type {\n",
       "        vertical-align: middle;\n",
       "    }\n",
       "\n",
       "    .dataframe tbody tr th {\n",
       "        vertical-align: top;\n",
       "    }\n",
       "\n",
       "    .dataframe thead th {\n",
       "        text-align: right;\n",
       "    }\n",
       "</style>\n",
       "<table border=\"1\" class=\"dataframe\">\n",
       "  <thead>\n",
       "    <tr style=\"text-align: right;\">\n",
       "      <th></th>\n",
       "      <th>date</th>\n",
       "      <th>county</th>\n",
       "      <th>state</th>\n",
       "      <th>fips</th>\n",
       "      <th>cases</th>\n",
       "      <th>deaths</th>\n",
       "      <th>confirmed_cases</th>\n",
       "      <th>confirmed_deaths</th>\n",
       "      <th>probable_cases</th>\n",
       "      <th>probable_deaths</th>\n",
       "    </tr>\n",
       "  </thead>\n",
       "  <tbody>\n",
       "    <tr>\n",
       "      <th>0</th>\n",
       "      <td>2021-06-07</td>\n",
       "      <td>Autauga</td>\n",
       "      <td>Alabama</td>\n",
       "      <td>1001.0</td>\n",
       "      <td>7206</td>\n",
       "      <td>113.0</td>\n",
       "      <td>6024.0</td>\n",
       "      <td>101.0</td>\n",
       "      <td>1182.0</td>\n",
       "      <td>12.0</td>\n",
       "    </tr>\n",
       "    <tr>\n",
       "      <th>1</th>\n",
       "      <td>2021-06-07</td>\n",
       "      <td>Baldwin</td>\n",
       "      <td>Alabama</td>\n",
       "      <td>1003.0</td>\n",
       "      <td>21724</td>\n",
       "      <td>312.0</td>\n",
       "      <td>15259.0</td>\n",
       "      <td>234.0</td>\n",
       "      <td>6465.0</td>\n",
       "      <td>78.0</td>\n",
       "    </tr>\n",
       "    <tr>\n",
       "      <th>2</th>\n",
       "      <td>2021-06-07</td>\n",
       "      <td>Barbour</td>\n",
       "      <td>Alabama</td>\n",
       "      <td>1005.0</td>\n",
       "      <td>2343</td>\n",
       "      <td>59.0</td>\n",
       "      <td>1306.0</td>\n",
       "      <td>41.0</td>\n",
       "      <td>1037.0</td>\n",
       "      <td>18.0</td>\n",
       "    </tr>\n",
       "    <tr>\n",
       "      <th>3</th>\n",
       "      <td>2021-06-07</td>\n",
       "      <td>Bibb</td>\n",
       "      <td>Alabama</td>\n",
       "      <td>1007.0</td>\n",
       "      <td>2667</td>\n",
       "      <td>64.0</td>\n",
       "      <td>2139.0</td>\n",
       "      <td>40.0</td>\n",
       "      <td>528.0</td>\n",
       "      <td>24.0</td>\n",
       "    </tr>\n",
       "    <tr>\n",
       "      <th>4</th>\n",
       "      <td>2021-06-07</td>\n",
       "      <td>Blount</td>\n",
       "      <td>Alabama</td>\n",
       "      <td>1009.0</td>\n",
       "      <td>6916</td>\n",
       "      <td>139.0</td>\n",
       "      <td>5283.0</td>\n",
       "      <td>115.0</td>\n",
       "      <td>1633.0</td>\n",
       "      <td>24.0</td>\n",
       "    </tr>\n",
       "    <tr>\n",
       "      <th>...</th>\n",
       "      <td>...</td>\n",
       "      <td>...</td>\n",
       "      <td>...</td>\n",
       "      <td>...</td>\n",
       "      <td>...</td>\n",
       "      <td>...</td>\n",
       "      <td>...</td>\n",
       "      <td>...</td>\n",
       "      <td>...</td>\n",
       "      <td>...</td>\n",
       "    </tr>\n",
       "    <tr>\n",
       "      <th>3243</th>\n",
       "      <td>2021-06-07</td>\n",
       "      <td>Sweetwater</td>\n",
       "      <td>Wyoming</td>\n",
       "      <td>56037.0</td>\n",
       "      <td>4597</td>\n",
       "      <td>39.0</td>\n",
       "      <td>4381.0</td>\n",
       "      <td>NaN</td>\n",
       "      <td>216.0</td>\n",
       "      <td>NaN</td>\n",
       "    </tr>\n",
       "    <tr>\n",
       "      <th>3244</th>\n",
       "      <td>2021-06-07</td>\n",
       "      <td>Teton</td>\n",
       "      <td>Wyoming</td>\n",
       "      <td>56039.0</td>\n",
       "      <td>3789</td>\n",
       "      <td>9.0</td>\n",
       "      <td>3702.0</td>\n",
       "      <td>NaN</td>\n",
       "      <td>87.0</td>\n",
       "      <td>NaN</td>\n",
       "    </tr>\n",
       "    <tr>\n",
       "      <th>3245</th>\n",
       "      <td>2021-06-07</td>\n",
       "      <td>Uinta</td>\n",
       "      <td>Wyoming</td>\n",
       "      <td>56041.0</td>\n",
       "      <td>2290</td>\n",
       "      <td>13.0</td>\n",
       "      <td>1958.0</td>\n",
       "      <td>NaN</td>\n",
       "      <td>332.0</td>\n",
       "      <td>NaN</td>\n",
       "    </tr>\n",
       "    <tr>\n",
       "      <th>3246</th>\n",
       "      <td>2021-06-07</td>\n",
       "      <td>Washakie</td>\n",
       "      <td>Wyoming</td>\n",
       "      <td>56043.0</td>\n",
       "      <td>924</td>\n",
       "      <td>26.0</td>\n",
       "      <td>724.0</td>\n",
       "      <td>NaN</td>\n",
       "      <td>200.0</td>\n",
       "      <td>NaN</td>\n",
       "    </tr>\n",
       "    <tr>\n",
       "      <th>3247</th>\n",
       "      <td>2021-06-07</td>\n",
       "      <td>Weston</td>\n",
       "      <td>Wyoming</td>\n",
       "      <td>56045.0</td>\n",
       "      <td>655</td>\n",
       "      <td>6.0</td>\n",
       "      <td>550.0</td>\n",
       "      <td>NaN</td>\n",
       "      <td>105.0</td>\n",
       "      <td>NaN</td>\n",
       "    </tr>\n",
       "  </tbody>\n",
       "</table>\n",
       "<p>3248 rows × 10 columns</p>\n",
       "</div>"
      ],
      "text/plain": [
       "            date      county  ... probable_cases  probable_deaths\n",
       "0     2021-06-07     Autauga  ...         1182.0             12.0\n",
       "1     2021-06-07     Baldwin  ...         6465.0             78.0\n",
       "2     2021-06-07     Barbour  ...         1037.0             18.0\n",
       "3     2021-06-07        Bibb  ...          528.0             24.0\n",
       "4     2021-06-07      Blount  ...         1633.0             24.0\n",
       "...          ...         ...  ...            ...              ...\n",
       "3243  2021-06-07  Sweetwater  ...          216.0              NaN\n",
       "3244  2021-06-07       Teton  ...           87.0              NaN\n",
       "3245  2021-06-07       Uinta  ...          332.0              NaN\n",
       "3246  2021-06-07    Washakie  ...          200.0              NaN\n",
       "3247  2021-06-07      Weston  ...          105.0              NaN\n",
       "\n",
       "[3248 rows x 10 columns]"
      ]
     },
     "execution_count": 214,
     "metadata": {
      "tags": []
     },
     "output_type": "execute_result"
    }
   ],
   "source": [
    "covid_live_counties"
   ]
  },
  {
   "cell_type": "markdown",
   "metadata": {
    "id": "vAYAh0nf_DPs"
   },
   "source": [
    "We've got 3246 observations (rows) and 10 features per observations"
   ]
  },
  {
   "cell_type": "markdown",
   "metadata": {
    "id": "POEpRLp3_DPt"
   },
   "source": [
    "### Slicing columns"
   ]
  },
  {
   "cell_type": "markdown",
   "metadata": {
    "id": "60fpFZa-_DPt"
   },
   "source": [
    "We can select a subset of features. For example, if we only want county, state, cases, confirmed cases. "
   ]
  },
  {
   "cell_type": "code",
   "execution_count": null,
   "metadata": {
    "colab": {
     "base_uri": "https://localhost:8080/",
     "height": 423
    },
    "id": "T8xA4lNV_DPu",
    "outputId": "fb3ddb09-cf6b-47e2-e344-56c46adc8f7a"
   },
   "outputs": [
    {
     "data": {
      "text/html": [
       "<div>\n",
       "<style scoped>\n",
       "    .dataframe tbody tr th:only-of-type {\n",
       "        vertical-align: middle;\n",
       "    }\n",
       "\n",
       "    .dataframe tbody tr th {\n",
       "        vertical-align: top;\n",
       "    }\n",
       "\n",
       "    .dataframe thead th {\n",
       "        text-align: right;\n",
       "    }\n",
       "</style>\n",
       "<table border=\"1\" class=\"dataframe\">\n",
       "  <thead>\n",
       "    <tr style=\"text-align: right;\">\n",
       "      <th></th>\n",
       "      <th>county</th>\n",
       "      <th>state</th>\n",
       "      <th>cases</th>\n",
       "      <th>confirmed_cases</th>\n",
       "    </tr>\n",
       "  </thead>\n",
       "  <tbody>\n",
       "    <tr>\n",
       "      <th>0</th>\n",
       "      <td>Autauga</td>\n",
       "      <td>Alabama</td>\n",
       "      <td>7206</td>\n",
       "      <td>6024.0</td>\n",
       "    </tr>\n",
       "    <tr>\n",
       "      <th>1</th>\n",
       "      <td>Baldwin</td>\n",
       "      <td>Alabama</td>\n",
       "      <td>21724</td>\n",
       "      <td>15259.0</td>\n",
       "    </tr>\n",
       "    <tr>\n",
       "      <th>2</th>\n",
       "      <td>Barbour</td>\n",
       "      <td>Alabama</td>\n",
       "      <td>2343</td>\n",
       "      <td>1306.0</td>\n",
       "    </tr>\n",
       "    <tr>\n",
       "      <th>3</th>\n",
       "      <td>Bibb</td>\n",
       "      <td>Alabama</td>\n",
       "      <td>2667</td>\n",
       "      <td>2139.0</td>\n",
       "    </tr>\n",
       "    <tr>\n",
       "      <th>4</th>\n",
       "      <td>Blount</td>\n",
       "      <td>Alabama</td>\n",
       "      <td>6916</td>\n",
       "      <td>5283.0</td>\n",
       "    </tr>\n",
       "    <tr>\n",
       "      <th>...</th>\n",
       "      <td>...</td>\n",
       "      <td>...</td>\n",
       "      <td>...</td>\n",
       "      <td>...</td>\n",
       "    </tr>\n",
       "    <tr>\n",
       "      <th>3243</th>\n",
       "      <td>Sweetwater</td>\n",
       "      <td>Wyoming</td>\n",
       "      <td>4597</td>\n",
       "      <td>4381.0</td>\n",
       "    </tr>\n",
       "    <tr>\n",
       "      <th>3244</th>\n",
       "      <td>Teton</td>\n",
       "      <td>Wyoming</td>\n",
       "      <td>3789</td>\n",
       "      <td>3702.0</td>\n",
       "    </tr>\n",
       "    <tr>\n",
       "      <th>3245</th>\n",
       "      <td>Uinta</td>\n",
       "      <td>Wyoming</td>\n",
       "      <td>2290</td>\n",
       "      <td>1958.0</td>\n",
       "    </tr>\n",
       "    <tr>\n",
       "      <th>3246</th>\n",
       "      <td>Washakie</td>\n",
       "      <td>Wyoming</td>\n",
       "      <td>924</td>\n",
       "      <td>724.0</td>\n",
       "    </tr>\n",
       "    <tr>\n",
       "      <th>3247</th>\n",
       "      <td>Weston</td>\n",
       "      <td>Wyoming</td>\n",
       "      <td>655</td>\n",
       "      <td>550.0</td>\n",
       "    </tr>\n",
       "  </tbody>\n",
       "</table>\n",
       "<p>3248 rows × 4 columns</p>\n",
       "</div>"
      ],
      "text/plain": [
       "          county    state  cases  confirmed_cases\n",
       "0        Autauga  Alabama   7206           6024.0\n",
       "1        Baldwin  Alabama  21724          15259.0\n",
       "2        Barbour  Alabama   2343           1306.0\n",
       "3           Bibb  Alabama   2667           2139.0\n",
       "4         Blount  Alabama   6916           5283.0\n",
       "...          ...      ...    ...              ...\n",
       "3243  Sweetwater  Wyoming   4597           4381.0\n",
       "3244       Teton  Wyoming   3789           3702.0\n",
       "3245       Uinta  Wyoming   2290           1958.0\n",
       "3246    Washakie  Wyoming    924            724.0\n",
       "3247      Weston  Wyoming    655            550.0\n",
       "\n",
       "[3248 rows x 4 columns]"
      ]
     },
     "execution_count": 215,
     "metadata": {
      "tags": []
     },
     "output_type": "execute_result"
    }
   ],
   "source": [
    "covid_live_counties[['county','state','cases','confirmed_cases']]"
   ]
  },
  {
   "cell_type": "markdown",
   "metadata": {
    "id": "JTTkT9Gb_DPw"
   },
   "source": [
    "It looks like what we want so we store this result into a variable"
   ]
  },
  {
   "cell_type": "code",
   "execution_count": null,
   "metadata": {
    "collapsed": true,
    "id": "gZHEbNaO_DPw",
    "jupyter": {
     "outputs_hidden": true
    }
   },
   "outputs": [],
   "source": [
    "covid_live_counties_simple = covid_live_counties[['county','state','cases','confirmed_cases','deaths']]"
   ]
  },
  {
   "cell_type": "markdown",
   "metadata": {
    "id": "sK8FOPzi_DPx"
   },
   "source": [
    "### Slicing rows"
   ]
  },
  {
   "cell_type": "markdown",
   "metadata": {
    "id": "v5LtEj07_DPx"
   },
   "source": [
    "By row number with iloc"
   ]
  },
  {
   "cell_type": "code",
   "execution_count": null,
   "metadata": {
    "colab": {
     "base_uri": "https://localhost:8080/",
     "height": 206
    },
    "id": "efB1nT2e_DPx",
    "outputId": "5470867c-d992-48c7-c75d-ee4ed6a98a75"
   },
   "outputs": [
    {
     "data": {
      "text/html": [
       "<div>\n",
       "<style scoped>\n",
       "    .dataframe tbody tr th:only-of-type {\n",
       "        vertical-align: middle;\n",
       "    }\n",
       "\n",
       "    .dataframe tbody tr th {\n",
       "        vertical-align: top;\n",
       "    }\n",
       "\n",
       "    .dataframe thead th {\n",
       "        text-align: right;\n",
       "    }\n",
       "</style>\n",
       "<table border=\"1\" class=\"dataframe\">\n",
       "  <thead>\n",
       "    <tr style=\"text-align: right;\">\n",
       "      <th></th>\n",
       "      <th>county</th>\n",
       "      <th>state</th>\n",
       "      <th>cases</th>\n",
       "      <th>confirmed_cases</th>\n",
       "      <th>deaths</th>\n",
       "    </tr>\n",
       "  </thead>\n",
       "  <tbody>\n",
       "    <tr>\n",
       "      <th>5</th>\n",
       "      <td>Bullock</td>\n",
       "      <td>Alabama</td>\n",
       "      <td>1240</td>\n",
       "      <td>1093.0</td>\n",
       "      <td>42.0</td>\n",
       "    </tr>\n",
       "    <tr>\n",
       "      <th>6</th>\n",
       "      <td>Butler</td>\n",
       "      <td>Alabama</td>\n",
       "      <td>2225</td>\n",
       "      <td>2003.0</td>\n",
       "      <td>71.0</td>\n",
       "    </tr>\n",
       "    <tr>\n",
       "      <th>7</th>\n",
       "      <td>Calhoun</td>\n",
       "      <td>Alabama</td>\n",
       "      <td>14681</td>\n",
       "      <td>10959.0</td>\n",
       "      <td>325.0</td>\n",
       "    </tr>\n",
       "    <tr>\n",
       "      <th>8</th>\n",
       "      <td>Chambers</td>\n",
       "      <td>Alabama</td>\n",
       "      <td>3704</td>\n",
       "      <td>1830.0</td>\n",
       "      <td>124.0</td>\n",
       "    </tr>\n",
       "    <tr>\n",
       "      <th>9</th>\n",
       "      <td>Cherokee</td>\n",
       "      <td>Alabama</td>\n",
       "      <td>1869</td>\n",
       "      <td>1187.0</td>\n",
       "      <td>45.0</td>\n",
       "    </tr>\n",
       "  </tbody>\n",
       "</table>\n",
       "</div>"
      ],
      "text/plain": [
       "     county    state  cases  confirmed_cases  deaths\n",
       "5   Bullock  Alabama   1240           1093.0    42.0\n",
       "6    Butler  Alabama   2225           2003.0    71.0\n",
       "7   Calhoun  Alabama  14681          10959.0   325.0\n",
       "8  Chambers  Alabama   3704           1830.0   124.0\n",
       "9  Cherokee  Alabama   1869           1187.0    45.0"
      ]
     },
     "execution_count": 217,
     "metadata": {
      "tags": []
     },
     "output_type": "execute_result"
    }
   ],
   "source": [
    "covid_live_counties_simple.iloc[5:10] # equivalent to covid_live_counties_simple.iloc[5:10,:]"
   ]
  },
  {
   "cell_type": "markdown",
   "metadata": {
    "id": "fSQz0COO_DPy"
   },
   "source": [
    "Using a conditional statement with loc. For example, let's select california"
   ]
  },
  {
   "cell_type": "code",
   "execution_count": null,
   "metadata": {
    "colab": {
     "base_uri": "https://localhost:8080/"
    },
    "id": "lm-73uMm_DPy",
    "outputId": "fe169344-a551-4d89-bff7-9af896913dbc"
   },
   "outputs": [
    {
     "data": {
      "text/plain": [
       "0       Alabama\n",
       "1       Alabama\n",
       "2       Alabama\n",
       "3       Alabama\n",
       "4       Alabama\n",
       "         ...   \n",
       "3243    Wyoming\n",
       "3244    Wyoming\n",
       "3245    Wyoming\n",
       "3246    Wyoming\n",
       "3247    Wyoming\n",
       "Name: state, Length: 3248, dtype: object"
      ]
     },
     "execution_count": 218,
     "metadata": {
      "tags": []
     },
     "output_type": "execute_result"
    }
   ],
   "source": [
    "covid_live_counties_simple['state']"
   ]
  },
  {
   "cell_type": "markdown",
   "metadata": {
    "id": "kKZHbShg_DPz"
   },
   "source": [
    "Selecting a column returns a Series. We can test entry by entry whether a condition is satisfied"
   ]
  },
  {
   "cell_type": "code",
   "execution_count": null,
   "metadata": {
    "colab": {
     "base_uri": "https://localhost:8080/"
    },
    "id": "vbLZPvMg_DPz",
    "outputId": "f0e39283-5db1-4c4d-b167-a26de496a959"
   },
   "outputs": [
    {
     "data": {
      "text/plain": [
       "0       False\n",
       "1       False\n",
       "2       False\n",
       "3       False\n",
       "4       False\n",
       "        ...  \n",
       "3243    False\n",
       "3244    False\n",
       "3245    False\n",
       "3246    False\n",
       "3247    False\n",
       "Name: state, Length: 3248, dtype: bool"
      ]
     },
     "execution_count": 219,
     "metadata": {
      "tags": []
     },
     "output_type": "execute_result"
    }
   ],
   "source": [
    "covid_live_counties_simple['state']=='California'"
   ]
  },
  {
   "cell_type": "markdown",
   "metadata": {
    "id": "l-xpmlFS_32x"
   },
   "source": [
    "Another way of doing the above is with the '.' selection method for columns. With the benefit that columns can be autocompleted in notebook environments."
   ]
  },
  {
   "cell_type": "code",
   "execution_count": null,
   "metadata": {
    "colab": {
     "base_uri": "https://localhost:8080/"
    },
    "id": "_WCL8xCt_zfw",
    "outputId": "1b9a71d6-7773-4aac-a470-a3c9260982ab"
   },
   "outputs": [
    {
     "data": {
      "text/plain": [
       "0       False\n",
       "1       False\n",
       "2       False\n",
       "3       False\n",
       "4       False\n",
       "        ...  \n",
       "3243    False\n",
       "3244    False\n",
       "3245    False\n",
       "3246    False\n",
       "3247    False\n",
       "Name: state, Length: 3248, dtype: bool"
      ]
     },
     "execution_count": 220,
     "metadata": {
      "tags": []
     },
     "output_type": "execute_result"
    }
   ],
   "source": [
    "covid_live_counties_simple.state=='California'"
   ]
  },
  {
   "cell_type": "markdown",
   "metadata": {
    "id": "P__k7XPfAmJk"
   },
   "source": [
    "Below we can make sure that both methods result in the same output by comparing the results, and using the `.all()` method for pandas series."
   ]
  },
  {
   "cell_type": "code",
   "execution_count": null,
   "metadata": {
    "colab": {
     "base_uri": "https://localhost:8080/"
    },
    "id": "4n0E5xNZAG8L",
    "outputId": "59affde8-231b-4cba-e586-f6d32dc2fd4f"
   },
   "outputs": [
    {
     "data": {
      "text/plain": [
       "True"
      ]
     },
     "execution_count": 221,
     "metadata": {
      "tags": []
     },
     "output_type": "execute_result"
    }
   ],
   "source": [
    "((covid_live_counties_simple.state=='California') == (covid_live_counties_simple['state']=='California')).all()"
   ]
  },
  {
   "cell_type": "markdown",
   "metadata": {
    "id": "HSsWrkGD_DP0"
   },
   "source": [
    "This Series of booleans is appropriate for slicing with `.loc`"
   ]
  },
  {
   "cell_type": "code",
   "execution_count": null,
   "metadata": {
    "colab": {
     "base_uri": "https://localhost:8080/",
     "height": 1000
    },
    "id": "UH38_e1f_DP0",
    "outputId": "fdeb5785-b928-4809-93a7-a94cb76c79be"
   },
   "outputs": [
    {
     "data": {
      "text/html": [
       "<div>\n",
       "<style scoped>\n",
       "    .dataframe tbody tr th:only-of-type {\n",
       "        vertical-align: middle;\n",
       "    }\n",
       "\n",
       "    .dataframe tbody tr th {\n",
       "        vertical-align: top;\n",
       "    }\n",
       "\n",
       "    .dataframe thead th {\n",
       "        text-align: right;\n",
       "    }\n",
       "</style>\n",
       "<table border=\"1\" class=\"dataframe\">\n",
       "  <thead>\n",
       "    <tr style=\"text-align: right;\">\n",
       "      <th></th>\n",
       "      <th>county</th>\n",
       "      <th>state</th>\n",
       "      <th>cases</th>\n",
       "      <th>confirmed_cases</th>\n",
       "      <th>deaths</th>\n",
       "    </tr>\n",
       "  </thead>\n",
       "  <tbody>\n",
       "    <tr>\n",
       "      <th>186</th>\n",
       "      <td>Alameda</td>\n",
       "      <td>California</td>\n",
       "      <td>89168</td>\n",
       "      <td>89168.0</td>\n",
       "      <td>1702.0</td>\n",
       "    </tr>\n",
       "    <tr>\n",
       "      <th>187</th>\n",
       "      <td>Alpine</td>\n",
       "      <td>California</td>\n",
       "      <td>89</td>\n",
       "      <td>88.0</td>\n",
       "      <td>0.0</td>\n",
       "    </tr>\n",
       "    <tr>\n",
       "      <th>188</th>\n",
       "      <td>Amador</td>\n",
       "      <td>California</td>\n",
       "      <td>3695</td>\n",
       "      <td>3695.0</td>\n",
       "      <td>47.0</td>\n",
       "    </tr>\n",
       "    <tr>\n",
       "      <th>189</th>\n",
       "      <td>Butte</td>\n",
       "      <td>California</td>\n",
       "      <td>12527</td>\n",
       "      <td>12527.0</td>\n",
       "      <td>194.0</td>\n",
       "    </tr>\n",
       "    <tr>\n",
       "      <th>190</th>\n",
       "      <td>Calaveras</td>\n",
       "      <td>California</td>\n",
       "      <td>2193</td>\n",
       "      <td>2181.0</td>\n",
       "      <td>56.0</td>\n",
       "    </tr>\n",
       "    <tr>\n",
       "      <th>191</th>\n",
       "      <td>Colusa</td>\n",
       "      <td>California</td>\n",
       "      <td>2272</td>\n",
       "      <td>1959.0</td>\n",
       "      <td>18.0</td>\n",
       "    </tr>\n",
       "    <tr>\n",
       "      <th>192</th>\n",
       "      <td>Contra Costa</td>\n",
       "      <td>California</td>\n",
       "      <td>70003</td>\n",
       "      <td>70003.0</td>\n",
       "      <td>817.0</td>\n",
       "    </tr>\n",
       "    <tr>\n",
       "      <th>193</th>\n",
       "      <td>Del Norte</td>\n",
       "      <td>California</td>\n",
       "      <td>1441</td>\n",
       "      <td>1441.0</td>\n",
       "      <td>8.0</td>\n",
       "    </tr>\n",
       "    <tr>\n",
       "      <th>194</th>\n",
       "      <td>El Dorado</td>\n",
       "      <td>California</td>\n",
       "      <td>10315</td>\n",
       "      <td>10294.0</td>\n",
       "      <td>115.0</td>\n",
       "    </tr>\n",
       "    <tr>\n",
       "      <th>195</th>\n",
       "      <td>Fresno</td>\n",
       "      <td>California</td>\n",
       "      <td>102642</td>\n",
       "      <td>102642.0</td>\n",
       "      <td>1717.0</td>\n",
       "    </tr>\n",
       "    <tr>\n",
       "      <th>196</th>\n",
       "      <td>Glenn</td>\n",
       "      <td>California</td>\n",
       "      <td>2942</td>\n",
       "      <td>2423.0</td>\n",
       "      <td>27.0</td>\n",
       "    </tr>\n",
       "    <tr>\n",
       "      <th>197</th>\n",
       "      <td>Humboldt</td>\n",
       "      <td>California</td>\n",
       "      <td>4382</td>\n",
       "      <td>4382.0</td>\n",
       "      <td>46.0</td>\n",
       "    </tr>\n",
       "    <tr>\n",
       "      <th>198</th>\n",
       "      <td>Imperial</td>\n",
       "      <td>California</td>\n",
       "      <td>28762</td>\n",
       "      <td>28762.0</td>\n",
       "      <td>738.0</td>\n",
       "    </tr>\n",
       "    <tr>\n",
       "      <th>199</th>\n",
       "      <td>Inyo</td>\n",
       "      <td>California</td>\n",
       "      <td>1432</td>\n",
       "      <td>1404.0</td>\n",
       "      <td>38.0</td>\n",
       "    </tr>\n",
       "    <tr>\n",
       "      <th>200</th>\n",
       "      <td>Kern</td>\n",
       "      <td>California</td>\n",
       "      <td>110395</td>\n",
       "      <td>110395.0</td>\n",
       "      <td>1398.0</td>\n",
       "    </tr>\n",
       "    <tr>\n",
       "      <th>201</th>\n",
       "      <td>Kings</td>\n",
       "      <td>California</td>\n",
       "      <td>23124</td>\n",
       "      <td>23124.0</td>\n",
       "      <td>247.0</td>\n",
       "    </tr>\n",
       "    <tr>\n",
       "      <th>202</th>\n",
       "      <td>Lake</td>\n",
       "      <td>California</td>\n",
       "      <td>3535</td>\n",
       "      <td>3535.0</td>\n",
       "      <td>45.0</td>\n",
       "    </tr>\n",
       "    <tr>\n",
       "      <th>203</th>\n",
       "      <td>Lassen</td>\n",
       "      <td>California</td>\n",
       "      <td>5748</td>\n",
       "      <td>5748.0</td>\n",
       "      <td>24.0</td>\n",
       "    </tr>\n",
       "    <tr>\n",
       "      <th>204</th>\n",
       "      <td>Los Angeles</td>\n",
       "      <td>California</td>\n",
       "      <td>1245788</td>\n",
       "      <td>1245120.0</td>\n",
       "      <td>24410.0</td>\n",
       "    </tr>\n",
       "    <tr>\n",
       "      <th>205</th>\n",
       "      <td>Madera</td>\n",
       "      <td>California</td>\n",
       "      <td>16567</td>\n",
       "      <td>16567.0</td>\n",
       "      <td>245.0</td>\n",
       "    </tr>\n",
       "    <tr>\n",
       "      <th>206</th>\n",
       "      <td>Marin</td>\n",
       "      <td>California</td>\n",
       "      <td>14106</td>\n",
       "      <td>14106.0</td>\n",
       "      <td>229.0</td>\n",
       "    </tr>\n",
       "    <tr>\n",
       "      <th>207</th>\n",
       "      <td>Mariposa</td>\n",
       "      <td>California</td>\n",
       "      <td>461</td>\n",
       "      <td>461.0</td>\n",
       "      <td>7.0</td>\n",
       "    </tr>\n",
       "    <tr>\n",
       "      <th>208</th>\n",
       "      <td>Mendocino</td>\n",
       "      <td>California</td>\n",
       "      <td>4239</td>\n",
       "      <td>4239.0</td>\n",
       "      <td>50.0</td>\n",
       "    </tr>\n",
       "    <tr>\n",
       "      <th>209</th>\n",
       "      <td>Merced</td>\n",
       "      <td>California</td>\n",
       "      <td>32215</td>\n",
       "      <td>32215.0</td>\n",
       "      <td>473.0</td>\n",
       "    </tr>\n",
       "    <tr>\n",
       "      <th>210</th>\n",
       "      <td>Modoc</td>\n",
       "      <td>California</td>\n",
       "      <td>375</td>\n",
       "      <td>375.0</td>\n",
       "      <td>3.0</td>\n",
       "    </tr>\n",
       "    <tr>\n",
       "      <th>211</th>\n",
       "      <td>Mono</td>\n",
       "      <td>California</td>\n",
       "      <td>1294</td>\n",
       "      <td>1275.0</td>\n",
       "      <td>4.0</td>\n",
       "    </tr>\n",
       "    <tr>\n",
       "      <th>212</th>\n",
       "      <td>Monterey</td>\n",
       "      <td>California</td>\n",
       "      <td>43774</td>\n",
       "      <td>43774.0</td>\n",
       "      <td>419.0</td>\n",
       "    </tr>\n",
       "    <tr>\n",
       "      <th>213</th>\n",
       "      <td>Napa</td>\n",
       "      <td>California</td>\n",
       "      <td>9964</td>\n",
       "      <td>9964.0</td>\n",
       "      <td>80.0</td>\n",
       "    </tr>\n",
       "    <tr>\n",
       "      <th>214</th>\n",
       "      <td>Nevada</td>\n",
       "      <td>California</td>\n",
       "      <td>4854</td>\n",
       "      <td>4854.0</td>\n",
       "      <td>75.0</td>\n",
       "    </tr>\n",
       "    <tr>\n",
       "      <th>215</th>\n",
       "      <td>Orange</td>\n",
       "      <td>California</td>\n",
       "      <td>272447</td>\n",
       "      <td>255473.0</td>\n",
       "      <td>5083.0</td>\n",
       "    </tr>\n",
       "    <tr>\n",
       "      <th>216</th>\n",
       "      <td>Placer</td>\n",
       "      <td>California</td>\n",
       "      <td>23196</td>\n",
       "      <td>23196.0</td>\n",
       "      <td>297.0</td>\n",
       "    </tr>\n",
       "    <tr>\n",
       "      <th>217</th>\n",
       "      <td>Plumas</td>\n",
       "      <td>California</td>\n",
       "      <td>733</td>\n",
       "      <td>692.0</td>\n",
       "      <td>6.0</td>\n",
       "    </tr>\n",
       "    <tr>\n",
       "      <th>218</th>\n",
       "      <td>Riverside</td>\n",
       "      <td>California</td>\n",
       "      <td>301013</td>\n",
       "      <td>301013.0</td>\n",
       "      <td>4618.0</td>\n",
       "    </tr>\n",
       "    <tr>\n",
       "      <th>219</th>\n",
       "      <td>Sacramento</td>\n",
       "      <td>California</td>\n",
       "      <td>106960</td>\n",
       "      <td>106960.0</td>\n",
       "      <td>1716.0</td>\n",
       "    </tr>\n",
       "    <tr>\n",
       "      <th>220</th>\n",
       "      <td>San Benito</td>\n",
       "      <td>California</td>\n",
       "      <td>6074</td>\n",
       "      <td>6074.0</td>\n",
       "      <td>63.0</td>\n",
       "    </tr>\n",
       "    <tr>\n",
       "      <th>221</th>\n",
       "      <td>San Bernardino</td>\n",
       "      <td>California</td>\n",
       "      <td>298697</td>\n",
       "      <td>298697.0</td>\n",
       "      <td>4773.0</td>\n",
       "    </tr>\n",
       "    <tr>\n",
       "      <th>222</th>\n",
       "      <td>San Diego</td>\n",
       "      <td>California</td>\n",
       "      <td>280806</td>\n",
       "      <td>280806.0</td>\n",
       "      <td>3764.0</td>\n",
       "    </tr>\n",
       "    <tr>\n",
       "      <th>223</th>\n",
       "      <td>San Francisco</td>\n",
       "      <td>California</td>\n",
       "      <td>37121</td>\n",
       "      <td>37121.0</td>\n",
       "      <td>552.0</td>\n",
       "    </tr>\n",
       "    <tr>\n",
       "      <th>224</th>\n",
       "      <td>San Joaquin</td>\n",
       "      <td>California</td>\n",
       "      <td>74161</td>\n",
       "      <td>74161.0</td>\n",
       "      <td>1423.0</td>\n",
       "    </tr>\n",
       "    <tr>\n",
       "      <th>225</th>\n",
       "      <td>San Luis Obispo</td>\n",
       "      <td>California</td>\n",
       "      <td>21369</td>\n",
       "      <td>21369.0</td>\n",
       "      <td>261.0</td>\n",
       "    </tr>\n",
       "    <tr>\n",
       "      <th>226</th>\n",
       "      <td>San Mateo</td>\n",
       "      <td>California</td>\n",
       "      <td>42457</td>\n",
       "      <td>42457.0</td>\n",
       "      <td>664.0</td>\n",
       "    </tr>\n",
       "    <tr>\n",
       "      <th>227</th>\n",
       "      <td>Santa Barbara</td>\n",
       "      <td>California</td>\n",
       "      <td>34541</td>\n",
       "      <td>34541.0</td>\n",
       "      <td>459.0</td>\n",
       "    </tr>\n",
       "    <tr>\n",
       "      <th>228</th>\n",
       "      <td>Santa Clara</td>\n",
       "      <td>California</td>\n",
       "      <td>119711</td>\n",
       "      <td>119711.0</td>\n",
       "      <td>2156.0</td>\n",
       "    </tr>\n",
       "    <tr>\n",
       "      <th>229</th>\n",
       "      <td>Santa Cruz</td>\n",
       "      <td>California</td>\n",
       "      <td>16200</td>\n",
       "      <td>16200.0</td>\n",
       "      <td>208.0</td>\n",
       "    </tr>\n",
       "    <tr>\n",
       "      <th>230</th>\n",
       "      <td>Shasta</td>\n",
       "      <td>California</td>\n",
       "      <td>12478</td>\n",
       "      <td>12478.0</td>\n",
       "      <td>230.0</td>\n",
       "    </tr>\n",
       "    <tr>\n",
       "      <th>231</th>\n",
       "      <td>Sierra</td>\n",
       "      <td>California</td>\n",
       "      <td>55</td>\n",
       "      <td>55.0</td>\n",
       "      <td>0.0</td>\n",
       "    </tr>\n",
       "    <tr>\n",
       "      <th>232</th>\n",
       "      <td>Siskiyou</td>\n",
       "      <td>California</td>\n",
       "      <td>2379</td>\n",
       "      <td>2379.0</td>\n",
       "      <td>33.0</td>\n",
       "    </tr>\n",
       "    <tr>\n",
       "      <th>233</th>\n",
       "      <td>Solano</td>\n",
       "      <td>California</td>\n",
       "      <td>33496</td>\n",
       "      <td>33496.0</td>\n",
       "      <td>258.0</td>\n",
       "    </tr>\n",
       "    <tr>\n",
       "      <th>234</th>\n",
       "      <td>Sonoma</td>\n",
       "      <td>California</td>\n",
       "      <td>30493</td>\n",
       "      <td>30493.0</td>\n",
       "      <td>323.0</td>\n",
       "    </tr>\n",
       "    <tr>\n",
       "      <th>235</th>\n",
       "      <td>Stanislaus</td>\n",
       "      <td>California</td>\n",
       "      <td>63041</td>\n",
       "      <td>56486.0</td>\n",
       "      <td>1068.0</td>\n",
       "    </tr>\n",
       "    <tr>\n",
       "      <th>236</th>\n",
       "      <td>Sutter</td>\n",
       "      <td>California</td>\n",
       "      <td>9573</td>\n",
       "      <td>9567.0</td>\n",
       "      <td>111.0</td>\n",
       "    </tr>\n",
       "    <tr>\n",
       "      <th>237</th>\n",
       "      <td>Tehama</td>\n",
       "      <td>California</td>\n",
       "      <td>5092</td>\n",
       "      <td>5092.0</td>\n",
       "      <td>63.0</td>\n",
       "    </tr>\n",
       "    <tr>\n",
       "      <th>238</th>\n",
       "      <td>Trinity</td>\n",
       "      <td>California</td>\n",
       "      <td>329</td>\n",
       "      <td>329.0</td>\n",
       "      <td>3.0</td>\n",
       "    </tr>\n",
       "    <tr>\n",
       "      <th>239</th>\n",
       "      <td>Tulare</td>\n",
       "      <td>California</td>\n",
       "      <td>49936</td>\n",
       "      <td>49832.0</td>\n",
       "      <td>848.0</td>\n",
       "    </tr>\n",
       "    <tr>\n",
       "      <th>240</th>\n",
       "      <td>Tuolumne</td>\n",
       "      <td>California</td>\n",
       "      <td>4177</td>\n",
       "      <td>4177.0</td>\n",
       "      <td>69.0</td>\n",
       "    </tr>\n",
       "    <tr>\n",
       "      <th>241</th>\n",
       "      <td>Ventura</td>\n",
       "      <td>California</td>\n",
       "      <td>81507</td>\n",
       "      <td>81507.0</td>\n",
       "      <td>1025.0</td>\n",
       "    </tr>\n",
       "    <tr>\n",
       "      <th>242</th>\n",
       "      <td>Yolo</td>\n",
       "      <td>California</td>\n",
       "      <td>14089</td>\n",
       "      <td>14089.0</td>\n",
       "      <td>210.0</td>\n",
       "    </tr>\n",
       "    <tr>\n",
       "      <th>243</th>\n",
       "      <td>Yuba</td>\n",
       "      <td>California</td>\n",
       "      <td>6405</td>\n",
       "      <td>6096.0</td>\n",
       "      <td>49.0</td>\n",
       "    </tr>\n",
       "  </tbody>\n",
       "</table>\n",
       "</div>"
      ],
      "text/plain": [
       "              county       state    cases  confirmed_cases   deaths\n",
       "186          Alameda  California    89168          89168.0   1702.0\n",
       "187           Alpine  California       89             88.0      0.0\n",
       "188           Amador  California     3695           3695.0     47.0\n",
       "189            Butte  California    12527          12527.0    194.0\n",
       "190        Calaveras  California     2193           2181.0     56.0\n",
       "191           Colusa  California     2272           1959.0     18.0\n",
       "192     Contra Costa  California    70003          70003.0    817.0\n",
       "193        Del Norte  California     1441           1441.0      8.0\n",
       "194        El Dorado  California    10315          10294.0    115.0\n",
       "195           Fresno  California   102642         102642.0   1717.0\n",
       "196            Glenn  California     2942           2423.0     27.0\n",
       "197         Humboldt  California     4382           4382.0     46.0\n",
       "198         Imperial  California    28762          28762.0    738.0\n",
       "199             Inyo  California     1432           1404.0     38.0\n",
       "200             Kern  California   110395         110395.0   1398.0\n",
       "201            Kings  California    23124          23124.0    247.0\n",
       "202             Lake  California     3535           3535.0     45.0\n",
       "203           Lassen  California     5748           5748.0     24.0\n",
       "204      Los Angeles  California  1245788        1245120.0  24410.0\n",
       "205           Madera  California    16567          16567.0    245.0\n",
       "206            Marin  California    14106          14106.0    229.0\n",
       "207         Mariposa  California      461            461.0      7.0\n",
       "208        Mendocino  California     4239           4239.0     50.0\n",
       "209           Merced  California    32215          32215.0    473.0\n",
       "210            Modoc  California      375            375.0      3.0\n",
       "211             Mono  California     1294           1275.0      4.0\n",
       "212         Monterey  California    43774          43774.0    419.0\n",
       "213             Napa  California     9964           9964.0     80.0\n",
       "214           Nevada  California     4854           4854.0     75.0\n",
       "215           Orange  California   272447         255473.0   5083.0\n",
       "216           Placer  California    23196          23196.0    297.0\n",
       "217           Plumas  California      733            692.0      6.0\n",
       "218        Riverside  California   301013         301013.0   4618.0\n",
       "219       Sacramento  California   106960         106960.0   1716.0\n",
       "220       San Benito  California     6074           6074.0     63.0\n",
       "221   San Bernardino  California   298697         298697.0   4773.0\n",
       "222        San Diego  California   280806         280806.0   3764.0\n",
       "223    San Francisco  California    37121          37121.0    552.0\n",
       "224      San Joaquin  California    74161          74161.0   1423.0\n",
       "225  San Luis Obispo  California    21369          21369.0    261.0\n",
       "226        San Mateo  California    42457          42457.0    664.0\n",
       "227    Santa Barbara  California    34541          34541.0    459.0\n",
       "228      Santa Clara  California   119711         119711.0   2156.0\n",
       "229       Santa Cruz  California    16200          16200.0    208.0\n",
       "230           Shasta  California    12478          12478.0    230.0\n",
       "231           Sierra  California       55             55.0      0.0\n",
       "232         Siskiyou  California     2379           2379.0     33.0\n",
       "233           Solano  California    33496          33496.0    258.0\n",
       "234           Sonoma  California    30493          30493.0    323.0\n",
       "235       Stanislaus  California    63041          56486.0   1068.0\n",
       "236           Sutter  California     9573           9567.0    111.0\n",
       "237           Tehama  California     5092           5092.0     63.0\n",
       "238          Trinity  California      329            329.0      3.0\n",
       "239           Tulare  California    49936          49832.0    848.0\n",
       "240         Tuolumne  California     4177           4177.0     69.0\n",
       "241          Ventura  California    81507          81507.0   1025.0\n",
       "242             Yolo  California    14089          14089.0    210.0\n",
       "243             Yuba  California     6405           6096.0     49.0"
      ]
     },
     "execution_count": 222,
     "metadata": {
      "tags": []
     },
     "output_type": "execute_result"
    }
   ],
   "source": [
    "covid_live_counties_simple.loc[covid_live_counties_simple['state']=='California']"
   ]
  },
  {
   "cell_type": "code",
   "execution_count": null,
   "metadata": {
    "collapsed": true,
    "id": "LtIb7T6V_DP0",
    "jupyter": {
     "outputs_hidden": true
    }
   },
   "outputs": [],
   "source": [
    "covid_live_counties_simple_CA = covid_live_counties_simple.loc[covid_live_counties_simple['state']=='California']"
   ]
  },
  {
   "cell_type": "markdown",
   "metadata": {
    "id": "7KfOn-Me_DP0"
   },
   "source": [
    "Let's plot!"
   ]
  },
  {
   "cell_type": "code",
   "execution_count": null,
   "metadata": {
    "colab": {
     "base_uri": "https://localhost:8080/",
     "height": 377
    },
    "id": "IhuqUnPN_DP0",
    "outputId": "741fcca0-ac20-4cd4-e60f-2443c7066357"
   },
   "outputs": [
    {
     "data": {
      "text/plain": [
       "<matplotlib.axes._subplots.AxesSubplot at 0x7f30ea33e210>"
      ]
     },
     "execution_count": 224,
     "metadata": {
      "tags": []
     },
     "output_type": "execute_result"
    },
    {
     "data": {
      "image/png": "[encoded data removed]",
      "text/plain": [
       "<Figure size 432x288 with 1 Axes>"
      ]
     },
     "metadata": {
      "needs_background": "light",
      "tags": []
     },
     "output_type": "display_data"
    }
   ],
   "source": [
    "covid_live_counties_simple_CA.plot.bar(x='county',y='cases')"
   ]
  },
  {
   "cell_type": "markdown",
   "metadata": {
    "id": "0CSQPArCBkBl"
   },
   "source": [
    "Let's add another column taking the log10 of cases to make it easier to visualize across California counties."
   ]
  },
  {
   "cell_type": "code",
   "execution_count": null,
   "metadata": {
    "id": "wtX-xJmTBh_J"
   },
   "outputs": [],
   "source": [
    "import numpy as np\n",
    "# a bit more on numpy tomorrow."
   ]
  },
  {
   "cell_type": "code",
   "execution_count": null,
   "metadata": {
    "colab": {
     "base_uri": "https://localhost:8080/",
     "height": 366
    },
    "id": "XO6PSSUCCAiw",
    "outputId": "e85830a9-6ff3-494b-9e5b-c064499ecd65"
   },
   "outputs": [
    {
     "data": {
      "text/plain": [
       "<matplotlib.axes._subplots.AxesSubplot at 0x7f30ea1c5b10>"
      ]
     },
     "execution_count": 226,
     "metadata": {
      "tags": []
     },
     "output_type": "execute_result"
    },
    {
     "data": {
      "image/png": "[encoded data removed]",
      "text/plain": [
       "<Figure size 432x288 with 1 Axes>"
      ]
     },
     "metadata": {
      "needs_background": "light",
      "tags": []
     },
     "output_type": "display_data"
    }
   ],
   "source": [
    "covid_live_counties_simple_CA = pd.DataFrame(covid_live_counties_simple_CA) # this step makes a deep copy of the data frame\n",
    "covid_live_counties_simple_CA['log10_cases'] = np.log10(covid_live_counties_simple_CA['cases'])\n",
    "covid_live_counties_simple_CA.plot.bar(x='county',y='log10_cases')"
   ]
  },
  {
   "cell_type": "markdown",
   "metadata": {
    "id": "nUVXQRB2_DP0"
   },
   "source": [
    "### Sorting and filtering by rank"
   ]
  },
  {
   "cell_type": "code",
   "execution_count": null,
   "metadata": {
    "colab": {
     "base_uri": "https://localhost:8080/",
     "height": 1000
    },
    "id": "_7m3HvOD_DP1",
    "outputId": "7b684f53-bcd4-4572-b6ae-3ff501c7ecf2"
   },
   "outputs": [
    {
     "data": {
      "text/html": [
       "<div>\n",
       "<style scoped>\n",
       "    .dataframe tbody tr th:only-of-type {\n",
       "        vertical-align: middle;\n",
       "    }\n",
       "\n",
       "    .dataframe tbody tr th {\n",
       "        vertical-align: top;\n",
       "    }\n",
       "\n",
       "    .dataframe thead th {\n",
       "        text-align: right;\n",
       "    }\n",
       "</style>\n",
       "<table border=\"1\" class=\"dataframe\">\n",
       "  <thead>\n",
       "    <tr style=\"text-align: right;\">\n",
       "      <th></th>\n",
       "      <th>county</th>\n",
       "      <th>state</th>\n",
       "      <th>cases</th>\n",
       "      <th>confirmed_cases</th>\n",
       "      <th>deaths</th>\n",
       "      <th>log10_cases</th>\n",
       "    </tr>\n",
       "  </thead>\n",
       "  <tbody>\n",
       "    <tr>\n",
       "      <th>204</th>\n",
       "      <td>Los Angeles</td>\n",
       "      <td>California</td>\n",
       "      <td>1245788</td>\n",
       "      <td>1245120.0</td>\n",
       "      <td>24410.0</td>\n",
       "      <td>6.095444</td>\n",
       "    </tr>\n",
       "    <tr>\n",
       "      <th>218</th>\n",
       "      <td>Riverside</td>\n",
       "      <td>California</td>\n",
       "      <td>301013</td>\n",
       "      <td>301013.0</td>\n",
       "      <td>4618.0</td>\n",
       "      <td>5.478585</td>\n",
       "    </tr>\n",
       "    <tr>\n",
       "      <th>221</th>\n",
       "      <td>San Bernardino</td>\n",
       "      <td>California</td>\n",
       "      <td>298697</td>\n",
       "      <td>298697.0</td>\n",
       "      <td>4773.0</td>\n",
       "      <td>5.475231</td>\n",
       "    </tr>\n",
       "    <tr>\n",
       "      <th>222</th>\n",
       "      <td>San Diego</td>\n",
       "      <td>California</td>\n",
       "      <td>280806</td>\n",
       "      <td>280806.0</td>\n",
       "      <td>3764.0</td>\n",
       "      <td>5.448406</td>\n",
       "    </tr>\n",
       "    <tr>\n",
       "      <th>215</th>\n",
       "      <td>Orange</td>\n",
       "      <td>California</td>\n",
       "      <td>272447</td>\n",
       "      <td>255473.0</td>\n",
       "      <td>5083.0</td>\n",
       "      <td>5.435282</td>\n",
       "    </tr>\n",
       "    <tr>\n",
       "      <th>228</th>\n",
       "      <td>Santa Clara</td>\n",
       "      <td>California</td>\n",
       "      <td>119711</td>\n",
       "      <td>119711.0</td>\n",
       "      <td>2156.0</td>\n",
       "      <td>5.078134</td>\n",
       "    </tr>\n",
       "    <tr>\n",
       "      <th>200</th>\n",
       "      <td>Kern</td>\n",
       "      <td>California</td>\n",
       "      <td>110395</td>\n",
       "      <td>110395.0</td>\n",
       "      <td>1398.0</td>\n",
       "      <td>5.042949</td>\n",
       "    </tr>\n",
       "    <tr>\n",
       "      <th>219</th>\n",
       "      <td>Sacramento</td>\n",
       "      <td>California</td>\n",
       "      <td>106960</td>\n",
       "      <td>106960.0</td>\n",
       "      <td>1716.0</td>\n",
       "      <td>5.029221</td>\n",
       "    </tr>\n",
       "    <tr>\n",
       "      <th>195</th>\n",
       "      <td>Fresno</td>\n",
       "      <td>California</td>\n",
       "      <td>102642</td>\n",
       "      <td>102642.0</td>\n",
       "      <td>1717.0</td>\n",
       "      <td>5.011325</td>\n",
       "    </tr>\n",
       "    <tr>\n",
       "      <th>186</th>\n",
       "      <td>Alameda</td>\n",
       "      <td>California</td>\n",
       "      <td>89168</td>\n",
       "      <td>89168.0</td>\n",
       "      <td>1702.0</td>\n",
       "      <td>4.950209</td>\n",
       "    </tr>\n",
       "    <tr>\n",
       "      <th>241</th>\n",
       "      <td>Ventura</td>\n",
       "      <td>California</td>\n",
       "      <td>81507</td>\n",
       "      <td>81507.0</td>\n",
       "      <td>1025.0</td>\n",
       "      <td>4.911195</td>\n",
       "    </tr>\n",
       "    <tr>\n",
       "      <th>224</th>\n",
       "      <td>San Joaquin</td>\n",
       "      <td>California</td>\n",
       "      <td>74161</td>\n",
       "      <td>74161.0</td>\n",
       "      <td>1423.0</td>\n",
       "      <td>4.870176</td>\n",
       "    </tr>\n",
       "    <tr>\n",
       "      <th>192</th>\n",
       "      <td>Contra Costa</td>\n",
       "      <td>California</td>\n",
       "      <td>70003</td>\n",
       "      <td>70003.0</td>\n",
       "      <td>817.0</td>\n",
       "      <td>4.845117</td>\n",
       "    </tr>\n",
       "    <tr>\n",
       "      <th>235</th>\n",
       "      <td>Stanislaus</td>\n",
       "      <td>California</td>\n",
       "      <td>63041</td>\n",
       "      <td>56486.0</td>\n",
       "      <td>1068.0</td>\n",
       "      <td>4.799623</td>\n",
       "    </tr>\n",
       "    <tr>\n",
       "      <th>239</th>\n",
       "      <td>Tulare</td>\n",
       "      <td>California</td>\n",
       "      <td>49936</td>\n",
       "      <td>49832.0</td>\n",
       "      <td>848.0</td>\n",
       "      <td>4.698414</td>\n",
       "    </tr>\n",
       "    <tr>\n",
       "      <th>212</th>\n",
       "      <td>Monterey</td>\n",
       "      <td>California</td>\n",
       "      <td>43774</td>\n",
       "      <td>43774.0</td>\n",
       "      <td>419.0</td>\n",
       "      <td>4.641216</td>\n",
       "    </tr>\n",
       "    <tr>\n",
       "      <th>226</th>\n",
       "      <td>San Mateo</td>\n",
       "      <td>California</td>\n",
       "      <td>42457</td>\n",
       "      <td>42457.0</td>\n",
       "      <td>664.0</td>\n",
       "      <td>4.627949</td>\n",
       "    </tr>\n",
       "    <tr>\n",
       "      <th>223</th>\n",
       "      <td>San Francisco</td>\n",
       "      <td>California</td>\n",
       "      <td>37121</td>\n",
       "      <td>37121.0</td>\n",
       "      <td>552.0</td>\n",
       "      <td>4.569620</td>\n",
       "    </tr>\n",
       "    <tr>\n",
       "      <th>227</th>\n",
       "      <td>Santa Barbara</td>\n",
       "      <td>California</td>\n",
       "      <td>34541</td>\n",
       "      <td>34541.0</td>\n",
       "      <td>459.0</td>\n",
       "      <td>4.538335</td>\n",
       "    </tr>\n",
       "    <tr>\n",
       "      <th>233</th>\n",
       "      <td>Solano</td>\n",
       "      <td>California</td>\n",
       "      <td>33496</td>\n",
       "      <td>33496.0</td>\n",
       "      <td>258.0</td>\n",
       "      <td>4.524993</td>\n",
       "    </tr>\n",
       "    <tr>\n",
       "      <th>209</th>\n",
       "      <td>Merced</td>\n",
       "      <td>California</td>\n",
       "      <td>32215</td>\n",
       "      <td>32215.0</td>\n",
       "      <td>473.0</td>\n",
       "      <td>4.508058</td>\n",
       "    </tr>\n",
       "    <tr>\n",
       "      <th>234</th>\n",
       "      <td>Sonoma</td>\n",
       "      <td>California</td>\n",
       "      <td>30493</td>\n",
       "      <td>30493.0</td>\n",
       "      <td>323.0</td>\n",
       "      <td>4.484200</td>\n",
       "    </tr>\n",
       "    <tr>\n",
       "      <th>198</th>\n",
       "      <td>Imperial</td>\n",
       "      <td>California</td>\n",
       "      <td>28762</td>\n",
       "      <td>28762.0</td>\n",
       "      <td>738.0</td>\n",
       "      <td>4.458819</td>\n",
       "    </tr>\n",
       "    <tr>\n",
       "      <th>216</th>\n",
       "      <td>Placer</td>\n",
       "      <td>California</td>\n",
       "      <td>23196</td>\n",
       "      <td>23196.0</td>\n",
       "      <td>297.0</td>\n",
       "      <td>4.365413</td>\n",
       "    </tr>\n",
       "    <tr>\n",
       "      <th>201</th>\n",
       "      <td>Kings</td>\n",
       "      <td>California</td>\n",
       "      <td>23124</td>\n",
       "      <td>23124.0</td>\n",
       "      <td>247.0</td>\n",
       "      <td>4.364063</td>\n",
       "    </tr>\n",
       "    <tr>\n",
       "      <th>225</th>\n",
       "      <td>San Luis Obispo</td>\n",
       "      <td>California</td>\n",
       "      <td>21369</td>\n",
       "      <td>21369.0</td>\n",
       "      <td>261.0</td>\n",
       "      <td>4.329784</td>\n",
       "    </tr>\n",
       "    <tr>\n",
       "      <th>205</th>\n",
       "      <td>Madera</td>\n",
       "      <td>California</td>\n",
       "      <td>16567</td>\n",
       "      <td>16567.0</td>\n",
       "      <td>245.0</td>\n",
       "      <td>4.219244</td>\n",
       "    </tr>\n",
       "    <tr>\n",
       "      <th>229</th>\n",
       "      <td>Santa Cruz</td>\n",
       "      <td>California</td>\n",
       "      <td>16200</td>\n",
       "      <td>16200.0</td>\n",
       "      <td>208.0</td>\n",
       "      <td>4.209515</td>\n",
       "    </tr>\n",
       "    <tr>\n",
       "      <th>206</th>\n",
       "      <td>Marin</td>\n",
       "      <td>California</td>\n",
       "      <td>14106</td>\n",
       "      <td>14106.0</td>\n",
       "      <td>229.0</td>\n",
       "      <td>4.149404</td>\n",
       "    </tr>\n",
       "    <tr>\n",
       "      <th>242</th>\n",
       "      <td>Yolo</td>\n",
       "      <td>California</td>\n",
       "      <td>14089</td>\n",
       "      <td>14089.0</td>\n",
       "      <td>210.0</td>\n",
       "      <td>4.148880</td>\n",
       "    </tr>\n",
       "    <tr>\n",
       "      <th>189</th>\n",
       "      <td>Butte</td>\n",
       "      <td>California</td>\n",
       "      <td>12527</td>\n",
       "      <td>12527.0</td>\n",
       "      <td>194.0</td>\n",
       "      <td>4.097847</td>\n",
       "    </tr>\n",
       "    <tr>\n",
       "      <th>230</th>\n",
       "      <td>Shasta</td>\n",
       "      <td>California</td>\n",
       "      <td>12478</td>\n",
       "      <td>12478.0</td>\n",
       "      <td>230.0</td>\n",
       "      <td>4.096145</td>\n",
       "    </tr>\n",
       "    <tr>\n",
       "      <th>194</th>\n",
       "      <td>El Dorado</td>\n",
       "      <td>California</td>\n",
       "      <td>10315</td>\n",
       "      <td>10294.0</td>\n",
       "      <td>115.0</td>\n",
       "      <td>4.013469</td>\n",
       "    </tr>\n",
       "    <tr>\n",
       "      <th>213</th>\n",
       "      <td>Napa</td>\n",
       "      <td>California</td>\n",
       "      <td>9964</td>\n",
       "      <td>9964.0</td>\n",
       "      <td>80.0</td>\n",
       "      <td>3.998434</td>\n",
       "    </tr>\n",
       "    <tr>\n",
       "      <th>236</th>\n",
       "      <td>Sutter</td>\n",
       "      <td>California</td>\n",
       "      <td>9573</td>\n",
       "      <td>9567.0</td>\n",
       "      <td>111.0</td>\n",
       "      <td>3.981048</td>\n",
       "    </tr>\n",
       "    <tr>\n",
       "      <th>243</th>\n",
       "      <td>Yuba</td>\n",
       "      <td>California</td>\n",
       "      <td>6405</td>\n",
       "      <td>6096.0</td>\n",
       "      <td>49.0</td>\n",
       "      <td>3.806519</td>\n",
       "    </tr>\n",
       "    <tr>\n",
       "      <th>220</th>\n",
       "      <td>San Benito</td>\n",
       "      <td>California</td>\n",
       "      <td>6074</td>\n",
       "      <td>6074.0</td>\n",
       "      <td>63.0</td>\n",
       "      <td>3.783475</td>\n",
       "    </tr>\n",
       "    <tr>\n",
       "      <th>203</th>\n",
       "      <td>Lassen</td>\n",
       "      <td>California</td>\n",
       "      <td>5748</td>\n",
       "      <td>5748.0</td>\n",
       "      <td>24.0</td>\n",
       "      <td>3.759517</td>\n",
       "    </tr>\n",
       "    <tr>\n",
       "      <th>237</th>\n",
       "      <td>Tehama</td>\n",
       "      <td>California</td>\n",
       "      <td>5092</td>\n",
       "      <td>5092.0</td>\n",
       "      <td>63.0</td>\n",
       "      <td>3.706888</td>\n",
       "    </tr>\n",
       "    <tr>\n",
       "      <th>214</th>\n",
       "      <td>Nevada</td>\n",
       "      <td>California</td>\n",
       "      <td>4854</td>\n",
       "      <td>4854.0</td>\n",
       "      <td>75.0</td>\n",
       "      <td>3.686100</td>\n",
       "    </tr>\n",
       "    <tr>\n",
       "      <th>197</th>\n",
       "      <td>Humboldt</td>\n",
       "      <td>California</td>\n",
       "      <td>4382</td>\n",
       "      <td>4382.0</td>\n",
       "      <td>46.0</td>\n",
       "      <td>3.641672</td>\n",
       "    </tr>\n",
       "    <tr>\n",
       "      <th>208</th>\n",
       "      <td>Mendocino</td>\n",
       "      <td>California</td>\n",
       "      <td>4239</td>\n",
       "      <td>4239.0</td>\n",
       "      <td>50.0</td>\n",
       "      <td>3.627263</td>\n",
       "    </tr>\n",
       "    <tr>\n",
       "      <th>240</th>\n",
       "      <td>Tuolumne</td>\n",
       "      <td>California</td>\n",
       "      <td>4177</td>\n",
       "      <td>4177.0</td>\n",
       "      <td>69.0</td>\n",
       "      <td>3.620864</td>\n",
       "    </tr>\n",
       "    <tr>\n",
       "      <th>188</th>\n",
       "      <td>Amador</td>\n",
       "      <td>California</td>\n",
       "      <td>3695</td>\n",
       "      <td>3695.0</td>\n",
       "      <td>47.0</td>\n",
       "      <td>3.567614</td>\n",
       "    </tr>\n",
       "    <tr>\n",
       "      <th>202</th>\n",
       "      <td>Lake</td>\n",
       "      <td>California</td>\n",
       "      <td>3535</td>\n",
       "      <td>3535.0</td>\n",
       "      <td>45.0</td>\n",
       "      <td>3.548389</td>\n",
       "    </tr>\n",
       "    <tr>\n",
       "      <th>196</th>\n",
       "      <td>Glenn</td>\n",
       "      <td>California</td>\n",
       "      <td>2942</td>\n",
       "      <td>2423.0</td>\n",
       "      <td>27.0</td>\n",
       "      <td>3.468643</td>\n",
       "    </tr>\n",
       "    <tr>\n",
       "      <th>232</th>\n",
       "      <td>Siskiyou</td>\n",
       "      <td>California</td>\n",
       "      <td>2379</td>\n",
       "      <td>2379.0</td>\n",
       "      <td>33.0</td>\n",
       "      <td>3.376394</td>\n",
       "    </tr>\n",
       "    <tr>\n",
       "      <th>191</th>\n",
       "      <td>Colusa</td>\n",
       "      <td>California</td>\n",
       "      <td>2272</td>\n",
       "      <td>1959.0</td>\n",
       "      <td>18.0</td>\n",
       "      <td>3.356408</td>\n",
       "    </tr>\n",
       "    <tr>\n",
       "      <th>190</th>\n",
       "      <td>Calaveras</td>\n",
       "      <td>California</td>\n",
       "      <td>2193</td>\n",
       "      <td>2181.0</td>\n",
       "      <td>56.0</td>\n",
       "      <td>3.341039</td>\n",
       "    </tr>\n",
       "    <tr>\n",
       "      <th>193</th>\n",
       "      <td>Del Norte</td>\n",
       "      <td>California</td>\n",
       "      <td>1441</td>\n",
       "      <td>1441.0</td>\n",
       "      <td>8.0</td>\n",
       "      <td>3.158664</td>\n",
       "    </tr>\n",
       "    <tr>\n",
       "      <th>199</th>\n",
       "      <td>Inyo</td>\n",
       "      <td>California</td>\n",
       "      <td>1432</td>\n",
       "      <td>1404.0</td>\n",
       "      <td>38.0</td>\n",
       "      <td>3.155943</td>\n",
       "    </tr>\n",
       "    <tr>\n",
       "      <th>211</th>\n",
       "      <td>Mono</td>\n",
       "      <td>California</td>\n",
       "      <td>1294</td>\n",
       "      <td>1275.0</td>\n",
       "      <td>4.0</td>\n",
       "      <td>3.111934</td>\n",
       "    </tr>\n",
       "    <tr>\n",
       "      <th>217</th>\n",
       "      <td>Plumas</td>\n",
       "      <td>California</td>\n",
       "      <td>733</td>\n",
       "      <td>692.0</td>\n",
       "      <td>6.0</td>\n",
       "      <td>2.865104</td>\n",
       "    </tr>\n",
       "    <tr>\n",
       "      <th>207</th>\n",
       "      <td>Mariposa</td>\n",
       "      <td>California</td>\n",
       "      <td>461</td>\n",
       "      <td>461.0</td>\n",
       "      <td>7.0</td>\n",
       "      <td>2.663701</td>\n",
       "    </tr>\n",
       "    <tr>\n",
       "      <th>210</th>\n",
       "      <td>Modoc</td>\n",
       "      <td>California</td>\n",
       "      <td>375</td>\n",
       "      <td>375.0</td>\n",
       "      <td>3.0</td>\n",
       "      <td>2.574031</td>\n",
       "    </tr>\n",
       "    <tr>\n",
       "      <th>238</th>\n",
       "      <td>Trinity</td>\n",
       "      <td>California</td>\n",
       "      <td>329</td>\n",
       "      <td>329.0</td>\n",
       "      <td>3.0</td>\n",
       "      <td>2.517196</td>\n",
       "    </tr>\n",
       "    <tr>\n",
       "      <th>187</th>\n",
       "      <td>Alpine</td>\n",
       "      <td>California</td>\n",
       "      <td>89</td>\n",
       "      <td>88.0</td>\n",
       "      <td>0.0</td>\n",
       "      <td>1.949390</td>\n",
       "    </tr>\n",
       "    <tr>\n",
       "      <th>231</th>\n",
       "      <td>Sierra</td>\n",
       "      <td>California</td>\n",
       "      <td>55</td>\n",
       "      <td>55.0</td>\n",
       "      <td>0.0</td>\n",
       "      <td>1.740363</td>\n",
       "    </tr>\n",
       "  </tbody>\n",
       "</table>\n",
       "</div>"
      ],
      "text/plain": [
       "              county       state  ...   deaths  log10_cases\n",
       "204      Los Angeles  California  ...  24410.0     6.095444\n",
       "218        Riverside  California  ...   4618.0     5.478585\n",
       "221   San Bernardino  California  ...   4773.0     5.475231\n",
       "222        San Diego  California  ...   3764.0     5.448406\n",
       "215           Orange  California  ...   5083.0     5.435282\n",
       "228      Santa Clara  California  ...   2156.0     5.078134\n",
       "200             Kern  California  ...   1398.0     5.042949\n",
       "219       Sacramento  California  ...   1716.0     5.029221\n",
       "195           Fresno  California  ...   1717.0     5.011325\n",
       "186          Alameda  California  ...   1702.0     4.950209\n",
       "241          Ventura  California  ...   1025.0     4.911195\n",
       "224      San Joaquin  California  ...   1423.0     4.870176\n",
       "192     Contra Costa  California  ...    817.0     4.845117\n",
       "235       Stanislaus  California  ...   1068.0     4.799623\n",
       "239           Tulare  California  ...    848.0     4.698414\n",
       "212         Monterey  California  ...    419.0     4.641216\n",
       "226        San Mateo  California  ...    664.0     4.627949\n",
       "223    San Francisco  California  ...    552.0     4.569620\n",
       "227    Santa Barbara  California  ...    459.0     4.538335\n",
       "233           Solano  California  ...    258.0     4.524993\n",
       "209           Merced  California  ...    473.0     4.508058\n",
       "234           Sonoma  California  ...    323.0     4.484200\n",
       "198         Imperial  California  ...    738.0     4.458819\n",
       "216           Placer  California  ...    297.0     4.365413\n",
       "201            Kings  California  ...    247.0     4.364063\n",
       "225  San Luis Obispo  California  ...    261.0     4.329784\n",
       "205           Madera  California  ...    245.0     4.219244\n",
       "229       Santa Cruz  California  ...    208.0     4.209515\n",
       "206            Marin  California  ...    229.0     4.149404\n",
       "242             Yolo  California  ...    210.0     4.148880\n",
       "189            Butte  California  ...    194.0     4.097847\n",
       "230           Shasta  California  ...    230.0     4.096145\n",
       "194        El Dorado  California  ...    115.0     4.013469\n",
       "213             Napa  California  ...     80.0     3.998434\n",
       "236           Sutter  California  ...    111.0     3.981048\n",
       "243             Yuba  California  ...     49.0     3.806519\n",
       "220       San Benito  California  ...     63.0     3.783475\n",
       "203           Lassen  California  ...     24.0     3.759517\n",
       "237           Tehama  California  ...     63.0     3.706888\n",
       "214           Nevada  California  ...     75.0     3.686100\n",
       "197         Humboldt  California  ...     46.0     3.641672\n",
       "208        Mendocino  California  ...     50.0     3.627263\n",
       "240         Tuolumne  California  ...     69.0     3.620864\n",
       "188           Amador  California  ...     47.0     3.567614\n",
       "202             Lake  California  ...     45.0     3.548389\n",
       "196            Glenn  California  ...     27.0     3.468643\n",
       "232         Siskiyou  California  ...     33.0     3.376394\n",
       "191           Colusa  California  ...     18.0     3.356408\n",
       "190        Calaveras  California  ...     56.0     3.341039\n",
       "193        Del Norte  California  ...      8.0     3.158664\n",
       "199             Inyo  California  ...     38.0     3.155943\n",
       "211             Mono  California  ...      4.0     3.111934\n",
       "217           Plumas  California  ...      6.0     2.865104\n",
       "207         Mariposa  California  ...      7.0     2.663701\n",
       "210            Modoc  California  ...      3.0     2.574031\n",
       "238          Trinity  California  ...      3.0     2.517196\n",
       "187           Alpine  California  ...      0.0     1.949390\n",
       "231           Sierra  California  ...      0.0     1.740363\n",
       "\n",
       "[58 rows x 6 columns]"
      ]
     },
     "execution_count": 227,
     "metadata": {
      "tags": []
     },
     "output_type": "execute_result"
    }
   ],
   "source": [
    "covid_live_counties_simple_CA.sort_values('cases', ascending=False)"
   ]
  },
  {
   "cell_type": "markdown",
   "metadata": {
    "id": "v462QhU8_DP1"
   },
   "source": [
    "Let's get the top 20 counties"
   ]
  },
  {
   "cell_type": "code",
   "execution_count": null,
   "metadata": {
    "colab": {
     "base_uri": "https://localhost:8080/",
     "height": 676
    },
    "id": "itpdctJn_DP1",
    "outputId": "2a8c301b-0ebf-4b98-c678-4172b7807191"
   },
   "outputs": [
    {
     "data": {
      "text/html": [
       "<div>\n",
       "<style scoped>\n",
       "    .dataframe tbody tr th:only-of-type {\n",
       "        vertical-align: middle;\n",
       "    }\n",
       "\n",
       "    .dataframe tbody tr th {\n",
       "        vertical-align: top;\n",
       "    }\n",
       "\n",
       "    .dataframe thead th {\n",
       "        text-align: right;\n",
       "    }\n",
       "</style>\n",
       "<table border=\"1\" class=\"dataframe\">\n",
       "  <thead>\n",
       "    <tr style=\"text-align: right;\">\n",
       "      <th></th>\n",
       "      <th>county</th>\n",
       "      <th>state</th>\n",
       "      <th>cases</th>\n",
       "      <th>confirmed_cases</th>\n",
       "      <th>deaths</th>\n",
       "      <th>log10_cases</th>\n",
       "    </tr>\n",
       "  </thead>\n",
       "  <tbody>\n",
       "    <tr>\n",
       "      <th>204</th>\n",
       "      <td>Los Angeles</td>\n",
       "      <td>California</td>\n",
       "      <td>1245788</td>\n",
       "      <td>1245120.0</td>\n",
       "      <td>24410.0</td>\n",
       "      <td>6.095444</td>\n",
       "    </tr>\n",
       "    <tr>\n",
       "      <th>218</th>\n",
       "      <td>Riverside</td>\n",
       "      <td>California</td>\n",
       "      <td>301013</td>\n",
       "      <td>301013.0</td>\n",
       "      <td>4618.0</td>\n",
       "      <td>5.478585</td>\n",
       "    </tr>\n",
       "    <tr>\n",
       "      <th>221</th>\n",
       "      <td>San Bernardino</td>\n",
       "      <td>California</td>\n",
       "      <td>298697</td>\n",
       "      <td>298697.0</td>\n",
       "      <td>4773.0</td>\n",
       "      <td>5.475231</td>\n",
       "    </tr>\n",
       "    <tr>\n",
       "      <th>222</th>\n",
       "      <td>San Diego</td>\n",
       "      <td>California</td>\n",
       "      <td>280806</td>\n",
       "      <td>280806.0</td>\n",
       "      <td>3764.0</td>\n",
       "      <td>5.448406</td>\n",
       "    </tr>\n",
       "    <tr>\n",
       "      <th>215</th>\n",
       "      <td>Orange</td>\n",
       "      <td>California</td>\n",
       "      <td>272447</td>\n",
       "      <td>255473.0</td>\n",
       "      <td>5083.0</td>\n",
       "      <td>5.435282</td>\n",
       "    </tr>\n",
       "    <tr>\n",
       "      <th>228</th>\n",
       "      <td>Santa Clara</td>\n",
       "      <td>California</td>\n",
       "      <td>119711</td>\n",
       "      <td>119711.0</td>\n",
       "      <td>2156.0</td>\n",
       "      <td>5.078134</td>\n",
       "    </tr>\n",
       "    <tr>\n",
       "      <th>200</th>\n",
       "      <td>Kern</td>\n",
       "      <td>California</td>\n",
       "      <td>110395</td>\n",
       "      <td>110395.0</td>\n",
       "      <td>1398.0</td>\n",
       "      <td>5.042949</td>\n",
       "    </tr>\n",
       "    <tr>\n",
       "      <th>219</th>\n",
       "      <td>Sacramento</td>\n",
       "      <td>California</td>\n",
       "      <td>106960</td>\n",
       "      <td>106960.0</td>\n",
       "      <td>1716.0</td>\n",
       "      <td>5.029221</td>\n",
       "    </tr>\n",
       "    <tr>\n",
       "      <th>195</th>\n",
       "      <td>Fresno</td>\n",
       "      <td>California</td>\n",
       "      <td>102642</td>\n",
       "      <td>102642.0</td>\n",
       "      <td>1717.0</td>\n",
       "      <td>5.011325</td>\n",
       "    </tr>\n",
       "    <tr>\n",
       "      <th>186</th>\n",
       "      <td>Alameda</td>\n",
       "      <td>California</td>\n",
       "      <td>89168</td>\n",
       "      <td>89168.0</td>\n",
       "      <td>1702.0</td>\n",
       "      <td>4.950209</td>\n",
       "    </tr>\n",
       "    <tr>\n",
       "      <th>241</th>\n",
       "      <td>Ventura</td>\n",
       "      <td>California</td>\n",
       "      <td>81507</td>\n",
       "      <td>81507.0</td>\n",
       "      <td>1025.0</td>\n",
       "      <td>4.911195</td>\n",
       "    </tr>\n",
       "    <tr>\n",
       "      <th>224</th>\n",
       "      <td>San Joaquin</td>\n",
       "      <td>California</td>\n",
       "      <td>74161</td>\n",
       "      <td>74161.0</td>\n",
       "      <td>1423.0</td>\n",
       "      <td>4.870176</td>\n",
       "    </tr>\n",
       "    <tr>\n",
       "      <th>192</th>\n",
       "      <td>Contra Costa</td>\n",
       "      <td>California</td>\n",
       "      <td>70003</td>\n",
       "      <td>70003.0</td>\n",
       "      <td>817.0</td>\n",
       "      <td>4.845117</td>\n",
       "    </tr>\n",
       "    <tr>\n",
       "      <th>235</th>\n",
       "      <td>Stanislaus</td>\n",
       "      <td>California</td>\n",
       "      <td>63041</td>\n",
       "      <td>56486.0</td>\n",
       "      <td>1068.0</td>\n",
       "      <td>4.799623</td>\n",
       "    </tr>\n",
       "    <tr>\n",
       "      <th>239</th>\n",
       "      <td>Tulare</td>\n",
       "      <td>California</td>\n",
       "      <td>49936</td>\n",
       "      <td>49832.0</td>\n",
       "      <td>848.0</td>\n",
       "      <td>4.698414</td>\n",
       "    </tr>\n",
       "    <tr>\n",
       "      <th>212</th>\n",
       "      <td>Monterey</td>\n",
       "      <td>California</td>\n",
       "      <td>43774</td>\n",
       "      <td>43774.0</td>\n",
       "      <td>419.0</td>\n",
       "      <td>4.641216</td>\n",
       "    </tr>\n",
       "    <tr>\n",
       "      <th>226</th>\n",
       "      <td>San Mateo</td>\n",
       "      <td>California</td>\n",
       "      <td>42457</td>\n",
       "      <td>42457.0</td>\n",
       "      <td>664.0</td>\n",
       "      <td>4.627949</td>\n",
       "    </tr>\n",
       "    <tr>\n",
       "      <th>223</th>\n",
       "      <td>San Francisco</td>\n",
       "      <td>California</td>\n",
       "      <td>37121</td>\n",
       "      <td>37121.0</td>\n",
       "      <td>552.0</td>\n",
       "      <td>4.569620</td>\n",
       "    </tr>\n",
       "    <tr>\n",
       "      <th>227</th>\n",
       "      <td>Santa Barbara</td>\n",
       "      <td>California</td>\n",
       "      <td>34541</td>\n",
       "      <td>34541.0</td>\n",
       "      <td>459.0</td>\n",
       "      <td>4.538335</td>\n",
       "    </tr>\n",
       "    <tr>\n",
       "      <th>233</th>\n",
       "      <td>Solano</td>\n",
       "      <td>California</td>\n",
       "      <td>33496</td>\n",
       "      <td>33496.0</td>\n",
       "      <td>258.0</td>\n",
       "      <td>4.524993</td>\n",
       "    </tr>\n",
       "  </tbody>\n",
       "</table>\n",
       "</div>"
      ],
      "text/plain": [
       "             county       state    cases  confirmed_cases   deaths  log10_cases\n",
       "204     Los Angeles  California  1245788        1245120.0  24410.0     6.095444\n",
       "218       Riverside  California   301013         301013.0   4618.0     5.478585\n",
       "221  San Bernardino  California   298697         298697.0   4773.0     5.475231\n",
       "222       San Diego  California   280806         280806.0   3764.0     5.448406\n",
       "215          Orange  California   272447         255473.0   5083.0     5.435282\n",
       "228     Santa Clara  California   119711         119711.0   2156.0     5.078134\n",
       "200            Kern  California   110395         110395.0   1398.0     5.042949\n",
       "219      Sacramento  California   106960         106960.0   1716.0     5.029221\n",
       "195          Fresno  California   102642         102642.0   1717.0     5.011325\n",
       "186         Alameda  California    89168          89168.0   1702.0     4.950209\n",
       "241         Ventura  California    81507          81507.0   1025.0     4.911195\n",
       "224     San Joaquin  California    74161          74161.0   1423.0     4.870176\n",
       "192    Contra Costa  California    70003          70003.0    817.0     4.845117\n",
       "235      Stanislaus  California    63041          56486.0   1068.0     4.799623\n",
       "239          Tulare  California    49936          49832.0    848.0     4.698414\n",
       "212        Monterey  California    43774          43774.0    419.0     4.641216\n",
       "226       San Mateo  California    42457          42457.0    664.0     4.627949\n",
       "223   San Francisco  California    37121          37121.0    552.0     4.569620\n",
       "227   Santa Barbara  California    34541          34541.0    459.0     4.538335\n",
       "233          Solano  California    33496          33496.0    258.0     4.524993"
      ]
     },
     "execution_count": 228,
     "metadata": {
      "tags": []
     },
     "output_type": "execute_result"
    }
   ],
   "source": [
    "covid_live_counties_simple_CA_top20=covid_live_counties_simple_CA.sort_values('cases', ascending=False).head(20)\n",
    "covid_live_counties_simple_CA_top20"
   ]
  },
  {
   "cell_type": "code",
   "execution_count": null,
   "metadata": {
    "colab": {
     "base_uri": "https://localhost:8080/",
     "height": 374
    },
    "id": "s7pF9o7b_DP2",
    "outputId": "25fb3056-89d9-4db1-e7e9-2582e7ceaf4b"
   },
   "outputs": [
    {
     "data": {
      "text/plain": [
       "<matplotlib.axes._subplots.AxesSubplot at 0x7f30ea008650>"
      ]
     },
     "execution_count": 229,
     "metadata": {
      "tags": []
     },
     "output_type": "execute_result"
    },
    {
     "data": {
      "image/png": "[encoded data removed]",
      "text/plain": [
       "<Figure size 432x288 with 1 Axes>"
      ]
     },
     "metadata": {
      "needs_background": "light",
      "tags": []
     },
     "output_type": "display_data"
    }
   ],
   "source": [
    "covid_live_counties_simple_CA_top20.plot.bar(x='county', y=['cases','confirmed_cases'])"
   ]
  },
  {
   "cell_type": "code",
   "execution_count": null,
   "metadata": {
    "colab": {
     "base_uri": "https://localhost:8080/"
    },
    "id": "LCzMuqak_DP2",
    "outputId": "92c6a385-3f4b-41ee-83fe-076208cfe06d"
   },
   "outputs": [
    {
     "data": {
      "text/plain": [
       "cases              172883.200000\n",
       "confirmed_cases    171668.150000\n",
       "deaths               2943.500000\n",
       "log10_cases             5.003571\n",
       "dtype: float64"
      ]
     },
     "execution_count": 230,
     "metadata": {
      "tags": []
     },
     "output_type": "execute_result"
    }
   ],
   "source": [
    "covid_live_counties_simple_CA_top20.mean()"
   ]
  },
  {
   "cell_type": "code",
   "execution_count": null,
   "metadata": {
    "colab": {
     "base_uri": "https://localhost:8080/"
    },
    "id": "z9K1gBlf_DP3",
    "outputId": "22e65898-6c34-4bdd-b56d-30873a8c7d27"
   },
   "outputs": [
    {
     "data": {
      "text/plain": [
       "county             Los AngelesRiversideSan BernardinoSan DiegoOra...\n",
       "state              CaliforniaCaliforniaCaliforniaCaliforniaCalifo...\n",
       "cases                                                        3457664\n",
       "confirmed_cases                                          3.43336e+06\n",
       "deaths                                                         58870\n",
       "log10_cases                                                  100.071\n",
       "dtype: object"
      ]
     },
     "execution_count": 231,
     "metadata": {
      "tags": []
     },
     "output_type": "execute_result"
    }
   ],
   "source": [
    "covid_live_counties_simple_CA_top20.sum()"
   ]
  },
  {
   "cell_type": "code",
   "execution_count": null,
   "metadata": {
    "colab": {
     "base_uri": "https://localhost:8080/"
    },
    "id": "nqP2AEbl_DP3",
    "outputId": "b2741f94-b541-4b13-bbae-4506821f327e"
   },
   "outputs": [
    {
     "data": {
      "text/plain": [
       "date                2021-06-072021-06-072021-06-072021-06-072021-0...\n",
       "county              AutaugaBaldwinBarbourBibbBlountBullockButlerCa...\n",
       "state               AlabamaAlabamaAlabamaAlabamaAlabamaAlabamaAlab...\n",
       "fips                                                      1.01271e+08\n",
       "cases                                                        33382877\n",
       "deaths                                                         597533\n",
       "confirmed_cases                                           2.17208e+07\n",
       "confirmed_deaths                                               376955\n",
       "probable_cases                                            2.34912e+06\n",
       "probable_deaths                                                 30138\n",
       "dtype: object"
      ]
     },
     "execution_count": 232,
     "metadata": {
      "tags": []
     },
     "output_type": "execute_result"
    }
   ],
   "source": [
    "covid_live_counties.sum()"
   ]
  },
  {
   "cell_type": "markdown",
   "metadata": {
    "id": "51mHXda1_DP4"
   },
   "source": [
    "## Groupby\n",
    "This method allows aggregation for a specific categorical variable, for example `state`."
   ]
  },
  {
   "cell_type": "code",
   "execution_count": null,
   "metadata": {
    "collapsed": true,
    "id": "oN4v-tRH_DP4",
    "jupyter": {
     "outputs_hidden": true
    }
   },
   "outputs": [],
   "source": [
    "group_by_state=covid_live_counties_simple.groupby('state')"
   ]
  },
  {
   "cell_type": "markdown",
   "metadata": {
    "id": "GKjo7iFmbq78"
   },
   "source": [
    "The `.count()` method provides counts for each of the states. Because, each entry corresponds to a county, the resulting values will simply provide how many counties are in that state."
   ]
  },
  {
   "cell_type": "code",
   "execution_count": null,
   "metadata": {
    "colab": {
     "base_uri": "https://localhost:8080/",
     "height": 237
    },
    "id": "3H7hStqi_DP4",
    "outputId": "b87b9c38-d7b2-4f26-cf53-6e2b5bf3105a"
   },
   "outputs": [
    {
     "data": {
      "text/html": [
       "<div>\n",
       "<style scoped>\n",
       "    .dataframe tbody tr th:only-of-type {\n",
       "        vertical-align: middle;\n",
       "    }\n",
       "\n",
       "    .dataframe tbody tr th {\n",
       "        vertical-align: top;\n",
       "    }\n",
       "\n",
       "    .dataframe thead th {\n",
       "        text-align: right;\n",
       "    }\n",
       "</style>\n",
       "<table border=\"1\" class=\"dataframe\">\n",
       "  <thead>\n",
       "    <tr style=\"text-align: right;\">\n",
       "      <th></th>\n",
       "      <th>county</th>\n",
       "      <th>cases</th>\n",
       "      <th>confirmed_cases</th>\n",
       "      <th>deaths</th>\n",
       "    </tr>\n",
       "    <tr>\n",
       "      <th>state</th>\n",
       "      <th></th>\n",
       "      <th></th>\n",
       "      <th></th>\n",
       "      <th></th>\n",
       "    </tr>\n",
       "  </thead>\n",
       "  <tbody>\n",
       "    <tr>\n",
       "      <th>Alabama</th>\n",
       "      <td>67</td>\n",
       "      <td>67</td>\n",
       "      <td>67</td>\n",
       "      <td>67</td>\n",
       "    </tr>\n",
       "    <tr>\n",
       "      <th>Alaska</th>\n",
       "      <td>28</td>\n",
       "      <td>28</td>\n",
       "      <td>0</td>\n",
       "      <td>28</td>\n",
       "    </tr>\n",
       "    <tr>\n",
       "      <th>Arizona</th>\n",
       "      <td>15</td>\n",
       "      <td>15</td>\n",
       "      <td>0</td>\n",
       "      <td>15</td>\n",
       "    </tr>\n",
       "    <tr>\n",
       "      <th>Arkansas</th>\n",
       "      <td>76</td>\n",
       "      <td>76</td>\n",
       "      <td>76</td>\n",
       "      <td>76</td>\n",
       "    </tr>\n",
       "    <tr>\n",
       "      <th>California</th>\n",
       "      <td>58</td>\n",
       "      <td>58</td>\n",
       "      <td>58</td>\n",
       "      <td>58</td>\n",
       "    </tr>\n",
       "  </tbody>\n",
       "</table>\n",
       "</div>"
      ],
      "text/plain": [
       "            county  cases  confirmed_cases  deaths\n",
       "state                                             \n",
       "Alabama         67     67               67      67\n",
       "Alaska          28     28                0      28\n",
       "Arizona         15     15                0      15\n",
       "Arkansas        76     76               76      76\n",
       "California      58     58               58      58"
      ]
     },
     "execution_count": 234,
     "metadata": {
      "tags": []
     },
     "output_type": "execute_result"
    }
   ],
   "source": [
    "group_by_state.count().head()"
   ]
  },
  {
   "cell_type": "code",
   "execution_count": null,
   "metadata": {
    "colab": {
     "base_uri": "https://localhost:8080/",
     "height": 412
    },
    "id": "-eCe1OqvcA6E",
    "outputId": "dcaea7ec-d2da-4dcc-909a-cb5dc09697d2"
   },
   "outputs": [
    {
     "data": {
      "text/plain": [
       "<matplotlib.axes._subplots.AxesSubplot at 0x7f30e9ee8dd0>"
      ]
     },
     "execution_count": 235,
     "metadata": {
      "tags": []
     },
     "output_type": "execute_result"
    },
    {
     "data": {
      "image/png": "[encoded data removed]",
      "text/plain": [
       "<Figure size 432x288 with 1 Axes>"
      ]
     },
     "metadata": {
      "needs_background": "light",
      "tags": []
     },
     "output_type": "display_data"
    }
   ],
   "source": [
    "group_by_state.count().plot.bar(y='county', )"
   ]
  },
  {
   "cell_type": "markdown",
   "metadata": {
    "id": "uEeTBUsrcqkN"
   },
   "source": [
    "We can use the `.get_group()` method to filter the data frame for a single group."
   ]
  },
  {
   "cell_type": "code",
   "execution_count": null,
   "metadata": {
    "colab": {
     "base_uri": "https://localhost:8080/",
     "height": 206
    },
    "id": "6V7jElBELYOH",
    "outputId": "17b6b563-9283-499d-bf5b-bcc652e87639"
   },
   "outputs": [
    {
     "data": {
      "text/html": [
       "<div>\n",
       "<style scoped>\n",
       "    .dataframe tbody tr th:only-of-type {\n",
       "        vertical-align: middle;\n",
       "    }\n",
       "\n",
       "    .dataframe tbody tr th {\n",
       "        vertical-align: top;\n",
       "    }\n",
       "\n",
       "    .dataframe thead th {\n",
       "        text-align: right;\n",
       "    }\n",
       "</style>\n",
       "<table border=\"1\" class=\"dataframe\">\n",
       "  <thead>\n",
       "    <tr style=\"text-align: right;\">\n",
       "      <th></th>\n",
       "      <th>county</th>\n",
       "      <th>state</th>\n",
       "      <th>cases</th>\n",
       "      <th>confirmed_cases</th>\n",
       "      <th>deaths</th>\n",
       "    </tr>\n",
       "  </thead>\n",
       "  <tbody>\n",
       "    <tr>\n",
       "      <th>1847</th>\n",
       "      <td>Albany</td>\n",
       "      <td>New York</td>\n",
       "      <td>24675</td>\n",
       "      <td>24675.0</td>\n",
       "      <td>355.0</td>\n",
       "    </tr>\n",
       "    <tr>\n",
       "      <th>1848</th>\n",
       "      <td>Allegany</td>\n",
       "      <td>New York</td>\n",
       "      <td>3549</td>\n",
       "      <td>3549.0</td>\n",
       "      <td>87.0</td>\n",
       "    </tr>\n",
       "    <tr>\n",
       "      <th>1849</th>\n",
       "      <td>Broome</td>\n",
       "      <td>New York</td>\n",
       "      <td>18599</td>\n",
       "      <td>18599.0</td>\n",
       "      <td>365.0</td>\n",
       "    </tr>\n",
       "    <tr>\n",
       "      <th>1850</th>\n",
       "      <td>Cattaraugus</td>\n",
       "      <td>New York</td>\n",
       "      <td>5716</td>\n",
       "      <td>5716.0</td>\n",
       "      <td>90.0</td>\n",
       "    </tr>\n",
       "    <tr>\n",
       "      <th>1851</th>\n",
       "      <td>Cayuga</td>\n",
       "      <td>New York</td>\n",
       "      <td>6329</td>\n",
       "      <td>6329.0</td>\n",
       "      <td>92.0</td>\n",
       "    </tr>\n",
       "  </tbody>\n",
       "</table>\n",
       "</div>"
      ],
      "text/plain": [
       "           county     state  cases  confirmed_cases  deaths\n",
       "1847       Albany  New York  24675          24675.0   355.0\n",
       "1848     Allegany  New York   3549           3549.0    87.0\n",
       "1849       Broome  New York  18599          18599.0   365.0\n",
       "1850  Cattaraugus  New York   5716           5716.0    90.0\n",
       "1851       Cayuga  New York   6329           6329.0    92.0"
      ]
     },
     "execution_count": 236,
     "metadata": {
      "tags": []
     },
     "output_type": "execute_result"
    }
   ],
   "source": [
    "group_by_state.get_group('New York').head()"
   ]
  },
  {
   "cell_type": "markdown",
   "metadata": {
    "id": "gG7G3-hA7_wK"
   },
   "source": [
    "And we can use the `.head(n)` method to return `n` entries per group."
   ]
  },
  {
   "cell_type": "code",
   "execution_count": null,
   "metadata": {
    "colab": {
     "base_uri": "https://localhost:8080/",
     "height": 423
    },
    "id": "KSaWc8BX8ED0",
    "outputId": "b010763a-4b83-4060-e67a-5d35ba549433"
   },
   "outputs": [
    {
     "data": {
      "text/html": [
       "<div>\n",
       "<style scoped>\n",
       "    .dataframe tbody tr th:only-of-type {\n",
       "        vertical-align: middle;\n",
       "    }\n",
       "\n",
       "    .dataframe tbody tr th {\n",
       "        vertical-align: top;\n",
       "    }\n",
       "\n",
       "    .dataframe thead th {\n",
       "        text-align: right;\n",
       "    }\n",
       "</style>\n",
       "<table border=\"1\" class=\"dataframe\">\n",
       "  <thead>\n",
       "    <tr style=\"text-align: right;\">\n",
       "      <th></th>\n",
       "      <th>county</th>\n",
       "      <th>state</th>\n",
       "      <th>cases</th>\n",
       "      <th>confirmed_cases</th>\n",
       "      <th>deaths</th>\n",
       "    </tr>\n",
       "  </thead>\n",
       "  <tbody>\n",
       "    <tr>\n",
       "      <th>0</th>\n",
       "      <td>Autauga</td>\n",
       "      <td>Alabama</td>\n",
       "      <td>7206</td>\n",
       "      <td>6024.0</td>\n",
       "      <td>113.0</td>\n",
       "    </tr>\n",
       "    <tr>\n",
       "      <th>1</th>\n",
       "      <td>Baldwin</td>\n",
       "      <td>Alabama</td>\n",
       "      <td>21724</td>\n",
       "      <td>15259.0</td>\n",
       "      <td>312.0</td>\n",
       "    </tr>\n",
       "    <tr>\n",
       "      <th>2</th>\n",
       "      <td>Barbour</td>\n",
       "      <td>Alabama</td>\n",
       "      <td>2343</td>\n",
       "      <td>1306.0</td>\n",
       "      <td>59.0</td>\n",
       "    </tr>\n",
       "    <tr>\n",
       "      <th>67</th>\n",
       "      <td>Aleutians East Borough</td>\n",
       "      <td>Alaska</td>\n",
       "      <td>367</td>\n",
       "      <td>NaN</td>\n",
       "      <td>3.0</td>\n",
       "    </tr>\n",
       "    <tr>\n",
       "      <th>68</th>\n",
       "      <td>Aleutians West Census Area</td>\n",
       "      <td>Alaska</td>\n",
       "      <td>708</td>\n",
       "      <td>NaN</td>\n",
       "      <td>0.0</td>\n",
       "    </tr>\n",
       "    <tr>\n",
       "      <th>...</th>\n",
       "      <td>...</td>\n",
       "      <td>...</td>\n",
       "      <td>...</td>\n",
       "      <td>...</td>\n",
       "      <td>...</td>\n",
       "    </tr>\n",
       "    <tr>\n",
       "      <th>3154</th>\n",
       "      <td>Ashland</td>\n",
       "      <td>Wisconsin</td>\n",
       "      <td>1396</td>\n",
       "      <td>1287.0</td>\n",
       "      <td>15.0</td>\n",
       "    </tr>\n",
       "    <tr>\n",
       "      <th>3155</th>\n",
       "      <td>Barron</td>\n",
       "      <td>Wisconsin</td>\n",
       "      <td>6035</td>\n",
       "      <td>5876.0</td>\n",
       "      <td>84.0</td>\n",
       "    </tr>\n",
       "    <tr>\n",
       "      <th>3225</th>\n",
       "      <td>Albany</td>\n",
       "      <td>Wyoming</td>\n",
       "      <td>4540</td>\n",
       "      <td>4007.0</td>\n",
       "      <td>15.0</td>\n",
       "    </tr>\n",
       "    <tr>\n",
       "      <th>3226</th>\n",
       "      <td>Big Horn</td>\n",
       "      <td>Wyoming</td>\n",
       "      <td>1194</td>\n",
       "      <td>962.0</td>\n",
       "      <td>34.0</td>\n",
       "    </tr>\n",
       "    <tr>\n",
       "      <th>3227</th>\n",
       "      <td>Campbell</td>\n",
       "      <td>Wyoming</td>\n",
       "      <td>5086</td>\n",
       "      <td>4555.0</td>\n",
       "      <td>60.0</td>\n",
       "    </tr>\n",
       "  </tbody>\n",
       "</table>\n",
       "<p>160 rows × 5 columns</p>\n",
       "</div>"
      ],
      "text/plain": [
       "                          county      state  cases  confirmed_cases  deaths\n",
       "0                        Autauga    Alabama   7206           6024.0   113.0\n",
       "1                        Baldwin    Alabama  21724          15259.0   312.0\n",
       "2                        Barbour    Alabama   2343           1306.0    59.0\n",
       "67        Aleutians East Borough     Alaska    367              NaN     3.0\n",
       "68    Aleutians West Census Area     Alaska    708              NaN     0.0\n",
       "...                          ...        ...    ...              ...     ...\n",
       "3154                     Ashland  Wisconsin   1396           1287.0    15.0\n",
       "3155                      Barron  Wisconsin   6035           5876.0    84.0\n",
       "3225                      Albany    Wyoming   4540           4007.0    15.0\n",
       "3226                    Big Horn    Wyoming   1194            962.0    34.0\n",
       "3227                    Campbell    Wyoming   5086           4555.0    60.0\n",
       "\n",
       "[160 rows x 5 columns]"
      ]
     },
     "execution_count": 237,
     "metadata": {
      "tags": []
     },
     "output_type": "execute_result"
    }
   ],
   "source": [
    "group_by_state.head(3)"
   ]
  },
  {
   "cell_type": "markdown",
   "metadata": {
    "id": "hORXTeqkdN81"
   },
   "source": [
    "We can also use the `.sort_values()` method to re-order the rows according to one of our columns, let's do 'cases'."
   ]
  },
  {
   "cell_type": "code",
   "execution_count": null,
   "metadata": {
    "colab": {
     "base_uri": "https://localhost:8080/",
     "height": 206
    },
    "id": "-GPOrv7TdMi2",
    "outputId": "fd4bb90d-481f-4c63-8687-98d4ad0bbe47"
   },
   "outputs": [
    {
     "data": {
      "text/html": [
       "<div>\n",
       "<style scoped>\n",
       "    .dataframe tbody tr th:only-of-type {\n",
       "        vertical-align: middle;\n",
       "    }\n",
       "\n",
       "    .dataframe tbody tr th {\n",
       "        vertical-align: top;\n",
       "    }\n",
       "\n",
       "    .dataframe thead th {\n",
       "        text-align: right;\n",
       "    }\n",
       "</style>\n",
       "<table border=\"1\" class=\"dataframe\">\n",
       "  <thead>\n",
       "    <tr style=\"text-align: right;\">\n",
       "      <th></th>\n",
       "      <th>county</th>\n",
       "      <th>state</th>\n",
       "      <th>cases</th>\n",
       "      <th>confirmed_cases</th>\n",
       "      <th>deaths</th>\n",
       "    </tr>\n",
       "  </thead>\n",
       "  <tbody>\n",
       "    <tr>\n",
       "      <th>1875</th>\n",
       "      <td>New York City</td>\n",
       "      <td>New York</td>\n",
       "      <td>951084</td>\n",
       "      <td>935848.0</td>\n",
       "      <td>33307.0</td>\n",
       "    </tr>\n",
       "    <tr>\n",
       "      <th>1894</th>\n",
       "      <td>Suffolk</td>\n",
       "      <td>New York</td>\n",
       "      <td>200766</td>\n",
       "      <td>200766.0</td>\n",
       "      <td>3397.0</td>\n",
       "    </tr>\n",
       "    <tr>\n",
       "      <th>1874</th>\n",
       "      <td>Nassau</td>\n",
       "      <td>New York</td>\n",
       "      <td>183422</td>\n",
       "      <td>183422.0</td>\n",
       "      <td>3173.0</td>\n",
       "    </tr>\n",
       "    <tr>\n",
       "      <th>1902</th>\n",
       "      <td>Westchester</td>\n",
       "      <td>New York</td>\n",
       "      <td>129506</td>\n",
       "      <td>129506.0</td>\n",
       "      <td>2285.0</td>\n",
       "    </tr>\n",
       "    <tr>\n",
       "      <th>1860</th>\n",
       "      <td>Erie</td>\n",
       "      <td>New York</td>\n",
       "      <td>89472</td>\n",
       "      <td>89472.0</td>\n",
       "      <td>1800.0</td>\n",
       "    </tr>\n",
       "  </tbody>\n",
       "</table>\n",
       "</div>"
      ],
      "text/plain": [
       "             county     state   cases  confirmed_cases   deaths\n",
       "1875  New York City  New York  951084         935848.0  33307.0\n",
       "1894        Suffolk  New York  200766         200766.0   3397.0\n",
       "1874         Nassau  New York  183422         183422.0   3173.0\n",
       "1902    Westchester  New York  129506         129506.0   2285.0\n",
       "1860           Erie  New York   89472          89472.0   1800.0"
      ]
     },
     "execution_count": 238,
     "metadata": {
      "tags": []
     },
     "output_type": "execute_result"
    }
   ],
   "source": [
    "group_by_state.get_group('New York').sort_values('cases', ascending=False).head()"
   ]
  },
  {
   "cell_type": "markdown",
   "metadata": {
    "id": "sQBk_wj2_DP5"
   },
   "source": [
    "Apply summary operation to a groupby object. Applying the `.max()` will attempt to find the max value for each column.\n",
    "\n"
   ]
  },
  {
   "cell_type": "code",
   "execution_count": null,
   "metadata": {
    "colab": {
     "base_uri": "https://localhost:8080/",
     "height": 237
    },
    "id": "x06FGVWX_DP5",
    "outputId": "c3a313fb-e377-4619-b988-87093f6dbba0"
   },
   "outputs": [
    {
     "data": {
      "text/html": [
       "<div>\n",
       "<style scoped>\n",
       "    .dataframe tbody tr th:only-of-type {\n",
       "        vertical-align: middle;\n",
       "    }\n",
       "\n",
       "    .dataframe tbody tr th {\n",
       "        vertical-align: top;\n",
       "    }\n",
       "\n",
       "    .dataframe thead th {\n",
       "        text-align: right;\n",
       "    }\n",
       "</style>\n",
       "<table border=\"1\" class=\"dataframe\">\n",
       "  <thead>\n",
       "    <tr style=\"text-align: right;\">\n",
       "      <th></th>\n",
       "      <th>county</th>\n",
       "      <th>cases</th>\n",
       "      <th>confirmed_cases</th>\n",
       "      <th>deaths</th>\n",
       "    </tr>\n",
       "    <tr>\n",
       "      <th>state</th>\n",
       "      <th></th>\n",
       "      <th></th>\n",
       "      <th></th>\n",
       "      <th></th>\n",
       "    </tr>\n",
       "  </thead>\n",
       "  <tbody>\n",
       "    <tr>\n",
       "      <th>Alabama</th>\n",
       "      <td>Winston</td>\n",
       "      <td>80681</td>\n",
       "      <td>70084.0</td>\n",
       "      <td>1549.0</td>\n",
       "    </tr>\n",
       "    <tr>\n",
       "      <th>Alaska</th>\n",
       "      <td>Yukon-Koyukuk Census Area</td>\n",
       "      <td>30620</td>\n",
       "      <td>NaN</td>\n",
       "      <td>174.0</td>\n",
       "    </tr>\n",
       "    <tr>\n",
       "      <th>Arizona</th>\n",
       "      <td>Yuma</td>\n",
       "      <td>552781</td>\n",
       "      <td>NaN</td>\n",
       "      <td>10112.0</td>\n",
       "    </tr>\n",
       "    <tr>\n",
       "      <th>Arkansas</th>\n",
       "      <td>Yell</td>\n",
       "      <td>40002</td>\n",
       "      <td>34264.0</td>\n",
       "      <td>668.0</td>\n",
       "    </tr>\n",
       "    <tr>\n",
       "      <th>California</th>\n",
       "      <td>Yuba</td>\n",
       "      <td>1245788</td>\n",
       "      <td>1245120.0</td>\n",
       "      <td>24410.0</td>\n",
       "    </tr>\n",
       "  </tbody>\n",
       "</table>\n",
       "</div>"
      ],
      "text/plain": [
       "                               county    cases  confirmed_cases   deaths\n",
       "state                                                                   \n",
       "Alabama                       Winston    80681          70084.0   1549.0\n",
       "Alaska      Yukon-Koyukuk Census Area    30620              NaN    174.0\n",
       "Arizona                          Yuma   552781              NaN  10112.0\n",
       "Arkansas                         Yell    40002          34264.0    668.0\n",
       "California                       Yuba  1245788        1245120.0  24410.0"
      ]
     },
     "execution_count": 239,
     "metadata": {
      "tags": []
     },
     "output_type": "execute_result"
    }
   ],
   "source": [
    "group_by_state.max().head()"
   ]
  },
  {
   "cell_type": "markdown",
   "metadata": {
    "id": "OpvIYDYHd675"
   },
   "source": [
    "Note, however, that entries for each row are now unliked, that is, Yuba county in California did not have 1245788 cases, simly that applying 'max' to the column 'county' returns the maximum value of the strings in that column (i.e. Yuba > San Francisco)."
   ]
  },
  {
   "cell_type": "markdown",
   "metadata": {
    "id": "mdienm3V_DP6"
   },
   "source": [
    "Finally, lets select the top two counties per state and plot the counts. To accomplish this, we will need a series of operations."
   ]
  },
  {
   "cell_type": "code",
   "execution_count": null,
   "metadata": {
    "colab": {
     "base_uri": "https://localhost:8080/",
     "height": 423
    },
    "id": "OOI4R8B3_DP6",
    "outputId": "4296877c-9508-4998-8dea-5bb36ea4ea2e"
   },
   "outputs": [
    {
     "data": {
      "text/html": [
       "<div>\n",
       "<style scoped>\n",
       "    .dataframe tbody tr th:only-of-type {\n",
       "        vertical-align: middle;\n",
       "    }\n",
       "\n",
       "    .dataframe tbody tr th {\n",
       "        vertical-align: top;\n",
       "    }\n",
       "\n",
       "    .dataframe thead th {\n",
       "        text-align: right;\n",
       "    }\n",
       "</style>\n",
       "<table border=\"1\" class=\"dataframe\">\n",
       "  <thead>\n",
       "    <tr style=\"text-align: right;\">\n",
       "      <th></th>\n",
       "      <th>county</th>\n",
       "      <th>state</th>\n",
       "      <th>cases</th>\n",
       "      <th>confirmed_cases</th>\n",
       "      <th>deaths</th>\n",
       "    </tr>\n",
       "  </thead>\n",
       "  <tbody>\n",
       "    <tr>\n",
       "      <th>204</th>\n",
       "      <td>Los Angeles</td>\n",
       "      <td>California</td>\n",
       "      <td>1245788</td>\n",
       "      <td>1245120.0</td>\n",
       "      <td>24410.0</td>\n",
       "    </tr>\n",
       "    <tr>\n",
       "      <th>1875</th>\n",
       "      <td>New York City</td>\n",
       "      <td>New York</td>\n",
       "      <td>951084</td>\n",
       "      <td>935848.0</td>\n",
       "      <td>33307.0</td>\n",
       "    </tr>\n",
       "    <tr>\n",
       "      <th>615</th>\n",
       "      <td>Cook</td>\n",
       "      <td>Illinois</td>\n",
       "      <td>555060</td>\n",
       "      <td>NaN</td>\n",
       "      <td>10934.0</td>\n",
       "    </tr>\n",
       "    <tr>\n",
       "      <th>102</th>\n",
       "      <td>Maricopa</td>\n",
       "      <td>Arizona</td>\n",
       "      <td>552781</td>\n",
       "      <td>NaN</td>\n",
       "      <td>10112.0</td>\n",
       "    </tr>\n",
       "    <tr>\n",
       "      <th>364</th>\n",
       "      <td>Miami-Dade</td>\n",
       "      <td>Florida</td>\n",
       "      <td>501925</td>\n",
       "      <td>NaN</td>\n",
       "      <td>6472.0</td>\n",
       "    </tr>\n",
       "    <tr>\n",
       "      <th>...</th>\n",
       "      <td>...</td>\n",
       "      <td>...</td>\n",
       "      <td>...</td>\n",
       "      <td>...</td>\n",
       "      <td>...</td>\n",
       "    </tr>\n",
       "    <tr>\n",
       "      <th>2918</th>\n",
       "      <td>Rutland</td>\n",
       "      <td>Vermont</td>\n",
       "      <td>2278</td>\n",
       "      <td>NaN</td>\n",
       "      <td>20.0</td>\n",
       "    </tr>\n",
       "    <tr>\n",
       "      <th>3058</th>\n",
       "      <td>St. Thomas</td>\n",
       "      <td>Virgin Islands</td>\n",
       "      <td>1913</td>\n",
       "      <td>1913.0</td>\n",
       "      <td>17.0</td>\n",
       "    </tr>\n",
       "    <tr>\n",
       "      <th>3056</th>\n",
       "      <td>St. Croix</td>\n",
       "      <td>Virgin Islands</td>\n",
       "      <td>1401</td>\n",
       "      <td>1401.0</td>\n",
       "      <td>10.0</td>\n",
       "    </tr>\n",
       "    <tr>\n",
       "      <th>2059</th>\n",
       "      <td>Saipan</td>\n",
       "      <td>Northern Mariana Islands</td>\n",
       "      <td>181</td>\n",
       "      <td>181.0</td>\n",
       "      <td>2.0</td>\n",
       "    </tr>\n",
       "    <tr>\n",
       "      <th>2060</th>\n",
       "      <td>Tinian</td>\n",
       "      <td>Northern Mariana Islands</td>\n",
       "      <td>2</td>\n",
       "      <td>2.0</td>\n",
       "      <td>0.0</td>\n",
       "    </tr>\n",
       "  </tbody>\n",
       "</table>\n",
       "<p>108 rows × 5 columns</p>\n",
       "</div>"
      ],
      "text/plain": [
       "             county                     state  ...  confirmed_cases   deaths\n",
       "204     Los Angeles                California  ...        1245120.0  24410.0\n",
       "1875  New York City                  New York  ...         935848.0  33307.0\n",
       "615            Cook                  Illinois  ...              NaN  10934.0\n",
       "102        Maricopa                   Arizona  ...              NaN  10112.0\n",
       "364      Miami-Dade                   Florida  ...              NaN   6472.0\n",
       "...             ...                       ...  ...              ...      ...\n",
       "2918        Rutland                   Vermont  ...              NaN     20.0\n",
       "3058     St. Thomas            Virgin Islands  ...           1913.0     17.0\n",
       "3056      St. Croix            Virgin Islands  ...           1401.0     10.0\n",
       "2059         Saipan  Northern Mariana Islands  ...            181.0      2.0\n",
       "2060         Tinian  Northern Mariana Islands  ...              2.0      0.0\n",
       "\n",
       "[108 rows x 5 columns]"
      ]
     },
     "execution_count": 240,
     "metadata": {
      "tags": []
     },
     "output_type": "execute_result"
    }
   ],
   "source": [
    "n_counties = 2\n",
    "top_counties_by_state = covid_live_counties_simple.sort_values(['cases'], ascending=[False]).groupby('state').head(n_counties)\n",
    "top_counties_by_state"
   ]
  },
  {
   "cell_type": "code",
   "execution_count": null,
   "metadata": {
    "colab": {
     "base_uri": "https://localhost:8080/",
     "height": 296
    },
    "id": "hG4OhfRzNd-6",
    "outputId": "2689aea9-fe54-4512-97aa-884e98934b63"
   },
   "outputs": [
    {
     "data": {
      "text/plain": [
       "<matplotlib.axes._subplots.AxesSubplot at 0x7f30ea2f41d0>"
      ]
     },
     "execution_count": 241,
     "metadata": {
      "tags": []
     },
     "output_type": "execute_result"
    },
    {
     "data": {
      "image/png": "[encoded data removed]",
      "text/plain": [
       "<Figure size 432x288 with 1 Axes>"
      ]
     },
     "metadata": {
      "needs_background": "light",
      "tags": []
     },
     "output_type": "display_data"
    }
   ],
   "source": [
    "top_counties_by_state.plot.scatter(x='cases',y='deaths')"
   ]
  },
  {
   "cell_type": "markdown",
   "metadata": {
    "id": "lfLLmcdoPKKM"
   },
   "source": [
    "## Lets directly compute the Case-Fatality Rate by state"
   ]
  },
  {
   "cell_type": "code",
   "execution_count": null,
   "metadata": {
    "colab": {
     "base_uri": "https://localhost:8080/",
     "height": 412
    },
    "id": "qrOqcCyc_DP7",
    "outputId": "851101a3-16a6-4f63-80a7-21ccb2e65e2d"
   },
   "outputs": [
    {
     "data": {
      "text/plain": [
       "<matplotlib.axes._subplots.AxesSubplot at 0x7f30e9ce1090>"
      ]
     },
     "execution_count": 242,
     "metadata": {
      "tags": []
     },
     "output_type": "execute_result"
    },
    {
     "data": {
      "image/png": "[encoded data removed]",
      "text/plain": [
       "<Figure size 432x288 with 1 Axes>"
      ]
     },
     "metadata": {
      "needs_background": "light",
      "tags": []
     },
     "output_type": "display_data"
    }
   ],
   "source": [
    "totals_by_state = group_by_state.sum()\n",
    "cfr = totals_by_state.deaths/totals_by_state.cases\n",
    "cfr.plot.bar()"
   ]
  },
  {
   "cell_type": "markdown",
   "metadata": {
    "id": "1Ff30wnE_DP7"
   },
   "source": [
    "# Other examples / exercises"
   ]
  },
  {
   "cell_type": "markdown",
   "metadata": {
    "id": "-elxg8yn_DP8"
   },
   "source": [
    "Time evolution in California"
   ]
  },
  {
   "cell_type": "code",
   "execution_count": null,
   "metadata": {
    "collapsed": true,
    "id": "7JQVjTHM_DP8",
    "jupyter": {
     "outputs_hidden": true
    }
   },
   "outputs": [],
   "source": [
    "covid_history=pd.read_csv('https://raw.githubusercontent.com/nytimes/covid-19-data/master/us-states.csv')"
   ]
  },
  {
   "cell_type": "code",
   "execution_count": null,
   "metadata": {
    "colab": {
     "base_uri": "https://localhost:8080/",
     "height": 206
    },
    "id": "UvxnyLnH_DP8",
    "outputId": "5302abc5-5a2f-48e5-9245-4bc40f7c12d8"
   },
   "outputs": [
    {
     "data": {
      "text/html": [
       "<div>\n",
       "<style scoped>\n",
       "    .dataframe tbody tr th:only-of-type {\n",
       "        vertical-align: middle;\n",
       "    }\n",
       "\n",
       "    .dataframe tbody tr th {\n",
       "        vertical-align: top;\n",
       "    }\n",
       "\n",
       "    .dataframe thead th {\n",
       "        text-align: right;\n",
       "    }\n",
       "</style>\n",
       "<table border=\"1\" class=\"dataframe\">\n",
       "  <thead>\n",
       "    <tr style=\"text-align: right;\">\n",
       "      <th></th>\n",
       "      <th>date</th>\n",
       "      <th>state</th>\n",
       "      <th>fips</th>\n",
       "      <th>cases</th>\n",
       "      <th>deaths</th>\n",
       "    </tr>\n",
       "  </thead>\n",
       "  <tbody>\n",
       "    <tr>\n",
       "      <th>0</th>\n",
       "      <td>2020-01-21</td>\n",
       "      <td>Washington</td>\n",
       "      <td>53</td>\n",
       "      <td>1</td>\n",
       "      <td>0</td>\n",
       "    </tr>\n",
       "    <tr>\n",
       "      <th>1</th>\n",
       "      <td>2020-01-22</td>\n",
       "      <td>Washington</td>\n",
       "      <td>53</td>\n",
       "      <td>1</td>\n",
       "      <td>0</td>\n",
       "    </tr>\n",
       "    <tr>\n",
       "      <th>2</th>\n",
       "      <td>2020-01-23</td>\n",
       "      <td>Washington</td>\n",
       "      <td>53</td>\n",
       "      <td>1</td>\n",
       "      <td>0</td>\n",
       "    </tr>\n",
       "    <tr>\n",
       "      <th>3</th>\n",
       "      <td>2020-01-24</td>\n",
       "      <td>Illinois</td>\n",
       "      <td>17</td>\n",
       "      <td>1</td>\n",
       "      <td>0</td>\n",
       "    </tr>\n",
       "    <tr>\n",
       "      <th>4</th>\n",
       "      <td>2020-01-24</td>\n",
       "      <td>Washington</td>\n",
       "      <td>53</td>\n",
       "      <td>1</td>\n",
       "      <td>0</td>\n",
       "    </tr>\n",
       "  </tbody>\n",
       "</table>\n",
       "</div>"
      ],
      "text/plain": [
       "         date       state  fips  cases  deaths\n",
       "0  2020-01-21  Washington    53      1       0\n",
       "1  2020-01-22  Washington    53      1       0\n",
       "2  2020-01-23  Washington    53      1       0\n",
       "3  2020-01-24    Illinois    17      1       0\n",
       "4  2020-01-24  Washington    53      1       0"
      ]
     },
     "execution_count": 244,
     "metadata": {
      "tags": []
     },
     "output_type": "execute_result"
    }
   ],
   "source": [
    "covid_history.head()"
   ]
  },
  {
   "cell_type": "markdown",
   "metadata": {
    "id": "vz0iHfKP_DP9"
   },
   "source": [
    "Data types?"
   ]
  },
  {
   "cell_type": "code",
   "execution_count": null,
   "metadata": {
    "colab": {
     "base_uri": "https://localhost:8080/"
    },
    "id": "rBpeW73p_DP9",
    "outputId": "01e6fbd5-c950-4273-b8f5-cc99fbe87061"
   },
   "outputs": [
    {
     "data": {
      "text/plain": [
       "date      object\n",
       "state     object\n",
       "fips       int64\n",
       "cases      int64\n",
       "deaths     int64\n",
       "dtype: object"
      ]
     },
     "execution_count": 245,
     "metadata": {
      "tags": []
     },
     "output_type": "execute_result"
    }
   ],
   "source": [
    "covid_history.dtypes"
   ]
  },
  {
   "cell_type": "markdown",
   "metadata": {
    "id": "EALTWEIi_DP9"
   },
   "source": [
    "We want the date to be represented as a date, not a string"
   ]
  },
  {
   "cell_type": "code",
   "execution_count": null,
   "metadata": {
    "colab": {
     "base_uri": "https://localhost:8080/"
    },
    "id": "NFgi3Jng_DP-",
    "outputId": "02bb800f-7de6-455b-9490-4cfe8bf56389"
   },
   "outputs": [
    {
     "data": {
      "text/plain": [
       "0       2020-01-21\n",
       "1       2020-01-22\n",
       "2       2020-01-23\n",
       "3       2020-01-24\n",
       "4       2020-01-24\n",
       "           ...    \n",
       "25364   2021-06-06\n",
       "25365   2021-06-06\n",
       "25366   2021-06-06\n",
       "25367   2021-06-06\n",
       "25368   2021-06-06\n",
       "Name: date, Length: 25369, dtype: datetime64[ns]"
      ]
     },
     "execution_count": 246,
     "metadata": {
      "tags": []
     },
     "output_type": "execute_result"
    }
   ],
   "source": [
    "pd.to_datetime(covid_history['date'], infer_datetime_format=True)\n"
   ]
  },
  {
   "cell_type": "code",
   "execution_count": null,
   "metadata": {
    "id": "IirAHVbh_DP-"
   },
   "outputs": [],
   "source": [
    "covid_history['date']=pd.to_datetime(covid_history['date'], infer_datetime_format=True)"
   ]
  },
  {
   "cell_type": "code",
   "execution_count": null,
   "metadata": {
    "colab": {
     "base_uri": "https://localhost:8080/"
    },
    "id": "UtyizI1q_DP-",
    "outputId": "6b0d46be-0d7b-4688-8de9-11f4b4aae044"
   },
   "outputs": [
    {
     "data": {
      "text/plain": [
       "date      datetime64[ns]\n",
       "state             object\n",
       "fips               int64\n",
       "cases              int64\n",
       "deaths             int64\n",
       "dtype: object"
      ]
     },
     "execution_count": 248,
     "metadata": {
      "tags": []
     },
     "output_type": "execute_result"
    }
   ],
   "source": [
    "covid_history.dtypes"
   ]
  },
  {
   "cell_type": "markdown",
   "metadata": {
    "id": "0HP0q3g8_DP_"
   },
   "source": [
    "## Changing index"
   ]
  },
  {
   "cell_type": "code",
   "execution_count": null,
   "metadata": {
    "id": "fuh4EBQb_DP_"
   },
   "outputs": [],
   "source": [
    "covid_history_ca = covid_history.loc[covid_history['state']=='California']"
   ]
  },
  {
   "cell_type": "code",
   "execution_count": null,
   "metadata": {
    "colab": {
     "base_uri": "https://localhost:8080/"
    },
    "id": "8i9V5c2v_DP_",
    "outputId": "961a4407-905b-4011-b09f-5bdf32e5d34b"
   },
   "outputs": [
    {
     "data": {
      "text/html": [
       "<div>\n",
       "<style scoped>\n",
       "    .dataframe tbody tr th:only-of-type {\n",
       "        vertical-align: middle;\n",
       "    }\n",
       "\n",
       "    .dataframe tbody tr th {\n",
       "        vertical-align: top;\n",
       "    }\n",
       "\n",
       "    .dataframe thead th {\n",
       "        text-align: right;\n",
       "    }\n",
       "</style>\n",
       "<table border=\"1\" class=\"dataframe\">\n",
       "  <thead>\n",
       "    <tr style=\"text-align: right;\">\n",
       "      <th></th>\n",
       "      <th>date</th>\n",
       "      <th>state</th>\n",
       "      <th>fips</th>\n",
       "      <th>cases</th>\n",
       "      <th>deaths</th>\n",
       "    </tr>\n",
       "  </thead>\n",
       "  <tbody>\n",
       "    <tr>\n",
       "      <th>5</th>\n",
       "      <td>2020-01-25</td>\n",
       "      <td>California</td>\n",
       "      <td>6</td>\n",
       "      <td>1</td>\n",
       "      <td>0</td>\n",
       "    </tr>\n",
       "    <tr>\n",
       "      <th>9</th>\n",
       "      <td>2020-01-26</td>\n",
       "      <td>California</td>\n",
       "      <td>6</td>\n",
       "      <td>2</td>\n",
       "      <td>0</td>\n",
       "    </tr>\n",
       "    <tr>\n",
       "      <th>13</th>\n",
       "      <td>2020-01-27</td>\n",
       "      <td>California</td>\n",
       "      <td>6</td>\n",
       "      <td>2</td>\n",
       "      <td>0</td>\n",
       "    </tr>\n",
       "    <tr>\n",
       "      <th>17</th>\n",
       "      <td>2020-01-28</td>\n",
       "      <td>California</td>\n",
       "      <td>6</td>\n",
       "      <td>2</td>\n",
       "      <td>0</td>\n",
       "    </tr>\n",
       "    <tr>\n",
       "      <th>21</th>\n",
       "      <td>2020-01-29</td>\n",
       "      <td>California</td>\n",
       "      <td>6</td>\n",
       "      <td>2</td>\n",
       "      <td>0</td>\n",
       "    </tr>\n",
       "    <tr>\n",
       "      <th>...</th>\n",
       "      <td>...</td>\n",
       "      <td>...</td>\n",
       "      <td>...</td>\n",
       "      <td>...</td>\n",
       "      <td>...</td>\n",
       "    </tr>\n",
       "    <tr>\n",
       "      <th>25098</th>\n",
       "      <td>2021-06-02</td>\n",
       "      <td>California</td>\n",
       "      <td>6</td>\n",
       "      <td>3791972</td>\n",
       "      <td>63287</td>\n",
       "    </tr>\n",
       "    <tr>\n",
       "      <th>25153</th>\n",
       "      <td>2021-06-03</td>\n",
       "      <td>California</td>\n",
       "      <td>6</td>\n",
       "      <td>3793055</td>\n",
       "      <td>63345</td>\n",
       "    </tr>\n",
       "    <tr>\n",
       "      <th>25208</th>\n",
       "      <td>2021-06-04</td>\n",
       "      <td>California</td>\n",
       "      <td>6</td>\n",
       "      <td>3794235</td>\n",
       "      <td>63393</td>\n",
       "    </tr>\n",
       "    <tr>\n",
       "      <th>25263</th>\n",
       "      <td>2021-06-05</td>\n",
       "      <td>California</td>\n",
       "      <td>6</td>\n",
       "      <td>3795063</td>\n",
       "      <td>63423</td>\n",
       "    </tr>\n",
       "    <tr>\n",
       "      <th>25318</th>\n",
       "      <td>2021-06-06</td>\n",
       "      <td>California</td>\n",
       "      <td>6</td>\n",
       "      <td>3795820</td>\n",
       "      <td>63544</td>\n",
       "    </tr>\n",
       "  </tbody>\n",
       "</table>\n",
       "<p>499 rows × 5 columns</p>\n",
       "</div>"
      ],
      "text/plain": [
       "            date       state  fips    cases  deaths\n",
       "5     2020-01-25  California     6        1       0\n",
       "9     2020-01-26  California     6        2       0\n",
       "13    2020-01-27  California     6        2       0\n",
       "17    2020-01-28  California     6        2       0\n",
       "21    2020-01-29  California     6        2       0\n",
       "...          ...         ...   ...      ...     ...\n",
       "25098 2021-06-02  California     6  3791972   63287\n",
       "25153 2021-06-03  California     6  3793055   63345\n",
       "25208 2021-06-04  California     6  3794235   63393\n",
       "25263 2021-06-05  California     6  3795063   63423\n",
       "25318 2021-06-06  California     6  3795820   63544\n",
       "\n",
       "[499 rows x 5 columns]"
      ]
     },
     "execution_count": 250,
     "metadata": {
      "tags": []
     },
     "output_type": "execute_result"
    }
   ],
   "source": [
    "covid_history_ca"
   ]
  },
  {
   "cell_type": "markdown",
   "metadata": {
    "id": "HL-PHIk2_DP_"
   },
   "source": [
    "Remove the state column"
   ]
  },
  {
   "cell_type": "code",
   "execution_count": null,
   "metadata": {
    "id": "PUSp7izK_DP_"
   },
   "outputs": [],
   "source": [
    "covid_history_ca=covid_history_ca.drop('state', axis=1)"
   ]
  },
  {
   "cell_type": "code",
   "execution_count": null,
   "metadata": {
    "colab": {
     "base_uri": "https://localhost:8080/"
    },
    "id": "Q-jjO7uH_DQA",
    "outputId": "42aecb27-dfb3-408f-eb26-4aa4cab923aa"
   },
   "outputs": [
    {
     "data": {
      "text/html": [
       "<div>\n",
       "<style scoped>\n",
       "    .dataframe tbody tr th:only-of-type {\n",
       "        vertical-align: middle;\n",
       "    }\n",
       "\n",
       "    .dataframe tbody tr th {\n",
       "        vertical-align: top;\n",
       "    }\n",
       "\n",
       "    .dataframe thead th {\n",
       "        text-align: right;\n",
       "    }\n",
       "</style>\n",
       "<table border=\"1\" class=\"dataframe\">\n",
       "  <thead>\n",
       "    <tr style=\"text-align: right;\">\n",
       "      <th></th>\n",
       "      <th>date</th>\n",
       "      <th>fips</th>\n",
       "      <th>cases</th>\n",
       "      <th>deaths</th>\n",
       "    </tr>\n",
       "  </thead>\n",
       "  <tbody>\n",
       "    <tr>\n",
       "      <th>5</th>\n",
       "      <td>2020-01-25</td>\n",
       "      <td>6</td>\n",
       "      <td>1</td>\n",
       "      <td>0</td>\n",
       "    </tr>\n",
       "    <tr>\n",
       "      <th>9</th>\n",
       "      <td>2020-01-26</td>\n",
       "      <td>6</td>\n",
       "      <td>2</td>\n",
       "      <td>0</td>\n",
       "    </tr>\n",
       "    <tr>\n",
       "      <th>13</th>\n",
       "      <td>2020-01-27</td>\n",
       "      <td>6</td>\n",
       "      <td>2</td>\n",
       "      <td>0</td>\n",
       "    </tr>\n",
       "    <tr>\n",
       "      <th>17</th>\n",
       "      <td>2020-01-28</td>\n",
       "      <td>6</td>\n",
       "      <td>2</td>\n",
       "      <td>0</td>\n",
       "    </tr>\n",
       "    <tr>\n",
       "      <th>21</th>\n",
       "      <td>2020-01-29</td>\n",
       "      <td>6</td>\n",
       "      <td>2</td>\n",
       "      <td>0</td>\n",
       "    </tr>\n",
       "  </tbody>\n",
       "</table>\n",
       "</div>"
      ],
      "text/plain": [
       "         date  fips  cases  deaths\n",
       "5  2020-01-25     6      1       0\n",
       "9  2020-01-26     6      2       0\n",
       "13 2020-01-27     6      2       0\n",
       "17 2020-01-28     6      2       0\n",
       "21 2020-01-29     6      2       0"
      ]
     },
     "execution_count": 252,
     "metadata": {
      "tags": []
     },
     "output_type": "execute_result"
    }
   ],
   "source": [
    "covid_history_ca.head()"
   ]
  },
  {
   "cell_type": "markdown",
   "metadata": {
    "id": "0325SJmg_DQA"
   },
   "source": [
    "Change the index to date"
   ]
  },
  {
   "cell_type": "code",
   "execution_count": null,
   "metadata": {
    "colab": {
     "base_uri": "https://localhost:8080/"
    },
    "id": "hVZYsuiL_DQA",
    "outputId": "819ea0ca-bbfe-40c7-b7b7-8f401c65f2a1"
   },
   "outputs": [
    {
     "data": {
      "text/html": [
       "<div>\n",
       "<style scoped>\n",
       "    .dataframe tbody tr th:only-of-type {\n",
       "        vertical-align: middle;\n",
       "    }\n",
       "\n",
       "    .dataframe tbody tr th {\n",
       "        vertical-align: top;\n",
       "    }\n",
       "\n",
       "    .dataframe thead th {\n",
       "        text-align: right;\n",
       "    }\n",
       "</style>\n",
       "<table border=\"1\" class=\"dataframe\">\n",
       "  <thead>\n",
       "    <tr style=\"text-align: right;\">\n",
       "      <th></th>\n",
       "      <th>fips</th>\n",
       "      <th>cases</th>\n",
       "      <th>deaths</th>\n",
       "    </tr>\n",
       "    <tr>\n",
       "      <th>date</th>\n",
       "      <th></th>\n",
       "      <th></th>\n",
       "      <th></th>\n",
       "    </tr>\n",
       "  </thead>\n",
       "  <tbody>\n",
       "    <tr>\n",
       "      <th>2020-01-25</th>\n",
       "      <td>6</td>\n",
       "      <td>1</td>\n",
       "      <td>0</td>\n",
       "    </tr>\n",
       "    <tr>\n",
       "      <th>2020-01-26</th>\n",
       "      <td>6</td>\n",
       "      <td>2</td>\n",
       "      <td>0</td>\n",
       "    </tr>\n",
       "    <tr>\n",
       "      <th>2020-01-27</th>\n",
       "      <td>6</td>\n",
       "      <td>2</td>\n",
       "      <td>0</td>\n",
       "    </tr>\n",
       "    <tr>\n",
       "      <th>2020-01-28</th>\n",
       "      <td>6</td>\n",
       "      <td>2</td>\n",
       "      <td>0</td>\n",
       "    </tr>\n",
       "    <tr>\n",
       "      <th>2020-01-29</th>\n",
       "      <td>6</td>\n",
       "      <td>2</td>\n",
       "      <td>0</td>\n",
       "    </tr>\n",
       "  </tbody>\n",
       "</table>\n",
       "</div>"
      ],
      "text/plain": [
       "            fips  cases  deaths\n",
       "date                           \n",
       "2020-01-25     6      1       0\n",
       "2020-01-26     6      2       0\n",
       "2020-01-27     6      2       0\n",
       "2020-01-28     6      2       0\n",
       "2020-01-29     6      2       0"
      ]
     },
     "execution_count": 253,
     "metadata": {
      "tags": []
     },
     "output_type": "execute_result"
    }
   ],
   "source": [
    "covid_history_ca = covid_history_ca.set_index('date')\n",
    "covid_history_ca.head()"
   ]
  },
  {
   "cell_type": "code",
   "execution_count": null,
   "metadata": {
    "collapsed": true,
    "id": "6X4_XS5h_DQA",
    "jupyter": {
     "outputs_hidden": true
    }
   },
   "outputs": [],
   "source": [
    "\n",
    "#import matplotlib as mp"
   ]
  },
  {
   "cell_type": "markdown",
   "metadata": {
    "id": "wgNHASBy_DQA"
   },
   "source": [
    "Plot time evolution"
   ]
  },
  {
   "cell_type": "code",
   "execution_count": null,
   "metadata": {
    "collapsed": true,
    "id": "JwKgQkW1_DQA",
    "jupyter": {
     "outputs_hidden": true
    }
   },
   "outputs": [],
   "source": [
    "%matplotlib inline"
   ]
  },
  {
   "cell_type": "code",
   "execution_count": null,
   "metadata": {
    "colab": {
     "base_uri": "https://localhost:8080/"
    },
    "id": "0XYD-vh2_DQB",
    "outputId": "3728462c-6d6d-4a69-912f-a2648409873d"
   },
   "outputs": [
    {
     "data": {
      "text/plain": [
       "array([<matplotlib.axes._subplots.AxesSubplot object at 0x7f30e9b88f10>,\n",
       "       <matplotlib.axes._subplots.AxesSubplot object at 0x7f30e9b3d110>],\n",
       "      dtype=object)"
      ]
     },
     "execution_count": 256,
     "metadata": {
      "tags": []
     },
     "output_type": "execute_result"
    },
    {
     "data": {
      "image/png": "[encoded data removed]",
      "text/plain": [
       "<Figure size 432x288 with 2 Axes>"
      ]
     },
     "metadata": {
      "needs_background": "light",
      "tags": []
     },
     "output_type": "display_data"
    }
   ],
   "source": [
    "covid_history_ca.reset_index().plot.line(x='date',y=['cases','deaths'], subplots=True)"
   ]
  },
  {
   "cell_type": "markdown",
   "metadata": {
    "id": "tcO_mqlu_DQB"
   },
   "source": [
    "## Adding column to dataframe"
   ]
  },
  {
   "cell_type": "code",
   "execution_count": null,
   "metadata": {
    "collapsed": true,
    "id": "9Z3-BXQM_DQB",
    "jupyter": {
     "outputs_hidden": true
    }
   },
   "outputs": [],
   "source": [
    "x= covid_history_ca['deaths']/covid_history_ca['cases']*100"
   ]
  },
  {
   "cell_type": "code",
   "execution_count": null,
   "metadata": {
    "colab": {
     "base_uri": "https://localhost:8080/"
    },
    "id": "bkdtHlVA_DQB",
    "outputId": "09ebc6c5-2c5e-44bc-98a0-1be31e400922"
   },
   "outputs": [
    {
     "data": {
      "text/plain": [
       "Text(0, 0.5, 'Deaths per 100 cases')"
      ]
     },
     "execution_count": 258,
     "metadata": {
      "tags": []
     },
     "output_type": "execute_result"
    },
    {
     "data": {
      "image/png": "[encoded data removed]",
      "text/plain": [
       "<Figure size 432x288 with 1 Axes>"
      ]
     },
     "metadata": {
      "needs_background": "light",
      "tags": []
     },
     "output_type": "display_data"
    }
   ],
   "source": [
    "ax=x.plot.line()\n",
    "ax.set_ylabel('Deaths per 100 cases')"
   ]
  },
  {
   "cell_type": "code",
   "execution_count": null,
   "metadata": {
    "id": "tB-LNPcx_DQB"
   },
   "outputs": [],
   "source": [
    "covid_history_ca['percent_death']=x"
   ]
  },
  {
   "cell_type": "code",
   "execution_count": null,
   "metadata": {
    "colab": {
     "base_uri": "https://localhost:8080/"
    },
    "id": "XQZYdERV_DQB",
    "outputId": "98ae572f-d9f6-44e4-a247-cd0fcd73ef67"
   },
   "outputs": [
    {
     "data": {
      "text/html": [
       "<div>\n",
       "<style scoped>\n",
       "    .dataframe tbody tr th:only-of-type {\n",
       "        vertical-align: middle;\n",
       "    }\n",
       "\n",
       "    .dataframe tbody tr th {\n",
       "        vertical-align: top;\n",
       "    }\n",
       "\n",
       "    .dataframe thead th {\n",
       "        text-align: right;\n",
       "    }\n",
       "</style>\n",
       "<table border=\"1\" class=\"dataframe\">\n",
       "  <thead>\n",
       "    <tr style=\"text-align: right;\">\n",
       "      <th></th>\n",
       "      <th>fips</th>\n",
       "      <th>cases</th>\n",
       "      <th>deaths</th>\n",
       "      <th>percent_death</th>\n",
       "    </tr>\n",
       "    <tr>\n",
       "      <th>date</th>\n",
       "      <th></th>\n",
       "      <th></th>\n",
       "      <th></th>\n",
       "      <th></th>\n",
       "    </tr>\n",
       "  </thead>\n",
       "  <tbody>\n",
       "    <tr>\n",
       "      <th>2020-01-25</th>\n",
       "      <td>6</td>\n",
       "      <td>1</td>\n",
       "      <td>0</td>\n",
       "      <td>0.0</td>\n",
       "    </tr>\n",
       "    <tr>\n",
       "      <th>2020-01-26</th>\n",
       "      <td>6</td>\n",
       "      <td>2</td>\n",
       "      <td>0</td>\n",
       "      <td>0.0</td>\n",
       "    </tr>\n",
       "    <tr>\n",
       "      <th>2020-01-27</th>\n",
       "      <td>6</td>\n",
       "      <td>2</td>\n",
       "      <td>0</td>\n",
       "      <td>0.0</td>\n",
       "    </tr>\n",
       "    <tr>\n",
       "      <th>2020-01-28</th>\n",
       "      <td>6</td>\n",
       "      <td>2</td>\n",
       "      <td>0</td>\n",
       "      <td>0.0</td>\n",
       "    </tr>\n",
       "    <tr>\n",
       "      <th>2020-01-29</th>\n",
       "      <td>6</td>\n",
       "      <td>2</td>\n",
       "      <td>0</td>\n",
       "      <td>0.0</td>\n",
       "    </tr>\n",
       "  </tbody>\n",
       "</table>\n",
       "</div>"
      ],
      "text/plain": [
       "            fips  cases  deaths  percent_death\n",
       "date                                          \n",
       "2020-01-25     6      1       0            0.0\n",
       "2020-01-26     6      2       0            0.0\n",
       "2020-01-27     6      2       0            0.0\n",
       "2020-01-28     6      2       0            0.0\n",
       "2020-01-29     6      2       0            0.0"
      ]
     },
     "execution_count": 260,
     "metadata": {
      "tags": []
     },
     "output_type": "execute_result"
    }
   ],
   "source": [
    "covid_history_ca.head()"
   ]
  },
  {
   "cell_type": "markdown",
   "metadata": {
    "id": "vAZhuwP4_DQB",
    "jupyter": {
     "outputs_hidden": true
    }
   },
   "source": [
    "## Session 2: More Plotting"
   ]
  },
  {
   "cell_type": "code",
   "execution_count": 37,
   "metadata": {},
   "outputs": [
    {
     "data": {
      "text/plain": [
       "array([[<AxesSubplot:title={'center':'cases'}>]], dtype=object)"
      ]
     },
     "execution_count": 37,
     "metadata": {},
     "output_type": "execute_result"
    },
    {
     "data": {
      "image/png": "[encoded data removed]",
      "text/plain": [
       "<Figure size 432x288 with 1 Axes>"
      ]
     },
     "metadata": {
      "needs_background": "light"
     },
     "output_type": "display_data"
    }
   ],
   "source": [
    "# Too many counties have 0 cases!\n",
    "covid_live_counties.hist(column='cases')\n"
   ]
  },
  {
   "cell_type": "code",
   "execution_count": 38,
   "metadata": {},
   "outputs": [
    {
     "data": {
      "text/plain": [
       "array([[<AxesSubplot:title={'center':'cases'}>]], dtype=object)"
      ]
     },
     "execution_count": 38,
     "metadata": {},
     "output_type": "execute_result"
    },
    {
     "data": {
      "image/png": "[encoded data removed]",
      "text/plain": [
       "<Figure size 432x288 with 1 Axes>"
      ]
     },
     "metadata": {
      "needs_background": "light"
     },
     "output_type": "display_data"
    }
   ],
   "source": [
    "# SElect top 50 counties\n",
    "covid_live_counties_top50=covid_live_counties.sort_values('cases', ascending=False).head(50)\n",
    "covid_live_counties_top50.hist(column='cases')"
   ]
  },
  {
   "cell_type": "code",
   "execution_count": 39,
   "metadata": {},
   "outputs": [
    {
     "data": {
      "text/plain": [
       "<AxesSubplot:title={'center':'cases'}, xlabel='state'>"
      ]
     },
     "execution_count": 39,
     "metadata": {},
     "output_type": "execute_result"
    },
    {
     "data": {
      "image/png": "[encoded data removed]",
      "text/plain": [
       "<Figure size 432x288 with 1 Axes>"
      ]
     },
     "metadata": {
      "needs_background": "light"
     },
     "output_type": "display_data"
    }
   ],
   "source": [
    "# Group by State\n",
    "# Select top 100 counties\n",
    "covid_live_counties_top100=covid_live_counties.sort_values('cases', ascending=False).head(100)\n",
    "covid_live_counties_top100.boxplot(column='cases', by='state')"
   ]
  },
  {
   "cell_type": "code",
   "execution_count": 40,
   "metadata": {},
   "outputs": [
    {
     "data": {
      "text/plain": [
       "Text(0, 0.5, 'Number of Cases')"
      ]
     },
     "execution_count": 40,
     "metadata": {},
     "output_type": "execute_result"
    },
    {
     "data": {
      "image/png": "[encoded data removed]",
      "text/plain": [
       "<Figure size 720x360 with 1 Axes>"
      ]
     },
     "metadata": {
      "needs_background": "light"
     },
     "output_type": "display_data"
    }
   ],
   "source": [
    "\n",
    "# Looks ugly! Let's make it more pretty\n",
    "axes = covid_live_counties_top100.boxplot(column='cases', by='state',figsize=(10,5))\n",
    "fig = axes.get_figure()\n",
    "fig.suptitle('')\n",
    "plt.xticks(rotation=90)\n",
    "plt.title('Case Distribution by State')\n",
    "plt.xlabel('State')\n",
    "plt.ylabel('Number of Cases')"
   ]
  },
  {
   "cell_type": "code",
   "execution_count": null,
   "metadata": {},
   "outputs": [],
   "source": []
  }
 ],
 "metadata": {
  "colab": {
   "include_colab_link": true,
   "name": "ssrp_pandas.ipynb",
   "provenance": []
  },
  "kernelspec": {
   "display_name": "Python 3",
   "language": "python",
   "name": "python3"
  },
  "language_info": {
   "codemirror_mode": {
    "name": "ipython",
    "version": 3
   },
   "file_extension": ".py",
   "mimetype": "text/x-python",
   "name": "python",
   "nbconvert_exporter": "python",
   "pygments_lexer": "ipython3",
   "version": "3.8.5"
  }
 },
 "nbformat": 4,
 "nbformat_minor": 4
}
