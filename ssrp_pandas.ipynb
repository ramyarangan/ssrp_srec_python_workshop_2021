{
  "nbformat": 4,
  "nbformat_minor": 0,
  "metadata": {
    "colab": {
      "name": "ssrp_pandas.ipynb",
      "provenance": []
    },
    "kernelspec": {
      "display_name": "Python 3",
      "language": "python",
      "name": "python3"
    },
    "language_info": {
      "codemirror_mode": {
        "name": "ipython",
        "version": 3
      },
      "file_extension": ".py",
      "mimetype": "text/x-python",
      "name": "python",
      "nbconvert_exporter": "python",
      "pygments_lexer": "ipython3",
      "version": "3.9.4"
    }
  },
  "cells": [
    {
      "cell_type": "markdown",
      "metadata": {
        "id": "nGcDhOjX_DPm"
      },
      "source": [
        "# SSRP Instructor notebook for pandas section \n",
        "\n",
        "* Date: D4-June 17,2021\n",
        "* pandas docs: https://pandas.pydata.org/docs/\n",
        "\n"
      ]
    },
    {
      "cell_type": "code",
      "metadata": {
        "collapsed": true,
        "id": "rZ6SkIx__DPp",
        "jupyter": {
          "outputs_hidden": true
        }
      },
      "source": [
        "import pandas as pd"
      ],
      "execution_count": 1,
      "outputs": []
    },
    {
      "cell_type": "markdown",
      "metadata": {
        "id": "WGUgUPd6_DPq"
      },
      "source": [
        "Read Covid data into data frame"
      ]
    },
    {
      "cell_type": "code",
      "metadata": {
        "collapsed": true,
        "id": "2amPRzSV_DPq",
        "jupyter": {
          "outputs_hidden": true
        }
      },
      "source": [
        "covid_live_counties=pd.read_csv('https://raw.githubusercontent.com/nytimes/covid-19-data/master/live/us-counties.csv')"
      ],
      "execution_count": 2,
      "outputs": []
    },
    {
      "cell_type": "code",
      "metadata": {
        "colab": {
          "base_uri": "https://localhost:8080/",
          "height": 419
        },
        "id": "RidhaKAT_DPr",
        "outputId": "b4ad67fd-9208-4342-c624-6e5119c73e47"
      },
      "source": [
        "covid_live_counties"
      ],
      "execution_count": 3,
      "outputs": [
        {
          "output_type": "execute_result",
          "data": {
            "text/html": [
              "<div>\n",
              "<style scoped>\n",
              "    .dataframe tbody tr th:only-of-type {\n",
              "        vertical-align: middle;\n",
              "    }\n",
              "\n",
              "    .dataframe tbody tr th {\n",
              "        vertical-align: top;\n",
              "    }\n",
              "\n",
              "    .dataframe thead th {\n",
              "        text-align: right;\n",
              "    }\n",
              "</style>\n",
              "<table border=\"1\" class=\"dataframe\">\n",
              "  <thead>\n",
              "    <tr style=\"text-align: right;\">\n",
              "      <th></th>\n",
              "      <th>date</th>\n",
              "      <th>county</th>\n",
              "      <th>state</th>\n",
              "      <th>fips</th>\n",
              "      <th>cases</th>\n",
              "      <th>deaths</th>\n",
              "      <th>confirmed_cases</th>\n",
              "      <th>confirmed_deaths</th>\n",
              "      <th>probable_cases</th>\n",
              "      <th>probable_deaths</th>\n",
              "    </tr>\n",
              "  </thead>\n",
              "  <tbody>\n",
              "    <tr>\n",
              "      <th>0</th>\n",
              "      <td>2021-06-14</td>\n",
              "      <td>Autauga</td>\n",
              "      <td>Alabama</td>\n",
              "      <td>1001.0</td>\n",
              "      <td>7215</td>\n",
              "      <td>113.0</td>\n",
              "      <td>6043.0</td>\n",
              "      <td>101.0</td>\n",
              "      <td>1172.0</td>\n",
              "      <td>12.0</td>\n",
              "    </tr>\n",
              "    <tr>\n",
              "      <th>1</th>\n",
              "      <td>2021-06-14</td>\n",
              "      <td>Baldwin</td>\n",
              "      <td>Alabama</td>\n",
              "      <td>1003.0</td>\n",
              "      <td>21774</td>\n",
              "      <td>313.0</td>\n",
              "      <td>15308.0</td>\n",
              "      <td>236.0</td>\n",
              "      <td>6466.0</td>\n",
              "      <td>77.0</td>\n",
              "    </tr>\n",
              "    <tr>\n",
              "      <th>2</th>\n",
              "      <td>2021-06-14</td>\n",
              "      <td>Barbour</td>\n",
              "      <td>Alabama</td>\n",
              "      <td>1005.0</td>\n",
              "      <td>2345</td>\n",
              "      <td>59.0</td>\n",
              "      <td>1314.0</td>\n",
              "      <td>41.0</td>\n",
              "      <td>1031.0</td>\n",
              "      <td>18.0</td>\n",
              "    </tr>\n",
              "    <tr>\n",
              "      <th>3</th>\n",
              "      <td>2021-06-14</td>\n",
              "      <td>Bibb</td>\n",
              "      <td>Alabama</td>\n",
              "      <td>1007.0</td>\n",
              "      <td>2673</td>\n",
              "      <td>64.0</td>\n",
              "      <td>2143.0</td>\n",
              "      <td>40.0</td>\n",
              "      <td>530.0</td>\n",
              "      <td>24.0</td>\n",
              "    </tr>\n",
              "    <tr>\n",
              "      <th>4</th>\n",
              "      <td>2021-06-14</td>\n",
              "      <td>Blount</td>\n",
              "      <td>Alabama</td>\n",
              "      <td>1009.0</td>\n",
              "      <td>6925</td>\n",
              "      <td>139.0</td>\n",
              "      <td>5290.0</td>\n",
              "      <td>115.0</td>\n",
              "      <td>1635.0</td>\n",
              "      <td>24.0</td>\n",
              "    </tr>\n",
              "    <tr>\n",
              "      <th>...</th>\n",
              "      <td>...</td>\n",
              "      <td>...</td>\n",
              "      <td>...</td>\n",
              "      <td>...</td>\n",
              "      <td>...</td>\n",
              "      <td>...</td>\n",
              "      <td>...</td>\n",
              "      <td>...</td>\n",
              "      <td>...</td>\n",
              "      <td>...</td>\n",
              "    </tr>\n",
              "    <tr>\n",
              "      <th>3242</th>\n",
              "      <td>2021-06-14</td>\n",
              "      <td>Sweetwater</td>\n",
              "      <td>Wyoming</td>\n",
              "      <td>56037.0</td>\n",
              "      <td>4636</td>\n",
              "      <td>39.0</td>\n",
              "      <td>4415.0</td>\n",
              "      <td>NaN</td>\n",
              "      <td>221.0</td>\n",
              "      <td>NaN</td>\n",
              "    </tr>\n",
              "    <tr>\n",
              "      <th>3243</th>\n",
              "      <td>2021-06-14</td>\n",
              "      <td>Teton</td>\n",
              "      <td>Wyoming</td>\n",
              "      <td>56039.0</td>\n",
              "      <td>3794</td>\n",
              "      <td>11.0</td>\n",
              "      <td>3705.0</td>\n",
              "      <td>NaN</td>\n",
              "      <td>89.0</td>\n",
              "      <td>NaN</td>\n",
              "    </tr>\n",
              "    <tr>\n",
              "      <th>3244</th>\n",
              "      <td>2021-06-14</td>\n",
              "      <td>Uinta</td>\n",
              "      <td>Wyoming</td>\n",
              "      <td>56041.0</td>\n",
              "      <td>2298</td>\n",
              "      <td>13.0</td>\n",
              "      <td>1966.0</td>\n",
              "      <td>NaN</td>\n",
              "      <td>332.0</td>\n",
              "      <td>NaN</td>\n",
              "    </tr>\n",
              "    <tr>\n",
              "      <th>3245</th>\n",
              "      <td>2021-06-14</td>\n",
              "      <td>Washakie</td>\n",
              "      <td>Wyoming</td>\n",
              "      <td>56043.0</td>\n",
              "      <td>924</td>\n",
              "      <td>26.0</td>\n",
              "      <td>724.0</td>\n",
              "      <td>NaN</td>\n",
              "      <td>200.0</td>\n",
              "      <td>NaN</td>\n",
              "    </tr>\n",
              "    <tr>\n",
              "      <th>3246</th>\n",
              "      <td>2021-06-14</td>\n",
              "      <td>Weston</td>\n",
              "      <td>Wyoming</td>\n",
              "      <td>56045.0</td>\n",
              "      <td>656</td>\n",
              "      <td>6.0</td>\n",
              "      <td>551.0</td>\n",
              "      <td>NaN</td>\n",
              "      <td>105.0</td>\n",
              "      <td>NaN</td>\n",
              "    </tr>\n",
              "  </tbody>\n",
              "</table>\n",
              "<p>3247 rows × 10 columns</p>\n",
              "</div>"
            ],
            "text/plain": [
              "            date      county  ... probable_cases  probable_deaths\n",
              "0     2021-06-14     Autauga  ...         1172.0             12.0\n",
              "1     2021-06-14     Baldwin  ...         6466.0             77.0\n",
              "2     2021-06-14     Barbour  ...         1031.0             18.0\n",
              "3     2021-06-14        Bibb  ...          530.0             24.0\n",
              "4     2021-06-14      Blount  ...         1635.0             24.0\n",
              "...          ...         ...  ...            ...              ...\n",
              "3242  2021-06-14  Sweetwater  ...          221.0              NaN\n",
              "3243  2021-06-14       Teton  ...           89.0              NaN\n",
              "3244  2021-06-14       Uinta  ...          332.0              NaN\n",
              "3245  2021-06-14    Washakie  ...          200.0              NaN\n",
              "3246  2021-06-14      Weston  ...          105.0              NaN\n",
              "\n",
              "[3247 rows x 10 columns]"
            ]
          },
          "metadata": {
            "tags": []
          },
          "execution_count": 3
        }
      ]
    },
    {
      "cell_type": "markdown",
      "metadata": {
        "id": "vAYAh0nf_DPs"
      },
      "source": [
        "We've got 3246 observations (rows) and 10 features per observations"
      ]
    },
    {
      "cell_type": "code",
      "metadata": {
        "colab": {
          "base_uri": "https://localhost:8080/"
        },
        "id": "1bj4lQfeZ_OT",
        "outputId": "58c0e87a-4dfe-4f7d-e9e3-0f2439bcee58"
      },
      "source": [
        "covid_live_counties.info()"
      ],
      "execution_count": 4,
      "outputs": [
        {
          "output_type": "stream",
          "text": [
            "<class 'pandas.core.frame.DataFrame'>\n",
            "RangeIndex: 3247 entries, 0 to 3246\n",
            "Data columns (total 10 columns):\n",
            " #   Column            Non-Null Count  Dtype  \n",
            "---  ------            --------------  -----  \n",
            " 0   date              3247 non-null   object \n",
            " 1   county            3247 non-null   object \n",
            " 2   state             3247 non-null   object \n",
            " 3   fips              3216 non-null   float64\n",
            " 4   cases             3247 non-null   int64  \n",
            " 5   deaths            3169 non-null   float64\n",
            " 6   confirmed_cases   2214 non-null   float64\n",
            " 7   confirmed_deaths  1504 non-null   float64\n",
            " 8   probable_cases    1942 non-null   float64\n",
            " 9   probable_deaths   1045 non-null   float64\n",
            "dtypes: float64(6), int64(1), object(3)\n",
            "memory usage: 253.8+ KB\n"
          ],
          "name": "stdout"
        }
      ]
    },
    {
      "cell_type": "code",
      "metadata": {
        "colab": {
          "base_uri": "https://localhost:8080/"
        },
        "id": "XFgxIi8raGvY",
        "outputId": "33df0fb0-57ea-4ecc-94d9-12b3627f8121"
      },
      "source": [
        "print(covid_live_counties.columns)"
      ],
      "execution_count": 5,
      "outputs": [
        {
          "output_type": "stream",
          "text": [
            "Index(['date', 'county', 'state', 'fips', 'cases', 'deaths', 'confirmed_cases',\n",
            "       'confirmed_deaths', 'probable_cases', 'probable_deaths'],\n",
            "      dtype='object')\n"
          ],
          "name": "stdout"
        }
      ]
    },
    {
      "cell_type": "code",
      "metadata": {
        "colab": {
          "base_uri": "https://localhost:8080/"
        },
        "id": "sd5ECnLgaQxo",
        "outputId": "162e0923-ebf2-449f-8919-febddba2d974"
      },
      "source": [
        "print(covid_live_counties.describe())"
      ],
      "execution_count": 6,
      "outputs": [
        {
          "output_type": "stream",
          "text": [
            "               fips         cases  ...  probable_cases  probable_deaths\n",
            "count   3216.000000  3.247000e+03  ...     1942.000000      1045.000000\n",
            "mean   31489.679415  1.029537e+04  ...     1215.347065        28.948325\n",
            "std    16357.537531  3.951124e+04  ...     2942.763320       188.124819\n",
            "min     1001.000000  0.000000e+00  ...        0.000000         0.000000\n",
            "25%    19038.500000  1.056000e+03  ...      131.250000         2.000000\n",
            "50%    30028.000000  2.527000e+03  ...      384.500000         8.000000\n",
            "75%    46119.500000  6.496500e+03  ...     1033.250000        20.000000\n",
            "max    78030.000000  1.246974e+06  ...    46064.000000      5078.000000\n",
            "\n",
            "[8 rows x 7 columns]\n"
          ],
          "name": "stdout"
        }
      ]
    },
    {
      "cell_type": "markdown",
      "metadata": {
        "id": "q4JO6H2da_CA"
      },
      "source": [
        "### Selecting values"
      ]
    },
    {
      "cell_type": "markdown",
      "metadata": {
        "id": "H9TsAGtzbSVF"
      },
      "source": [
        "Selecting by row/ column number"
      ]
    },
    {
      "cell_type": "code",
      "metadata": {
        "colab": {
          "base_uri": "https://localhost:8080/"
        },
        "id": "ncz2QVambGGY",
        "outputId": "81b9c7ec-c3b3-45f3-dfb8-d5dd523a09b0"
      },
      "source": [
        "print(covid_live_counties.iloc[0,1])"
      ],
      "execution_count": 7,
      "outputs": [
        {
          "output_type": "stream",
          "text": [
            "Autauga\n"
          ],
          "name": "stdout"
        }
      ]
    },
    {
      "cell_type": "markdown",
      "metadata": {
        "id": "87pChHWsbWGa"
      },
      "source": [
        "Selecting by entry label"
      ]
    },
    {
      "cell_type": "code",
      "metadata": {
        "colab": {
          "base_uri": "https://localhost:8080/"
        },
        "id": "2H0ZyZUxbVlX",
        "outputId": "d9b20b2f-814b-4a7e-8a0c-6477ea62dd7f"
      },
      "source": [
        "print(covid_live_counties.loc[0, 'state'])"
      ],
      "execution_count": 8,
      "outputs": [
        {
          "output_type": "stream",
          "text": [
            "Alabama\n"
          ],
          "name": "stdout"
        }
      ]
    },
    {
      "cell_type": "markdown",
      "metadata": {
        "id": "POEpRLp3_DPt"
      },
      "source": [
        "### Slicing columns"
      ]
    },
    {
      "cell_type": "markdown",
      "metadata": {
        "id": "60fpFZa-_DPt"
      },
      "source": [
        "We can select a subset of features. For example, if we only want county, state, cases, confirmed cases. "
      ]
    },
    {
      "cell_type": "code",
      "metadata": {
        "colab": {
          "base_uri": "https://localhost:8080/",
          "height": 419
        },
        "id": "T8xA4lNV_DPu",
        "outputId": "4a0fcc26-bd8e-46ae-a9e6-5a273f6a3f84"
      },
      "source": [
        "covid_live_counties[['county','state','cases','confirmed_cases', 'deaths']]"
      ],
      "execution_count": 9,
      "outputs": [
        {
          "output_type": "execute_result",
          "data": {
            "text/html": [
              "<div>\n",
              "<style scoped>\n",
              "    .dataframe tbody tr th:only-of-type {\n",
              "        vertical-align: middle;\n",
              "    }\n",
              "\n",
              "    .dataframe tbody tr th {\n",
              "        vertical-align: top;\n",
              "    }\n",
              "\n",
              "    .dataframe thead th {\n",
              "        text-align: right;\n",
              "    }\n",
              "</style>\n",
              "<table border=\"1\" class=\"dataframe\">\n",
              "  <thead>\n",
              "    <tr style=\"text-align: right;\">\n",
              "      <th></th>\n",
              "      <th>county</th>\n",
              "      <th>state</th>\n",
              "      <th>cases</th>\n",
              "      <th>confirmed_cases</th>\n",
              "      <th>deaths</th>\n",
              "    </tr>\n",
              "  </thead>\n",
              "  <tbody>\n",
              "    <tr>\n",
              "      <th>0</th>\n",
              "      <td>Autauga</td>\n",
              "      <td>Alabama</td>\n",
              "      <td>7215</td>\n",
              "      <td>6043.0</td>\n",
              "      <td>113.0</td>\n",
              "    </tr>\n",
              "    <tr>\n",
              "      <th>1</th>\n",
              "      <td>Baldwin</td>\n",
              "      <td>Alabama</td>\n",
              "      <td>21774</td>\n",
              "      <td>15308.0</td>\n",
              "      <td>313.0</td>\n",
              "    </tr>\n",
              "    <tr>\n",
              "      <th>2</th>\n",
              "      <td>Barbour</td>\n",
              "      <td>Alabama</td>\n",
              "      <td>2345</td>\n",
              "      <td>1314.0</td>\n",
              "      <td>59.0</td>\n",
              "    </tr>\n",
              "    <tr>\n",
              "      <th>3</th>\n",
              "      <td>Bibb</td>\n",
              "      <td>Alabama</td>\n",
              "      <td>2673</td>\n",
              "      <td>2143.0</td>\n",
              "      <td>64.0</td>\n",
              "    </tr>\n",
              "    <tr>\n",
              "      <th>4</th>\n",
              "      <td>Blount</td>\n",
              "      <td>Alabama</td>\n",
              "      <td>6925</td>\n",
              "      <td>5290.0</td>\n",
              "      <td>139.0</td>\n",
              "    </tr>\n",
              "    <tr>\n",
              "      <th>...</th>\n",
              "      <td>...</td>\n",
              "      <td>...</td>\n",
              "      <td>...</td>\n",
              "      <td>...</td>\n",
              "      <td>...</td>\n",
              "    </tr>\n",
              "    <tr>\n",
              "      <th>3242</th>\n",
              "      <td>Sweetwater</td>\n",
              "      <td>Wyoming</td>\n",
              "      <td>4636</td>\n",
              "      <td>4415.0</td>\n",
              "      <td>39.0</td>\n",
              "    </tr>\n",
              "    <tr>\n",
              "      <th>3243</th>\n",
              "      <td>Teton</td>\n",
              "      <td>Wyoming</td>\n",
              "      <td>3794</td>\n",
              "      <td>3705.0</td>\n",
              "      <td>11.0</td>\n",
              "    </tr>\n",
              "    <tr>\n",
              "      <th>3244</th>\n",
              "      <td>Uinta</td>\n",
              "      <td>Wyoming</td>\n",
              "      <td>2298</td>\n",
              "      <td>1966.0</td>\n",
              "      <td>13.0</td>\n",
              "    </tr>\n",
              "    <tr>\n",
              "      <th>3245</th>\n",
              "      <td>Washakie</td>\n",
              "      <td>Wyoming</td>\n",
              "      <td>924</td>\n",
              "      <td>724.0</td>\n",
              "      <td>26.0</td>\n",
              "    </tr>\n",
              "    <tr>\n",
              "      <th>3246</th>\n",
              "      <td>Weston</td>\n",
              "      <td>Wyoming</td>\n",
              "      <td>656</td>\n",
              "      <td>551.0</td>\n",
              "      <td>6.0</td>\n",
              "    </tr>\n",
              "  </tbody>\n",
              "</table>\n",
              "<p>3247 rows × 5 columns</p>\n",
              "</div>"
            ],
            "text/plain": [
              "          county    state  cases  confirmed_cases  deaths\n",
              "0        Autauga  Alabama   7215           6043.0   113.0\n",
              "1        Baldwin  Alabama  21774          15308.0   313.0\n",
              "2        Barbour  Alabama   2345           1314.0    59.0\n",
              "3           Bibb  Alabama   2673           2143.0    64.0\n",
              "4         Blount  Alabama   6925           5290.0   139.0\n",
              "...          ...      ...    ...              ...     ...\n",
              "3242  Sweetwater  Wyoming   4636           4415.0    39.0\n",
              "3243       Teton  Wyoming   3794           3705.0    11.0\n",
              "3244       Uinta  Wyoming   2298           1966.0    13.0\n",
              "3245    Washakie  Wyoming    924            724.0    26.0\n",
              "3246      Weston  Wyoming    656            551.0     6.0\n",
              "\n",
              "[3247 rows x 5 columns]"
            ]
          },
          "metadata": {
            "tags": []
          },
          "execution_count": 9
        }
      ]
    },
    {
      "cell_type": "markdown",
      "metadata": {
        "id": "JTTkT9Gb_DPw"
      },
      "source": [
        "It looks like what we want so we store this result into a variable"
      ]
    },
    {
      "cell_type": "code",
      "metadata": {
        "collapsed": true,
        "id": "gZHEbNaO_DPw",
        "jupyter": {
          "outputs_hidden": true
        }
      },
      "source": [
        "covid_live_counties_simple = covid_live_counties[['county','state','cases','confirmed_cases','deaths']]"
      ],
      "execution_count": 10,
      "outputs": []
    },
    {
      "cell_type": "markdown",
      "metadata": {
        "id": "sK8FOPzi_DPx"
      },
      "source": [
        "### Slicing rows"
      ]
    },
    {
      "cell_type": "markdown",
      "metadata": {
        "id": "v5LtEj07_DPx"
      },
      "source": [
        "By row number with iloc"
      ]
    },
    {
      "cell_type": "code",
      "metadata": {
        "colab": {
          "base_uri": "https://localhost:8080/",
          "height": 359
        },
        "id": "efB1nT2e_DPx",
        "outputId": "1dc4b589-aa0f-4715-a425-2a0648499215"
      },
      "source": [
        "covid_live_counties_simple.iloc[0:10] # equivalent to covid_live_counties_simple.iloc[5:10,:]"
      ],
      "execution_count": 11,
      "outputs": [
        {
          "output_type": "execute_result",
          "data": {
            "text/html": [
              "<div>\n",
              "<style scoped>\n",
              "    .dataframe tbody tr th:only-of-type {\n",
              "        vertical-align: middle;\n",
              "    }\n",
              "\n",
              "    .dataframe tbody tr th {\n",
              "        vertical-align: top;\n",
              "    }\n",
              "\n",
              "    .dataframe thead th {\n",
              "        text-align: right;\n",
              "    }\n",
              "</style>\n",
              "<table border=\"1\" class=\"dataframe\">\n",
              "  <thead>\n",
              "    <tr style=\"text-align: right;\">\n",
              "      <th></th>\n",
              "      <th>county</th>\n",
              "      <th>state</th>\n",
              "      <th>cases</th>\n",
              "      <th>confirmed_cases</th>\n",
              "      <th>deaths</th>\n",
              "    </tr>\n",
              "  </thead>\n",
              "  <tbody>\n",
              "    <tr>\n",
              "      <th>0</th>\n",
              "      <td>Autauga</td>\n",
              "      <td>Alabama</td>\n",
              "      <td>7215</td>\n",
              "      <td>6043.0</td>\n",
              "      <td>113.0</td>\n",
              "    </tr>\n",
              "    <tr>\n",
              "      <th>1</th>\n",
              "      <td>Baldwin</td>\n",
              "      <td>Alabama</td>\n",
              "      <td>21774</td>\n",
              "      <td>15308.0</td>\n",
              "      <td>313.0</td>\n",
              "    </tr>\n",
              "    <tr>\n",
              "      <th>2</th>\n",
              "      <td>Barbour</td>\n",
              "      <td>Alabama</td>\n",
              "      <td>2345</td>\n",
              "      <td>1314.0</td>\n",
              "      <td>59.0</td>\n",
              "    </tr>\n",
              "    <tr>\n",
              "      <th>3</th>\n",
              "      <td>Bibb</td>\n",
              "      <td>Alabama</td>\n",
              "      <td>2673</td>\n",
              "      <td>2143.0</td>\n",
              "      <td>64.0</td>\n",
              "    </tr>\n",
              "    <tr>\n",
              "      <th>4</th>\n",
              "      <td>Blount</td>\n",
              "      <td>Alabama</td>\n",
              "      <td>6925</td>\n",
              "      <td>5290.0</td>\n",
              "      <td>139.0</td>\n",
              "    </tr>\n",
              "    <tr>\n",
              "      <th>5</th>\n",
              "      <td>Bullock</td>\n",
              "      <td>Alabama</td>\n",
              "      <td>1242</td>\n",
              "      <td>1097.0</td>\n",
              "      <td>42.0</td>\n",
              "    </tr>\n",
              "    <tr>\n",
              "      <th>6</th>\n",
              "      <td>Butler</td>\n",
              "      <td>Alabama</td>\n",
              "      <td>2233</td>\n",
              "      <td>2009.0</td>\n",
              "      <td>71.0</td>\n",
              "    </tr>\n",
              "    <tr>\n",
              "      <th>7</th>\n",
              "      <td>Calhoun</td>\n",
              "      <td>Alabama</td>\n",
              "      <td>14692</td>\n",
              "      <td>10965.0</td>\n",
              "      <td>325.0</td>\n",
              "    </tr>\n",
              "    <tr>\n",
              "      <th>8</th>\n",
              "      <td>Chambers</td>\n",
              "      <td>Alabama</td>\n",
              "      <td>3715</td>\n",
              "      <td>1857.0</td>\n",
              "      <td>123.0</td>\n",
              "    </tr>\n",
              "    <tr>\n",
              "      <th>9</th>\n",
              "      <td>Cherokee</td>\n",
              "      <td>Alabama</td>\n",
              "      <td>1872</td>\n",
              "      <td>1189.0</td>\n",
              "      <td>45.0</td>\n",
              "    </tr>\n",
              "  </tbody>\n",
              "</table>\n",
              "</div>"
            ],
            "text/plain": [
              "     county    state  cases  confirmed_cases  deaths\n",
              "0   Autauga  Alabama   7215           6043.0   113.0\n",
              "1   Baldwin  Alabama  21774          15308.0   313.0\n",
              "2   Barbour  Alabama   2345           1314.0    59.0\n",
              "3      Bibb  Alabama   2673           2143.0    64.0\n",
              "4    Blount  Alabama   6925           5290.0   139.0\n",
              "5   Bullock  Alabama   1242           1097.0    42.0\n",
              "6    Butler  Alabama   2233           2009.0    71.0\n",
              "7   Calhoun  Alabama  14692          10965.0   325.0\n",
              "8  Chambers  Alabama   3715           1857.0   123.0\n",
              "9  Cherokee  Alabama   1872           1189.0    45.0"
            ]
          },
          "metadata": {
            "tags": []
          },
          "execution_count": 11
        }
      ]
    },
    {
      "cell_type": "markdown",
      "metadata": {
        "id": "CNRr7yheWK1n"
      },
      "source": [
        "Applying operations to slices"
      ]
    },
    {
      "cell_type": "code",
      "metadata": {
        "colab": {
          "base_uri": "https://localhost:8080/"
        },
        "id": "xJIv_1KYTonH",
        "outputId": "87ae132a-752a-4040-ebfe-894b54a8c1f9"
      },
      "source": [
        "covid_live_counties_simple.loc[0:10, 'deaths'].max()"
      ],
      "execution_count": 12,
      "outputs": [
        {
          "output_type": "execute_result",
          "data": {
            "text/plain": [
              "325.0"
            ]
          },
          "metadata": {
            "tags": []
          },
          "execution_count": 12
        }
      ]
    },
    {
      "cell_type": "markdown",
      "metadata": {
        "id": "fSQz0COO_DPy"
      },
      "source": [
        "Using a conditional statement with loc. For example, let's select california"
      ]
    },
    {
      "cell_type": "code",
      "metadata": {
        "colab": {
          "base_uri": "https://localhost:8080/"
        },
        "id": "lm-73uMm_DPy",
        "outputId": "ac731e2d-3d30-465c-bb8f-0ea69256c4b4"
      },
      "source": [
        "covid_live_counties_simple['state']"
      ],
      "execution_count": 13,
      "outputs": [
        {
          "output_type": "execute_result",
          "data": {
            "text/plain": [
              "0       Alabama\n",
              "1       Alabama\n",
              "2       Alabama\n",
              "3       Alabama\n",
              "4       Alabama\n",
              "         ...   \n",
              "3242    Wyoming\n",
              "3243    Wyoming\n",
              "3244    Wyoming\n",
              "3245    Wyoming\n",
              "3246    Wyoming\n",
              "Name: state, Length: 3247, dtype: object"
            ]
          },
          "metadata": {
            "tags": []
          },
          "execution_count": 13
        }
      ]
    },
    {
      "cell_type": "markdown",
      "metadata": {
        "id": "kKZHbShg_DPz"
      },
      "source": [
        "Selecting a column returns a Series. We can test entry by entry whether a condition is satisfied"
      ]
    },
    {
      "cell_type": "code",
      "metadata": {
        "colab": {
          "base_uri": "https://localhost:8080/"
        },
        "id": "vbLZPvMg_DPz",
        "outputId": "d2e7f969-296b-45bc-ddca-9367bd793e08"
      },
      "source": [
        "covid_live_counties_simple['state']=='California'"
      ],
      "execution_count": 14,
      "outputs": [
        {
          "output_type": "execute_result",
          "data": {
            "text/plain": [
              "0       False\n",
              "1       False\n",
              "2       False\n",
              "3       False\n",
              "4       False\n",
              "        ...  \n",
              "3242    False\n",
              "3243    False\n",
              "3244    False\n",
              "3245    False\n",
              "3246    False\n",
              "Name: state, Length: 3247, dtype: bool"
            ]
          },
          "metadata": {
            "tags": []
          },
          "execution_count": 14
        }
      ]
    },
    {
      "cell_type": "markdown",
      "metadata": {
        "id": "l-xpmlFS_32x"
      },
      "source": [
        "Another way of doing the above is with the '.' selection method for columns. With the benefit that columns can be autocompleted in notebook environments."
      ]
    },
    {
      "cell_type": "code",
      "metadata": {
        "colab": {
          "base_uri": "https://localhost:8080/"
        },
        "id": "_WCL8xCt_zfw",
        "outputId": "0d3dc482-5a37-47cc-f43c-a9fabf29be0f"
      },
      "source": [
        "covid_live_counties_simple.state=='California'"
      ],
      "execution_count": 15,
      "outputs": [
        {
          "output_type": "execute_result",
          "data": {
            "text/plain": [
              "0       False\n",
              "1       False\n",
              "2       False\n",
              "3       False\n",
              "4       False\n",
              "        ...  \n",
              "3242    False\n",
              "3243    False\n",
              "3244    False\n",
              "3245    False\n",
              "3246    False\n",
              "Name: state, Length: 3247, dtype: bool"
            ]
          },
          "metadata": {
            "tags": []
          },
          "execution_count": 15
        }
      ]
    },
    {
      "cell_type": "markdown",
      "metadata": {
        "id": "P__k7XPfAmJk"
      },
      "source": [
        "Below we can make sure that both methods result in the same output by comparing the results, and using the `.all()` method for pandas series."
      ]
    },
    {
      "cell_type": "code",
      "metadata": {
        "colab": {
          "base_uri": "https://localhost:8080/"
        },
        "id": "4n0E5xNZAG8L",
        "outputId": "b1ebbbac-2554-4a7e-cd26-c15286e7bfa1"
      },
      "source": [
        "((covid_live_counties_simple.state=='California') == (covid_live_counties_simple['state']=='California')).all()"
      ],
      "execution_count": 16,
      "outputs": [
        {
          "output_type": "execute_result",
          "data": {
            "text/plain": [
              "True"
            ]
          },
          "metadata": {
            "tags": []
          },
          "execution_count": 16
        }
      ]
    },
    {
      "cell_type": "markdown",
      "metadata": {
        "id": "HSsWrkGD_DP0"
      },
      "source": [
        "This Series of booleans is appropriate for slicing with `.loc`"
      ]
    },
    {
      "cell_type": "code",
      "metadata": {
        "colab": {
          "base_uri": "https://localhost:8080/",
          "height": 1000
        },
        "id": "UH38_e1f_DP0",
        "outputId": "cbf99551-33fd-4d82-c620-8fadf88999dd"
      },
      "source": [
        "covid_live_counties_simple.loc[covid_live_counties_simple['state']=='California']"
      ],
      "execution_count": 17,
      "outputs": [
        {
          "output_type": "execute_result",
          "data": {
            "text/html": [
              "<div>\n",
              "<style scoped>\n",
              "    .dataframe tbody tr th:only-of-type {\n",
              "        vertical-align: middle;\n",
              "    }\n",
              "\n",
              "    .dataframe tbody tr th {\n",
              "        vertical-align: top;\n",
              "    }\n",
              "\n",
              "    .dataframe thead th {\n",
              "        text-align: right;\n",
              "    }\n",
              "</style>\n",
              "<table border=\"1\" class=\"dataframe\">\n",
              "  <thead>\n",
              "    <tr style=\"text-align: right;\">\n",
              "      <th></th>\n",
              "      <th>county</th>\n",
              "      <th>state</th>\n",
              "      <th>cases</th>\n",
              "      <th>confirmed_cases</th>\n",
              "      <th>deaths</th>\n",
              "    </tr>\n",
              "  </thead>\n",
              "  <tbody>\n",
              "    <tr>\n",
              "      <th>186</th>\n",
              "      <td>Alameda</td>\n",
              "      <td>California</td>\n",
              "      <td>89408</td>\n",
              "      <td>89408.0</td>\n",
              "      <td>1719.0</td>\n",
              "    </tr>\n",
              "    <tr>\n",
              "      <th>187</th>\n",
              "      <td>Alpine</td>\n",
              "      <td>California</td>\n",
              "      <td>89</td>\n",
              "      <td>88.0</td>\n",
              "      <td>0.0</td>\n",
              "    </tr>\n",
              "    <tr>\n",
              "      <th>188</th>\n",
              "      <td>Amador</td>\n",
              "      <td>California</td>\n",
              "      <td>3720</td>\n",
              "      <td>3720.0</td>\n",
              "      <td>47.0</td>\n",
              "    </tr>\n",
              "    <tr>\n",
              "      <th>189</th>\n",
              "      <td>Butte</td>\n",
              "      <td>California</td>\n",
              "      <td>12576</td>\n",
              "      <td>12576.0</td>\n",
              "      <td>194.0</td>\n",
              "    </tr>\n",
              "    <tr>\n",
              "      <th>190</th>\n",
              "      <td>Calaveras</td>\n",
              "      <td>California</td>\n",
              "      <td>2195</td>\n",
              "      <td>2189.0</td>\n",
              "      <td>56.0</td>\n",
              "    </tr>\n",
              "    <tr>\n",
              "      <th>191</th>\n",
              "      <td>Colusa</td>\n",
              "      <td>California</td>\n",
              "      <td>2276</td>\n",
              "      <td>1965.0</td>\n",
              "      <td>18.0</td>\n",
              "    </tr>\n",
              "    <tr>\n",
              "      <th>192</th>\n",
              "      <td>Contra Costa</td>\n",
              "      <td>California</td>\n",
              "      <td>70328</td>\n",
              "      <td>70328.0</td>\n",
              "      <td>810.0</td>\n",
              "    </tr>\n",
              "    <tr>\n",
              "      <th>193</th>\n",
              "      <td>Del Norte</td>\n",
              "      <td>California</td>\n",
              "      <td>1448</td>\n",
              "      <td>1448.0</td>\n",
              "      <td>8.0</td>\n",
              "    </tr>\n",
              "    <tr>\n",
              "      <th>194</th>\n",
              "      <td>El Dorado</td>\n",
              "      <td>California</td>\n",
              "      <td>10334</td>\n",
              "      <td>10320.0</td>\n",
              "      <td>115.0</td>\n",
              "    </tr>\n",
              "    <tr>\n",
              "      <th>195</th>\n",
              "      <td>Fresno</td>\n",
              "      <td>California</td>\n",
              "      <td>102783</td>\n",
              "      <td>102783.0</td>\n",
              "      <td>1720.0</td>\n",
              "    </tr>\n",
              "    <tr>\n",
              "      <th>196</th>\n",
              "      <td>Glenn</td>\n",
              "      <td>California</td>\n",
              "      <td>2947</td>\n",
              "      <td>2425.0</td>\n",
              "      <td>27.0</td>\n",
              "    </tr>\n",
              "    <tr>\n",
              "      <th>197</th>\n",
              "      <td>Humboldt</td>\n",
              "      <td>California</td>\n",
              "      <td>4415</td>\n",
              "      <td>4415.0</td>\n",
              "      <td>46.0</td>\n",
              "    </tr>\n",
              "    <tr>\n",
              "      <th>198</th>\n",
              "      <td>Imperial</td>\n",
              "      <td>California</td>\n",
              "      <td>28799</td>\n",
              "      <td>28799.0</td>\n",
              "      <td>740.0</td>\n",
              "    </tr>\n",
              "    <tr>\n",
              "      <th>199</th>\n",
              "      <td>Inyo</td>\n",
              "      <td>California</td>\n",
              "      <td>1433</td>\n",
              "      <td>1405.0</td>\n",
              "      <td>38.0</td>\n",
              "    </tr>\n",
              "    <tr>\n",
              "      <th>200</th>\n",
              "      <td>Kern</td>\n",
              "      <td>California</td>\n",
              "      <td>110604</td>\n",
              "      <td>110604.0</td>\n",
              "      <td>1400.0</td>\n",
              "    </tr>\n",
              "    <tr>\n",
              "      <th>201</th>\n",
              "      <td>Kings</td>\n",
              "      <td>California</td>\n",
              "      <td>23168</td>\n",
              "      <td>23168.0</td>\n",
              "      <td>247.0</td>\n",
              "    </tr>\n",
              "    <tr>\n",
              "      <th>202</th>\n",
              "      <td>Lake</td>\n",
              "      <td>California</td>\n",
              "      <td>3552</td>\n",
              "      <td>3552.0</td>\n",
              "      <td>45.0</td>\n",
              "    </tr>\n",
              "    <tr>\n",
              "      <th>203</th>\n",
              "      <td>Lassen</td>\n",
              "      <td>California</td>\n",
              "      <td>5775</td>\n",
              "      <td>5775.0</td>\n",
              "      <td>24.0</td>\n",
              "    </tr>\n",
              "    <tr>\n",
              "      <th>204</th>\n",
              "      <td>Los Angeles</td>\n",
              "      <td>California</td>\n",
              "      <td>1246974</td>\n",
              "      <td>1246307.0</td>\n",
              "      <td>24434.0</td>\n",
              "    </tr>\n",
              "    <tr>\n",
              "      <th>205</th>\n",
              "      <td>Madera</td>\n",
              "      <td>California</td>\n",
              "      <td>16586</td>\n",
              "      <td>16586.0</td>\n",
              "      <td>245.0</td>\n",
              "    </tr>\n",
              "    <tr>\n",
              "      <th>206</th>\n",
              "      <td>Marin</td>\n",
              "      <td>California</td>\n",
              "      <td>14121</td>\n",
              "      <td>14121.0</td>\n",
              "      <td>229.0</td>\n",
              "    </tr>\n",
              "    <tr>\n",
              "      <th>207</th>\n",
              "      <td>Mariposa</td>\n",
              "      <td>California</td>\n",
              "      <td>461</td>\n",
              "      <td>461.0</td>\n",
              "      <td>7.0</td>\n",
              "    </tr>\n",
              "    <tr>\n",
              "      <th>208</th>\n",
              "      <td>Mendocino</td>\n",
              "      <td>California</td>\n",
              "      <td>4274</td>\n",
              "      <td>4274.0</td>\n",
              "      <td>50.0</td>\n",
              "    </tr>\n",
              "    <tr>\n",
              "      <th>209</th>\n",
              "      <td>Merced</td>\n",
              "      <td>California</td>\n",
              "      <td>32253</td>\n",
              "      <td>32253.0</td>\n",
              "      <td>474.0</td>\n",
              "    </tr>\n",
              "    <tr>\n",
              "      <th>210</th>\n",
              "      <td>Modoc</td>\n",
              "      <td>California</td>\n",
              "      <td>382</td>\n",
              "      <td>382.0</td>\n",
              "      <td>3.0</td>\n",
              "    </tr>\n",
              "    <tr>\n",
              "      <th>211</th>\n",
              "      <td>Mono</td>\n",
              "      <td>California</td>\n",
              "      <td>1294</td>\n",
              "      <td>1275.0</td>\n",
              "      <td>4.0</td>\n",
              "    </tr>\n",
              "    <tr>\n",
              "      <th>212</th>\n",
              "      <td>Monterey</td>\n",
              "      <td>California</td>\n",
              "      <td>43791</td>\n",
              "      <td>43791.0</td>\n",
              "      <td>419.0</td>\n",
              "    </tr>\n",
              "    <tr>\n",
              "      <th>213</th>\n",
              "      <td>Napa</td>\n",
              "      <td>California</td>\n",
              "      <td>9987</td>\n",
              "      <td>9987.0</td>\n",
              "      <td>80.0</td>\n",
              "    </tr>\n",
              "    <tr>\n",
              "      <th>214</th>\n",
              "      <td>Nevada</td>\n",
              "      <td>California</td>\n",
              "      <td>4878</td>\n",
              "      <td>4878.0</td>\n",
              "      <td>75.0</td>\n",
              "    </tr>\n",
              "    <tr>\n",
              "      <th>215</th>\n",
              "      <td>Orange</td>\n",
              "      <td>California</td>\n",
              "      <td>272650</td>\n",
              "      <td>255588.0</td>\n",
              "      <td>5103.0</td>\n",
              "    </tr>\n",
              "    <tr>\n",
              "      <th>216</th>\n",
              "      <td>Placer</td>\n",
              "      <td>California</td>\n",
              "      <td>23345</td>\n",
              "      <td>23345.0</td>\n",
              "      <td>298.0</td>\n",
              "    </tr>\n",
              "    <tr>\n",
              "      <th>217</th>\n",
              "      <td>Plumas</td>\n",
              "      <td>California</td>\n",
              "      <td>733</td>\n",
              "      <td>696.0</td>\n",
              "      <td>6.0</td>\n",
              "    </tr>\n",
              "    <tr>\n",
              "      <th>218</th>\n",
              "      <td>Riverside</td>\n",
              "      <td>California</td>\n",
              "      <td>301312</td>\n",
              "      <td>301312.0</td>\n",
              "      <td>4618.0</td>\n",
              "    </tr>\n",
              "    <tr>\n",
              "      <th>219</th>\n",
              "      <td>Sacramento</td>\n",
              "      <td>California</td>\n",
              "      <td>107198</td>\n",
              "      <td>107198.0</td>\n",
              "      <td>1718.0</td>\n",
              "    </tr>\n",
              "    <tr>\n",
              "      <th>220</th>\n",
              "      <td>San Benito</td>\n",
              "      <td>California</td>\n",
              "      <td>6083</td>\n",
              "      <td>6083.0</td>\n",
              "      <td>63.0</td>\n",
              "    </tr>\n",
              "    <tr>\n",
              "      <th>221</th>\n",
              "      <td>San Bernardino</td>\n",
              "      <td>California</td>\n",
              "      <td>298976</td>\n",
              "      <td>298976.0</td>\n",
              "      <td>4788.0</td>\n",
              "    </tr>\n",
              "    <tr>\n",
              "      <th>222</th>\n",
              "      <td>San Diego</td>\n",
              "      <td>California</td>\n",
              "      <td>281266</td>\n",
              "      <td>281266.0</td>\n",
              "      <td>3770.0</td>\n",
              "    </tr>\n",
              "    <tr>\n",
              "      <th>223</th>\n",
              "      <td>San Francisco</td>\n",
              "      <td>California</td>\n",
              "      <td>37192</td>\n",
              "      <td>37192.0</td>\n",
              "      <td>555.0</td>\n",
              "    </tr>\n",
              "    <tr>\n",
              "      <th>224</th>\n",
              "      <td>San Joaquin</td>\n",
              "      <td>California</td>\n",
              "      <td>74401</td>\n",
              "      <td>74401.0</td>\n",
              "      <td>1432.0</td>\n",
              "    </tr>\n",
              "    <tr>\n",
              "      <th>225</th>\n",
              "      <td>San Luis Obispo</td>\n",
              "      <td>California</td>\n",
              "      <td>21405</td>\n",
              "      <td>21405.0</td>\n",
              "      <td>261.0</td>\n",
              "    </tr>\n",
              "    <tr>\n",
              "      <th>226</th>\n",
              "      <td>San Mateo</td>\n",
              "      <td>California</td>\n",
              "      <td>42604</td>\n",
              "      <td>42604.0</td>\n",
              "      <td>542.0</td>\n",
              "    </tr>\n",
              "    <tr>\n",
              "      <th>227</th>\n",
              "      <td>Santa Barbara</td>\n",
              "      <td>California</td>\n",
              "      <td>34577</td>\n",
              "      <td>34577.0</td>\n",
              "      <td>460.0</td>\n",
              "    </tr>\n",
              "    <tr>\n",
              "      <th>228</th>\n",
              "      <td>Santa Clara</td>\n",
              "      <td>California</td>\n",
              "      <td>119894</td>\n",
              "      <td>119894.0</td>\n",
              "      <td>2176.0</td>\n",
              "    </tr>\n",
              "    <tr>\n",
              "      <th>229</th>\n",
              "      <td>Santa Cruz</td>\n",
              "      <td>California</td>\n",
              "      <td>16202</td>\n",
              "      <td>16202.0</td>\n",
              "      <td>208.0</td>\n",
              "    </tr>\n",
              "    <tr>\n",
              "      <th>230</th>\n",
              "      <td>Shasta</td>\n",
              "      <td>California</td>\n",
              "      <td>12559</td>\n",
              "      <td>12559.0</td>\n",
              "      <td>232.0</td>\n",
              "    </tr>\n",
              "    <tr>\n",
              "      <th>231</th>\n",
              "      <td>Sierra</td>\n",
              "      <td>California</td>\n",
              "      <td>55</td>\n",
              "      <td>55.0</td>\n",
              "      <td>0.0</td>\n",
              "    </tr>\n",
              "    <tr>\n",
              "      <th>232</th>\n",
              "      <td>Siskiyou</td>\n",
              "      <td>California</td>\n",
              "      <td>2386</td>\n",
              "      <td>2386.0</td>\n",
              "      <td>37.0</td>\n",
              "    </tr>\n",
              "    <tr>\n",
              "      <th>233</th>\n",
              "      <td>Solano</td>\n",
              "      <td>California</td>\n",
              "      <td>33574</td>\n",
              "      <td>33574.0</td>\n",
              "      <td>266.0</td>\n",
              "    </tr>\n",
              "    <tr>\n",
              "      <th>234</th>\n",
              "      <td>Sonoma</td>\n",
              "      <td>California</td>\n",
              "      <td>30688</td>\n",
              "      <td>30688.0</td>\n",
              "      <td>323.0</td>\n",
              "    </tr>\n",
              "    <tr>\n",
              "      <th>235</th>\n",
              "      <td>Stanislaus</td>\n",
              "      <td>California</td>\n",
              "      <td>63190</td>\n",
              "      <td>56649.0</td>\n",
              "      <td>1068.0</td>\n",
              "    </tr>\n",
              "    <tr>\n",
              "      <th>236</th>\n",
              "      <td>Sutter</td>\n",
              "      <td>California</td>\n",
              "      <td>9603</td>\n",
              "      <td>9603.0</td>\n",
              "      <td>112.0</td>\n",
              "    </tr>\n",
              "    <tr>\n",
              "      <th>237</th>\n",
              "      <td>Tehama</td>\n",
              "      <td>California</td>\n",
              "      <td>5099</td>\n",
              "      <td>5099.0</td>\n",
              "      <td>63.0</td>\n",
              "    </tr>\n",
              "    <tr>\n",
              "      <th>238</th>\n",
              "      <td>Trinity</td>\n",
              "      <td>California</td>\n",
              "      <td>333</td>\n",
              "      <td>333.0</td>\n",
              "      <td>3.0</td>\n",
              "    </tr>\n",
              "    <tr>\n",
              "      <th>239</th>\n",
              "      <td>Tulare</td>\n",
              "      <td>California</td>\n",
              "      <td>49758</td>\n",
              "      <td>49758.0</td>\n",
              "      <td>849.0</td>\n",
              "    </tr>\n",
              "    <tr>\n",
              "      <th>240</th>\n",
              "      <td>Tuolumne</td>\n",
              "      <td>California</td>\n",
              "      <td>4185</td>\n",
              "      <td>4185.0</td>\n",
              "      <td>69.0</td>\n",
              "    </tr>\n",
              "    <tr>\n",
              "      <th>241</th>\n",
              "      <td>Ventura</td>\n",
              "      <td>California</td>\n",
              "      <td>81554</td>\n",
              "      <td>81554.0</td>\n",
              "      <td>1028.0</td>\n",
              "    </tr>\n",
              "    <tr>\n",
              "      <th>242</th>\n",
              "      <td>Yolo</td>\n",
              "      <td>California</td>\n",
              "      <td>14118</td>\n",
              "      <td>14118.0</td>\n",
              "      <td>212.0</td>\n",
              "    </tr>\n",
              "    <tr>\n",
              "      <th>243</th>\n",
              "      <td>Yuba</td>\n",
              "      <td>California</td>\n",
              "      <td>6426</td>\n",
              "      <td>6120.0</td>\n",
              "      <td>50.0</td>\n",
              "    </tr>\n",
              "  </tbody>\n",
              "</table>\n",
              "</div>"
            ],
            "text/plain": [
              "              county       state    cases  confirmed_cases   deaths\n",
              "186          Alameda  California    89408          89408.0   1719.0\n",
              "187           Alpine  California       89             88.0      0.0\n",
              "188           Amador  California     3720           3720.0     47.0\n",
              "189            Butte  California    12576          12576.0    194.0\n",
              "190        Calaveras  California     2195           2189.0     56.0\n",
              "191           Colusa  California     2276           1965.0     18.0\n",
              "192     Contra Costa  California    70328          70328.0    810.0\n",
              "193        Del Norte  California     1448           1448.0      8.0\n",
              "194        El Dorado  California    10334          10320.0    115.0\n",
              "195           Fresno  California   102783         102783.0   1720.0\n",
              "196            Glenn  California     2947           2425.0     27.0\n",
              "197         Humboldt  California     4415           4415.0     46.0\n",
              "198         Imperial  California    28799          28799.0    740.0\n",
              "199             Inyo  California     1433           1405.0     38.0\n",
              "200             Kern  California   110604         110604.0   1400.0\n",
              "201            Kings  California    23168          23168.0    247.0\n",
              "202             Lake  California     3552           3552.0     45.0\n",
              "203           Lassen  California     5775           5775.0     24.0\n",
              "204      Los Angeles  California  1246974        1246307.0  24434.0\n",
              "205           Madera  California    16586          16586.0    245.0\n",
              "206            Marin  California    14121          14121.0    229.0\n",
              "207         Mariposa  California      461            461.0      7.0\n",
              "208        Mendocino  California     4274           4274.0     50.0\n",
              "209           Merced  California    32253          32253.0    474.0\n",
              "210            Modoc  California      382            382.0      3.0\n",
              "211             Mono  California     1294           1275.0      4.0\n",
              "212         Monterey  California    43791          43791.0    419.0\n",
              "213             Napa  California     9987           9987.0     80.0\n",
              "214           Nevada  California     4878           4878.0     75.0\n",
              "215           Orange  California   272650         255588.0   5103.0\n",
              "216           Placer  California    23345          23345.0    298.0\n",
              "217           Plumas  California      733            696.0      6.0\n",
              "218        Riverside  California   301312         301312.0   4618.0\n",
              "219       Sacramento  California   107198         107198.0   1718.0\n",
              "220       San Benito  California     6083           6083.0     63.0\n",
              "221   San Bernardino  California   298976         298976.0   4788.0\n",
              "222        San Diego  California   281266         281266.0   3770.0\n",
              "223    San Francisco  California    37192          37192.0    555.0\n",
              "224      San Joaquin  California    74401          74401.0   1432.0\n",
              "225  San Luis Obispo  California    21405          21405.0    261.0\n",
              "226        San Mateo  California    42604          42604.0    542.0\n",
              "227    Santa Barbara  California    34577          34577.0    460.0\n",
              "228      Santa Clara  California   119894         119894.0   2176.0\n",
              "229       Santa Cruz  California    16202          16202.0    208.0\n",
              "230           Shasta  California    12559          12559.0    232.0\n",
              "231           Sierra  California       55             55.0      0.0\n",
              "232         Siskiyou  California     2386           2386.0     37.0\n",
              "233           Solano  California    33574          33574.0    266.0\n",
              "234           Sonoma  California    30688          30688.0    323.0\n",
              "235       Stanislaus  California    63190          56649.0   1068.0\n",
              "236           Sutter  California     9603           9603.0    112.0\n",
              "237           Tehama  California     5099           5099.0     63.0\n",
              "238          Trinity  California      333            333.0      3.0\n",
              "239           Tulare  California    49758          49758.0    849.0\n",
              "240         Tuolumne  California     4185           4185.0     69.0\n",
              "241          Ventura  California    81554          81554.0   1028.0\n",
              "242             Yolo  California    14118          14118.0    212.0\n",
              "243             Yuba  California     6426           6120.0     50.0"
            ]
          },
          "metadata": {
            "tags": []
          },
          "execution_count": 17
        }
      ]
    },
    {
      "cell_type": "code",
      "metadata": {
        "collapsed": true,
        "id": "LtIb7T6V_DP0",
        "jupyter": {
          "outputs_hidden": true
        }
      },
      "source": [
        "covid_live_counties_simple_CA = covid_live_counties_simple.loc[covid_live_counties_simple['state']=='California']"
      ],
      "execution_count": 18,
      "outputs": []
    },
    {
      "cell_type": "markdown",
      "metadata": {
        "id": "7KfOn-Me_DP0"
      },
      "source": [
        "Let's plot!"
      ]
    },
    {
      "cell_type": "code",
      "metadata": {
        "colab": {
          "base_uri": "https://localhost:8080/",
          "height": 377
        },
        "id": "IhuqUnPN_DP0",
        "outputId": "a0090e05-3e9f-48dc-a359-7764ed7b10fe"
      },
      "source": [
        "covid_live_counties_simple_CA.plot.bar(x='county',y='cases')"
      ],
      "execution_count": 19,
      "outputs": [
        {
          "output_type": "execute_result",
          "data": {
            "text/plain": [
              "<matplotlib.axes._subplots.AxesSubplot at 0x7f0bd9e17690>"
            ]
          },
          "metadata": {
            "tags": []
          },
          "execution_count": 19
        },
        {
          "output_type": "display_data",
          "data": {
            "image/png": "[encoded data removed]",
            "text/plain": [
              "<Figure size 432x288 with 1 Axes>"
            ]
          },
          "metadata": {
            "tags": [],
            "needs_background": "light"
          }
        }
      ]
    },
    {
      "cell_type": "code",
      "metadata": {
        "colab": {
          "base_uri": "https://localhost:8080/",
          "height": 703
        },
        "id": "jOKW9pH2XNdd",
        "outputId": "bc16d27d-345b-4275-c805-236021eeb217"
      },
      "source": [
        "covid_live_counties_simple_CA.plot.bar(x='county',y='cases', figsize=(10,10)) # Now the plot is more readable!"
      ],
      "execution_count": 21,
      "outputs": [
        {
          "output_type": "execute_result",
          "data": {
            "text/plain": [
              "<matplotlib.axes._subplots.AxesSubplot at 0x7f0bd2d6cdd0>"
            ]
          },
          "metadata": {
            "tags": []
          },
          "execution_count": 21
        },
        {
          "output_type": "display_data",
          "data": {
            "image/png": "[encoded data removed]",
            "text/plain": [
              "<Figure size 720x720 with 1 Axes>"
            ]
          },
          "metadata": {
            "tags": [],
            "needs_background": "light"
          }
        }
      ]
    },
    {
      "cell_type": "markdown",
      "metadata": {
        "id": "0CSQPArCBkBl"
      },
      "source": [
        "Let's add another column taking the log10 of cases to make it easier to visualize across California counties."
      ]
    },
    {
      "cell_type": "code",
      "metadata": {
        "id": "wtX-xJmTBh_J"
      },
      "source": [
        "import numpy as np\n",
        "# a bit more on numpy tomorrow."
      ],
      "execution_count": 22,
      "outputs": []
    },
    {
      "cell_type": "code",
      "metadata": {
        "colab": {
          "base_uri": "https://localhost:8080/",
          "height": 692
        },
        "id": "XO6PSSUCCAiw",
        "outputId": "6428c21a-5ca4-487f-ff14-ba920a6e03c6"
      },
      "source": [
        "covid_live_counties_simple_CA = pd.DataFrame(covid_live_counties_simple_CA) # this step makes a deep copy of the data frame\n",
        "covid_live_counties_simple_CA['log10_cases'] = np.log10(covid_live_counties_simple_CA['cases'])\n",
        "covid_live_counties_simple_CA.plot.bar(x='county',y='log10_cases', figsize=(10,10))"
      ],
      "execution_count": 23,
      "outputs": [
        {
          "output_type": "execute_result",
          "data": {
            "text/plain": [
              "<matplotlib.axes._subplots.AxesSubplot at 0x7f0bd2ba1a10>"
            ]
          },
          "metadata": {
            "tags": []
          },
          "execution_count": 23
        },
        {
          "output_type": "display_data",
          "data": {
            "image/png": "[encoded data removed]",
            "text/plain": [
              "<Figure size 720x720 with 1 Axes>"
            ]
          },
          "metadata": {
            "tags": [],
            "needs_background": "light"
          }
        }
      ]
    },
    {
      "cell_type": "markdown",
      "metadata": {
        "id": "nUVXQRB2_DP0"
      },
      "source": [
        "### Sorting and filtering by rank"
      ]
    },
    {
      "cell_type": "code",
      "metadata": {
        "colab": {
          "base_uri": "https://localhost:8080/",
          "height": 1000
        },
        "id": "_7m3HvOD_DP1",
        "outputId": "e9e28475-1c68-41e8-924d-677f5cd95662"
      },
      "source": [
        "covid_live_counties_simple_CA.sort_values('cases', ascending=False)"
      ],
      "execution_count": 24,
      "outputs": [
        {
          "output_type": "execute_result",
          "data": {
            "text/html": [
              "<div>\n",
              "<style scoped>\n",
              "    .dataframe tbody tr th:only-of-type {\n",
              "        vertical-align: middle;\n",
              "    }\n",
              "\n",
              "    .dataframe tbody tr th {\n",
              "        vertical-align: top;\n",
              "    }\n",
              "\n",
              "    .dataframe thead th {\n",
              "        text-align: right;\n",
              "    }\n",
              "</style>\n",
              "<table border=\"1\" class=\"dataframe\">\n",
              "  <thead>\n",
              "    <tr style=\"text-align: right;\">\n",
              "      <th></th>\n",
              "      <th>county</th>\n",
              "      <th>state</th>\n",
              "      <th>cases</th>\n",
              "      <th>confirmed_cases</th>\n",
              "      <th>deaths</th>\n",
              "      <th>log10_cases</th>\n",
              "    </tr>\n",
              "  </thead>\n",
              "  <tbody>\n",
              "    <tr>\n",
              "      <th>204</th>\n",
              "      <td>Los Angeles</td>\n",
              "      <td>California</td>\n",
              "      <td>1246974</td>\n",
              "      <td>1246307.0</td>\n",
              "      <td>24434.0</td>\n",
              "      <td>6.095857</td>\n",
              "    </tr>\n",
              "    <tr>\n",
              "      <th>218</th>\n",
              "      <td>Riverside</td>\n",
              "      <td>California</td>\n",
              "      <td>301312</td>\n",
              "      <td>301312.0</td>\n",
              "      <td>4618.0</td>\n",
              "      <td>5.479016</td>\n",
              "    </tr>\n",
              "    <tr>\n",
              "      <th>221</th>\n",
              "      <td>San Bernardino</td>\n",
              "      <td>California</td>\n",
              "      <td>298976</td>\n",
              "      <td>298976.0</td>\n",
              "      <td>4788.0</td>\n",
              "      <td>5.475636</td>\n",
              "    </tr>\n",
              "    <tr>\n",
              "      <th>222</th>\n",
              "      <td>San Diego</td>\n",
              "      <td>California</td>\n",
              "      <td>281266</td>\n",
              "      <td>281266.0</td>\n",
              "      <td>3770.0</td>\n",
              "      <td>5.449117</td>\n",
              "    </tr>\n",
              "    <tr>\n",
              "      <th>215</th>\n",
              "      <td>Orange</td>\n",
              "      <td>California</td>\n",
              "      <td>272650</td>\n",
              "      <td>255588.0</td>\n",
              "      <td>5103.0</td>\n",
              "      <td>5.435606</td>\n",
              "    </tr>\n",
              "    <tr>\n",
              "      <th>228</th>\n",
              "      <td>Santa Clara</td>\n",
              "      <td>California</td>\n",
              "      <td>119894</td>\n",
              "      <td>119894.0</td>\n",
              "      <td>2176.0</td>\n",
              "      <td>5.078797</td>\n",
              "    </tr>\n",
              "    <tr>\n",
              "      <th>200</th>\n",
              "      <td>Kern</td>\n",
              "      <td>California</td>\n",
              "      <td>110604</td>\n",
              "      <td>110604.0</td>\n",
              "      <td>1400.0</td>\n",
              "      <td>5.043771</td>\n",
              "    </tr>\n",
              "    <tr>\n",
              "      <th>219</th>\n",
              "      <td>Sacramento</td>\n",
              "      <td>California</td>\n",
              "      <td>107198</td>\n",
              "      <td>107198.0</td>\n",
              "      <td>1718.0</td>\n",
              "      <td>5.030187</td>\n",
              "    </tr>\n",
              "    <tr>\n",
              "      <th>195</th>\n",
              "      <td>Fresno</td>\n",
              "      <td>California</td>\n",
              "      <td>102783</td>\n",
              "      <td>102783.0</td>\n",
              "      <td>1720.0</td>\n",
              "      <td>5.011921</td>\n",
              "    </tr>\n",
              "    <tr>\n",
              "      <th>186</th>\n",
              "      <td>Alameda</td>\n",
              "      <td>California</td>\n",
              "      <td>89408</td>\n",
              "      <td>89408.0</td>\n",
              "      <td>1719.0</td>\n",
              "      <td>4.951376</td>\n",
              "    </tr>\n",
              "    <tr>\n",
              "      <th>241</th>\n",
              "      <td>Ventura</td>\n",
              "      <td>California</td>\n",
              "      <td>81554</td>\n",
              "      <td>81554.0</td>\n",
              "      <td>1028.0</td>\n",
              "      <td>4.911445</td>\n",
              "    </tr>\n",
              "    <tr>\n",
              "      <th>224</th>\n",
              "      <td>San Joaquin</td>\n",
              "      <td>California</td>\n",
              "      <td>74401</td>\n",
              "      <td>74401.0</td>\n",
              "      <td>1432.0</td>\n",
              "      <td>4.871579</td>\n",
              "    </tr>\n",
              "    <tr>\n",
              "      <th>192</th>\n",
              "      <td>Contra Costa</td>\n",
              "      <td>California</td>\n",
              "      <td>70328</td>\n",
              "      <td>70328.0</td>\n",
              "      <td>810.0</td>\n",
              "      <td>4.847128</td>\n",
              "    </tr>\n",
              "    <tr>\n",
              "      <th>235</th>\n",
              "      <td>Stanislaus</td>\n",
              "      <td>California</td>\n",
              "      <td>63190</td>\n",
              "      <td>56649.0</td>\n",
              "      <td>1068.0</td>\n",
              "      <td>4.800648</td>\n",
              "    </tr>\n",
              "    <tr>\n",
              "      <th>239</th>\n",
              "      <td>Tulare</td>\n",
              "      <td>California</td>\n",
              "      <td>49758</td>\n",
              "      <td>49758.0</td>\n",
              "      <td>849.0</td>\n",
              "      <td>4.696863</td>\n",
              "    </tr>\n",
              "    <tr>\n",
              "      <th>212</th>\n",
              "      <td>Monterey</td>\n",
              "      <td>California</td>\n",
              "      <td>43791</td>\n",
              "      <td>43791.0</td>\n",
              "      <td>419.0</td>\n",
              "      <td>4.641385</td>\n",
              "    </tr>\n",
              "    <tr>\n",
              "      <th>226</th>\n",
              "      <td>San Mateo</td>\n",
              "      <td>California</td>\n",
              "      <td>42604</td>\n",
              "      <td>42604.0</td>\n",
              "      <td>542.0</td>\n",
              "      <td>4.629450</td>\n",
              "    </tr>\n",
              "    <tr>\n",
              "      <th>223</th>\n",
              "      <td>San Francisco</td>\n",
              "      <td>California</td>\n",
              "      <td>37192</td>\n",
              "      <td>37192.0</td>\n",
              "      <td>555.0</td>\n",
              "      <td>4.570450</td>\n",
              "    </tr>\n",
              "    <tr>\n",
              "      <th>227</th>\n",
              "      <td>Santa Barbara</td>\n",
              "      <td>California</td>\n",
              "      <td>34577</td>\n",
              "      <td>34577.0</td>\n",
              "      <td>460.0</td>\n",
              "      <td>4.538787</td>\n",
              "    </tr>\n",
              "    <tr>\n",
              "      <th>233</th>\n",
              "      <td>Solano</td>\n",
              "      <td>California</td>\n",
              "      <td>33574</td>\n",
              "      <td>33574.0</td>\n",
              "      <td>266.0</td>\n",
              "      <td>4.526003</td>\n",
              "    </tr>\n",
              "    <tr>\n",
              "      <th>209</th>\n",
              "      <td>Merced</td>\n",
              "      <td>California</td>\n",
              "      <td>32253</td>\n",
              "      <td>32253.0</td>\n",
              "      <td>474.0</td>\n",
              "      <td>4.508570</td>\n",
              "    </tr>\n",
              "    <tr>\n",
              "      <th>234</th>\n",
              "      <td>Sonoma</td>\n",
              "      <td>California</td>\n",
              "      <td>30688</td>\n",
              "      <td>30688.0</td>\n",
              "      <td>323.0</td>\n",
              "      <td>4.486969</td>\n",
              "    </tr>\n",
              "    <tr>\n",
              "      <th>198</th>\n",
              "      <td>Imperial</td>\n",
              "      <td>California</td>\n",
              "      <td>28799</td>\n",
              "      <td>28799.0</td>\n",
              "      <td>740.0</td>\n",
              "      <td>4.459377</td>\n",
              "    </tr>\n",
              "    <tr>\n",
              "      <th>216</th>\n",
              "      <td>Placer</td>\n",
              "      <td>California</td>\n",
              "      <td>23345</td>\n",
              "      <td>23345.0</td>\n",
              "      <td>298.0</td>\n",
              "      <td>4.368194</td>\n",
              "    </tr>\n",
              "    <tr>\n",
              "      <th>201</th>\n",
              "      <td>Kings</td>\n",
              "      <td>California</td>\n",
              "      <td>23168</td>\n",
              "      <td>23168.0</td>\n",
              "      <td>247.0</td>\n",
              "      <td>4.364889</td>\n",
              "    </tr>\n",
              "    <tr>\n",
              "      <th>225</th>\n",
              "      <td>San Luis Obispo</td>\n",
              "      <td>California</td>\n",
              "      <td>21405</td>\n",
              "      <td>21405.0</td>\n",
              "      <td>261.0</td>\n",
              "      <td>4.330515</td>\n",
              "    </tr>\n",
              "    <tr>\n",
              "      <th>205</th>\n",
              "      <td>Madera</td>\n",
              "      <td>California</td>\n",
              "      <td>16586</td>\n",
              "      <td>16586.0</td>\n",
              "      <td>245.0</td>\n",
              "      <td>4.219742</td>\n",
              "    </tr>\n",
              "    <tr>\n",
              "      <th>229</th>\n",
              "      <td>Santa Cruz</td>\n",
              "      <td>California</td>\n",
              "      <td>16202</td>\n",
              "      <td>16202.0</td>\n",
              "      <td>208.0</td>\n",
              "      <td>4.209569</td>\n",
              "    </tr>\n",
              "    <tr>\n",
              "      <th>206</th>\n",
              "      <td>Marin</td>\n",
              "      <td>California</td>\n",
              "      <td>14121</td>\n",
              "      <td>14121.0</td>\n",
              "      <td>229.0</td>\n",
              "      <td>4.149865</td>\n",
              "    </tr>\n",
              "    <tr>\n",
              "      <th>242</th>\n",
              "      <td>Yolo</td>\n",
              "      <td>California</td>\n",
              "      <td>14118</td>\n",
              "      <td>14118.0</td>\n",
              "      <td>212.0</td>\n",
              "      <td>4.149773</td>\n",
              "    </tr>\n",
              "    <tr>\n",
              "      <th>189</th>\n",
              "      <td>Butte</td>\n",
              "      <td>California</td>\n",
              "      <td>12576</td>\n",
              "      <td>12576.0</td>\n",
              "      <td>194.0</td>\n",
              "      <td>4.099543</td>\n",
              "    </tr>\n",
              "    <tr>\n",
              "      <th>230</th>\n",
              "      <td>Shasta</td>\n",
              "      <td>California</td>\n",
              "      <td>12559</td>\n",
              "      <td>12559.0</td>\n",
              "      <td>232.0</td>\n",
              "      <td>4.098955</td>\n",
              "    </tr>\n",
              "    <tr>\n",
              "      <th>194</th>\n",
              "      <td>El Dorado</td>\n",
              "      <td>California</td>\n",
              "      <td>10334</td>\n",
              "      <td>10320.0</td>\n",
              "      <td>115.0</td>\n",
              "      <td>4.014268</td>\n",
              "    </tr>\n",
              "    <tr>\n",
              "      <th>213</th>\n",
              "      <td>Napa</td>\n",
              "      <td>California</td>\n",
              "      <td>9987</td>\n",
              "      <td>9987.0</td>\n",
              "      <td>80.0</td>\n",
              "      <td>3.999435</td>\n",
              "    </tr>\n",
              "    <tr>\n",
              "      <th>236</th>\n",
              "      <td>Sutter</td>\n",
              "      <td>California</td>\n",
              "      <td>9603</td>\n",
              "      <td>9603.0</td>\n",
              "      <td>112.0</td>\n",
              "      <td>3.982407</td>\n",
              "    </tr>\n",
              "    <tr>\n",
              "      <th>243</th>\n",
              "      <td>Yuba</td>\n",
              "      <td>California</td>\n",
              "      <td>6426</td>\n",
              "      <td>6120.0</td>\n",
              "      <td>50.0</td>\n",
              "      <td>3.807941</td>\n",
              "    </tr>\n",
              "    <tr>\n",
              "      <th>220</th>\n",
              "      <td>San Benito</td>\n",
              "      <td>California</td>\n",
              "      <td>6083</td>\n",
              "      <td>6083.0</td>\n",
              "      <td>63.0</td>\n",
              "      <td>3.784118</td>\n",
              "    </tr>\n",
              "    <tr>\n",
              "      <th>203</th>\n",
              "      <td>Lassen</td>\n",
              "      <td>California</td>\n",
              "      <td>5775</td>\n",
              "      <td>5775.0</td>\n",
              "      <td>24.0</td>\n",
              "      <td>3.761552</td>\n",
              "    </tr>\n",
              "    <tr>\n",
              "      <th>237</th>\n",
              "      <td>Tehama</td>\n",
              "      <td>California</td>\n",
              "      <td>5099</td>\n",
              "      <td>5099.0</td>\n",
              "      <td>63.0</td>\n",
              "      <td>3.707485</td>\n",
              "    </tr>\n",
              "    <tr>\n",
              "      <th>214</th>\n",
              "      <td>Nevada</td>\n",
              "      <td>California</td>\n",
              "      <td>4878</td>\n",
              "      <td>4878.0</td>\n",
              "      <td>75.0</td>\n",
              "      <td>3.688242</td>\n",
              "    </tr>\n",
              "    <tr>\n",
              "      <th>197</th>\n",
              "      <td>Humboldt</td>\n",
              "      <td>California</td>\n",
              "      <td>4415</td>\n",
              "      <td>4415.0</td>\n",
              "      <td>46.0</td>\n",
              "      <td>3.644931</td>\n",
              "    </tr>\n",
              "    <tr>\n",
              "      <th>208</th>\n",
              "      <td>Mendocino</td>\n",
              "      <td>California</td>\n",
              "      <td>4274</td>\n",
              "      <td>4274.0</td>\n",
              "      <td>50.0</td>\n",
              "      <td>3.630835</td>\n",
              "    </tr>\n",
              "    <tr>\n",
              "      <th>240</th>\n",
              "      <td>Tuolumne</td>\n",
              "      <td>California</td>\n",
              "      <td>4185</td>\n",
              "      <td>4185.0</td>\n",
              "      <td>69.0</td>\n",
              "      <td>3.621695</td>\n",
              "    </tr>\n",
              "    <tr>\n",
              "      <th>188</th>\n",
              "      <td>Amador</td>\n",
              "      <td>California</td>\n",
              "      <td>3720</td>\n",
              "      <td>3720.0</td>\n",
              "      <td>47.0</td>\n",
              "      <td>3.570543</td>\n",
              "    </tr>\n",
              "    <tr>\n",
              "      <th>202</th>\n",
              "      <td>Lake</td>\n",
              "      <td>California</td>\n",
              "      <td>3552</td>\n",
              "      <td>3552.0</td>\n",
              "      <td>45.0</td>\n",
              "      <td>3.550473</td>\n",
              "    </tr>\n",
              "    <tr>\n",
              "      <th>196</th>\n",
              "      <td>Glenn</td>\n",
              "      <td>California</td>\n",
              "      <td>2947</td>\n",
              "      <td>2425.0</td>\n",
              "      <td>27.0</td>\n",
              "      <td>3.469380</td>\n",
              "    </tr>\n",
              "    <tr>\n",
              "      <th>232</th>\n",
              "      <td>Siskiyou</td>\n",
              "      <td>California</td>\n",
              "      <td>2386</td>\n",
              "      <td>2386.0</td>\n",
              "      <td>37.0</td>\n",
              "      <td>3.377670</td>\n",
              "    </tr>\n",
              "    <tr>\n",
              "      <th>191</th>\n",
              "      <td>Colusa</td>\n",
              "      <td>California</td>\n",
              "      <td>2276</td>\n",
              "      <td>1965.0</td>\n",
              "      <td>18.0</td>\n",
              "      <td>3.357172</td>\n",
              "    </tr>\n",
              "    <tr>\n",
              "      <th>190</th>\n",
              "      <td>Calaveras</td>\n",
              "      <td>California</td>\n",
              "      <td>2195</td>\n",
              "      <td>2189.0</td>\n",
              "      <td>56.0</td>\n",
              "      <td>3.341435</td>\n",
              "    </tr>\n",
              "    <tr>\n",
              "      <th>193</th>\n",
              "      <td>Del Norte</td>\n",
              "      <td>California</td>\n",
              "      <td>1448</td>\n",
              "      <td>1448.0</td>\n",
              "      <td>8.0</td>\n",
              "      <td>3.160769</td>\n",
              "    </tr>\n",
              "    <tr>\n",
              "      <th>199</th>\n",
              "      <td>Inyo</td>\n",
              "      <td>California</td>\n",
              "      <td>1433</td>\n",
              "      <td>1405.0</td>\n",
              "      <td>38.0</td>\n",
              "      <td>3.156246</td>\n",
              "    </tr>\n",
              "    <tr>\n",
              "      <th>211</th>\n",
              "      <td>Mono</td>\n",
              "      <td>California</td>\n",
              "      <td>1294</td>\n",
              "      <td>1275.0</td>\n",
              "      <td>4.0</td>\n",
              "      <td>3.111934</td>\n",
              "    </tr>\n",
              "    <tr>\n",
              "      <th>217</th>\n",
              "      <td>Plumas</td>\n",
              "      <td>California</td>\n",
              "      <td>733</td>\n",
              "      <td>696.0</td>\n",
              "      <td>6.0</td>\n",
              "      <td>2.865104</td>\n",
              "    </tr>\n",
              "    <tr>\n",
              "      <th>207</th>\n",
              "      <td>Mariposa</td>\n",
              "      <td>California</td>\n",
              "      <td>461</td>\n",
              "      <td>461.0</td>\n",
              "      <td>7.0</td>\n",
              "      <td>2.663701</td>\n",
              "    </tr>\n",
              "    <tr>\n",
              "      <th>210</th>\n",
              "      <td>Modoc</td>\n",
              "      <td>California</td>\n",
              "      <td>382</td>\n",
              "      <td>382.0</td>\n",
              "      <td>3.0</td>\n",
              "      <td>2.582063</td>\n",
              "    </tr>\n",
              "    <tr>\n",
              "      <th>238</th>\n",
              "      <td>Trinity</td>\n",
              "      <td>California</td>\n",
              "      <td>333</td>\n",
              "      <td>333.0</td>\n",
              "      <td>3.0</td>\n",
              "      <td>2.522444</td>\n",
              "    </tr>\n",
              "    <tr>\n",
              "      <th>187</th>\n",
              "      <td>Alpine</td>\n",
              "      <td>California</td>\n",
              "      <td>89</td>\n",
              "      <td>88.0</td>\n",
              "      <td>0.0</td>\n",
              "      <td>1.949390</td>\n",
              "    </tr>\n",
              "    <tr>\n",
              "      <th>231</th>\n",
              "      <td>Sierra</td>\n",
              "      <td>California</td>\n",
              "      <td>55</td>\n",
              "      <td>55.0</td>\n",
              "      <td>0.0</td>\n",
              "      <td>1.740363</td>\n",
              "    </tr>\n",
              "  </tbody>\n",
              "</table>\n",
              "</div>"
            ],
            "text/plain": [
              "              county       state  ...   deaths  log10_cases\n",
              "204      Los Angeles  California  ...  24434.0     6.095857\n",
              "218        Riverside  California  ...   4618.0     5.479016\n",
              "221   San Bernardino  California  ...   4788.0     5.475636\n",
              "222        San Diego  California  ...   3770.0     5.449117\n",
              "215           Orange  California  ...   5103.0     5.435606\n",
              "228      Santa Clara  California  ...   2176.0     5.078797\n",
              "200             Kern  California  ...   1400.0     5.043771\n",
              "219       Sacramento  California  ...   1718.0     5.030187\n",
              "195           Fresno  California  ...   1720.0     5.011921\n",
              "186          Alameda  California  ...   1719.0     4.951376\n",
              "241          Ventura  California  ...   1028.0     4.911445\n",
              "224      San Joaquin  California  ...   1432.0     4.871579\n",
              "192     Contra Costa  California  ...    810.0     4.847128\n",
              "235       Stanislaus  California  ...   1068.0     4.800648\n",
              "239           Tulare  California  ...    849.0     4.696863\n",
              "212         Monterey  California  ...    419.0     4.641385\n",
              "226        San Mateo  California  ...    542.0     4.629450\n",
              "223    San Francisco  California  ...    555.0     4.570450\n",
              "227    Santa Barbara  California  ...    460.0     4.538787\n",
              "233           Solano  California  ...    266.0     4.526003\n",
              "209           Merced  California  ...    474.0     4.508570\n",
              "234           Sonoma  California  ...    323.0     4.486969\n",
              "198         Imperial  California  ...    740.0     4.459377\n",
              "216           Placer  California  ...    298.0     4.368194\n",
              "201            Kings  California  ...    247.0     4.364889\n",
              "225  San Luis Obispo  California  ...    261.0     4.330515\n",
              "205           Madera  California  ...    245.0     4.219742\n",
              "229       Santa Cruz  California  ...    208.0     4.209569\n",
              "206            Marin  California  ...    229.0     4.149865\n",
              "242             Yolo  California  ...    212.0     4.149773\n",
              "189            Butte  California  ...    194.0     4.099543\n",
              "230           Shasta  California  ...    232.0     4.098955\n",
              "194        El Dorado  California  ...    115.0     4.014268\n",
              "213             Napa  California  ...     80.0     3.999435\n",
              "236           Sutter  California  ...    112.0     3.982407\n",
              "243             Yuba  California  ...     50.0     3.807941\n",
              "220       San Benito  California  ...     63.0     3.784118\n",
              "203           Lassen  California  ...     24.0     3.761552\n",
              "237           Tehama  California  ...     63.0     3.707485\n",
              "214           Nevada  California  ...     75.0     3.688242\n",
              "197         Humboldt  California  ...     46.0     3.644931\n",
              "208        Mendocino  California  ...     50.0     3.630835\n",
              "240         Tuolumne  California  ...     69.0     3.621695\n",
              "188           Amador  California  ...     47.0     3.570543\n",
              "202             Lake  California  ...     45.0     3.550473\n",
              "196            Glenn  California  ...     27.0     3.469380\n",
              "232         Siskiyou  California  ...     37.0     3.377670\n",
              "191           Colusa  California  ...     18.0     3.357172\n",
              "190        Calaveras  California  ...     56.0     3.341435\n",
              "193        Del Norte  California  ...      8.0     3.160769\n",
              "199             Inyo  California  ...     38.0     3.156246\n",
              "211             Mono  California  ...      4.0     3.111934\n",
              "217           Plumas  California  ...      6.0     2.865104\n",
              "207         Mariposa  California  ...      7.0     2.663701\n",
              "210            Modoc  California  ...      3.0     2.582063\n",
              "238          Trinity  California  ...      3.0     2.522444\n",
              "187           Alpine  California  ...      0.0     1.949390\n",
              "231           Sierra  California  ...      0.0     1.740363\n",
              "\n",
              "[58 rows x 6 columns]"
            ]
          },
          "metadata": {
            "tags": []
          },
          "execution_count": 24
        }
      ]
    },
    {
      "cell_type": "markdown",
      "metadata": {
        "id": "v462QhU8_DP1"
      },
      "source": [
        "Let's get the top 20 counties"
      ]
    },
    {
      "cell_type": "code",
      "metadata": {
        "colab": {
          "base_uri": "https://localhost:8080/",
          "height": 669
        },
        "id": "itpdctJn_DP1",
        "outputId": "25688298-5ea3-4820-d40e-ad545cd322b4"
      },
      "source": [
        "covid_live_counties_simple_CA_top20=covid_live_counties_simple_CA.sort_values('cases', ascending=False).head(20)\n",
        "covid_live_counties_simple_CA_top20"
      ],
      "execution_count": 25,
      "outputs": [
        {
          "output_type": "execute_result",
          "data": {
            "text/html": [
              "<div>\n",
              "<style scoped>\n",
              "    .dataframe tbody tr th:only-of-type {\n",
              "        vertical-align: middle;\n",
              "    }\n",
              "\n",
              "    .dataframe tbody tr th {\n",
              "        vertical-align: top;\n",
              "    }\n",
              "\n",
              "    .dataframe thead th {\n",
              "        text-align: right;\n",
              "    }\n",
              "</style>\n",
              "<table border=\"1\" class=\"dataframe\">\n",
              "  <thead>\n",
              "    <tr style=\"text-align: right;\">\n",
              "      <th></th>\n",
              "      <th>county</th>\n",
              "      <th>state</th>\n",
              "      <th>cases</th>\n",
              "      <th>confirmed_cases</th>\n",
              "      <th>deaths</th>\n",
              "      <th>log10_cases</th>\n",
              "    </tr>\n",
              "  </thead>\n",
              "  <tbody>\n",
              "    <tr>\n",
              "      <th>204</th>\n",
              "      <td>Los Angeles</td>\n",
              "      <td>California</td>\n",
              "      <td>1246974</td>\n",
              "      <td>1246307.0</td>\n",
              "      <td>24434.0</td>\n",
              "      <td>6.095857</td>\n",
              "    </tr>\n",
              "    <tr>\n",
              "      <th>218</th>\n",
              "      <td>Riverside</td>\n",
              "      <td>California</td>\n",
              "      <td>301312</td>\n",
              "      <td>301312.0</td>\n",
              "      <td>4618.0</td>\n",
              "      <td>5.479016</td>\n",
              "    </tr>\n",
              "    <tr>\n",
              "      <th>221</th>\n",
              "      <td>San Bernardino</td>\n",
              "      <td>California</td>\n",
              "      <td>298976</td>\n",
              "      <td>298976.0</td>\n",
              "      <td>4788.0</td>\n",
              "      <td>5.475636</td>\n",
              "    </tr>\n",
              "    <tr>\n",
              "      <th>222</th>\n",
              "      <td>San Diego</td>\n",
              "      <td>California</td>\n",
              "      <td>281266</td>\n",
              "      <td>281266.0</td>\n",
              "      <td>3770.0</td>\n",
              "      <td>5.449117</td>\n",
              "    </tr>\n",
              "    <tr>\n",
              "      <th>215</th>\n",
              "      <td>Orange</td>\n",
              "      <td>California</td>\n",
              "      <td>272650</td>\n",
              "      <td>255588.0</td>\n",
              "      <td>5103.0</td>\n",
              "      <td>5.435606</td>\n",
              "    </tr>\n",
              "    <tr>\n",
              "      <th>228</th>\n",
              "      <td>Santa Clara</td>\n",
              "      <td>California</td>\n",
              "      <td>119894</td>\n",
              "      <td>119894.0</td>\n",
              "      <td>2176.0</td>\n",
              "      <td>5.078797</td>\n",
              "    </tr>\n",
              "    <tr>\n",
              "      <th>200</th>\n",
              "      <td>Kern</td>\n",
              "      <td>California</td>\n",
              "      <td>110604</td>\n",
              "      <td>110604.0</td>\n",
              "      <td>1400.0</td>\n",
              "      <td>5.043771</td>\n",
              "    </tr>\n",
              "    <tr>\n",
              "      <th>219</th>\n",
              "      <td>Sacramento</td>\n",
              "      <td>California</td>\n",
              "      <td>107198</td>\n",
              "      <td>107198.0</td>\n",
              "      <td>1718.0</td>\n",
              "      <td>5.030187</td>\n",
              "    </tr>\n",
              "    <tr>\n",
              "      <th>195</th>\n",
              "      <td>Fresno</td>\n",
              "      <td>California</td>\n",
              "      <td>102783</td>\n",
              "      <td>102783.0</td>\n",
              "      <td>1720.0</td>\n",
              "      <td>5.011921</td>\n",
              "    </tr>\n",
              "    <tr>\n",
              "      <th>186</th>\n",
              "      <td>Alameda</td>\n",
              "      <td>California</td>\n",
              "      <td>89408</td>\n",
              "      <td>89408.0</td>\n",
              "      <td>1719.0</td>\n",
              "      <td>4.951376</td>\n",
              "    </tr>\n",
              "    <tr>\n",
              "      <th>241</th>\n",
              "      <td>Ventura</td>\n",
              "      <td>California</td>\n",
              "      <td>81554</td>\n",
              "      <td>81554.0</td>\n",
              "      <td>1028.0</td>\n",
              "      <td>4.911445</td>\n",
              "    </tr>\n",
              "    <tr>\n",
              "      <th>224</th>\n",
              "      <td>San Joaquin</td>\n",
              "      <td>California</td>\n",
              "      <td>74401</td>\n",
              "      <td>74401.0</td>\n",
              "      <td>1432.0</td>\n",
              "      <td>4.871579</td>\n",
              "    </tr>\n",
              "    <tr>\n",
              "      <th>192</th>\n",
              "      <td>Contra Costa</td>\n",
              "      <td>California</td>\n",
              "      <td>70328</td>\n",
              "      <td>70328.0</td>\n",
              "      <td>810.0</td>\n",
              "      <td>4.847128</td>\n",
              "    </tr>\n",
              "    <tr>\n",
              "      <th>235</th>\n",
              "      <td>Stanislaus</td>\n",
              "      <td>California</td>\n",
              "      <td>63190</td>\n",
              "      <td>56649.0</td>\n",
              "      <td>1068.0</td>\n",
              "      <td>4.800648</td>\n",
              "    </tr>\n",
              "    <tr>\n",
              "      <th>239</th>\n",
              "      <td>Tulare</td>\n",
              "      <td>California</td>\n",
              "      <td>49758</td>\n",
              "      <td>49758.0</td>\n",
              "      <td>849.0</td>\n",
              "      <td>4.696863</td>\n",
              "    </tr>\n",
              "    <tr>\n",
              "      <th>212</th>\n",
              "      <td>Monterey</td>\n",
              "      <td>California</td>\n",
              "      <td>43791</td>\n",
              "      <td>43791.0</td>\n",
              "      <td>419.0</td>\n",
              "      <td>4.641385</td>\n",
              "    </tr>\n",
              "    <tr>\n",
              "      <th>226</th>\n",
              "      <td>San Mateo</td>\n",
              "      <td>California</td>\n",
              "      <td>42604</td>\n",
              "      <td>42604.0</td>\n",
              "      <td>542.0</td>\n",
              "      <td>4.629450</td>\n",
              "    </tr>\n",
              "    <tr>\n",
              "      <th>223</th>\n",
              "      <td>San Francisco</td>\n",
              "      <td>California</td>\n",
              "      <td>37192</td>\n",
              "      <td>37192.0</td>\n",
              "      <td>555.0</td>\n",
              "      <td>4.570450</td>\n",
              "    </tr>\n",
              "    <tr>\n",
              "      <th>227</th>\n",
              "      <td>Santa Barbara</td>\n",
              "      <td>California</td>\n",
              "      <td>34577</td>\n",
              "      <td>34577.0</td>\n",
              "      <td>460.0</td>\n",
              "      <td>4.538787</td>\n",
              "    </tr>\n",
              "    <tr>\n",
              "      <th>233</th>\n",
              "      <td>Solano</td>\n",
              "      <td>California</td>\n",
              "      <td>33574</td>\n",
              "      <td>33574.0</td>\n",
              "      <td>266.0</td>\n",
              "      <td>4.526003</td>\n",
              "    </tr>\n",
              "  </tbody>\n",
              "</table>\n",
              "</div>"
            ],
            "text/plain": [
              "             county       state    cases  confirmed_cases   deaths  log10_cases\n",
              "204     Los Angeles  California  1246974        1246307.0  24434.0     6.095857\n",
              "218       Riverside  California   301312         301312.0   4618.0     5.479016\n",
              "221  San Bernardino  California   298976         298976.0   4788.0     5.475636\n",
              "222       San Diego  California   281266         281266.0   3770.0     5.449117\n",
              "215          Orange  California   272650         255588.0   5103.0     5.435606\n",
              "228     Santa Clara  California   119894         119894.0   2176.0     5.078797\n",
              "200            Kern  California   110604         110604.0   1400.0     5.043771\n",
              "219      Sacramento  California   107198         107198.0   1718.0     5.030187\n",
              "195          Fresno  California   102783         102783.0   1720.0     5.011921\n",
              "186         Alameda  California    89408          89408.0   1719.0     4.951376\n",
              "241         Ventura  California    81554          81554.0   1028.0     4.911445\n",
              "224     San Joaquin  California    74401          74401.0   1432.0     4.871579\n",
              "192    Contra Costa  California    70328          70328.0    810.0     4.847128\n",
              "235      Stanislaus  California    63190          56649.0   1068.0     4.800648\n",
              "239          Tulare  California    49758          49758.0    849.0     4.696863\n",
              "212        Monterey  California    43791          43791.0    419.0     4.641385\n",
              "226       San Mateo  California    42604          42604.0    542.0     4.629450\n",
              "223   San Francisco  California    37192          37192.0    555.0     4.570450\n",
              "227   Santa Barbara  California    34577          34577.0    460.0     4.538787\n",
              "233          Solano  California    33574          33574.0    266.0     4.526003"
            ]
          },
          "metadata": {
            "tags": []
          },
          "execution_count": 25
        }
      ]
    },
    {
      "cell_type": "code",
      "metadata": {
        "colab": {
          "base_uri": "https://localhost:8080/",
          "height": 374
        },
        "id": "s7pF9o7b_DP2",
        "outputId": "c65c9389-1ed5-4e26-8f19-437121d936f1"
      },
      "source": [
        "covid_live_counties_simple_CA_top20.plot.bar(x='county', y=['cases','confirmed_cases'])"
      ],
      "execution_count": 26,
      "outputs": [
        {
          "output_type": "execute_result",
          "data": {
            "text/plain": [
              "<matplotlib.axes._subplots.AxesSubplot at 0x7f0bd2b53cd0>"
            ]
          },
          "metadata": {
            "tags": []
          },
          "execution_count": 26
        },
        {
          "output_type": "display_data",
          "data": {
            "image/png": "[encoded data removed]",
            "text/plain": [
              "<Figure size 432x288 with 1 Axes>"
            ]
          },
          "metadata": {
            "tags": [],
            "needs_background": "light"
          }
        }
      ]
    },
    {
      "cell_type": "code",
      "metadata": {
        "colab": {
          "base_uri": "https://localhost:8080/"
        },
        "id": "LCzMuqak_DP2",
        "outputId": "e2c0513d-8d4a-42b7-e476-deab91c97b1e"
      },
      "source": [
        "covid_live_counties_simple_CA_top20.mean()"
      ],
      "execution_count": 27,
      "outputs": [
        {
          "output_type": "execute_result",
          "data": {
            "text/plain": [
              "cases              173101.700000\n",
              "confirmed_cases    171888.200000\n",
              "deaths               2943.750000\n",
              "log10_cases             5.004251\n",
              "dtype: float64"
            ]
          },
          "metadata": {
            "tags": []
          },
          "execution_count": 27
        }
      ]
    },
    {
      "cell_type": "code",
      "metadata": {
        "colab": {
          "base_uri": "https://localhost:8080/"
        },
        "id": "z9K1gBlf_DP3",
        "outputId": "097048a8-cf8a-4d1a-be12-4fd0d819c7f0"
      },
      "source": [
        "covid_live_counties_simple_CA_top20.sum()"
      ],
      "execution_count": 28,
      "outputs": [
        {
          "output_type": "execute_result",
          "data": {
            "text/plain": [
              "county             Los AngelesRiversideSan BernardinoSan DiegoOra...\n",
              "state              CaliforniaCaliforniaCaliforniaCaliforniaCalifo...\n",
              "cases                                                        3462034\n",
              "confirmed_cases                                          3.43776e+06\n",
              "deaths                                                         58875\n",
              "log10_cases                                                  100.085\n",
              "dtype: object"
            ]
          },
          "metadata": {
            "tags": []
          },
          "execution_count": 28
        }
      ]
    },
    {
      "cell_type": "code",
      "metadata": {
        "colab": {
          "base_uri": "https://localhost:8080/"
        },
        "id": "nqP2AEbl_DP3",
        "outputId": "904895f0-455d-4685-ea01-1ed32223d342"
      },
      "source": [
        "covid_live_counties.sum()"
      ],
      "execution_count": 29,
      "outputs": [
        {
          "output_type": "execute_result",
          "data": {
            "text/plain": [
              "date                2021-06-142021-06-142021-06-142021-06-142021-0...\n",
              "county              AutaugaBaldwinBarbourBibbBlountBullockButlerCa...\n",
              "state               AlabamaAlabamaAlabamaAlabamaAlabamaAlabamaAlab...\n",
              "fips                                                      1.01271e+08\n",
              "cases                                                        33429075\n",
              "deaths                                                         599781\n",
              "confirmed_cases                                           2.17664e+07\n",
              "confirmed_deaths                                               380300\n",
              "probable_cases                                             2.3602e+06\n",
              "probable_deaths                                                 30251\n",
              "dtype: object"
            ]
          },
          "metadata": {
            "tags": []
          },
          "execution_count": 29
        }
      ]
    },
    {
      "cell_type": "markdown",
      "metadata": {
        "id": "51mHXda1_DP4"
      },
      "source": [
        "## Groupby\n",
        "This method allows aggregation for a specific categorical variable, for example `state`."
      ]
    },
    {
      "cell_type": "code",
      "metadata": {
        "collapsed": true,
        "id": "oN4v-tRH_DP4",
        "jupyter": {
          "outputs_hidden": true
        }
      },
      "source": [
        "group_by_state=covid_live_counties_simple.groupby('state')"
      ],
      "execution_count": 30,
      "outputs": []
    },
    {
      "cell_type": "markdown",
      "metadata": {
        "id": "GKjo7iFmbq78"
      },
      "source": [
        "The `.count()` method provides counts for each of the states. Because, each entry corresponds to a county, the resulting values will simply provide how many counties are in that state."
      ]
    },
    {
      "cell_type": "code",
      "metadata": {
        "colab": {
          "base_uri": "https://localhost:8080/",
          "height": 235
        },
        "id": "3H7hStqi_DP4",
        "outputId": "006ff0c6-e972-4b2b-bf8b-5bf5b43f37f4"
      },
      "source": [
        "group_by_state.count().head()"
      ],
      "execution_count": 31,
      "outputs": [
        {
          "output_type": "execute_result",
          "data": {
            "text/html": [
              "<div>\n",
              "<style scoped>\n",
              "    .dataframe tbody tr th:only-of-type {\n",
              "        vertical-align: middle;\n",
              "    }\n",
              "\n",
              "    .dataframe tbody tr th {\n",
              "        vertical-align: top;\n",
              "    }\n",
              "\n",
              "    .dataframe thead th {\n",
              "        text-align: right;\n",
              "    }\n",
              "</style>\n",
              "<table border=\"1\" class=\"dataframe\">\n",
              "  <thead>\n",
              "    <tr style=\"text-align: right;\">\n",
              "      <th></th>\n",
              "      <th>county</th>\n",
              "      <th>cases</th>\n",
              "      <th>confirmed_cases</th>\n",
              "      <th>deaths</th>\n",
              "    </tr>\n",
              "    <tr>\n",
              "      <th>state</th>\n",
              "      <th></th>\n",
              "      <th></th>\n",
              "      <th></th>\n",
              "      <th></th>\n",
              "    </tr>\n",
              "  </thead>\n",
              "  <tbody>\n",
              "    <tr>\n",
              "      <th>Alabama</th>\n",
              "      <td>67</td>\n",
              "      <td>67</td>\n",
              "      <td>67</td>\n",
              "      <td>67</td>\n",
              "    </tr>\n",
              "    <tr>\n",
              "      <th>Alaska</th>\n",
              "      <td>28</td>\n",
              "      <td>28</td>\n",
              "      <td>0</td>\n",
              "      <td>28</td>\n",
              "    </tr>\n",
              "    <tr>\n",
              "      <th>Arizona</th>\n",
              "      <td>15</td>\n",
              "      <td>15</td>\n",
              "      <td>0</td>\n",
              "      <td>15</td>\n",
              "    </tr>\n",
              "    <tr>\n",
              "      <th>Arkansas</th>\n",
              "      <td>76</td>\n",
              "      <td>76</td>\n",
              "      <td>76</td>\n",
              "      <td>76</td>\n",
              "    </tr>\n",
              "    <tr>\n",
              "      <th>California</th>\n",
              "      <td>58</td>\n",
              "      <td>58</td>\n",
              "      <td>58</td>\n",
              "      <td>58</td>\n",
              "    </tr>\n",
              "  </tbody>\n",
              "</table>\n",
              "</div>"
            ],
            "text/plain": [
              "            county  cases  confirmed_cases  deaths\n",
              "state                                             \n",
              "Alabama         67     67               67      67\n",
              "Alaska          28     28                0      28\n",
              "Arizona         15     15                0      15\n",
              "Arkansas        76     76               76      76\n",
              "California      58     58               58      58"
            ]
          },
          "metadata": {
            "tags": []
          },
          "execution_count": 31
        }
      ]
    },
    {
      "cell_type": "code",
      "metadata": {
        "colab": {
          "base_uri": "https://localhost:8080/",
          "height": 739
        },
        "id": "-eCe1OqvcA6E",
        "outputId": "04f18c2f-c25b-4ee7-892f-9b06a2d3a061"
      },
      "source": [
        "group_by_state.count().plot.bar(y='county', figsize=(10,10))"
      ],
      "execution_count": 32,
      "outputs": [
        {
          "output_type": "execute_result",
          "data": {
            "text/plain": [
              "<matplotlib.axes._subplots.AxesSubplot at 0x7f0bd2a3bc50>"
            ]
          },
          "metadata": {
            "tags": []
          },
          "execution_count": 32
        },
        {
          "output_type": "display_data",
          "data": {
            "image/png": "[encoded data removed]",
            "text/plain": [
              "<Figure size 720x720 with 1 Axes>"
            ]
          },
          "metadata": {
            "tags": [],
            "needs_background": "light"
          }
        }
      ]
    },
    {
      "cell_type": "markdown",
      "metadata": {
        "id": "uEeTBUsrcqkN"
      },
      "source": [
        "We can use the `.get_group()` method to filter the data frame for a single group."
      ]
    },
    {
      "cell_type": "code",
      "metadata": {
        "colab": {
          "base_uri": "https://localhost:8080/",
          "height": 204
        },
        "id": "6V7jElBELYOH",
        "outputId": "2380ea74-6502-45ef-9977-df52427907f6"
      },
      "source": [
        "group_by_state.get_group('New York').head()"
      ],
      "execution_count": 33,
      "outputs": [
        {
          "output_type": "execute_result",
          "data": {
            "text/html": [
              "<div>\n",
              "<style scoped>\n",
              "    .dataframe tbody tr th:only-of-type {\n",
              "        vertical-align: middle;\n",
              "    }\n",
              "\n",
              "    .dataframe tbody tr th {\n",
              "        vertical-align: top;\n",
              "    }\n",
              "\n",
              "    .dataframe thead th {\n",
              "        text-align: right;\n",
              "    }\n",
              "</style>\n",
              "<table border=\"1\" class=\"dataframe\">\n",
              "  <thead>\n",
              "    <tr style=\"text-align: right;\">\n",
              "      <th></th>\n",
              "      <th>county</th>\n",
              "      <th>state</th>\n",
              "      <th>cases</th>\n",
              "      <th>confirmed_cases</th>\n",
              "      <th>deaths</th>\n",
              "    </tr>\n",
              "  </thead>\n",
              "  <tbody>\n",
              "    <tr>\n",
              "      <th>1846</th>\n",
              "      <td>Albany</td>\n",
              "      <td>New York</td>\n",
              "      <td>24694</td>\n",
              "      <td>24694.0</td>\n",
              "      <td>356.0</td>\n",
              "    </tr>\n",
              "    <tr>\n",
              "      <th>1847</th>\n",
              "      <td>Allegany</td>\n",
              "      <td>New York</td>\n",
              "      <td>3555</td>\n",
              "      <td>3555.0</td>\n",
              "      <td>87.0</td>\n",
              "    </tr>\n",
              "    <tr>\n",
              "      <th>1848</th>\n",
              "      <td>Broome</td>\n",
              "      <td>New York</td>\n",
              "      <td>18616</td>\n",
              "      <td>18616.0</td>\n",
              "      <td>366.0</td>\n",
              "    </tr>\n",
              "    <tr>\n",
              "      <th>1849</th>\n",
              "      <td>Cattaraugus</td>\n",
              "      <td>New York</td>\n",
              "      <td>5720</td>\n",
              "      <td>5720.0</td>\n",
              "      <td>91.0</td>\n",
              "    </tr>\n",
              "    <tr>\n",
              "      <th>1850</th>\n",
              "      <td>Cayuga</td>\n",
              "      <td>New York</td>\n",
              "      <td>6337</td>\n",
              "      <td>6337.0</td>\n",
              "      <td>92.0</td>\n",
              "    </tr>\n",
              "  </tbody>\n",
              "</table>\n",
              "</div>"
            ],
            "text/plain": [
              "           county     state  cases  confirmed_cases  deaths\n",
              "1846       Albany  New York  24694          24694.0   356.0\n",
              "1847     Allegany  New York   3555           3555.0    87.0\n",
              "1848       Broome  New York  18616          18616.0   366.0\n",
              "1849  Cattaraugus  New York   5720           5720.0    91.0\n",
              "1850       Cayuga  New York   6337           6337.0    92.0"
            ]
          },
          "metadata": {
            "tags": []
          },
          "execution_count": 33
        }
      ]
    },
    {
      "cell_type": "markdown",
      "metadata": {
        "id": "gG7G3-hA7_wK"
      },
      "source": [
        "And we can use the `.head(n)` method to return `n` entries per group."
      ]
    },
    {
      "cell_type": "code",
      "metadata": {
        "colab": {
          "base_uri": "https://localhost:8080/",
          "height": 419
        },
        "id": "KSaWc8BX8ED0",
        "outputId": "f1039404-0bf2-4134-c81e-79f71e036d1e"
      },
      "source": [
        "group_by_state.head(3)"
      ],
      "execution_count": 34,
      "outputs": [
        {
          "output_type": "execute_result",
          "data": {
            "text/html": [
              "<div>\n",
              "<style scoped>\n",
              "    .dataframe tbody tr th:only-of-type {\n",
              "        vertical-align: middle;\n",
              "    }\n",
              "\n",
              "    .dataframe tbody tr th {\n",
              "        vertical-align: top;\n",
              "    }\n",
              "\n",
              "    .dataframe thead th {\n",
              "        text-align: right;\n",
              "    }\n",
              "</style>\n",
              "<table border=\"1\" class=\"dataframe\">\n",
              "  <thead>\n",
              "    <tr style=\"text-align: right;\">\n",
              "      <th></th>\n",
              "      <th>county</th>\n",
              "      <th>state</th>\n",
              "      <th>cases</th>\n",
              "      <th>confirmed_cases</th>\n",
              "      <th>deaths</th>\n",
              "    </tr>\n",
              "  </thead>\n",
              "  <tbody>\n",
              "    <tr>\n",
              "      <th>0</th>\n",
              "      <td>Autauga</td>\n",
              "      <td>Alabama</td>\n",
              "      <td>7215</td>\n",
              "      <td>6043.0</td>\n",
              "      <td>113.0</td>\n",
              "    </tr>\n",
              "    <tr>\n",
              "      <th>1</th>\n",
              "      <td>Baldwin</td>\n",
              "      <td>Alabama</td>\n",
              "      <td>21774</td>\n",
              "      <td>15308.0</td>\n",
              "      <td>313.0</td>\n",
              "    </tr>\n",
              "    <tr>\n",
              "      <th>2</th>\n",
              "      <td>Barbour</td>\n",
              "      <td>Alabama</td>\n",
              "      <td>2345</td>\n",
              "      <td>1314.0</td>\n",
              "      <td>59.0</td>\n",
              "    </tr>\n",
              "    <tr>\n",
              "      <th>67</th>\n",
              "      <td>Aleutians East Borough</td>\n",
              "      <td>Alaska</td>\n",
              "      <td>367</td>\n",
              "      <td>NaN</td>\n",
              "      <td>3.0</td>\n",
              "    </tr>\n",
              "    <tr>\n",
              "      <th>68</th>\n",
              "      <td>Aleutians West Census Area</td>\n",
              "      <td>Alaska</td>\n",
              "      <td>710</td>\n",
              "      <td>NaN</td>\n",
              "      <td>0.0</td>\n",
              "    </tr>\n",
              "    <tr>\n",
              "      <th>...</th>\n",
              "      <td>...</td>\n",
              "      <td>...</td>\n",
              "      <td>...</td>\n",
              "      <td>...</td>\n",
              "      <td>...</td>\n",
              "    </tr>\n",
              "    <tr>\n",
              "      <th>3153</th>\n",
              "      <td>Ashland</td>\n",
              "      <td>Wisconsin</td>\n",
              "      <td>1396</td>\n",
              "      <td>1287.0</td>\n",
              "      <td>15.0</td>\n",
              "    </tr>\n",
              "    <tr>\n",
              "      <th>3154</th>\n",
              "      <td>Barron</td>\n",
              "      <td>Wisconsin</td>\n",
              "      <td>6043</td>\n",
              "      <td>5882.0</td>\n",
              "      <td>84.0</td>\n",
              "    </tr>\n",
              "    <tr>\n",
              "      <th>3224</th>\n",
              "      <td>Albany</td>\n",
              "      <td>Wyoming</td>\n",
              "      <td>4564</td>\n",
              "      <td>4023.0</td>\n",
              "      <td>15.0</td>\n",
              "    </tr>\n",
              "    <tr>\n",
              "      <th>3225</th>\n",
              "      <td>Big Horn</td>\n",
              "      <td>Wyoming</td>\n",
              "      <td>1197</td>\n",
              "      <td>965.0</td>\n",
              "      <td>34.0</td>\n",
              "    </tr>\n",
              "    <tr>\n",
              "      <th>3226</th>\n",
              "      <td>Campbell</td>\n",
              "      <td>Wyoming</td>\n",
              "      <td>5125</td>\n",
              "      <td>4587.0</td>\n",
              "      <td>60.0</td>\n",
              "    </tr>\n",
              "  </tbody>\n",
              "</table>\n",
              "<p>160 rows × 5 columns</p>\n",
              "</div>"
            ],
            "text/plain": [
              "                          county      state  cases  confirmed_cases  deaths\n",
              "0                        Autauga    Alabama   7215           6043.0   113.0\n",
              "1                        Baldwin    Alabama  21774          15308.0   313.0\n",
              "2                        Barbour    Alabama   2345           1314.0    59.0\n",
              "67        Aleutians East Borough     Alaska    367              NaN     3.0\n",
              "68    Aleutians West Census Area     Alaska    710              NaN     0.0\n",
              "...                          ...        ...    ...              ...     ...\n",
              "3153                     Ashland  Wisconsin   1396           1287.0    15.0\n",
              "3154                      Barron  Wisconsin   6043           5882.0    84.0\n",
              "3224                      Albany    Wyoming   4564           4023.0    15.0\n",
              "3225                    Big Horn    Wyoming   1197            965.0    34.0\n",
              "3226                    Campbell    Wyoming   5125           4587.0    60.0\n",
              "\n",
              "[160 rows x 5 columns]"
            ]
          },
          "metadata": {
            "tags": []
          },
          "execution_count": 34
        }
      ]
    },
    {
      "cell_type": "markdown",
      "metadata": {
        "id": "hORXTeqkdN81"
      },
      "source": [
        "We can also use the `.sort_values()` method to re-order the rows according to one of our columns, let's do 'cases'."
      ]
    },
    {
      "cell_type": "code",
      "metadata": {
        "colab": {
          "base_uri": "https://localhost:8080/",
          "height": 204
        },
        "id": "-GPOrv7TdMi2",
        "outputId": "4dbc8ca6-ebc0-43e1-ecd9-68a2ad6d5462"
      },
      "source": [
        "group_by_state.get_group('New York').sort_values('cases', ascending=False).head()"
      ],
      "execution_count": 35,
      "outputs": [
        {
          "output_type": "execute_result",
          "data": {
            "text/html": [
              "<div>\n",
              "<style scoped>\n",
              "    .dataframe tbody tr th:only-of-type {\n",
              "        vertical-align: middle;\n",
              "    }\n",
              "\n",
              "    .dataframe tbody tr th {\n",
              "        vertical-align: top;\n",
              "    }\n",
              "\n",
              "    .dataframe thead th {\n",
              "        text-align: right;\n",
              "    }\n",
              "</style>\n",
              "<table border=\"1\" class=\"dataframe\">\n",
              "  <thead>\n",
              "    <tr style=\"text-align: right;\">\n",
              "      <th></th>\n",
              "      <th>county</th>\n",
              "      <th>state</th>\n",
              "      <th>cases</th>\n",
              "      <th>confirmed_cases</th>\n",
              "      <th>deaths</th>\n",
              "    </tr>\n",
              "  </thead>\n",
              "  <tbody>\n",
              "    <tr>\n",
              "      <th>1874</th>\n",
              "      <td>New York City</td>\n",
              "      <td>New York</td>\n",
              "      <td>952559</td>\n",
              "      <td>937240.0</td>\n",
              "      <td>33344.0</td>\n",
              "    </tr>\n",
              "    <tr>\n",
              "      <th>1893</th>\n",
              "      <td>Suffolk</td>\n",
              "      <td>New York</td>\n",
              "      <td>200989</td>\n",
              "      <td>200989.0</td>\n",
              "      <td>3400.0</td>\n",
              "    </tr>\n",
              "    <tr>\n",
              "      <th>1873</th>\n",
              "      <td>Nassau</td>\n",
              "      <td>New York</td>\n",
              "      <td>183601</td>\n",
              "      <td>183601.0</td>\n",
              "      <td>3174.0</td>\n",
              "    </tr>\n",
              "    <tr>\n",
              "      <th>1901</th>\n",
              "      <td>Westchester</td>\n",
              "      <td>New York</td>\n",
              "      <td>129644</td>\n",
              "      <td>129644.0</td>\n",
              "      <td>2289.0</td>\n",
              "    </tr>\n",
              "    <tr>\n",
              "      <th>1859</th>\n",
              "      <td>Erie</td>\n",
              "      <td>New York</td>\n",
              "      <td>89564</td>\n",
              "      <td>89564.0</td>\n",
              "      <td>1806.0</td>\n",
              "    </tr>\n",
              "  </tbody>\n",
              "</table>\n",
              "</div>"
            ],
            "text/plain": [
              "             county     state   cases  confirmed_cases   deaths\n",
              "1874  New York City  New York  952559         937240.0  33344.0\n",
              "1893        Suffolk  New York  200989         200989.0   3400.0\n",
              "1873         Nassau  New York  183601         183601.0   3174.0\n",
              "1901    Westchester  New York  129644         129644.0   2289.0\n",
              "1859           Erie  New York   89564          89564.0   1806.0"
            ]
          },
          "metadata": {
            "tags": []
          },
          "execution_count": 35
        }
      ]
    },
    {
      "cell_type": "markdown",
      "metadata": {
        "id": "sQBk_wj2_DP5"
      },
      "source": [
        "Apply summary operation to a groupby object. Applying the `.max()` will attempt to find the max value for each column.\n",
        "\n"
      ]
    },
    {
      "cell_type": "code",
      "metadata": {
        "colab": {
          "base_uri": "https://localhost:8080/",
          "height": 235
        },
        "id": "x06FGVWX_DP5",
        "outputId": "4bb1c98d-5265-4cba-ad44-37bed176e4ab"
      },
      "source": [
        "group_by_state.max().head()"
      ],
      "execution_count": 36,
      "outputs": [
        {
          "output_type": "execute_result",
          "data": {
            "text/html": [
              "<div>\n",
              "<style scoped>\n",
              "    .dataframe tbody tr th:only-of-type {\n",
              "        vertical-align: middle;\n",
              "    }\n",
              "\n",
              "    .dataframe tbody tr th {\n",
              "        vertical-align: top;\n",
              "    }\n",
              "\n",
              "    .dataframe thead th {\n",
              "        text-align: right;\n",
              "    }\n",
              "</style>\n",
              "<table border=\"1\" class=\"dataframe\">\n",
              "  <thead>\n",
              "    <tr style=\"text-align: right;\">\n",
              "      <th></th>\n",
              "      <th>county</th>\n",
              "      <th>cases</th>\n",
              "      <th>confirmed_cases</th>\n",
              "      <th>deaths</th>\n",
              "    </tr>\n",
              "    <tr>\n",
              "      <th>state</th>\n",
              "      <th></th>\n",
              "      <th></th>\n",
              "      <th></th>\n",
              "      <th></th>\n",
              "    </tr>\n",
              "  </thead>\n",
              "  <tbody>\n",
              "    <tr>\n",
              "      <th>Alabama</th>\n",
              "      <td>Winston</td>\n",
              "      <td>80802</td>\n",
              "      <td>70405.0</td>\n",
              "      <td>1563.0</td>\n",
              "    </tr>\n",
              "    <tr>\n",
              "      <th>Alaska</th>\n",
              "      <td>Yukon-Koyukuk Census Area</td>\n",
              "      <td>30685</td>\n",
              "      <td>NaN</td>\n",
              "      <td>174.0</td>\n",
              "    </tr>\n",
              "    <tr>\n",
              "      <th>Arizona</th>\n",
              "      <td>Yuma</td>\n",
              "      <td>554636</td>\n",
              "      <td>NaN</td>\n",
              "      <td>10157.0</td>\n",
              "    </tr>\n",
              "    <tr>\n",
              "      <th>Arkansas</th>\n",
              "      <td>Yell</td>\n",
              "      <td>40235</td>\n",
              "      <td>34449.0</td>\n",
              "      <td>669.0</td>\n",
              "    </tr>\n",
              "    <tr>\n",
              "      <th>California</th>\n",
              "      <td>Yuba</td>\n",
              "      <td>1246974</td>\n",
              "      <td>1246307.0</td>\n",
              "      <td>24434.0</td>\n",
              "    </tr>\n",
              "  </tbody>\n",
              "</table>\n",
              "</div>"
            ],
            "text/plain": [
              "                               county    cases  confirmed_cases   deaths\n",
              "state                                                                   \n",
              "Alabama                       Winston    80802          70405.0   1563.0\n",
              "Alaska      Yukon-Koyukuk Census Area    30685              NaN    174.0\n",
              "Arizona                          Yuma   554636              NaN  10157.0\n",
              "Arkansas                         Yell    40235          34449.0    669.0\n",
              "California                       Yuba  1246974        1246307.0  24434.0"
            ]
          },
          "metadata": {
            "tags": []
          },
          "execution_count": 36
        }
      ]
    },
    {
      "cell_type": "markdown",
      "metadata": {
        "id": "OpvIYDYHd675"
      },
      "source": [
        "Note, however, that entries for each row are now unliked, that is, Yuba county in California did not have 1245788 cases, simly that applying 'max' to the column 'county' returns the maximum value of the strings in that column (i.e. Yuba > San Francisco)."
      ]
    },
    {
      "cell_type": "markdown",
      "metadata": {
        "id": "mdienm3V_DP6"
      },
      "source": [
        "Finally, lets select the top two counties per state and plot the counts. To accomplish this, we will need a series of operations."
      ]
    },
    {
      "cell_type": "code",
      "metadata": {
        "colab": {
          "base_uri": "https://localhost:8080/",
          "height": 419
        },
        "id": "OOI4R8B3_DP6",
        "outputId": "1cf6ffb0-ae3d-4d79-a816-a5fce13e72f9"
      },
      "source": [
        "n_counties = 2\n",
        "top_counties_by_state = covid_live_counties_simple.sort_values(['cases'], ascending=[False]).groupby('state').head(n_counties)\n",
        "top_counties_by_state"
      ],
      "execution_count": 37,
      "outputs": [
        {
          "output_type": "execute_result",
          "data": {
            "text/html": [
              "<div>\n",
              "<style scoped>\n",
              "    .dataframe tbody tr th:only-of-type {\n",
              "        vertical-align: middle;\n",
              "    }\n",
              "\n",
              "    .dataframe tbody tr th {\n",
              "        vertical-align: top;\n",
              "    }\n",
              "\n",
              "    .dataframe thead th {\n",
              "        text-align: right;\n",
              "    }\n",
              "</style>\n",
              "<table border=\"1\" class=\"dataframe\">\n",
              "  <thead>\n",
              "    <tr style=\"text-align: right;\">\n",
              "      <th></th>\n",
              "      <th>county</th>\n",
              "      <th>state</th>\n",
              "      <th>cases</th>\n",
              "      <th>confirmed_cases</th>\n",
              "      <th>deaths</th>\n",
              "    </tr>\n",
              "  </thead>\n",
              "  <tbody>\n",
              "    <tr>\n",
              "      <th>204</th>\n",
              "      <td>Los Angeles</td>\n",
              "      <td>California</td>\n",
              "      <td>1246974</td>\n",
              "      <td>1246307.0</td>\n",
              "      <td>24434.0</td>\n",
              "    </tr>\n",
              "    <tr>\n",
              "      <th>1874</th>\n",
              "      <td>New York City</td>\n",
              "      <td>New York</td>\n",
              "      <td>952559</td>\n",
              "      <td>937240.0</td>\n",
              "      <td>33344.0</td>\n",
              "    </tr>\n",
              "    <tr>\n",
              "      <th>615</th>\n",
              "      <td>Cook</td>\n",
              "      <td>Illinois</td>\n",
              "      <td>555850</td>\n",
              "      <td>NaN</td>\n",
              "      <td>10978.0</td>\n",
              "    </tr>\n",
              "    <tr>\n",
              "      <th>102</th>\n",
              "      <td>Maricopa</td>\n",
              "      <td>Arizona</td>\n",
              "      <td>554636</td>\n",
              "      <td>NaN</td>\n",
              "      <td>10157.0</td>\n",
              "    </tr>\n",
              "    <tr>\n",
              "      <th>364</th>\n",
              "      <td>Miami-Dade</td>\n",
              "      <td>Florida</td>\n",
              "      <td>497726</td>\n",
              "      <td>NaN</td>\n",
              "      <td>6472.0</td>\n",
              "    </tr>\n",
              "    <tr>\n",
              "      <th>...</th>\n",
              "      <td>...</td>\n",
              "      <td>...</td>\n",
              "      <td>...</td>\n",
              "      <td>...</td>\n",
              "      <td>...</td>\n",
              "    </tr>\n",
              "    <tr>\n",
              "      <th>2917</th>\n",
              "      <td>Rutland</td>\n",
              "      <td>Vermont</td>\n",
              "      <td>2280</td>\n",
              "      <td>NaN</td>\n",
              "      <td>20.0</td>\n",
              "    </tr>\n",
              "    <tr>\n",
              "      <th>3057</th>\n",
              "      <td>St. Thomas</td>\n",
              "      <td>Virgin Islands</td>\n",
              "      <td>2025</td>\n",
              "      <td>2025.0</td>\n",
              "      <td>17.0</td>\n",
              "    </tr>\n",
              "    <tr>\n",
              "      <th>3055</th>\n",
              "      <td>St. Croix</td>\n",
              "      <td>Virgin Islands</td>\n",
              "      <td>1418</td>\n",
              "      <td>1418.0</td>\n",
              "      <td>10.0</td>\n",
              "    </tr>\n",
              "    <tr>\n",
              "      <th>2058</th>\n",
              "      <td>Saipan</td>\n",
              "      <td>Northern Mariana Islands</td>\n",
              "      <td>181</td>\n",
              "      <td>181.0</td>\n",
              "      <td>2.0</td>\n",
              "    </tr>\n",
              "    <tr>\n",
              "      <th>2059</th>\n",
              "      <td>Tinian</td>\n",
              "      <td>Northern Mariana Islands</td>\n",
              "      <td>2</td>\n",
              "      <td>2.0</td>\n",
              "      <td>0.0</td>\n",
              "    </tr>\n",
              "  </tbody>\n",
              "</table>\n",
              "<p>108 rows × 5 columns</p>\n",
              "</div>"
            ],
            "text/plain": [
              "             county                     state  ...  confirmed_cases   deaths\n",
              "204     Los Angeles                California  ...        1246307.0  24434.0\n",
              "1874  New York City                  New York  ...         937240.0  33344.0\n",
              "615            Cook                  Illinois  ...              NaN  10978.0\n",
              "102        Maricopa                   Arizona  ...              NaN  10157.0\n",
              "364      Miami-Dade                   Florida  ...              NaN   6472.0\n",
              "...             ...                       ...  ...              ...      ...\n",
              "2917        Rutland                   Vermont  ...              NaN     20.0\n",
              "3057     St. Thomas            Virgin Islands  ...           2025.0     17.0\n",
              "3055      St. Croix            Virgin Islands  ...           1418.0     10.0\n",
              "2058         Saipan  Northern Mariana Islands  ...            181.0      2.0\n",
              "2059         Tinian  Northern Mariana Islands  ...              2.0      0.0\n",
              "\n",
              "[108 rows x 5 columns]"
            ]
          },
          "metadata": {
            "tags": []
          },
          "execution_count": 37
        }
      ]
    },
    {
      "cell_type": "code",
      "metadata": {
        "colab": {
          "base_uri": "https://localhost:8080/",
          "height": 300
        },
        "id": "hG4OhfRzNd-6",
        "outputId": "a221d8b4-9a9e-442f-8730-73fb0975871d"
      },
      "source": [
        "top_counties_by_state.plot.scatter(x='cases',y='deaths')"
      ],
      "execution_count": 38,
      "outputs": [
        {
          "output_type": "execute_result",
          "data": {
            "text/plain": [
              "<matplotlib.axes._subplots.AxesSubplot at 0x7f0bd34eca10>"
            ]
          },
          "metadata": {
            "tags": []
          },
          "execution_count": 38
        },
        {
          "output_type": "display_data",
          "data": {
            "image/png": "[encoded data removed]",
            "text/plain": [
              "<Figure size 432x288 with 1 Axes>"
            ]
          },
          "metadata": {
            "tags": [],
            "needs_background": "light"
          }
        }
      ]
    },
    {
      "cell_type": "markdown",
      "metadata": {
        "id": "lfLLmcdoPKKM"
      },
      "source": [
        "## Lets directly compute the Case-Fatality Rate by state"
      ]
    },
    {
      "cell_type": "code",
      "metadata": {
        "colab": {
          "base_uri": "https://localhost:8080/",
          "height": 412
        },
        "id": "qrOqcCyc_DP7",
        "outputId": "c0d03a9b-77a3-4e58-ee2d-720642340a94"
      },
      "source": [
        "totals_by_state = group_by_state.sum()\n",
        "cfr = totals_by_state.deaths/totals_by_state.cases\n",
        "cfr.plot.bar()"
      ],
      "execution_count": 40,
      "outputs": [
        {
          "output_type": "execute_result",
          "data": {
            "text/plain": [
              "<matplotlib.axes._subplots.AxesSubplot at 0x7f0bd349ddd0>"
            ]
          },
          "metadata": {
            "tags": []
          },
          "execution_count": 40
        },
        {
          "output_type": "display_data",
          "data": {
            "image/png": "[encoded data removed]",
            "text/plain": [
              "<Figure size 432x288 with 1 Axes>"
            ]
          },
          "metadata": {
            "tags": [],
            "needs_background": "light"
          }
        }
      ]
    },
    {
      "cell_type": "markdown",
      "metadata": {
        "id": "1Ff30wnE_DP7"
      },
      "source": [
        "# Other examples / exercises"
      ]
    },
    {
      "cell_type": "markdown",
      "metadata": {
        "id": "-elxg8yn_DP8"
      },
      "source": [
        "Time evolution in California"
      ]
    },
    {
      "cell_type": "code",
      "metadata": {
        "collapsed": true,
        "id": "7JQVjTHM_DP8",
        "jupyter": {
          "outputs_hidden": true
        }
      },
      "source": [
        "covid_history=pd.read_csv('https://raw.githubusercontent.com/nytimes/covid-19-data/master/us-states.csv')"
      ],
      "execution_count": 41,
      "outputs": []
    },
    {
      "cell_type": "code",
      "metadata": {
        "colab": {
          "base_uri": "https://localhost:8080/",
          "height": 204
        },
        "id": "UvxnyLnH_DP8",
        "outputId": "8441e1fb-d313-4bd4-e111-b06a8f16c614"
      },
      "source": [
        "covid_history.head()"
      ],
      "execution_count": 42,
      "outputs": [
        {
          "output_type": "execute_result",
          "data": {
            "text/html": [
              "<div>\n",
              "<style scoped>\n",
              "    .dataframe tbody tr th:only-of-type {\n",
              "        vertical-align: middle;\n",
              "    }\n",
              "\n",
              "    .dataframe tbody tr th {\n",
              "        vertical-align: top;\n",
              "    }\n",
              "\n",
              "    .dataframe thead th {\n",
              "        text-align: right;\n",
              "    }\n",
              "</style>\n",
              "<table border=\"1\" class=\"dataframe\">\n",
              "  <thead>\n",
              "    <tr style=\"text-align: right;\">\n",
              "      <th></th>\n",
              "      <th>date</th>\n",
              "      <th>state</th>\n",
              "      <th>fips</th>\n",
              "      <th>cases</th>\n",
              "      <th>deaths</th>\n",
              "    </tr>\n",
              "  </thead>\n",
              "  <tbody>\n",
              "    <tr>\n",
              "      <th>0</th>\n",
              "      <td>2020-01-21</td>\n",
              "      <td>Washington</td>\n",
              "      <td>53</td>\n",
              "      <td>1</td>\n",
              "      <td>0</td>\n",
              "    </tr>\n",
              "    <tr>\n",
              "      <th>1</th>\n",
              "      <td>2020-01-22</td>\n",
              "      <td>Washington</td>\n",
              "      <td>53</td>\n",
              "      <td>1</td>\n",
              "      <td>0</td>\n",
              "    </tr>\n",
              "    <tr>\n",
              "      <th>2</th>\n",
              "      <td>2020-01-23</td>\n",
              "      <td>Washington</td>\n",
              "      <td>53</td>\n",
              "      <td>1</td>\n",
              "      <td>0</td>\n",
              "    </tr>\n",
              "    <tr>\n",
              "      <th>3</th>\n",
              "      <td>2020-01-24</td>\n",
              "      <td>Illinois</td>\n",
              "      <td>17</td>\n",
              "      <td>1</td>\n",
              "      <td>0</td>\n",
              "    </tr>\n",
              "    <tr>\n",
              "      <th>4</th>\n",
              "      <td>2020-01-24</td>\n",
              "      <td>Washington</td>\n",
              "      <td>53</td>\n",
              "      <td>1</td>\n",
              "      <td>0</td>\n",
              "    </tr>\n",
              "  </tbody>\n",
              "</table>\n",
              "</div>"
            ],
            "text/plain": [
              "         date       state  fips  cases  deaths\n",
              "0  2020-01-21  Washington    53      1       0\n",
              "1  2020-01-22  Washington    53      1       0\n",
              "2  2020-01-23  Washington    53      1       0\n",
              "3  2020-01-24    Illinois    17      1       0\n",
              "4  2020-01-24  Washington    53      1       0"
            ]
          },
          "metadata": {
            "tags": []
          },
          "execution_count": 42
        }
      ]
    },
    {
      "cell_type": "markdown",
      "metadata": {
        "id": "vz0iHfKP_DP9"
      },
      "source": [
        "Data types?"
      ]
    },
    {
      "cell_type": "code",
      "metadata": {
        "colab": {
          "base_uri": "https://localhost:8080/"
        },
        "id": "rBpeW73p_DP9",
        "outputId": "f5329283-598d-47d7-a695-7cb959a3b74e"
      },
      "source": [
        "covid_history.dtypes"
      ],
      "execution_count": 43,
      "outputs": [
        {
          "output_type": "execute_result",
          "data": {
            "text/plain": [
              "date      object\n",
              "state     object\n",
              "fips       int64\n",
              "cases      int64\n",
              "deaths     int64\n",
              "dtype: object"
            ]
          },
          "metadata": {
            "tags": []
          },
          "execution_count": 43
        }
      ]
    },
    {
      "cell_type": "markdown",
      "metadata": {
        "id": "EALTWEIi_DP9"
      },
      "source": [
        "We want the date to be represented as a date, not a string"
      ]
    },
    {
      "cell_type": "code",
      "metadata": {
        "colab": {
          "base_uri": "https://localhost:8080/"
        },
        "id": "NFgi3Jng_DP-",
        "outputId": "1478a26e-8b0a-499c-cb2b-e6450b0a4fd7"
      },
      "source": [
        "pd.to_datetime(covid_history['date'], infer_datetime_format=True)\n"
      ],
      "execution_count": 44,
      "outputs": [
        {
          "output_type": "execute_result",
          "data": {
            "text/plain": [
              "0       2020-01-21\n",
              "1       2020-01-22\n",
              "2       2020-01-23\n",
              "3       2020-01-24\n",
              "4       2020-01-24\n",
              "           ...    \n",
              "25749   2021-06-13\n",
              "25750   2021-06-13\n",
              "25751   2021-06-13\n",
              "25752   2021-06-13\n",
              "25753   2021-06-13\n",
              "Name: date, Length: 25754, dtype: datetime64[ns]"
            ]
          },
          "metadata": {
            "tags": []
          },
          "execution_count": 44
        }
      ]
    },
    {
      "cell_type": "code",
      "metadata": {
        "id": "IirAHVbh_DP-"
      },
      "source": [
        "covid_history['date']=pd.to_datetime(covid_history['date'], infer_datetime_format=True)"
      ],
      "execution_count": 45,
      "outputs": []
    },
    {
      "cell_type": "code",
      "metadata": {
        "colab": {
          "base_uri": "https://localhost:8080/"
        },
        "id": "UtyizI1q_DP-",
        "outputId": "541be2e2-c929-4668-8c26-de01fd47f2b5"
      },
      "source": [
        "covid_history.dtypes"
      ],
      "execution_count": 46,
      "outputs": [
        {
          "output_type": "execute_result",
          "data": {
            "text/plain": [
              "date      datetime64[ns]\n",
              "state             object\n",
              "fips               int64\n",
              "cases              int64\n",
              "deaths             int64\n",
              "dtype: object"
            ]
          },
          "metadata": {
            "tags": []
          },
          "execution_count": 46
        }
      ]
    },
    {
      "cell_type": "markdown",
      "metadata": {
        "id": "0HP0q3g8_DP_"
      },
      "source": [
        "## Changing index"
      ]
    },
    {
      "cell_type": "code",
      "metadata": {
        "id": "fuh4EBQb_DP_"
      },
      "source": [
        "covid_history_ca = covid_history.loc[covid_history['state']=='California']"
      ],
      "execution_count": 47,
      "outputs": []
    },
    {
      "cell_type": "code",
      "metadata": {
        "colab": {
          "base_uri": "https://localhost:8080/",
          "height": 419
        },
        "id": "8i9V5c2v_DP_",
        "outputId": "e7be8917-801a-4933-f6c3-005121be84ee"
      },
      "source": [
        "covid_history_ca"
      ],
      "execution_count": 48,
      "outputs": [
        {
          "output_type": "execute_result",
          "data": {
            "text/html": [
              "<div>\n",
              "<style scoped>\n",
              "    .dataframe tbody tr th:only-of-type {\n",
              "        vertical-align: middle;\n",
              "    }\n",
              "\n",
              "    .dataframe tbody tr th {\n",
              "        vertical-align: top;\n",
              "    }\n",
              "\n",
              "    .dataframe thead th {\n",
              "        text-align: right;\n",
              "    }\n",
              "</style>\n",
              "<table border=\"1\" class=\"dataframe\">\n",
              "  <thead>\n",
              "    <tr style=\"text-align: right;\">\n",
              "      <th></th>\n",
              "      <th>date</th>\n",
              "      <th>state</th>\n",
              "      <th>fips</th>\n",
              "      <th>cases</th>\n",
              "      <th>deaths</th>\n",
              "    </tr>\n",
              "  </thead>\n",
              "  <tbody>\n",
              "    <tr>\n",
              "      <th>5</th>\n",
              "      <td>2020-01-25</td>\n",
              "      <td>California</td>\n",
              "      <td>6</td>\n",
              "      <td>1</td>\n",
              "      <td>0</td>\n",
              "    </tr>\n",
              "    <tr>\n",
              "      <th>9</th>\n",
              "      <td>2020-01-26</td>\n",
              "      <td>California</td>\n",
              "      <td>6</td>\n",
              "      <td>2</td>\n",
              "      <td>0</td>\n",
              "    </tr>\n",
              "    <tr>\n",
              "      <th>13</th>\n",
              "      <td>2020-01-27</td>\n",
              "      <td>California</td>\n",
              "      <td>6</td>\n",
              "      <td>2</td>\n",
              "      <td>0</td>\n",
              "    </tr>\n",
              "    <tr>\n",
              "      <th>17</th>\n",
              "      <td>2020-01-28</td>\n",
              "      <td>California</td>\n",
              "      <td>6</td>\n",
              "      <td>2</td>\n",
              "      <td>0</td>\n",
              "    </tr>\n",
              "    <tr>\n",
              "      <th>21</th>\n",
              "      <td>2020-01-29</td>\n",
              "      <td>California</td>\n",
              "      <td>6</td>\n",
              "      <td>2</td>\n",
              "      <td>0</td>\n",
              "    </tr>\n",
              "    <tr>\n",
              "      <th>...</th>\n",
              "      <td>...</td>\n",
              "      <td>...</td>\n",
              "      <td>...</td>\n",
              "      <td>...</td>\n",
              "      <td>...</td>\n",
              "    </tr>\n",
              "    <tr>\n",
              "      <th>25483</th>\n",
              "      <td>2021-06-09</td>\n",
              "      <td>California</td>\n",
              "      <td>6</td>\n",
              "      <td>3799010</td>\n",
              "      <td>63611</td>\n",
              "    </tr>\n",
              "    <tr>\n",
              "      <th>25538</th>\n",
              "      <td>2021-06-10</td>\n",
              "      <td>California</td>\n",
              "      <td>6</td>\n",
              "      <td>3800049</td>\n",
              "      <td>63647</td>\n",
              "    </tr>\n",
              "    <tr>\n",
              "      <th>25593</th>\n",
              "      <td>2021-06-11</td>\n",
              "      <td>California</td>\n",
              "      <td>6</td>\n",
              "      <td>3801031</td>\n",
              "      <td>63684</td>\n",
              "    </tr>\n",
              "    <tr>\n",
              "      <th>25648</th>\n",
              "      <td>2021-06-12</td>\n",
              "      <td>California</td>\n",
              "      <td>6</td>\n",
              "      <td>3801639</td>\n",
              "      <td>63576</td>\n",
              "    </tr>\n",
              "    <tr>\n",
              "      <th>25703</th>\n",
              "      <td>2021-06-13</td>\n",
              "      <td>California</td>\n",
              "      <td>6</td>\n",
              "      <td>3802217</td>\n",
              "      <td>63584</td>\n",
              "    </tr>\n",
              "  </tbody>\n",
              "</table>\n",
              "<p>506 rows × 5 columns</p>\n",
              "</div>"
            ],
            "text/plain": [
              "            date       state  fips    cases  deaths\n",
              "5     2020-01-25  California     6        1       0\n",
              "9     2020-01-26  California     6        2       0\n",
              "13    2020-01-27  California     6        2       0\n",
              "17    2020-01-28  California     6        2       0\n",
              "21    2020-01-29  California     6        2       0\n",
              "...          ...         ...   ...      ...     ...\n",
              "25483 2021-06-09  California     6  3799010   63611\n",
              "25538 2021-06-10  California     6  3800049   63647\n",
              "25593 2021-06-11  California     6  3801031   63684\n",
              "25648 2021-06-12  California     6  3801639   63576\n",
              "25703 2021-06-13  California     6  3802217   63584\n",
              "\n",
              "[506 rows x 5 columns]"
            ]
          },
          "metadata": {
            "tags": []
          },
          "execution_count": 48
        }
      ]
    },
    {
      "cell_type": "markdown",
      "metadata": {
        "id": "HL-PHIk2_DP_"
      },
      "source": [
        "Remove the state column"
      ]
    },
    {
      "cell_type": "code",
      "metadata": {
        "id": "PUSp7izK_DP_"
      },
      "source": [
        "covid_history_ca=covid_history_ca.drop('state', axis=1)"
      ],
      "execution_count": 49,
      "outputs": []
    },
    {
      "cell_type": "code",
      "metadata": {
        "colab": {
          "base_uri": "https://localhost:8080/",
          "height": 204
        },
        "id": "Q-jjO7uH_DQA",
        "outputId": "ecdb7f61-8b13-41da-caf5-512c1359748f"
      },
      "source": [
        "covid_history_ca.head()"
      ],
      "execution_count": 50,
      "outputs": [
        {
          "output_type": "execute_result",
          "data": {
            "text/html": [
              "<div>\n",
              "<style scoped>\n",
              "    .dataframe tbody tr th:only-of-type {\n",
              "        vertical-align: middle;\n",
              "    }\n",
              "\n",
              "    .dataframe tbody tr th {\n",
              "        vertical-align: top;\n",
              "    }\n",
              "\n",
              "    .dataframe thead th {\n",
              "        text-align: right;\n",
              "    }\n",
              "</style>\n",
              "<table border=\"1\" class=\"dataframe\">\n",
              "  <thead>\n",
              "    <tr style=\"text-align: right;\">\n",
              "      <th></th>\n",
              "      <th>date</th>\n",
              "      <th>fips</th>\n",
              "      <th>cases</th>\n",
              "      <th>deaths</th>\n",
              "    </tr>\n",
              "  </thead>\n",
              "  <tbody>\n",
              "    <tr>\n",
              "      <th>5</th>\n",
              "      <td>2020-01-25</td>\n",
              "      <td>6</td>\n",
              "      <td>1</td>\n",
              "      <td>0</td>\n",
              "    </tr>\n",
              "    <tr>\n",
              "      <th>9</th>\n",
              "      <td>2020-01-26</td>\n",
              "      <td>6</td>\n",
              "      <td>2</td>\n",
              "      <td>0</td>\n",
              "    </tr>\n",
              "    <tr>\n",
              "      <th>13</th>\n",
              "      <td>2020-01-27</td>\n",
              "      <td>6</td>\n",
              "      <td>2</td>\n",
              "      <td>0</td>\n",
              "    </tr>\n",
              "    <tr>\n",
              "      <th>17</th>\n",
              "      <td>2020-01-28</td>\n",
              "      <td>6</td>\n",
              "      <td>2</td>\n",
              "      <td>0</td>\n",
              "    </tr>\n",
              "    <tr>\n",
              "      <th>21</th>\n",
              "      <td>2020-01-29</td>\n",
              "      <td>6</td>\n",
              "      <td>2</td>\n",
              "      <td>0</td>\n",
              "    </tr>\n",
              "  </tbody>\n",
              "</table>\n",
              "</div>"
            ],
            "text/plain": [
              "         date  fips  cases  deaths\n",
              "5  2020-01-25     6      1       0\n",
              "9  2020-01-26     6      2       0\n",
              "13 2020-01-27     6      2       0\n",
              "17 2020-01-28     6      2       0\n",
              "21 2020-01-29     6      2       0"
            ]
          },
          "metadata": {
            "tags": []
          },
          "execution_count": 50
        }
      ]
    },
    {
      "cell_type": "markdown",
      "metadata": {
        "id": "0325SJmg_DQA"
      },
      "source": [
        "Change the index to date"
      ]
    },
    {
      "cell_type": "code",
      "metadata": {
        "colab": {
          "base_uri": "https://localhost:8080/",
          "height": 235
        },
        "id": "hVZYsuiL_DQA",
        "outputId": "6fa060ec-219b-4aa2-d573-9db78233f7a0"
      },
      "source": [
        "covid_history_ca = covid_history_ca.set_index('date')\n",
        "covid_history_ca.head()"
      ],
      "execution_count": 51,
      "outputs": [
        {
          "output_type": "execute_result",
          "data": {
            "text/html": [
              "<div>\n",
              "<style scoped>\n",
              "    .dataframe tbody tr th:only-of-type {\n",
              "        vertical-align: middle;\n",
              "    }\n",
              "\n",
              "    .dataframe tbody tr th {\n",
              "        vertical-align: top;\n",
              "    }\n",
              "\n",
              "    .dataframe thead th {\n",
              "        text-align: right;\n",
              "    }\n",
              "</style>\n",
              "<table border=\"1\" class=\"dataframe\">\n",
              "  <thead>\n",
              "    <tr style=\"text-align: right;\">\n",
              "      <th></th>\n",
              "      <th>fips</th>\n",
              "      <th>cases</th>\n",
              "      <th>deaths</th>\n",
              "    </tr>\n",
              "    <tr>\n",
              "      <th>date</th>\n",
              "      <th></th>\n",
              "      <th></th>\n",
              "      <th></th>\n",
              "    </tr>\n",
              "  </thead>\n",
              "  <tbody>\n",
              "    <tr>\n",
              "      <th>2020-01-25</th>\n",
              "      <td>6</td>\n",
              "      <td>1</td>\n",
              "      <td>0</td>\n",
              "    </tr>\n",
              "    <tr>\n",
              "      <th>2020-01-26</th>\n",
              "      <td>6</td>\n",
              "      <td>2</td>\n",
              "      <td>0</td>\n",
              "    </tr>\n",
              "    <tr>\n",
              "      <th>2020-01-27</th>\n",
              "      <td>6</td>\n",
              "      <td>2</td>\n",
              "      <td>0</td>\n",
              "    </tr>\n",
              "    <tr>\n",
              "      <th>2020-01-28</th>\n",
              "      <td>6</td>\n",
              "      <td>2</td>\n",
              "      <td>0</td>\n",
              "    </tr>\n",
              "    <tr>\n",
              "      <th>2020-01-29</th>\n",
              "      <td>6</td>\n",
              "      <td>2</td>\n",
              "      <td>0</td>\n",
              "    </tr>\n",
              "  </tbody>\n",
              "</table>\n",
              "</div>"
            ],
            "text/plain": [
              "            fips  cases  deaths\n",
              "date                           \n",
              "2020-01-25     6      1       0\n",
              "2020-01-26     6      2       0\n",
              "2020-01-27     6      2       0\n",
              "2020-01-28     6      2       0\n",
              "2020-01-29     6      2       0"
            ]
          },
          "metadata": {
            "tags": []
          },
          "execution_count": 51
        }
      ]
    },
    {
      "cell_type": "code",
      "metadata": {
        "collapsed": true,
        "id": "6X4_XS5h_DQA",
        "jupyter": {
          "outputs_hidden": true
        }
      },
      "source": [
        "\n",
        "#import matplotlib as mp"
      ],
      "execution_count": 52,
      "outputs": []
    },
    {
      "cell_type": "markdown",
      "metadata": {
        "id": "wgNHASBy_DQA"
      },
      "source": [
        "Plot time evolution"
      ]
    },
    {
      "cell_type": "code",
      "metadata": {
        "collapsed": true,
        "id": "JwKgQkW1_DQA",
        "jupyter": {
          "outputs_hidden": true
        }
      },
      "source": [
        "%matplotlib inline"
      ],
      "execution_count": 53,
      "outputs": []
    },
    {
      "cell_type": "code",
      "metadata": {
        "colab": {
          "base_uri": "https://localhost:8080/",
          "height": 341
        },
        "id": "0XYD-vh2_DQB",
        "outputId": "dbe7e3c4-ef37-415e-eb6e-a9e5a0248880"
      },
      "source": [
        "covid_history_ca.reset_index().plot.line(x='date',y=['cases','deaths'], subplots=True)"
      ],
      "execution_count": 54,
      "outputs": [
        {
          "output_type": "execute_result",
          "data": {
            "text/plain": [
              "array([<matplotlib.axes._subplots.AxesSubplot object at 0x7f0bd23e9e90>,\n",
              "       <matplotlib.axes._subplots.AxesSubplot object at 0x7f0bd23bb990>],\n",
              "      dtype=object)"
            ]
          },
          "metadata": {
            "tags": []
          },
          "execution_count": 54
        },
        {
          "output_type": "display_data",
          "data": {
            "image/png": "[encoded data removed]",
            "text/plain": [
              "<Figure size 432x288 with 2 Axes>"
            ]
          },
          "metadata": {
            "tags": [],
            "needs_background": "light"
          }
        }
      ]
    },
    {
      "cell_type": "markdown",
      "metadata": {
        "id": "tcO_mqlu_DQB"
      },
      "source": [
        "## Adding column to dataframe"
      ]
    },
    {
      "cell_type": "code",
      "metadata": {
        "collapsed": true,
        "id": "9Z3-BXQM_DQB",
        "jupyter": {
          "outputs_hidden": true
        }
      },
      "source": [
        "x= covid_history_ca['deaths']/covid_history_ca['cases']*100"
      ],
      "execution_count": 55,
      "outputs": []
    },
    {
      "cell_type": "code",
      "metadata": {
        "colab": {
          "base_uri": "https://localhost:8080/",
          "height": 308
        },
        "id": "bkdtHlVA_DQB",
        "outputId": "cbda8c95-a42c-4484-8658-0c2051e4fa89"
      },
      "source": [
        "ax=x.plot.line()\n",
        "ax.set_ylabel('Deaths per 100 cases')"
      ],
      "execution_count": 56,
      "outputs": [
        {
          "output_type": "execute_result",
          "data": {
            "text/plain": [
              "Text(0, 0.5, 'Deaths per 100 cases')"
            ]
          },
          "metadata": {
            "tags": []
          },
          "execution_count": 56
        },
        {
          "output_type": "display_data",
          "data": {
            "image/png": "[encoded data removed]",
            "text/plain": [
              "<Figure size 432x288 with 1 Axes>"
            ]
          },
          "metadata": {
            "tags": [],
            "needs_background": "light"
          }
        }
      ]
    },
    {
      "cell_type": "code",
      "metadata": {
        "id": "tB-LNPcx_DQB"
      },
      "source": [
        "covid_history_ca['percent_death']=x"
      ],
      "execution_count": 57,
      "outputs": []
    },
    {
      "cell_type": "code",
      "metadata": {
        "colab": {
          "base_uri": "https://localhost:8080/",
          "height": 235
        },
        "id": "XQZYdERV_DQB",
        "outputId": "11971645-7767-422b-ac7d-7fa85d37b0a8"
      },
      "source": [
        "covid_history_ca.head()"
      ],
      "execution_count": 58,
      "outputs": [
        {
          "output_type": "execute_result",
          "data": {
            "text/html": [
              "<div>\n",
              "<style scoped>\n",
              "    .dataframe tbody tr th:only-of-type {\n",
              "        vertical-align: middle;\n",
              "    }\n",
              "\n",
              "    .dataframe tbody tr th {\n",
              "        vertical-align: top;\n",
              "    }\n",
              "\n",
              "    .dataframe thead th {\n",
              "        text-align: right;\n",
              "    }\n",
              "</style>\n",
              "<table border=\"1\" class=\"dataframe\">\n",
              "  <thead>\n",
              "    <tr style=\"text-align: right;\">\n",
              "      <th></th>\n",
              "      <th>fips</th>\n",
              "      <th>cases</th>\n",
              "      <th>deaths</th>\n",
              "      <th>percent_death</th>\n",
              "    </tr>\n",
              "    <tr>\n",
              "      <th>date</th>\n",
              "      <th></th>\n",
              "      <th></th>\n",
              "      <th></th>\n",
              "      <th></th>\n",
              "    </tr>\n",
              "  </thead>\n",
              "  <tbody>\n",
              "    <tr>\n",
              "      <th>2020-01-25</th>\n",
              "      <td>6</td>\n",
              "      <td>1</td>\n",
              "      <td>0</td>\n",
              "      <td>0.0</td>\n",
              "    </tr>\n",
              "    <tr>\n",
              "      <th>2020-01-26</th>\n",
              "      <td>6</td>\n",
              "      <td>2</td>\n",
              "      <td>0</td>\n",
              "      <td>0.0</td>\n",
              "    </tr>\n",
              "    <tr>\n",
              "      <th>2020-01-27</th>\n",
              "      <td>6</td>\n",
              "      <td>2</td>\n",
              "      <td>0</td>\n",
              "      <td>0.0</td>\n",
              "    </tr>\n",
              "    <tr>\n",
              "      <th>2020-01-28</th>\n",
              "      <td>6</td>\n",
              "      <td>2</td>\n",
              "      <td>0</td>\n",
              "      <td>0.0</td>\n",
              "    </tr>\n",
              "    <tr>\n",
              "      <th>2020-01-29</th>\n",
              "      <td>6</td>\n",
              "      <td>2</td>\n",
              "      <td>0</td>\n",
              "      <td>0.0</td>\n",
              "    </tr>\n",
              "  </tbody>\n",
              "</table>\n",
              "</div>"
            ],
            "text/plain": [
              "            fips  cases  deaths  percent_death\n",
              "date                                          \n",
              "2020-01-25     6      1       0            0.0\n",
              "2020-01-26     6      2       0            0.0\n",
              "2020-01-27     6      2       0            0.0\n",
              "2020-01-28     6      2       0            0.0\n",
              "2020-01-29     6      2       0            0.0"
            ]
          },
          "metadata": {
            "tags": []
          },
          "execution_count": 58
        }
      ]
    },
    {
      "cell_type": "code",
      "metadata": {
        "collapsed": true,
        "id": "vAZhuwP4_DQB",
        "jupyter": {
          "outputs_hidden": true
        }
      },
      "source": [
        ""
      ],
      "execution_count": 58,
      "outputs": []
    },
    {
      "cell_type": "markdown",
      "metadata": {
        "id": "a453xltCmTmS"
      },
      "source": [
        "## Session 2: More Plotting"
      ]
    },
    {
      "cell_type": "code",
      "metadata": {
        "colab": {
          "base_uri": "https://localhost:8080/",
          "height": 328
        },
        "id": "7d7tfxe8mTmS",
        "outputId": "cd0c3f98-fab3-4883-8d12-b5d7ad957b90"
      },
      "source": [
        "# Too many counties have 0 cases!\n",
        "covid_live_counties.hist(column='cases')\n"
      ],
      "execution_count": 63,
      "outputs": [
        {
          "output_type": "execute_result",
          "data": {
            "text/plain": [
              "array([[<matplotlib.axes._subplots.AxesSubplot object at 0x7f0bd1974990>]],\n",
              "      dtype=object)"
            ]
          },
          "metadata": {
            "tags": []
          },
          "execution_count": 63
        },
        {
          "output_type": "display_data",
          "data": {
            "image/png": "[encoded data removed]",
            "text/plain": [
              "<Figure size 432x288 with 1 Axes>"
            ]
          },
          "metadata": {
            "tags": [],
            "needs_background": "light"
          }
        }
      ]
    },
    {
      "cell_type": "code",
      "metadata": {
        "colab": {
          "base_uri": "https://localhost:8080/",
          "height": 328
        },
        "id": "lqDbI9UJmTmT",
        "outputId": "b28b0f49-4b2a-47e0-80d3-be5f495575a4"
      },
      "source": [
        "# SElect top 50 counties\n",
        "covid_live_counties_top50=covid_live_counties.sort_values('cases', ascending=False).head(50)\n",
        "covid_live_counties_top50.hist(column='cases')"
      ],
      "execution_count": 64,
      "outputs": [
        {
          "output_type": "execute_result",
          "data": {
            "text/plain": [
              "array([[<matplotlib.axes._subplots.AxesSubplot object at 0x7f0bd1d170d0>]],\n",
              "      dtype=object)"
            ]
          },
          "metadata": {
            "tags": []
          },
          "execution_count": 64
        },
        {
          "output_type": "display_data",
          "data": {
            "image/png": "[encoded data removed]",
            "text/plain": [
              "<Figure size 432x288 with 1 Axes>"
            ]
          },
          "metadata": {
            "tags": [],
            "needs_background": "light"
          }
        }
      ]
    },
    {
      "cell_type": "code",
      "metadata": {
        "colab": {
          "base_uri": "https://localhost:8080/",
          "height": 372
        },
        "id": "kmH67ZtQmTmT",
        "outputId": "a602bde4-b5ee-44d5-d73c-031b8314c2a4"
      },
      "source": [
        "# Group by State\n",
        "# Select top 100 counties\n",
        "covid_live_counties_top100=covid_live_counties.sort_values('cases', ascending=False).head(100)\n",
        "covid_live_counties_top100.boxplot(column='cases', by='state')"
      ],
      "execution_count": 65,
      "outputs": [
        {
          "output_type": "stream",
          "text": [
            "/usr/local/lib/python3.7/dist-packages/numpy/core/_asarray.py:83: VisibleDeprecationWarning: Creating an ndarray from ragged nested sequences (which is a list-or-tuple of lists-or-tuples-or ndarrays with different lengths or shapes) is deprecated. If you meant to do this, you must specify 'dtype=object' when creating the ndarray\n",
            "  return array(a, dtype, copy=False, order=order)\n"
          ],
          "name": "stderr"
        },
        {
          "output_type": "execute_result",
          "data": {
            "text/plain": [
              "<matplotlib.axes._subplots.AxesSubplot at 0x7f0bd1873cd0>"
            ]
          },
          "metadata": {
            "tags": []
          },
          "execution_count": 65
        },
        {
          "output_type": "display_data",
          "data": {
            "image/png": "[encoded data removed]",
            "text/plain": [
              "<Figure size 432x288 with 1 Axes>"
            ]
          },
          "metadata": {
            "tags": [],
            "needs_background": "light"
          }
        }
      ]
    },
    {
      "cell_type": "code",
      "metadata": {
        "colab": {
          "base_uri": "https://localhost:8080/",
          "height": 483
        },
        "id": "WsJ5hnfFmTmT",
        "outputId": "34daebf0-776e-4f14-c5c6-8cc7feb08f26"
      },
      "source": [
        "from matplotlib import pyplot as plt \n",
        "\n",
        "# Looks ugly! Let's make it more pretty\n",
        "axes = covid_live_counties_top100.boxplot(column='cases', by='state',figsize=(10,5))\n",
        "fig = axes.get_figure()\n",
        "fig.suptitle('')\n",
        "plt.xticks(rotation=90)\n",
        "plt.title('Case Distribution by State')\n",
        "plt.xlabel('State')\n",
        "plt.ylabel('Number of Cases')"
      ],
      "execution_count": 67,
      "outputs": [
        {
          "output_type": "stream",
          "text": [
            "/usr/local/lib/python3.7/dist-packages/numpy/core/_asarray.py:83: VisibleDeprecationWarning: Creating an ndarray from ragged nested sequences (which is a list-or-tuple of lists-or-tuples-or ndarrays with different lengths or shapes) is deprecated. If you meant to do this, you must specify 'dtype=object' when creating the ndarray\n",
            "  return array(a, dtype, copy=False, order=order)\n"
          ],
          "name": "stderr"
        },
        {
          "output_type": "execute_result",
          "data": {
            "text/plain": [
              "Text(0, 0.5, 'Number of Cases')"
            ]
          },
          "metadata": {
            "tags": []
          },
          "execution_count": 67
        },
        {
          "output_type": "display_data",
          "data": {
            "image/png": "[encoded data removed]",
            "text/plain": [
              "<Figure size 720x360 with 1 Axes>"
            ]
          },
          "metadata": {
            "tags": [],
            "needs_background": "light"
          }
        }
      ]
    },
    {
      "cell_type": "code",
      "metadata": {
        "id": "mc7fpAr3m1Ji"
      },
      "source": [
        ""
      ],
      "execution_count": null,
      "outputs": []
    }
  ]
}