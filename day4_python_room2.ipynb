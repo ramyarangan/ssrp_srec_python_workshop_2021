{
  "nbformat": 4,
  "nbformat_minor": 0,
  "metadata": {
    "colab": {
      "name": "day4_python_room2.ipynb",
      "provenance": [],
      "include_colab_link": true
    },
    "kernelspec": {
      "name": "python3",
      "display_name": "Python 3"
    },
    "language_info": {
      "name": "python"
    }
  },
  "cells": [
    {
      "cell_type": "markdown",
      "metadata": {
        "id": "view-in-github",
        "colab_type": "text"
      },
      "source": [
        "<a href=\"https://colab.research.google.com/github/ramyarangan/ssrp_srec_python_workshop_2021/blob/master/day4_python_room2.ipynb\" target=\"_parent\"><img src=\"https://colab.research.google.com/assets/colab-badge.svg\" alt=\"Open In Colab\"/></a>"
      ]
    },
    {
      "cell_type": "markdown",
      "metadata": {
        "id": "iDpwiFlY8NiT"
      },
      "source": [
        "# Day 4: Pandas\n",
        "Date: June 17, 2021\n",
        "\n",
        "Room 2\n",
        "\n",
        "Schedule\n",
        "\n",
        "|Session #| Time | Instructor | Helper 1 | Helper 2|\n",
        "|-|-|-|-|-|\n",
        "|1| 10:30-11:30 | Ramya | Jeff | Roshni |\n",
        "| Break 1 | 11:30-11:45 |\n",
        "|2| 11:45-12:45 | Jeff | Ramya | Roshni |\n",
        "|Lunch Break| 12:45 - 1:30|\n",
        "|3| 1:30 - 2:30| Jeff | Ramya | Roshni |\n",
        "|Break| 2:30 - 2:45|\n",
        "|Office Hours| 2:45 - 3:30 |\n",
        "\n",
        "## Learning objectives\n",
        "* Read tabular data into data frames using the pandas Library\n",
        "* Plot data a number of ways including line plots, box plots, and histograms\n",
        "* Loop over multiple datasets and write functions\n",
        "* Understand variable scoping and appropriate usage of scope\n",
        "\n",
        "---"
      ]
    },
    {
      "cell_type": "markdown",
      "metadata": {
        "id": "stD_oiG39gLG"
      },
      "source": [
        "## Session 1:  Reading tabular data into data-frames, Pandas dataframes, plotting"
      ]
    },
    {
      "cell_type": "code",
      "metadata": {
        "id": "bG_wyQkP9gVW"
      },
      "source": [
        ""
      ],
      "execution_count": null,
      "outputs": []
    },
    {
      "cell_type": "markdown",
      "metadata": {
        "id": "GKfIgur39gfG"
      },
      "source": [
        "## Session 2: Plotting in more details: histograms, box blots, and more!"
      ]
    },
    {
      "cell_type": "code",
      "metadata": {
        "id": "FjhdGDrD9o_1",
        "outputId": "8895a60b-ab4b-4842-df38-a23376554a83",
        "colab": {
          "base_uri": "https://localhost:8080/"
        }
      },
      "source": [
        "original = [-1.5, 0.2, 0.4, 0.0, -1.3, 0.4]\n",
        "result = []\n",
        "for value in original:\n",
        "  if value < 0:\n",
        "    result.append(0)\n",
        "  else:\n",
        "    result.append(1)\n",
        "print(result)\n",
        "# [0, 1, 1, 1, 0, 1]"
      ],
      "execution_count": 1,
      "outputs": [
        {
          "output_type": "stream",
          "text": [
            "[0, 1, 1, 1, 0, 1]\n"
          ],
          "name": "stdout"
        }
      ]
    },
    {
      "cell_type": "code",
      "metadata": {
        "id": "wy01VMpDDq7_"
      },
      "source": [
        "import pandas"
      ],
      "execution_count": 2,
      "outputs": []
    },
    {
      "cell_type": "code",
      "metadata": {
        "id": "8eyTYTk9D0mr"
      },
      "source": [
        "import pandas as pd"
      ],
      "execution_count": 3,
      "outputs": []
    },
    {
      "cell_type": "code",
      "metadata": {
        "id": "_NcAp-KJEIlq"
      },
      "source": [
        "covid_live_counties = pd.read_csv('https://raw.githubusercontent.com/nytimes/covid-19-data/master/live/us-counties.csv')"
      ],
      "execution_count": 4,
      "outputs": []
    },
    {
      "cell_type": "code",
      "metadata": {
        "id": "FQ-iJADzFXjB",
        "outputId": "537190ae-9a60-4235-df74-fdea7ef037ab",
        "colab": {
          "base_uri": "https://localhost:8080/",
          "height": 419
        }
      },
      "source": [
        "covid_live_counties # This is a DataFrame - index, column names"
      ],
      "execution_count": 5,
      "outputs": [
        {
          "output_type": "execute_result",
          "data": {
            "text/html": [
              "<div>\n",
              "<style scoped>\n",
              "    .dataframe tbody tr th:only-of-type {\n",
              "        vertical-align: middle;\n",
              "    }\n",
              "\n",
              "    .dataframe tbody tr th {\n",
              "        vertical-align: top;\n",
              "    }\n",
              "\n",
              "    .dataframe thead th {\n",
              "        text-align: right;\n",
              "    }\n",
              "</style>\n",
              "<table border=\"1\" class=\"dataframe\">\n",
              "  <thead>\n",
              "    <tr style=\"text-align: right;\">\n",
              "      <th></th>\n",
              "      <th>date</th>\n",
              "      <th>county</th>\n",
              "      <th>state</th>\n",
              "      <th>fips</th>\n",
              "      <th>cases</th>\n",
              "      <th>deaths</th>\n",
              "      <th>confirmed_cases</th>\n",
              "      <th>confirmed_deaths</th>\n",
              "      <th>probable_cases</th>\n",
              "      <th>probable_deaths</th>\n",
              "    </tr>\n",
              "  </thead>\n",
              "  <tbody>\n",
              "    <tr>\n",
              "      <th>0</th>\n",
              "      <td>2021-06-17</td>\n",
              "      <td>Autauga</td>\n",
              "      <td>Alabama</td>\n",
              "      <td>1001.0</td>\n",
              "      <td>7230</td>\n",
              "      <td>113.0</td>\n",
              "      <td>6057.0</td>\n",
              "      <td>101.0</td>\n",
              "      <td>1173.0</td>\n",
              "      <td>12.0</td>\n",
              "    </tr>\n",
              "    <tr>\n",
              "      <th>1</th>\n",
              "      <td>2021-06-17</td>\n",
              "      <td>Baldwin</td>\n",
              "      <td>Alabama</td>\n",
              "      <td>1003.0</td>\n",
              "      <td>21839</td>\n",
              "      <td>313.0</td>\n",
              "      <td>15370.0</td>\n",
              "      <td>237.0</td>\n",
              "      <td>6469.0</td>\n",
              "      <td>76.0</td>\n",
              "    </tr>\n",
              "    <tr>\n",
              "      <th>2</th>\n",
              "      <td>2021-06-17</td>\n",
              "      <td>Barbour</td>\n",
              "      <td>Alabama</td>\n",
              "      <td>1005.0</td>\n",
              "      <td>2346</td>\n",
              "      <td>59.0</td>\n",
              "      <td>1315.0</td>\n",
              "      <td>41.0</td>\n",
              "      <td>1031.0</td>\n",
              "      <td>18.0</td>\n",
              "    </tr>\n",
              "    <tr>\n",
              "      <th>3</th>\n",
              "      <td>2021-06-17</td>\n",
              "      <td>Bibb</td>\n",
              "      <td>Alabama</td>\n",
              "      <td>1007.0</td>\n",
              "      <td>2684</td>\n",
              "      <td>64.0</td>\n",
              "      <td>2149.0</td>\n",
              "      <td>40.0</td>\n",
              "      <td>535.0</td>\n",
              "      <td>24.0</td>\n",
              "    </tr>\n",
              "    <tr>\n",
              "      <th>4</th>\n",
              "      <td>2021-06-17</td>\n",
              "      <td>Blount</td>\n",
              "      <td>Alabama</td>\n",
              "      <td>1009.0</td>\n",
              "      <td>6944</td>\n",
              "      <td>139.0</td>\n",
              "      <td>5305.0</td>\n",
              "      <td>115.0</td>\n",
              "      <td>1639.0</td>\n",
              "      <td>24.0</td>\n",
              "    </tr>\n",
              "    <tr>\n",
              "      <th>...</th>\n",
              "      <td>...</td>\n",
              "      <td>...</td>\n",
              "      <td>...</td>\n",
              "      <td>...</td>\n",
              "      <td>...</td>\n",
              "      <td>...</td>\n",
              "      <td>...</td>\n",
              "      <td>...</td>\n",
              "      <td>...</td>\n",
              "      <td>...</td>\n",
              "    </tr>\n",
              "    <tr>\n",
              "      <th>3242</th>\n",
              "      <td>2021-06-17</td>\n",
              "      <td>Sweetwater</td>\n",
              "      <td>Wyoming</td>\n",
              "      <td>56037.0</td>\n",
              "      <td>4664</td>\n",
              "      <td>40.0</td>\n",
              "      <td>4441.0</td>\n",
              "      <td>NaN</td>\n",
              "      <td>223.0</td>\n",
              "      <td>NaN</td>\n",
              "    </tr>\n",
              "    <tr>\n",
              "      <th>3243</th>\n",
              "      <td>2021-06-17</td>\n",
              "      <td>Teton</td>\n",
              "      <td>Wyoming</td>\n",
              "      <td>56039.0</td>\n",
              "      <td>3797</td>\n",
              "      <td>11.0</td>\n",
              "      <td>3708.0</td>\n",
              "      <td>NaN</td>\n",
              "      <td>89.0</td>\n",
              "      <td>NaN</td>\n",
              "    </tr>\n",
              "    <tr>\n",
              "      <th>3244</th>\n",
              "      <td>2021-06-17</td>\n",
              "      <td>Uinta</td>\n",
              "      <td>Wyoming</td>\n",
              "      <td>56041.0</td>\n",
              "      <td>2302</td>\n",
              "      <td>13.0</td>\n",
              "      <td>1969.0</td>\n",
              "      <td>NaN</td>\n",
              "      <td>333.0</td>\n",
              "      <td>NaN</td>\n",
              "    </tr>\n",
              "    <tr>\n",
              "      <th>3245</th>\n",
              "      <td>2021-06-17</td>\n",
              "      <td>Washakie</td>\n",
              "      <td>Wyoming</td>\n",
              "      <td>56043.0</td>\n",
              "      <td>924</td>\n",
              "      <td>26.0</td>\n",
              "      <td>724.0</td>\n",
              "      <td>NaN</td>\n",
              "      <td>200.0</td>\n",
              "      <td>NaN</td>\n",
              "    </tr>\n",
              "    <tr>\n",
              "      <th>3246</th>\n",
              "      <td>2021-06-17</td>\n",
              "      <td>Weston</td>\n",
              "      <td>Wyoming</td>\n",
              "      <td>56045.0</td>\n",
              "      <td>656</td>\n",
              "      <td>6.0</td>\n",
              "      <td>551.0</td>\n",
              "      <td>NaN</td>\n",
              "      <td>105.0</td>\n",
              "      <td>NaN</td>\n",
              "    </tr>\n",
              "  </tbody>\n",
              "</table>\n",
              "<p>3247 rows × 10 columns</p>\n",
              "</div>"
            ],
            "text/plain": [
              "            date      county  ... probable_cases  probable_deaths\n",
              "0     2021-06-17     Autauga  ...         1173.0             12.0\n",
              "1     2021-06-17     Baldwin  ...         6469.0             76.0\n",
              "2     2021-06-17     Barbour  ...         1031.0             18.0\n",
              "3     2021-06-17        Bibb  ...          535.0             24.0\n",
              "4     2021-06-17      Blount  ...         1639.0             24.0\n",
              "...          ...         ...  ...            ...              ...\n",
              "3242  2021-06-17  Sweetwater  ...          223.0              NaN\n",
              "3243  2021-06-17       Teton  ...           89.0              NaN\n",
              "3244  2021-06-17       Uinta  ...          333.0              NaN\n",
              "3245  2021-06-17    Washakie  ...          200.0              NaN\n",
              "3246  2021-06-17      Weston  ...          105.0              NaN\n",
              "\n",
              "[3247 rows x 10 columns]"
            ]
          },
          "metadata": {
            "tags": []
          },
          "execution_count": 5
        }
      ]
    },
    {
      "cell_type": "code",
      "metadata": {
        "id": "-cC3Pee1FjIT",
        "outputId": "dbb3f37d-1780-4955-f2b4-ba9e9b95435f",
        "colab": {
          "base_uri": "https://localhost:8080/"
        }
      },
      "source": [
        "covid_live_counties.info()"
      ],
      "execution_count": 6,
      "outputs": [
        {
          "output_type": "stream",
          "text": [
            "<class 'pandas.core.frame.DataFrame'>\n",
            "RangeIndex: 3247 entries, 0 to 3246\n",
            "Data columns (total 10 columns):\n",
            " #   Column            Non-Null Count  Dtype  \n",
            "---  ------            --------------  -----  \n",
            " 0   date              3247 non-null   object \n",
            " 1   county            3247 non-null   object \n",
            " 2   state             3247 non-null   object \n",
            " 3   fips              3216 non-null   float64\n",
            " 4   cases             3247 non-null   int64  \n",
            " 5   deaths            3169 non-null   float64\n",
            " 6   confirmed_cases   2212 non-null   float64\n",
            " 7   confirmed_deaths  1503 non-null   float64\n",
            " 8   probable_cases    1940 non-null   float64\n",
            " 9   probable_deaths   1042 non-null   float64\n",
            "dtypes: float64(6), int64(1), object(3)\n",
            "memory usage: 253.8+ KB\n"
          ],
          "name": "stdout"
        }
      ]
    },
    {
      "cell_type": "code",
      "metadata": {
        "id": "aJp9ioamF0bU",
        "outputId": "a726f493-c19f-42ae-a778-1d24d6cec54b",
        "colab": {
          "base_uri": "https://localhost:8080/"
        }
      },
      "source": [
        "print(covid_live_counties.columns)"
      ],
      "execution_count": 7,
      "outputs": [
        {
          "output_type": "stream",
          "text": [
            "Index(['date', 'county', 'state', 'fips', 'cases', 'deaths', 'confirmed_cases',\n",
            "       'confirmed_deaths', 'probable_cases', 'probable_deaths'],\n",
            "      dtype='object')\n"
          ],
          "name": "stdout"
        }
      ]
    },
    {
      "cell_type": "code",
      "metadata": {
        "id": "lqglhitiF8Zj",
        "outputId": "512961f4-92d6-43d1-e955-36a528b93e09",
        "colab": {
          "base_uri": "https://localhost:8080/",
          "height": 297
        }
      },
      "source": [
        "covid_live_counties.describe()"
      ],
      "execution_count": 8,
      "outputs": [
        {
          "output_type": "execute_result",
          "data": {
            "text/html": [
              "<div>\n",
              "<style scoped>\n",
              "    .dataframe tbody tr th:only-of-type {\n",
              "        vertical-align: middle;\n",
              "    }\n",
              "\n",
              "    .dataframe tbody tr th {\n",
              "        vertical-align: top;\n",
              "    }\n",
              "\n",
              "    .dataframe thead th {\n",
              "        text-align: right;\n",
              "    }\n",
              "</style>\n",
              "<table border=\"1\" class=\"dataframe\">\n",
              "  <thead>\n",
              "    <tr style=\"text-align: right;\">\n",
              "      <th></th>\n",
              "      <th>fips</th>\n",
              "      <th>cases</th>\n",
              "      <th>deaths</th>\n",
              "      <th>confirmed_cases</th>\n",
              "      <th>confirmed_deaths</th>\n",
              "      <th>probable_cases</th>\n",
              "      <th>probable_deaths</th>\n",
              "    </tr>\n",
              "  </thead>\n",
              "  <tbody>\n",
              "    <tr>\n",
              "      <th>count</th>\n",
              "      <td>3216.000000</td>\n",
              "      <td>3.247000e+03</td>\n",
              "      <td>3169.000000</td>\n",
              "      <td>2.212000e+03</td>\n",
              "      <td>1503.000000</td>\n",
              "      <td>1940.000000</td>\n",
              "      <td>1042.000000</td>\n",
              "    </tr>\n",
              "    <tr>\n",
              "      <th>mean</th>\n",
              "      <td>31489.679415</td>\n",
              "      <td>1.030661e+04</td>\n",
              "      <td>189.411171</td>\n",
              "      <td>9.840027e+03</td>\n",
              "      <td>253.411843</td>\n",
              "      <td>1219.709794</td>\n",
              "      <td>28.640115</td>\n",
              "    </tr>\n",
              "    <tr>\n",
              "      <th>std</th>\n",
              "      <td>16357.537531</td>\n",
              "      <td>3.953851e+04</td>\n",
              "      <td>888.111457</td>\n",
              "      <td>4.096651e+04</td>\n",
              "      <td>1121.915308</td>\n",
              "      <td>2952.448625</td>\n",
              "      <td>187.999387</td>\n",
              "    </tr>\n",
              "    <tr>\n",
              "      <th>min</th>\n",
              "      <td>1001.000000</td>\n",
              "      <td>0.000000e+00</td>\n",
              "      <td>0.000000</td>\n",
              "      <td>0.000000e+00</td>\n",
              "      <td>0.000000</td>\n",
              "      <td>0.000000</td>\n",
              "      <td>0.000000</td>\n",
              "    </tr>\n",
              "    <tr>\n",
              "      <th>25%</th>\n",
              "      <td>19038.500000</td>\n",
              "      <td>1.057000e+03</td>\n",
              "      <td>20.000000</td>\n",
              "      <td>8.935000e+02</td>\n",
              "      <td>26.000000</td>\n",
              "      <td>132.000000</td>\n",
              "      <td>2.000000</td>\n",
              "    </tr>\n",
              "    <tr>\n",
              "      <th>50%</th>\n",
              "      <td>30028.000000</td>\n",
              "      <td>2.530000e+03</td>\n",
              "      <td>50.000000</td>\n",
              "      <td>2.166000e+03</td>\n",
              "      <td>62.000000</td>\n",
              "      <td>385.500000</td>\n",
              "      <td>8.000000</td>\n",
              "    </tr>\n",
              "    <tr>\n",
              "      <th>75%</th>\n",
              "      <td>46119.500000</td>\n",
              "      <td>6.505500e+03</td>\n",
              "      <td>119.000000</td>\n",
              "      <td>6.107250e+03</td>\n",
              "      <td>154.500000</td>\n",
              "      <td>1036.750000</td>\n",
              "      <td>20.000000</td>\n",
              "    </tr>\n",
              "    <tr>\n",
              "      <th>max</th>\n",
              "      <td>78030.000000</td>\n",
              "      <td>1.247488e+06</td>\n",
              "      <td>33358.000000</td>\n",
              "      <td>1.246821e+06</td>\n",
              "      <td>28277.000000</td>\n",
              "      <td>46114.000000</td>\n",
              "      <td>5081.000000</td>\n",
              "    </tr>\n",
              "  </tbody>\n",
              "</table>\n",
              "</div>"
            ],
            "text/plain": [
              "               fips         cases  ...  probable_cases  probable_deaths\n",
              "count   3216.000000  3.247000e+03  ...     1940.000000      1042.000000\n",
              "mean   31489.679415  1.030661e+04  ...     1219.709794        28.640115\n",
              "std    16357.537531  3.953851e+04  ...     2952.448625       187.999387\n",
              "min     1001.000000  0.000000e+00  ...        0.000000         0.000000\n",
              "25%    19038.500000  1.057000e+03  ...      132.000000         2.000000\n",
              "50%    30028.000000  2.530000e+03  ...      385.500000         8.000000\n",
              "75%    46119.500000  6.505500e+03  ...     1036.750000        20.000000\n",
              "max    78030.000000  1.247488e+06  ...    46114.000000      5081.000000\n",
              "\n",
              "[8 rows x 7 columns]"
            ]
          },
          "metadata": {
            "tags": []
          },
          "execution_count": 8
        }
      ]
    },
    {
      "cell_type": "markdown",
      "metadata": {
        "id": "qyr8-8jsGqIV"
      },
      "source": [
        "Accessing elements of pandas dataframes: by position (row number and column number); by name (row name, column name)"
      ]
    },
    {
      "cell_type": "code",
      "metadata": {
        "id": "EUJD1wIYG-vR",
        "outputId": "235368d3-e268-46a8-d2e1-c4d2de8088d6",
        "colab": {
          "base_uri": "https://localhost:8080/",
          "height": 419
        }
      },
      "source": [
        "covid_live_counties"
      ],
      "execution_count": 9,
      "outputs": [
        {
          "output_type": "execute_result",
          "data": {
            "text/html": [
              "<div>\n",
              "<style scoped>\n",
              "    .dataframe tbody tr th:only-of-type {\n",
              "        vertical-align: middle;\n",
              "    }\n",
              "\n",
              "    .dataframe tbody tr th {\n",
              "        vertical-align: top;\n",
              "    }\n",
              "\n",
              "    .dataframe thead th {\n",
              "        text-align: right;\n",
              "    }\n",
              "</style>\n",
              "<table border=\"1\" class=\"dataframe\">\n",
              "  <thead>\n",
              "    <tr style=\"text-align: right;\">\n",
              "      <th></th>\n",
              "      <th>date</th>\n",
              "      <th>county</th>\n",
              "      <th>state</th>\n",
              "      <th>fips</th>\n",
              "      <th>cases</th>\n",
              "      <th>deaths</th>\n",
              "      <th>confirmed_cases</th>\n",
              "      <th>confirmed_deaths</th>\n",
              "      <th>probable_cases</th>\n",
              "      <th>probable_deaths</th>\n",
              "    </tr>\n",
              "  </thead>\n",
              "  <tbody>\n",
              "    <tr>\n",
              "      <th>0</th>\n",
              "      <td>2021-06-17</td>\n",
              "      <td>Autauga</td>\n",
              "      <td>Alabama</td>\n",
              "      <td>1001.0</td>\n",
              "      <td>7230</td>\n",
              "      <td>113.0</td>\n",
              "      <td>6057.0</td>\n",
              "      <td>101.0</td>\n",
              "      <td>1173.0</td>\n",
              "      <td>12.0</td>\n",
              "    </tr>\n",
              "    <tr>\n",
              "      <th>1</th>\n",
              "      <td>2021-06-17</td>\n",
              "      <td>Baldwin</td>\n",
              "      <td>Alabama</td>\n",
              "      <td>1003.0</td>\n",
              "      <td>21839</td>\n",
              "      <td>313.0</td>\n",
              "      <td>15370.0</td>\n",
              "      <td>237.0</td>\n",
              "      <td>6469.0</td>\n",
              "      <td>76.0</td>\n",
              "    </tr>\n",
              "    <tr>\n",
              "      <th>2</th>\n",
              "      <td>2021-06-17</td>\n",
              "      <td>Barbour</td>\n",
              "      <td>Alabama</td>\n",
              "      <td>1005.0</td>\n",
              "      <td>2346</td>\n",
              "      <td>59.0</td>\n",
              "      <td>1315.0</td>\n",
              "      <td>41.0</td>\n",
              "      <td>1031.0</td>\n",
              "      <td>18.0</td>\n",
              "    </tr>\n",
              "    <tr>\n",
              "      <th>3</th>\n",
              "      <td>2021-06-17</td>\n",
              "      <td>Bibb</td>\n",
              "      <td>Alabama</td>\n",
              "      <td>1007.0</td>\n",
              "      <td>2684</td>\n",
              "      <td>64.0</td>\n",
              "      <td>2149.0</td>\n",
              "      <td>40.0</td>\n",
              "      <td>535.0</td>\n",
              "      <td>24.0</td>\n",
              "    </tr>\n",
              "    <tr>\n",
              "      <th>4</th>\n",
              "      <td>2021-06-17</td>\n",
              "      <td>Blount</td>\n",
              "      <td>Alabama</td>\n",
              "      <td>1009.0</td>\n",
              "      <td>6944</td>\n",
              "      <td>139.0</td>\n",
              "      <td>5305.0</td>\n",
              "      <td>115.0</td>\n",
              "      <td>1639.0</td>\n",
              "      <td>24.0</td>\n",
              "    </tr>\n",
              "    <tr>\n",
              "      <th>...</th>\n",
              "      <td>...</td>\n",
              "      <td>...</td>\n",
              "      <td>...</td>\n",
              "      <td>...</td>\n",
              "      <td>...</td>\n",
              "      <td>...</td>\n",
              "      <td>...</td>\n",
              "      <td>...</td>\n",
              "      <td>...</td>\n",
              "      <td>...</td>\n",
              "    </tr>\n",
              "    <tr>\n",
              "      <th>3242</th>\n",
              "      <td>2021-06-17</td>\n",
              "      <td>Sweetwater</td>\n",
              "      <td>Wyoming</td>\n",
              "      <td>56037.0</td>\n",
              "      <td>4664</td>\n",
              "      <td>40.0</td>\n",
              "      <td>4441.0</td>\n",
              "      <td>NaN</td>\n",
              "      <td>223.0</td>\n",
              "      <td>NaN</td>\n",
              "    </tr>\n",
              "    <tr>\n",
              "      <th>3243</th>\n",
              "      <td>2021-06-17</td>\n",
              "      <td>Teton</td>\n",
              "      <td>Wyoming</td>\n",
              "      <td>56039.0</td>\n",
              "      <td>3797</td>\n",
              "      <td>11.0</td>\n",
              "      <td>3708.0</td>\n",
              "      <td>NaN</td>\n",
              "      <td>89.0</td>\n",
              "      <td>NaN</td>\n",
              "    </tr>\n",
              "    <tr>\n",
              "      <th>3244</th>\n",
              "      <td>2021-06-17</td>\n",
              "      <td>Uinta</td>\n",
              "      <td>Wyoming</td>\n",
              "      <td>56041.0</td>\n",
              "      <td>2302</td>\n",
              "      <td>13.0</td>\n",
              "      <td>1969.0</td>\n",
              "      <td>NaN</td>\n",
              "      <td>333.0</td>\n",
              "      <td>NaN</td>\n",
              "    </tr>\n",
              "    <tr>\n",
              "      <th>3245</th>\n",
              "      <td>2021-06-17</td>\n",
              "      <td>Washakie</td>\n",
              "      <td>Wyoming</td>\n",
              "      <td>56043.0</td>\n",
              "      <td>924</td>\n",
              "      <td>26.0</td>\n",
              "      <td>724.0</td>\n",
              "      <td>NaN</td>\n",
              "      <td>200.0</td>\n",
              "      <td>NaN</td>\n",
              "    </tr>\n",
              "    <tr>\n",
              "      <th>3246</th>\n",
              "      <td>2021-06-17</td>\n",
              "      <td>Weston</td>\n",
              "      <td>Wyoming</td>\n",
              "      <td>56045.0</td>\n",
              "      <td>656</td>\n",
              "      <td>6.0</td>\n",
              "      <td>551.0</td>\n",
              "      <td>NaN</td>\n",
              "      <td>105.0</td>\n",
              "      <td>NaN</td>\n",
              "    </tr>\n",
              "  </tbody>\n",
              "</table>\n",
              "<p>3247 rows × 10 columns</p>\n",
              "</div>"
            ],
            "text/plain": [
              "            date      county  ... probable_cases  probable_deaths\n",
              "0     2021-06-17     Autauga  ...         1173.0             12.0\n",
              "1     2021-06-17     Baldwin  ...         6469.0             76.0\n",
              "2     2021-06-17     Barbour  ...         1031.0             18.0\n",
              "3     2021-06-17        Bibb  ...          535.0             24.0\n",
              "4     2021-06-17      Blount  ...         1639.0             24.0\n",
              "...          ...         ...  ...            ...              ...\n",
              "3242  2021-06-17  Sweetwater  ...          223.0              NaN\n",
              "3243  2021-06-17       Teton  ...           89.0              NaN\n",
              "3244  2021-06-17       Uinta  ...          333.0              NaN\n",
              "3245  2021-06-17    Washakie  ...          200.0              NaN\n",
              "3246  2021-06-17      Weston  ...          105.0              NaN\n",
              "\n",
              "[3247 rows x 10 columns]"
            ]
          },
          "metadata": {
            "tags": []
          },
          "execution_count": 9
        }
      ]
    },
    {
      "cell_type": "code",
      "metadata": {
        "id": "S-UVG5UUG_uy",
        "outputId": "3e5f2006-dceb-465a-ca06-efb3d5b00201",
        "colab": {
          "base_uri": "https://localhost:8080/"
        }
      },
      "source": [
        "print(covid_live_counties.iloc[1, 1])"
      ],
      "execution_count": 10,
      "outputs": [
        {
          "output_type": "stream",
          "text": [
            "Baldwin\n"
          ],
          "name": "stdout"
        }
      ]
    },
    {
      "cell_type": "code",
      "metadata": {
        "id": "2MeGcDbCHZlA",
        "outputId": "39175c13-ad6e-459d-cd98-2f41357f75ed",
        "colab": {
          "base_uri": "https://localhost:8080/",
          "height": 35
        }
      },
      "source": [
        "covid_live_counties.loc[1, 'county']"
      ],
      "execution_count": 11,
      "outputs": [
        {
          "output_type": "execute_result",
          "data": {
            "application/vnd.google.colaboratory.intrinsic+json": {
              "type": "string"
            },
            "text/plain": [
              "'Baldwin'"
            ]
          },
          "metadata": {
            "tags": []
          },
          "execution_count": 11
        }
      ]
    },
    {
      "cell_type": "code",
      "metadata": {
        "id": "2Fj43gkSHx6e",
        "outputId": "da7b954a-cf67-49a7-9062-940d0899c7e8",
        "colab": {
          "base_uri": "https://localhost:8080/"
        }
      },
      "source": [
        "covid_live_counties['county']"
      ],
      "execution_count": 12,
      "outputs": [
        {
          "output_type": "execute_result",
          "data": {
            "text/plain": [
              "0          Autauga\n",
              "1          Baldwin\n",
              "2          Barbour\n",
              "3             Bibb\n",
              "4           Blount\n",
              "           ...    \n",
              "3242    Sweetwater\n",
              "3243         Teton\n",
              "3244         Uinta\n",
              "3245      Washakie\n",
              "3246        Weston\n",
              "Name: county, Length: 3247, dtype: object"
            ]
          },
          "metadata": {
            "tags": []
          },
          "execution_count": 12
        }
      ]
    },
    {
      "cell_type": "code",
      "metadata": {
        "id": "ayDZYUDzH-iC",
        "outputId": "3cdb26d4-d9f8-4e78-d766-78660f724f90",
        "colab": {
          "base_uri": "https://localhost:8080/",
          "height": 419
        }
      },
      "source": [
        "covid_live_counties[['county', 'state', 'cases', 'confirmed_cases', 'deaths']]"
      ],
      "execution_count": 13,
      "outputs": [
        {
          "output_type": "execute_result",
          "data": {
            "text/html": [
              "<div>\n",
              "<style scoped>\n",
              "    .dataframe tbody tr th:only-of-type {\n",
              "        vertical-align: middle;\n",
              "    }\n",
              "\n",
              "    .dataframe tbody tr th {\n",
              "        vertical-align: top;\n",
              "    }\n",
              "\n",
              "    .dataframe thead th {\n",
              "        text-align: right;\n",
              "    }\n",
              "</style>\n",
              "<table border=\"1\" class=\"dataframe\">\n",
              "  <thead>\n",
              "    <tr style=\"text-align: right;\">\n",
              "      <th></th>\n",
              "      <th>county</th>\n",
              "      <th>state</th>\n",
              "      <th>cases</th>\n",
              "      <th>confirmed_cases</th>\n",
              "      <th>deaths</th>\n",
              "    </tr>\n",
              "  </thead>\n",
              "  <tbody>\n",
              "    <tr>\n",
              "      <th>0</th>\n",
              "      <td>Autauga</td>\n",
              "      <td>Alabama</td>\n",
              "      <td>7230</td>\n",
              "      <td>6057.0</td>\n",
              "      <td>113.0</td>\n",
              "    </tr>\n",
              "    <tr>\n",
              "      <th>1</th>\n",
              "      <td>Baldwin</td>\n",
              "      <td>Alabama</td>\n",
              "      <td>21839</td>\n",
              "      <td>15370.0</td>\n",
              "      <td>313.0</td>\n",
              "    </tr>\n",
              "    <tr>\n",
              "      <th>2</th>\n",
              "      <td>Barbour</td>\n",
              "      <td>Alabama</td>\n",
              "      <td>2346</td>\n",
              "      <td>1315.0</td>\n",
              "      <td>59.0</td>\n",
              "    </tr>\n",
              "    <tr>\n",
              "      <th>3</th>\n",
              "      <td>Bibb</td>\n",
              "      <td>Alabama</td>\n",
              "      <td>2684</td>\n",
              "      <td>2149.0</td>\n",
              "      <td>64.0</td>\n",
              "    </tr>\n",
              "    <tr>\n",
              "      <th>4</th>\n",
              "      <td>Blount</td>\n",
              "      <td>Alabama</td>\n",
              "      <td>6944</td>\n",
              "      <td>5305.0</td>\n",
              "      <td>139.0</td>\n",
              "    </tr>\n",
              "    <tr>\n",
              "      <th>...</th>\n",
              "      <td>...</td>\n",
              "      <td>...</td>\n",
              "      <td>...</td>\n",
              "      <td>...</td>\n",
              "      <td>...</td>\n",
              "    </tr>\n",
              "    <tr>\n",
              "      <th>3242</th>\n",
              "      <td>Sweetwater</td>\n",
              "      <td>Wyoming</td>\n",
              "      <td>4664</td>\n",
              "      <td>4441.0</td>\n",
              "      <td>40.0</td>\n",
              "    </tr>\n",
              "    <tr>\n",
              "      <th>3243</th>\n",
              "      <td>Teton</td>\n",
              "      <td>Wyoming</td>\n",
              "      <td>3797</td>\n",
              "      <td>3708.0</td>\n",
              "      <td>11.0</td>\n",
              "    </tr>\n",
              "    <tr>\n",
              "      <th>3244</th>\n",
              "      <td>Uinta</td>\n",
              "      <td>Wyoming</td>\n",
              "      <td>2302</td>\n",
              "      <td>1969.0</td>\n",
              "      <td>13.0</td>\n",
              "    </tr>\n",
              "    <tr>\n",
              "      <th>3245</th>\n",
              "      <td>Washakie</td>\n",
              "      <td>Wyoming</td>\n",
              "      <td>924</td>\n",
              "      <td>724.0</td>\n",
              "      <td>26.0</td>\n",
              "    </tr>\n",
              "    <tr>\n",
              "      <th>3246</th>\n",
              "      <td>Weston</td>\n",
              "      <td>Wyoming</td>\n",
              "      <td>656</td>\n",
              "      <td>551.0</td>\n",
              "      <td>6.0</td>\n",
              "    </tr>\n",
              "  </tbody>\n",
              "</table>\n",
              "<p>3247 rows × 5 columns</p>\n",
              "</div>"
            ],
            "text/plain": [
              "          county    state  cases  confirmed_cases  deaths\n",
              "0        Autauga  Alabama   7230           6057.0   113.0\n",
              "1        Baldwin  Alabama  21839          15370.0   313.0\n",
              "2        Barbour  Alabama   2346           1315.0    59.0\n",
              "3           Bibb  Alabama   2684           2149.0    64.0\n",
              "4         Blount  Alabama   6944           5305.0   139.0\n",
              "...          ...      ...    ...              ...     ...\n",
              "3242  Sweetwater  Wyoming   4664           4441.0    40.0\n",
              "3243       Teton  Wyoming   3797           3708.0    11.0\n",
              "3244       Uinta  Wyoming   2302           1969.0    13.0\n",
              "3245    Washakie  Wyoming    924            724.0    26.0\n",
              "3246      Weston  Wyoming    656            551.0     6.0\n",
              "\n",
              "[3247 rows x 5 columns]"
            ]
          },
          "metadata": {
            "tags": []
          },
          "execution_count": 13
        }
      ]
    },
    {
      "cell_type": "code",
      "metadata": {
        "id": "OpoYx8o0IY6s"
      },
      "source": [
        "simple_county_data = covid_live_counties[['county', 'state', 'cases', 'confirmed_cases', 'deaths']]"
      ],
      "execution_count": 14,
      "outputs": []
    },
    {
      "cell_type": "code",
      "metadata": {
        "id": "S8ZM1F3kIh4L",
        "outputId": "acb2456b-27e9-42b4-b849-95ee3f7fbcb3",
        "colab": {
          "base_uri": "https://localhost:8080/",
          "height": 419
        }
      },
      "source": [
        "simple_county_data"
      ],
      "execution_count": 15,
      "outputs": [
        {
          "output_type": "execute_result",
          "data": {
            "text/html": [
              "<div>\n",
              "<style scoped>\n",
              "    .dataframe tbody tr th:only-of-type {\n",
              "        vertical-align: middle;\n",
              "    }\n",
              "\n",
              "    .dataframe tbody tr th {\n",
              "        vertical-align: top;\n",
              "    }\n",
              "\n",
              "    .dataframe thead th {\n",
              "        text-align: right;\n",
              "    }\n",
              "</style>\n",
              "<table border=\"1\" class=\"dataframe\">\n",
              "  <thead>\n",
              "    <tr style=\"text-align: right;\">\n",
              "      <th></th>\n",
              "      <th>county</th>\n",
              "      <th>state</th>\n",
              "      <th>cases</th>\n",
              "      <th>confirmed_cases</th>\n",
              "      <th>deaths</th>\n",
              "    </tr>\n",
              "  </thead>\n",
              "  <tbody>\n",
              "    <tr>\n",
              "      <th>0</th>\n",
              "      <td>Autauga</td>\n",
              "      <td>Alabama</td>\n",
              "      <td>7230</td>\n",
              "      <td>6057.0</td>\n",
              "      <td>113.0</td>\n",
              "    </tr>\n",
              "    <tr>\n",
              "      <th>1</th>\n",
              "      <td>Baldwin</td>\n",
              "      <td>Alabama</td>\n",
              "      <td>21839</td>\n",
              "      <td>15370.0</td>\n",
              "      <td>313.0</td>\n",
              "    </tr>\n",
              "    <tr>\n",
              "      <th>2</th>\n",
              "      <td>Barbour</td>\n",
              "      <td>Alabama</td>\n",
              "      <td>2346</td>\n",
              "      <td>1315.0</td>\n",
              "      <td>59.0</td>\n",
              "    </tr>\n",
              "    <tr>\n",
              "      <th>3</th>\n",
              "      <td>Bibb</td>\n",
              "      <td>Alabama</td>\n",
              "      <td>2684</td>\n",
              "      <td>2149.0</td>\n",
              "      <td>64.0</td>\n",
              "    </tr>\n",
              "    <tr>\n",
              "      <th>4</th>\n",
              "      <td>Blount</td>\n",
              "      <td>Alabama</td>\n",
              "      <td>6944</td>\n",
              "      <td>5305.0</td>\n",
              "      <td>139.0</td>\n",
              "    </tr>\n",
              "    <tr>\n",
              "      <th>...</th>\n",
              "      <td>...</td>\n",
              "      <td>...</td>\n",
              "      <td>...</td>\n",
              "      <td>...</td>\n",
              "      <td>...</td>\n",
              "    </tr>\n",
              "    <tr>\n",
              "      <th>3242</th>\n",
              "      <td>Sweetwater</td>\n",
              "      <td>Wyoming</td>\n",
              "      <td>4664</td>\n",
              "      <td>4441.0</td>\n",
              "      <td>40.0</td>\n",
              "    </tr>\n",
              "    <tr>\n",
              "      <th>3243</th>\n",
              "      <td>Teton</td>\n",
              "      <td>Wyoming</td>\n",
              "      <td>3797</td>\n",
              "      <td>3708.0</td>\n",
              "      <td>11.0</td>\n",
              "    </tr>\n",
              "    <tr>\n",
              "      <th>3244</th>\n",
              "      <td>Uinta</td>\n",
              "      <td>Wyoming</td>\n",
              "      <td>2302</td>\n",
              "      <td>1969.0</td>\n",
              "      <td>13.0</td>\n",
              "    </tr>\n",
              "    <tr>\n",
              "      <th>3245</th>\n",
              "      <td>Washakie</td>\n",
              "      <td>Wyoming</td>\n",
              "      <td>924</td>\n",
              "      <td>724.0</td>\n",
              "      <td>26.0</td>\n",
              "    </tr>\n",
              "    <tr>\n",
              "      <th>3246</th>\n",
              "      <td>Weston</td>\n",
              "      <td>Wyoming</td>\n",
              "      <td>656</td>\n",
              "      <td>551.0</td>\n",
              "      <td>6.0</td>\n",
              "    </tr>\n",
              "  </tbody>\n",
              "</table>\n",
              "<p>3247 rows × 5 columns</p>\n",
              "</div>"
            ],
            "text/plain": [
              "          county    state  cases  confirmed_cases  deaths\n",
              "0        Autauga  Alabama   7230           6057.0   113.0\n",
              "1        Baldwin  Alabama  21839          15370.0   313.0\n",
              "2        Barbour  Alabama   2346           1315.0    59.0\n",
              "3           Bibb  Alabama   2684           2149.0    64.0\n",
              "4         Blount  Alabama   6944           5305.0   139.0\n",
              "...          ...      ...    ...              ...     ...\n",
              "3242  Sweetwater  Wyoming   4664           4441.0    40.0\n",
              "3243       Teton  Wyoming   3797           3708.0    11.0\n",
              "3244       Uinta  Wyoming   2302           1969.0    13.0\n",
              "3245    Washakie  Wyoming    924            724.0    26.0\n",
              "3246      Weston  Wyoming    656            551.0     6.0\n",
              "\n",
              "[3247 rows x 5 columns]"
            ]
          },
          "metadata": {
            "tags": []
          },
          "execution_count": 15
        }
      ]
    },
    {
      "cell_type": "code",
      "metadata": {
        "id": "dw_SPYPBIrr9",
        "outputId": "26288bd1-651e-4ae8-8ddd-e359429aa742",
        "colab": {
          "base_uri": "https://localhost:8080/"
        }
      },
      "source": [
        "simple_county_data.iloc[1]"
      ],
      "execution_count": 19,
      "outputs": [
        {
          "output_type": "execute_result",
          "data": {
            "text/plain": [
              "county             Baldwin\n",
              "state              Alabama\n",
              "cases                21839\n",
              "confirmed_cases      15370\n",
              "deaths                 313\n",
              "Name: 1, dtype: object"
            ]
          },
          "metadata": {
            "tags": []
          },
          "execution_count": 19
        }
      ]
    },
    {
      "cell_type": "code",
      "metadata": {
        "id": "9XWz3-MAJBYL",
        "outputId": "6192a051-535c-43c2-a041-69283276d2a0",
        "colab": {
          "base_uri": "https://localhost:8080/",
          "height": 390
        }
      },
      "source": [
        "simple_county_data.iloc[0:10]"
      ],
      "execution_count": 23,
      "outputs": [
        {
          "output_type": "execute_result",
          "data": {
            "text/html": [
              "<div>\n",
              "<style scoped>\n",
              "    .dataframe tbody tr th:only-of-type {\n",
              "        vertical-align: middle;\n",
              "    }\n",
              "\n",
              "    .dataframe tbody tr th {\n",
              "        vertical-align: top;\n",
              "    }\n",
              "\n",
              "    .dataframe thead th {\n",
              "        text-align: right;\n",
              "    }\n",
              "</style>\n",
              "<table border=\"1\" class=\"dataframe\">\n",
              "  <thead>\n",
              "    <tr style=\"text-align: right;\">\n",
              "      <th></th>\n",
              "      <th>county</th>\n",
              "      <th>state</th>\n",
              "      <th>cases</th>\n",
              "      <th>confirmed_cases</th>\n",
              "      <th>deaths</th>\n",
              "    </tr>\n",
              "  </thead>\n",
              "  <tbody>\n",
              "    <tr>\n",
              "      <th>0</th>\n",
              "      <td>Autauga</td>\n",
              "      <td>Alabama</td>\n",
              "      <td>7230</td>\n",
              "      <td>6057.0</td>\n",
              "      <td>113.0</td>\n",
              "    </tr>\n",
              "    <tr>\n",
              "      <th>1</th>\n",
              "      <td>Baldwin</td>\n",
              "      <td>Alabama</td>\n",
              "      <td>21839</td>\n",
              "      <td>15370.0</td>\n",
              "      <td>313.0</td>\n",
              "    </tr>\n",
              "    <tr>\n",
              "      <th>2</th>\n",
              "      <td>Barbour</td>\n",
              "      <td>Alabama</td>\n",
              "      <td>2346</td>\n",
              "      <td>1315.0</td>\n",
              "      <td>59.0</td>\n",
              "    </tr>\n",
              "    <tr>\n",
              "      <th>3</th>\n",
              "      <td>Bibb</td>\n",
              "      <td>Alabama</td>\n",
              "      <td>2684</td>\n",
              "      <td>2149.0</td>\n",
              "      <td>64.0</td>\n",
              "    </tr>\n",
              "    <tr>\n",
              "      <th>4</th>\n",
              "      <td>Blount</td>\n",
              "      <td>Alabama</td>\n",
              "      <td>6944</td>\n",
              "      <td>5305.0</td>\n",
              "      <td>139.0</td>\n",
              "    </tr>\n",
              "    <tr>\n",
              "      <th>5</th>\n",
              "      <td>Bullock</td>\n",
              "      <td>Alabama</td>\n",
              "      <td>1242</td>\n",
              "      <td>1097.0</td>\n",
              "      <td>42.0</td>\n",
              "    </tr>\n",
              "    <tr>\n",
              "      <th>6</th>\n",
              "      <td>Butler</td>\n",
              "      <td>Alabama</td>\n",
              "      <td>2240</td>\n",
              "      <td>2014.0</td>\n",
              "      <td>71.0</td>\n",
              "    </tr>\n",
              "    <tr>\n",
              "      <th>7</th>\n",
              "      <td>Calhoun</td>\n",
              "      <td>Alabama</td>\n",
              "      <td>14718</td>\n",
              "      <td>10987.0</td>\n",
              "      <td>325.0</td>\n",
              "    </tr>\n",
              "    <tr>\n",
              "      <th>8</th>\n",
              "      <td>Chambers</td>\n",
              "      <td>Alabama</td>\n",
              "      <td>3726</td>\n",
              "      <td>1862.0</td>\n",
              "      <td>124.0</td>\n",
              "    </tr>\n",
              "    <tr>\n",
              "      <th>9</th>\n",
              "      <td>Cherokee</td>\n",
              "      <td>Alabama</td>\n",
              "      <td>1872</td>\n",
              "      <td>1189.0</td>\n",
              "      <td>45.0</td>\n",
              "    </tr>\n",
              "    <tr>\n",
              "      <th>10</th>\n",
              "      <td>Chilton</td>\n",
              "      <td>Alabama</td>\n",
              "      <td>4472</td>\n",
              "      <td>3593.0</td>\n",
              "      <td>116.0</td>\n",
              "    </tr>\n",
              "  </tbody>\n",
              "</table>\n",
              "</div>"
            ],
            "text/plain": [
              "      county    state  cases  confirmed_cases  deaths\n",
              "0    Autauga  Alabama   7230           6057.0   113.0\n",
              "1    Baldwin  Alabama  21839          15370.0   313.0\n",
              "2    Barbour  Alabama   2346           1315.0    59.0\n",
              "3       Bibb  Alabama   2684           2149.0    64.0\n",
              "4     Blount  Alabama   6944           5305.0   139.0\n",
              "5    Bullock  Alabama   1242           1097.0    42.0\n",
              "6     Butler  Alabama   2240           2014.0    71.0\n",
              "7    Calhoun  Alabama  14718          10987.0   325.0\n",
              "8   Chambers  Alabama   3726           1862.0   124.0\n",
              "9   Cherokee  Alabama   1872           1189.0    45.0\n",
              "10   Chilton  Alabama   4472           3593.0   116.0"
            ]
          },
          "metadata": {
            "tags": []
          },
          "execution_count": 23
        }
      ]
    },
    {
      "cell_type": "markdown",
      "metadata": {
        "id": "rYmQRA_nJ_ae"
      },
      "source": [
        "Doing computations on a DataFrame"
      ]
    },
    {
      "cell_type": "code",
      "metadata": {
        "id": "kNbt_LaaKCtd",
        "outputId": "6b6b6fcc-12e4-4294-ce67-5ade58b09dfa",
        "colab": {
          "base_uri": "https://localhost:8080/",
          "height": 419
        }
      },
      "source": [
        "simple_county_data"
      ],
      "execution_count": 24,
      "outputs": [
        {
          "output_type": "execute_result",
          "data": {
            "text/html": [
              "<div>\n",
              "<style scoped>\n",
              "    .dataframe tbody tr th:only-of-type {\n",
              "        vertical-align: middle;\n",
              "    }\n",
              "\n",
              "    .dataframe tbody tr th {\n",
              "        vertical-align: top;\n",
              "    }\n",
              "\n",
              "    .dataframe thead th {\n",
              "        text-align: right;\n",
              "    }\n",
              "</style>\n",
              "<table border=\"1\" class=\"dataframe\">\n",
              "  <thead>\n",
              "    <tr style=\"text-align: right;\">\n",
              "      <th></th>\n",
              "      <th>county</th>\n",
              "      <th>state</th>\n",
              "      <th>cases</th>\n",
              "      <th>confirmed_cases</th>\n",
              "      <th>deaths</th>\n",
              "    </tr>\n",
              "  </thead>\n",
              "  <tbody>\n",
              "    <tr>\n",
              "      <th>0</th>\n",
              "      <td>Autauga</td>\n",
              "      <td>Alabama</td>\n",
              "      <td>7230</td>\n",
              "      <td>6057.0</td>\n",
              "      <td>113.0</td>\n",
              "    </tr>\n",
              "    <tr>\n",
              "      <th>1</th>\n",
              "      <td>Baldwin</td>\n",
              "      <td>Alabama</td>\n",
              "      <td>21839</td>\n",
              "      <td>15370.0</td>\n",
              "      <td>313.0</td>\n",
              "    </tr>\n",
              "    <tr>\n",
              "      <th>2</th>\n",
              "      <td>Barbour</td>\n",
              "      <td>Alabama</td>\n",
              "      <td>2346</td>\n",
              "      <td>1315.0</td>\n",
              "      <td>59.0</td>\n",
              "    </tr>\n",
              "    <tr>\n",
              "      <th>3</th>\n",
              "      <td>Bibb</td>\n",
              "      <td>Alabama</td>\n",
              "      <td>2684</td>\n",
              "      <td>2149.0</td>\n",
              "      <td>64.0</td>\n",
              "    </tr>\n",
              "    <tr>\n",
              "      <th>4</th>\n",
              "      <td>Blount</td>\n",
              "      <td>Alabama</td>\n",
              "      <td>6944</td>\n",
              "      <td>5305.0</td>\n",
              "      <td>139.0</td>\n",
              "    </tr>\n",
              "    <tr>\n",
              "      <th>...</th>\n",
              "      <td>...</td>\n",
              "      <td>...</td>\n",
              "      <td>...</td>\n",
              "      <td>...</td>\n",
              "      <td>...</td>\n",
              "    </tr>\n",
              "    <tr>\n",
              "      <th>3242</th>\n",
              "      <td>Sweetwater</td>\n",
              "      <td>Wyoming</td>\n",
              "      <td>4664</td>\n",
              "      <td>4441.0</td>\n",
              "      <td>40.0</td>\n",
              "    </tr>\n",
              "    <tr>\n",
              "      <th>3243</th>\n",
              "      <td>Teton</td>\n",
              "      <td>Wyoming</td>\n",
              "      <td>3797</td>\n",
              "      <td>3708.0</td>\n",
              "      <td>11.0</td>\n",
              "    </tr>\n",
              "    <tr>\n",
              "      <th>3244</th>\n",
              "      <td>Uinta</td>\n",
              "      <td>Wyoming</td>\n",
              "      <td>2302</td>\n",
              "      <td>1969.0</td>\n",
              "      <td>13.0</td>\n",
              "    </tr>\n",
              "    <tr>\n",
              "      <th>3245</th>\n",
              "      <td>Washakie</td>\n",
              "      <td>Wyoming</td>\n",
              "      <td>924</td>\n",
              "      <td>724.0</td>\n",
              "      <td>26.0</td>\n",
              "    </tr>\n",
              "    <tr>\n",
              "      <th>3246</th>\n",
              "      <td>Weston</td>\n",
              "      <td>Wyoming</td>\n",
              "      <td>656</td>\n",
              "      <td>551.0</td>\n",
              "      <td>6.0</td>\n",
              "    </tr>\n",
              "  </tbody>\n",
              "</table>\n",
              "<p>3247 rows × 5 columns</p>\n",
              "</div>"
            ],
            "text/plain": [
              "          county    state  cases  confirmed_cases  deaths\n",
              "0        Autauga  Alabama   7230           6057.0   113.0\n",
              "1        Baldwin  Alabama  21839          15370.0   313.0\n",
              "2        Barbour  Alabama   2346           1315.0    59.0\n",
              "3           Bibb  Alabama   2684           2149.0    64.0\n",
              "4         Blount  Alabama   6944           5305.0   139.0\n",
              "...          ...      ...    ...              ...     ...\n",
              "3242  Sweetwater  Wyoming   4664           4441.0    40.0\n",
              "3243       Teton  Wyoming   3797           3708.0    11.0\n",
              "3244       Uinta  Wyoming   2302           1969.0    13.0\n",
              "3245    Washakie  Wyoming    924            724.0    26.0\n",
              "3246      Weston  Wyoming    656            551.0     6.0\n",
              "\n",
              "[3247 rows x 5 columns]"
            ]
          },
          "metadata": {
            "tags": []
          },
          "execution_count": 24
        }
      ]
    },
    {
      "cell_type": "code",
      "metadata": {
        "id": "k-dF9vXYKGWV",
        "outputId": "6be58ff6-7804-4d70-9ceb-e7099346af9e",
        "colab": {
          "base_uri": "https://localhost:8080/"
        }
      },
      "source": [
        "simple_county_data.max()"
      ],
      "execution_count": 25,
      "outputs": [
        {
          "output_type": "execute_result",
          "data": {
            "text/plain": [
              "county                 Ziebach\n",
              "state                  Wyoming\n",
              "cases                  1247488\n",
              "confirmed_cases    1.24682e+06\n",
              "deaths                   33358\n",
              "dtype: object"
            ]
          },
          "metadata": {
            "tags": []
          },
          "execution_count": 25
        }
      ]
    },
    {
      "cell_type": "code",
      "metadata": {
        "id": "-d2SRd-4KUGJ",
        "outputId": "dee6a4a8-1924-4843-a96c-3033b210a7b5",
        "colab": {
          "base_uri": "https://localhost:8080/"
        }
      },
      "source": [
        "simple_county_data['deaths'].sum()"
      ],
      "execution_count": 26,
      "outputs": [
        {
          "output_type": "execute_result",
          "data": {
            "text/plain": [
              "600244.0"
            ]
          },
          "metadata": {
            "tags": []
          },
          "execution_count": 26
        }
      ]
    },
    {
      "cell_type": "code",
      "metadata": {
        "id": "xyeH-EndKiTH",
        "outputId": "c1fb375a-ed36-4100-edad-3226470a3d3a",
        "colab": {
          "base_uri": "https://localhost:8080/"
        }
      },
      "source": [
        "simple_county_data['deaths'].mean()"
      ],
      "execution_count": 27,
      "outputs": [
        {
          "output_type": "execute_result",
          "data": {
            "text/plain": [
              "189.4111707163143"
            ]
          },
          "metadata": {
            "tags": []
          },
          "execution_count": 27
        }
      ]
    },
    {
      "cell_type": "code",
      "metadata": {
        "id": "DH33s9FhKnGj",
        "outputId": "3789e4ed-325a-4d5c-e628-b48cd0cac93f",
        "colab": {
          "base_uri": "https://localhost:8080/"
        }
      },
      "source": [
        "simple_county_data['deaths'].argmax()"
      ],
      "execution_count": 28,
      "outputs": [
        {
          "output_type": "execute_result",
          "data": {
            "text/plain": [
              "1874"
            ]
          },
          "metadata": {
            "tags": []
          },
          "execution_count": 28
        }
      ]
    },
    {
      "cell_type": "code",
      "metadata": {
        "id": "aTLPX9FlK7_y",
        "outputId": "8e9f3d4b-b5a7-4649-8868-b9fd4bec8477",
        "colab": {
          "base_uri": "https://localhost:8080/"
        }
      },
      "source": [
        "simple_county_data.iloc[1874]"
      ],
      "execution_count": 30,
      "outputs": [
        {
          "output_type": "execute_result",
          "data": {
            "text/plain": [
              "county             New York City\n",
              "state                   New York\n",
              "cases                     953079\n",
              "confirmed_cases           937749\n",
              "deaths                     33358\n",
              "Name: 1874, dtype: object"
            ]
          },
          "metadata": {
            "tags": []
          },
          "execution_count": 30
        }
      ]
    },
    {
      "cell_type": "markdown",
      "metadata": {
        "id": "RWDJllw4Lotw"
      },
      "source": [
        "Exercise: What is the county with maximum number of COVID confirmed cases?"
      ]
    },
    {
      "cell_type": "code",
      "metadata": {
        "id": "uRolLgmMMMyf",
        "outputId": "7b7020ee-60c7-48bd-fe6c-256eba2bbc44",
        "colab": {
          "base_uri": "https://localhost:8080/"
        }
      },
      "source": [
        "simple_county_data['confirmed_cases'].argmax()"
      ],
      "execution_count": 31,
      "outputs": [
        {
          "output_type": "execute_result",
          "data": {
            "text/plain": [
              "205"
            ]
          },
          "metadata": {
            "tags": []
          },
          "execution_count": 31
        }
      ]
    },
    {
      "cell_type": "code",
      "metadata": {
        "id": "yZ86SEo-MToU",
        "outputId": "37e839ee-452e-4dcf-e318-dce0903210de",
        "colab": {
          "base_uri": "https://localhost:8080/"
        }
      },
      "source": [
        "simple_county_data.iloc[205]"
      ],
      "execution_count": 32,
      "outputs": [
        {
          "output_type": "execute_result",
          "data": {
            "text/plain": [
              "county             Los Angeles\n",
              "state               California\n",
              "cases                  1247488\n",
              "confirmed_cases    1.24682e+06\n",
              "deaths                   24435\n",
              "Name: 205, dtype: object"
            ]
          },
          "metadata": {
            "tags": []
          },
          "execution_count": 32
        }
      ]
    },
    {
      "cell_type": "markdown",
      "metadata": {
        "id": "YyM-ahBeMvl4"
      },
      "source": [
        "**Mask**. A list of Booleans (True / False) - one per row / column of the dataframe"
      ]
    },
    {
      "cell_type": "code",
      "metadata": {
        "id": "_qGxOo7ZMuwv",
        "outputId": "d36d287f-d9c3-49e1-e18c-a9b1da430de9",
        "colab": {
          "base_uri": "https://localhost:8080/"
        }
      },
      "source": [
        "simple_county_data['state']"
      ],
      "execution_count": 33,
      "outputs": [
        {
          "output_type": "execute_result",
          "data": {
            "text/plain": [
              "0       Alabama\n",
              "1       Alabama\n",
              "2       Alabama\n",
              "3       Alabama\n",
              "4       Alabama\n",
              "         ...   \n",
              "3242    Wyoming\n",
              "3243    Wyoming\n",
              "3244    Wyoming\n",
              "3245    Wyoming\n",
              "3246    Wyoming\n",
              "Name: state, Length: 3247, dtype: object"
            ]
          },
          "metadata": {
            "tags": []
          },
          "execution_count": 33
        }
      ]
    },
    {
      "cell_type": "code",
      "metadata": {
        "id": "edTTgJ1WNA8w",
        "outputId": "d5802aaa-bdca-4e72-a92e-b61cdafbbbb2",
        "colab": {
          "base_uri": "https://localhost:8080/"
        }
      },
      "source": [
        "simple_county_data['state'] == 'Alabama' # ==; <; >; <=; >=, !="
      ],
      "execution_count": 37,
      "outputs": [
        {
          "output_type": "execute_result",
          "data": {
            "text/plain": [
              "0        True\n",
              "1        True\n",
              "2        True\n",
              "3        True\n",
              "4        True\n",
              "        ...  \n",
              "3242    False\n",
              "3243    False\n",
              "3244    False\n",
              "3245    False\n",
              "3246    False\n",
              "Name: state, Length: 3247, dtype: bool"
            ]
          },
          "metadata": {
            "tags": []
          },
          "execution_count": 37
        }
      ]
    },
    {
      "cell_type": "code",
      "metadata": {
        "id": "W37VHH1SNYVS",
        "outputId": "e9d8ef4d-9a40-470e-bc02-c2f36deb0059",
        "colab": {
          "base_uri": "https://localhost:8080/"
        }
      },
      "source": [
        "simple_county_data['deaths'] > 10"
      ],
      "execution_count": 35,
      "outputs": [
        {
          "output_type": "execute_result",
          "data": {
            "text/plain": [
              "0        True\n",
              "1        True\n",
              "2        True\n",
              "3        True\n",
              "4        True\n",
              "        ...  \n",
              "3242     True\n",
              "3243     True\n",
              "3244     True\n",
              "3245     True\n",
              "3246    False\n",
              "Name: deaths, Length: 3247, dtype: bool"
            ]
          },
          "metadata": {
            "tags": []
          },
          "execution_count": 35
        }
      ]
    },
    {
      "cell_type": "code",
      "metadata": {
        "id": "2_Y1nWI3NfYm"
      },
      "source": [
        "california_mask = simple_county_data['state'] == 'California'"
      ],
      "execution_count": 38,
      "outputs": []
    },
    {
      "cell_type": "code",
      "metadata": {
        "id": "JCC3UioNN9ha",
        "outputId": "df9fe55f-e89d-4b77-f764-98cc7b409b7d",
        "colab": {
          "base_uri": "https://localhost:8080/",
          "height": 1000
        }
      },
      "source": [
        "simple_county_data_CA = simple_county_data.loc[california_mask]\n",
        "simple_county_data_CA"
      ],
      "execution_count": 40,
      "outputs": [
        {
          "output_type": "execute_result",
          "data": {
            "text/html": [
              "<div>\n",
              "<style scoped>\n",
              "    .dataframe tbody tr th:only-of-type {\n",
              "        vertical-align: middle;\n",
              "    }\n",
              "\n",
              "    .dataframe tbody tr th {\n",
              "        vertical-align: top;\n",
              "    }\n",
              "\n",
              "    .dataframe thead th {\n",
              "        text-align: right;\n",
              "    }\n",
              "</style>\n",
              "<table border=\"1\" class=\"dataframe\">\n",
              "  <thead>\n",
              "    <tr style=\"text-align: right;\">\n",
              "      <th></th>\n",
              "      <th>county</th>\n",
              "      <th>state</th>\n",
              "      <th>cases</th>\n",
              "      <th>confirmed_cases</th>\n",
              "      <th>deaths</th>\n",
              "    </tr>\n",
              "  </thead>\n",
              "  <tbody>\n",
              "    <tr>\n",
              "      <th>187</th>\n",
              "      <td>Alameda</td>\n",
              "      <td>California</td>\n",
              "      <td>89557</td>\n",
              "      <td>89557.0</td>\n",
              "      <td>1275.0</td>\n",
              "    </tr>\n",
              "    <tr>\n",
              "      <th>188</th>\n",
              "      <td>Alpine</td>\n",
              "      <td>California</td>\n",
              "      <td>89</td>\n",
              "      <td>88.0</td>\n",
              "      <td>0.0</td>\n",
              "    </tr>\n",
              "    <tr>\n",
              "      <th>189</th>\n",
              "      <td>Amador</td>\n",
              "      <td>California</td>\n",
              "      <td>3722</td>\n",
              "      <td>3722.0</td>\n",
              "      <td>47.0</td>\n",
              "    </tr>\n",
              "    <tr>\n",
              "      <th>190</th>\n",
              "      <td>Butte</td>\n",
              "      <td>California</td>\n",
              "      <td>12620</td>\n",
              "      <td>12620.0</td>\n",
              "      <td>194.0</td>\n",
              "    </tr>\n",
              "    <tr>\n",
              "      <th>191</th>\n",
              "      <td>Calaveras</td>\n",
              "      <td>California</td>\n",
              "      <td>2201</td>\n",
              "      <td>2188.0</td>\n",
              "      <td>56.0</td>\n",
              "    </tr>\n",
              "    <tr>\n",
              "      <th>192</th>\n",
              "      <td>Colusa</td>\n",
              "      <td>California</td>\n",
              "      <td>2279</td>\n",
              "      <td>1967.0</td>\n",
              "      <td>18.0</td>\n",
              "    </tr>\n",
              "    <tr>\n",
              "      <th>193</th>\n",
              "      <td>Contra Costa</td>\n",
              "      <td>California</td>\n",
              "      <td>70428</td>\n",
              "      <td>70428.0</td>\n",
              "      <td>810.0</td>\n",
              "    </tr>\n",
              "    <tr>\n",
              "      <th>194</th>\n",
              "      <td>Del Norte</td>\n",
              "      <td>California</td>\n",
              "      <td>1454</td>\n",
              "      <td>1454.0</td>\n",
              "      <td>8.0</td>\n",
              "    </tr>\n",
              "    <tr>\n",
              "      <th>195</th>\n",
              "      <td>El Dorado</td>\n",
              "      <td>California</td>\n",
              "      <td>10351</td>\n",
              "      <td>10330.0</td>\n",
              "      <td>116.0</td>\n",
              "    </tr>\n",
              "    <tr>\n",
              "      <th>196</th>\n",
              "      <td>Fresno</td>\n",
              "      <td>California</td>\n",
              "      <td>102828</td>\n",
              "      <td>102828.0</td>\n",
              "      <td>1722.0</td>\n",
              "    </tr>\n",
              "    <tr>\n",
              "      <th>197</th>\n",
              "      <td>Glenn</td>\n",
              "      <td>California</td>\n",
              "      <td>2952</td>\n",
              "      <td>2426.0</td>\n",
              "      <td>27.0</td>\n",
              "    </tr>\n",
              "    <tr>\n",
              "      <th>198</th>\n",
              "      <td>Humboldt</td>\n",
              "      <td>California</td>\n",
              "      <td>4451</td>\n",
              "      <td>4451.0</td>\n",
              "      <td>48.0</td>\n",
              "    </tr>\n",
              "    <tr>\n",
              "      <th>199</th>\n",
              "      <td>Imperial</td>\n",
              "      <td>California</td>\n",
              "      <td>28789</td>\n",
              "      <td>28789.0</td>\n",
              "      <td>740.0</td>\n",
              "    </tr>\n",
              "    <tr>\n",
              "      <th>200</th>\n",
              "      <td>Inyo</td>\n",
              "      <td>California</td>\n",
              "      <td>1434</td>\n",
              "      <td>1405.0</td>\n",
              "      <td>38.0</td>\n",
              "    </tr>\n",
              "    <tr>\n",
              "      <th>201</th>\n",
              "      <td>Kern</td>\n",
              "      <td>California</td>\n",
              "      <td>110687</td>\n",
              "      <td>110687.0</td>\n",
              "      <td>1401.0</td>\n",
              "    </tr>\n",
              "    <tr>\n",
              "      <th>202</th>\n",
              "      <td>Kings</td>\n",
              "      <td>California</td>\n",
              "      <td>23178</td>\n",
              "      <td>23178.0</td>\n",
              "      <td>247.0</td>\n",
              "    </tr>\n",
              "    <tr>\n",
              "      <th>203</th>\n",
              "      <td>Lake</td>\n",
              "      <td>California</td>\n",
              "      <td>3559</td>\n",
              "      <td>3559.0</td>\n",
              "      <td>45.0</td>\n",
              "    </tr>\n",
              "    <tr>\n",
              "      <th>204</th>\n",
              "      <td>Lassen</td>\n",
              "      <td>California</td>\n",
              "      <td>5782</td>\n",
              "      <td>5782.0</td>\n",
              "      <td>24.0</td>\n",
              "    </tr>\n",
              "    <tr>\n",
              "      <th>205</th>\n",
              "      <td>Los Angeles</td>\n",
              "      <td>California</td>\n",
              "      <td>1247488</td>\n",
              "      <td>1246821.0</td>\n",
              "      <td>24435.0</td>\n",
              "    </tr>\n",
              "    <tr>\n",
              "      <th>206</th>\n",
              "      <td>Madera</td>\n",
              "      <td>California</td>\n",
              "      <td>16600</td>\n",
              "      <td>16600.0</td>\n",
              "      <td>245.0</td>\n",
              "    </tr>\n",
              "    <tr>\n",
              "      <th>207</th>\n",
              "      <td>Marin</td>\n",
              "      <td>California</td>\n",
              "      <td>14135</td>\n",
              "      <td>14135.0</td>\n",
              "      <td>229.0</td>\n",
              "    </tr>\n",
              "    <tr>\n",
              "      <th>208</th>\n",
              "      <td>Mariposa</td>\n",
              "      <td>California</td>\n",
              "      <td>464</td>\n",
              "      <td>464.0</td>\n",
              "      <td>7.0</td>\n",
              "    </tr>\n",
              "    <tr>\n",
              "      <th>209</th>\n",
              "      <td>Mendocino</td>\n",
              "      <td>California</td>\n",
              "      <td>4289</td>\n",
              "      <td>4289.0</td>\n",
              "      <td>50.0</td>\n",
              "    </tr>\n",
              "    <tr>\n",
              "      <th>210</th>\n",
              "      <td>Merced</td>\n",
              "      <td>California</td>\n",
              "      <td>32278</td>\n",
              "      <td>32278.0</td>\n",
              "      <td>477.0</td>\n",
              "    </tr>\n",
              "    <tr>\n",
              "      <th>211</th>\n",
              "      <td>Modoc</td>\n",
              "      <td>California</td>\n",
              "      <td>383</td>\n",
              "      <td>383.0</td>\n",
              "      <td>3.0</td>\n",
              "    </tr>\n",
              "    <tr>\n",
              "      <th>212</th>\n",
              "      <td>Mono</td>\n",
              "      <td>California</td>\n",
              "      <td>1295</td>\n",
              "      <td>1275.0</td>\n",
              "      <td>4.0</td>\n",
              "    </tr>\n",
              "    <tr>\n",
              "      <th>213</th>\n",
              "      <td>Monterey</td>\n",
              "      <td>California</td>\n",
              "      <td>43821</td>\n",
              "      <td>43821.0</td>\n",
              "      <td>421.0</td>\n",
              "    </tr>\n",
              "    <tr>\n",
              "      <th>214</th>\n",
              "      <td>Napa</td>\n",
              "      <td>California</td>\n",
              "      <td>10011</td>\n",
              "      <td>10011.0</td>\n",
              "      <td>80.0</td>\n",
              "    </tr>\n",
              "    <tr>\n",
              "      <th>215</th>\n",
              "      <td>Nevada</td>\n",
              "      <td>California</td>\n",
              "      <td>4888</td>\n",
              "      <td>4888.0</td>\n",
              "      <td>75.0</td>\n",
              "    </tr>\n",
              "    <tr>\n",
              "      <th>216</th>\n",
              "      <td>Orange</td>\n",
              "      <td>California</td>\n",
              "      <td>272827</td>\n",
              "      <td>255728.0</td>\n",
              "      <td>5105.0</td>\n",
              "    </tr>\n",
              "    <tr>\n",
              "      <th>217</th>\n",
              "      <td>Placer</td>\n",
              "      <td>California</td>\n",
              "      <td>23438</td>\n",
              "      <td>23438.0</td>\n",
              "      <td>299.0</td>\n",
              "    </tr>\n",
              "    <tr>\n",
              "      <th>218</th>\n",
              "      <td>Plumas</td>\n",
              "      <td>California</td>\n",
              "      <td>735</td>\n",
              "      <td>697.0</td>\n",
              "      <td>6.0</td>\n",
              "    </tr>\n",
              "    <tr>\n",
              "      <th>219</th>\n",
              "      <td>Riverside</td>\n",
              "      <td>California</td>\n",
              "      <td>301482</td>\n",
              "      <td>301482.0</td>\n",
              "      <td>4624.0</td>\n",
              "    </tr>\n",
              "    <tr>\n",
              "      <th>220</th>\n",
              "      <td>Sacramento</td>\n",
              "      <td>California</td>\n",
              "      <td>107493</td>\n",
              "      <td>107493.0</td>\n",
              "      <td>1726.0</td>\n",
              "    </tr>\n",
              "    <tr>\n",
              "      <th>221</th>\n",
              "      <td>San Benito</td>\n",
              "      <td>California</td>\n",
              "      <td>6089</td>\n",
              "      <td>6089.0</td>\n",
              "      <td>63.0</td>\n",
              "    </tr>\n",
              "    <tr>\n",
              "      <th>222</th>\n",
              "      <td>San Bernardino</td>\n",
              "      <td>California</td>\n",
              "      <td>299096</td>\n",
              "      <td>299096.0</td>\n",
              "      <td>4790.0</td>\n",
              "    </tr>\n",
              "    <tr>\n",
              "      <th>223</th>\n",
              "      <td>San Diego</td>\n",
              "      <td>California</td>\n",
              "      <td>281438</td>\n",
              "      <td>281438.0</td>\n",
              "      <td>3770.0</td>\n",
              "    </tr>\n",
              "    <tr>\n",
              "      <th>224</th>\n",
              "      <td>San Francisco</td>\n",
              "      <td>California</td>\n",
              "      <td>37213</td>\n",
              "      <td>37213.0</td>\n",
              "      <td>555.0</td>\n",
              "    </tr>\n",
              "    <tr>\n",
              "      <th>225</th>\n",
              "      <td>San Joaquin</td>\n",
              "      <td>California</td>\n",
              "      <td>74596</td>\n",
              "      <td>74596.0</td>\n",
              "      <td>1435.0</td>\n",
              "    </tr>\n",
              "    <tr>\n",
              "      <th>226</th>\n",
              "      <td>San Luis Obispo</td>\n",
              "      <td>California</td>\n",
              "      <td>21421</td>\n",
              "      <td>21421.0</td>\n",
              "      <td>261.0</td>\n",
              "    </tr>\n",
              "    <tr>\n",
              "      <th>227</th>\n",
              "      <td>San Mateo</td>\n",
              "      <td>California</td>\n",
              "      <td>42593</td>\n",
              "      <td>42593.0</td>\n",
              "      <td>581.0</td>\n",
              "    </tr>\n",
              "    <tr>\n",
              "      <th>228</th>\n",
              "      <td>Santa Barbara</td>\n",
              "      <td>California</td>\n",
              "      <td>34587</td>\n",
              "      <td>34587.0</td>\n",
              "      <td>460.0</td>\n",
              "    </tr>\n",
              "    <tr>\n",
              "      <th>229</th>\n",
              "      <td>Santa Clara</td>\n",
              "      <td>California</td>\n",
              "      <td>119963</td>\n",
              "      <td>119963.0</td>\n",
              "      <td>2180.0</td>\n",
              "    </tr>\n",
              "    <tr>\n",
              "      <th>230</th>\n",
              "      <td>Santa Cruz</td>\n",
              "      <td>California</td>\n",
              "      <td>16222</td>\n",
              "      <td>16222.0</td>\n",
              "      <td>208.0</td>\n",
              "    </tr>\n",
              "    <tr>\n",
              "      <th>231</th>\n",
              "      <td>Shasta</td>\n",
              "      <td>California</td>\n",
              "      <td>12630</td>\n",
              "      <td>12630.0</td>\n",
              "      <td>233.0</td>\n",
              "    </tr>\n",
              "    <tr>\n",
              "      <th>232</th>\n",
              "      <td>Sierra</td>\n",
              "      <td>California</td>\n",
              "      <td>55</td>\n",
              "      <td>55.0</td>\n",
              "      <td>0.0</td>\n",
              "    </tr>\n",
              "    <tr>\n",
              "      <th>233</th>\n",
              "      <td>Siskiyou</td>\n",
              "      <td>California</td>\n",
              "      <td>2392</td>\n",
              "      <td>2392.0</td>\n",
              "      <td>37.0</td>\n",
              "    </tr>\n",
              "    <tr>\n",
              "      <th>234</th>\n",
              "      <td>Solano</td>\n",
              "      <td>California</td>\n",
              "      <td>33656</td>\n",
              "      <td>33656.0</td>\n",
              "      <td>266.0</td>\n",
              "    </tr>\n",
              "    <tr>\n",
              "      <th>235</th>\n",
              "      <td>Sonoma</td>\n",
              "      <td>California</td>\n",
              "      <td>30752</td>\n",
              "      <td>30752.0</td>\n",
              "      <td>323.0</td>\n",
              "    </tr>\n",
              "    <tr>\n",
              "      <th>236</th>\n",
              "      <td>Stanislaus</td>\n",
              "      <td>California</td>\n",
              "      <td>63302</td>\n",
              "      <td>56724.0</td>\n",
              "      <td>1068.0</td>\n",
              "    </tr>\n",
              "    <tr>\n",
              "      <th>237</th>\n",
              "      <td>Sutter</td>\n",
              "      <td>California</td>\n",
              "      <td>9638</td>\n",
              "      <td>9638.0</td>\n",
              "      <td>113.0</td>\n",
              "    </tr>\n",
              "    <tr>\n",
              "      <th>238</th>\n",
              "      <td>Tehama</td>\n",
              "      <td>California</td>\n",
              "      <td>5102</td>\n",
              "      <td>5102.0</td>\n",
              "      <td>63.0</td>\n",
              "    </tr>\n",
              "    <tr>\n",
              "      <th>239</th>\n",
              "      <td>Trinity</td>\n",
              "      <td>California</td>\n",
              "      <td>333</td>\n",
              "      <td>333.0</td>\n",
              "      <td>3.0</td>\n",
              "    </tr>\n",
              "    <tr>\n",
              "      <th>240</th>\n",
              "      <td>Tulare</td>\n",
              "      <td>California</td>\n",
              "      <td>49768</td>\n",
              "      <td>49768.0</td>\n",
              "      <td>849.0</td>\n",
              "    </tr>\n",
              "    <tr>\n",
              "      <th>241</th>\n",
              "      <td>Tuolumne</td>\n",
              "      <td>California</td>\n",
              "      <td>4206</td>\n",
              "      <td>4206.0</td>\n",
              "      <td>71.0</td>\n",
              "    </tr>\n",
              "    <tr>\n",
              "      <th>242</th>\n",
              "      <td>Ventura</td>\n",
              "      <td>California</td>\n",
              "      <td>81572</td>\n",
              "      <td>81572.0</td>\n",
              "      <td>1029.0</td>\n",
              "    </tr>\n",
              "    <tr>\n",
              "      <th>243</th>\n",
              "      <td>Yolo</td>\n",
              "      <td>California</td>\n",
              "      <td>14127</td>\n",
              "      <td>14127.0</td>\n",
              "      <td>212.0</td>\n",
              "    </tr>\n",
              "    <tr>\n",
              "      <th>244</th>\n",
              "      <td>Yuba</td>\n",
              "      <td>California</td>\n",
              "      <td>6464</td>\n",
              "      <td>6464.0</td>\n",
              "      <td>51.0</td>\n",
              "    </tr>\n",
              "  </tbody>\n",
              "</table>\n",
              "</div>"
            ],
            "text/plain": [
              "              county       state    cases  confirmed_cases   deaths\n",
              "187          Alameda  California    89557          89557.0   1275.0\n",
              "188           Alpine  California       89             88.0      0.0\n",
              "189           Amador  California     3722           3722.0     47.0\n",
              "190            Butte  California    12620          12620.0    194.0\n",
              "191        Calaveras  California     2201           2188.0     56.0\n",
              "192           Colusa  California     2279           1967.0     18.0\n",
              "193     Contra Costa  California    70428          70428.0    810.0\n",
              "194        Del Norte  California     1454           1454.0      8.0\n",
              "195        El Dorado  California    10351          10330.0    116.0\n",
              "196           Fresno  California   102828         102828.0   1722.0\n",
              "197            Glenn  California     2952           2426.0     27.0\n",
              "198         Humboldt  California     4451           4451.0     48.0\n",
              "199         Imperial  California    28789          28789.0    740.0\n",
              "200             Inyo  California     1434           1405.0     38.0\n",
              "201             Kern  California   110687         110687.0   1401.0\n",
              "202            Kings  California    23178          23178.0    247.0\n",
              "203             Lake  California     3559           3559.0     45.0\n",
              "204           Lassen  California     5782           5782.0     24.0\n",
              "205      Los Angeles  California  1247488        1246821.0  24435.0\n",
              "206           Madera  California    16600          16600.0    245.0\n",
              "207            Marin  California    14135          14135.0    229.0\n",
              "208         Mariposa  California      464            464.0      7.0\n",
              "209        Mendocino  California     4289           4289.0     50.0\n",
              "210           Merced  California    32278          32278.0    477.0\n",
              "211            Modoc  California      383            383.0      3.0\n",
              "212             Mono  California     1295           1275.0      4.0\n",
              "213         Monterey  California    43821          43821.0    421.0\n",
              "214             Napa  California    10011          10011.0     80.0\n",
              "215           Nevada  California     4888           4888.0     75.0\n",
              "216           Orange  California   272827         255728.0   5105.0\n",
              "217           Placer  California    23438          23438.0    299.0\n",
              "218           Plumas  California      735            697.0      6.0\n",
              "219        Riverside  California   301482         301482.0   4624.0\n",
              "220       Sacramento  California   107493         107493.0   1726.0\n",
              "221       San Benito  California     6089           6089.0     63.0\n",
              "222   San Bernardino  California   299096         299096.0   4790.0\n",
              "223        San Diego  California   281438         281438.0   3770.0\n",
              "224    San Francisco  California    37213          37213.0    555.0\n",
              "225      San Joaquin  California    74596          74596.0   1435.0\n",
              "226  San Luis Obispo  California    21421          21421.0    261.0\n",
              "227        San Mateo  California    42593          42593.0    581.0\n",
              "228    Santa Barbara  California    34587          34587.0    460.0\n",
              "229      Santa Clara  California   119963         119963.0   2180.0\n",
              "230       Santa Cruz  California    16222          16222.0    208.0\n",
              "231           Shasta  California    12630          12630.0    233.0\n",
              "232           Sierra  California       55             55.0      0.0\n",
              "233         Siskiyou  California     2392           2392.0     37.0\n",
              "234           Solano  California    33656          33656.0    266.0\n",
              "235           Sonoma  California    30752          30752.0    323.0\n",
              "236       Stanislaus  California    63302          56724.0   1068.0\n",
              "237           Sutter  California     9638           9638.0    113.0\n",
              "238           Tehama  California     5102           5102.0     63.0\n",
              "239          Trinity  California      333            333.0      3.0\n",
              "240           Tulare  California    49768          49768.0    849.0\n",
              "241         Tuolumne  California     4206           4206.0     71.0\n",
              "242          Ventura  California    81572          81572.0   1029.0\n",
              "243             Yolo  California    14127          14127.0    212.0\n",
              "244             Yuba  California     6464           6464.0     51.0"
            ]
          },
          "metadata": {
            "tags": []
          },
          "execution_count": 40
        }
      ]
    },
    {
      "cell_type": "markdown",
      "metadata": {
        "id": "XOqzXUX5Oa-O"
      },
      "source": [
        "**Plotting**"
      ]
    },
    {
      "cell_type": "code",
      "metadata": {
        "id": "999eNBExOdsw",
        "outputId": "185d9c67-6a6b-4a83-9f29-452123f8a054",
        "colab": {
          "base_uri": "https://localhost:8080/",
          "height": 485
        }
      },
      "source": [
        "simple_county_data_CA.plot.bar(x='county', y='cases', figsize=(10, 6))"
      ],
      "execution_count": 43,
      "outputs": [
        {
          "output_type": "execute_result",
          "data": {
            "text/plain": [
              "<matplotlib.axes._subplots.AxesSubplot at 0x7f48597226d0>"
            ]
          },
          "metadata": {
            "tags": []
          },
          "execution_count": 43
        },
        {
          "output_type": "display_data",
          "data": {
            "image/png": "[encoded data removed]",
            "text/plain": [
              "<Figure size 720x432 with 1 Axes>"
            ]
          },
          "metadata": {
            "tags": [],
            "needs_background": "light"
          }
        }
      ]
    },
    {
      "cell_type": "markdown",
      "metadata": {
        "id": "yZjLYRzLSP3_"
      },
      "source": [
        "**Exercise**: Plot a bar graph of the number of COVID19 deaths per county in California. Does it line up with the case counts above? "
      ]
    },
    {
      "cell_type": "code",
      "metadata": {
        "id": "3aTRdl7WSuFG",
        "outputId": "f05408aa-07f5-4648-ca77-8683b08ae1fb",
        "colab": {
          "base_uri": "https://localhost:8080/",
          "height": 474
        }
      },
      "source": [
        "simple_county_data_CA.plot.bar(x='county', y='deaths', figsize=(10, 6))"
      ],
      "execution_count": 44,
      "outputs": [
        {
          "output_type": "execute_result",
          "data": {
            "text/plain": [
              "<matplotlib.axes._subplots.AxesSubplot at 0x7f4858f70350>"
            ]
          },
          "metadata": {
            "tags": []
          },
          "execution_count": 44
        },
        {
          "output_type": "display_data",
          "data": {
            "image/png": "[encoded data removed]",
            "text/plain": [
              "<Figure size 720x432 with 1 Axes>"
            ]
          },
          "metadata": {
            "tags": [],
            "needs_background": "light"
          }
        }
      ]
    },
    {
      "cell_type": "markdown",
      "metadata": {
        "id": "_cAr0renS3sq"
      },
      "source": [
        "Sorting and filtering"
      ]
    },
    {
      "cell_type": "code",
      "metadata": {
        "id": "pDlQH3VkS-mX",
        "outputId": "fc3e3233-38e8-4a7f-f890-01e903e88457",
        "colab": {
          "base_uri": "https://localhost:8080/",
          "height": 1000
        }
      },
      "source": [
        "simple_county_data_CA"
      ],
      "execution_count": 45,
      "outputs": [
        {
          "output_type": "execute_result",
          "data": {
            "text/html": [
              "<div>\n",
              "<style scoped>\n",
              "    .dataframe tbody tr th:only-of-type {\n",
              "        vertical-align: middle;\n",
              "    }\n",
              "\n",
              "    .dataframe tbody tr th {\n",
              "        vertical-align: top;\n",
              "    }\n",
              "\n",
              "    .dataframe thead th {\n",
              "        text-align: right;\n",
              "    }\n",
              "</style>\n",
              "<table border=\"1\" class=\"dataframe\">\n",
              "  <thead>\n",
              "    <tr style=\"text-align: right;\">\n",
              "      <th></th>\n",
              "      <th>county</th>\n",
              "      <th>state</th>\n",
              "      <th>cases</th>\n",
              "      <th>confirmed_cases</th>\n",
              "      <th>deaths</th>\n",
              "    </tr>\n",
              "  </thead>\n",
              "  <tbody>\n",
              "    <tr>\n",
              "      <th>187</th>\n",
              "      <td>Alameda</td>\n",
              "      <td>California</td>\n",
              "      <td>89557</td>\n",
              "      <td>89557.0</td>\n",
              "      <td>1275.0</td>\n",
              "    </tr>\n",
              "    <tr>\n",
              "      <th>188</th>\n",
              "      <td>Alpine</td>\n",
              "      <td>California</td>\n",
              "      <td>89</td>\n",
              "      <td>88.0</td>\n",
              "      <td>0.0</td>\n",
              "    </tr>\n",
              "    <tr>\n",
              "      <th>189</th>\n",
              "      <td>Amador</td>\n",
              "      <td>California</td>\n",
              "      <td>3722</td>\n",
              "      <td>3722.0</td>\n",
              "      <td>47.0</td>\n",
              "    </tr>\n",
              "    <tr>\n",
              "      <th>190</th>\n",
              "      <td>Butte</td>\n",
              "      <td>California</td>\n",
              "      <td>12620</td>\n",
              "      <td>12620.0</td>\n",
              "      <td>194.0</td>\n",
              "    </tr>\n",
              "    <tr>\n",
              "      <th>191</th>\n",
              "      <td>Calaveras</td>\n",
              "      <td>California</td>\n",
              "      <td>2201</td>\n",
              "      <td>2188.0</td>\n",
              "      <td>56.0</td>\n",
              "    </tr>\n",
              "    <tr>\n",
              "      <th>192</th>\n",
              "      <td>Colusa</td>\n",
              "      <td>California</td>\n",
              "      <td>2279</td>\n",
              "      <td>1967.0</td>\n",
              "      <td>18.0</td>\n",
              "    </tr>\n",
              "    <tr>\n",
              "      <th>193</th>\n",
              "      <td>Contra Costa</td>\n",
              "      <td>California</td>\n",
              "      <td>70428</td>\n",
              "      <td>70428.0</td>\n",
              "      <td>810.0</td>\n",
              "    </tr>\n",
              "    <tr>\n",
              "      <th>194</th>\n",
              "      <td>Del Norte</td>\n",
              "      <td>California</td>\n",
              "      <td>1454</td>\n",
              "      <td>1454.0</td>\n",
              "      <td>8.0</td>\n",
              "    </tr>\n",
              "    <tr>\n",
              "      <th>195</th>\n",
              "      <td>El Dorado</td>\n",
              "      <td>California</td>\n",
              "      <td>10351</td>\n",
              "      <td>10330.0</td>\n",
              "      <td>116.0</td>\n",
              "    </tr>\n",
              "    <tr>\n",
              "      <th>196</th>\n",
              "      <td>Fresno</td>\n",
              "      <td>California</td>\n",
              "      <td>102828</td>\n",
              "      <td>102828.0</td>\n",
              "      <td>1722.0</td>\n",
              "    </tr>\n",
              "    <tr>\n",
              "      <th>197</th>\n",
              "      <td>Glenn</td>\n",
              "      <td>California</td>\n",
              "      <td>2952</td>\n",
              "      <td>2426.0</td>\n",
              "      <td>27.0</td>\n",
              "    </tr>\n",
              "    <tr>\n",
              "      <th>198</th>\n",
              "      <td>Humboldt</td>\n",
              "      <td>California</td>\n",
              "      <td>4451</td>\n",
              "      <td>4451.0</td>\n",
              "      <td>48.0</td>\n",
              "    </tr>\n",
              "    <tr>\n",
              "      <th>199</th>\n",
              "      <td>Imperial</td>\n",
              "      <td>California</td>\n",
              "      <td>28789</td>\n",
              "      <td>28789.0</td>\n",
              "      <td>740.0</td>\n",
              "    </tr>\n",
              "    <tr>\n",
              "      <th>200</th>\n",
              "      <td>Inyo</td>\n",
              "      <td>California</td>\n",
              "      <td>1434</td>\n",
              "      <td>1405.0</td>\n",
              "      <td>38.0</td>\n",
              "    </tr>\n",
              "    <tr>\n",
              "      <th>201</th>\n",
              "      <td>Kern</td>\n",
              "      <td>California</td>\n",
              "      <td>110687</td>\n",
              "      <td>110687.0</td>\n",
              "      <td>1401.0</td>\n",
              "    </tr>\n",
              "    <tr>\n",
              "      <th>202</th>\n",
              "      <td>Kings</td>\n",
              "      <td>California</td>\n",
              "      <td>23178</td>\n",
              "      <td>23178.0</td>\n",
              "      <td>247.0</td>\n",
              "    </tr>\n",
              "    <tr>\n",
              "      <th>203</th>\n",
              "      <td>Lake</td>\n",
              "      <td>California</td>\n",
              "      <td>3559</td>\n",
              "      <td>3559.0</td>\n",
              "      <td>45.0</td>\n",
              "    </tr>\n",
              "    <tr>\n",
              "      <th>204</th>\n",
              "      <td>Lassen</td>\n",
              "      <td>California</td>\n",
              "      <td>5782</td>\n",
              "      <td>5782.0</td>\n",
              "      <td>24.0</td>\n",
              "    </tr>\n",
              "    <tr>\n",
              "      <th>205</th>\n",
              "      <td>Los Angeles</td>\n",
              "      <td>California</td>\n",
              "      <td>1247488</td>\n",
              "      <td>1246821.0</td>\n",
              "      <td>24435.0</td>\n",
              "    </tr>\n",
              "    <tr>\n",
              "      <th>206</th>\n",
              "      <td>Madera</td>\n",
              "      <td>California</td>\n",
              "      <td>16600</td>\n",
              "      <td>16600.0</td>\n",
              "      <td>245.0</td>\n",
              "    </tr>\n",
              "    <tr>\n",
              "      <th>207</th>\n",
              "      <td>Marin</td>\n",
              "      <td>California</td>\n",
              "      <td>14135</td>\n",
              "      <td>14135.0</td>\n",
              "      <td>229.0</td>\n",
              "    </tr>\n",
              "    <tr>\n",
              "      <th>208</th>\n",
              "      <td>Mariposa</td>\n",
              "      <td>California</td>\n",
              "      <td>464</td>\n",
              "      <td>464.0</td>\n",
              "      <td>7.0</td>\n",
              "    </tr>\n",
              "    <tr>\n",
              "      <th>209</th>\n",
              "      <td>Mendocino</td>\n",
              "      <td>California</td>\n",
              "      <td>4289</td>\n",
              "      <td>4289.0</td>\n",
              "      <td>50.0</td>\n",
              "    </tr>\n",
              "    <tr>\n",
              "      <th>210</th>\n",
              "      <td>Merced</td>\n",
              "      <td>California</td>\n",
              "      <td>32278</td>\n",
              "      <td>32278.0</td>\n",
              "      <td>477.0</td>\n",
              "    </tr>\n",
              "    <tr>\n",
              "      <th>211</th>\n",
              "      <td>Modoc</td>\n",
              "      <td>California</td>\n",
              "      <td>383</td>\n",
              "      <td>383.0</td>\n",
              "      <td>3.0</td>\n",
              "    </tr>\n",
              "    <tr>\n",
              "      <th>212</th>\n",
              "      <td>Mono</td>\n",
              "      <td>California</td>\n",
              "      <td>1295</td>\n",
              "      <td>1275.0</td>\n",
              "      <td>4.0</td>\n",
              "    </tr>\n",
              "    <tr>\n",
              "      <th>213</th>\n",
              "      <td>Monterey</td>\n",
              "      <td>California</td>\n",
              "      <td>43821</td>\n",
              "      <td>43821.0</td>\n",
              "      <td>421.0</td>\n",
              "    </tr>\n",
              "    <tr>\n",
              "      <th>214</th>\n",
              "      <td>Napa</td>\n",
              "      <td>California</td>\n",
              "      <td>10011</td>\n",
              "      <td>10011.0</td>\n",
              "      <td>80.0</td>\n",
              "    </tr>\n",
              "    <tr>\n",
              "      <th>215</th>\n",
              "      <td>Nevada</td>\n",
              "      <td>California</td>\n",
              "      <td>4888</td>\n",
              "      <td>4888.0</td>\n",
              "      <td>75.0</td>\n",
              "    </tr>\n",
              "    <tr>\n",
              "      <th>216</th>\n",
              "      <td>Orange</td>\n",
              "      <td>California</td>\n",
              "      <td>272827</td>\n",
              "      <td>255728.0</td>\n",
              "      <td>5105.0</td>\n",
              "    </tr>\n",
              "    <tr>\n",
              "      <th>217</th>\n",
              "      <td>Placer</td>\n",
              "      <td>California</td>\n",
              "      <td>23438</td>\n",
              "      <td>23438.0</td>\n",
              "      <td>299.0</td>\n",
              "    </tr>\n",
              "    <tr>\n",
              "      <th>218</th>\n",
              "      <td>Plumas</td>\n",
              "      <td>California</td>\n",
              "      <td>735</td>\n",
              "      <td>697.0</td>\n",
              "      <td>6.0</td>\n",
              "    </tr>\n",
              "    <tr>\n",
              "      <th>219</th>\n",
              "      <td>Riverside</td>\n",
              "      <td>California</td>\n",
              "      <td>301482</td>\n",
              "      <td>301482.0</td>\n",
              "      <td>4624.0</td>\n",
              "    </tr>\n",
              "    <tr>\n",
              "      <th>220</th>\n",
              "      <td>Sacramento</td>\n",
              "      <td>California</td>\n",
              "      <td>107493</td>\n",
              "      <td>107493.0</td>\n",
              "      <td>1726.0</td>\n",
              "    </tr>\n",
              "    <tr>\n",
              "      <th>221</th>\n",
              "      <td>San Benito</td>\n",
              "      <td>California</td>\n",
              "      <td>6089</td>\n",
              "      <td>6089.0</td>\n",
              "      <td>63.0</td>\n",
              "    </tr>\n",
              "    <tr>\n",
              "      <th>222</th>\n",
              "      <td>San Bernardino</td>\n",
              "      <td>California</td>\n",
              "      <td>299096</td>\n",
              "      <td>299096.0</td>\n",
              "      <td>4790.0</td>\n",
              "    </tr>\n",
              "    <tr>\n",
              "      <th>223</th>\n",
              "      <td>San Diego</td>\n",
              "      <td>California</td>\n",
              "      <td>281438</td>\n",
              "      <td>281438.0</td>\n",
              "      <td>3770.0</td>\n",
              "    </tr>\n",
              "    <tr>\n",
              "      <th>224</th>\n",
              "      <td>San Francisco</td>\n",
              "      <td>California</td>\n",
              "      <td>37213</td>\n",
              "      <td>37213.0</td>\n",
              "      <td>555.0</td>\n",
              "    </tr>\n",
              "    <tr>\n",
              "      <th>225</th>\n",
              "      <td>San Joaquin</td>\n",
              "      <td>California</td>\n",
              "      <td>74596</td>\n",
              "      <td>74596.0</td>\n",
              "      <td>1435.0</td>\n",
              "    </tr>\n",
              "    <tr>\n",
              "      <th>226</th>\n",
              "      <td>San Luis Obispo</td>\n",
              "      <td>California</td>\n",
              "      <td>21421</td>\n",
              "      <td>21421.0</td>\n",
              "      <td>261.0</td>\n",
              "    </tr>\n",
              "    <tr>\n",
              "      <th>227</th>\n",
              "      <td>San Mateo</td>\n",
              "      <td>California</td>\n",
              "      <td>42593</td>\n",
              "      <td>42593.0</td>\n",
              "      <td>581.0</td>\n",
              "    </tr>\n",
              "    <tr>\n",
              "      <th>228</th>\n",
              "      <td>Santa Barbara</td>\n",
              "      <td>California</td>\n",
              "      <td>34587</td>\n",
              "      <td>34587.0</td>\n",
              "      <td>460.0</td>\n",
              "    </tr>\n",
              "    <tr>\n",
              "      <th>229</th>\n",
              "      <td>Santa Clara</td>\n",
              "      <td>California</td>\n",
              "      <td>119963</td>\n",
              "      <td>119963.0</td>\n",
              "      <td>2180.0</td>\n",
              "    </tr>\n",
              "    <tr>\n",
              "      <th>230</th>\n",
              "      <td>Santa Cruz</td>\n",
              "      <td>California</td>\n",
              "      <td>16222</td>\n",
              "      <td>16222.0</td>\n",
              "      <td>208.0</td>\n",
              "    </tr>\n",
              "    <tr>\n",
              "      <th>231</th>\n",
              "      <td>Shasta</td>\n",
              "      <td>California</td>\n",
              "      <td>12630</td>\n",
              "      <td>12630.0</td>\n",
              "      <td>233.0</td>\n",
              "    </tr>\n",
              "    <tr>\n",
              "      <th>232</th>\n",
              "      <td>Sierra</td>\n",
              "      <td>California</td>\n",
              "      <td>55</td>\n",
              "      <td>55.0</td>\n",
              "      <td>0.0</td>\n",
              "    </tr>\n",
              "    <tr>\n",
              "      <th>233</th>\n",
              "      <td>Siskiyou</td>\n",
              "      <td>California</td>\n",
              "      <td>2392</td>\n",
              "      <td>2392.0</td>\n",
              "      <td>37.0</td>\n",
              "    </tr>\n",
              "    <tr>\n",
              "      <th>234</th>\n",
              "      <td>Solano</td>\n",
              "      <td>California</td>\n",
              "      <td>33656</td>\n",
              "      <td>33656.0</td>\n",
              "      <td>266.0</td>\n",
              "    </tr>\n",
              "    <tr>\n",
              "      <th>235</th>\n",
              "      <td>Sonoma</td>\n",
              "      <td>California</td>\n",
              "      <td>30752</td>\n",
              "      <td>30752.0</td>\n",
              "      <td>323.0</td>\n",
              "    </tr>\n",
              "    <tr>\n",
              "      <th>236</th>\n",
              "      <td>Stanislaus</td>\n",
              "      <td>California</td>\n",
              "      <td>63302</td>\n",
              "      <td>56724.0</td>\n",
              "      <td>1068.0</td>\n",
              "    </tr>\n",
              "    <tr>\n",
              "      <th>237</th>\n",
              "      <td>Sutter</td>\n",
              "      <td>California</td>\n",
              "      <td>9638</td>\n",
              "      <td>9638.0</td>\n",
              "      <td>113.0</td>\n",
              "    </tr>\n",
              "    <tr>\n",
              "      <th>238</th>\n",
              "      <td>Tehama</td>\n",
              "      <td>California</td>\n",
              "      <td>5102</td>\n",
              "      <td>5102.0</td>\n",
              "      <td>63.0</td>\n",
              "    </tr>\n",
              "    <tr>\n",
              "      <th>239</th>\n",
              "      <td>Trinity</td>\n",
              "      <td>California</td>\n",
              "      <td>333</td>\n",
              "      <td>333.0</td>\n",
              "      <td>3.0</td>\n",
              "    </tr>\n",
              "    <tr>\n",
              "      <th>240</th>\n",
              "      <td>Tulare</td>\n",
              "      <td>California</td>\n",
              "      <td>49768</td>\n",
              "      <td>49768.0</td>\n",
              "      <td>849.0</td>\n",
              "    </tr>\n",
              "    <tr>\n",
              "      <th>241</th>\n",
              "      <td>Tuolumne</td>\n",
              "      <td>California</td>\n",
              "      <td>4206</td>\n",
              "      <td>4206.0</td>\n",
              "      <td>71.0</td>\n",
              "    </tr>\n",
              "    <tr>\n",
              "      <th>242</th>\n",
              "      <td>Ventura</td>\n",
              "      <td>California</td>\n",
              "      <td>81572</td>\n",
              "      <td>81572.0</td>\n",
              "      <td>1029.0</td>\n",
              "    </tr>\n",
              "    <tr>\n",
              "      <th>243</th>\n",
              "      <td>Yolo</td>\n",
              "      <td>California</td>\n",
              "      <td>14127</td>\n",
              "      <td>14127.0</td>\n",
              "      <td>212.0</td>\n",
              "    </tr>\n",
              "    <tr>\n",
              "      <th>244</th>\n",
              "      <td>Yuba</td>\n",
              "      <td>California</td>\n",
              "      <td>6464</td>\n",
              "      <td>6464.0</td>\n",
              "      <td>51.0</td>\n",
              "    </tr>\n",
              "  </tbody>\n",
              "</table>\n",
              "</div>"
            ],
            "text/plain": [
              "              county       state    cases  confirmed_cases   deaths\n",
              "187          Alameda  California    89557          89557.0   1275.0\n",
              "188           Alpine  California       89             88.0      0.0\n",
              "189           Amador  California     3722           3722.0     47.0\n",
              "190            Butte  California    12620          12620.0    194.0\n",
              "191        Calaveras  California     2201           2188.0     56.0\n",
              "192           Colusa  California     2279           1967.0     18.0\n",
              "193     Contra Costa  California    70428          70428.0    810.0\n",
              "194        Del Norte  California     1454           1454.0      8.0\n",
              "195        El Dorado  California    10351          10330.0    116.0\n",
              "196           Fresno  California   102828         102828.0   1722.0\n",
              "197            Glenn  California     2952           2426.0     27.0\n",
              "198         Humboldt  California     4451           4451.0     48.0\n",
              "199         Imperial  California    28789          28789.0    740.0\n",
              "200             Inyo  California     1434           1405.0     38.0\n",
              "201             Kern  California   110687         110687.0   1401.0\n",
              "202            Kings  California    23178          23178.0    247.0\n",
              "203             Lake  California     3559           3559.0     45.0\n",
              "204           Lassen  California     5782           5782.0     24.0\n",
              "205      Los Angeles  California  1247488        1246821.0  24435.0\n",
              "206           Madera  California    16600          16600.0    245.0\n",
              "207            Marin  California    14135          14135.0    229.0\n",
              "208         Mariposa  California      464            464.0      7.0\n",
              "209        Mendocino  California     4289           4289.0     50.0\n",
              "210           Merced  California    32278          32278.0    477.0\n",
              "211            Modoc  California      383            383.0      3.0\n",
              "212             Mono  California     1295           1275.0      4.0\n",
              "213         Monterey  California    43821          43821.0    421.0\n",
              "214             Napa  California    10011          10011.0     80.0\n",
              "215           Nevada  California     4888           4888.0     75.0\n",
              "216           Orange  California   272827         255728.0   5105.0\n",
              "217           Placer  California    23438          23438.0    299.0\n",
              "218           Plumas  California      735            697.0      6.0\n",
              "219        Riverside  California   301482         301482.0   4624.0\n",
              "220       Sacramento  California   107493         107493.0   1726.0\n",
              "221       San Benito  California     6089           6089.0     63.0\n",
              "222   San Bernardino  California   299096         299096.0   4790.0\n",
              "223        San Diego  California   281438         281438.0   3770.0\n",
              "224    San Francisco  California    37213          37213.0    555.0\n",
              "225      San Joaquin  California    74596          74596.0   1435.0\n",
              "226  San Luis Obispo  California    21421          21421.0    261.0\n",
              "227        San Mateo  California    42593          42593.0    581.0\n",
              "228    Santa Barbara  California    34587          34587.0    460.0\n",
              "229      Santa Clara  California   119963         119963.0   2180.0\n",
              "230       Santa Cruz  California    16222          16222.0    208.0\n",
              "231           Shasta  California    12630          12630.0    233.0\n",
              "232           Sierra  California       55             55.0      0.0\n",
              "233         Siskiyou  California     2392           2392.0     37.0\n",
              "234           Solano  California    33656          33656.0    266.0\n",
              "235           Sonoma  California    30752          30752.0    323.0\n",
              "236       Stanislaus  California    63302          56724.0   1068.0\n",
              "237           Sutter  California     9638           9638.0    113.0\n",
              "238           Tehama  California     5102           5102.0     63.0\n",
              "239          Trinity  California      333            333.0      3.0\n",
              "240           Tulare  California    49768          49768.0    849.0\n",
              "241         Tuolumne  California     4206           4206.0     71.0\n",
              "242          Ventura  California    81572          81572.0   1029.0\n",
              "243             Yolo  California    14127          14127.0    212.0\n",
              "244             Yuba  California     6464           6464.0     51.0"
            ]
          },
          "metadata": {
            "tags": []
          },
          "execution_count": 45
        }
      ]
    },
    {
      "cell_type": "code",
      "metadata": {
        "id": "IfGP6Ku3TDFB",
        "outputId": "c80114a6-e15b-4b8a-e45b-d5f8de40f167",
        "colab": {
          "base_uri": "https://localhost:8080/",
          "height": 359
        }
      },
      "source": [
        "top10_CA = simple_county_data_CA.sort_values('cases', ascending=False).iloc[0:10]\n",
        "top10_CA"
      ],
      "execution_count": 52,
      "outputs": [
        {
          "output_type": "execute_result",
          "data": {
            "text/html": [
              "<div>\n",
              "<style scoped>\n",
              "    .dataframe tbody tr th:only-of-type {\n",
              "        vertical-align: middle;\n",
              "    }\n",
              "\n",
              "    .dataframe tbody tr th {\n",
              "        vertical-align: top;\n",
              "    }\n",
              "\n",
              "    .dataframe thead th {\n",
              "        text-align: right;\n",
              "    }\n",
              "</style>\n",
              "<table border=\"1\" class=\"dataframe\">\n",
              "  <thead>\n",
              "    <tr style=\"text-align: right;\">\n",
              "      <th></th>\n",
              "      <th>county</th>\n",
              "      <th>state</th>\n",
              "      <th>cases</th>\n",
              "      <th>confirmed_cases</th>\n",
              "      <th>deaths</th>\n",
              "    </tr>\n",
              "  </thead>\n",
              "  <tbody>\n",
              "    <tr>\n",
              "      <th>205</th>\n",
              "      <td>Los Angeles</td>\n",
              "      <td>California</td>\n",
              "      <td>1247488</td>\n",
              "      <td>1246821.0</td>\n",
              "      <td>24435.0</td>\n",
              "    </tr>\n",
              "    <tr>\n",
              "      <th>219</th>\n",
              "      <td>Riverside</td>\n",
              "      <td>California</td>\n",
              "      <td>301482</td>\n",
              "      <td>301482.0</td>\n",
              "      <td>4624.0</td>\n",
              "    </tr>\n",
              "    <tr>\n",
              "      <th>222</th>\n",
              "      <td>San Bernardino</td>\n",
              "      <td>California</td>\n",
              "      <td>299096</td>\n",
              "      <td>299096.0</td>\n",
              "      <td>4790.0</td>\n",
              "    </tr>\n",
              "    <tr>\n",
              "      <th>223</th>\n",
              "      <td>San Diego</td>\n",
              "      <td>California</td>\n",
              "      <td>281438</td>\n",
              "      <td>281438.0</td>\n",
              "      <td>3770.0</td>\n",
              "    </tr>\n",
              "    <tr>\n",
              "      <th>216</th>\n",
              "      <td>Orange</td>\n",
              "      <td>California</td>\n",
              "      <td>272827</td>\n",
              "      <td>255728.0</td>\n",
              "      <td>5105.0</td>\n",
              "    </tr>\n",
              "    <tr>\n",
              "      <th>229</th>\n",
              "      <td>Santa Clara</td>\n",
              "      <td>California</td>\n",
              "      <td>119963</td>\n",
              "      <td>119963.0</td>\n",
              "      <td>2180.0</td>\n",
              "    </tr>\n",
              "    <tr>\n",
              "      <th>201</th>\n",
              "      <td>Kern</td>\n",
              "      <td>California</td>\n",
              "      <td>110687</td>\n",
              "      <td>110687.0</td>\n",
              "      <td>1401.0</td>\n",
              "    </tr>\n",
              "    <tr>\n",
              "      <th>220</th>\n",
              "      <td>Sacramento</td>\n",
              "      <td>California</td>\n",
              "      <td>107493</td>\n",
              "      <td>107493.0</td>\n",
              "      <td>1726.0</td>\n",
              "    </tr>\n",
              "    <tr>\n",
              "      <th>196</th>\n",
              "      <td>Fresno</td>\n",
              "      <td>California</td>\n",
              "      <td>102828</td>\n",
              "      <td>102828.0</td>\n",
              "      <td>1722.0</td>\n",
              "    </tr>\n",
              "    <tr>\n",
              "      <th>187</th>\n",
              "      <td>Alameda</td>\n",
              "      <td>California</td>\n",
              "      <td>89557</td>\n",
              "      <td>89557.0</td>\n",
              "      <td>1275.0</td>\n",
              "    </tr>\n",
              "  </tbody>\n",
              "</table>\n",
              "</div>"
            ],
            "text/plain": [
              "             county       state    cases  confirmed_cases   deaths\n",
              "205     Los Angeles  California  1247488        1246821.0  24435.0\n",
              "219       Riverside  California   301482         301482.0   4624.0\n",
              "222  San Bernardino  California   299096         299096.0   4790.0\n",
              "223       San Diego  California   281438         281438.0   3770.0\n",
              "216          Orange  California   272827         255728.0   5105.0\n",
              "229     Santa Clara  California   119963         119963.0   2180.0\n",
              "201            Kern  California   110687         110687.0   1401.0\n",
              "220      Sacramento  California   107493         107493.0   1726.0\n",
              "196          Fresno  California   102828         102828.0   1722.0\n",
              "187         Alameda  California    89557          89557.0   1275.0"
            ]
          },
          "metadata": {
            "tags": []
          },
          "execution_count": 52
        }
      ]
    },
    {
      "cell_type": "code",
      "metadata": {
        "id": "8Naus3e7UEyg",
        "outputId": "0dc183cb-bb8c-4213-9647-25841e7c8a59",
        "colab": {
          "base_uri": "https://localhost:8080/",
          "height": 483
        }
      },
      "source": [
        "top10_CA.plot.bar(x='county', y=['cases', 'confirmed_cases'], figsize=(10, 6))"
      ],
      "execution_count": 56,
      "outputs": [
        {
          "output_type": "execute_result",
          "data": {
            "text/plain": [
              "<matplotlib.axes._subplots.AxesSubplot at 0x7f4858b91710>"
            ]
          },
          "metadata": {
            "tags": []
          },
          "execution_count": 56
        },
        {
          "output_type": "display_data",
          "data": {
            "image/png": "[encoded data removed]",
            "text/plain": [
              "<Figure size 720x432 with 1 Axes>"
            ]
          },
          "metadata": {
            "tags": [],
            "needs_background": "light"
          }
        }
      ]
    },
    {
      "cell_type": "code",
      "metadata": {
        "id": "S3vUVE1HUoEn",
        "outputId": "7aeb5175-67e2-4459-e719-c93b0c6bab2f",
        "colab": {
          "base_uri": "https://localhost:8080/"
        }
      },
      "source": [
        "top10_CA.mean()"
      ],
      "execution_count": 58,
      "outputs": [
        {
          "output_type": "execute_result",
          "data": {
            "text/plain": [
              "cases              293285.9\n",
              "confirmed_cases    291509.3\n",
              "deaths               5102.8\n",
              "dtype: float64"
            ]
          },
          "metadata": {
            "tags": []
          },
          "execution_count": 58
        }
      ]
    },
    {
      "cell_type": "code",
      "metadata": {
        "id": "sj8hxIIAUu3G",
        "outputId": "3f941e71-437e-4cc1-beb4-21896fa1e1cf",
        "colab": {
          "base_uri": "https://localhost:8080/"
        }
      },
      "source": [
        "top10_CA.max()"
      ],
      "execution_count": 59,
      "outputs": [
        {
          "output_type": "execute_result",
          "data": {
            "text/plain": [
              "county             Santa Clara\n",
              "state               California\n",
              "cases                  1247488\n",
              "confirmed_cases    1.24682e+06\n",
              "deaths                   24435\n",
              "dtype: object"
            ]
          },
          "metadata": {
            "tags": []
          },
          "execution_count": 59
        }
      ]
    },
    {
      "cell_type": "markdown",
      "metadata": {
        "id": "X4oAIr8o9pHW"
      },
      "source": [
        "## Session 3: Writing functions, variable scope"
      ]
    },
    {
      "cell_type": "code",
      "metadata": {
        "id": "hbQjT84s9yMk"
      },
      "source": [
        ""
      ],
      "execution_count": null,
      "outputs": []
    }
  ]
}