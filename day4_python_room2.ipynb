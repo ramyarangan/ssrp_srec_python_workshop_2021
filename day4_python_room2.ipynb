{
  "nbformat": 4,
  "nbformat_minor": 0,
  "metadata": {
    "colab": {
      "name": "day4_python_room2.ipynb",
      "provenance": [],
      "authorship_tag": "ABX9TyNRGFvg9+oMbYGZq6neRgRL",
      "include_colab_link": true
    },
    "kernelspec": {
      "name": "python3",
      "display_name": "Python 3"
    },
    "language_info": {
      "name": "python"
    }
  },
  "cells": [
    {
      "cell_type": "markdown",
      "metadata": {
        "id": "view-in-github",
        "colab_type": "text"
      },
      "source": [
        "<a href=\"https://colab.research.google.com/github/ramyarangan/ssrp_srec_python_workshop_2021/blob/master/day4_python_room2.ipynb\" target=\"_parent\"><img src=\"https://colab.research.google.com/assets/colab-badge.svg\" alt=\"Open In Colab\"/></a>"
      ]
    },
    {
      "cell_type": "markdown",
      "metadata": {
        "id": "iDpwiFlY8NiT"
      },
      "source": [
        "# Day 4: Pandas\n",
        "Date: June 17, 2021\n",
        "\n",
        "Room 2\n",
        "\n",
        "Schedule\n",
        "\n",
        "|Session #| Time | Instructor | Helper 1 | Helper 2|\n",
        "|-|-|-|-|-|\n",
        "|1| 10:30-11:30 | Ramya | Jeff | Roshni |\n",
        "| Break 1 | 11:30-11:45 |\n",
        "|2| 11:45-12:45 | Jeff | Ramya | Roshni |\n",
        "|Lunch Break| 12:45 - 1:30|\n",
        "|3| 1:30 - 2:30| Jeff | Ramya | Roshni |\n",
        "|Break| 2:30 - 2:45|\n",
        "|Office Hours| 2:45 - 3:30 |\n",
        "\n",
        "## Learning objectives\n",
        "* Read tabular data into data frames using the pandas Library\n",
        "* Plot data a number of ways including line plots, box plots, and histograms\n",
        "* Loop over multiple datasets and write functions\n",
        "* Understand variable scoping and appropriate usage of scope\n",
        "\n",
        "---"
      ]
    },
    {
      "cell_type": "markdown",
      "metadata": {
        "id": "stD_oiG39gLG"
      },
      "source": [
        "## Session 1:  Reading tabular data into data-frames, Pandas dataframes, plotting"
      ]
    },
    {
      "cell_type": "code",
      "metadata": {
        "id": "bG_wyQkP9gVW"
      },
      "source": [
        ""
      ],
      "execution_count": null,
      "outputs": []
    },
    {
      "cell_type": "markdown",
      "metadata": {
        "id": "GKfIgur39gfG"
      },
      "source": [
        "## Session 2: Plotting in more details: histograms, box blots, and more!"
      ]
    },
    {
      "cell_type": "code",
      "metadata": {
        "id": "FjhdGDrD9o_1"
      },
      "source": [
        ""
      ],
      "execution_count": null,
      "outputs": []
    },
    {
      "cell_type": "markdown",
      "metadata": {
        "id": "X4oAIr8o9pHW"
      },
      "source": [
        "## Session 3: Writing functions, variable scope"
      ]
    },
    {
      "cell_type": "code",
      "metadata": {
        "id": "hbQjT84s9yMk"
      },
      "source": [
        ""
      ],
      "execution_count": null,
      "outputs": []
    }
  ]
}