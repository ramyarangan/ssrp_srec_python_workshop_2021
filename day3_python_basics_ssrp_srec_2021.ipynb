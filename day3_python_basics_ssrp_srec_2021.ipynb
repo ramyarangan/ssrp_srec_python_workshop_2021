{
  "nbformat": 4,
  "nbformat_minor": 0,
  "metadata": {
    "colab": {
      "name": "day3_python_basics_ssrp_srec_2021.ipynb",
      "provenance": [],
      "collapsed_sections": [],
      "authorship_tag": "ABX9TyMgdhL8GBEbGbqX8kLOoTMT",
      "include_colab_link": true
    },
    "kernelspec": {
      "name": "python3",
      "display_name": "Python 3"
    },
    "language_info": {
      "name": "python"
    }
  },
  "cells": [
    {
      "cell_type": "markdown",
      "metadata": {
        "id": "view-in-github",
        "colab_type": "text"
      },
      "source": [
        "<a href=\"https://colab.research.google.com/github/ramyarangan/ssrp_srec_python_workshop_2021/blob/master/day3_python_basics_ssrp_srec_2021.ipynb\" target=\"_parent\"><img src=\"https://colab.research.google.com/assets/colab-badge.svg\" alt=\"Open In Colab\"/></a>"
      ]
    },
    {
      "cell_type": "markdown",
      "metadata": {
        "id": "kOO1t_y5Oq-D"
      },
      "source": [
        "# SSRP/SREC Instructor Notebook\n",
        "\n",
        "*   Date: D3-June 16,2021\n",
        "*   Software Carpentry: https://swcarpentry.github.io/python-novice-gapminder/02-variables/index.html\n",
        "\n"
      ]
    },
    {
      "cell_type": "markdown",
      "metadata": {
        "id": "mLRk_XxrPFIq"
      },
      "source": [
        "## 1. Data Types, Variables, Assigmnent"
      ]
    },
    {
      "cell_type": "markdown",
      "metadata": {
        "id": "0S5zLnV3QRzQ"
      },
      "source": [
        "### Use Variables to store values."
      ]
    },
    {
      "cell_type": "markdown",
      "metadata": {
        "id": "bS7u4RIvPdYU"
      },
      "source": [
        "* Variables are names for values.\n",
        "*  In Python the = symbol assigns the value on the right to the name on the left.\n",
        "* The variable is created when a value is assigned to it.\n",
        "* Here, Python assigns an age to a variable age and a name in quotes to a variable first_name.\n",
        "\n"
      ]
    },
    {
      "cell_type": "code",
      "metadata": {
        "id": "e2TVQ_lyORs0"
      },
      "source": [
        "# assignment:\n",
        "age = 42\n",
        "first_name = 'Ahmed'"
      ],
      "execution_count": null,
      "outputs": []
    },
    {
      "cell_type": "markdown",
      "metadata": {
        "id": "fEd5sSxjQCK3"
      },
      "source": [
        "Variable names\n",
        "\n",
        "> * can **only** contain letters, digits, and underscore _ (typically used to separate words in long variable names)\n",
        "> * cannot start with a digit\n",
        "> * are **case sensitive** (age, Age and AGE are three different variables)\n",
        "\n",
        "Variable names *that* start with underscores like ```__alistairs_real_age``` have a special meaning so we won’t do that until we understand the convention."
      ]
    },
    {
      "cell_type": "markdown",
      "metadata": {
        "id": "l_rvb8oSQdha"
      },
      "source": [
        "### Use ```print``` to display values.\n",
        "\n"
      ]
    },
    {
      "cell_type": "markdown",
      "metadata": {
        "id": "A6mXsLURRfJ2"
      },
      "source": [
        "*   Python has a built-in function called `print` that prints things as text.\n",
        "*   Call the function (i.e., tell Python to run it) by using its name.\n",
        "*   Provide values to the function (i.e., the things to print) in parentheses.\n",
        "*   To add a string to the printout, wrap the string in single or double quotes.\n",
        "*   The values passed to the function are called **arguments**"
      ]
    },
    {
      "cell_type": "code",
      "metadata": {
        "id": "PyeIQ6D3PXz0"
      },
      "source": [
        "print(first_name, 'is', age, 'years old')"
      ],
      "execution_count": null,
      "outputs": []
    },
    {
      "cell_type": "markdown",
      "metadata": {
        "id": "cAipyGBERlYz"
      },
      "source": [
        "\n",
        "*   `print` automatically puts a single space between items to separate them.\n",
        "*   And wraps around to a new line at the end.\n"
      ]
    },
    {
      "cell_type": "markdown",
      "metadata": {
        "id": "SFZvM4oTOeFl"
      },
      "source": [
        "### Variables must be created before they are used.\n",
        "*   If a variable doesn't exist yet, or if the name has been mis-spelled, Python reports an error. (Unlike some languages, which \"guess\" a default value.)"
      ]
    },
    {
      "cell_type": "code",
      "metadata": {
        "id": "YFgHnPCiOyeo"
      },
      "source": [
        "print(last_name)"
      ],
      "execution_count": null,
      "outputs": []
    },
    {
      "cell_type": "markdown",
      "metadata": {
        "id": "C_Pa69FIR198"
      },
      "source": [
        "*   The last line of an error message is usually the most informative."
      ]
    },
    {
      "cell_type": "markdown",
      "metadata": {
        "id": "eYrUCcMbSHmd"
      },
      "source": [
        "### Variables Persist Between Cells\n",
        ">\n",
        "> Be aware that it is the *order* of execution of cells that is important in a Jupyter notebook, not the order in which they appear. Python will remember *all* the code that was run previously, including any variables you have defined, irrespective of the order in the notebook. Therefore if you define variables lower down the notebook and then (re)run cells further up, those defined further down will still be present. As an example, create two cells with the following content, in this order:"
      ]
    },
    {
      "cell_type": "code",
      "metadata": {
        "id": "V1VJA7GxR1AE"
      },
      "source": [
        "print(myval)"
      ],
      "execution_count": null,
      "outputs": []
    },
    {
      "cell_type": "code",
      "metadata": {
        "id": "c1TuJii5SaoL"
      },
      "source": [
        "myval=1\n",
        "print(myval)"
      ],
      "execution_count": null,
      "outputs": []
    },
    {
      "cell_type": "markdown",
      "metadata": {
        "id": "p8n4VwobTz0q"
      },
      "source": [
        "### Variables can be used in calculations.\n",
        "*   We can use variables in calculations just as if they were values.\n",
        "*   Remember, we assigned the value `42` to `age` a few lines ago.\n"
      ]
    },
    {
      "cell_type": "code",
      "metadata": {
        "id": "7LzxCY1GSiXj"
      },
      "source": [
        "age = age + 3\n",
        "print(\"Age in three years: \", age)"
      ],
      "execution_count": null,
      "outputs": []
    },
    {
      "cell_type": "code",
      "metadata": {
        "id": "4D9IGa4iVeop"
      },
      "source": [
        "#another way to accomplish the same.\n",
        "print(f\"Age in 5 more years {age+5}, and current age {age}\")"
      ],
      "execution_count": null,
      "outputs": []
    },
    {
      "cell_type": "markdown",
      "metadata": {
        "id": "MlR2ICRDV_d2"
      },
      "source": [
        "## Use an index to get a single character from a string.\n",
        "\n",
        "*   The characters (individual letters, numbers, and so on) in a string are ordered. For example, the string `'AB'` is not the same as `'BA'`. Because of this ordering, we can treat the string as a list of characters.\n",
        "*   Each position in the string (first, second, etc.) is given a number. This number is called an **index** or sometimes a subscript.\n",
        "*   Indices are numbered from 0.\n",
        "*   Use the position's index in square brackets to get the character at that position."
      ]
    },
    {
      "cell_type": "code",
      "metadata": {
        "id": "yQqBCURnVtCS"
      },
      "source": [
        "atom_name = 'helium'\n",
        "print(atom_name[0])"
      ],
      "execution_count": null,
      "outputs": []
    },
    {
      "cell_type": "markdown",
      "metadata": {
        "id": "rH830fO6WPva"
      },
      "source": [
        "### Use a slice to get a substring.\n",
        "\n",
        "*   A part of a string is called a **substring**. A substring can be as short as a single character.\n",
        "*   An item in a list is called an element. Whenever we treat a string as if it were a list, the string's elements are its individual characters.\n",
        "*   A slice is a part of a string (or, more generally, any list-like thing).\n",
        "*   We take a slice by using `[start:stop]`, where `start` is replaced with the index of the first element we want and `stop` is replaced with the index of the element just after the last element we want.\n",
        "*   Mathematically, you might say that a slice selects `[start:stop)`.\n",
        "*   The difference between `stop` and `start` is the slice's length.\n",
        "*   Taking a slice does not change the contents of the original string. Instead, the slice is a copy of part of the original string."
      ]
    },
    {
      "cell_type": "code",
      "metadata": {
        "id": "HBeaMjeWWNwk"
      },
      "source": [
        "atom_name = 'sodium'\n",
        "print(atom_name[0:3])"
      ],
      "execution_count": null,
      "outputs": []
    },
    {
      "cell_type": "markdown",
      "metadata": {
        "id": "ecp0kyBZWcRA"
      },
      "source": [
        "### Use the built-in function `len` to find the length of a string."
      ]
    },
    {
      "cell_type": "code",
      "metadata": {
        "id": "ZV6uxs9WX6-v"
      },
      "source": [
        "print(len(atom_name))"
      ],
      "execution_count": null,
      "outputs": []
    },
    {
      "cell_type": "markdown",
      "metadata": {
        "id": "j_wI_pHpWcWz"
      },
      "source": [
        "*   Nested functions are evaluated from the inside out,\n",
        "     like in mathematics.\n",
        "\n",
        "### Python is case-sensitive.\n",
        "\n",
        "*   Python thinks that upper- and lower-case letters are different, so `Name` and `name` are different variables.\n",
        "*   There are conventions for using upper-case letters at the start of variable names so we will use lower-case letters for now.\n",
        "\n",
        "### Use meaningful variable names.\n",
        "\n",
        "*   Python doesn't care what you call variables as long as they obey the rules(alphanumeric characters and the underscore)."
      ]
    },
    {
      "cell_type": "code",
      "metadata": {
        "id": "brUAa2YyWcZH"
      },
      "source": [
        "flabadab = 42\n",
        "ewr_422_yY = 'Ahmed'\n",
        "print(ewr_422_yY, 'is', flabadab, 'years old')"
      ],
      "execution_count": null,
      "outputs": []
    },
    {
      "cell_type": "markdown",
      "metadata": {
        "id": "p_iTaQNlWcbm"
      },
      "source": [
        "\n",
        "*   Use meaningful variable names to help other people understand what the program does.\n",
        "*   The most important \"other person\" is your future self.\n",
        "\n",
        "\n",
        "### Swapping Values\n",
        "\n",
        "Fill the table showing the values of the variables in this program *after* each statement is executed."
      ]
    },
    {
      "cell_type": "code",
      "metadata": {
        "id": "wH7_9XjtWcd2"
      },
      "source": [
        "# Command  # Value of x   # Value of y   # Value of swap #\n",
        "x = 1.0    #              #              #               #\n",
        "y = 3.0    #              #              #               #\n",
        "swap = x   #              #              #               #\n",
        "x = y      #              #              #               #\n",
        "y = swap   #              #              #               #"
      ],
      "execution_count": null,
      "outputs": []
    },
    {
      "cell_type": "code",
      "metadata": {
        "cellView": "form",
        "id": "TdYhr1K_a0_j"
      },
      "source": [
        "#@title Solution\n",
        "x = 1.0\n",
        "print(f\"x = {x}, y = undefined, swap = undefined\")\n",
        "y = 3.0\n",
        "print(f\"x = {x}, y = {y}, swap = undefined\")\n",
        "swap =x\n",
        "print(f\"x = {x}, y = {y}, swap = {swap}\")\n",
        "x = y\n",
        "print(f\"x = {x}, y = {y}, swap = {swap}\")\n",
        "y = swap\n",
        "print(f\"x = {x}, y = {y}, swap = {swap}\")\n",
        "\n",
        "print()\n",
        "print(\"\"\"These three lines exchange the values in `x` and `y` using the `swap` \n",
        "variable for temporary storage. This is a fairly common programming idiom.\"\"\")"
      ],
      "execution_count": null,
      "outputs": []
    },
    {
      "cell_type": "markdown",
      "metadata": {
        "id": "4jPGnpMvWchM"
      },
      "source": [
        ""
      ]
    },
    {
      "cell_type": "markdown",
      "metadata": {
        "id": "Knzy3B8mWa6R"
      },
      "source": [
        "## Predicting Values\n",
        "\n",
        "What is the final value of `position` in the program below?\n",
        "(Try to predict the value without running the program, then check your prediction.)"
      ]
    },
    {
      "cell_type": "code",
      "metadata": {
        "id": "lhsP_JWyeVs0"
      },
      "source": [
        "initial = 'left'\n",
        "position = initial\n",
        "initial = 'right'"
      ],
      "execution_count": null,
      "outputs": []
    },
    {
      "cell_type": "code",
      "metadata": {
        "cellView": "form",
        "id": "txF-cIS_kLhL"
      },
      "source": [
        "#@title Solution\n",
        "print(f\"'position' has value {position}\")\n",
        "\n",
        "print()\n",
        "print(\"\"\"The `initial` variable is assigned the value `'left'`. In the second \n",
        "line, the `position` variable also receives the string value `'left'`. In third\n",
        "line, the `initial` variable is given the value `'right'`, but the `position` \n",
        "variable retains its string value of `'left'`.\"\"\")"
      ],
      "execution_count": null,
      "outputs": []
    },
    {
      "cell_type": "markdown",
      "metadata": {
        "id": "_NM3FHZWeqoz"
      },
      "source": [
        "### Challenge\n",
        "\n",
        "> If you assign `a = 123`,\n",
        "> what happens if you try to get the second digit of `a` via `a[1]`?\n",
        "\n"
      ]
    },
    {
      "cell_type": "code",
      "metadata": {
        "id": "YkXw1biMfuWO",
        "cellView": "form"
      },
      "source": [
        "#@title Solution\n",
        "print(\"\"\"Numbers are not strings or sequences and Python will raise an error if \n",
        "you try to perform an index operation on a number. In the [next lesson on types \n",
        "and type conversion] we will learn more about types and how to convert between \n",
        "different types. If you want the Nth digit of a number you can convert it into a\n",
        "string using the `str` built-in function and then perform an index operation on \n",
        "that string.\"\"\")"
      ],
      "execution_count": null,
      "outputs": []
    },
    {
      "cell_type": "code",
      "metadata": {
        "id": "HUeVdcmmgeVl"
      },
      "source": [
        "a=123\n",
        "print(a[1])"
      ],
      "execution_count": null,
      "outputs": []
    },
    {
      "cell_type": "markdown",
      "metadata": {
        "id": "RO4FCtdMmJGK"
      },
      "source": [
        "### Choosing a Name\n",
        ">\n",
        "> Which is a better variable name, `m`, `min`, or `minutes`?\n",
        "> Why?\n",
        "> Hint: think about which code you would rather inherit\n",
        "> from someone who is leaving the lab:\n",
        ">\n",
        "> 1. `ts = m * 60 + s`\n",
        "> 2. `tot_sec = min * 60 + sec`\n",
        "> 3. `total_seconds = minutes * 60 + seconds`"
      ]
    },
    {
      "cell_type": "code",
      "metadata": {
        "cellView": "form",
        "id": "uFkXjQqzmcEj"
      },
      "source": [
        "#@title Solution\n",
        "print(\"\"\"`minutes` is better because `min` might mean something like \"minimum\"\n",
        "(and actually is an existing built-in function in Python that we will cover later)\n",
        "\"\"\")"
      ],
      "execution_count": null,
      "outputs": []
    },
    {
      "cell_type": "markdown",
      "metadata": {
        "id": "sHgEFRJnmqJv"
      },
      "source": [
        "### Slicing practice\n",
        ">\n",
        "> What does the following program print?"
      ]
    },
    {
      "cell_type": "code",
      "metadata": {
        "id": "Vr3u9lKYm4dj"
      },
      "source": [
        "atom_name = 'carbon'\n",
        "print('atom_name[1:3] is:', atom_name[1:3])"
      ],
      "execution_count": null,
      "outputs": []
    },
    {
      "cell_type": "markdown",
      "metadata": {
        "id": "GQ82wfQfm861"
      },
      "source": [
        "> ## Slicing concepts\n",
        ">\n",
        "> 1.  What does `thing[low:high]` do?\n",
        "> 2.  What does `thing[low:]` (without a value after the colon) do?\n",
        "> 3.  What does `thing[:high]` (without a value before the colon) do?\n",
        "> 4.  What does `thing[:]` (just a colon) do?\n",
        "> 5.  What does `thing[number:some-negative-number]` do?\n",
        "> 6.  What happens when you choose a `high` value which is out of range? (i.e., try `atom_name[0:15]`)"
      ]
    },
    {
      "cell_type": "code",
      "metadata": {
        "cellView": "form",
        "id": "7M-U6LUInGvc"
      },
      "source": [
        "#@title Solution\n",
        "print(\"\"\" \n",
        "1. `thing[low:high]` returns a slice from `low` to the value before `high`\n",
        "2. `thing[low:]` returns a slice from `low` all the way to the end of `thing`\n",
        "3. `thing[:high]` returns a slice from the beginning of `thing` to the value before `high`\n",
        "4. `thing[:]` returns all of `thing`\n",
        "5. `thing[number:some-negative-number]` returns a slice from `number` to \n",
        "`some-negative-number` values from the end of `thing`\n",
        "6. If a part of the slice is out of range, the operation does not fail. \n",
        "`atom_name[0:15]` gives the same result as `atom_name[0:]`.\n",
        "\"\"\")"
      ],
      "execution_count": null,
      "outputs": []
    },
    {
      "cell_type": "markdown",
      "metadata": {
        "id": "AAuiBAH5ngHz"
      },
      "source": [
        "---\n",
        "\n",
        "# 2. Data Types and Types Conversion\n",
        "- \"What kinds of data do programs store?\"\n",
        "- \"How can I convert one type to another?\"\n",
        "objectives:\n",
        "- \"Explain key differences between integers and floating point numbers.\"\n",
        "- \"Explain key differences between numbers and character strings.\"\n",
        "- \"Use built-in functions to convert between integers, floating point numbers, and strings.\"\n",
        "keypoints:\n",
        "- \"Every value has a type.\"\n",
        "- \"Use the built-in function `type` to find the type of a value.\"\n",
        "- \"Types control what operations can be done on values.\"\n",
        "- \"Strings can be added and multiplied.\"\n",
        "- \"Strings have a length (but numbers don't).\"\n",
        "- \"Must convert numbers to strings or vice versa when operating on them.\"\n",
        "- \"Can mix integers and floats freely in operations.\"\n",
        "- \"Variables only change value when something is assigned to them.\"\n",
        "\n",
        "\n",
        "---\n",
        "## Every value has a type.\n",
        "\n",
        "*   Every value in a program has a specific type.\n",
        "*   Integer (`int`): represents positive or negative whole numbers like 3 or -512.\n",
        "*   Floating point number (`float`): represents real numbers like 3.14159 or -2.5.\n",
        "*   Character string (usually called \"string\", `str`): text.\n",
        "    *   Written in either single quotes or double quotes (as long as they match).\n",
        "    *   The quote marks aren't printed when the string is displayed.\n",
        "\n",
        "## Use the built-in function `type` to find the type of a value.\n",
        "\n",
        "*   Use the built-in function `type` to find out what type a value has.\n",
        "*   Works on variables as well.\n",
        "    *   But remember: the *value* has the type --- the *variable* is just a label.\n"
      ]
    },
    {
      "cell_type": "code",
      "metadata": {
        "id": "igbj13RqrT5x"
      },
      "source": [
        "print(type(52))"
      ],
      "execution_count": null,
      "outputs": []
    },
    {
      "cell_type": "code",
      "metadata": {
        "id": "ODnwl373reyo"
      },
      "source": [
        "fitness = 'average'\n",
        "print(type(fitness))"
      ],
      "execution_count": null,
      "outputs": []
    },
    {
      "cell_type": "markdown",
      "metadata": {
        "id": "cJN-qcZ3rjBB"
      },
      "source": [
        "### Types control what operations (or methods) can be performed on a given value.\n",
        "*   A value's type determines what the program can do to it."
      ]
    },
    {
      "cell_type": "code",
      "metadata": {
        "id": "MNCnceWvrv6-"
      },
      "source": [
        "print(5 - 3)"
      ],
      "execution_count": null,
      "outputs": []
    },
    {
      "cell_type": "code",
      "metadata": {
        "id": "_mY1kqqoryTL"
      },
      "source": [
        "print('hello' - 'h')"
      ],
      "execution_count": null,
      "outputs": []
    },
    {
      "cell_type": "markdown",
      "metadata": {
        "id": "F9AG_ocQsEgD"
      },
      "source": [
        "### You can use the \"+\" and \"*\" operators on strings.\n",
        "\n",
        "*   \"Adding\" character strings concatenates them.\n",
        "\n",
        "\n"
      ]
    },
    {
      "cell_type": "code",
      "metadata": {
        "id": "r6C2vwg-sJfU"
      },
      "source": [
        "full_name = 'Ahmed' + ' ' + 'Walsh'\n",
        "print(full_name)"
      ],
      "execution_count": null,
      "outputs": []
    },
    {
      "cell_type": "markdown",
      "metadata": {
        "id": "WL2ryEcesMBo"
      },
      "source": [
        "*   Multiplying a character string by an integer _N_ creates a new string that consists of that character string repeated  _N_ times.\n",
        "*   Since multiplication is repeated addition."
      ]
    },
    {
      "cell_type": "code",
      "metadata": {
        "id": "tG5w0fJksX0l"
      },
      "source": [
        "separator = '=' * 10\n",
        "print(separator)"
      ],
      "execution_count": null,
      "outputs": []
    },
    {
      "cell_type": "markdown",
      "metadata": {
        "id": "M49RQnGfsVZQ"
      },
      "source": [
        "\n",
        "### Strings have a length (but numbers don't).\n",
        "\n",
        "*   The built-in function `len` counts the number of characters in a string."
      ]
    },
    {
      "cell_type": "code",
      "metadata": {
        "id": "YaK2VFGasYCy"
      },
      "source": [
        "print(len(full_name))"
      ],
      "execution_count": null,
      "outputs": []
    },
    {
      "cell_type": "markdown",
      "metadata": {
        "id": "BVLZl6bIsnxu"
      },
      "source": [
        "*   But numbers don't have a length (not even zero)."
      ]
    },
    {
      "cell_type": "code",
      "metadata": {
        "id": "IcaHm6ZCsx1_"
      },
      "source": [
        "print(len(52))"
      ],
      "execution_count": null,
      "outputs": []
    },
    {
      "cell_type": "markdown",
      "metadata": {
        "id": "fP_F7RWWsyGv"
      },
      "source": [
        "##Must convert numbers to strings or vice versa when operating on them.\n",
        "\n",
        "*   Cannot add numbers and strings."
      ]
    },
    {
      "cell_type": "code",
      "metadata": {
        "id": "zphapwvGsyQE"
      },
      "source": [
        "print(1 + '2')"
      ],
      "execution_count": null,
      "outputs": []
    },
    {
      "cell_type": "markdown",
      "metadata": {
        "id": "TdeRbXpqtQI-"
      },
      "source": [
        "\n",
        "*   Not allowed because it's ambiguous: should `1 + '2'` be `3` or `'12'`?\n",
        "*   Some types can be converted to other types by using the type name as a function."
      ]
    },
    {
      "cell_type": "code",
      "metadata": {
        "id": "ldAh5Ih9tRuc"
      },
      "source": [
        "print(1 + int('2'))\n",
        "print(str(1) + '2')"
      ],
      "execution_count": null,
      "outputs": []
    },
    {
      "cell_type": "markdown",
      "metadata": {
        "id": "kqMau5jRtSEs"
      },
      "source": [
        "## Can mix integers and floats freely in operations.\n",
        "\n",
        "*   Integers and floating-point numbers can be mixed in arithmetic.\n",
        "    *   Python 3 automatically converts integers to floats as needed.\n"
      ]
    },
    {
      "cell_type": "code",
      "metadata": {
        "id": "M0nWHabutSNB"
      },
      "source": [
        "print('half is', 1 / 2.0)\n",
        "print('three squared is', 3.0 ** 2)"
      ],
      "execution_count": null,
      "outputs": []
    },
    {
      "cell_type": "markdown",
      "metadata": {
        "id": "1eB3qjN1tSVF"
      },
      "source": [
        "## Variables only change value when something is assigned to them.\n",
        "\n",
        "*   If we make one cell in a spreadsheet depend on another, and update the latter, the former updates automatically.\n",
        "*   This does **not** happen in programming languages."
      ]
    },
    {
      "cell_type": "code",
      "metadata": {
        "id": "3t2beb-FtScf"
      },
      "source": [
        "first = 1\n",
        "second = 5 * first\n",
        "first = 2\n",
        "print('first is', first, 'and second is', second)"
      ],
      "execution_count": null,
      "outputs": []
    },
    {
      "cell_type": "markdown",
      "metadata": {
        "id": "DPo693i7tuYT"
      },
      "source": [
        "\n",
        "*   The computer reads the value of `first` when doing the multiplication, creates a new value, and assigns it to `second`.\n",
        "*   After that, `second` does not remember where it came from.\n",
        "\n",
        "## Fractions\n",
        ">\n",
        "> What type of value is 3.4?\n",
        "> How can you find out?"
      ]
    },
    {
      "cell_type": "code",
      "metadata": {
        "cellView": "form",
        "id": "3ODMTSBYyq3k"
      },
      "source": [
        "#@title Solution\n",
        "print(\"\"\" It is a floating-point number (often abbreviated \"float\").\n",
        "It is possible to find out by using the built-in function `type()`.\"\"\")\n",
        "\n",
        "print(type(3.4))"
      ],
      "execution_count": null,
      "outputs": []
    },
    {
      "cell_type": "markdown",
      "metadata": {
        "id": "IxgKCtqIy6Cq"
      },
      "source": [
        "### Automatic Type Conversion\n",
        ">\n",
        "> What type of value is 3.25 + 4?"
      ]
    },
    {
      "cell_type": "code",
      "metadata": {
        "id": "K4s0TwzNzD2Q"
      },
      "source": [
        "#@title Solution \n",
        "print(\"\"\" It is a float:\n",
        "integers are automatically converted to floats as necessary.\"\"\")"
      ],
      "execution_count": null,
      "outputs": []
    },
    {
      "cell_type": "code",
      "metadata": {
        "id": "x6FDHrYdzbxC"
      },
      "source": [
        "result = 3.25 + 4\n",
        "print(result, 'is', type(result))"
      ],
      "execution_count": null,
      "outputs": []
    },
    {
      "cell_type": "markdown",
      "metadata": {
        "id": "FOPWwbB6zf9j"
      },
      "source": [
        "### Choose a Type\n",
        ">\n",
        "> What type of value (integer, floating point number, or character string)\n",
        "> would you use to represent each of the following?  Try to come up with more than one good answer for each problem.  For example, in  # 1, when would counting days with a floating point variable make more sense than using an integer?  \n",
        ">\n",
        "> 1. Number of days since the start of the year.\n",
        "> 2. Time elapsed from the start of the year until now in days.\n",
        "> 3. Serial number of a piece of lab equipment.\n",
        "> 4. A lab specimen's age\n",
        "> 5. Current population of a city.\n",
        "> 6. Average population of a city over time.\n",
        ">"
      ]
    },
    {
      "cell_type": "code",
      "metadata": {
        "cellView": "form",
        "id": "uxY6qR3rzggv"
      },
      "source": [
        "#@title Solution\n",
        "\n",
        "print(\"\"\"\n",
        "The answers to the questions are:\n",
        "1. Integer, since the number of days would lie between 1 and 365. \n",
        "2. Floating point, since fractional days are required\n",
        "3. Character string if serial number contains letters and numbers, otherwise integer if the serial number consists only of numerals\n",
        "4. This will vary! How do you define a specimen's age? whole days since collection (integer)? date and time (string)?\n",
        "5. Choose floating point to represent population as large aggregates (eg millions), or integer to represent population in units of individuals.\n",
        "6. Floating point number, since an average is likely to have a fractional part.\n",
        "\"\"\")"
      ],
      "execution_count": null,
      "outputs": []
    },
    {
      "cell_type": "markdown",
      "metadata": {
        "id": "veagQ2U_zguX"
      },
      "source": [
        "### Division Types\n",
        ">\n",
        "> In Python 3, the `//` operator performs integer (whole-number) floor division, the `/` operator performs floating-point\n",
        "> division, and the `%` (or *modulo*) operator calculates and returns the remainder from integer division:\n",
        ">"
      ]
    },
    {
      "cell_type": "code",
      "metadata": {
        "id": "CbmPgnkgzg6q"
      },
      "source": [
        "print('5 // 3 = ', 5 // 3)\n",
        "print('5 / 3 = ', 5 / 3)\n",
        "print('5 % 3 = ', 5 % 3)"
      ],
      "execution_count": null,
      "outputs": []
    },
    {
      "cell_type": "markdown",
      "metadata": {
        "id": "KfvTRJR50RoT"
      },
      "source": [
        "If `num_subjects` is the number of subjects taking part in a study,\n",
        "and `num_per_survey` is the number that can take part in a single survey,\n",
        "write an expression that calculates the number of surveys needed\n",
        "to reach everyone once."
      ]
    },
    {
      "cell_type": "code",
      "metadata": {
        "cellView": "form",
        "id": "a5di_ERo0kDP"
      },
      "source": [
        "#@title Solution\n",
        "\n",
        "print(\"\"\"\n",
        "We want the minimum number of surveys that reaches everyone once, which is\n",
        "the rounded up value of `num_subjects/ num_per_survey`. This is \n",
        "equivalent to performing a floor division with `//` and adding 1. Before\n",
        "the division we need to subtract 1 from the number of subjects to deal with \n",
        "the case where `num_subjects` is evenly divisible by `num_per_survey`.   \n",
        "\"\"\")"
      ],
      "execution_count": null,
      "outputs": []
    },
    {
      "cell_type": "code",
      "metadata": {
        "id": "FVbqVhF70zfo"
      },
      "source": [
        " num_subjects = 600\n",
        " num_per_survey = 42\n",
        " num_surveys = (num_subjects - 1) // num_per_survey + 1\n",
        " \n",
        " print(num_subjects, 'subjects,', num_per_survey, 'per survey:', num_surveys)"
      ],
      "execution_count": null,
      "outputs": []
    },
    {
      "cell_type": "markdown",
      "metadata": {
        "id": "Rt1voBNm0631"
      },
      "source": [
        "### Strings to Numbers\n",
        ">\n",
        "> Where reasonable, `float()` will convert a string to a floating point number,\n",
        "> and `int()` will convert a floating point number to an integer:"
      ]
    },
    {
      "cell_type": "code",
      "metadata": {
        "id": "JTKiIyaH1B6-"
      },
      "source": [
        " print(\"string to float:\", float(\"3.4\"))\n",
        " print(\"float to int:\", int(3.4))"
      ],
      "execution_count": null,
      "outputs": []
    },
    {
      "cell_type": "markdown",
      "metadata": {
        "id": "BAN0M0LO1D80"
      },
      "source": [
        "> If the conversion doesn't make sense, however, an error message will occur."
      ]
    },
    {
      "cell_type": "code",
      "metadata": {
        "id": "II1MZVMA1MZU"
      },
      "source": [
        "print(\"string to float:\", float(\"Hello world!\"))"
      ],
      "execution_count": null,
      "outputs": []
    },
    {
      "cell_type": "markdown",
      "metadata": {
        "id": "OD0-cKTD1Nqd"
      },
      "source": [
        "> Given this information, what do you expect the following program to do?\n",
        ">\n",
        "> What does it actually do?\n",
        ">\n",
        "> Why do you think it does that?\n",
        ">"
      ]
    },
    {
      "cell_type": "code",
      "metadata": {
        "id": "pXRD8sky1SuP"
      },
      "source": [
        "print(\"fractional string to int:\", int(\"3.4\"))"
      ],
      "execution_count": null,
      "outputs": []
    },
    {
      "cell_type": "code",
      "metadata": {
        "id": "5CO6bwkL1WKm",
        "cellView": "form"
      },
      "source": [
        "#@title Solution\n",
        "\n",
        "print(\"\"\"\n",
        "What do you expect this program to do? It would not be so unreasonable to expect the Python 3 `int` command to\n",
        "convert the string \"3.4\" to 3.4 and an additional type conversion to 3. After all, Python 3 performs a lot of other\n",
        "magic - isn't that part of its charm?\n",
        "\"\"\" )\n"
      ],
      "execution_count": null,
      "outputs": []
    },
    {
      "cell_type": "code",
      "metadata": {
        "id": "ARELIIIa1u8J"
      },
      "source": [
        "int(\"3.4\")"
      ],
      "execution_count": null,
      "outputs": []
    },
    {
      "cell_type": "markdown",
      "metadata": {
        "id": "miPtrtMP10DL"
      },
      "source": [
        "> However, Python 3 throws an error. Why? To be consistent, possibly. If you ask Python to perform two consecutive typecasts, you must convert it explicitly in code."
      ]
    },
    {
      "cell_type": "code",
      "metadata": {
        "id": "p6FtwWpj2GDS"
      },
      "source": [
        "int(float(\"3.4\")"
      ],
      "execution_count": null,
      "outputs": []
    },
    {
      "cell_type": "markdown",
      "metadata": {
        "id": "BGGM2OCQ2Iyh"
      },
      "source": [
        "### Arithmetic with Different Types\n",
        ">\n",
        "> Which of the following will return the floating point number `2.0`?\n",
        "> Note: there may be more than one right answer."
      ]
    },
    {
      "cell_type": "code",
      "metadata": {
        "id": "V1YURTlx2I-K"
      },
      "source": [
        "first = 1.0\n",
        "second = \"1\"\n",
        "third = \"1.1\""
      ],
      "execution_count": null,
      "outputs": []
    },
    {
      "cell_type": "markdown",
      "metadata": {
        "id": "LkAsTT452JEj"
      },
      "source": [
        "> 1. `first + float(second)`\n",
        "> 2. `float(second) + float(third)`\n",
        "> 3. `first + int(third)`\n",
        "> 4. `first + int(float(third))`\n",
        "> 5. `int(first) + int(float(third))`\n",
        "> 6. `2.0 * second`"
      ]
    },
    {
      "cell_type": "code",
      "metadata": {
        "cellView": "form",
        "id": "Mf8xYlDl2JJ-"
      },
      "source": [
        "#@title Solution\n",
        "print(\"Answer: 1 and 4\")"
      ],
      "execution_count": null,
      "outputs": []
    },
    {
      "cell_type": "markdown",
      "metadata": {
        "id": "CZwZlB_u2r-C"
      },
      "source": [
        "### Complex Numbers\n",
        ">\n",
        "> Python provides complex numbers,\n",
        "> which are written as `1.0+2.0j`.\n",
        "> If `val` is a complex number,\n",
        "> its real and imaginary parts can be accessed using *dot notation*\n",
        "> as `val.real` and `val.imag`."
      ]
    },
    {
      "cell_type": "code",
      "metadata": {
        "id": "hREyfaIx2-U1"
      },
      "source": [
        "complex = 6 + 2j\n",
        "print(complex.real)\n",
        "print(complex.imag)"
      ],
      "execution_count": null,
      "outputs": []
    },
    {
      "cell_type": "markdown",
      "metadata": {
        "id": "tAj8yuKt3CaE"
      },
      "source": [
        "> 1.  Why do you think Python uses `j` instead of `i` for the imaginary part?\n",
        "> 2.  What do you expect `1+2j + 3` to produce?\n",
        "> 3.  What do you expect `4j` to be?  What about `4 j` or `4 + j`?"
      ]
    },
    {
      "cell_type": "code",
      "metadata": {
        "cellView": "form",
        "id": "4bUwiZsp3H1U"
      },
      "source": [
        "#@title Solution\n",
        "print(\"\"\"\n",
        "1. Standard mathematics treatments typically use `i` to denote an imaginary number. However, from media reports it\n",
        "was an early convention established from electrical engineering that now presents a technically expensive area to\n",
        "change.(http://stackoverflow.com/questions/24812444/why-are-complex-numbers-in-python-denoted-with-j-instead-of-i)\n",
        "2. `(4+2j)`\n",
        "3. `4j` and `Syntax Error: invalid syntax`. In the latter cases, `j` is considered a variable and the statement\n",
        "depends on if `j` is defined and if so, its assigned value.\n",
        "\"\"\")"
      ],
      "execution_count": null,
      "outputs": []
    },
    {
      "cell_type": "code",
      "metadata": {
        "id": "jVW1fo_w3YQn"
      },
      "source": [
        ""
      ],
      "execution_count": null,
      "outputs": []
    }
  ]
}
