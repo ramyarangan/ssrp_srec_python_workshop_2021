{
  "nbformat": 4,
  "nbformat_minor": 0,
  "metadata": {
    "colab": {
      "name": "matplotlib_intro.ipynb",
      "provenance": [],
      "collapsed_sections": []
    },
    "kernelspec": {
      "name": "python3",
      "display_name": "Python 3"
    },
    "language_info": {
      "name": "python"
    }
  },
  "cells": [
    {
      "cell_type": "markdown",
      "metadata": {
        "id": "-2rZog21hFkm"
      },
      "source": [
        "Goals for this lesson:\n",
        "- learn how to manipulate numpy arrays\n",
        "- learn how to convert numpy arrays into pandas dataframes and vice e versa\n",
        "- learn how to perform basic mathematical operations with numpy arrays\n",
        "- using numpy arrays with scikit"
      ]
    },
    {
      "cell_type": "markdown",
      "metadata": {
        "id": "RqYeyJlGg8VA"
      },
      "source": [
        "## What is numpy?"
      ]
    },
    {
      "cell_type": "markdown",
      "metadata": {
        "id": "R4pvByJihY7p"
      },
      "source": [
        "From the numpy documentation (https://numpy.org/doc/stable/user/whatisnumpy.html)\n",
        "\n",
        ">NumPy is the fundamental package for scientific computing in Python. It is a Python library that provides a multidimensional array object, various derived objects (such as masked arrays and matrices), and an assortment of routines for fast operations on arrays, including mathematical, logical, shape manipulation, sorting, selecting, I/O, discrete Fourier transforms, basic linear algebra, basic statistical operations, random simulation and much more."
      ]
    },
    {
      "cell_type": "markdown",
      "metadata": {
        "id": "zrr6uq7M9zvn"
      },
      "source": [
        "In brief: Numpy is a library to do maths operations on collections of numbers. The core object type in numpy is a \"numpy array\" or \"ndarray\" (N-dimensiosal array). Why do we need these? Remember from day 3, you already learned about a way to store collections of numbers : with a python `list` "
      ]
    },
    {
      "cell_type": "code",
      "metadata": {
        "id": "ZvHPChi9-NmT"
      },
      "source": [
        "alist = [1,5,10,12,3] "
      ],
      "execution_count": 2,
      "outputs": []
    },
    {
      "cell_type": "markdown",
      "metadata": {
        "id": "OK1b0wLF_6aZ"
      },
      "source": [
        "But list are not meant for doing maths. For example, doing simple things like adding a number to all the elements of the list, multiplying two lists entry by entry, or summing two lists together, does not work out of the box."
      ]
    },
    {
      "cell_type": "code",
      "metadata": {
        "colab": {
          "base_uri": "https://localhost:8080/",
          "height": 164
        },
        "id": "zz7DFo2EAMZ5",
        "outputId": "003d890c-aaf9-430c-f29c-403ab4d2d5f6"
      },
      "source": [
        "alist + 10"
      ],
      "execution_count": 3,
      "outputs": [
        {
          "output_type": "error",
          "ename": "TypeError",
          "evalue": "ignored",
          "traceback": [
            "\u001b[0;31m---------------------------------------------------------------------------\u001b[0m",
            "\u001b[0;31mTypeError\u001b[0m                                 Traceback (most recent call last)",
            "\u001b[0;32m<ipython-input-3-f5879687c4d6>\u001b[0m in \u001b[0;36m<module>\u001b[0;34m()\u001b[0m\n\u001b[0;32m----> 1\u001b[0;31m \u001b[0malist\u001b[0m \u001b[0;34m+\u001b[0m \u001b[0;36m10\u001b[0m\u001b[0;34m\u001b[0m\u001b[0;34m\u001b[0m\u001b[0m\n\u001b[0m",
            "\u001b[0;31mTypeError\u001b[0m: can only concatenate list (not \"int\") to list"
          ]
        }
      ]
    },
    {
      "cell_type": "code",
      "metadata": {
        "colab": {
          "base_uri": "https://localhost:8080/",
          "height": 164
        },
        "id": "KvyqVuk-ANlp",
        "outputId": "8b704cb7-96fb-4ac8-9f46-4c15b00f1aa5"
      },
      "source": [
        "alist*alist"
      ],
      "execution_count": 6,
      "outputs": [
        {
          "output_type": "error",
          "ename": "TypeError",
          "evalue": "ignored",
          "traceback": [
            "\u001b[0;31m---------------------------------------------------------------------------\u001b[0m",
            "\u001b[0;31mTypeError\u001b[0m                                 Traceback (most recent call last)",
            "\u001b[0;32m<ipython-input-6-ea63170c4955>\u001b[0m in \u001b[0;36m<module>\u001b[0;34m()\u001b[0m\n\u001b[0;32m----> 1\u001b[0;31m \u001b[0malist\u001b[0m\u001b[0;34m*\u001b[0m\u001b[0malist\u001b[0m\u001b[0;34m\u001b[0m\u001b[0;34m\u001b[0m\u001b[0m\n\u001b[0m",
            "\u001b[0;31mTypeError\u001b[0m: can't multiply sequence by non-int of type 'list'"
          ]
        }
      ]
    },
    {
      "cell_type": "code",
      "metadata": {
        "colab": {
          "base_uri": "https://localhost:8080/"
        },
        "id": "eU4C4BWgAQ06",
        "outputId": "e04afcdd-9d3f-499c-f2a3-bf8af9b152e5"
      },
      "source": [
        "alist+alist"
      ],
      "execution_count": 7,
      "outputs": [
        {
          "output_type": "execute_result",
          "data": {
            "text/plain": [
              "[1, 5, 10, 12, 3, 1, 5, 10, 12, 3]"
            ]
          },
          "metadata": {
            "tags": []
          },
          "execution_count": 7
        }
      ]
    },
    {
      "cell_type": "markdown",
      "metadata": {
        "id": "7KIRrWqfAYFq"
      },
      "source": [
        "The + operation doesn't error, but this is not interpreted as the \"algebric\" plus, it is the concatenation of the two lists"
      ]
    },
    {
      "cell_type": "markdown",
      "metadata": {
        "id": "13EejlhAizol"
      },
      "source": [
        "To do these mathematical operations with list, you would need to use list comprehension. For example, to add 10 to each element in the list, you can do:"
      ]
    },
    {
      "cell_type": "code",
      "metadata": {
        "colab": {
          "base_uri": "https://localhost:8080/"
        },
        "id": "sefUcYO6i9bL",
        "outputId": "53e854ce-781d-4dac-e9f4-949300b6f062"
      },
      "source": [
        "alist_plus_10=[k + 10 for k in alist]\n",
        "alist_plus_10"
      ],
      "execution_count": 83,
      "outputs": [
        {
          "output_type": "execute_result",
          "data": {
            "text/plain": [
              "[11, 15, 20, 22, 13]"
            ]
          },
          "metadata": {
            "tags": []
          },
          "execution_count": 83
        }
      ]
    },
    {
      "cell_type": "markdown",
      "metadata": {
        "id": "szu0Yn-SjHTG"
      },
      "source": [
        "This is not very natural, epecially if you want to do more complex maths like matrix multiplication, transformations, etc... To be able to do maths, we create a numpy array. The easiest way to create an array, is by starting with a list, and making an array from it"
      ]
    },
    {
      "cell_type": "code",
      "metadata": {
        "id": "73CedU_pG5Uj"
      },
      "source": [
        "import numpy as np\n",
        "x=np.array(alist)"
      ],
      "execution_count": 4,
      "outputs": []
    },
    {
      "cell_type": "code",
      "metadata": {
        "colab": {
          "base_uri": "https://localhost:8080/"
        },
        "id": "U2DAz-sVHEtR",
        "outputId": "a6621831-219e-423c-ac47-fbe5cb76c93c"
      },
      "source": [
        "x"
      ],
      "execution_count": 9,
      "outputs": [
        {
          "output_type": "execute_result",
          "data": {
            "text/plain": [
              "array([ 1,  5, 10, 12,  3])"
            ]
          },
          "metadata": {
            "tags": []
          },
          "execution_count": 9
        }
      ]
    },
    {
      "cell_type": "markdown",
      "metadata": {
        "id": "UsSmmArE1NyU"
      },
      "source": [
        "We can see that m and alist are two different object, by just looking at their type"
      ]
    },
    {
      "cell_type": "code",
      "metadata": {
        "colab": {
          "base_uri": "https://localhost:8080/"
        },
        "id": "H80WMR311UIj",
        "outputId": "30164298-b2cd-4d05-f6ac-a934205e3b88"
      },
      "source": [
        "print(type(x))\n",
        "print(type(alist))\n"
      ],
      "execution_count": 20,
      "outputs": [
        {
          "output_type": "stream",
          "text": [
            "<class 'numpy.ndarray'>\n",
            "<class 'list'>\n"
          ],
          "name": "stdout"
        }
      ]
    },
    {
      "cell_type": "markdown",
      "metadata": {
        "id": "SizgJ4GSHKTG"
      },
      "source": [
        "Now let's check out some operations"
      ]
    },
    {
      "cell_type": "code",
      "metadata": {
        "colab": {
          "base_uri": "https://localhost:8080/"
        },
        "id": "tlzydB2NHOes",
        "outputId": "abd07232-a9f9-4a1c-8575-c4b47fc5a3da"
      },
      "source": [
        "x+10"
      ],
      "execution_count": 10,
      "outputs": [
        {
          "output_type": "execute_result",
          "data": {
            "text/plain": [
              "array([11, 15, 20, 22, 13])"
            ]
          },
          "metadata": {
            "tags": []
          },
          "execution_count": 10
        }
      ]
    },
    {
      "cell_type": "code",
      "metadata": {
        "colab": {
          "base_uri": "https://localhost:8080/"
        },
        "id": "LhtcrsAHHQ3-",
        "outputId": "f34ee126-f5db-4331-94ea-6fc133cabc46"
      },
      "source": [
        "x+x"
      ],
      "execution_count": 11,
      "outputs": [
        {
          "output_type": "execute_result",
          "data": {
            "text/plain": [
              "array([ 2, 10, 20, 24,  6])"
            ]
          },
          "metadata": {
            "tags": []
          },
          "execution_count": 11
        }
      ]
    },
    {
      "cell_type": "code",
      "metadata": {
        "colab": {
          "base_uri": "https://localhost:8080/"
        },
        "id": "Mh9R625yHRve",
        "outputId": "f3df31da-5661-4aea-d43d-6e5df38ec4e8"
      },
      "source": [
        "x*x"
      ],
      "execution_count": 12,
      "outputs": [
        {
          "output_type": "execute_result",
          "data": {
            "text/plain": [
              "array([  1,  25, 100, 144,   9])"
            ]
          },
          "metadata": {
            "tags": []
          },
          "execution_count": 12
        }
      ]
    },
    {
      "cell_type": "markdown",
      "metadata": {
        "id": "WYf10hQjHSuP"
      },
      "source": [
        "We can get the dimension of the arrays with `.shape`"
      ]
    },
    {
      "cell_type": "code",
      "metadata": {
        "colab": {
          "base_uri": "https://localhost:8080/"
        },
        "id": "4nwLPbTtH0mT",
        "outputId": "b5b6f3cf-c9b8-4ce8-8895-2ee5be7334ac"
      },
      "source": [
        "x.shape"
      ],
      "execution_count": 13,
      "outputs": [
        {
          "output_type": "execute_result",
          "data": {
            "text/plain": [
              "(5,)"
            ]
          },
          "metadata": {
            "tags": []
          },
          "execution_count": 13
        }
      ]
    },
    {
      "cell_type": "markdown",
      "metadata": {
        "id": "ejjVHFPHINQT"
      },
      "source": [
        "We can get specific elements within the array with an indexing or slicing operation."
      ]
    },
    {
      "cell_type": "code",
      "metadata": {
        "colab": {
          "base_uri": "https://localhost:8080/"
        },
        "id": "_1LiIzkSIcyH",
        "outputId": "876ca49d-d37e-4c77-a0d7-a828a16e2f52"
      },
      "source": [
        "x[1] # retrieves one element (first element at 0)"
      ],
      "execution_count": 14,
      "outputs": [
        {
          "output_type": "execute_result",
          "data": {
            "text/plain": [
              "5"
            ]
          },
          "metadata": {
            "tags": []
          },
          "execution_count": 14
        }
      ]
    },
    {
      "cell_type": "code",
      "metadata": {
        "colab": {
          "base_uri": "https://localhost:8080/"
        },
        "id": "bGOWcAgoIePY",
        "outputId": "76ded27d-18d5-43e2-cba9-632b715db058"
      },
      "source": [
        "x[-1] # - sign counts from the end, so -1 is last\n"
      ],
      "execution_count": 15,
      "outputs": [
        {
          "output_type": "execute_result",
          "data": {
            "text/plain": [
              "3"
            ]
          },
          "metadata": {
            "tags": []
          },
          "execution_count": 15
        }
      ]
    },
    {
      "cell_type": "code",
      "metadata": {
        "colab": {
          "base_uri": "https://localhost:8080/"
        },
        "id": "Mt_oCJfeI22p",
        "outputId": "b42422df-1b9d-4c2a-bb5a-49e9cfe2ac7f"
      },
      "source": [
        "x[1:3] # element 1 (second from the left!) up to NOT including element 3 (4th from the left)"
      ],
      "execution_count": 16,
      "outputs": [
        {
          "output_type": "execute_result",
          "data": {
            "text/plain": [
              "array([ 5, 10])"
            ]
          },
          "metadata": {
            "tags": []
          },
          "execution_count": 16
        }
      ]
    },
    {
      "cell_type": "markdown",
      "metadata": {
        "id": "uoMsm4-n1kaE"
      },
      "source": [
        "We can convert the array back to a list with"
      ]
    },
    {
      "cell_type": "code",
      "metadata": {
        "colab": {
          "base_uri": "https://localhost:8080/"
        },
        "id": "ZfVpyybs1oc9",
        "outputId": "b2b36bb6-6e2a-437e-dbc0-a5c21e785611"
      },
      "source": [
        "list(x)"
      ],
      "execution_count": 21,
      "outputs": [
        {
          "output_type": "execute_result",
          "data": {
            "text/plain": [
              "[1, 5, 10, 12, 3]"
            ]
          },
          "metadata": {
            "tags": []
          },
          "execution_count": 21
        }
      ]
    },
    {
      "cell_type": "markdown",
      "metadata": {
        "id": "VQ9WHte-H1Vk"
      },
      "source": [
        "The array x is one-dimensional, but we can also make 2D arrays. Just like we can make a 1-D array from a list, we can make a 2D array from a list of list"
      ]
    },
    {
      "cell_type": "code",
      "metadata": {
        "colab": {
          "base_uri": "https://localhost:8080/"
        },
        "id": "ilVAfS_IILOX",
        "outputId": "c5e05668-c70e-4caa-8e2a-3d343d9de5a5"
      },
      "source": [
        "M=np.array([[1,3,5],[-1,10,6]])\n",
        "M"
      ],
      "execution_count": 5,
      "outputs": [
        {
          "output_type": "execute_result",
          "data": {
            "text/plain": [
              "array([[ 1,  3,  5],\n",
              "       [-1, 10,  6]])"
            ]
          },
          "metadata": {
            "tags": []
          },
          "execution_count": 5
        }
      ]
    },
    {
      "cell_type": "code",
      "metadata": {
        "colab": {
          "base_uri": "https://localhost:8080/"
        },
        "id": "uIJz734TJZSL",
        "outputId": "397e2471-12f3-4607-af5e-31bb3bb449df"
      },
      "source": [
        "M.shape"
      ],
      "execution_count": 18,
      "outputs": [
        {
          "output_type": "execute_result",
          "data": {
            "text/plain": [
              "(2, 3)"
            ]
          },
          "metadata": {
            "tags": []
          },
          "execution_count": 18
        }
      ]
    },
    {
      "cell_type": "markdown",
      "metadata": {
        "id": "Mgeg7qwcKRZw"
      },
      "source": [
        "Slicing works on 2D arrays as well\n"
      ]
    },
    {
      "cell_type": "code",
      "metadata": {
        "colab": {
          "base_uri": "https://localhost:8080/"
        },
        "id": "_PMwlGFILr2x",
        "outputId": "464aa413-76c8-4f7c-f8df-aeb61a8e4576"
      },
      "source": [
        "M[1,:] # second row, all columns"
      ],
      "execution_count": 19,
      "outputs": [
        {
          "output_type": "execute_result",
          "data": {
            "text/plain": [
              "array([-1, 10,  6])"
            ]
          },
          "metadata": {
            "tags": []
          },
          "execution_count": 19
        }
      ]
    },
    {
      "cell_type": "code",
      "metadata": {
        "colab": {
          "base_uri": "https://localhost:8080/"
        },
        "id": "s_I1p-xBLwJ1",
        "outputId": "fffa1173-4475-4a01-b141-a97d350c4b5e"
      },
      "source": [
        "M[:,2] #  "
      ],
      "execution_count": 52,
      "outputs": [
        {
          "output_type": "execute_result",
          "data": {
            "text/plain": [
              "array([5, 6])"
            ]
          },
          "metadata": {
            "tags": []
          },
          "execution_count": 52
        }
      ]
    },
    {
      "cell_type": "code",
      "metadata": {
        "colab": {
          "base_uri": "https://localhost:8080/"
        },
        "id": "63L6wQkAL0Xr",
        "outputId": "e5df64dc-6033-4b80-cd38-b3d6b8bad01c"
      },
      "source": [
        "M[1,1:-1]"
      ],
      "execution_count": 20,
      "outputs": [
        {
          "output_type": "execute_result",
          "data": {
            "text/plain": [
              "array([10])"
            ]
          },
          "metadata": {
            "tags": []
          },
          "execution_count": 20
        }
      ]
    },
    {
      "cell_type": "markdown",
      "metadata": {
        "id": "F4EawQAFJf9h"
      },
      "source": [
        "We can use arrays to do matrix operations. For example, let's multiply the matrix M with the vector v. "
      ]
    },
    {
      "cell_type": "code",
      "metadata": {
        "colab": {
          "base_uri": "https://localhost:8080/"
        },
        "id": "m5s9TdRYJ1bz",
        "outputId": "d0ed1363-3e2e-467e-f540-a7da0c39ec3b"
      },
      "source": [
        "v=np.array([1,1,0])\n",
        "M @ v"
      ],
      "execution_count": 29,
      "outputs": [
        {
          "output_type": "execute_result",
          "data": {
            "text/plain": [
              "array([4, 9])"
            ]
          },
          "metadata": {
            "tags": []
          },
          "execution_count": 29
        }
      ]
    },
    {
      "cell_type": "markdown",
      "metadata": {
        "id": "5XsjJ-s1sIAH"
      },
      "source": [
        "Note that we used the operator @ for matrix multiplication, which is not the same as * which is element wise multiplication"
      ]
    },
    {
      "cell_type": "code",
      "metadata": {
        "colab": {
          "base_uri": "https://localhost:8080/"
        },
        "id": "GHka8FmTJ9yF",
        "outputId": "ec268dfc-193c-44d3-c92e-1c815d775f82"
      },
      "source": [
        "M *v "
      ],
      "execution_count": 30,
      "outputs": [
        {
          "output_type": "execute_result",
          "data": {
            "text/plain": [
              "array([[ 1,  3,  0],\n",
              "       [-1, 10,  0]])"
            ]
          },
          "metadata": {
            "tags": []
          },
          "execution_count": 30
        }
      ]
    },
    {
      "cell_type": "markdown",
      "metadata": {
        "id": "VUOEDF8-vMmf"
      },
      "source": [
        "## Reshaping, stacking, transposing"
      ]
    },
    {
      "cell_type": "markdown",
      "metadata": {
        "id": "93Ifk5QfvU1y"
      },
      "source": [
        "We can reshape the array with .reshape"
      ]
    },
    {
      "cell_type": "code",
      "metadata": {
        "colab": {
          "base_uri": "https://localhost:8080/"
        },
        "id": "WX2Z-qUuvge6",
        "outputId": "f8af2804-686e-49c1-eb39-e6a9a5cc38ac"
      },
      "source": [
        "M"
      ],
      "execution_count": 32,
      "outputs": [
        {
          "output_type": "execute_result",
          "data": {
            "text/plain": [
              "array([[ 1,  3,  5],\n",
              "       [-1, 10,  6]])"
            ]
          },
          "metadata": {
            "tags": []
          },
          "execution_count": 32
        }
      ]
    },
    {
      "cell_type": "markdown",
      "metadata": {
        "id": "JLdgGat-kJ2h"
      },
      "source": [
        "For example, let's reshape the 2x3 matrix into a 3x2 matrix."
      ]
    },
    {
      "cell_type": "code",
      "metadata": {
        "colab": {
          "base_uri": "https://localhost:8080/"
        },
        "id": "4TPW9xU7vaA4",
        "outputId": "ab8dae71-4a03-42d3-d3c8-fa3b046dd72c"
      },
      "source": [
        "np.reshape(M,(3,2))"
      ],
      "execution_count": 35,
      "outputs": [
        {
          "output_type": "execute_result",
          "data": {
            "text/plain": [
              "array([[ 1,  3],\n",
              "       [ 5, -1],\n",
              "       [10,  6]])"
            ]
          },
          "metadata": {
            "tags": []
          },
          "execution_count": 35
        }
      ]
    },
    {
      "cell_type": "markdown",
      "metadata": {
        "id": "Y57aY8rckR4v"
      },
      "source": [
        "Note that the new matrix is created by reading the elements of the input matrix rows first (left to right then top to bottom) and filling in the new matrix row first (left to right then top to bottom). "
      ]
    },
    {
      "cell_type": "markdown",
      "metadata": {
        "id": "hhLoaIlOkmeq"
      },
      "source": [
        "Exercice: reshape the matrix M into a single row matrix, and then into a single column "
      ]
    },
    {
      "cell_type": "code",
      "metadata": {
        "colab": {
          "base_uri": "https://localhost:8080/"
        },
        "id": "GAirzDjbvrbT",
        "outputId": "5fdf501f-0ab9-44b4-f43d-5f45a5f0d2f3"
      },
      "source": [
        "np.reshape(M,(1,6))"
      ],
      "execution_count": 40,
      "outputs": [
        {
          "output_type": "execute_result",
          "data": {
            "text/plain": [
              "array([[ 1,  3,  5, -1, 10,  6]])"
            ]
          },
          "metadata": {
            "tags": []
          },
          "execution_count": 40
        }
      ]
    },
    {
      "cell_type": "markdown",
      "metadata": {
        "id": "MBohu7aak5qc"
      },
      "source": [
        "We can also convert from 2D matrix to 1D with `.flatten`"
      ]
    },
    {
      "cell_type": "code",
      "metadata": {
        "colab": {
          "base_uri": "https://localhost:8080/"
        },
        "id": "FecIYuK6k-z1",
        "outputId": "a167dea4-4b9c-4e2a-b1e1-3faa4cedd68f"
      },
      "source": [
        "M.flatten()"
      ],
      "execution_count": 84,
      "outputs": [
        {
          "output_type": "execute_result",
          "data": {
            "text/plain": [
              "array([ 1,  3,  5, -1, 10,  6])"
            ]
          },
          "metadata": {
            "tags": []
          },
          "execution_count": 84
        }
      ]
    },
    {
      "cell_type": "markdown",
      "metadata": {
        "id": "bUBSqbhwlF42"
      },
      "source": [
        "Exercise: is this numpy array different than the one obtained in the previous exercise (single row matrix)"
      ]
    },
    {
      "cell_type": "markdown",
      "metadata": {
        "id": "Op9FOU-TlTDT"
      },
      "source": [
        "We combine numpy arrays together by using horizontal stacking (hstack) or vertical stacking (vstack)"
      ]
    },
    {
      "cell_type": "code",
      "metadata": {
        "id": "7S-WaxZjv1oU",
        "colab": {
          "base_uri": "https://localhost:8080/"
        },
        "outputId": "df16465a-b56f-4169-c7ba-801f46dc639f"
      },
      "source": [
        "np.hstack([M,M])"
      ],
      "execution_count": 6,
      "outputs": [
        {
          "output_type": "execute_result",
          "data": {
            "text/plain": [
              "array([[ 1,  3,  5,  1,  3,  5],\n",
              "       [-1, 10,  6, -1, 10,  6]])"
            ]
          },
          "metadata": {
            "tags": []
          },
          "execution_count": 6
        }
      ]
    },
    {
      "cell_type": "code",
      "metadata": {
        "colab": {
          "base_uri": "https://localhost:8080/"
        },
        "id": "3b1L37yPzVIR",
        "outputId": "4cc6ea90-1283-45d5-b1a3-aea83f1950ac"
      },
      "source": [
        "np.vstack([M,M])"
      ],
      "execution_count": 7,
      "outputs": [
        {
          "output_type": "execute_result",
          "data": {
            "text/plain": [
              "array([[ 1,  3,  5],\n",
              "       [-1, 10,  6],\n",
              "       [ 1,  3,  5],\n",
              "       [-1, 10,  6]])"
            ]
          },
          "metadata": {
            "tags": []
          },
          "execution_count": 7
        }
      ]
    },
    {
      "cell_type": "markdown",
      "metadata": {
        "id": "0gpzc56nlcoo"
      },
      "source": [
        "We can transpose a numpy array with `.transpose`\n"
      ]
    },
    {
      "cell_type": "code",
      "metadata": {
        "colab": {
          "base_uri": "https://localhost:8080/"
        },
        "id": "7ZvYQoMolhPR",
        "outputId": "3988e372-8f33-440e-fc56-9529f1ed6e59"
      },
      "source": [
        "M.transpose()"
      ],
      "execution_count": 87,
      "outputs": [
        {
          "output_type": "execute_result",
          "data": {
            "text/plain": [
              "array([[ 1, -1],\n",
              "       [ 3, 10],\n",
              "       [ 5,  6]])"
            ]
          },
          "metadata": {
            "tags": []
          },
          "execution_count": 87
        }
      ]
    },
    {
      "cell_type": "markdown",
      "metadata": {
        "id": "hp1j2nI6lo9q"
      },
      "source": [
        "## From numpy to Pandas "
      ]
    },
    {
      "cell_type": "markdown",
      "metadata": {
        "id": "Bkah4Zg0zfMe"
      },
      "source": [
        "A numpy array can be used to create a DataFrame"
      ]
    },
    {
      "cell_type": "code",
      "metadata": {
        "id": "u7Ws95mvLi_k"
      },
      "source": [
        "import pandas as pd"
      ],
      "execution_count": 9,
      "outputs": []
    },
    {
      "cell_type": "code",
      "metadata": {
        "colab": {
          "base_uri": "https://localhost:8080/",
          "height": 111
        },
        "id": "LCL03H3szkTH",
        "outputId": "84b549fa-9299-45f9-a583-5ce95a7511f0"
      },
      "source": [
        "pd.DataFrame(M)"
      ],
      "execution_count": 10,
      "outputs": [
        {
          "output_type": "execute_result",
          "data": {
            "text/html": [
              "<div>\n",
              "<style scoped>\n",
              "    .dataframe tbody tr th:only-of-type {\n",
              "        vertical-align: middle;\n",
              "    }\n",
              "\n",
              "    .dataframe tbody tr th {\n",
              "        vertical-align: top;\n",
              "    }\n",
              "\n",
              "    .dataframe thead th {\n",
              "        text-align: right;\n",
              "    }\n",
              "</style>\n",
              "<table border=\"1\" class=\"dataframe\">\n",
              "  <thead>\n",
              "    <tr style=\"text-align: right;\">\n",
              "      <th></th>\n",
              "      <th>0</th>\n",
              "      <th>1</th>\n",
              "      <th>2</th>\n",
              "    </tr>\n",
              "  </thead>\n",
              "  <tbody>\n",
              "    <tr>\n",
              "      <th>0</th>\n",
              "      <td>1</td>\n",
              "      <td>3</td>\n",
              "      <td>5</td>\n",
              "    </tr>\n",
              "    <tr>\n",
              "      <th>1</th>\n",
              "      <td>-1</td>\n",
              "      <td>10</td>\n",
              "      <td>6</td>\n",
              "    </tr>\n",
              "  </tbody>\n",
              "</table>\n",
              "</div>"
            ],
            "text/plain": [
              "   0   1  2\n",
              "0  1   3  5\n",
              "1 -1  10  6"
            ]
          },
          "metadata": {
            "tags": []
          },
          "execution_count": 10
        }
      ]
    },
    {
      "cell_type": "markdown",
      "metadata": {
        "id": "LBGjW42yzpcK"
      },
      "source": [
        "We can specify the name for the columns and rowns"
      ]
    },
    {
      "cell_type": "code",
      "metadata": {
        "colab": {
          "base_uri": "https://localhost:8080/",
          "height": 111
        },
        "id": "azV6-GjIzugA",
        "outputId": "d9ac5456-f4a4-47ad-c519-a859b991c65e"
      },
      "source": [
        "M_df=pd.DataFrame(M, index=['day0','day1'], columns=['Seattle','Denver','Winnipeg'])\n",
        "M_df"
      ],
      "execution_count": 13,
      "outputs": [
        {
          "output_type": "execute_result",
          "data": {
            "text/html": [
              "<div>\n",
              "<style scoped>\n",
              "    .dataframe tbody tr th:only-of-type {\n",
              "        vertical-align: middle;\n",
              "    }\n",
              "\n",
              "    .dataframe tbody tr th {\n",
              "        vertical-align: top;\n",
              "    }\n",
              "\n",
              "    .dataframe thead th {\n",
              "        text-align: right;\n",
              "    }\n",
              "</style>\n",
              "<table border=\"1\" class=\"dataframe\">\n",
              "  <thead>\n",
              "    <tr style=\"text-align: right;\">\n",
              "      <th></th>\n",
              "      <th>Seattle</th>\n",
              "      <th>Denver</th>\n",
              "      <th>Winnipeg</th>\n",
              "    </tr>\n",
              "  </thead>\n",
              "  <tbody>\n",
              "    <tr>\n",
              "      <th>day0</th>\n",
              "      <td>1</td>\n",
              "      <td>3</td>\n",
              "      <td>5</td>\n",
              "    </tr>\n",
              "    <tr>\n",
              "      <th>day1</th>\n",
              "      <td>-1</td>\n",
              "      <td>10</td>\n",
              "      <td>6</td>\n",
              "    </tr>\n",
              "  </tbody>\n",
              "</table>\n",
              "</div>"
            ],
            "text/plain": [
              "      Seattle  Denver  Winnipeg\n",
              "day0        1       3         5\n",
              "day1       -1      10         6"
            ]
          },
          "metadata": {
            "tags": []
          },
          "execution_count": 13
        }
      ]
    },
    {
      "cell_type": "markdown",
      "metadata": {
        "id": "2Z_KCihz0llm"
      },
      "source": [
        "Under the hood, Pandas uses numpy arrays. We can get the numpy array used to store the values in pandas with `.values`"
      ]
    },
    {
      "cell_type": "code",
      "metadata": {
        "colab": {
          "base_uri": "https://localhost:8080/"
        },
        "id": "QApdG85t0Z9V",
        "outputId": "74c42938-091a-47f0-ab4f-f3ae2908e50d"
      },
      "source": [
        "M_df.values"
      ],
      "execution_count": 16,
      "outputs": [
        {
          "output_type": "execute_result",
          "data": {
            "text/plain": [
              "array([[ 1,  3,  5],\n",
              "       [-1, 10,  6]])"
            ]
          },
          "metadata": {
            "tags": []
          },
          "execution_count": 16
        }
      ]
    },
    {
      "cell_type": "markdown",
      "metadata": {
        "id": "P-sKaJ5alwbM"
      },
      "source": [
        "You can see that these are two different objects by looking at their type"
      ]
    },
    {
      "cell_type": "code",
      "metadata": {
        "colab": {
          "base_uri": "https://localhost:8080/"
        },
        "id": "bEGAQL9z1A5S",
        "outputId": "0aa2261d-2699-49aa-b170-fc30652b6ef9"
      },
      "source": [
        "type(M_df)"
      ],
      "execution_count": 17,
      "outputs": [
        {
          "output_type": "execute_result",
          "data": {
            "text/plain": [
              "pandas.core.frame.DataFrame"
            ]
          },
          "metadata": {
            "tags": []
          },
          "execution_count": 17
        }
      ]
    },
    {
      "cell_type": "code",
      "metadata": {
        "colab": {
          "base_uri": "https://localhost:8080/"
        },
        "id": "Oei6n2Jw1HBc",
        "outputId": "a54a073f-37a7-4c96-af93-ce149ac85365"
      },
      "source": [
        "type(M_df.values)"
      ],
      "execution_count": 18,
      "outputs": [
        {
          "output_type": "execute_result",
          "data": {
            "text/plain": [
              "numpy.ndarray"
            ]
          },
          "metadata": {
            "tags": []
          },
          "execution_count": 18
        }
      ]
    },
    {
      "cell_type": "code",
      "metadata": {
        "id": "RP1YGmMil7k8"
      },
      "source": [
        ""
      ],
      "execution_count": null,
      "outputs": []
    },
    {
      "cell_type": "markdown",
      "metadata": {
        "id": "lJHo09wkLfdB"
      },
      "source": [
        "## Simple operations on arrays: mean, sum, standard devitions, etc.."
      ]
    },
    {
      "cell_type": "markdown",
      "metadata": {
        "id": "9YSgh0ASl-EN"
      },
      "source": [
        "Just like what we saw with Pandas, we can compute sum, means, etc... along a specific axis"
      ]
    },
    {
      "cell_type": "code",
      "metadata": {
        "colab": {
          "base_uri": "https://localhost:8080/"
        },
        "id": "yiKzYOqlL76z",
        "outputId": "106ed8e8-2732-4e33-c6a1-2bbc76bff9de"
      },
      "source": [
        "M.sum(axis=1) # sum of all elements along the columns"
      ],
      "execution_count": 22,
      "outputs": [
        {
          "output_type": "execute_result",
          "data": {
            "text/plain": [
              "array([ 9, 15])"
            ]
          },
          "metadata": {
            "tags": []
          },
          "execution_count": 22
        }
      ]
    },
    {
      "cell_type": "code",
      "metadata": {
        "colab": {
          "base_uri": "https://localhost:8080/"
        },
        "id": "UowmpJN9mz8F",
        "outputId": "17ed56f5-4cf6-42b4-ba18-baad893185ee"
      },
      "source": [
        "M.mean(axis=1) # mean of all elements along the columns"
      ],
      "execution_count": 88,
      "outputs": [
        {
          "output_type": "execute_result",
          "data": {
            "text/plain": [
              "array([3., 5.])"
            ]
          },
          "metadata": {
            "tags": []
          },
          "execution_count": 88
        }
      ]
    },
    {
      "cell_type": "code",
      "metadata": {
        "colab": {
          "base_uri": "https://localhost:8080/"
        },
        "id": "plPf_YD_MJbV",
        "outputId": "a1173cba-fad9-494b-d4e9-44948df989a4"
      },
      "source": [
        "M.std(axis=0) # standard deviation along the rows"
      ],
      "execution_count": 89,
      "outputs": [
        {
          "output_type": "execute_result",
          "data": {
            "text/plain": [
              "array([1. , 3.5, 0.5])"
            ]
          },
          "metadata": {
            "tags": []
          },
          "execution_count": 89
        }
      ]
    },
    {
      "cell_type": "markdown",
      "metadata": {
        "id": "WhKN_SgLMS-O"
      },
      "source": [
        "**EXERCISE** : Recall the defition of the standard deviation: $std(v)=\\sqrt{(\\text{mean}(v^2)-\\text{mean}(v)^2)}$. Using this definition, recover the standard deviation of M along the rows without using the function `.std`"
      ]
    },
    {
      "cell_type": "code",
      "metadata": {
        "colab": {
          "base_uri": "https://localhost:8080/"
        },
        "id": "ty7iCM4JMmuQ",
        "outputId": "c10d0f8b-6a97-4372-a3a4-337b6173f2be"
      },
      "source": [
        "#mean M (along the rows, so axis=0)\n",
        "mu=M.mean(axis=0)\n",
        "print(mu)\n",
        "mu2=(M*M).mean(axis=0)\n",
        "print(mu2)\n",
        "np.sqrt(mu2-mu**2)"
      ],
      "execution_count": 31,
      "outputs": [
        {
          "output_type": "stream",
          "text": [
            "[0.  6.5 5.5]\n",
            "[ 1.  54.5 30.5]\n"
          ],
          "name": "stdout"
        },
        {
          "output_type": "execute_result",
          "data": {
            "text/plain": [
              "array([1. , 3.5, 0.5])"
            ]
          },
          "metadata": {
            "tags": []
          },
          "execution_count": 31
        }
      ]
    },
    {
      "cell_type": "markdown",
      "metadata": {
        "id": "ysXVXpPCNDlM"
      },
      "source": [
        "Common mathematical functions are in numpy: `np.sin, np.tan, np.exp, np.sqrt, etc...` "
      ]
    },
    {
      "cell_type": "code",
      "metadata": {
        "colab": {
          "base_uri": "https://localhost:8080/"
        },
        "id": "elq_oH34NyMp",
        "outputId": "94242259-8a45-44ec-c6a9-a665f7d90048"
      },
      "source": [
        "np.cos(np.pi)"
      ],
      "execution_count": 34,
      "outputs": [
        {
          "output_type": "execute_result",
          "data": {
            "text/plain": [
              "-1.0"
            ]
          },
          "metadata": {
            "tags": []
          },
          "execution_count": 34
        }
      ]
    },
    {
      "cell_type": "markdown",
      "metadata": {
        "id": "hPT9jtTUnKBv"
      },
      "source": [
        "## Loading real world data in a numpy array"
      ]
    },
    {
      "cell_type": "markdown",
      "metadata": {
        "id": "-rN71-dbnRmg"
      },
      "source": [
        "Let's download a single-cell RNA sequencing dataset from http://dropviz.org/. \n"
      ]
    },
    {
      "cell_type": "code",
      "metadata": {
        "colab": {
          "base_uri": "https://localhost:8080/"
        },
        "id": "NACK_qoSE53d",
        "outputId": "f7ecaaa4-a3eb-4e88-8c42-71f647830d29"
      },
      "source": [
        "!wget https://storage.googleapis.com/dropviz-downloads/static/metacells.BrainCellAtlas_Saunders_version_2018.04.01.csv "
      ],
      "execution_count": 136,
      "outputs": [
        {
          "output_type": "stream",
          "text": [
            "--2021-06-14 01:12:54--  https://storage.googleapis.com/dropviz-downloads/static/metacells.BrainCellAtlas_Saunders_version_2018.04.01.csv\n",
            "Resolving storage.googleapis.com (storage.googleapis.com)... 172.217.164.176, 172.217.2.112, 172.253.62.128, ...\n",
            "Connecting to storage.googleapis.com (storage.googleapis.com)|172.217.164.176|:443... connected.\n",
            "HTTP request sent, awaiting response... 200 OK\n",
            "Length: 41785397 (40M) [text/csv]\n",
            "Saving to: ‘metacells.BrainCellAtlas_Saunders_version_2018.04.01.csv.1’\n",
            "\n",
            "metacells.BrainCell 100%[===================>]  39.85M   103MB/s    in 0.4s    \n",
            "\n",
            "2021-06-14 01:12:54 (103 MB/s) - ‘metacells.BrainCellAtlas_Saunders_version_2018.04.01.csv.1’ saved [41785397/41785397]\n",
            "\n"
          ],
          "name": "stdout"
        }
      ]
    },
    {
      "cell_type": "markdown",
      "metadata": {
        "id": "_MOWgUCcF2wu"
      },
      "source": [
        "We can take a quick look at the csv file by running the shell command `head` direcly from within the notebook\n"
      ]
    },
    {
      "cell_type": "code",
      "metadata": {
        "id": "xG8MaFxnF09Q",
        "colab": {
          "base_uri": "https://localhost:8080/"
        },
        "outputId": "6b9a227b-554b-4d5b-b657-26057c0cde76"
      },
      "source": [
        "!head metacells.BrainCellAtlas_Saunders_version_2018.04.01.csv\n"
      ],
      "execution_count": 142,
      "outputs": [
        {
          "output_type": "stream",
          "text": [
            ",CB_1-1,CB_10-1,CB_10-2,CB_10-3,CB_11-1,CB_11-2,CB_11-3,CB_11-4,CB_11-5,CB_2-1,CB_3-1,CB_3-2,CB_3-3,CB_3-4,CB_4-1,CB_4-2,CB_4-3,CB_5-1,CB_6-1,CB_6-2,CB_6-3,CB_7-1,CB_8-1,CB_8-2,CB_9-1,FC_1-1,FC_1-10,FC_1-11,FC_1-2,FC_1-3,FC_1-4,FC_1-5,FC_1-6,FC_1-7,FC_1-8,FC_1-9,FC_10-1,FC_10-2,FC_10-3,FC_10-4,FC_10-5,FC_10-6,FC_11-1,FC_11-2,FC_11-3,FC_11-4,FC_12-1,FC_12-2,FC_12-3,FC_12-4,FC_12-5,FC_13-1,FC_13-2,FC_13-3,FC_13-4,FC_14-1,FC_14-2,FC_14-3,FC_14-4,FC_14-5,FC_2-1,FC_2-10,FC_2-2,FC_2-3,FC_2-4,FC_2-5,FC_2-6,FC_2-7,FC_2-8,FC_2-9,FC_3-1,FC_3-10,FC_3-11,FC_3-12,FC_3-13,FC_3-2,FC_3-3,FC_3-4,FC_3-5,FC_3-6,FC_3-7,FC_3-8,FC_3-9,FC_4-1,FC_4-2,FC_5-1,FC_6-1,FC_6-2,FC_6-3,FC_6-4,FC_6-5,FC_6-6,FC_7-1,FC_7-2,FC_7-3,FC_7-4,FC_7-5,FC_7-6,FC_7-7,FC_8-1,FC_8-2,FC_9-1,FC_9-2,FC_9-3,FC_9-4,FC_9-5,PC_1-1,PC_1-2,PC_1-3,PC_1-4,PC_1-5,PC_1-6,PC_1-7,PC_1-8,PC_1-9,PC_10-1,PC_10-2,PC_10-3,PC_10-4,PC_11-1,PC_11-2,PC_11-3,PC_11-4,PC_12-1,PC_12-2,PC_12-3,PC_12-4,PC_13-1,PC_13-2,PC_13-3,PC_13-4,PC_13-5,PC_14-1,PC_14-2,PC_14-3,PC_14-4,PC_14-5,PC_2-1,PC_2-10,PC_2-11,PC_2-12,PC_2-13,PC_2-14,PC_2-15,PC_2-16,PC_2-17,PC_2-18,PC_2-2,PC_2-3,PC_2-4,PC_2-5,PC_2-6,PC_2-7,PC_2-8,PC_2-9,PC_3-1,PC_3-10,PC_3-2,PC_3-3,PC_3-4,PC_3-5,PC_3-6,PC_3-7,PC_3-8,PC_3-9,PC_4-1,PC_4-2,PC_4-3,PC_4-4,PC_4-5,PC_4-6,PC_4-7,PC_4-8,PC_4-9,PC_5-1,PC_5-2,PC_5-3,PC_5-4,PC_5-5,PC_5-6,PC_5-7,PC_6-1,PC_6-2,PC_6-3,PC_6-4,PC_6-5,PC_6-6,PC_6-7,PC_7-1,PC_7-2,PC_7-3,PC_8-1,PC_8-2,PC_8-3,PC_9-1,PC_9-2,PC_9-3,PC_9-4,PC_9-5,ENT_1-1,ENT_1-2,ENT_1-3,ENT_1-4,ENT_1-5,ENT_2-1,ENT_2-2,ENT_2-3,ENT_2-4,ENT_3-1,ENT_3-2,ENT_3-3,ENT_3-4,ENT_3-5,ENT_3-6,ENT_4-1,ENT_4-10,ENT_4-11,ENT_4-12,ENT_4-2,ENT_4-3,ENT_4-4,ENT_4-5,ENT_4-6,ENT_4-7,ENT_4-8,ENT_4-9,ENT_5-1,ENT_5-2,ENT_5-3,ENT_6-1,ENT_7-1,ENT_7-2,ENT_8-1,ENT_8-2,GP_1-1,GP_1-2,GP_10-1,GP_10-2,GP_10-3,GP_10-4,GP_10-5,GP_10-6,GP_11-1,GP_11-2,GP_2-1,GP_2-10,GP_2-11,GP_2-12,GP_2-13,GP_2-14,GP_2-15,GP_2-16,GP_2-17,GP_2-18,GP_2-19,GP_2-2,GP_2-20,GP_2-21,GP_2-22,GP_2-23,GP_2-24,GP_2-25,GP_2-3,GP_2-4,GP_2-5,GP_2-6,GP_2-7,GP_2-8,GP_2-9,GP_3-1,GP_3-10,GP_3-2,GP_3-3,GP_3-4,GP_3-5,GP_3-6,GP_3-7,GP_3-8,GP_3-9,GP_4-1,GP_4-2,GP_4-3,GP_4-4,GP_4-5,GP_4-6,GP_4-7,GP_5-1,GP_5-2,GP_6-1,GP_7-1,GP_7-2,GP_7-3,GP_7-4,GP_7-5,GP_7-6,GP_8-1,GP_8-2,GP_8-3,GP_8-4,GP_8-5,GP_9-1,GP_9-2,GP_9-3,HC_1-1,HC_1-10,HC_1-11,HC_1-12,HC_1-13,HC_1-14,HC_1-15,HC_1-16,HC_1-17,HC_1-18,HC_1-19,HC_1-2,HC_1-20,HC_1-21,HC_1-22,HC_1-23,HC_1-24,HC_1-25,HC_1-26,HC_1-27,HC_1-3,HC_1-4,HC_1-5,HC_1-6,HC_1-7,HC_1-8,HC_1-9,HC_10-1,HC_10-2,HC_11-1,HC_12-1,HC_13-1,HC_13-2,HC_13-3,HC_13-4,HC_13-5,HC_13-6,HC_14-1,HC_15-1,HC_15-2,HC_16-1,HC_16-2,HC_16-3,HC_16-4,HC_17-1,HC_17-2,HC_17-3,HC_17-4,HC_2-1,HC_2-2,HC_2-3,HC_2-4,HC_2-5,HC_2-6,HC_2-7,HC_3-1,HC_3-10,HC_3-11,HC_3-2,HC_3-3,HC_3-4,HC_3-5,HC_3-6,HC_3-7,HC_3-8,HC_3-9,HC_4-1,HC_4-2,HC_5-1,HC_5-10,HC_5-11,HC_5-12,HC_5-13,HC_5-14,HC_5-15,HC_5-2,HC_5-3,HC_5-4,HC_5-5,HC_5-6,HC_5-7,HC_5-8,HC_5-9,HC_6-1,HC_6-2,HC_6-3,HC_6-4,HC_6-5,HC_6-6,HC_6-7,HC_6-8,HC_7-1,HC_7-2,HC_7-3,HC_8-1,HC_8-2,HC_8-3,HC_8-4,HC_8-5,HC_9-1,HC_9-2,HC_9-3,HC_9-4,STR_1-1,STR_10-1,STR_10-2,STR_10-3,STR_10-4,STR_10-5,STR_11-1,STR_11-2,STR_11-3,STR_12-1,STR_13-1,STR_13-10,STR_13-11,STR_13-2,STR_13-3,STR_13-4,STR_13-5,STR_13-6,STR_13-7,STR_13-8,STR_13-9,STR_14-1,STR_14-2,STR_14-3,STR_14-4,STR_15-1,STR_2-1,STR_2-2,STR_2-3,STR_2-4,STR_2-5,STR_2-6,STR_3-1,STR_3-2,STR_3-3,STR_4-1,STR_4-2,STR_4-3,STR_5-1,STR_5-2,STR_5-3,STR_5-4,STR_6-1,STR_6-2,STR_7-1,STR_7-2,STR_8-1,STR_8-2,STR_8-3,STR_8-4,STR_8-5,STR_9-1,SN_1-1,SN_10-1,SN_10-2,SN_10-3,SN_10-4,SN_10-5,SN_11-1,SN_12-1,SN_12-2,SN_12-3,SN_12-4,SN_13-1,SN_13-2,SN_13-3,SN_13-4,SN_13-5,SN_14-1,SN_14-2,SN_14-3,SN_2-1,SN_3-1,SN_3-10,SN_3-11,SN_3-12,SN_3-13,SN_3-14,SN_3-15,SN_3-16,SN_3-17,SN_3-18,SN_3-19,SN_3-2,SN_3-3,SN_3-4,SN_3-5,SN_3-6,SN_3-7,SN_3-8,SN_3-9,SN_4-1,SN_4-2,SN_4-3,SN_4-4,SN_4-5,SN_4-6,SN_4-7,SN_4-8,SN_4-9,SN_5-1,SN_5-2,SN_5-3,SN_6-1,SN_6-2,SN_7-1,SN_7-2,SN_7-3,SN_8-1,SN_9-1,SN_9-2,TH_1-1,TH_1-2,TH_1-3,TH_1-4,TH_10-1,TH_11-1,TH_11-2,TH_12-1,TH_12-2,TH_12-3,TH_12-4,TH_2-1,TH_2-10,TH_2-11,TH_2-2,TH_2-3,TH_2-4,TH_2-5,TH_2-6,TH_2-7,TH_2-8,TH_2-9,TH_3-1,TH_3-10,TH_3-11,TH_3-2,TH_3-3,TH_3-4,TH_3-5,TH_3-6,TH_3-7,TH_3-8,TH_3-9,TH_4-1,TH_4-2,TH_4-3,TH_4-4,TH_5-1,TH_5-2,TH_6-1,TH_6-2,TH_7-1,TH_7-2,TH_8-1,TH_8-2,TH_8-3,TH_8-4,TH_9-1\n",
            "0610005C13Rik,10,0,0,0,0,0,0,0,0,0,0,1,0,1,0,1,0,0,0,0,0,6,0,0,0,1,0,0,0,0,0,0,0,0,0,0,0,0,0,0,0,1,0,0,0,0,0,0,0,0,0,0,0,0,0,0,0,0,0,0,0,0,0,0,2,0,0,0,0,0,0,0,0,1,0,0,0,1,0,0,2,0,0,4,0,0,11,1,12,11,0,0,0,0,0,0,0,0,0,30,7,1,0,0,0,1,0,0,0,1,0,0,0,1,0,0,0,0,0,0,0,0,0,0,0,0,0,0,0,0,0,0,0,0,1,0,0,2,4,1,1,3,1,0,0,0,0,0,0,2,3,1,0,0,2,1,1,0,1,0,0,0,0,0,0,1,0,1,0,0,0,0,0,0,0,1,0,0,0,0,0,0,0,0,0,0,0,1,0,0,0,14,8,2,0,0,0,0,0,0,2,0,0,0,0,0,0,0,0,0,0,0,0,0,0,0,0,0,0,0,1,0,0,1,0,0,0,0,0,0,0,1,0,0,0,0,2,2,0,0,1,0,0,0,0,0,0,0,1,1,2,1,0,0,0,1,0,0,0,1,0,0,0,0,0,0,0,0,0,2,0,0,1,0,0,0,1,0,0,0,0,0,0,1,0,0,14,22,1,0,0,0,0,0,0,0,0,0,0,0,0,1,0,0,0,0,2,0,0,1,0,0,0,0,0,0,0,0,0,0,0,0,0,0,0,1,0,0,0,0,0,0,3,0,0,0,0,0,0,0,0,0,0,0,0,0,0,0,1,0,0,0,0,0,0,0,0,0,0,0,0,1,0,0,0,1,0,0,0,6,1,2,0,0,0,0,0,0,0,0,0,0,1,0,0,0,1,1,0,1,0,2,0,0,42,0,1,1,0,0,0,0,0,0,0,0,2,0,0,0,2,0,2,1,0,1,0,0,0,0,0,0,0,0,0,0,0,1,0,0,0,1,0,0,0,0,1,0,0,1,0,7,3,3,0,0,0,0,0,0,0,0,0,0,0,0,0,0,0,4,1,0,5,0,1,0,0,0,0,0,0,0,1,0,0,0,0,0,1,3,1,0,0,2,0,0,0,5,0,0,2,0,0,1,0,0,0,0,0,0,0,0,0,0,0,0,0,0,0,0,0,0,2,0,0,0,1,0,1,0,0,4,1,7,0,0,0,0,2,4,2,0,0,0,0,1,0,5,0,0,0,0,0,0,0,0,0,0,0,0,0,0,0,0,0,0,0,0,0,0,0,3,0,0,0\n",
            "0610007P14Rik,871,7,9,2,2,1,2,1,1,346,33,16,4,7,15,13,3,0,58,10,13,140,3,22,4,66,22,26,50,10,16,33,43,4,3,19,41,14,114,68,57,28,16,1,2,1,74,21,50,55,1,14,10,8,4,20,1,3,5,2,8,9,20,12,27,15,6,50,26,35,109,64,7,106,70,17,273,111,41,25,206,143,79,215,15,148,3052,71,2422,2883,58,1,41,31,108,2,6,277,27,558,121,389,99,89,418,144,39,4,37,192,29,11,68,213,82,35,5,51,19,11,3,0,0,22,22,50,19,19,0,8,5,2,16,5,4,4,6,247,408,397,46,290,184,35,72,414,92,192,41,80,745,265,178,7,299,116,60,34,62,106,44,2,1,23,38,40,21,12,6,9,6,13,29,34,0,36,22,5,15,24,13,253,8,23,5,72,93,24,28,28,8,322,159,71,196,24,60,259,36,678,265,184,461,95,20,5,19,22,2,3,0,2,5,1,3,2,2,1,12,8,29,4,26,28,13,1,31,79,59,30,7,22,6,3,30,5,1041,408,565,108,832,169,4,4,11,2,9,9,47,46,61,41,27,16,91,17,17,17,3,3,10,9,63,74,30,30,20,25,20,145,5,51,96,24,73,51,64,18,51,90,120,64,72,66,3,0,184,278,6,24,48,32,7,22,19,19,1,5,22,1,1,4,1,14,17,33,17,20,70,41,12,29,27,9,12,24,12,20,49,32,13,22,9,3,34,18,39,17,11,12,14,3,48,8,16,20,12,1,27,11,24,104,4,20,5,4,0,16,2,2,5,37,43,18,16,155,125,141,17,100,18,44,39,5,5,111,124,45,7,3684,350,1045,7,171,21,9,152,60,201,242,225,10,443,148,31,37,2694,44,165,114,39,128,111,37,1297,129,77,112,25,269,105,10,109,33,60,32,19,177,423,137,2712,63,2267,415,136,58,61,8,0,38,27,26,14,0,10,5,26,73,3,11,12,65,11,8,37,8,33,6,73,241,108,223,85,39,49,20,37,17,1,16,16,23,5,0,1,2,1,6,10,918,318,149,1108,305,3,51,9,25,22,11,3,12,8,0,3,1,0,12,8,72,19,21,28,41,63,10,6,51,7,18,93,2,7,12,6,2,14,13,3,7,7,10,0,6,24,21,19,70,104,4,19,22,82,3,2,5,0,7,17,30,3,23,12,59,48,132,31,11,93,528,487,199,91,132,15,110,36,236,39,34,21,6,25,52,28,46,29,20,75,30,102,0,77,19,22,17,6,10,5,5,425,3245,502,141,8\n",
            "0610009B22Rik,490,2,5,8,8,2,3,0,2,51,42,25,9,8,16,19,7,3,16,11,6,247,2,13,9,77,38,18,35,9,35,34,30,14,5,17,33,18,52,17,94,38,15,3,6,1,87,9,53,64,3,35,24,5,4,7,7,6,8,2,10,19,28,15,22,25,4,57,40,36,92,31,8,83,20,25,166,60,14,8,135,114,48,184,8,92,1394,53,1832,1962,36,0,23,26,68,1,6,170,16,376,50,161,31,41,162,78,26,10,29,121,8,1,45,105,34,20,7,41,16,15,4,1,0,22,30,43,9,11,1,8,2,1,17,5,4,5,4,119,282,278,37,213,138,9,62,239,70,95,22,44,312,99,73,4,207,125,35,31,50,58,27,6,0,8,24,36,18,11,8,8,9,11,22,23,3,35,26,1,9,21,2,135,3,23,5,53,71,18,28,41,14,212,80,60,78,8,34,109,4,327,196,98,219,54,23,9,24,17,5,5,1,4,4,0,2,0,1,1,18,5,36,5,16,25,2,1,15,31,31,16,7,8,7,5,9,5,542,291,306,78,364,118,10,8,6,0,7,4,62,21,25,8,26,13,64,5,11,7,1,3,8,3,23,29,20,15,12,19,25,53,0,19,39,6,32,30,38,8,27,47,45,17,60,62,3,1,142,170,2,22,56,16,15,44,33,24,18,1,33,2,2,8,13,19,13,41,14,21,60,61,13,37,28,14,10,40,20,26,84,77,10,29,9,4,47,17,53,17,25,13,12,6,66,19,12,30,8,4,16,12,51,148,10,26,7,5,4,12,2,6,6,32,16,20,13,108,83,80,19,77,13,53,43,0,5,93,78,29,7,2448,220,723,11,149,15,8,93,57,178,229,138,5,326,78,31,10,1906,26,147,88,28,94,73,28,1007,71,33,76,20,163,80,6,79,50,39,25,38,123,362,135,2176,47,1657,300,80,72,37,10,0,35,32,38,10,0,10,2,15,173,7,26,17,91,17,13,17,10,54,14,48,143,77,267,78,19,28,27,20,8,0,17,43,25,6,5,3,1,1,16,2,447,248,55,440,145,5,54,2,41,24,18,3,20,12,0,11,7,0,12,11,35,4,18,35,24,46,5,5,28,6,10,69,4,4,13,10,0,10,10,0,5,4,7,1,9,12,7,14,32,23,1,19,16,53,0,1,6,0,23,21,28,4,32,7,28,38,50,38,12,26,158,202,53,40,59,4,23,9,64,6,13,11,3,31,47,21,30,14,24,38,7,97,3,101,25,26,25,4,11,3,5,308,1365,250,59,9\n",
            "0610009E02Rik,17,5,6,1,0,0,0,1,2,1,4,1,0,0,0,0,0,0,0,0,1,50,1,5,2,6,0,1,4,0,0,1,1,0,0,0,12,6,0,3,0,0,2,0,1,0,66,8,56,33,0,6,7,8,0,0,0,0,1,0,1,1,1,2,1,0,0,1,3,1,4,0,2,1,0,1,13,3,0,0,13,7,2,5,0,4,124,3,89,91,1,0,0,2,6,0,0,9,2,145,27,11,3,1,3,1,1,0,0,6,1,1,1,5,4,7,2,1,2,4,0,0,0,11,8,21,10,3,0,3,3,1,3,0,0,0,1,9,17,6,1,10,6,0,5,11,3,8,2,1,31,10,9,0,8,3,3,0,5,4,1,0,0,0,4,2,0,1,0,0,0,0,1,0,0,7,2,1,0,2,1,6,0,0,0,1,1,0,0,4,0,81,45,13,3,0,0,1,1,5,1,1,6,11,9,1,5,9,0,1,1,3,1,0,0,0,1,0,1,1,2,0,2,1,0,0,2,6,4,4,0,5,0,0,1,0,10,6,28,11,8,2,3,0,0,2,2,1,3,4,4,0,2,0,1,2,0,2,0,0,1,0,4,3,1,1,0,2,0,3,0,0,4,2,1,2,2,1,1,6,17,6,8,19,4,0,72,119,1,15,42,18,10,36,28,15,11,4,13,0,0,0,3,1,0,0,1,1,2,3,2,1,0,1,1,1,1,0,0,0,0,0,0,0,0,2,1,0,2,0,3,0,39,1,1,4,2,1,0,1,4,73,1,4,12,4,1,2,1,1,2,1,0,0,0,1,1,4,1,3,0,3,1,0,0,3,2,0,0,113,16,18,0,12,1,0,7,1,4,5,10,1,8,2,1,1,62,3,3,1,0,5,5,1,209,24,15,1,0,1,0,2,1,1,12,13,26,3,8,1,50,2,24,7,0,1,0,0,0,1,0,0,0,0,0,0,0,2,0,0,0,1,7,1,3,3,3,2,2,6,1,47,13,10,8,0,0,1,1,3,25,10,3,0,2,0,1,0,2,10,3,1,20,13,3,49,2,25,8,9,4,10,1,1,1,0,0,0,1,4,0,0,4,4,3,0,0,2,0,0,4,0,0,0,2,1,0,1,0,2,0,3,0,0,2,2,0,11,11,2,4,1,47,3,3,3,0,1,0,0,0,19,2,48,6,8,2,3,7,13,30,7,4,9,1,0,0,14,2,2,3,0,1,3,0,1,1,0,9,1,80,0,70,8,10,25,0,0,3,2,4,47,23,0,0\n",
            "0610009L18Rik,75,1,1,1,0,0,3,1,1,10,3,1,2,2,3,0,0,0,3,1,1,69,1,7,7,14,1,0,8,0,2,4,10,1,0,1,8,1,3,1,10,11,4,0,1,0,29,2,9,11,1,46,39,6,3,4,2,0,0,0,1,3,3,3,6,3,5,17,10,8,10,8,4,13,9,1,28,14,5,4,27,24,14,41,1,15,327,12,310,303,12,0,6,6,14,0,0,19,2,166,48,11,3,13,32,17,7,1,7,22,3,2,6,29,18,5,2,10,1,0,2,0,0,4,4,8,3,24,0,13,5,2,2,2,2,3,0,28,52,48,12,62,36,5,7,59,16,12,5,10,86,32,19,2,45,16,4,7,10,17,5,0,0,3,6,9,8,4,0,1,1,5,6,2,2,13,6,1,3,0,0,35,2,6,2,4,17,8,7,3,1,108,57,37,6,0,6,17,6,83,51,22,44,10,4,4,7,10,0,1,4,9,13,0,1,0,2,0,0,1,6,1,1,4,1,0,11,4,4,6,10,11,1,3,5,0,116,87,35,4,66,20,3,2,1,1,0,1,8,8,4,2,2,6,8,3,1,1,0,0,3,5,14,6,0,3,1,3,2,28,0,4,15,8,10,12,16,4,5,13,10,2,22,8,0,0,102,91,25,2,15,6,8,3,8,45,4,0,49,2,0,2,5,1,3,7,10,2,13,8,2,5,1,2,1,6,8,7,7,9,1,3,0,0,3,2,11,2,5,6,7,0,163,7,3,4,3,1,4,3,5,24,2,42,8,2,3,3,1,0,0,5,4,2,8,17,20,15,4,22,6,13,12,0,4,35,27,7,1,1088,74,172,0,27,3,0,17,10,50,44,29,0,84,19,6,4,318,7,20,21,9,19,10,10,676,59,24,20,8,27,10,0,20,11,21,10,120,29,51,37,480,6,362,78,19,4,8,2,0,11,2,3,3,0,0,1,7,20,1,8,1,16,2,1,0,2,2,2,13,33,6,84,34,21,14,2,7,1,0,4,7,2,12,6,4,3,1,2,0,127,61,24,96,12,1,19,1,9,7,19,0,40,7,7,4,0,0,2,2,4,1,5,4,2,4,2,2,4,3,2,5,0,3,3,0,1,3,2,0,4,0,2,0,1,5,7,1,4,6,1,5,22,36,0,3,1,0,0,7,8,1,83,6,11,1,3,13,5,9,31,33,11,5,5,1,6,2,21,2,6,2,2,2,7,1,7,3,5,7,2,24,0,14,6,67,42,1,2,2,3,88,412,23,28,4\n",
            "0610009O20Rik,308,2,6,2,2,1,2,2,3,2,9,6,4,4,2,3,0,1,7,2,1,105,0,7,2,24,8,7,16,2,3,11,10,4,1,2,14,5,9,3,10,5,11,2,1,1,71,5,62,72,7,9,20,9,6,3,5,5,5,0,1,6,10,4,10,6,3,26,18,14,45,21,6,37,19,11,89,37,17,7,72,36,33,47,5,46,1130,23,782,1012,21,0,15,18,63,0,7,112,17,193,40,35,8,21,61,41,17,3,24,50,11,1,26,60,26,10,5,12,0,12,8,0,0,37,42,33,8,9,1,9,2,1,7,1,4,5,3,95,178,150,14,101,70,9,27,143,39,87,15,33,288,80,53,2,118,76,24,13,41,37,11,0,1,13,28,9,12,3,2,5,1,6,13,3,1,23,17,0,7,13,1,77,3,16,4,42,41,8,15,11,2,146,53,26,25,2,19,63,9,133,77,36,106,11,26,9,14,7,5,1,1,3,0,0,1,0,0,0,4,6,7,2,14,12,1,5,3,6,4,8,2,13,3,2,20,7,352,152,107,11,177,50,9,4,1,3,6,3,23,20,31,16,16,10,24,11,8,9,0,0,6,4,25,29,11,15,13,20,12,46,0,14,48,9,30,19,22,11,27,15,21,3,18,30,2,0,172,173,1,27,44,9,28,64,35,16,3,6,20,0,7,11,6,7,6,8,9,6,16,6,3,5,2,9,1,3,3,11,11,15,1,5,2,2,15,7,14,12,4,7,11,5,32,6,1,13,6,1,3,2,8,129,12,16,11,4,0,8,2,3,5,19,11,6,5,47,33,31,4,22,3,7,15,0,4,40,18,7,3,692,89,182,0,50,11,1,44,20,42,55,47,2,82,27,7,7,613,20,46,28,15,44,22,6,494,53,21,37,12,41,17,0,15,11,11,9,10,39,80,31,578,14,464,86,29,25,7,4,0,13,4,7,2,1,2,2,4,32,3,5,4,15,7,2,13,2,20,2,19,41,19,101,33,8,13,2,1,5,2,4,49,15,2,2,13,3,1,4,1,238,75,19,184,36,4,25,6,45,56,14,2,12,3,4,1,2,1,8,5,18,3,13,22,18,30,2,1,23,9,0,24,0,2,8,2,0,4,8,1,9,3,3,2,4,7,14,2,3,9,1,7,8,45,2,1,3,1,0,12,2,0,18,2,37,3,10,7,2,25,243,298,62,39,62,3,25,11,130,14,9,8,2,11,22,2,6,10,11,29,8,69,1,135,37,18,22,6,4,4,1,117,567,76,19,1\n",
            "0610010F05Rik,559,1,7,3,0,2,3,1,0,44,45,19,2,6,10,14,2,4,11,5,1,20,0,0,5,96,70,44,95,7,38,53,58,23,9,16,19,11,18,9,17,17,23,2,5,0,92,4,61,65,2,19,13,10,2,10,5,1,7,2,16,34,54,22,67,44,22,134,146,107,340,94,21,250,92,68,546,236,95,40,389,241,144,400,28,315,6323,172,5214,7208,137,0,86,75,350,7,38,799,106,90,25,78,17,21,99,51,85,14,95,357,30,10,149,451,170,19,11,13,3,18,2,0,0,26,36,43,29,6,2,5,3,0,6,12,1,1,2,503,819,758,139,861,397,49,189,814,288,315,70,138,1264,366,380,14,671,271,115,86,139,234,71,8,4,77,150,58,32,20,25,15,6,11,55,25,4,112,83,5,26,60,12,364,10,44,16,224,221,43,54,79,22,62,33,12,42,4,16,62,8,137,66,48,83,18,19,6,10,8,0,1,0,3,2,0,2,1,0,1,18,9,58,7,68,52,15,14,5,14,12,5,1,6,4,5,75,15,312,143,155,29,163,38,3,3,20,9,18,7,133,115,87,48,57,30,166,33,32,16,2,10,19,12,99,69,45,32,29,53,48,188,4,42,146,29,107,94,40,34,78,24,25,7,19,32,2,0,62,29,2,13,42,25,19,37,25,10,3,1,10,0,3,1,2,36,16,32,12,15,58,55,9,29,24,15,11,46,22,27,84,62,18,45,17,8,66,24,93,33,37,38,6,3,74,6,7,28,5,0,23,11,17,94,7,13,4,3,4,11,0,0,0,47,38,15,27,170,167,102,29,110,31,99,89,1,4,123,96,43,15,1885,207,867,21,325,24,4,252,111,241,393,270,16,551,154,32,42,3753,76,305,212,51,257,235,60,184,12,7,32,11,55,23,6,13,9,15,11,27,152,307,111,2479,55,1807,274,70,182,36,13,1,34,21,33,9,0,10,1,21,133,4,23,26,80,16,9,18,8,25,2,19,55,23,21,10,4,9,6,7,0,0,9,25,14,1,2,0,4,4,5,6,238,75,36,185,49,7,40,1,29,16,3,0,9,3,1,1,0,1,30,16,122,23,48,104,73,141,25,14,80,19,17,177,15,7,20,27,11,17,23,8,23,10,41,1,26,38,52,2,16,12,4,2,3,25,1,3,4,0,19,15,14,4,61,3,19,19,28,15,3,199,1571,1834,461,221,366,42,241,88,869,89,55,62,30,50,120,47,49,44,39,156,50,70,0,80,20,9,5,4,0,7,3,127,703,76,37,4\n",
            "0610010K14Rik,16,0,1,0,0,0,0,0,1,0,1,0,0,1,0,0,0,0,0,0,0,2,0,0,0,0,0,0,1,0,0,0,0,0,0,1,1,0,0,0,0,1,2,1,0,0,6,1,5,5,0,1,0,0,1,0,0,0,1,0,0,0,0,0,0,0,0,0,0,0,1,0,0,2,0,0,3,0,0,0,2,0,2,2,0,0,23,0,13,16,0,0,0,0,0,0,0,1,0,5,2,0,0,0,1,0,0,1,0,2,0,0,1,4,0,0,0,0,0,1,0,0,0,3,2,4,0,0,0,0,0,1,0,0,0,0,0,3,3,5,0,5,0,0,0,2,1,2,1,1,1,0,2,0,4,1,0,2,1,1,0,0,0,0,0,1,1,0,0,0,0,0,1,0,0,0,0,0,0,0,0,5,0,1,0,2,0,0,1,0,1,3,0,0,1,0,0,3,0,6,1,3,1,1,0,1,0,1,0,0,0,0,0,0,0,0,0,0,0,0,0,0,1,0,0,0,0,0,0,0,0,0,0,0,0,0,6,4,3,0,4,2,1,0,0,0,0,0,1,1,0,0,0,0,0,0,0,0,0,0,0,0,1,0,0,0,0,0,2,0,0,0,0,0,0,1,1,1,0,0,0,1,1,1,0,0,1,1,0,0,1,1,2,1,2,0,0,0,1,0,0,1,0,2,0,0,0,0,0,0,0,0,0,0,0,0,0,0,0,1,0,0,0,0,0,0,0,0,0,0,0,0,1,0,0,0,0,0,0,0,0,8,0,0,0,0,0,2,0,0,0,1,0,0,0,0,1,1,1,0,0,2,1,0,0,0,0,0,0,17,5,5,0,1,0,0,0,1,0,1,1,0,1,0,0,0,9,0,1,0,0,0,0,0,8,0,0,0,0,0,1,0,1,0,0,1,1,0,2,0,9,0,11,3,0,0,0,0,0,0,0,0,0,0,0,0,0,1,0,0,0,0,0,0,0,0,0,0,0,0,1,0,0,0,0,0,0,0,0,0,1,1,0,0,0,1,0,0,0,14,3,0,10,3,0,3,0,6,0,0,0,1,0,0,0,0,0,0,0,0,1,2,0,0,0,0,0,0,0,0,0,0,0,0,0,0,0,0,0,0,0,0,0,0,0,0,0,0,0,0,0,1,0,0,0,0,0,0,0,0,0,0,0,0,0,1,0,0,0,0,0,1,0,2,0,1,0,1,0,0,0,0,1,0,0,0,0,0,0,0,3,1,3,0,0,1,0,0,0,0,3,12,2,0,0\n",
            "0610011F06Rik,948,8,5,5,14,4,3,5,2,57,31,29,8,9,17,9,9,2,8,4,0,204,4,15,25,71,25,29,58,14,13,33,59,8,4,10,37,11,9,9,27,30,17,6,8,0,65,11,69,74,5,47,26,6,2,15,13,7,12,4,13,23,22,29,29,22,9,59,49,41,127,44,8,121,52,23,213,98,29,11,185,163,69,183,9,119,2386,43,2448,2354,68,0,32,43,125,2,11,243,28,336,71,73,9,51,152,69,60,5,57,199,25,11,70,206,89,29,9,13,14,7,3,0,0,29,13,50,16,27,1,17,6,2,21,3,8,19,11,218,460,388,67,399,223,23,72,410,105,170,36,66,616,182,121,1,380,191,43,50,79,111,35,8,2,31,52,54,20,14,2,13,14,18,40,28,1,36,29,4,12,33,7,321,2,34,10,91,111,39,32,59,22,190,106,60,37,0,29,106,17,289,167,79,176,17,19,5,14,8,3,0,2,6,4,1,2,0,3,2,17,7,61,8,24,33,13,7,3,1,8,18,7,17,5,1,39,17,484,264,194,14,362,83,8,5,18,5,16,7,54,39,49,22,19,20,79,43,17,16,1,4,9,7,74,60,49,17,19,54,38,75,2,18,42,11,34,15,48,14,22,18,10,11,29,71,0,2,181,198,8,15,57,14,20,49,25,38,7,2,34,2,16,15,13,21,10,19,15,14,71,34,15,40,32,14,3,29,29,12,52,25,10,35,5,1,33,24,35,15,13,26,15,1,131,63,7,5,11,0,19,7,58,114,6,28,23,9,0,22,4,2,12,49,47,19,16,128,127,119,29,87,18,57,52,5,10,181,142,47,12,3182,280,715,12,177,24,6,140,48,141,272,164,6,306,83,37,26,2093,31,180,81,40,106,121,31,1033,74,71,72,26,127,39,2,12,20,50,24,89,73,174,86,1230,41,1063,191,43,85,21,7,0,24,13,23,6,1,11,2,42,83,3,25,26,116,21,5,19,3,22,7,36,97,16,182,69,41,33,13,4,1,4,7,24,18,16,8,11,7,3,12,2,399,176,67,385,35,9,29,6,37,24,11,2,38,11,8,14,6,0,20,8,98,23,41,50,53,72,10,6,54,7,20,151,8,5,20,23,11,21,26,13,15,10,15,0,21,26,35,9,6,9,2,13,11,65,1,6,3,0,11,44,57,5,76,12,47,2,12,9,7,103,725,640,242,128,203,16,96,42,311,36,33,23,12,45,100,22,45,38,45,107,24,72,1,96,27,40,28,8,9,3,1,232,1117,97,48,6\n"
          ],
          "name": "stdout"
        }
      ]
    },
    {
      "cell_type": "markdown",
      "metadata": {
        "id": "XnW7QiJLGIuo"
      },
      "source": [
        "This is a matrix of number with a row header and a column header. Each row represent a gene, and each column a cell type. The number are the expression level of the gene in the given cell type"
      ]
    },
    {
      "cell_type": "markdown",
      "metadata": {
        "id": "4cKnAIX9GfnE"
      },
      "source": [
        "The cell types are described in another file\n"
      ]
    },
    {
      "cell_type": "code",
      "metadata": {
        "colab": {
          "base_uri": "https://localhost:8080/"
        },
        "id": "brrm4iyqFKFD",
        "outputId": "b8b68700-0247-4414-e755-f3db9a7515a5"
      },
      "source": [
        "!wget https://storage.googleapis.com/dropviz-downloads/static/annotation.BrainCellAtlas_Saunders_version_2018.04.01.csv"
      ],
      "execution_count": 143,
      "outputs": [
        {
          "output_type": "stream",
          "text": [
            "--2021-06-14 01:19:34--  https://storage.googleapis.com/dropviz-downloads/static/annotation.BrainCellAtlas_Saunders_version_2018.04.01.csv\n",
            "Resolving storage.googleapis.com (storage.googleapis.com)... 142.250.73.240, 142.250.73.208, 142.250.65.80, ...\n",
            "Connecting to storage.googleapis.com (storage.googleapis.com)|142.250.73.240|:443... connected.\n",
            "HTTP request sent, awaiting response... 200 OK\n",
            "Length: 54954 (54K) [text/csv]\n",
            "Saving to: ‘annotation.BrainCellAtlas_Saunders_version_2018.04.01.csv.1’\n",
            "\n",
            "\r          annotatio   0%[                    ]       0  --.-KB/s               \rannotation.BrainCel 100%[===================>]  53.67K  --.-KB/s    in 0s      \n",
            "\n",
            "2021-06-14 01:19:34 (129 MB/s) - ‘annotation.BrainCellAtlas_Saunders_version_2018.04.01.csv.1’ saved [54954/54954]\n",
            "\n"
          ],
          "name": "stdout"
        }
      ]
    },
    {
      "cell_type": "code",
      "metadata": {
        "colab": {
          "base_uri": "https://localhost:8080/"
        },
        "id": "B3E5pJtpFqUW",
        "outputId": "372503e5-36b6-4700-cb14-dab5d47abb08"
      },
      "source": [
        "!head annotation.BrainCellAtlas_Saunders_version_2018.04.01.csv"
      ],
      "execution_count": 144,
      "outputs": [
        {
          "output_type": "stream",
          "text": [
            ",tissue,class,class_marker,type_marker,full_name,common_name,subcluster,tissue_subcluster\n",
            "1,CB,NEURON,Slc17a7,Gabra6,Neuron.Slc17a7.Gabra6,Granule cells,1-1,CB_1-1\n",
            "2,CB,ENDOTHELIAL_STALK,Flt1,Mgp,Endothelial_Stalk.Flt1.Mgp,Endothelial_Stalk.Flt1.Mgp,10-1,CB_10-1\n",
            "3,CB,ENDOTHELIAL_STALK,Flt1,Car4,Endothelial_Stalk.Flt1.Car4,Endothelial_Stalk.Flt1.Car4,10-2,CB_10-2\n",
            "4,CB,ENDOTHELIAL_STALK,Flt1,Lrg1,Endothelial_Stalk.Flt1.Lrg1,Endothelial_Stalk.Flt1.Lrg1,10-3,CB_10-3\n",
            "5,CB,ENDOTHELIAL_TIP,Dcn,Nnat,Endothelial_Tip.Dcn.Nnat,Endothelial_Tip.Dcn.Nnat,11-1,CB_11-1\n",
            "6,CB,ENDOTHELIAL_TIP,Dcn,Apod,Endothelial_Tip.Dcn.Apod,Endothelial_Tip.Dcn.Apod,11-2,CB_11-2\n",
            "7,CB,MURAL,Acta2Rgs5,Acta2,Mural.Acta2Rgs5.Acta2,Mural.Acta2Rgs5.Acta2,11-3,CB_11-3\n",
            "8,CB,MURAL,Acta2Rgs5,Kcnj8,Mural.Acta2Rgs5.Kcnj8,Mural.Acta2Rgs5.Kcnj8,11-4,CB_11-4\n",
            "9,CB,MURAL,Acta2Rgs5,Rgs5,Mural.Acta2Rgs5.Rgs5,Mural.Acta2Rgs5.Rgs5,11-5,CB_11-5\n"
          ],
          "name": "stdout"
        }
      ]
    },
    {
      "cell_type": "markdown",
      "metadata": {
        "id": "gL-uRPGXGo1k"
      },
      "source": [
        "Let's load the dataset in a pandas dataframe"
      ]
    },
    {
      "cell_type": "code",
      "metadata": {
        "id": "3i_7Z45-Lkdw"
      },
      "source": [
        "sc_data_df=pd.read_csv(\"./metacells.BrainCellAtlas_Saunders_version_2018.04.01.csv\", header=0, index_col=0)"
      ],
      "execution_count": 36,
      "outputs": []
    },
    {
      "cell_type": "code",
      "metadata": {
        "colab": {
          "base_uri": "https://localhost:8080/",
          "height": 456
        },
        "id": "XCfnTEJnxyGv",
        "outputId": "286bd555-ed59-4295-8799-abf3de37e6d9"
      },
      "source": [
        "sc_data_df"
      ],
      "execution_count": 37,
      "outputs": [
        {
          "output_type": "execute_result",
          "data": {
            "text/html": [
              "<div>\n",
              "<style scoped>\n",
              "    .dataframe tbody tr th:only-of-type {\n",
              "        vertical-align: middle;\n",
              "    }\n",
              "\n",
              "    .dataframe tbody tr th {\n",
              "        vertical-align: top;\n",
              "    }\n",
              "\n",
              "    .dataframe thead th {\n",
              "        text-align: right;\n",
              "    }\n",
              "</style>\n",
              "<table border=\"1\" class=\"dataframe\">\n",
              "  <thead>\n",
              "    <tr style=\"text-align: right;\">\n",
              "      <th></th>\n",
              "      <th>CB_1-1</th>\n",
              "      <th>CB_10-1</th>\n",
              "      <th>CB_10-2</th>\n",
              "      <th>CB_10-3</th>\n",
              "      <th>CB_11-1</th>\n",
              "      <th>CB_11-2</th>\n",
              "      <th>CB_11-3</th>\n",
              "      <th>CB_11-4</th>\n",
              "      <th>CB_11-5</th>\n",
              "      <th>CB_2-1</th>\n",
              "      <th>CB_3-1</th>\n",
              "      <th>CB_3-2</th>\n",
              "      <th>CB_3-3</th>\n",
              "      <th>CB_3-4</th>\n",
              "      <th>CB_4-1</th>\n",
              "      <th>CB_4-2</th>\n",
              "      <th>CB_4-3</th>\n",
              "      <th>CB_5-1</th>\n",
              "      <th>CB_6-1</th>\n",
              "      <th>CB_6-2</th>\n",
              "      <th>CB_6-3</th>\n",
              "      <th>CB_7-1</th>\n",
              "      <th>CB_8-1</th>\n",
              "      <th>CB_8-2</th>\n",
              "      <th>CB_9-1</th>\n",
              "      <th>FC_1-1</th>\n",
              "      <th>FC_1-10</th>\n",
              "      <th>FC_1-11</th>\n",
              "      <th>FC_1-2</th>\n",
              "      <th>FC_1-3</th>\n",
              "      <th>FC_1-4</th>\n",
              "      <th>FC_1-5</th>\n",
              "      <th>FC_1-6</th>\n",
              "      <th>FC_1-7</th>\n",
              "      <th>FC_1-8</th>\n",
              "      <th>FC_1-9</th>\n",
              "      <th>FC_10-1</th>\n",
              "      <th>FC_10-2</th>\n",
              "      <th>FC_10-3</th>\n",
              "      <th>FC_10-4</th>\n",
              "      <th>...</th>\n",
              "      <th>TH_12-2</th>\n",
              "      <th>TH_12-3</th>\n",
              "      <th>TH_12-4</th>\n",
              "      <th>TH_2-1</th>\n",
              "      <th>TH_2-10</th>\n",
              "      <th>TH_2-11</th>\n",
              "      <th>TH_2-2</th>\n",
              "      <th>TH_2-3</th>\n",
              "      <th>TH_2-4</th>\n",
              "      <th>TH_2-5</th>\n",
              "      <th>TH_2-6</th>\n",
              "      <th>TH_2-7</th>\n",
              "      <th>TH_2-8</th>\n",
              "      <th>TH_2-9</th>\n",
              "      <th>TH_3-1</th>\n",
              "      <th>TH_3-10</th>\n",
              "      <th>TH_3-11</th>\n",
              "      <th>TH_3-2</th>\n",
              "      <th>TH_3-3</th>\n",
              "      <th>TH_3-4</th>\n",
              "      <th>TH_3-5</th>\n",
              "      <th>TH_3-6</th>\n",
              "      <th>TH_3-7</th>\n",
              "      <th>TH_3-8</th>\n",
              "      <th>TH_3-9</th>\n",
              "      <th>TH_4-1</th>\n",
              "      <th>TH_4-2</th>\n",
              "      <th>TH_4-3</th>\n",
              "      <th>TH_4-4</th>\n",
              "      <th>TH_5-1</th>\n",
              "      <th>TH_5-2</th>\n",
              "      <th>TH_6-1</th>\n",
              "      <th>TH_6-2</th>\n",
              "      <th>TH_7-1</th>\n",
              "      <th>TH_7-2</th>\n",
              "      <th>TH_8-1</th>\n",
              "      <th>TH_8-2</th>\n",
              "      <th>TH_8-3</th>\n",
              "      <th>TH_8-4</th>\n",
              "      <th>TH_9-1</th>\n",
              "    </tr>\n",
              "  </thead>\n",
              "  <tbody>\n",
              "    <tr>\n",
              "      <th>0610005C13Rik</th>\n",
              "      <td>10</td>\n",
              "      <td>0</td>\n",
              "      <td>0</td>\n",
              "      <td>0</td>\n",
              "      <td>0</td>\n",
              "      <td>0</td>\n",
              "      <td>0</td>\n",
              "      <td>0</td>\n",
              "      <td>0</td>\n",
              "      <td>0</td>\n",
              "      <td>0</td>\n",
              "      <td>1</td>\n",
              "      <td>0</td>\n",
              "      <td>1</td>\n",
              "      <td>0</td>\n",
              "      <td>1</td>\n",
              "      <td>0</td>\n",
              "      <td>0</td>\n",
              "      <td>0</td>\n",
              "      <td>0</td>\n",
              "      <td>0</td>\n",
              "      <td>6</td>\n",
              "      <td>0</td>\n",
              "      <td>0</td>\n",
              "      <td>0</td>\n",
              "      <td>1</td>\n",
              "      <td>0</td>\n",
              "      <td>0</td>\n",
              "      <td>0</td>\n",
              "      <td>0</td>\n",
              "      <td>0</td>\n",
              "      <td>0</td>\n",
              "      <td>0</td>\n",
              "      <td>0</td>\n",
              "      <td>0</td>\n",
              "      <td>0</td>\n",
              "      <td>0</td>\n",
              "      <td>0</td>\n",
              "      <td>0</td>\n",
              "      <td>0</td>\n",
              "      <td>...</td>\n",
              "      <td>0.0</td>\n",
              "      <td>0.0</td>\n",
              "      <td>0.0</td>\n",
              "      <td>2.0</td>\n",
              "      <td>4.0</td>\n",
              "      <td>2.0</td>\n",
              "      <td>0.0</td>\n",
              "      <td>0.0</td>\n",
              "      <td>0.0</td>\n",
              "      <td>0.0</td>\n",
              "      <td>1.0</td>\n",
              "      <td>0.0</td>\n",
              "      <td>5.0</td>\n",
              "      <td>0.0</td>\n",
              "      <td>0.0</td>\n",
              "      <td>0.0</td>\n",
              "      <td>0.0</td>\n",
              "      <td>0.0</td>\n",
              "      <td>0.0</td>\n",
              "      <td>0.0</td>\n",
              "      <td>0.0</td>\n",
              "      <td>0.0</td>\n",
              "      <td>0.0</td>\n",
              "      <td>0.0</td>\n",
              "      <td>0.0</td>\n",
              "      <td>0.0</td>\n",
              "      <td>0.0</td>\n",
              "      <td>0.0</td>\n",
              "      <td>0.0</td>\n",
              "      <td>0.0</td>\n",
              "      <td>0.0</td>\n",
              "      <td>0.0</td>\n",
              "      <td>0.0</td>\n",
              "      <td>0.0</td>\n",
              "      <td>0.0</td>\n",
              "      <td>0.0</td>\n",
              "      <td>3.0</td>\n",
              "      <td>0.0</td>\n",
              "      <td>0.0</td>\n",
              "      <td>0.0</td>\n",
              "    </tr>\n",
              "    <tr>\n",
              "      <th>0610007P14Rik</th>\n",
              "      <td>871</td>\n",
              "      <td>7</td>\n",
              "      <td>9</td>\n",
              "      <td>2</td>\n",
              "      <td>2</td>\n",
              "      <td>1</td>\n",
              "      <td>2</td>\n",
              "      <td>1</td>\n",
              "      <td>1</td>\n",
              "      <td>346</td>\n",
              "      <td>33</td>\n",
              "      <td>16</td>\n",
              "      <td>4</td>\n",
              "      <td>7</td>\n",
              "      <td>15</td>\n",
              "      <td>13</td>\n",
              "      <td>3</td>\n",
              "      <td>0</td>\n",
              "      <td>58</td>\n",
              "      <td>10</td>\n",
              "      <td>13</td>\n",
              "      <td>140</td>\n",
              "      <td>3</td>\n",
              "      <td>22</td>\n",
              "      <td>4</td>\n",
              "      <td>66</td>\n",
              "      <td>22</td>\n",
              "      <td>26</td>\n",
              "      <td>50</td>\n",
              "      <td>10</td>\n",
              "      <td>16</td>\n",
              "      <td>33</td>\n",
              "      <td>43</td>\n",
              "      <td>4</td>\n",
              "      <td>3</td>\n",
              "      <td>19</td>\n",
              "      <td>41</td>\n",
              "      <td>14</td>\n",
              "      <td>114</td>\n",
              "      <td>68</td>\n",
              "      <td>...</td>\n",
              "      <td>132.0</td>\n",
              "      <td>31.0</td>\n",
              "      <td>11.0</td>\n",
              "      <td>93.0</td>\n",
              "      <td>528.0</td>\n",
              "      <td>487.0</td>\n",
              "      <td>199.0</td>\n",
              "      <td>91.0</td>\n",
              "      <td>132.0</td>\n",
              "      <td>15.0</td>\n",
              "      <td>110.0</td>\n",
              "      <td>36.0</td>\n",
              "      <td>236.0</td>\n",
              "      <td>39.0</td>\n",
              "      <td>34.0</td>\n",
              "      <td>21.0</td>\n",
              "      <td>6.0</td>\n",
              "      <td>25.0</td>\n",
              "      <td>52.0</td>\n",
              "      <td>28.0</td>\n",
              "      <td>46.0</td>\n",
              "      <td>29.0</td>\n",
              "      <td>20.0</td>\n",
              "      <td>75.0</td>\n",
              "      <td>30.0</td>\n",
              "      <td>102.0</td>\n",
              "      <td>0.0</td>\n",
              "      <td>77.0</td>\n",
              "      <td>19.0</td>\n",
              "      <td>22.0</td>\n",
              "      <td>17.0</td>\n",
              "      <td>6.0</td>\n",
              "      <td>10.0</td>\n",
              "      <td>5.0</td>\n",
              "      <td>5.0</td>\n",
              "      <td>425.0</td>\n",
              "      <td>3245.0</td>\n",
              "      <td>502.0</td>\n",
              "      <td>141.0</td>\n",
              "      <td>8.0</td>\n",
              "    </tr>\n",
              "    <tr>\n",
              "      <th>0610009B22Rik</th>\n",
              "      <td>490</td>\n",
              "      <td>2</td>\n",
              "      <td>5</td>\n",
              "      <td>8</td>\n",
              "      <td>8</td>\n",
              "      <td>2</td>\n",
              "      <td>3</td>\n",
              "      <td>0</td>\n",
              "      <td>2</td>\n",
              "      <td>51</td>\n",
              "      <td>42</td>\n",
              "      <td>25</td>\n",
              "      <td>9</td>\n",
              "      <td>8</td>\n",
              "      <td>16</td>\n",
              "      <td>19</td>\n",
              "      <td>7</td>\n",
              "      <td>3</td>\n",
              "      <td>16</td>\n",
              "      <td>11</td>\n",
              "      <td>6</td>\n",
              "      <td>247</td>\n",
              "      <td>2</td>\n",
              "      <td>13</td>\n",
              "      <td>9</td>\n",
              "      <td>77</td>\n",
              "      <td>38</td>\n",
              "      <td>18</td>\n",
              "      <td>35</td>\n",
              "      <td>9</td>\n",
              "      <td>35</td>\n",
              "      <td>34</td>\n",
              "      <td>30</td>\n",
              "      <td>14</td>\n",
              "      <td>5</td>\n",
              "      <td>17</td>\n",
              "      <td>33</td>\n",
              "      <td>18</td>\n",
              "      <td>52</td>\n",
              "      <td>17</td>\n",
              "      <td>...</td>\n",
              "      <td>50.0</td>\n",
              "      <td>38.0</td>\n",
              "      <td>12.0</td>\n",
              "      <td>26.0</td>\n",
              "      <td>158.0</td>\n",
              "      <td>202.0</td>\n",
              "      <td>53.0</td>\n",
              "      <td>40.0</td>\n",
              "      <td>59.0</td>\n",
              "      <td>4.0</td>\n",
              "      <td>23.0</td>\n",
              "      <td>9.0</td>\n",
              "      <td>64.0</td>\n",
              "      <td>6.0</td>\n",
              "      <td>13.0</td>\n",
              "      <td>11.0</td>\n",
              "      <td>3.0</td>\n",
              "      <td>31.0</td>\n",
              "      <td>47.0</td>\n",
              "      <td>21.0</td>\n",
              "      <td>30.0</td>\n",
              "      <td>14.0</td>\n",
              "      <td>24.0</td>\n",
              "      <td>38.0</td>\n",
              "      <td>7.0</td>\n",
              "      <td>97.0</td>\n",
              "      <td>3.0</td>\n",
              "      <td>101.0</td>\n",
              "      <td>25.0</td>\n",
              "      <td>26.0</td>\n",
              "      <td>25.0</td>\n",
              "      <td>4.0</td>\n",
              "      <td>11.0</td>\n",
              "      <td>3.0</td>\n",
              "      <td>5.0</td>\n",
              "      <td>308.0</td>\n",
              "      <td>1365.0</td>\n",
              "      <td>250.0</td>\n",
              "      <td>59.0</td>\n",
              "      <td>9.0</td>\n",
              "    </tr>\n",
              "    <tr>\n",
              "      <th>0610009E02Rik</th>\n",
              "      <td>17</td>\n",
              "      <td>5</td>\n",
              "      <td>6</td>\n",
              "      <td>1</td>\n",
              "      <td>0</td>\n",
              "      <td>0</td>\n",
              "      <td>0</td>\n",
              "      <td>1</td>\n",
              "      <td>2</td>\n",
              "      <td>1</td>\n",
              "      <td>4</td>\n",
              "      <td>1</td>\n",
              "      <td>0</td>\n",
              "      <td>0</td>\n",
              "      <td>0</td>\n",
              "      <td>0</td>\n",
              "      <td>0</td>\n",
              "      <td>0</td>\n",
              "      <td>0</td>\n",
              "      <td>0</td>\n",
              "      <td>1</td>\n",
              "      <td>50</td>\n",
              "      <td>1</td>\n",
              "      <td>5</td>\n",
              "      <td>2</td>\n",
              "      <td>6</td>\n",
              "      <td>0</td>\n",
              "      <td>1</td>\n",
              "      <td>4</td>\n",
              "      <td>0</td>\n",
              "      <td>0</td>\n",
              "      <td>1</td>\n",
              "      <td>1</td>\n",
              "      <td>0</td>\n",
              "      <td>0</td>\n",
              "      <td>0</td>\n",
              "      <td>12</td>\n",
              "      <td>6</td>\n",
              "      <td>0</td>\n",
              "      <td>3</td>\n",
              "      <td>...</td>\n",
              "      <td>8.0</td>\n",
              "      <td>2.0</td>\n",
              "      <td>3.0</td>\n",
              "      <td>7.0</td>\n",
              "      <td>13.0</td>\n",
              "      <td>30.0</td>\n",
              "      <td>7.0</td>\n",
              "      <td>4.0</td>\n",
              "      <td>9.0</td>\n",
              "      <td>1.0</td>\n",
              "      <td>0.0</td>\n",
              "      <td>0.0</td>\n",
              "      <td>14.0</td>\n",
              "      <td>2.0</td>\n",
              "      <td>2.0</td>\n",
              "      <td>3.0</td>\n",
              "      <td>0.0</td>\n",
              "      <td>1.0</td>\n",
              "      <td>3.0</td>\n",
              "      <td>0.0</td>\n",
              "      <td>1.0</td>\n",
              "      <td>1.0</td>\n",
              "      <td>0.0</td>\n",
              "      <td>9.0</td>\n",
              "      <td>1.0</td>\n",
              "      <td>80.0</td>\n",
              "      <td>0.0</td>\n",
              "      <td>70.0</td>\n",
              "      <td>8.0</td>\n",
              "      <td>10.0</td>\n",
              "      <td>25.0</td>\n",
              "      <td>0.0</td>\n",
              "      <td>0.0</td>\n",
              "      <td>3.0</td>\n",
              "      <td>2.0</td>\n",
              "      <td>4.0</td>\n",
              "      <td>47.0</td>\n",
              "      <td>23.0</td>\n",
              "      <td>0.0</td>\n",
              "      <td>0.0</td>\n",
              "    </tr>\n",
              "    <tr>\n",
              "      <th>0610009L18Rik</th>\n",
              "      <td>75</td>\n",
              "      <td>1</td>\n",
              "      <td>1</td>\n",
              "      <td>1</td>\n",
              "      <td>0</td>\n",
              "      <td>0</td>\n",
              "      <td>3</td>\n",
              "      <td>1</td>\n",
              "      <td>1</td>\n",
              "      <td>10</td>\n",
              "      <td>3</td>\n",
              "      <td>1</td>\n",
              "      <td>2</td>\n",
              "      <td>2</td>\n",
              "      <td>3</td>\n",
              "      <td>0</td>\n",
              "      <td>0</td>\n",
              "      <td>0</td>\n",
              "      <td>3</td>\n",
              "      <td>1</td>\n",
              "      <td>1</td>\n",
              "      <td>69</td>\n",
              "      <td>1</td>\n",
              "      <td>7</td>\n",
              "      <td>7</td>\n",
              "      <td>14</td>\n",
              "      <td>1</td>\n",
              "      <td>0</td>\n",
              "      <td>8</td>\n",
              "      <td>0</td>\n",
              "      <td>2</td>\n",
              "      <td>4</td>\n",
              "      <td>10</td>\n",
              "      <td>1</td>\n",
              "      <td>0</td>\n",
              "      <td>1</td>\n",
              "      <td>8</td>\n",
              "      <td>1</td>\n",
              "      <td>3</td>\n",
              "      <td>1</td>\n",
              "      <td>...</td>\n",
              "      <td>3.0</td>\n",
              "      <td>13.0</td>\n",
              "      <td>5.0</td>\n",
              "      <td>9.0</td>\n",
              "      <td>31.0</td>\n",
              "      <td>33.0</td>\n",
              "      <td>11.0</td>\n",
              "      <td>5.0</td>\n",
              "      <td>5.0</td>\n",
              "      <td>1.0</td>\n",
              "      <td>6.0</td>\n",
              "      <td>2.0</td>\n",
              "      <td>21.0</td>\n",
              "      <td>2.0</td>\n",
              "      <td>6.0</td>\n",
              "      <td>2.0</td>\n",
              "      <td>2.0</td>\n",
              "      <td>2.0</td>\n",
              "      <td>7.0</td>\n",
              "      <td>1.0</td>\n",
              "      <td>7.0</td>\n",
              "      <td>3.0</td>\n",
              "      <td>5.0</td>\n",
              "      <td>7.0</td>\n",
              "      <td>2.0</td>\n",
              "      <td>24.0</td>\n",
              "      <td>0.0</td>\n",
              "      <td>14.0</td>\n",
              "      <td>6.0</td>\n",
              "      <td>67.0</td>\n",
              "      <td>42.0</td>\n",
              "      <td>1.0</td>\n",
              "      <td>2.0</td>\n",
              "      <td>2.0</td>\n",
              "      <td>3.0</td>\n",
              "      <td>88.0</td>\n",
              "      <td>412.0</td>\n",
              "      <td>23.0</td>\n",
              "      <td>28.0</td>\n",
              "      <td>4.0</td>\n",
              "    </tr>\n",
              "    <tr>\n",
              "      <th>...</th>\n",
              "      <td>...</td>\n",
              "      <td>...</td>\n",
              "      <td>...</td>\n",
              "      <td>...</td>\n",
              "      <td>...</td>\n",
              "      <td>...</td>\n",
              "      <td>...</td>\n",
              "      <td>...</td>\n",
              "      <td>...</td>\n",
              "      <td>...</td>\n",
              "      <td>...</td>\n",
              "      <td>...</td>\n",
              "      <td>...</td>\n",
              "      <td>...</td>\n",
              "      <td>...</td>\n",
              "      <td>...</td>\n",
              "      <td>...</td>\n",
              "      <td>...</td>\n",
              "      <td>...</td>\n",
              "      <td>...</td>\n",
              "      <td>...</td>\n",
              "      <td>...</td>\n",
              "      <td>...</td>\n",
              "      <td>...</td>\n",
              "      <td>...</td>\n",
              "      <td>...</td>\n",
              "      <td>...</td>\n",
              "      <td>...</td>\n",
              "      <td>...</td>\n",
              "      <td>...</td>\n",
              "      <td>...</td>\n",
              "      <td>...</td>\n",
              "      <td>...</td>\n",
              "      <td>...</td>\n",
              "      <td>...</td>\n",
              "      <td>...</td>\n",
              "      <td>...</td>\n",
              "      <td>...</td>\n",
              "      <td>...</td>\n",
              "      <td>...</td>\n",
              "      <td>...</td>\n",
              "      <td>...</td>\n",
              "      <td>...</td>\n",
              "      <td>...</td>\n",
              "      <td>...</td>\n",
              "      <td>...</td>\n",
              "      <td>...</td>\n",
              "      <td>...</td>\n",
              "      <td>...</td>\n",
              "      <td>...</td>\n",
              "      <td>...</td>\n",
              "      <td>...</td>\n",
              "      <td>...</td>\n",
              "      <td>...</td>\n",
              "      <td>...</td>\n",
              "      <td>...</td>\n",
              "      <td>...</td>\n",
              "      <td>...</td>\n",
              "      <td>...</td>\n",
              "      <td>...</td>\n",
              "      <td>...</td>\n",
              "      <td>...</td>\n",
              "      <td>...</td>\n",
              "      <td>...</td>\n",
              "      <td>...</td>\n",
              "      <td>...</td>\n",
              "      <td>...</td>\n",
              "      <td>...</td>\n",
              "      <td>...</td>\n",
              "      <td>...</td>\n",
              "      <td>...</td>\n",
              "      <td>...</td>\n",
              "      <td>...</td>\n",
              "      <td>...</td>\n",
              "      <td>...</td>\n",
              "      <td>...</td>\n",
              "      <td>...</td>\n",
              "      <td>...</td>\n",
              "      <td>...</td>\n",
              "      <td>...</td>\n",
              "      <td>...</td>\n",
              "    </tr>\n",
              "    <tr>\n",
              "      <th>Preb</th>\n",
              "      <td>557</td>\n",
              "      <td>4</td>\n",
              "      <td>4</td>\n",
              "      <td>8</td>\n",
              "      <td>0</td>\n",
              "      <td>3</td>\n",
              "      <td>3</td>\n",
              "      <td>1</td>\n",
              "      <td>0</td>\n",
              "      <td>27</td>\n",
              "      <td>30</td>\n",
              "      <td>11</td>\n",
              "      <td>6</td>\n",
              "      <td>2</td>\n",
              "      <td>4</td>\n",
              "      <td>8</td>\n",
              "      <td>3</td>\n",
              "      <td>1</td>\n",
              "      <td>22</td>\n",
              "      <td>7</td>\n",
              "      <td>1</td>\n",
              "      <td>246</td>\n",
              "      <td>3</td>\n",
              "      <td>13</td>\n",
              "      <td>5</td>\n",
              "      <td>88</td>\n",
              "      <td>47</td>\n",
              "      <td>18</td>\n",
              "      <td>61</td>\n",
              "      <td>13</td>\n",
              "      <td>20</td>\n",
              "      <td>30</td>\n",
              "      <td>30</td>\n",
              "      <td>27</td>\n",
              "      <td>11</td>\n",
              "      <td>11</td>\n",
              "      <td>34</td>\n",
              "      <td>20</td>\n",
              "      <td>16</td>\n",
              "      <td>10</td>\n",
              "      <td>...</td>\n",
              "      <td>21.0</td>\n",
              "      <td>36.0</td>\n",
              "      <td>11.0</td>\n",
              "      <td>103.0</td>\n",
              "      <td>760.0</td>\n",
              "      <td>812.0</td>\n",
              "      <td>243.0</td>\n",
              "      <td>123.0</td>\n",
              "      <td>165.0</td>\n",
              "      <td>18.0</td>\n",
              "      <td>126.0</td>\n",
              "      <td>50.0</td>\n",
              "      <td>432.0</td>\n",
              "      <td>36.0</td>\n",
              "      <td>34.0</td>\n",
              "      <td>32.0</td>\n",
              "      <td>10.0</td>\n",
              "      <td>28.0</td>\n",
              "      <td>67.0</td>\n",
              "      <td>32.0</td>\n",
              "      <td>24.0</td>\n",
              "      <td>25.0</td>\n",
              "      <td>41.0</td>\n",
              "      <td>91.0</td>\n",
              "      <td>25.0</td>\n",
              "      <td>135.0</td>\n",
              "      <td>2.0</td>\n",
              "      <td>181.0</td>\n",
              "      <td>52.0</td>\n",
              "      <td>22.0</td>\n",
              "      <td>22.0</td>\n",
              "      <td>9.0</td>\n",
              "      <td>7.0</td>\n",
              "      <td>9.0</td>\n",
              "      <td>9.0</td>\n",
              "      <td>150.0</td>\n",
              "      <td>1096.0</td>\n",
              "      <td>126.0</td>\n",
              "      <td>37.0</td>\n",
              "      <td>3.0</td>\n",
              "    </tr>\n",
              "    <tr>\n",
              "      <th>Prelid1</th>\n",
              "      <td>806</td>\n",
              "      <td>14</td>\n",
              "      <td>12</td>\n",
              "      <td>13</td>\n",
              "      <td>6</td>\n",
              "      <td>6</td>\n",
              "      <td>6</td>\n",
              "      <td>3</td>\n",
              "      <td>1</td>\n",
              "      <td>38</td>\n",
              "      <td>25</td>\n",
              "      <td>27</td>\n",
              "      <td>5</td>\n",
              "      <td>6</td>\n",
              "      <td>10</td>\n",
              "      <td>16</td>\n",
              "      <td>6</td>\n",
              "      <td>3</td>\n",
              "      <td>21</td>\n",
              "      <td>5</td>\n",
              "      <td>13</td>\n",
              "      <td>111</td>\n",
              "      <td>3</td>\n",
              "      <td>7</td>\n",
              "      <td>10</td>\n",
              "      <td>86</td>\n",
              "      <td>31</td>\n",
              "      <td>28</td>\n",
              "      <td>56</td>\n",
              "      <td>5</td>\n",
              "      <td>16</td>\n",
              "      <td>38</td>\n",
              "      <td>29</td>\n",
              "      <td>13</td>\n",
              "      <td>7</td>\n",
              "      <td>16</td>\n",
              "      <td>15</td>\n",
              "      <td>19</td>\n",
              "      <td>45</td>\n",
              "      <td>16</td>\n",
              "      <td>...</td>\n",
              "      <td>36.0</td>\n",
              "      <td>14.0</td>\n",
              "      <td>5.0</td>\n",
              "      <td>92.0</td>\n",
              "      <td>543.0</td>\n",
              "      <td>709.0</td>\n",
              "      <td>243.0</td>\n",
              "      <td>123.0</td>\n",
              "      <td>175.0</td>\n",
              "      <td>18.0</td>\n",
              "      <td>87.0</td>\n",
              "      <td>26.0</td>\n",
              "      <td>353.0</td>\n",
              "      <td>38.0</td>\n",
              "      <td>26.0</td>\n",
              "      <td>26.0</td>\n",
              "      <td>6.0</td>\n",
              "      <td>36.0</td>\n",
              "      <td>61.0</td>\n",
              "      <td>41.0</td>\n",
              "      <td>29.0</td>\n",
              "      <td>29.0</td>\n",
              "      <td>47.0</td>\n",
              "      <td>68.0</td>\n",
              "      <td>16.0</td>\n",
              "      <td>161.0</td>\n",
              "      <td>4.0</td>\n",
              "      <td>218.0</td>\n",
              "      <td>53.0</td>\n",
              "      <td>41.0</td>\n",
              "      <td>36.0</td>\n",
              "      <td>7.0</td>\n",
              "      <td>11.0</td>\n",
              "      <td>0.0</td>\n",
              "      <td>4.0</td>\n",
              "      <td>220.0</td>\n",
              "      <td>983.0</td>\n",
              "      <td>112.0</td>\n",
              "      <td>44.0</td>\n",
              "      <td>6.0</td>\n",
              "    </tr>\n",
              "    <tr>\n",
              "      <th>Prelid2</th>\n",
              "      <td>0</td>\n",
              "      <td>3</td>\n",
              "      <td>4</td>\n",
              "      <td>6</td>\n",
              "      <td>0</td>\n",
              "      <td>0</td>\n",
              "      <td>0</td>\n",
              "      <td>0</td>\n",
              "      <td>0</td>\n",
              "      <td>0</td>\n",
              "      <td>0</td>\n",
              "      <td>0</td>\n",
              "      <td>0</td>\n",
              "      <td>0</td>\n",
              "      <td>0</td>\n",
              "      <td>0</td>\n",
              "      <td>0</td>\n",
              "      <td>0</td>\n",
              "      <td>0</td>\n",
              "      <td>0</td>\n",
              "      <td>0</td>\n",
              "      <td>27</td>\n",
              "      <td>0</td>\n",
              "      <td>0</td>\n",
              "      <td>0</td>\n",
              "      <td>1</td>\n",
              "      <td>0</td>\n",
              "      <td>0</td>\n",
              "      <td>2</td>\n",
              "      <td>0</td>\n",
              "      <td>0</td>\n",
              "      <td>0</td>\n",
              "      <td>5</td>\n",
              "      <td>0</td>\n",
              "      <td>0</td>\n",
              "      <td>0</td>\n",
              "      <td>1</td>\n",
              "      <td>3</td>\n",
              "      <td>0</td>\n",
              "      <td>0</td>\n",
              "      <td>...</td>\n",
              "      <td>0.0</td>\n",
              "      <td>0.0</td>\n",
              "      <td>0.0</td>\n",
              "      <td>0.0</td>\n",
              "      <td>4.0</td>\n",
              "      <td>2.0</td>\n",
              "      <td>0.0</td>\n",
              "      <td>0.0</td>\n",
              "      <td>1.0</td>\n",
              "      <td>0.0</td>\n",
              "      <td>2.0</td>\n",
              "      <td>2.0</td>\n",
              "      <td>1.0</td>\n",
              "      <td>0.0</td>\n",
              "      <td>1.0</td>\n",
              "      <td>0.0</td>\n",
              "      <td>0.0</td>\n",
              "      <td>0.0</td>\n",
              "      <td>0.0</td>\n",
              "      <td>0.0</td>\n",
              "      <td>0.0</td>\n",
              "      <td>0.0</td>\n",
              "      <td>0.0</td>\n",
              "      <td>2.0</td>\n",
              "      <td>1.0</td>\n",
              "      <td>38.0</td>\n",
              "      <td>1.0</td>\n",
              "      <td>52.0</td>\n",
              "      <td>15.0</td>\n",
              "      <td>4.0</td>\n",
              "      <td>5.0</td>\n",
              "      <td>0.0</td>\n",
              "      <td>0.0</td>\n",
              "      <td>1.0</td>\n",
              "      <td>3.0</td>\n",
              "      <td>1.0</td>\n",
              "      <td>1.0</td>\n",
              "      <td>0.0</td>\n",
              "      <td>0.0</td>\n",
              "      <td>0.0</td>\n",
              "    </tr>\n",
              "    <tr>\n",
              "      <th>Prelp</th>\n",
              "      <td>1</td>\n",
              "      <td>0</td>\n",
              "      <td>0</td>\n",
              "      <td>0</td>\n",
              "      <td>17</td>\n",
              "      <td>18</td>\n",
              "      <td>16</td>\n",
              "      <td>4</td>\n",
              "      <td>6</td>\n",
              "      <td>0</td>\n",
              "      <td>0</td>\n",
              "      <td>0</td>\n",
              "      <td>0</td>\n",
              "      <td>0</td>\n",
              "      <td>0</td>\n",
              "      <td>0</td>\n",
              "      <td>0</td>\n",
              "      <td>1</td>\n",
              "      <td>2</td>\n",
              "      <td>0</td>\n",
              "      <td>0</td>\n",
              "      <td>11</td>\n",
              "      <td>4</td>\n",
              "      <td>17</td>\n",
              "      <td>39</td>\n",
              "      <td>0</td>\n",
              "      <td>2</td>\n",
              "      <td>1</td>\n",
              "      <td>1</td>\n",
              "      <td>0</td>\n",
              "      <td>0</td>\n",
              "      <td>0</td>\n",
              "      <td>0</td>\n",
              "      <td>0</td>\n",
              "      <td>0</td>\n",
              "      <td>0</td>\n",
              "      <td>0</td>\n",
              "      <td>0</td>\n",
              "      <td>0</td>\n",
              "      <td>0</td>\n",
              "      <td>...</td>\n",
              "      <td>0.0</td>\n",
              "      <td>0.0</td>\n",
              "      <td>0.0</td>\n",
              "      <td>0.0</td>\n",
              "      <td>0.0</td>\n",
              "      <td>0.0</td>\n",
              "      <td>3.0</td>\n",
              "      <td>2.0</td>\n",
              "      <td>0.0</td>\n",
              "      <td>0.0</td>\n",
              "      <td>1.0</td>\n",
              "      <td>1.0</td>\n",
              "      <td>2.0</td>\n",
              "      <td>0.0</td>\n",
              "      <td>0.0</td>\n",
              "      <td>0.0</td>\n",
              "      <td>0.0</td>\n",
              "      <td>0.0</td>\n",
              "      <td>0.0</td>\n",
              "      <td>0.0</td>\n",
              "      <td>0.0</td>\n",
              "      <td>0.0</td>\n",
              "      <td>0.0</td>\n",
              "      <td>0.0</td>\n",
              "      <td>0.0</td>\n",
              "      <td>9.0</td>\n",
              "      <td>0.0</td>\n",
              "      <td>0.0</td>\n",
              "      <td>3.0</td>\n",
              "      <td>98.0</td>\n",
              "      <td>103.0</td>\n",
              "      <td>164.0</td>\n",
              "      <td>78.0</td>\n",
              "      <td>0.0</td>\n",
              "      <td>1.0</td>\n",
              "      <td>0.0</td>\n",
              "      <td>4.0</td>\n",
              "      <td>1.0</td>\n",
              "      <td>1.0</td>\n",
              "      <td>0.0</td>\n",
              "    </tr>\n",
              "    <tr>\n",
              "      <th>Prep</th>\n",
              "      <td>72</td>\n",
              "      <td>1</td>\n",
              "      <td>1</td>\n",
              "      <td>4</td>\n",
              "      <td>0</td>\n",
              "      <td>0</td>\n",
              "      <td>2</td>\n",
              "      <td>1</td>\n",
              "      <td>0</td>\n",
              "      <td>5</td>\n",
              "      <td>11</td>\n",
              "      <td>6</td>\n",
              "      <td>4</td>\n",
              "      <td>0</td>\n",
              "      <td>1</td>\n",
              "      <td>5</td>\n",
              "      <td>1</td>\n",
              "      <td>0</td>\n",
              "      <td>4</td>\n",
              "      <td>2</td>\n",
              "      <td>1</td>\n",
              "      <td>22</td>\n",
              "      <td>0</td>\n",
              "      <td>2</td>\n",
              "      <td>0</td>\n",
              "      <td>16</td>\n",
              "      <td>7</td>\n",
              "      <td>2</td>\n",
              "      <td>10</td>\n",
              "      <td>3</td>\n",
              "      <td>4</td>\n",
              "      <td>4</td>\n",
              "      <td>11</td>\n",
              "      <td>1</td>\n",
              "      <td>1</td>\n",
              "      <td>3</td>\n",
              "      <td>8</td>\n",
              "      <td>7</td>\n",
              "      <td>3</td>\n",
              "      <td>1</td>\n",
              "      <td>...</td>\n",
              "      <td>NaN</td>\n",
              "      <td>NaN</td>\n",
              "      <td>NaN</td>\n",
              "      <td>NaN</td>\n",
              "      <td>NaN</td>\n",
              "      <td>NaN</td>\n",
              "      <td>NaN</td>\n",
              "      <td>NaN</td>\n",
              "      <td>NaN</td>\n",
              "      <td>NaN</td>\n",
              "      <td>NaN</td>\n",
              "      <td>NaN</td>\n",
              "      <td>NaN</td>\n",
              "      <td>NaN</td>\n",
              "      <td>NaN</td>\n",
              "      <td>NaN</td>\n",
              "      <td>NaN</td>\n",
              "      <td>NaN</td>\n",
              "      <td>NaN</td>\n",
              "      <td>NaN</td>\n",
              "      <td>NaN</td>\n",
              "      <td>NaN</td>\n",
              "      <td>NaN</td>\n",
              "      <td>NaN</td>\n",
              "      <td>NaN</td>\n",
              "      <td>NaN</td>\n",
              "      <td>NaN</td>\n",
              "      <td>NaN</td>\n",
              "      <td>NaN</td>\n",
              "      <td>NaN</td>\n",
              "      <td>NaN</td>\n",
              "      <td>NaN</td>\n",
              "      <td>NaN</td>\n",
              "      <td>NaN</td>\n",
              "      <td>NaN</td>\n",
              "      <td>NaN</td>\n",
              "      <td>NaN</td>\n",
              "      <td>NaN</td>\n",
              "      <td>NaN</td>\n",
              "      <td>NaN</td>\n",
              "    </tr>\n",
              "  </tbody>\n",
              "</table>\n",
              "<p>17406 rows × 565 columns</p>\n",
              "</div>"
            ],
            "text/plain": [
              "               CB_1-1  CB_10-1  CB_10-2  ...  TH_8-3  TH_8-4  TH_9-1\n",
              "0610005C13Rik      10        0        0  ...     0.0     0.0     0.0\n",
              "0610007P14Rik     871        7        9  ...   502.0   141.0     8.0\n",
              "0610009B22Rik     490        2        5  ...   250.0    59.0     9.0\n",
              "0610009E02Rik      17        5        6  ...    23.0     0.0     0.0\n",
              "0610009L18Rik      75        1        1  ...    23.0    28.0     4.0\n",
              "...               ...      ...      ...  ...     ...     ...     ...\n",
              "Preb              557        4        4  ...   126.0    37.0     3.0\n",
              "Prelid1           806       14       12  ...   112.0    44.0     6.0\n",
              "Prelid2             0        3        4  ...     0.0     0.0     0.0\n",
              "Prelp               1        0        0  ...     1.0     1.0     0.0\n",
              "Prep               72        1        1  ...     NaN     NaN     NaN\n",
              "\n",
              "[17406 rows x 565 columns]"
            ]
          },
          "metadata": {
            "tags": []
          },
          "execution_count": 37
        }
      ]
    },
    {
      "cell_type": "markdown",
      "metadata": {
        "id": "seM0HAE-7kjR"
      },
      "source": [
        "First, we should examine the dataset by eye. We notice that some values are NaN. This could lead to numerical issues down the road so right away we replace these NaN by 0."
      ]
    },
    {
      "cell_type": "code",
      "metadata": {
        "id": "OI6UKP9RSG47"
      },
      "source": [
        "sc_data_df=sc_data_df.fillna(0)"
      ],
      "execution_count": 56,
      "outputs": []
    },
    {
      "cell_type": "markdown",
      "metadata": {
        "id": "Hkoh0xv68GxF"
      },
      "source": [
        "Now we get the data as a numpy array"
      ]
    },
    {
      "cell_type": "code",
      "metadata": {
        "id": "xD1WlW-y8NP-"
      },
      "source": [
        "sc_data=sc_data_df.values"
      ],
      "execution_count": 92,
      "outputs": []
    },
    {
      "cell_type": "markdown",
      "metadata": {
        "id": "eXCp7Tky638D"
      },
      "source": [
        "*Note*: we could also have loaded this dataset directly as a numpy array, but this is a little more tedious because we need to deal with the row and column headers separately.\n"
      ]
    },
    {
      "cell_type": "code",
      "metadata": {
        "id": "j1QUdzRm63E0"
      },
      "source": [
        "sc_data_nopandas=np.loadtxt(\"./metacells.BrainCellAtlas_Saunders_version_2018.04.01.csv\", usecols=range(1,565), skiprows=1, delimiter=\",\", dtype=int)\n"
      ],
      "execution_count": null,
      "outputs": []
    },
    {
      "cell_type": "markdown",
      "metadata": {
        "id": "ph8XHRq8745v"
      },
      "source": [
        "Note that we had to skip the first row (column header), and the first column ( row header), so that all the values are of the same type. We could have obtained the number of columns (565) with "
      ]
    },
    {
      "cell_type": "code",
      "metadata": {
        "id": "Tt1-w2wgPkJB"
      },
      "source": [
        "with open(\"./metacells.BrainCellAtlas_Saunders_version_2018.04.01.csv\") as f:\n",
        "    ncols = len(f.readline().split(','))"
      ],
      "execution_count": 58,
      "outputs": []
    },
    {
      "cell_type": "markdown",
      "metadata": {
        "id": "iAQ4w2OU8zxk"
      },
      "source": [
        "## Preprocessing"
      ]
    },
    {
      "cell_type": "markdown",
      "metadata": {
        "id": "3sbwAMJN7PFl"
      },
      "source": [
        "Usually when we start with raw data, we need to do some preprocessing to get the data ready for analyisis. The removal of the NaN earlier was an example of preprocessing, also called data clean up. Other common preprocessing steps include filtering out features or observations and normalization. Here, let's imagine we are interested in looking only at the top 1000 most abundant genes.  "
      ]
    },
    {
      "cell_type": "markdown",
      "metadata": {
        "id": "QoCxaMuhPY_A"
      },
      "source": [
        "Let's define the abundance of a gene (also called expression level) as the sum of the mean expression across all cell types. \n",
        "\n"
      ]
    },
    {
      "cell_type": "code",
      "metadata": {
        "colab": {
          "base_uri": "https://localhost:8080/"
        },
        "id": "V7zd9JQ3PdJo",
        "outputId": "2d94e181-acd8-4a5b-a3bf-f3a861df1aa7"
      },
      "source": [
        "expr_total=sc_data.mean(axis=1)\n",
        "expr_total"
      ],
      "execution_count": 93,
      "outputs": [
        {
          "output_type": "execute_result",
          "data": {
            "text/plain": [
              "array([  0.66017699, 112.63539823,  73.48849558, ...,   2.18230088,\n",
              "        15.35044248,  18.40707965])"
            ]
          },
          "metadata": {
            "tags": []
          },
          "execution_count": 93
        }
      ]
    },
    {
      "cell_type": "markdown",
      "metadata": {
        "id": "OSmZucnE-dyL"
      },
      "source": [
        "To get the top 1000 genes, we can rank these"
      ]
    },
    {
      "cell_type": "code",
      "metadata": {
        "colab": {
          "base_uri": "https://localhost:8080/"
        },
        "id": "UHxVEyjVQVfg",
        "outputId": "de8878bf-8e7b-4c81-ee3c-a8d681dccd4d"
      },
      "source": [
        "rank_ix=np.argsort(expr_total) # rank_ix[i] contains the index of gene ranked i\n",
        "rank_ix # least abundant gene at position 11632, most abundance at position 17055"
      ],
      "execution_count": 100,
      "outputs": [
        {
          "output_type": "execute_result",
          "data": {
            "text/plain": [
              "array([11632,  9574,  9571, ...,  3372, 14214, 17055])"
            ]
          },
          "metadata": {
            "tags": []
          },
          "execution_count": 100
        }
      ]
    },
    {
      "cell_type": "markdown",
      "metadata": {
        "id": "Z3hzvFMX-8Id"
      },
      "source": [
        "We verify that the ranking gives us what we want: if we resort the gene expression using the ranking index, we should get the sorted expression values"
      ]
    },
    {
      "cell_type": "code",
      "metadata": {
        "colab": {
          "base_uri": "https://localhost:8080/"
        },
        "id": "oLG47O41Qb0A",
        "outputId": "d7f0a4c0-94f4-4e21-dcc2-e585c1deedac"
      },
      "source": [
        "expr_total[rank_ix]"
      ],
      "execution_count": 101,
      "outputs": [
        {
          "output_type": "execute_result",
          "data": {
            "text/plain": [
              "array([    0.        ,     0.        ,     0.        , ...,\n",
              "       12800.71327434, 21085.05486726, 25013.47433628])"
            ]
          },
          "metadata": {
            "tags": []
          },
          "execution_count": 101
        }
      ]
    },
    {
      "cell_type": "markdown",
      "metadata": {
        "id": "w1F7Gn6OAMBn"
      },
      "source": [
        "And we verify this is right by directly sorting the expression"
      ]
    },
    {
      "cell_type": "code",
      "metadata": {
        "colab": {
          "base_uri": "https://localhost:8080/"
        },
        "id": "P6rKMttZAP1u",
        "outputId": "4889f55c-348a-4af0-9873-9204a8aa1caf"
      },
      "source": [
        "expr_sorted=np.sort(expr_total)\n",
        "expr_sorted"
      ],
      "execution_count": 103,
      "outputs": [
        {
          "output_type": "execute_result",
          "data": {
            "text/plain": [
              "array([    0.        ,     0.        ,     0.        , ...,\n",
              "       12800.71327434, 21085.05486726, 25013.47433628])"
            ]
          },
          "metadata": {
            "tags": []
          },
          "execution_count": 103
        }
      ]
    },
    {
      "cell_type": "markdown",
      "metadata": {
        "id": "ttY_D-B8AgSr"
      },
      "source": [
        "**EXERCISE**: prove that `expr_total[rank_ix]` and `expr_sorted` contain the same values in the the same order"
      ]
    },
    {
      "cell_type": "code",
      "metadata": {
        "colab": {
          "base_uri": "https://localhost:8080/"
        },
        "id": "5lqCG9BoAZXA",
        "outputId": "09bdda47-775d-4453-814b-3007b1719741"
      },
      "source": [
        "np.all(expr_sorted==expr_total[rank_ix])"
      ],
      "execution_count": 104,
      "outputs": [
        {
          "output_type": "execute_result",
          "data": {
            "text/plain": [
              "True"
            ]
          },
          "metadata": {
            "tags": []
          },
          "execution_count": 104
        }
      ]
    },
    {
      "cell_type": "code",
      "metadata": {
        "colab": {
          "base_uri": "https://localhost:8080/"
        },
        "id": "PyTcgGMGAsId",
        "outputId": "3a37875f-fe61-4364-9ff5-e7209843ab9e"
      },
      "source": [
        "#alternative method\n",
        "np.sum(expr_sorted!=expr_total[rank_ix])"
      ],
      "execution_count": 105,
      "outputs": [
        {
          "output_type": "execute_result",
          "data": {
            "text/plain": [
              "0"
            ]
          },
          "metadata": {
            "tags": []
          },
          "execution_count": 105
        }
      ]
    },
    {
      "cell_type": "markdown",
      "metadata": {
        "id": "8OXq1wcy_PDf"
      },
      "source": [
        "This is good but we would want the top genes first rather than last"
      ]
    },
    {
      "cell_type": "code",
      "metadata": {
        "colab": {
          "base_uri": "https://localhost:8080/"
        },
        "id": "PTl1A_eP_YTH",
        "outputId": "780d6447-3c6b-416d-dcfb-3a4d1778a69c"
      },
      "source": [
        "rank_ix=np.argsort(-expr_total)\n",
        "expr_total[rank_ix]"
      ],
      "execution_count": 107,
      "outputs": [
        {
          "output_type": "execute_result",
          "data": {
            "text/plain": [
              "array([25013.47433628, 21085.05486726, 12800.71327434, ...,\n",
              "           0.        ,     0.        ,     0.        ])"
            ]
          },
          "metadata": {
            "tags": []
          },
          "execution_count": 107
        }
      ]
    },
    {
      "cell_type": "markdown",
      "metadata": {
        "id": "ILd0bS29SZtw"
      },
      "source": [
        "**Exercise**: how to get the names of these genes?"
      ]
    },
    {
      "cell_type": "code",
      "metadata": {
        "colab": {
          "base_uri": "https://localhost:8080/"
        },
        "id": "lM6qBkPc_KBm",
        "outputId": "cb4db59f-8f4a-423b-e607-fca581f164a6"
      },
      "source": [
        "sc_data_df.index[rank_ix]\n"
      ],
      "execution_count": 108,
      "outputs": [
        {
          "output_type": "execute_result",
          "data": {
            "text/plain": [
              "Index(['Plp1', 'Malat1', 'Calm1', 'Ppp3ca', 'Hsp90ab1', 'Meg3', 'Map1b',\n",
              "       'Atp2b1', 'Camk2n1', 'Fth1',\n",
              "       ...\n",
              "       'Mir466k', '2610303G11Rik', 'Ighv9-4', 'Gm25225', 'Igkv20-101-2',\n",
              "       'Igkv3-1', 'AC122844.1', 'Igkv4-74', 'Ighv2-4', 'Gm38276'],\n",
              "      dtype='object', length=17406)"
            ]
          },
          "metadata": {
            "tags": []
          },
          "execution_count": 108
        }
      ]
    },
    {
      "cell_type": "code",
      "metadata": {
        "id": "sPxzpzhxA9g5"
      },
      "source": [
        "### Improved  filtering"
      ],
      "execution_count": 112,
      "outputs": []
    },
    {
      "cell_type": "markdown",
      "metadata": {
        "id": "Um_4oLduBG9A"
      },
      "source": [
        "The mean expression may very well be dominated by one or a few samples if they are not normalized the same way. Let's check the total number of counts per sample"
      ]
    },
    {
      "cell_type": "code",
      "metadata": {
        "colab": {
          "base_uri": "https://localhost:8080/"
        },
        "id": "7zU01ABrBX5i",
        "outputId": "d54840e7-7a8b-43d8-f547-1a7ec8bb88d9"
      },
      "source": [
        "counts_per_sample=sc_data.sum(axis=0)\n",
        "counts_per_sample # by eyey, there is at least two order of magnitude differnece in the total counts per sample"
      ],
      "execution_count": 115,
      "outputs": [
        {
          "output_type": "execute_result",
          "data": {
            "text/plain": [
              "array([6.5183960e+06, 8.6448000e+04, 8.9093000e+04, 8.1934000e+04,\n",
              "       4.0023000e+04, 2.7440000e+04, 4.2408000e+04, 1.5304000e+04,\n",
              "       1.4740000e+04, 4.7635000e+05, 4.4173400e+05, 2.1362600e+05,\n",
              "       9.9757000e+04, 8.6048000e+04, 1.1721700e+05, 1.3376000e+05,\n",
              "       4.4147000e+04, 2.7955000e+04, 2.1182400e+05, 8.2410000e+04,\n",
              "       2.5673000e+04, 1.3616770e+06, 2.5307000e+04, 1.1583200e+05,\n",
              "       8.5585000e+04, 1.0553820e+06, 4.6348900e+05, 3.3937300e+05,\n",
              "       7.4885600e+05, 1.1910800e+05, 2.9668500e+05, 4.5901300e+05,\n",
              "       4.8403100e+05, 1.8953000e+05, 8.4977000e+04, 1.9401800e+05,\n",
              "       2.9371400e+05, 1.1789100e+05, 3.4181300e+05, 1.6230800e+05,\n",
              "       3.4798000e+05, 2.0161900e+05, 3.6484200e+05, 2.3593000e+04,\n",
              "       1.1788700e+05, 1.2875000e+04, 1.5437730e+06, 1.8482600e+05,\n",
              "       1.1506860e+06, 1.1472870e+06, 5.4680000e+04, 3.3232300e+05,\n",
              "       3.1545400e+05, 9.7345000e+04, 6.0906000e+04, 1.1886400e+05,\n",
              "       9.1421000e+04, 5.7356000e+04, 1.0281100e+05, 2.9454000e+04,\n",
              "       1.4160400e+05, 2.4049400e+05, 3.9608500e+05, 2.2101400e+05,\n",
              "       4.2050800e+05, 3.4687200e+05, 1.4733100e+05, 8.9290800e+05,\n",
              "       7.5889100e+05, 7.0110300e+05, 2.3805950e+06, 6.5193100e+05,\n",
              "       1.6975400e+05, 1.8037870e+06, 8.4681700e+05, 4.9966700e+05,\n",
              "       3.9647860e+06, 1.7524700e+06, 5.7906000e+05, 2.9134300e+05,\n",
              "       2.8739560e+06, 1.8661270e+06, 1.0555260e+06, 2.9539780e+06,\n",
              "       1.9316900e+05, 2.1471890e+06, 4.9141643e+07, 1.0325910e+06,\n",
              "       4.0528605e+07, 4.6898416e+07, 1.0471220e+06, 5.9420000e+03,\n",
              "       6.4993000e+05, 5.4338700e+05, 2.1187430e+06, 4.9963000e+04,\n",
              "       2.0198900e+05, 4.9274190e+06, 5.9922500e+05, 3.5739590e+06,\n",
              "       7.4056900e+05, 1.3967740e+06, 2.8495200e+05, 6.1795300e+05,\n",
              "       2.0463280e+06, 8.9294000e+05, 5.7260900e+05, 9.2508000e+04,\n",
              "       8.3296800e+05, 2.7773990e+06, 3.1430400e+05, 1.3557000e+05,\n",
              "       1.1039390e+06, 3.4955080e+06, 1.2430370e+06, 2.2564100e+05,\n",
              "       5.6043000e+04, 2.0284100e+05, 7.6189000e+04, 2.4336000e+05,\n",
              "       7.9892000e+04, 7.0710000e+03, 2.8430000e+03, 4.7503800e+05,\n",
              "       4.7584500e+05, 7.0329000e+05, 3.1060800e+05, 1.8640200e+05,\n",
              "       2.1005000e+04, 1.2859900e+05, 3.9938000e+04, 2.2864000e+04,\n",
              "       1.8659300e+05, 8.9053000e+04, 5.2923000e+04, 1.0359400e+05,\n",
              "       4.1232000e+04, 4.2615380e+06, 7.2027220e+06, 6.2904890e+06,\n",
              "       8.5560300e+05, 5.8025560e+06, 3.1641580e+06, 3.8552200e+05,\n",
              "       1.2926710e+06, 5.8826370e+06, 2.0045310e+06, 2.7645090e+06,\n",
              "       4.5267400e+05, 1.3917910e+06, 1.2014299e+07, 3.2232730e+06,\n",
              "       2.6595210e+06, 1.5165100e+05, 5.2315780e+06, 1.9894920e+06,\n",
              "       8.0013200e+05, 6.4448700e+05, 1.0590100e+06, 1.6894070e+06,\n",
              "       5.8534000e+05, 5.4219000e+04, 2.8112000e+04, 4.0658700e+05,\n",
              "       9.0783000e+05, 5.5606700e+05, 3.4906100e+05, 2.1233800e+05,\n",
              "       1.4200300e+05, 1.3468600e+05, 6.4812000e+04, 1.7103000e+05,\n",
              "       3.9339300e+05, 2.9092200e+05, 4.2420000e+04, 7.0057700e+05,\n",
              "       5.4252700e+05, 5.0595000e+04, 2.1297300e+05, 4.8993700e+05,\n",
              "       8.6428000e+04, 2.8844600e+06, 6.7284000e+04, 3.5173700e+05,\n",
              "       1.2377400e+05, 1.4705950e+06, 1.5996690e+06, 4.3069900e+05,\n",
              "       4.6010200e+05, 5.8466700e+05, 1.8710300e+05, 2.0569590e+06,\n",
              "       1.0224290e+06, 6.0268000e+05, 7.1444400e+05, 6.5862000e+04,\n",
              "       4.1063900e+05, 1.2003650e+06, 1.8464400e+05, 3.5019130e+06,\n",
              "       1.8696290e+06, 1.0940780e+06, 2.0337980e+06, 4.2983400e+05,\n",
              "       3.8935100e+05, 1.2545500e+05, 2.7842700e+05, 2.7720300e+05,\n",
              "       4.3876000e+04, 3.4950000e+04, 2.3702000e+04, 8.6617000e+04,\n",
              "       6.4968000e+04, 9.3480000e+03, 3.9222000e+04, 1.6010000e+04,\n",
              "       1.4069000e+04, 1.6852000e+04, 1.6654800e+05, 1.1032000e+05,\n",
              "       4.7219700e+05, 7.5272000e+04, 4.6279600e+05, 3.8582800e+05,\n",
              "       1.1174100e+05, 7.3869000e+04, 1.3736000e+05, 2.4368700e+05,\n",
              "       1.9462700e+05, 1.1876800e+05, 5.5163000e+04, 2.1705400e+05,\n",
              "       7.1149000e+04, 9.1628000e+04, 4.8032300e+05, 1.5470800e+05,\n",
              "       7.2983700e+06, 3.5631490e+06, 3.0332120e+06, 5.7064600e+05,\n",
              "       4.2985210e+06, 1.4366830e+06, 1.5256400e+05, 1.1480800e+05,\n",
              "       1.4875400e+05, 6.6318000e+04, 1.8751400e+05, 1.3194900e+05,\n",
              "       1.0402750e+06, 7.9591500e+05, 7.0443600e+05, 4.0711800e+05,\n",
              "       4.2137400e+05, 2.6454900e+05, 1.2650600e+06, 2.6589600e+05,\n",
              "       2.2471900e+05, 1.6949200e+05, 3.0881000e+04, 7.7196000e+04,\n",
              "       2.0021100e+05, 1.4633600e+05, 8.9773700e+05, 6.8991500e+05,\n",
              "       4.0494100e+05, 3.0522800e+05, 3.0086900e+05, 4.7181100e+05,\n",
              "       3.7871200e+05, 1.8300690e+06, 6.2664000e+04, 6.1583300e+05,\n",
              "       1.3560310e+06, 3.5850700e+05, 9.2761800e+05, 8.0010400e+05,\n",
              "       6.8170400e+05, 2.1054700e+05, 7.0168200e+05, 4.7600200e+05,\n",
              "       4.4170500e+05, 1.8520300e+05, 4.2921200e+05, 4.0729200e+05,\n",
              "       1.8600000e+04, 4.3130000e+03, 2.5275520e+06, 2.1552370e+06,\n",
              "       7.9878000e+04, 3.6299900e+05, 9.1659300e+05, 3.5847300e+05,\n",
              "       3.7900300e+05, 8.4721200e+05, 6.0574400e+05, 4.0485800e+05,\n",
              "       8.0460000e+04, 3.5321000e+04, 3.8270600e+05, 1.3775000e+04,\n",
              "       9.5233000e+04, 9.0317000e+04, 8.8515000e+04, 3.0462700e+05,\n",
              "       1.8148700e+05, 3.1990300e+05, 2.2062800e+05, 1.9723400e+05,\n",
              "       7.8311500e+05, 4.7303800e+05, 1.2270500e+05, 3.6573400e+05,\n",
              "       2.2039700e+05, 1.4093800e+05, 1.0474300e+05, 4.2946700e+05,\n",
              "       2.5265800e+05, 2.6792300e+05, 6.8615300e+05, 5.6753700e+05,\n",
              "       1.4655400e+05, 3.5928400e+05, 1.4273500e+05, 6.0114000e+04,\n",
              "       4.3080400e+05, 2.5200500e+05, 6.0153400e+05, 3.0047100e+05,\n",
              "       2.4659700e+05, 2.8117300e+05, 3.0206600e+05, 5.8321000e+04,\n",
              "       1.0227690e+06, 1.6903800e+05, 9.0215000e+04, 1.6407900e+05,\n",
              "       7.5873000e+04, 2.0416000e+04, 1.3621700e+05, 7.5776000e+04,\n",
              "       3.1665300e+05, 2.3816620e+06, 2.1907800e+05, 3.3964400e+05,\n",
              "       1.8542300e+05, 7.6596000e+04, 2.7198000e+04, 1.5013800e+05,\n",
              "       2.2436000e+04, 7.9660000e+04, 6.0802000e+04, 5.3926100e+05,\n",
              "       3.6201000e+05, 2.3132800e+05, 2.2724300e+05, 1.7282340e+06,\n",
              "       1.7576290e+06, 1.3273690e+06, 2.4297700e+05, 1.0221160e+06,\n",
              "       1.8578800e+05, 7.3530400e+05, 6.8161400e+05, 4.1819000e+04,\n",
              "       6.5876000e+04, 1.2866170e+06, 1.0003420e+06, 4.0648600e+05,\n",
              "       1.4783100e+05, 2.8399994e+07, 3.1262940e+06, 1.0163871e+07,\n",
              "       1.6435800e+05, 2.5875580e+06, 2.9492000e+05, 9.4308000e+04,\n",
              "       2.2078970e+06, 8.7261300e+05, 2.5672740e+06, 3.4092520e+06,\n",
              "       2.4974360e+06, 1.7719200e+05, 5.0099590e+06, 1.5190430e+06,\n",
              "       4.5150600e+05, 3.8622800e+05, 3.2063391e+07, 7.5393400e+05,\n",
              "       2.5873980e+06, 1.8080030e+06, 5.6518300e+05, 1.9505210e+06,\n",
              "       1.7194490e+06, 4.9194500e+05, 1.0188338e+07, 7.5321800e+05,\n",
              "       3.2037800e+05, 7.8158700e+05, 3.3500900e+05, 1.5210660e+06,\n",
              "       5.7498700e+05, 5.8024000e+04, 4.0428400e+05, 1.7867600e+05,\n",
              "       2.8530500e+05, 1.9769500e+05, 5.2164100e+05, 1.8875720e+06,\n",
              "       4.4942870e+06, 1.4169320e+06, 3.0671760e+07, 7.1811200e+05,\n",
              "       2.3940292e+07, 4.0131980e+06, 1.2152780e+06, 9.2883900e+05,\n",
              "       5.2282800e+05, 6.8562000e+04, 7.5010000e+03, 4.7957200e+05,\n",
              "       3.4225200e+05, 4.0143900e+05, 1.4281300e+05, 1.7861000e+04,\n",
              "       8.6272000e+04, 4.3144000e+04, 2.4570500e+05, 1.1991580e+06,\n",
              "       4.6583000e+04, 2.5560800e+05, 2.1125600e+05, 7.6701700e+05,\n",
              "       1.4026200e+05, 6.0540000e+04, 1.7064900e+05, 7.2293000e+04,\n",
              "       2.5346800e+05, 5.3753000e+04, 5.3256100e+05, 1.3325020e+06,\n",
              "       4.6951900e+05, 1.5455910e+06, 5.1705500e+05, 1.8988400e+05,\n",
              "       2.4035900e+05, 1.0862400e+05, 1.2019500e+05, 3.6370000e+04,\n",
              "       2.7905000e+04, 2.6568400e+05, 5.7361400e+05, 3.2917700e+05,\n",
              "       7.4710000e+04, 5.7441000e+04, 8.4268000e+04, 4.8153000e+04,\n",
              "       2.0781000e+04, 1.1416400e+05, 5.7558000e+04, 6.0441220e+06,\n",
              "       2.3150020e+06, 9.3252900e+05, 5.2294120e+06, 1.2259680e+06,\n",
              "       1.5944100e+05, 8.2784000e+05, 7.4983000e+04, 7.2014900e+05,\n",
              "       5.0649800e+05, 1.7757400e+05, 2.2990000e+04, 3.0975900e+05,\n",
              "       1.2995900e+05, 7.5048000e+04, 9.2380000e+04, 5.5733000e+04,\n",
              "       6.8540000e+03, 1.9730900e+05, 1.5676600e+05, 8.8438800e+05,\n",
              "       2.5750000e+05, 3.9867300e+05, 7.3990500e+05, 5.4042600e+05,\n",
              "       1.0328270e+06, 1.9054000e+05, 1.1947200e+05, 7.1791600e+05,\n",
              "       1.3338300e+05, 1.1954900e+05, 1.3599400e+06, 7.8214000e+04,\n",
              "       5.3332000e+04, 2.0890900e+05, 1.9075400e+05, 7.7388000e+04,\n",
              "       1.9728500e+05, 2.0548000e+05, 9.1053000e+04, 2.0729600e+05,\n",
              "       1.0940800e+05, 2.2390800e+05, 2.0791000e+04, 2.2463900e+05,\n",
              "       3.1630600e+05, 3.7855100e+05, 1.3021100e+05, 2.8524200e+05,\n",
              "       2.7554300e+05, 2.4546000e+04, 9.0363000e+04, 1.5833000e+05,\n",
              "       9.0692900e+05, 2.0540000e+04, 2.9653000e+04, 7.3051000e+04,\n",
              "       1.7412000e+04, 1.6477200e+05, 2.1788000e+05, 2.7357700e+05,\n",
              "       3.7479000e+04, 5.2239300e+05, 7.8202000e+04, 6.3010500e+05,\n",
              "       2.3096400e+05, 3.8734500e+05, 2.2580500e+05, 5.4947000e+04,\n",
              "       1.2219310e+06, 8.1956590e+06, 9.5552280e+06, 2.6096790e+06,\n",
              "       1.3478410e+06, 2.2415200e+06, 2.6880500e+05, 1.2953690e+06,\n",
              "       5.0237000e+05, 4.3126640e+06, 5.7630900e+05, 4.3317600e+05,\n",
              "       4.2079100e+05, 1.1736900e+05, 4.2479300e+05, 7.5016700e+05,\n",
              "       3.4978400e+05, 3.7704900e+05, 3.3625100e+05, 3.4899000e+05,\n",
              "       1.0534290e+06, 3.0661200e+05, 1.5047790e+06, 2.1818000e+04,\n",
              "       1.9329740e+06, 4.9740300e+05, 4.3329900e+05, 3.6431400e+05,\n",
              "       8.8749000e+04, 8.2477000e+04, 7.1256000e+04, 9.2370000e+04,\n",
              "       2.7808620e+06, 1.6012282e+07, 1.9582320e+06, 8.0361400e+05,\n",
              "       1.4441100e+05])"
            ]
          },
          "metadata": {
            "tags": []
          },
          "execution_count": 115
        }
      ]
    },
    {
      "cell_type": "markdown",
      "metadata": {
        "id": "FPkscJR5Bkt0"
      },
      "source": [
        "**EXERCISE** Normalize each column (sample) by the total number of counts for this column. This is called \"sequencing depth\" normalization"
      ]
    },
    {
      "cell_type": "code",
      "metadata": {
        "colab": {
          "base_uri": "https://localhost:8080/"
        },
        "id": "CZFqPdl2B33e",
        "outputId": "1a291986-e6b5-4e19-f6bd-4808d48425e7"
      },
      "source": [
        "sc_data_normalized=sc_data/counts_per_sample *1e6 #1e6 makes the numbers closer to 1\n",
        "sc_data_normalized"
      ],
      "execution_count": 127,
      "outputs": [
        {
          "output_type": "execute_result",
          "data": {
            "text/plain": [
              "array([[1.53411974e+00, 0.00000000e+00, 0.00000000e+00, ...,\n",
              "        0.00000000e+00, 0.00000000e+00, 0.00000000e+00],\n",
              "       [1.33621830e+02, 8.09735332e+01, 1.01018037e+02, ...,\n",
              "        2.56353690e+02, 1.75457371e+02, 5.53974420e+01],\n",
              "       [7.51718674e+01, 2.31352952e+01, 5.61211319e+01, ...,\n",
              "        1.27666181e+02, 7.34183327e+01, 6.23221223e+01],\n",
              "       ...,\n",
              "       [0.00000000e+00, 3.47029428e+01, 4.48969055e+01, ...,\n",
              "        0.00000000e+00, 0.00000000e+00, 0.00000000e+00],\n",
              "       [1.53411974e-01, 0.00000000e+00, 0.00000000e+00, ...,\n",
              "        5.10664722e-01, 1.24437852e+00, 0.00000000e+00],\n",
              "       [1.10456622e+01, 1.15676476e+01, 1.12242264e+01, ...,\n",
              "        0.00000000e+00, 0.00000000e+00, 0.00000000e+00]])"
            ]
          },
          "metadata": {
            "tags": []
          },
          "execution_count": 127
        }
      ]
    },
    {
      "cell_type": "markdown",
      "metadata": {
        "id": "lIB2_UTZCons"
      },
      "source": [
        "Now we can we can get the top 1000 genes after proper normalization. \n"
      ]
    },
    {
      "cell_type": "code",
      "metadata": {
        "id": "C9hgjO_KDCWo"
      },
      "source": [
        "expr_total_normalized=sc_data_normalized.mean(axis=1)\n",
        "rank_ix_good=np.argsort(-expr_total_normalized)\n"
      ],
      "execution_count": 118,
      "outputs": []
    },
    {
      "cell_type": "code",
      "metadata": {
        "colab": {
          "base_uri": "https://localhost:8080/"
        },
        "id": "v7z_A8ECDV6y",
        "outputId": "f0c50a19-0e7e-40d9-ab1d-c2a0d36afb17"
      },
      "source": [
        "# what are the genes\n",
        "sc_data_df.index[rank_ix_good]"
      ],
      "execution_count": 120,
      "outputs": [
        {
          "output_type": "execute_result",
          "data": {
            "text/plain": [
              "Index(['Malat1', 'Plp1', 'Meg3', 'Calm1', 'Hsp90ab1', 'Actb', 'Fth1', 'Map1b',\n",
              "       'Cst3', 'Gnas',\n",
              "       ...\n",
              "       'Olfr353', 'Olfr352', 'Olfr301', 'Olfr272', 'Olfr205', 'Gm10228',\n",
              "       'Olfr199', 'Gm24072', 'Olfr869', 'Gm15736'],\n",
              "      dtype='object', length=17406)"
            ]
          },
          "metadata": {
            "tags": []
          },
          "execution_count": 120
        }
      ]
    },
    {
      "cell_type": "code",
      "metadata": {
        "id": "9St2wn4TDZ5T"
      },
      "source": [
        "# Compare with the earlier result"
      ],
      "execution_count": 121,
      "outputs": []
    },
    {
      "cell_type": "code",
      "metadata": {
        "colab": {
          "base_uri": "https://localhost:8080/"
        },
        "id": "GOfKCm7IDkys",
        "outputId": "3c713f2b-6b1c-44b3-96aa-916091567b1c"
      },
      "source": [
        "sc_data_df.index[rank_ix]"
      ],
      "execution_count": 122,
      "outputs": [
        {
          "output_type": "execute_result",
          "data": {
            "text/plain": [
              "Index(['Plp1', 'Malat1', 'Calm1', 'Ppp3ca', 'Hsp90ab1', 'Meg3', 'Map1b',\n",
              "       'Atp2b1', 'Camk2n1', 'Fth1',\n",
              "       ...\n",
              "       'Mir466k', '2610303G11Rik', 'Ighv9-4', 'Gm25225', 'Igkv20-101-2',\n",
              "       'Igkv3-1', 'AC122844.1', 'Igkv4-74', 'Ighv2-4', 'Gm38276'],\n",
              "      dtype='object', length=17406)"
            ]
          },
          "metadata": {
            "tags": []
          },
          "execution_count": 122
        }
      ]
    },
    {
      "cell_type": "markdown",
      "metadata": {
        "id": "RBEIhjl9DoC8"
      },
      "source": [
        "Finally we are ready to extract a numpy array with the normalized expression of the top 1000 genes"
      ]
    },
    {
      "cell_type": "code",
      "metadata": {
        "colab": {
          "base_uri": "https://localhost:8080/"
        },
        "id": "ap_KtsWtD85_",
        "outputId": "4f78ca2c-adb5-4750-a353-d1135f8b77b9"
      },
      "source": [
        "sc_data_normalized_top1000=sc_data_normalized[rank_ix_good[0:1000],:]\n",
        "sc_data_normalized_top1000"
      ],
      "execution_count": 128,
      "outputs": [
        {
          "output_type": "execute_result",
          "data": {
            "text/plain": [
              "array([[1.08015837e+04, 7.03312974e+03, 5.35395598e+03, ...,\n",
              "        2.65193297e+04, 1.00296909e+04, 2.70062530e+03],\n",
              "       [1.51571031e+02, 9.25411808e+01, 7.85695846e+01, ...,\n",
              "        1.86520290e+05, 1.24654374e+05, 4.60214250e+04],\n",
              "       [1.69566255e+03, 2.31352952e+01, 7.85695846e+01, ...,\n",
              "        4.60108915e+02, 1.96611806e+02, 5.12426339e+02],\n",
              "       ...,\n",
              "       [3.51006597e+02, 2.77623542e+02, 1.45914943e+02, ...,\n",
              "        1.32772828e+02, 1.36881637e+02, 9.00208433e+01],\n",
              "       [4.62537103e+02, 5.78382380e+01, 1.01018037e+02, ...,\n",
              "        8.73236675e+01, 1.26926609e+02, 1.38493605e+02],\n",
              "       [1.99435567e+00, 3.22737368e+03, 3.17645606e+03, ...,\n",
              "        2.55332361e+00, 9.95502816e+00, 6.23221223e+01]])"
            ]
          },
          "metadata": {
            "tags": []
          },
          "execution_count": 128
        }
      ]
    },
    {
      "cell_type": "markdown",
      "metadata": {
        "id": "sHGBAiT3ES5x"
      },
      "source": [
        "# PCA"
      ]
    },
    {
      "cell_type": "code",
      "metadata": {
        "id": "4f6NsCTINvzY"
      },
      "source": [
        "from sklearn import decomposition\n",
        "from sklearn import preprocessing"
      ],
      "execution_count": 129,
      "outputs": []
    },
    {
      "cell_type": "code",
      "metadata": {
        "id": "6vCoycIvgJ0A"
      },
      "source": [
        "X=preprocessing.scale(sc_data.transpose())"
      ],
      "execution_count": 131,
      "outputs": []
    },
    {
      "cell_type": "code",
      "metadata": {
        "colab": {
          "base_uri": "https://localhost:8080/"
        },
        "id": "iFriYB3oNw84",
        "outputId": "c1ef2747-ddd0-4443-c96d-ad285c53050c"
      },
      "source": [
        "pca=decomposition.PCA(2)\n",
        "pca.fit(X)"
      ],
      "execution_count": 132,
      "outputs": [
        {
          "output_type": "execute_result",
          "data": {
            "text/plain": [
              "PCA(copy=True, iterated_power='auto', n_components=2, random_state=None,\n",
              "    svd_solver='auto', tol=0.0, whiten=False)"
            ]
          },
          "metadata": {
            "tags": []
          },
          "execution_count": 132
        }
      ]
    },
    {
      "cell_type": "code",
      "metadata": {
        "id": "PViPrTCKS1rE"
      },
      "source": [
        "X_transformed=pca.transform(X)"
      ],
      "execution_count": 133,
      "outputs": []
    },
    {
      "cell_type": "code",
      "metadata": {
        "colab": {
          "base_uri": "https://localhost:8080/"
        },
        "id": "No4BjVEsS7WF",
        "outputId": "1cbdd605-1d2b-4513-a071-a475be6bf59e"
      },
      "source": [
        "X_transformed.shape"
      ],
      "execution_count": 134,
      "outputs": [
        {
          "output_type": "execute_result",
          "data": {
            "text/plain": [
              "(565, 2)"
            ]
          },
          "metadata": {
            "tags": []
          },
          "execution_count": 134
        }
      ]
    },
    {
      "cell_type": "code",
      "metadata": {
        "id": "0Ue56xdpTN1Y"
      },
      "source": [
        "import matplotlib.pyplot as plt\n"
      ],
      "execution_count": 71,
      "outputs": []
    },
    {
      "cell_type": "code",
      "metadata": {
        "colab": {
          "base_uri": "https://localhost:8080/",
          "height": 282
        },
        "id": "EomVmMIRTG_M",
        "outputId": "694dc241-3eb9-4ea5-b37c-1447ea4f45dd"
      },
      "source": [
        "plt.scatter(X_transformed[:,0],X_transformed[:,1])"
      ],
      "execution_count": 135,
      "outputs": [
        {
          "output_type": "execute_result",
          "data": {
            "text/plain": [
              "<matplotlib.collections.PathCollection at 0x7f6c0a1080d0>"
            ]
          },
          "metadata": {
            "tags": []
          },
          "execution_count": 135
        },
        {
          "output_type": "display_data",
          "data": {
            "image/png": "[encoded data removed]",
            "text/plain": [
              "<Figure size 432x288 with 1 Axes>"
            ]
          },
          "metadata": {
            "tags": [],
            "needs_background": "light"
          }
        }
      ]
    }
  ]
}