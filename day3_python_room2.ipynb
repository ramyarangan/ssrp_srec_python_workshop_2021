{
  "nbformat": 4,
  "nbformat_minor": 0,
    "kernelspec": {
      "name": "python3",
      "display_name": "Python 3"
    },
    "language_info": {
      "name": "python"
    }
  },
  "cells": [
    {
      "cell_type": "markdown",
      "metadata": {
        "id": "view-in-github",
        "colab_type": "text"
      },
      "source": [
        "<a href=\"https://colab.research.google.com/github/ramyarangan/ssrp_srec_python_workshop_2021/blob/master/day3_python_room2.ipynb\" target=\"_parent\"><img src=\"https://colab.research.google.com/assets/colab-badge.svg\" alt=\"Open In Colab\"/></a>"
      ]
    },
    {
      "cell_type": "markdown",
      "metadata": {
        "id": "VlwuvT22_Mdi"
      },
      "source": [
        "# Day 3: Python Basics\n",
        "Date: June 16, 2021\n",
        "\n",
        "Room 2\n",
        "\n",
        "Schedule\n",
        "\n",
        "|Session #| Time | Instructor | Helper 1 | Helper 2|\n",
        "|-|-|-|-|-|\n",
        "|1| 10:30-11:30 | Roshni | Jeff | |\n",
        "|2| 11:45-12:45 | Jeff | Roshni | Rachel |\n",
        "|3| 1:30 - 2:30| Jeff | Roshni | Rachel |\n",
        "\n",
        "## Learning objectives\n",
        "*   Define program variables and access/edit their values\n",
        "*   Name the different data types available in python and perform conversions between them\n",
        "* Import Python Modules and Libraries as needed\n",
        "* Use loops to repeatedly run a piece of code\n",
        "* Use conditionals to control program flow and logic\n"
      ]
    },
    {
      "cell_type": "markdown",
      "metadata": {
        "id": "oYCZmFxkDK4g"
      },
      "source": [
        "## Session 1:\n",
        "1. Welcome to Colab!! \n",
        "2. Variables \n",
        "3. Data types"
      ]
    },
    {
      "cell_type": "markdown",
      "metadata": {
        "id": "0Fn7rD29DiIG"
      },
      "source": [
        "## Session 2:\n",
        "1. python functions\n",
        "2. help\n",
        "3. libraries"
      ]
    },
    {
      "cell_type": "markdown",
      "metadata": {
        "id": "i9cF8QlxDpqc"
      },
      "source": [
        "## Session 3:\n",
        "1. Lists\n",
        "2. Loops\n",
        "3. Conditionals"
      ]
    }
  ]
}
