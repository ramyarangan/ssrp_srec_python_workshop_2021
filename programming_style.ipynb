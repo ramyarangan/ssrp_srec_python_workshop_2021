{
  "nbformat": 4,
  "nbformat_minor": 0,
  "metadata": {
    "kernelspec": {
      "display_name": "Python 3",
      "language": "python",
      "name": "python3"
    },
    "language_info": {
      "codemirror_mode": {
        "name": "ipython",
        "version": 3
      },
      "file_extension": ".py",
      "mimetype": "text/x-python",
      "name": "python",
      "nbconvert_exporter": "python",
      "pygments_lexer": "ipython3",
      "version": "3.7.1"
    },
    "colab": {
      "name": "PythonDay5_Session3.ipynb",
      "provenance": [],
      "collapsed_sections": [
        "ckSGgME15pKh"
      ]
    }
  },
  "cells": [
    {
      "cell_type": "markdown",
      "metadata": {
        "id": "ckSGgME15pKh"
      },
      "source": [
        "# Why do we care about programming style?\n",
        "Always assume that your code will be reused, even if you think it's for a one-off task. \n",
        "\n",
        "You want to make it easy for others to use and understand (including your future self who won't remember what you did!)"
      ]
    },
    {
      "cell_type": "markdown",
      "metadata": {
        "id": "tWu-GZ8oylgJ"
      },
      "source": [
        "# Comments & docstrings"
      ]
    },
    {
      "cell_type": "markdown",
      "metadata": {
        "id": "3YoyMzLqtTNT"
      },
      "source": [
        "You've seen that we can comment code with hashtags to define variables, explain logic, etc.\n"
      ]
    },
    {
      "cell_type": "code",
      "metadata": {
        "colab": {
          "base_uri": "https://localhost:8080/"
        },
        "id": "-hoOUdiHtXYZ",
        "outputId": "81ae474b-2c31-49aa-a23a-aa4842cd68b9"
      },
      "source": [
        "# Count number of codons in DNA string\n",
        "DNA = \"ACTGTCACTCTGTCAAACTCT\"\n",
        "num = len(DNA) / 3\n",
        "print(num)\n",
        "\n",
        "if not num.is_integer(): # Check if DNA is a multiple of 3\n",
        "    print(\"Something went wrong\")"
      ],
      "execution_count": 30,
      "outputs": [
        {
          "output_type": "stream",
          "text": [
            "2.6666666666666665\n",
            "Something went wrong\n"
          ],
          "name": "stdout"
        }
      ]
    },
    {
      "cell_type": "markdown",
      "metadata": {
        "id": "peGGas2RBBlr"
      },
      "source": [
        "Comments are really useful, except when they're not. Nobody likes an uninformative comment! They just clutter up your code."
      ]
    },
    {
      "cell_type": "code",
      "metadata": {
        "id": "QNgsjXesBEQ-"
      },
      "source": [
        "x = 5\n",
        "y = 7\n",
        "\n",
        "# Add x and y\n",
        "x + y"
      ],
      "execution_count": null,
      "outputs": []
    },
    {
      "cell_type": "markdown",
      "metadata": {
        "id": "2T7ws6dF7JCm"
      },
      "source": [
        "Comments can also help you sketch out pseudocode/overall logic of your code."
      ]
    },
    {
      "cell_type": "code",
      "metadata": {
        "id": "iX7Jzp8r7Ufm"
      },
      "source": [
        "if num == 0:\n",
        "  # Print an error message because the string is empty\n",
        "else:\n",
        "  # Do the other analysis we want to do"
      ],
      "execution_count": null,
      "outputs": []
    },
    {
      "cell_type": "markdown",
      "metadata": {
        "id": "vRY7JnhruPB1"
      },
      "source": [
        "We can also use docstrings (portmanteau of documentation strings) for functions.\n",
        "\n",
        "Docstrings are (potentially) multi-line strings encased in triple quotes and located at the start of a function."
      ]
    },
    {
      "cell_type": "code",
      "metadata": {
        "colab": {
          "base_uri": "https://localhost:8080/"
        },
        "id": "d-smPPuGuYVA",
        "outputId": "075d07dd-ddca-419a-e73a-18a207e4f59a"
      },
      "source": [
        "def count(my_DNA):\n",
        "  \"\"\"Counts number of codons in my_DNA.\"\"\"\n",
        "  n = len(my_DNA) / 3\n",
        "  return(n)\n",
        "\n",
        "count(DNA)"
      ],
      "execution_count": 8,
      "outputs": [
        {
          "output_type": "execute_result",
          "data": {
            "text/plain": [
              "3.0"
            ]
          },
          "metadata": {
            "tags": []
          },
          "execution_count": 8
        }
      ]
    },
    {
      "cell_type": "markdown",
      "metadata": {
        "id": "OZL-Pcgtuv_S"
      },
      "source": [
        "The nice thing about docstrings is that you can fetch the docstring of an unknown function with the built-in *help* command."
      ]
    },
    {
      "cell_type": "code",
      "metadata": {
        "colab": {
          "base_uri": "https://localhost:8080/"
        },
        "id": "QFWXENp8u8Sy",
        "outputId": "3aa511e5-49e4-4269-a450-51a916eac3aa"
      },
      "source": [
        "help(count)"
      ],
      "execution_count": 10,
      "outputs": [
        {
          "output_type": "stream",
          "text": [
            "Help on function count in module __main__:\n",
            "\n",
            "count(my_DNA)\n",
            "    Counts number of codons in DNA.\n",
            "\n"
          ],
          "name": "stdout"
        }
      ]
    },
    {
      "cell_type": "markdown",
      "metadata": {
        "id": "lpW-YggRyLqf"
      },
      "source": [
        "# Variable conventions\n",
        "Variable and function names should be descriptive."
      ]
    },
    {
      "cell_type": "code",
      "metadata": {
        "id": "YjeAewZwyPZv"
      },
      "source": [
        "# A better-named function\n",
        "def count_codons(my_DNA):\n",
        "  \"\"\"Counts number of codons in my_DNA.\"\"\"\n",
        "  num_codons = len(my_DNA) / 3\n",
        "  return(num_codons)"
      ],
      "execution_count": 33,
      "outputs": []
    },
    {
      "cell_type": "markdown",
      "metadata": {
        "id": "TSVKc7Jmz47l"
      },
      "source": [
        "This goes without saying, but names should *not* be confusing. A good way to avoid confusion is to use different variable names in a function than in a global environment."
      ]
    },
    {
      "cell_type": "code",
      "metadata": {
        "colab": {
          "base_uri": "https://localhost:8080/"
        },
        "id": "xD9pSisIz9wA",
        "outputId": "6e379425-5df2-423f-9791-f135a4cfa040"
      },
      "source": [
        "n = 10\n",
        "\n",
        "def add_ten(n): \n",
        "  return(n + 10)\n",
        "\n",
        "add_ten(5)"
      ],
      "execution_count": 12,
      "outputs": [
        {
          "output_type": "execute_result",
          "data": {
            "text/plain": [
              "15"
            ]
          },
          "metadata": {
            "tags": []
          },
          "execution_count": 12
        }
      ]
    },
    {
      "cell_type": "markdown",
      "metadata": {
        "id": "0JqTRQwxyu9X"
      },
      "source": [
        "There are different styles of variable names, and preference differs by programming language."
      ]
    },
    {
      "cell_type": "code",
      "metadata": {
        "colab": {
          "base_uri": "https://localhost:8080/"
        },
        "id": "d7WiWxbAzYub",
        "outputId": "be19f0cc-437a-4716-c37a-9e995995415a"
      },
      "source": [
        "# In Python, snake_case is common\n",
        "first_name = \"Roshni\"\n",
        "last_name = \"Patel\"\n",
        "\n",
        "# In other languages (e.g. Java) and for certain use cases in Python, \n",
        "# people really like camelCase\n",
        "firstName = \"Ramya\"\n",
        "lastName = \"Rangan\"\n",
        "\n",
        "# It doesn't really matter what you use, just don't use both together \n",
        "first_name != firstName"
      ],
      "execution_count": 25,
      "outputs": [
        {
          "output_type": "execute_result",
          "data": {
            "text/plain": [
              "True"
            ]
          },
          "metadata": {
            "tags": []
          },
          "execution_count": 25
        }
      ]
    },
    {
      "cell_type": "markdown",
      "metadata": {
        "id": "mxRocqhEAWYd"
      },
      "source": [
        "If you use a quantity multiple times, save it as a variable. (Conversely, if you don't use something, don't create a variable for it!)"
      ]
    },
    {
      "cell_type": "code",
      "metadata": {
        "colab": {
          "base_uri": "https://localhost:8080/"
        },
        "id": "t6_4bqdoAjZ5",
        "outputId": "9fedf3cf-528b-44b3-91ff-a4ea0939d3ae"
      },
      "source": [
        "# Let's say I counted the number of codons present\n",
        "count_codons(DNA)"
      ],
      "execution_count": 35,
      "outputs": [
        {
          "output_type": "execute_result",
          "data": {
            "text/plain": [
              "12.666666666666666"
            ]
          },
          "metadata": {
            "tags": []
          },
          "execution_count": 35
        }
      ]
    },
    {
      "cell_type": "code",
      "metadata": {
        "id": "EfumcY8CAxAF"
      },
      "source": [
        "# And now I want to add 10 to that number\n",
        "add_ten(count_codons(DNA))"
      ],
      "execution_count": null,
      "outputs": []
    },
    {
      "cell_type": "code",
      "metadata": {
        "id": "vrLGYzqaA0Bx"
      },
      "source": [
        "# It would be much better to save the initial value\n",
        "num_codons = count_codons(DNA)\n",
        "add_ten(num_codons)"
      ],
      "execution_count": null,
      "outputs": []
    },
    {
      "cell_type": "markdown",
      "metadata": {
        "id": "XtaRzFAP0n4q"
      },
      "source": [
        "# Writing modular code\n",
        "* Any tasks within your code that are performed more than once should go inside a function\n",
        "* That being said, each function should perform a specific task -- not 20 different tasks\n",
        "* You can write helper functions (or functions within functions) to increase the modularity of your code"
      ]
    },
    {
      "cell_type": "code",
      "metadata": {
        "id": "kMZ3NKhI2Peo"
      },
      "source": [
        "def GC_proportion(my_DNA):\n",
        "  num_GC = 0\n",
        "  for base in my_DNA:\n",
        "    if base == 'C' or base == 'G':\n",
        "      num_GC += 1\n",
        "  prop_GC = num_GC / len(my_DNA)\n",
        "  return(prop_GC)"
      ],
      "execution_count": 21,
      "outputs": []
    },
    {
      "cell_type": "code",
      "metadata": {
        "colab": {
          "base_uri": "https://localhost:8080/"
        },
        "id": "5FSskwlb3WBz",
        "outputId": "b8928b91-3c6e-42d8-f932-ce2b55f29de4"
      },
      "source": [
        "GC_proportion(\"ACTGTGTCGCTAGC\")"
      ],
      "execution_count": 22,
      "outputs": [
        {
          "output_type": "execute_result",
          "data": {
            "text/plain": [
              "0.5714285714285714"
            ]
          },
          "metadata": {
            "tags": []
          },
          "execution_count": 22
        }
      ]
    },
    {
      "cell_type": "code",
      "metadata": {
        "colab": {
          "base_uri": "https://localhost:8080/"
        },
        "id": "naKuEjfm3XIQ",
        "outputId": "f1bb1b4e-c1fd-47a8-a762-db4e6460ed40"
      },
      "source": [
        "GC_proportion(\"CGCCGGGCCCGCGC\")"
      ],
      "execution_count": 23,
      "outputs": [
        {
          "output_type": "execute_result",
          "data": {
            "text/plain": [
              "1.0"
            ]
          },
          "metadata": {
            "tags": []
          },
          "execution_count": 23
        }
      ]
    },
    {
      "cell_type": "code",
      "metadata": {
        "id": "nuKtOmXT3igX"
      },
      "source": [
        "# Example of how to use helper functions\n",
        "def GC_proportion(my_DNA):\n",
        "  def is_GC(letter):\n",
        "    if letter == 'C' or letter == 'G':\n",
        "      return(True)\n",
        "    else:\n",
        "      return(False)\n",
        "\n",
        "  num_GC = 0  \n",
        "\n",
        "  for base in my_DNA:\n",
        "    if is_GC(base):\n",
        "      num_GC += 1\n",
        "\n",
        "  prop_GC = num_GC / len(my_DNA)\n",
        "  return(prop_GC)"
      ],
      "execution_count": 24,
      "outputs": []
    },
    {
      "cell_type": "markdown",
      "metadata": {
        "id": "sjvOvDCN4-8S"
      },
      "source": [
        "# Where is this all coming from, anyway?\n",
        "PEP8 is the name of a Python style guide, and they have lots of opinions about various conventions. So far we covered:\n",
        "* Comments and docstrings to document your code and thought process\n",
        "* Descriptive variable and function names\n",
        "* Modular code\n",
        "\n",
        "Other important things:\n",
        "* Lines that are not too long (under 80 characters)\n",
        "* Proper indentation\n",
        "* Whitespace between functions, but not excessively"
      ]
    },
    {
      "cell_type": "markdown",
      "metadata": {
        "id": "X0FaO4zc9T8F"
      },
      "source": [
        "# Style exercise\n",
        "What is the code below doing? What can you change to make it more readable and user-friendly?"
      ]
    },
    {
      "cell_type": "code",
      "metadata": {
        "id": "5bzndjDx99G-"
      },
      "source": [
        "new_s = \"\"\n",
        "for x in s:\n",
        "  a = x\n",
        "  if x==\"A\": # First we are going to check if x is a part of s and if it is we will update new_s\n",
        "    new_s+=\"T\"\n",
        "  elif x==\"T\": # Next we check if x is equal to T\n",
        "    new_s+=\"A\"\n",
        "  elif x==\"G\": # Next we check if x is equal to G\n",
        "    new_s+=\"C\"\n",
        "  else: # At the end we assume that if x is not equal to A, T, or G, then it is equal to C\n",
        "    new_s+=\"G\"\n",
        "  x = \"T\"\n",
        "print(new_s)"
      ],
      "execution_count": null,
      "outputs": []
    },
    {
      "cell_type": "code",
      "metadata": {
        "colab": {
          "base_uri": "https://localhost:8080/"
        },
        "id": "f5j7huse_LkP",
        "outputId": "433cc714-1100-4ce3-c60b-309c9c2c4eba"
      },
      "source": [
        "num_A = 0\n",
        "\n",
        "num_T = 0\n",
        "\n",
        "num_C = 0\n",
        "\n",
        "num_G = 0\n",
        "\n",
        "for base in DNA:\n",
        "  if base == \"A\":\n",
        "    num_A += 1\n",
        "\n",
        "\n",
        "  if base == \"C\":\n",
        "    num_C += 1 \n",
        "\n",
        "\n",
        "  if base == \"T\":\n",
        "    num_T += 1\n",
        "\n",
        "    \n",
        "  if base == \"G\":\n",
        "    num_G += 1\n",
        "\n",
        "prop_A = num_A / len(DNA)\n",
        "\n",
        "prop_C = num_C / len(DNA)\n",
        "\n",
        "prop_T = num_T / len(DNA)\n",
        "\n",
        "prop_G = num_G / len(DNA)\n",
        "\n",
        "print(\"our string is \", prop_A, \"adenine,\", prop_T, \"thymine,\", prop_C, \"cytosine, and\", prop_G, \"guanine.\")"
      ],
      "execution_count": 36,
      "outputs": [
        {
          "output_type": "stream",
          "text": [
            "our string is  0.25 adenine, 0.25 thymine, 0.375 cytosine, and 0.125 guanine.\n"
          ],
          "name": "stdout"
        }
      ]
    }
  ]
}